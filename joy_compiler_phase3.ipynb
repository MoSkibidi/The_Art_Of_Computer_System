{
  "nbformat": 4,
  "nbformat_minor": 0,
  "metadata": {
    "colab": {
      "provenance": [],
      "toc_visible": true,
      "include_colab_link": true
    },
    "kernelspec": {
      "name": "python3",
      "display_name": "Python 3"
    }
  },
  "cells": [
    {
      "cell_type": "markdown",
      "metadata": {
        "id": "view-in-github",
        "colab_type": "text"
      },
      "source": [
        "<a href=\"https://colab.research.google.com/github/MoSkibidi/The_Art_Of_Computer_System/blob/main/joy_compiler_phase3.ipynb\" target=\"_parent\"><img src=\"https://colab.research.google.com/assets/colab-badge.svg\" alt=\"Open In Colab\"/></a>"
      ]
    },
    {
      "cell_type": "markdown",
      "metadata": {
        "id": "n0vFDjCy3btl"
      },
      "source": [
        "# การพัฒนา Joy Compiler (เฟส 3)\n",
        "\n",
        "ในเฟสที่สามนี้ เราจะพัฒนา Joy 2.0 โดยต่อยอดจาก Joy 1.0 เพื่อให้มีฟีเจอร์เพิ่มเติมดังนี้\n",
        "* รองรับคอมเม้นต์แบบบรรทัดเดียว\n",
        "* รองรับ literal integer ในรูปเลขฐานสอง (เช่น `0b101101`) และฐานสิบหก (เช่น `0x3f58`)\n",
        "* รองรับ character literal เช่น `'a'`, `'x'`\n",
        "* รองรับการอ้างถึงหน่วยความจำในรูปพอยเตอร์ เพื่อนำไปใช้งานกับสตริง อาร์เรย์ และอินพุทเอาท์พุทในรูปแบบ memory-mapped I/O\n",
        "* รองรับการสร้างสตริง และอาร์เรย์\n"
      ]
    },
    {
      "cell_type": "markdown",
      "metadata": {
        "id": "XVeBtS_xpcVW"
      },
      "source": [
        "# ดึงโค้ดจาก Joy 1.0\n",
        "\n",
        "เหมือนที่ผ่านมา เราจะดึงโค้ดจาก Joy 1.0 เพื่อมาต่อยอดเป็น Joy 2.0 ให้ป้อน file id ของ colab notebook ที่ใช้ในงาน Joy 1.0 (Joy compiler - phase 2) ด้านล่าง และรันเซลล์ที่เหลือเพื่อดาวน์โหลดและอิมพอร์ต Joy 1.0 มาใช้ในโน้ตบุ๊คนี้"
      ]
    },
    {
      "cell_type": "code",
      "metadata": {
        "id": "WPZyODuDG9W-"
      },
      "source": [
        "JOY10_COLAB_FILE_ID = '1e70K1knqm1FZcOYVaaBPqKZ7VDV_n8UP'"
      ],
      "execution_count": null,
      "outputs": []
    },
    {
      "cell_type": "code",
      "metadata": {
        "id": "y9XWo4EpbAR8"
      },
      "source": [
        "%%capture\n",
        "!pip install PyDrive\n",
        "!wget -q https://ecourse.cpe.ku.ac.th/courses/comsys/lib/comsys_import_ipynb.py"
      ],
      "execution_count": null,
      "outputs": []
    },
    {
      "cell_type": "code",
      "metadata": {
        "id": "WuWCdMMyDWdZ"
      },
      "source": [
        "from pydrive2.auth import GoogleAuth\n",
        "from pydrive2.drive import GoogleDrive\n",
        "from google.colab import auth\n",
        "from oauth2client.client import GoogleCredentials\n",
        "\n",
        "auth.authenticate_user()\n",
        "gauth = GoogleAuth()\n",
        "gauth.credentials = GoogleCredentials.get_application_default()\n",
        "drive = GoogleDrive(gauth)\n",
        "\n",
        "downloaded = drive.CreateFile({'id': JOY10_COLAB_FILE_ID})\n",
        "downloaded.GetContentFile('joy10.ipynb')"
      ],
      "execution_count": null,
      "outputs": []
    },
    {
      "cell_type": "markdown",
      "source": [
        "ขั้นตอนด้านล่างอาจใช้เวลาค่อนข้างนาน เนื่องจากการอิมพอร์ท joy10 ทำให้เกิดการอิมพอร์ท joy05 ที่ทำมาก่อนหน้านั้นด้วย"
      ],
      "metadata": {
        "id": "LEA7bGHyo4R2"
      }
    },
    {
      "cell_type": "code",
      "metadata": {
        "id": "NIl1gYwMbyap"
      },
      "source": [
        "%%capture\n",
        "import comsys_import_ipynb\n",
        "from joy10 import (\n",
        "    draw, listing, assemble, simulate, assemble_and_simulate,\n",
        "    Joy07, Joy10, TestJoy07, TestJoy10, run_test)"
      ],
      "execution_count": null,
      "outputs": []
    },
    {
      "cell_type": "markdown",
      "source": [
        "รันตัวทดสอบโค้ดของ Joy 1.0 เพื่อให้แน่ใจว่าอิมพอร์ตโค้ดเดิมมาอย่างถูกต้อง"
      ],
      "metadata": {
        "id": "1b9urOjHQ1lE"
      }
    },
    {
      "cell_type": "code",
      "source": [
        "run_test(TestJoy10)"
      ],
      "metadata": {
        "id": "s_aLl4x7Q-sv",
        "colab": {
          "base_uri": "https://localhost:8080/"
        },
        "outputId": "3e600794-ff3a-4ffc-b5ec-5eab2569764e"
      },
      "execution_count": null,
      "outputs": [
        {
          "output_type": "stream",
          "name": "stderr",
          "text": [
            "..........................\n",
            "----------------------------------------------------------------------\n",
            "Ran 26 tests in 3.660s\n",
            "\n",
            "OK\n"
          ]
        }
      ]
    },
    {
      "cell_type": "markdown",
      "metadata": {
        "id": "TYqvXX-GZQ3h"
      },
      "source": [
        "# Joy 1.1 - comments\n",
        "ภาษา Joy 1.1 รองรับทุกฟีเจอร์ของ Joy 1.0 โดยเพิ่มฟีเจอร์ดังนี้\n",
        "\n",
        "---\n",
        "* รองรับโค้ดคอมเม้นต์แบบบรรทัดเดียวในรูป `//`\n",
        "---\n",
        "\n",
        "โค้ดคอมเม้นต์ถูกประมวลผลตั้งแต่ขั้นตอน lexer ดังนั้นให้นิยามเทอร์มินัล COMMENT และสั่ง ignore โดยคัดลอกแกรมมาร์จากคลาส Joy10 มาวางไว้ในคลาส Joy11 ด้านล่าง แล้วเพิ่มสองบรรทัดต่อไปนี้ลงไป\n",
        "\n",
        "```\n",
        "    COMMENT: \"//\" /[^\\r\\n]*[\\r\\n]?/\n",
        "    %ignore COMMENT\n",
        "```\n",
        "\n",
        "เนื่องจากโทเค็นคอมเม้นต์ไม่ถูกส่งต่อมายังพาร์เซอร์ จึงไม่จำเป็นต้องแก้ไขส่วนของโค้ดเจเนอเรชันใด ๆ"
      ]
    },
    {
      "cell_type": "code",
      "metadata": {
        "id": "bVZKzF9iZYmS"
      },
      "source": [
        "# DO NOT ERASE THIS CELL - to be graded\n",
        "\n",
        "\n",
        "class Joy11(Joy10):\n",
        "    GRAMMAR = r'''\n",
        "        program: statements\n",
        "        statements: statement*\n",
        "        statement: stmt_assign\n",
        "                 | stmt_if\n",
        "                 | stmt_if_else\n",
        "                 | stmt_while\n",
        "                 | stmt_until\n",
        "        stmt_assign: \"let\" ID \"=\" expr \";\"\n",
        "        stmt_if: \"if\" expr \"{\" statements \"}\"\n",
        "        stmt_if_else: \"if\" expr \"{\" statements \"}\" \"else\" \"{\" statements \"}\"\n",
        "        stmt_while: \"while\" expr \"{\" statements \"}\"\n",
        "        stmt_until: \"until\" expr \"{\" statements \"}\"\n",
        "        expr: expr_const\n",
        "            | expr_id\n",
        "            | expr_add\n",
        "            | expr_sub\n",
        "            | expr_neg\n",
        "            | expr_compare\n",
        "            | expr_or\n",
        "            | expr_and\n",
        "            | expr_not\n",
        "        expr_not: \"(\"? \"!\" expr \")\"?\n",
        "        expr_and: \"(\"? expr \"&&\" expr \")\"?\n",
        "        expr_or: \"(\"? expr \"||\" expr \")\"?\n",
        "        expr_compare: \"(\"? expr COMPARE expr \")\"?\n",
        "        expr_sub: \"(\"? expr \"-\" expr \")\"?\n",
        "        expr_add: \"(\"? expr \"+\" expr \")\"?\n",
        "        expr_const: NUMBER\n",
        "        expr_neg: \"-\" expr\n",
        "        expr_id: ID\n",
        "\n",
        "        COMPARE: /(>=|<=|==|!=|>|<)/\n",
        "        ID: /[_A-Za-z][_0-9A-Za-z]*/\n",
        "        NUMBER: /-?[0-9]+/\n",
        "        WS: /[ \\t\\f\\r\\n]+/\n",
        "        COMMENT: \"//\" /[^\\r\\n]*[\\r\\n]?/\n",
        "\n",
        "        %ignore COMMENT\n",
        "        %ignore WS\n",
        "\n",
        "    '''"
      ],
      "execution_count": null,
      "outputs": []
    },
    {
      "cell_type": "markdown",
      "metadata": {
        "id": "3KGM_R38uTwE"
      },
      "source": [
        "## Test case"
      ]
    },
    {
      "cell_type": "code",
      "metadata": {
        "id": "97oRdgriZtLo",
        "colab": {
          "base_uri": "https://localhost:8080/"
        },
        "outputId": "5ae9cb51-1800-42d0-fbc5-b64df53c088f"
      },
      "source": [
        "class TestJoy11(TestJoy10):\n",
        "\n",
        "    JOY_COMPILER = Joy11\n",
        "\n",
        "    def test_comment(self):\n",
        "        self.compile_and_run('''\n",
        "            // let a = 8;\n",
        "            let b = 3;\n",
        "            let c = 1234; // let b = 10;\n",
        "        ''')\n",
        "        self.assertEqual(self.cpu.ram[16], 3)\n",
        "        self.assertEqual(self.cpu.ram[17], 1234)\n",
        "\n",
        "run_test(TestJoy11)"
      ],
      "execution_count": null,
      "outputs": [
        {
          "output_type": "stream",
          "name": "stderr",
          "text": [
            "...........................\n",
            "----------------------------------------------------------------------\n",
            "Ran 27 tests in 2.352s\n",
            "\n",
            "OK\n"
          ]
        }
      ]
    },
    {
      "cell_type": "markdown",
      "metadata": {
        "id": "anSSvGQVvivS"
      },
      "source": [
        "# Joy 1.2 - integer/char literals\n",
        "Joy 1.2 รองรับฟีเจอร์ทั้งหมดของ Joy 1.1 และเพิ่มฟีเจอร์ดังนี้\n",
        "\n",
        "---\n",
        "* รองรับ integer literal <u>ฐานสิบหก</u> ด้วยพรีฟิกซ์ `0x` เช่น `0x1ac2` ให้ค่า 6850\n",
        "* รองรับ integer literal <u>ฐานสอง</u> ด้วยพรีฟิกซ์ `0b` เช่น `0b1011010010` ให้ค่า 722\n",
        "* รองรับ character literal ในรูป `'x'` ซึ่งจะให้ค่าเป็นจำนวนเต็มแทนรหัสแอสกี้ของอักขระในเครื่องหมาย `''` เช่น `'A'` ให้ค่า 65\n",
        "---\n",
        "\n",
        "<u>แนวคิด</u>\n",
        "* แก้ไขเมท็อด `expr_const` ทับตัวที่อยู่ในคลาสเดิม\n",
        "* ไพทอนมีฟังก์ชัน `int` ที่ใช้สำหรับแปลงค่าตัวเลขจากฐานที่ต้องการพร้อมให้ใช้งานอยู่แล้ว​ (ลองศึกษาการเรียกใช้ฟังก์ชัน `int` ด้วยอาร์กิวเมนต์ `base=0` ดู)"
      ]
    },
    {
      "cell_type": "code",
      "metadata": {
        "id": "wvWzHf31-wO0"
      },
      "source": [
        "# DO NOT ERASE THIS CELL - to be graded\n",
        "\n",
        "class Joy12(Joy11):\n",
        "    GRAMMAR = r'''\n",
        "        program: statements\n",
        "        statements: statement*\n",
        "        statement: stmt_assign\n",
        "                 | stmt_if\n",
        "                 | stmt_if_else\n",
        "                 | stmt_while\n",
        "                 | stmt_until\n",
        "        stmt_assign: \"let\" ID \"=\" expr \";\"\n",
        "        stmt_if: \"if\" expr \"{\" statements \"}\"\n",
        "        stmt_if_else: \"if\" expr \"{\" statements \"}\" \"else\" \"{\" statements \"}\"\n",
        "        stmt_while: \"while\" expr \"{\" statements \"}\"\n",
        "        stmt_until: \"until\" expr \"{\" statements \"}\"\n",
        "        expr: expr_const\n",
        "            | expr_id\n",
        "            | expr_add\n",
        "            | expr_sub\n",
        "            | expr_neg\n",
        "            | expr_compare\n",
        "            | expr_or\n",
        "            | expr_and\n",
        "            | expr_not\n",
        "        expr_not: \"(\"? \"!\" expr \")\"?\n",
        "        expr_and: \"(\"? expr \"&&\" expr \")\"?\n",
        "        expr_or: \"(\"? expr \"||\" expr \")\"?\n",
        "        expr_compare: \"(\"? expr COMPARE expr \")\"?\n",
        "        expr_sub: \"(\"? expr \"-\" expr \")\"?\n",
        "        expr_add: \"(\"? expr \"+\" expr \")\"?\n",
        "        expr_neg: \"-\" expr\n",
        "        expr_id: ID\n",
        "        expr_const: NUMBER\n",
        "                  | HEX\n",
        "                  | BIN\n",
        "                  | CHAR\n",
        "\n",
        "        HEX: /0[xX][0-9A-Fa-f]+/\n",
        "        BIN: /0[bB][01]+/\n",
        "        CHAR: /'.?'/\n",
        "        NUMBER: /-?[0-9]+/\n",
        "        COMPARE: /(>=|<=|==|!=|>|<)/\n",
        "        ID: /[_A-Za-z][_0-9A-Za-z]*/\n",
        "\n",
        "        WS: /[ \\t\\f\\r\\n]+/\n",
        "        COMMENT: \"//\" /[^\\r\\n]*[\\r\\n]?/\n",
        "\n",
        "        %ignore COMMENT\n",
        "        %ignore WS\n",
        "\n",
        "    '''\n",
        "\n",
        "    # override Joy11's expr_const\n",
        "    def expr_const(self, tree):\n",
        "        [const] = tree.children\n",
        "        # print(const.value)\n",
        "        if const.type == 'CHAR':\n",
        "            value = ord(const.value[1])  # Get the character inside the quotes and get its ASCII value\n",
        "        else:\n",
        "            value = int(const.value, base=0) # Use base=0 to handle hex and binary\n",
        "        self.gen_load_const('THIS', value)"
      ],
      "execution_count": null,
      "outputs": []
    },
    {
      "cell_type": "markdown",
      "metadata": {
        "id": "sDGfk0Wa_Xed"
      },
      "source": [
        "## Test case"
      ]
    },
    {
      "cell_type": "code",
      "metadata": {
        "id": "RpBTlSV3_dTM",
        "colab": {
          "base_uri": "https://localhost:8080/"
        },
        "outputId": "e5d3a926-c645-43aa-f8a7-72c636c41e56"
      },
      "source": [
        "# DO NOT MODIFY\n",
        "\n",
        "class TestJoy12(TestJoy11):\n",
        "\n",
        "    JOY_COMPILER = Joy12\n",
        "\n",
        "    def test_const_hex(self):\n",
        "        self.compile_and_run('let a = 0x1234;')\n",
        "        self.assertEqual(self.cpu.ram[16], 0x1234)\n",
        "\n",
        "    def test_const_bin(self):\n",
        "        self.compile_and_run('let a = 0b0101010101010101;')\n",
        "        self.assertEqual(self.cpu.ram[16], 0b0101010101010101)\n",
        "        self.compile_and_run('let a = 0b1010101010101010;')\n",
        "        self.assertEqual(self.cpu.ram[16], 0b1010101010101010)\n",
        "\n",
        "    def _do_test_const_char(self, char):\n",
        "        self.compile_and_run(f'''\n",
        "            let a = '{char}';\n",
        "        ''')\n",
        "        self.assertEqual(self.cpu.ram[16], ord(char))\n",
        "\n",
        "    def test_const_character(self):\n",
        "        for i in range(32, 127):\n",
        "            c = chr(i)\n",
        "            if c == \"'\":\n",
        "                continue\n",
        "            self._do_test_const_char(c)\n",
        "\n",
        "run_test(TestJoy12)"
      ],
      "execution_count": null,
      "outputs": [
        {
          "output_type": "stream",
          "name": "stderr",
          "text": [
            "..............................\n",
            "----------------------------------------------------------------------\n",
            "Ran 30 tests in 5.344s\n",
            "\n",
            "OK\n"
          ]
        }
      ]
    },
    {
      "cell_type": "markdown",
      "metadata": {
        "id": "5xWJxGp-UjAZ"
      },
      "source": [
        "# Joy 1.3 - pointers\n",
        "Joy 1.3 รองรับฟีเจอร์ทั้งหมดของ Joy 1.2 พร้อมฟีเจอร์เพิ่มเติมดังนี้\n",
        "\n",
        "---\n",
        "* รองรับการเข้าถึงหน่วยความจำแบบพอยเตอร์ ผ่านตัวดำเนินการ `&` (reference) และ `*` (dereference)\n",
        "    * นิพจน์ &*ID* ให้ค่าเป็นตำแหน่งหน่วยความจำที่เก็บค่าตัวแปร *ID*\n",
        "    * นิพจน์ **expr* อ้างถึงตำแหน่งหน่วยความจำในตำแหน่งที่ตรงกับค่าของ *expr*\n",
        "---\n",
        "\n",
        "ตัวอย่างเช่น\n",
        "```\n",
        "let a = 8;   // กำหนดให้ a เท่ากับ 8\n",
        "let b = &a;  // กำหนดให้ b เท่ากับตำแหน่งหน่วยความจำของ a\n",
        "let c = *b;  // กำหนดให้ c เท่ากับค่าในหน่วยความจำที่ b ชี้อยู่ ซึ่งเท่ากับ 8 (ค่า a)\n",
        "let *b = 30; // กำหนดให้ตำแหน่งหน่วยความจำที่ b ชี้อยู่มีค่า 30 จึงมีผลทำให้ a เท่ากับ 30\n",
        "```\n",
        "\n",
        "<u>คำใบ้:</u> แกรมมาร์ไม่ได้ปรับเพิ่มเพียงแค่ส่วนของ *expr* แต่ต้องปรับเพิ่มกฎของคำสั่ง `let` ด้วยเช่นกัน เพื่อให้รองรับคำสั่งในรูปแบบตามตัวอย่างสุดท้าย"
      ]
    },
    {
      "cell_type": "code",
      "metadata": {
        "id": "Af1d-yeFUgCb"
      },
      "source": [
        "# DO NOT ERASE THIS CELL - to be graded\n",
        "\n",
        "class Joy13(Joy12):\n",
        "    GRAMMAR = r'''\n",
        "        program: statements\n",
        "        statements: statement*\n",
        "        statement: stmt_assign\n",
        "                 | stmt_deref\n",
        "                 | stmt_if\n",
        "                 | stmt_if_else\n",
        "                 | stmt_while\n",
        "                 | stmt_until\n",
        "        stmt_assign: \"let\" ID \"=\" expr \";\"\n",
        "        stmt_deref: \"let\" \"*\" expr \"=\" expr \";\"\n",
        "        stmt_if: \"if\" expr \"{\" statements \"}\"\n",
        "        stmt_if_else: \"if\" expr \"{\" statements \"}\" \"else\" \"{\" statements \"}\"\n",
        "        stmt_while: \"while\" expr \"{\" statements \"}\"\n",
        "        stmt_until: \"until\" expr \"{\" statements \"}\"\n",
        "        expr: expr_const\n",
        "            | expr_id\n",
        "            | expr_add\n",
        "            | expr_sub\n",
        "            | expr_neg\n",
        "            | expr_compare\n",
        "            | expr_or\n",
        "            | expr_and\n",
        "            | expr_not\n",
        "            | expr_ref\n",
        "            | expr_deref\n",
        "            | expr_string\n",
        "            | expr_array\n",
        "            | expr_bracket\n",
        "        expr_bracket: \"(\" expr \")\"\n",
        "        expr_array: \"[\" [ expr (\",\" expr)* [\",\"] ] \"]\"\n",
        "        expr_string: STRING\n",
        "        expr_ref:  \"&\" expr\n",
        "        expr_deref: \"*\" expr\n",
        "        expr_not:  \"!\" expr\n",
        "        expr_and: expr \"&&\" expr\n",
        "        expr_or:  expr \"||\" expr\n",
        "        expr_compare:  expr COMPARE expr\n",
        "        expr_sub: expr \"-\" expr\n",
        "        expr_add: expr \"+\" expr\n",
        "        expr_neg: \"-\" expr\n",
        "        expr_id: ID\n",
        "        expr_const: NUMBER\n",
        "                  | HEX\n",
        "                  | BIN\n",
        "                  | CHAR\n",
        "\n",
        "        STRING: /\"(\\\\.|[^\"\\\\])*\"/\n",
        "        HEX: /0[xX][0-9A-Fa-f]+/\n",
        "        BIN: /0[bB][01]+/\n",
        "        CHAR: /'.?'/\n",
        "        NUMBER: /-?[0-9]+/\n",
        "        COMPARE: /(>=|<=|==|!=|>|<)/\n",
        "        ID: /[_A-Za-z][_0-9A-Za-z]*/\n",
        "\n",
        "        WS: /[ \\t\\f\\r\\n]+/\n",
        "        COMMENT: \"//\" /[^\\r\\n]*[\\r\\n]?/\n",
        "\n",
        "        %ignore COMMENT\n",
        "        %ignore WS\n",
        "\n",
        "    '''\n",
        "    def stmt_deref(self,tree) :\n",
        "      [expr1,expr2] = tree.children\n",
        "      self.visit(expr1)\n",
        "      self.gen_push('THIS')\n",
        "      self.visit(expr2)\n",
        "      self.gen_pop('THAT')\n",
        "      self._asm.append('''\n",
        "      @THIS\n",
        "      D=M\n",
        "      @THAT\n",
        "      A=M\n",
        "      M=D\n",
        "      ''')\n",
        "\n",
        "\n",
        "    def expr_ref(self,tree) :\n",
        "      [id] = tree.children[0].children[0].children[0]\n",
        "      self._asm.append(f'''\n",
        "      @.var.{id}\n",
        "      D=A\n",
        "      @THIS\n",
        "      M=D\n",
        "      ''')\n",
        "\n",
        "    def expr_deref(self,tree) :\n",
        "      [id] = tree.children\n",
        "      self.visit(id)\n",
        "      self._asm.append(f'''\n",
        "      @THIS\n",
        "      A=M\n",
        "      D=M\n",
        "      @THIS\n",
        "      M=D\n",
        "      ''')\n",
        "\n",
        "    # define your code-generation methods here\n"
      ],
      "execution_count": null,
      "outputs": []
    },
    {
      "cell_type": "markdown",
      "metadata": {
        "id": "CI1BOYcMBQb-"
      },
      "source": [
        "## Test case"
      ]
    },
    {
      "cell_type": "code",
      "metadata": {
        "id": "hWfTrSsLAGYt",
        "colab": {
          "base_uri": "https://localhost:8080/"
        },
        "outputId": "bd71a71a-4ea1-465d-dbc3-c2c9832325bf"
      },
      "source": [
        "# DO NOT MODIFY\n",
        "\n",
        "class TestJoy13(TestJoy12):\n",
        "\n",
        "    JOY_COMPILER = Joy13\n",
        "\n",
        "    def test_expr_ref(self):\n",
        "        self.compile_and_run('''\n",
        "            let a = 8;\n",
        "            let b = &a;\n",
        "        ''')\n",
        "        self.assertEqual(self.cpu.ram[16], 8)\n",
        "        self.assertEqual(self.cpu.ram[17], 16)\n",
        "        self.assertEqual(self.cpu.ram[0], 0x3fff)\n",
        "\n",
        "    def test_expr_deref(self):\n",
        "        self.compile_and_run('''\n",
        "            let a = 8;\n",
        "            let b = &a;\n",
        "            let a = 29;\n",
        "            let c = (*b) + 10;\n",
        "        ''')\n",
        "        self.assertEqual(self.cpu.ram[16], 29)\n",
        "        self.assertEqual(self.cpu.ram[17], 16)\n",
        "        self.assertEqual(self.cpu.ram[18], 29+10)\n",
        "        self.assertEqual(self.cpu.ram[0], 0x3fff)\n",
        "\n",
        "    def test_stmt_assign_deref(self):\n",
        "        self.compile_and_run('''\n",
        "            let a = 8;\n",
        "            let *a = 1234;\n",
        "            let *(a+1) = 4321;\n",
        "        ''')\n",
        "        self.assertEqual(self.cpu.ram[8], 1234)\n",
        "        self.assertEqual(self.cpu.ram[9], 4321)\n",
        "        self.assertEqual(self.cpu.ram[0], 0x3fff)\n",
        "\n",
        "    def test_deref_arithmetic(self):\n",
        "        self.compile_and_run('''\n",
        "            let *10 = 1;\n",
        "            let *11 = 2;\n",
        "            let *12 = 3;\n",
        "            let a = 10;\n",
        "            let b = *a;     // 1\n",
        "            let c = *(a+1); // 2\n",
        "            let d = *(a+2); // 3\n",
        "            let *13 = c;\n",
        "            let *14 = d;\n",
        "        ''')\n",
        "        self.assertEqual(self.cpu.ram[13], 2)\n",
        "        self.assertEqual(self.cpu.ram[14], 3)\n",
        "\n",
        "    def test_stmt_deref_arithmetic(self):\n",
        "        self.compile_and_run('''\n",
        "            let a = 10;\n",
        "            let b = 2;\n",
        "            let *a = 5;       // *10 = 5\n",
        "            let *(a+1) = 6;   // *11 = 6\n",
        "            let *(a+b) = 7;   // *12 = 7\n",
        "            let *(a+3) = b+8; // *13 = 10\n",
        "        ''')\n",
        "        self.assertEqual(self.cpu.ram[10], 5)\n",
        "        self.assertEqual(self.cpu.ram[11], 6)\n",
        "        self.assertEqual(self.cpu.ram[12], 7)\n",
        "        self.assertEqual(self.cpu.ram[13], 10)\n",
        "\n",
        "run_test(TestJoy13)"
      ],
      "execution_count": null,
      "outputs": [
        {
          "output_type": "stream",
          "name": "stderr",
          "text": [
            "...................................\n",
            "----------------------------------------------------------------------\n",
            "Ran 35 tests in 4.458s\n",
            "\n",
            "OK\n"
          ]
        }
      ]
    },
    {
      "cell_type": "markdown",
      "metadata": {
        "id": "WspDkcSABdfg"
      },
      "source": [
        "ฟีเจอร์ของ Joy 1.3 ทำให้เราสามารถอ้างถึงหน่วยความจำที่ตำแหน่งใดก็ได้ รวมถึงหน่วยความจำที่เข้าถึง Screen (ตำแหน่งที่ 0x4000 ถึง 0x5FFF) และ Keyboard (ตำแหน่งที่ 0x6000)\n",
        "\n",
        "โค้ดด้านล่างสาธิตความสามารถของ Joy 1.3 ในการเขียนโปรแกรมให้มีพฤติกรรมเช่นเดียวกับโปรแกรม `Fill.asm` ที่เขียนด้วยภาษาแอสเซมบลี้ก่อนหน้านี้ โดยระบายสีหน้าจอให้เป็นสีดำเมื่อมีการกดคีย์ใด ๆ และระบายสีขาวเมื่อปล่อยคีย์"
      ]
    },
    {
      "cell_type": "code",
      "metadata": {
        "id": "bZhTZkbcU-05",
        "colab": {
          "base_uri": "https://localhost:8080/",
          "height": 389
        },
        "outputId": "7cc69c17-135c-4b2c-b7ea-1c515f92e6b2"
      },
      "source": [
        "asm = Joy13().compile('''\n",
        "    while 1 {\n",
        "        let count = 0;\n",
        "        until count >= 0x2000 {\n",
        "            if *0x6000 {\n",
        "                let *(0x4000+count) = 0xffff;\n",
        "            } else {\n",
        "                let *(0x4000+count) = 0x0000;\n",
        "            }\n",
        "            let count = count + 1;\n",
        "        }\n",
        "    }\n",
        "''')\n",
        "assemble_and_simulate(asm, super_fast=True)"
      ],
      "execution_count": null,
      "outputs": [
        {
          "output_type": "display_data",
          "data": {
            "text/html": [
              "\n",
              "<link rel=\"stylesheet\" href=\"https://jittat.gitlab.io/hacksim/sim.css\">\n",
              "<div id=\"sim-ui\">\n",
              "  <simulator v-bind:simulator=\"simulator\" memory-display-slots=\"30\" screen-scale=\"1\" v-bind:light-weight=\"true\" fastest-steps=\"5003\"/>\n",
              "</div>\n",
              "\n",
              "<script>var exports = {};</script>\n",
              "<script src=\"https://cdn.jsdelivr.net/npm/vue/dist/vue.js\"></script>\n",
              "<script src=\"https://jittat.gitlab.io/hacksim/simulator.js\"></script>\n",
              "<script src=\"https://jittat.gitlab.io/hacksim/simulator-ui.js\"></script>\n",
              "\n",
              "<script>\n",
              "  var simulator = new HackSimulator();\n",
              "simulator.loadInstructions([16383,60432,0,58120,1,60432,3,58120,3,64528,204,58114,0,60432,3,58120,3,64528,16,58120,16,64528,3,58120,3,64528,0,64544,58120,0,64648,8192,60432,3,58120,0,65000,64528,4,58120,4,64528,3,62672,51,58115,3,60040,64528,53,58114,3,61384,3,64528,202,58117,24576,60432,3,58120,3,64544,64528,3,58120,3,64528,125,58114,16384,60432,3,58120,3,64528,0,64544,58120,0,64648,16,64528,3,58120,0,65000,64528,4,58120,4,64528,3,61584,58120,3,64528,0,64544,58120,0,64648,32767,60432,3,58120,32767,60432,3,61576,64968,0,65000,64528,4,58120,3,64528,4,64544,58120,3,64528,171,58117,16384,60432,3,58120,3,64528,0,64544,58120,0,64648,16,64528,3,58120,0,65000,64528,4,58120,4,64528,3,61584,58120,3,64528,0,64544,58120,0,64648,0,60432,3,58120,0,65000,64528,4,58120,3,64528,4,64544,58120,16,64528,3,58120,3,64528,0,64544,58120,0,64648,1,60432,3,58120,0,65000,64528,4,58120,4,64528,3,61584,58120,3,64528,16,58120,20,60039,4,60039]);\n",
              "simulator.sourceCode = [{ \"lineNumber\" : null, \"code\" : \"// init stack (SP <- 16383)\"}, { \"lineNumber\" : 0, \"code\" : \"@16383\"}, { \"lineNumber\" : 1, \"code\" : \"D=A\"}, { \"lineNumber\" : 2, \"code\" : \"@SP\"}, { \"lineNumber\" : 3, \"code\" : \"M=D\"}, { \"lineNumber\" : null, \"code\" : \"  (.WHILE.1)\"}, { \"lineNumber\" : null, \"code\" : \"//##Normal Number(1)##\"}, { \"lineNumber\" : null, \"code\" : \"// [THIS] <- 1\"}, { \"lineNumber\" : 4, \"code\" : \"@1\"}, { \"lineNumber\" : 5, \"code\" : \"D=A\"}, { \"lineNumber\" : 6, \"code\" : \"@THIS\"}, { \"lineNumber\" : 7, \"code\" : \"M=D\"}, { \"lineNumber\" : 8, \"code\" : \"@THIS\"}, { \"lineNumber\" : 9, \"code\" : \"D=M\"}, { \"lineNumber\" : 10, \"code\" : \"@.OUT.1\"}, { \"lineNumber\" : 11, \"code\" : \"D;JEQ\"}, { \"lineNumber\" : null, \"code\" : \"//##While-body-1\"}, { \"lineNumber\" : null, \"code\" : \"//##Normal Number(0)##\"}, { \"lineNumber\" : null, \"code\" : \"// [THIS] <- 0\"}, { \"lineNumber\" : 12, \"code\" : \"@0\"}, { \"lineNumber\" : 13, \"code\" : \"D=A\"}, { \"lineNumber\" : 14, \"code\" : \"@THIS\"}, { \"lineNumber\" : 15, \"code\" : \"M=D\"}, { \"lineNumber\" : null, \"code\" : \"// [.var.count] <- [THIS]\"}, { \"lineNumber\" : 16, \"code\" : \"@THIS\"}, { \"lineNumber\" : 17, \"code\" : \"D=M\"}, { \"lineNumber\" : 18, \"code\" : \"@.var.count\"}, { \"lineNumber\" : 19, \"code\" : \"M=D\"}, { \"lineNumber\" : null, \"code\" : \"  (.WHILE.2)\"}, { \"lineNumber\" : null, \"code\" : \"// [THIS] <- [.var.count]\"}, { \"lineNumber\" : 20, \"code\" : \"@.var.count\"}, { \"lineNumber\" : 21, \"code\" : \"D=M\"}, { \"lineNumber\" : 22, \"code\" : \"@THIS\"}, { \"lineNumber\" : 23, \"code\" : \"M=D\"}, { \"lineNumber\" : null, \"code\" : \"// Push [THIS]\"}, { \"lineNumber\" : 24, \"code\" : \"@THIS\"}, { \"lineNumber\" : 25, \"code\" : \"D=M\"}, { \"lineNumber\" : 26, \"code\" : \"@SP\"}, { \"lineNumber\" : 27, \"code\" : \"A=M\"}, { \"lineNumber\" : 28, \"code\" : \"M=D\"}, { \"lineNumber\" : 29, \"code\" : \"@SP\"}, { \"lineNumber\" : 30, \"code\" : \"M=M-1\"}, { \"lineNumber\" : null, \"code\" : \"//##Normal Number(8192)##\"}, { \"lineNumber\" : null, \"code\" : \"// [THIS] <- 8192\"}, { \"lineNumber\" : 31, \"code\" : \"@8192\"}, { \"lineNumber\" : 32, \"code\" : \"D=A\"}, { \"lineNumber\" : 33, \"code\" : \"@THIS\"}, { \"lineNumber\" : 34, \"code\" : \"M=D\"}, { \"lineNumber\" : null, \"code\" : \"// Pop [THAT]\"}, { \"lineNumber\" : 35, \"code\" : \"@SP\"}, { \"lineNumber\" : 36, \"code\" : \"AM=M+1\"}, { \"lineNumber\" : 37, \"code\" : \"D=M\"}, { \"lineNumber\" : 38, \"code\" : \"@THAT\"}, { \"lineNumber\" : 39, \"code\" : \"M=D\"}, { \"lineNumber\" : null, \"code\" : \"//##start-compare-3##\"}, { \"lineNumber\" : 40, \"code\" : \"@THAT\"}, { \"lineNumber\" : 41, \"code\" : \"D=M\"}, { \"lineNumber\" : 42, \"code\" : \"@THIS\"}, { \"lineNumber\" : 43, \"code\" : \"D=D-M\"}, { \"lineNumber\" : 44, \"code\" : \"@.TRUE.3\"}, { \"lineNumber\" : 45, \"code\" : \"D;JGE\"}, { \"lineNumber\" : 46, \"code\" : \"@THIS\"}, { \"lineNumber\" : 47, \"code\" : \"M=0\"}, { \"lineNumber\" : 48, \"code\" : \"D=M\"}, { \"lineNumber\" : 49, \"code\" : \"@.FALSE.3\"}, { \"lineNumber\" : 50, \"code\" : \"D;JEQ\"}, { \"lineNumber\" : null, \"code\" : \"  (.TRUE.3)\"}, { \"lineNumber\" : 51, \"code\" : \"@THIS\"}, { \"lineNumber\" : 52, \"code\" : \"M=1\"}, { \"lineNumber\" : null, \"code\" : \"  (.FALSE.3)\"}, { \"lineNumber\" : null, \"code\" : \"//##end-compare-3##\"}, { \"lineNumber\" : 53, \"code\" : \"@THIS\"}, { \"lineNumber\" : 54, \"code\" : \"D=M\"}, { \"lineNumber\" : 55, \"code\" : \"@.OUT.2\"}, { \"lineNumber\" : 56, \"code\" : \"D;JNE\"}, { \"lineNumber\" : null, \"code\" : \"//##While-body-2\"}, { \"lineNumber\" : null, \"code\" : \"//## begin-if-4 ##\"}, { \"lineNumber\" : null, \"code\" : \"//##Normal Number(24576)##\"}, { \"lineNumber\" : null, \"code\" : \"// [THIS] <- 24576\"}, { \"lineNumber\" : 57, \"code\" : \"@24576\"}, { \"lineNumber\" : 58, \"code\" : \"D=A\"}, { \"lineNumber\" : 59, \"code\" : \"@THIS\"}, { \"lineNumber\" : 60, \"code\" : \"M=D\"}, { \"lineNumber\" : 61, \"code\" : \"@THIS\"}, { \"lineNumber\" : 62, \"code\" : \"A=M\"}, { \"lineNumber\" : 63, \"code\" : \"D=M\"}, { \"lineNumber\" : 64, \"code\" : \"@THIS\"}, { \"lineNumber\" : 65, \"code\" : \"M=D\"}, { \"lineNumber\" : 66, \"code\" : \"@THIS\"}, { \"lineNumber\" : 67, \"code\" : \"D=M\"}, { \"lineNumber\" : 68, \"code\" : \"@.endif.4\"}, { \"lineNumber\" : 69, \"code\" : \"D;JEQ\"}, { \"lineNumber\" : null, \"code\" : \"//## if-body-4 ##\"}, { \"lineNumber\" : null, \"code\" : \"//##Normal Number(16384)##\"}, { \"lineNumber\" : null, \"code\" : \"// [THIS] <- 16384\"}, { \"lineNumber\" : 70, \"code\" : \"@16384\"}, { \"lineNumber\" : 71, \"code\" : \"D=A\"}, { \"lineNumber\" : 72, \"code\" : \"@THIS\"}, { \"lineNumber\" : 73, \"code\" : \"M=D\"}, { \"lineNumber\" : null, \"code\" : \"// Push [THIS]\"}, { \"lineNumber\" : 74, \"code\" : \"@THIS\"}, { \"lineNumber\" : 75, \"code\" : \"D=M\"}, { \"lineNumber\" : 76, \"code\" : \"@SP\"}, { \"lineNumber\" : 77, \"code\" : \"A=M\"}, { \"lineNumber\" : 78, \"code\" : \"M=D\"}, { \"lineNumber\" : 79, \"code\" : \"@SP\"}, { \"lineNumber\" : 80, \"code\" : \"M=M-1\"}, { \"lineNumber\" : null, \"code\" : \"// [THIS] <- [.var.count]\"}, { \"lineNumber\" : 81, \"code\" : \"@.var.count\"}, { \"lineNumber\" : 82, \"code\" : \"D=M\"}, { \"lineNumber\" : 83, \"code\" : \"@THIS\"}, { \"lineNumber\" : 84, \"code\" : \"M=D\"}, { \"lineNumber\" : null, \"code\" : \"// Pop [THAT]\"}, { \"lineNumber\" : 85, \"code\" : \"@SP\"}, { \"lineNumber\" : 86, \"code\" : \"AM=M+1\"}, { \"lineNumber\" : 87, \"code\" : \"D=M\"}, { \"lineNumber\" : 88, \"code\" : \"@THAT\"}, { \"lineNumber\" : 89, \"code\" : \"M=D\"}, { \"lineNumber\" : null, \"code\" : \"// [THIS] <- [THAT] + [THIS]\"}, { \"lineNumber\" : 90, \"code\" : \"@THAT\"}, { \"lineNumber\" : 91, \"code\" : \"D=M\"}, { \"lineNumber\" : 92, \"code\" : \"@THIS\"}, { \"lineNumber\" : 93, \"code\" : \"D=D+M\"}, { \"lineNumber\" : 94, \"code\" : \"M=D\"}, { \"lineNumber\" : null, \"code\" : \"// Push [THIS]\"}, { \"lineNumber\" : 95, \"code\" : \"@THIS\"}, { \"lineNumber\" : 96, \"code\" : \"D=M\"}, { \"lineNumber\" : 97, \"code\" : \"@SP\"}, { \"lineNumber\" : 98, \"code\" : \"A=M\"}, { \"lineNumber\" : 99, \"code\" : \"M=D\"}, { \"lineNumber\" : 100, \"code\" : \"@SP\"}, { \"lineNumber\" : 101, \"code\" : \"M=M-1\"}, { \"lineNumber\" : null, \"code\" : \"//##High Number(65535)##\"}, { \"lineNumber\" : 102, \"code\" : \"@32767\"}, { \"lineNumber\" : 103, \"code\" : \"D=A\"}, { \"lineNumber\" : 104, \"code\" : \"@THIS\"}, { \"lineNumber\" : 105, \"code\" : \"M=D\"}, { \"lineNumber\" : 106, \"code\" : \"@32767\"}, { \"lineNumber\" : 107, \"code\" : \"D=A\"}, { \"lineNumber\" : 108, \"code\" : \"@THIS\"}, { \"lineNumber\" : 109, \"code\" : \"M=D+M\"}, { \"lineNumber\" : 110, \"code\" : \"M=M+1\"}, { \"lineNumber\" : null, \"code\" : \"// Pop [THAT]\"}, { \"lineNumber\" : 111, \"code\" : \"@SP\"}, { \"lineNumber\" : 112, \"code\" : \"AM=M+1\"}, { \"lineNumber\" : 113, \"code\" : \"D=M\"}, { \"lineNumber\" : 114, \"code\" : \"@THAT\"}, { \"lineNumber\" : 115, \"code\" : \"M=D\"}, { \"lineNumber\" : 116, \"code\" : \"@THIS\"}, { \"lineNumber\" : 117, \"code\" : \"D=M\"}, { \"lineNumber\" : 118, \"code\" : \"@THAT\"}, { \"lineNumber\" : 119, \"code\" : \"A=M\"}, { \"lineNumber\" : 120, \"code\" : \"M=D\"}, { \"lineNumber\" : 121, \"code\" : \"@THIS\"}, { \"lineNumber\" : 122, \"code\" : \"D=M\"}, { \"lineNumber\" : 123, \"code\" : \"@.endelse.4\"}, { \"lineNumber\" : 124, \"code\" : \"D;JNE\"}, { \"lineNumber\" : null, \"code\" : \"//## end-if-4 ##\"}, { \"lineNumber\" : null, \"code\" : \"  (.endif.4)\"}, { \"lineNumber\" : null, \"code\" : \"//##else body 4##\"}, { \"lineNumber\" : null, \"code\" : \"//##Normal Number(16384)##\"}, { \"lineNumber\" : null, \"code\" : \"// [THIS] <- 16384\"}, { \"lineNumber\" : 125, \"code\" : \"@16384\"}, { \"lineNumber\" : 126, \"code\" : \"D=A\"}, { \"lineNumber\" : 127, \"code\" : \"@THIS\"}, { \"lineNumber\" : 128, \"code\" : \"M=D\"}, { \"lineNumber\" : null, \"code\" : \"// Push [THIS]\"}, { \"lineNumber\" : 129, \"code\" : \"@THIS\"}, { \"lineNumber\" : 130, \"code\" : \"D=M\"}, { \"lineNumber\" : 131, \"code\" : \"@SP\"}, { \"lineNumber\" : 132, \"code\" : \"A=M\"}, { \"lineNumber\" : 133, \"code\" : \"M=D\"}, { \"lineNumber\" : 134, \"code\" : \"@SP\"}, { \"lineNumber\" : 135, \"code\" : \"M=M-1\"}, { \"lineNumber\" : null, \"code\" : \"// [THIS] <- [.var.count]\"}, { \"lineNumber\" : 136, \"code\" : \"@.var.count\"}, { \"lineNumber\" : 137, \"code\" : \"D=M\"}, { \"lineNumber\" : 138, \"code\" : \"@THIS\"}, { \"lineNumber\" : 139, \"code\" : \"M=D\"}, { \"lineNumber\" : null, \"code\" : \"// Pop [THAT]\"}, { \"lineNumber\" : 140, \"code\" : \"@SP\"}, { \"lineNumber\" : 141, \"code\" : \"AM=M+1\"}, { \"lineNumber\" : 142, \"code\" : \"D=M\"}, { \"lineNumber\" : 143, \"code\" : \"@THAT\"}, { \"lineNumber\" : 144, \"code\" : \"M=D\"}, { \"lineNumber\" : null, \"code\" : \"// [THIS] <- [THAT] + [THIS]\"}, { \"lineNumber\" : 145, \"code\" : \"@THAT\"}, { \"lineNumber\" : 146, \"code\" : \"D=M\"}, { \"lineNumber\" : 147, \"code\" : \"@THIS\"}, { \"lineNumber\" : 148, \"code\" : \"D=D+M\"}, { \"lineNumber\" : 149, \"code\" : \"M=D\"}, { \"lineNumber\" : null, \"code\" : \"// Push [THIS]\"}, { \"lineNumber\" : 150, \"code\" : \"@THIS\"}, { \"lineNumber\" : 151, \"code\" : \"D=M\"}, { \"lineNumber\" : 152, \"code\" : \"@SP\"}, { \"lineNumber\" : 153, \"code\" : \"A=M\"}, { \"lineNumber\" : 154, \"code\" : \"M=D\"}, { \"lineNumber\" : 155, \"code\" : \"@SP\"}, { \"lineNumber\" : 156, \"code\" : \"M=M-1\"}, { \"lineNumber\" : null, \"code\" : \"//##Normal Number(0)##\"}, { \"lineNumber\" : null, \"code\" : \"// [THIS] <- 0\"}, { \"lineNumber\" : 157, \"code\" : \"@0\"}, { \"lineNumber\" : 158, \"code\" : \"D=A\"}, { \"lineNumber\" : 159, \"code\" : \"@THIS\"}, { \"lineNumber\" : 160, \"code\" : \"M=D\"}, { \"lineNumber\" : null, \"code\" : \"// Pop [THAT]\"}, { \"lineNumber\" : 161, \"code\" : \"@SP\"}, { \"lineNumber\" : 162, \"code\" : \"AM=M+1\"}, { \"lineNumber\" : 163, \"code\" : \"D=M\"}, { \"lineNumber\" : 164, \"code\" : \"@THAT\"}, { \"lineNumber\" : 165, \"code\" : \"M=D\"}, { \"lineNumber\" : 166, \"code\" : \"@THIS\"}, { \"lineNumber\" : 167, \"code\" : \"D=M\"}, { \"lineNumber\" : 168, \"code\" : \"@THAT\"}, { \"lineNumber\" : 169, \"code\" : \"A=M\"}, { \"lineNumber\" : 170, \"code\" : \"M=D\"}, { \"lineNumber\" : null, \"code\" : \"//##end else body 4##\"}, { \"lineNumber\" : null, \"code\" : \"  (.endelse.4)\"}, { \"lineNumber\" : null, \"code\" : \"// [THIS] <- [.var.count]\"}, { \"lineNumber\" : 171, \"code\" : \"@.var.count\"}, { \"lineNumber\" : 172, \"code\" : \"D=M\"}, { \"lineNumber\" : 173, \"code\" : \"@THIS\"}, { \"lineNumber\" : 174, \"code\" : \"M=D\"}, { \"lineNumber\" : null, \"code\" : \"// Push [THIS]\"}, { \"lineNumber\" : 175, \"code\" : \"@THIS\"}, { \"lineNumber\" : 176, \"code\" : \"D=M\"}, { \"lineNumber\" : 177, \"code\" : \"@SP\"}, { \"lineNumber\" : 178, \"code\" : \"A=M\"}, { \"lineNumber\" : 179, \"code\" : \"M=D\"}, { \"lineNumber\" : 180, \"code\" : \"@SP\"}, { \"lineNumber\" : 181, \"code\" : \"M=M-1\"}, { \"lineNumber\" : null, \"code\" : \"//##Normal Number(1)##\"}, { \"lineNumber\" : null, \"code\" : \"// [THIS] <- 1\"}, { \"lineNumber\" : 182, \"code\" : \"@1\"}, { \"lineNumber\" : 183, \"code\" : \"D=A\"}, { \"lineNumber\" : 184, \"code\" : \"@THIS\"}, { \"lineNumber\" : 185, \"code\" : \"M=D\"}, { \"lineNumber\" : null, \"code\" : \"// Pop [THAT]\"}, { \"lineNumber\" : 186, \"code\" : \"@SP\"}, { \"lineNumber\" : 187, \"code\" : \"AM=M+1\"}, { \"lineNumber\" : 188, \"code\" : \"D=M\"}, { \"lineNumber\" : 189, \"code\" : \"@THAT\"}, { \"lineNumber\" : 190, \"code\" : \"M=D\"}, { \"lineNumber\" : null, \"code\" : \"// [THIS] <- [THAT] + [THIS]\"}, { \"lineNumber\" : 191, \"code\" : \"@THAT\"}, { \"lineNumber\" : 192, \"code\" : \"D=M\"}, { \"lineNumber\" : 193, \"code\" : \"@THIS\"}, { \"lineNumber\" : 194, \"code\" : \"D=D+M\"}, { \"lineNumber\" : 195, \"code\" : \"M=D\"}, { \"lineNumber\" : null, \"code\" : \"// [.var.count] <- [THIS]\"}, { \"lineNumber\" : 196, \"code\" : \"@THIS\"}, { \"lineNumber\" : 197, \"code\" : \"D=M\"}, { \"lineNumber\" : 198, \"code\" : \"@.var.count\"}, { \"lineNumber\" : 199, \"code\" : \"M=D\"}, { \"lineNumber\" : 200, \"code\" : \"@.WHILE.2\"}, { \"lineNumber\" : 201, \"code\" : \"0;JMP\"}, { \"lineNumber\" : null, \"code\" : \"  (.OUT.2)\"}, { \"lineNumber\" : 202, \"code\" : \"@.WHILE.1\"}, { \"lineNumber\" : 203, \"code\" : \"0;JMP\"}, { \"lineNumber\" : null, \"code\" : \"  (.OUT.1)\"}]\n",
              "  //simulator.memoryWriteCallbacks.push(memUpdateCallback);\n",
              "  simulator.memoryWriteCallbacks.push(screenUpdateCallback);\n",
              "\n",
              "  var app = new Vue({\n",
              "    el: '#sim-ui',\n",
              "    data: {\n",
              "      simulator: simulator\n",
              "    }\n",
              "  });\n",
              "</script>\n"
            ]
          },
          "metadata": {}
        }
      ]
    },
    {
      "cell_type": "markdown",
      "metadata": {
        "id": "dnfCvIwrX2ot"
      },
      "source": [
        "# Joy 2.0 - strings and arrays\n",
        "Joy 2.0 รองรับทุกฟีเจอร์ของ Joy 1.3 และเพิ่มฟีเจอร์ต่อไปนี้\n",
        "\n",
        "* รองรับนิพจน์แบบสตริง (string) ในรูป `\"xxxx\"` นิพจน์นี้จะคืนค่าตำแหน่งหน่วยความจำที่เก็บอักขระแรกของสตริง โดยอักขระที่เหลือจะต้องอยู่ในหน่วยความจำที่ติดกันตำแหน่งต่อไปเรื่อย ๆ (หนึ่งอักขระใช้พื้นที่หนึ่งเวิร์ด) และปิดท้ายด้วยค่า 0 เช่นเดียวกับสตริงในภาษาซี\n",
        "* รองรับนิพจน์แบบอาร์เรย์ (array) ในรูป `[`*expr1*`,`*expr2*`,`...`]` ซึ่งจะให้ค่าเป็นตำแหน่งหน่วยความจำที่เก็บค่า *expr1* และหน่วยความจำติดกันตำแหน่งถัดไปจะเก็บค่า *expr2*, *expr3*, ... ไปเรื่อย ๆ แต่ไม่ต้องปิดท้ายด้วย 0 เหมือนสตริง\n",
        "\n",
        "ตัวอย่างเช่น\n",
        "```\n",
        "let a = \"joy\";\n",
        "let b = [12, 3+4, 'A', 0x10];\n",
        "```\n",
        "\n",
        "จะต้องมีผลทำให้มีค่ารหัสแอสกี้ของ `'j'`, `'o'`, `'y'` และศูนย์ เรียงกันอยู่ในที่ใดที่หนึ่งในแรม โดยตัวแปร `a` มีค่าเท่ากับตำแหน่งหน่วยความจำที่เก็บ `'j'` และจะต้องมีค่า 12, 7, 65 และ 16 เรียงกันอยู่ที่ใดที่หนึ่งในแรม โดยตัวแปร `b` มีค่าเท่ากับตำแหน่งหน่วยความจำที่เก็บค่า 12 ดังภาพ\n",
        "\n",
        "```\n",
        "          RAM\n",
        "       +-------+\n",
        "       |   :   |\n",
        "       +-------+\n",
        "     a |  ???  | ----+\n",
        "       +-------+     |\n",
        "       |   :   |     |\n",
        "       +-------+     |\n",
        "     b |  ???  | ----------+\n",
        "       +-------+     |     |\n",
        "       |       |     |     |\n",
        "       |       |     |     |\n",
        "       |       |     |     |      addr ต่ำ\n",
        "       |       |     |     |        |\n",
        "       +-------+     |     |        |\n",
        "       |  'j'  | <---+     |        V\n",
        "       +-------+           |      addr สูง\n",
        "       |  'o'  |           |\n",
        "       +-------+           |\n",
        "       |  'y'  |           |\n",
        "       +-------+           |\n",
        "       |   0   |           |\n",
        "       +-------+           |\n",
        "       |   :   |           |\n",
        "       +-------+           |\n",
        "       |  12   | <---------+\n",
        "       +-------+\n",
        "       |   7   |\n",
        "       +-------+\n",
        "       |  65   |\n",
        "       +-------+\n",
        "       |  16   |\n",
        "       +-------+\n",
        "       |       |\n",
        "       +-------+\n",
        "```\n",
        "\n",
        "<u>แนวคิด</u>\n",
        "* สตริงเป็นโทเค็นชนิดใหม่ อย่าลืมนิยามเทอร์มินัลใหม่เพิ่มเติม​\n",
        "* ไม่ต้องพะวงกับประสิทธิภาพของโค้ดแอสเซมบลี้มากนัก วิธีที่ง่ายที่สุดคืออาศัยความสามารถของแอสเซมเบลอร์ในการจองหน่วยความจำให้ตัวแปรโดยสร้างรายการคำสั่งที่ทำให้เกิดการจองหน่วยความจำให้เรียงติดกันเอาไว้ก่อนล่วงหน้า เช่น `@.array.5.0` `@.array.5.1` ...  แล้วค่อยสร้างโค้ดนำค่าที่ถูกต้องมาใส่ลงไปทีละตัว ซึ่งเทคนิคนี้นำไปใช้ได้ทั้งกับอาร์เรย์และสตริง\n",
        "* จากภาพตัวอย่างข้างต้น ตัวแปร `a` และ `b` อาจปรากฏในหน่วยความจำก่อนหรือหลังอาร์เรย์/สตริงก็ได้ ไม่จำเป็นต้องปรากฏก่อน\n",
        "* แก้ไขเมท็อด `__init__()` ตามความเหมาะสม หากต้องการสร้างตัวแปรที่เก็บหมายเลขอาร์เรย์/สตริง"
      ]
    },
    {
      "cell_type": "code",
      "metadata": {
        "id": "0J-htxABYI5H"
      },
      "source": [
        "# DO NOT ERASE THIS CELL - to be graded\n",
        "\n",
        "class Joy20(Joy13):\n",
        "    GRAMMAR = r'''\n",
        "        program: statements\n",
        "        statements: statement*\n",
        "        statement: stmt_assign\n",
        "                 | stmt_deref\n",
        "                 | stmt_if\n",
        "                 | stmt_if_else\n",
        "                 | stmt_while\n",
        "                 | stmt_until\n",
        "        stmt_assign: \"let\" ID \"=\" expr \";\"\n",
        "        stmt_deref: \"let\" \"*\" expr \"=\" expr \";\"\n",
        "        stmt_if: \"if\" expr \"{\" statements \"}\"\n",
        "        stmt_if_else: \"if\" expr \"{\" statements \"}\" \"else\" \"{\" statements \"}\"\n",
        "        stmt_while: \"while\" expr \"{\" statements \"}\"\n",
        "        stmt_until: \"until\" expr \"{\" statements \"}\"\n",
        "        expr: expr_const\n",
        "            | expr_id\n",
        "            | expr_add\n",
        "            | expr_sub\n",
        "            | expr_neg\n",
        "            | expr_compare\n",
        "            | expr_or\n",
        "            | expr_and\n",
        "            | expr_not\n",
        "            | expr_ref\n",
        "            | expr_deref\n",
        "            | expr_string\n",
        "            | expr_array\n",
        "            | expr_bracket\n",
        "        expr_bracket: \"(\" expr \")\"\n",
        "        expr_array: \"[\" [ expr (\",\" expr)* [\",\"] ] \"]\"\n",
        "        expr_string: STRING\n",
        "        expr_ref:  \"&\" expr\n",
        "        expr_deref: \"*\" expr\n",
        "        expr_not:  \"!\" expr\n",
        "        expr_and: expr \"&&\" expr\n",
        "        expr_or:  expr \"||\" expr\n",
        "        expr_compare:  expr COMPARE expr\n",
        "        expr_sub: expr \"-\" expr\n",
        "        expr_add: expr \"+\" expr\n",
        "        expr_neg: \"-\" expr\n",
        "        expr_id: ID\n",
        "        expr_const: NUMBER\n",
        "                  | HEX\n",
        "                  | BIN\n",
        "                  | CHAR\n",
        "\n",
        "        STRING: /\"(\\\\.|[^\"\\\\])*\"/\n",
        "        HEX: /0[xX][0-9A-Fa-f]+/\n",
        "        BIN: /0[bB][01]+/\n",
        "        CHAR: /'.?'/\n",
        "        NUMBER: /-?[0-9]+/\n",
        "        COMPARE: /(>=|<=|==|!=|>|<)/\n",
        "        ID: /[_A-Za-z][_0-9A-Za-z]*/\n",
        "\n",
        "        WS: /[ \\t\\f\\r\\n]+/\n",
        "        COMMENT: \"//\" /[^\\r\\n]*[\\r\\n]?/\n",
        "\n",
        "        %ignore COMMENT\n",
        "        %ignore WS\n",
        "\n",
        "    '''\n",
        "\n",
        "    def expr_array(self,tree) :\n",
        "      exprs = tree.children\n",
        "      sub = []\n",
        "      number1 = self.gen_label_no()\n",
        "\n",
        "      for i in range(len(exprs)) :\n",
        "        number2 = self.gen_label_no()\n",
        "        self._asm.append(f'@.array{number1}.{number2}')\n",
        "        sub.append(number2)\n",
        "      for i in range (len(exprs)) :\n",
        "        self.visit(exprs[i])\n",
        "        self._asm.append(f'''\n",
        "        D=M\n",
        "        @.array{number1}.{sub[i]}\n",
        "        M=D\n",
        "        ''')\n",
        "      self._asm.append(f'''\n",
        "        @.array{number1}.{sub[0]}\n",
        "        D=A\n",
        "        @THIS\n",
        "        M=D\n",
        "        ''')\n",
        "\n",
        "    def expr_string(self, tree) :\n",
        "      [string] = tree.children\n",
        "      string = string.removeprefix('\"').removesuffix('\"')\n",
        "      sub = []\n",
        "      number1 = self.gen_label_no()\n",
        "\n",
        "      for i in range(len(string)+1) :\n",
        "        number2 = self.gen_label_no()\n",
        "        self._asm.append(f'@.string{number1}.{number2}')\n",
        "        sub.append(number2)\n",
        "      for i in range (len(string)) :\n",
        "        x = ord(string[i])\n",
        "        self._asm.append(f'''\n",
        "        @{x}\n",
        "        D=A\n",
        "        @.string{number1}.{sub[i]}\n",
        "        M=D\n",
        "        ''')\n",
        "\n",
        "      self._asm.append(f'''\n",
        "        @.string{number1}.{sub[len(string)]}\n",
        "        M=0\n",
        "        @.string{number1}.{sub[0]}\n",
        "        D=A\n",
        "        @THIS\n",
        "        M=D\n",
        "        ''')\n",
        "\n",
        "\n",
        "\n"
      ],
      "execution_count": null,
      "outputs": []
    },
    {
      "cell_type": "markdown",
      "metadata": {
        "id": "2ImK6qB0L6GZ"
      },
      "source": [
        "## Test case"
      ]
    },
    {
      "cell_type": "code",
      "metadata": {
        "id": "5yO4iAg9XNwE"
      },
      "source": [
        "# DO NOT MODIFY\n",
        "\n",
        "class TestJoy20(TestJoy13):\n",
        "\n",
        "    JOY_COMPILER = Joy20\n",
        "\n",
        "    def test_string(self):\n",
        "        self.compile_and_run('''\n",
        "            let s1 = \"Hello\";\n",
        "            let *10 = s1;\n",
        "            let *11 = \"Bye\";\n",
        "        ''')\n",
        "        addr = self.cpu.ram[10]\n",
        "        self.assertEqual(self.cpu.ram[addr+0], ord('H'))\n",
        "        self.assertEqual(self.cpu.ram[addr+1], ord('e'))\n",
        "        self.assertEqual(self.cpu.ram[addr+2], ord('l'))\n",
        "        self.assertEqual(self.cpu.ram[addr+3], ord('l'))\n",
        "        self.assertEqual(self.cpu.ram[addr+4], ord('o'))\n",
        "        self.assertEqual(self.cpu.ram[addr+5], 0)\n",
        "        addr = self.cpu.ram[11]\n",
        "        self.assertEqual(self.cpu.ram[addr+0], ord('B'))\n",
        "        self.assertEqual(self.cpu.ram[addr+1], ord('y'))\n",
        "        self.assertEqual(self.cpu.ram[addr+2], ord('e'))\n",
        "        self.assertEqual(self.cpu.ram[addr+3], 0)\n",
        "        self.assertEqual(self.cpu.ram[0], 0x3fff)\n",
        "\n",
        "    def test_string_all_chars(self):\n",
        "        all_chars = \" !#$%&'()*+,-./0123456789:;<=>?@ABCDEFGHIJKLMNOPQRSTUVWXYZ[\\\\]^_`abcdefghijklmnopqrstuvwxyz{|}~\\x7f\"\n",
        "        self.compile_and_run(f'''\n",
        "            let s1 = \"{all_chars}\";\n",
        "            let *10 = s1;\n",
        "        ''')\n",
        "        addr = self.cpu.ram[10]\n",
        "        for i, c in enumerate(all_chars):\n",
        "            self.assertEqual(self.cpu.ram[addr+i], ord(c))\n",
        "\n",
        "    def test_array(self):\n",
        "        self.compile_and_run('''\n",
        "            let a = 20;\n",
        "            let arr = [1, 3+2, a+5, (8-3)+a, 9];\n",
        "            let *10 = arr;\n",
        "            let *11 = [1, 2 ,3];\n",
        "        ''')\n",
        "        addr = self.cpu.ram[10]\n",
        "        self.assertEqual(self.cpu.ram[addr+0], 1)\n",
        "        self.assertEqual(self.cpu.ram[addr+1], 3+2)\n",
        "        self.assertEqual(self.cpu.ram[addr+2], 20+5)\n",
        "        self.assertEqual(self.cpu.ram[addr+3], (8-3)+20)\n",
        "        self.assertEqual(self.cpu.ram[addr+4], 9)\n",
        "        addr = self.cpu.ram[11]\n",
        "        self.assertEqual(self.cpu.ram[addr+0], 1)\n",
        "        self.assertEqual(self.cpu.ram[addr+1], 2)\n",
        "        self.assertEqual(self.cpu.ram[addr+2], 3)\n",
        "        self.assertEqual(self.cpu.ram[0], 0x3fff)\n",
        "\n",
        "    def test_nested_array(self):\n",
        "        self.compile_and_run('''\n",
        "            let *10 = [\n",
        "                [1, 2, 3],\n",
        "                [4, 5, 6]\n",
        "            ];\n",
        "        ''')\n",
        "        outer = self.cpu.ram[10]\n",
        "        inner1 = self.cpu.ram[outer+0]\n",
        "        inner2 = self.cpu.ram[outer+1]\n",
        "        self.assertEqual(self.cpu.ram[inner1+0], 1)\n",
        "        self.assertEqual(self.cpu.ram[inner1+1], 2)\n",
        "        self.assertEqual(self.cpu.ram[inner1+2], 3)\n",
        "        self.assertEqual(self.cpu.ram[inner2+0], 4)\n",
        "        self.assertEqual(self.cpu.ram[inner2+1], 5)\n",
        "        self.assertEqual(self.cpu.ram[inner2+2], 6)\n",
        "\n",
        "    def test_array_deref_arithmetic(self):\n",
        "        self.compile_and_run('''\n",
        "            let data = [1,2,3,4,5];\n",
        "            let *10 = *data;\n",
        "            let *11 = *(data+1);\n",
        "            let *12 = *(data+2);\n",
        "            let *13 = *(data+4);\n",
        "        ''')\n",
        "        self.assertEqual(self.cpu.ram[10], 1)\n",
        "        self.assertEqual(self.cpu.ram[11], 2)\n",
        "        self.assertEqual(self.cpu.ram[12], 3)\n",
        "        self.assertEqual(self.cpu.ram[13], 5)\n",
        "\n",
        "    def test_nested_array_deref_arithmetic(self):\n",
        "        self.compile_and_run('''\n",
        "            let table = [\n",
        "                [0,1,2,3,4],\n",
        "                [5,6,7,8,9]\n",
        "            ];\n",
        "            let *10 = *((*table)+3);  // row 0, col 3\n",
        "            let *11 = *((*(table+1))+2);  // row 1, col 2\n",
        "\n",
        "        ''')\n",
        "        self.assertEqual(self.cpu.ram[10], 3)\n",
        "        self.assertEqual(self.cpu.ram[11], 7)\n",
        "\n",
        "run_test(TestJoy20)"
      ],
      "execution_count": null,
      "outputs": []
    },
    {
      "cell_type": "markdown",
      "metadata": {
        "id": "k-1B6_G5J631"
      },
      "source": [
        "# ตัวอย่างโค้ดส่งท้าย\n",
        "ถึงจุดนี้ เราสามารถสร้างโค้ดแสดงผลบิตแมปบนหน้าจออย่างง่ายได้ด้วย Joy 2.0 ดังตัวอย่าง"
      ]
    },
    {
      "cell_type": "code",
      "metadata": {
        "id": "9fJ8IApBY89B"
      },
      "source": [
        "asm = Joy20().compile('''\n",
        "    let smile = [\n",
        "        0b0000011110000000,\n",
        "        0b0001100001100000,\n",
        "        0b0010000000010000,\n",
        "        0b0100000000001000,\n",
        "        0b0100100001001000,\n",
        "        0b1001010010100100,\n",
        "        0b1000000000000100,\n",
        "        0b1000000000000100,\n",
        "        0b1000100001000100,\n",
        "        0b0100100001001000,\n",
        "        0b0100011110001000,\n",
        "        0b0010000000010000,\n",
        "        0b0001100001100000,\n",
        "        0b0000011110000000,\n",
        "        0b0000000000000000,\n",
        "        0b0000000000000000 ];\n",
        "\n",
        "    let start = 2500;  // start word (from 0x4000) to draw on screen\n",
        "    let length = 20;   // how many times to draw\n",
        "    while length > 0 {\n",
        "        let count = 0;\n",
        "        let row = 0;\n",
        "        while count < 16 { // draw each bitmap row\n",
        "            let *(0x4000 + start + row) = *(smile+count);\n",
        "            let count = count + 1;\n",
        "            let row = row + 32;  // set row to the next line\n",
        "        }\n",
        "        let start = start + 1;    // set start to the next word\n",
        "        let length = length - 1;\n",
        "    }\n",
        "    while 1 {} // program stops here\n",
        "''')\n",
        "assemble_and_simulate(asm, super_fast=True)"
      ],
      "execution_count": null,
      "outputs": []
    },
    {
      "cell_type": "code",
      "source": [],
      "metadata": {
        "id": "pSccs_sptsoz"
      },
      "execution_count": null,
      "outputs": []
    }
  ]
}