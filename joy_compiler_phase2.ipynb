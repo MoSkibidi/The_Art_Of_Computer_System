{
  "nbformat": 4,
  "nbformat_minor": 0,
  "metadata": {
    "colab": {
      "provenance": [],
      "include_colab_link": true
    },
    "kernelspec": {
      "name": "python3",
      "display_name": "Python 3"
    }
  },
  "cells": [
    {
      "cell_type": "markdown",
      "metadata": {
        "id": "view-in-github",
        "colab_type": "text"
      },
      "source": [
        "<a href=\"https://colab.research.google.com/github/MoSkibidi/The_Art_Of_Computer_System/blob/main/joy_compiler_phase2.ipynb\" target=\"_parent\"><img src=\"https://colab.research.google.com/assets/colab-badge.svg\" alt=\"Open In Colab\"/></a>"
      ]
    },
    {
      "cell_type": "markdown",
      "metadata": {
        "id": "VycFHW8sPsaQ"
      },
      "source": [
        "# การพัฒนา Joy Compiler (เฟส 2)\n",
        "\n",
        "ในเฟสที่สองนี้ เราจะพัฒนา Joy 1.0 โดยต่อยอดจาก Joy 0.5 เพื่อให้มีฟีเจอร์เพิ่มเติมดังนี้\n",
        "\n",
        "* รองรับการสร้างนิพจน์ทางคณิตศาสตร์ที่ประกอบด้วยตัวดำเนินการ `+`, `-` (ทั้ง binary และ unary)\n",
        "* รองรับการจับกลุ่มนิพจน์ด้วยวงเล็บ `()`\n",
        "* รองรับการสร้างนิพจน์จากตัวดำเนินการเปรียบเทียบ: `>`,`<`,`==`,`!=`,`>=`,`<=`\n",
        "* รองรับการสร้างนิพจน์ทางตรรกศาสตร์ที่ประกอบด้วยตัวดำเนินการ `&&` (and), `||` (or) และ `!` (not)\n",
        "* รองรับการควบคุมโปรแกรมโฟลว์ด้วยโครงสร้าง `while` และ `until`\n",
        "\n",
        "**หมายเหตุ:** นิพจน์ที่ให้ค่าเป็นค่าความจริงจะใช้ค่า 0 และ 1 แทนค่าความจริง \"เท็จ\" และ \"จริง\" ตามลำดับ เนื่องจากภาษาจอยมีข้อมูลประเภทเดียวคือจำนวนเต็ม 16 บิต"
      ]
    },
    {
      "cell_type": "markdown",
      "metadata": {
        "id": "RCitk5rsi0u7"
      },
      "source": [
        "# ดึงโค้ดจาก Joy 0.5\n",
        "เราจะพัฒนา Joy 1.0 โดยต่อยอดจาก Joy 0.5 ที่ทำมาก่อนหน้านี้ โดยดาวน์โหลดโน้ตบุ๊คของ Joy 0.5 มาวางไว้บนพื้นที่ดิสก์ของ Colab session ปัจจุบัน ก่อนอื่นเราต้องทราบ file id ของเอกสาร Colab Joy 0.5 ของตนเองก่อน ให้เปิด Colab ของสัปดาห์ที่แล้ว (แม้จะไม่อนุญาตให้แก้ไขเนื่องจากกดส่งไปแล้วก็ไม่เป็นไร) แล้วคัดลอกส่วนที่อยู่ในตำแหน่ง XXXXXXXXXX ออกมาจาก URL ดังแสดง\n",
        "\n",
        "https://colab.research.google.com/drive/XXXXXXXXXX?authuser=1\n",
        "\n",
        "จากนั้นนำมาป้อนลงใน `JOY05_COLAB_FILE_ID` ด้านล่าง"
      ]
    },
    {
      "cell_type": "code",
      "metadata": {
        "id": "-PCIezzEi_Mu"
      },
      "source": [
        "JOY05_COLAB_FILE_ID = '1pYJVUJHLov_5Y9iML4RaD8YbWcIxkQW6'"
      ],
      "execution_count": null,
      "outputs": []
    },
    {
      "cell_type": "markdown",
      "metadata": {
        "id": "mPfD0c40jHcN"
      },
      "source": [
        "ติดตั้งไลบรารี `PyDrive` เพื่อดาวน์โหลด Colab Notebook จาก Google Drive และโมดูล `comsys_import_ipynb` เพื่อให้อิมพอร์ตโค้ดไพทอนจากโน้ตบุ๊คโดยตรงได้"
      ]
    },
    {
      "cell_type": "code",
      "metadata": {
        "id": "hqfG8rF8jJ_l"
      },
      "source": [
        "%%capture\n",
        "!pip install PyDrive\n",
        "!wget -q https://ecourse.cpe.ku.ac.th/courses/comsys/lib/comsys_import_ipynb.py"
      ],
      "execution_count": null,
      "outputs": []
    },
    {
      "cell_type": "markdown",
      "metadata": {
        "id": "VnTcWtTYjNEn"
      },
      "source": [
        "ใช้ PyDrive2 ดาวน์โหลดเอกสาร Colab ของ Joy 0.5 ในจุดนี้เมื่อ Google แสดงหน้าต่างให้ล็อกอิน ให้เลือกบัญชี @ku.th แล้วกด Allow"
      ]
    },
    {
      "cell_type": "code",
      "metadata": {
        "id": "V1bKJuNajQxW"
      },
      "source": [
        "from pydrive2.auth import GoogleAuth\n",
        "from pydrive2.drive import GoogleDrive\n",
        "from google.colab import auth\n",
        "from oauth2client.client import GoogleCredentials\n",
        "\n",
        "auth.authenticate_user()\n",
        "gauth = GoogleAuth()\n",
        "gauth.credentials = GoogleCredentials.get_application_default()\n",
        "drive = GoogleDrive(gauth)\n",
        "\n",
        "downloaded = drive.CreateFile({'id': JOY05_COLAB_FILE_ID})\n",
        "downloaded.GetContentFile('joy05.ipynb')"
      ],
      "execution_count": null,
      "outputs": []
    },
    {
      "cell_type": "markdown",
      "metadata": {
        "id": "m7pU85IdjcQI"
      },
      "source": [
        "ในตอนนี้เอกสาร Colab ของ Joy 1.0 ควรอยู่ในพื้นที่ดิสก์ของ Colab session ปัจจุบัน ภายใต้ชื่อ `joy05.ipynb` เรียบร้อยแล้ว กดดู File Browser ทางด้านซ้ายมือ ควรเห็นไฟล์ชื่อ `joy05.ipynb` อยู่ในนั้น\n",
        "\n",
        "เรียกใช้ `import_ipynb` และสั่งอิมพอร์ตฟังก์ชันและคลาสที่นิยามไว้ (`draw`, `assemble`, `simulate`, `assemble_and_simulate`, `Joy05` ฯลฯ) มาใช้ในโน้ตบุ๊คนี้เท่าที่จำเป็น"
      ]
    },
    {
      "cell_type": "code",
      "metadata": {
        "id": "utKqp5BzjjFX"
      },
      "source": [
        "%%capture\n",
        "import comsys_import_ipynb\n",
        "from joy05 import (\n",
        "    draw, listing, assemble, simulate, assemble_and_simulate,\n",
        "    gen_load_const, Joy05, TestJoy05, run_test)"
      ],
      "execution_count": null,
      "outputs": []
    },
    {
      "cell_type": "markdown",
      "metadata": {
        "id": "L5i8p6EYjpOa"
      },
      "source": [
        "รันตัวทดสอบโค้ดของ Joy 0.5 เพื่อให้แน่ใจว่าอิมพอร์ตมาได้ถูกต้อง"
      ]
    },
    {
      "cell_type": "code",
      "metadata": {
        "id": "m8YZcurQjtHo",
        "colab": {
          "base_uri": "https://localhost:8080/"
        },
        "outputId": "458fbf6e-9243-42f6-9555-57ea8da4e280"
      },
      "source": [
        "run_test(TestJoy05)"
      ],
      "execution_count": null,
      "outputs": [
        {
          "output_type": "stream",
          "name": "stderr",
          "text": [
            "..........\n",
            "----------------------------------------------------------------------\n",
            "Ran 10 tests in 0.306s\n",
            "\n",
            "OK\n"
          ]
        },
        {
          "output_type": "stream",
          "name": "stdout",
          "text": [
            "None\n",
            "None\n",
            "None\n",
            "None\n",
            "None\n",
            "None\n",
            "None\n",
            "None\n",
            "None\n",
            "None\n",
            "None\n",
            "None\n"
          ]
        }
      ]
    },
    {
      "cell_type": "markdown",
      "metadata": {
        "id": "UXGLyZ46QGU3"
      },
      "source": [
        "## นิยาม Pseudo-Instructions สำหรับสแต็ก\n",
        "การพัฒนาคอมไพเลอร์ในเฟสนี้เน้นไปที่การประมวลผลนิพจน์เป็นหลัก ซึ่งมีการนิยามไวยากรณ์แบบเวียนซ้ำ (กล่าวคือ เราสามารถสร้างนิพจน์ขึ้นมาจากนิพจน์อื่น ๆ ได้) การคำนวณผลลัพธ์ของนิพจน์ลักษณะนี้จำเป็นต้องอาศัยกลไกของสแต็ก (stack) ในการเก็บผลลัพธ์ระหว่างทาง\n",
        "\n",
        "อย่างไรก็ตามสถาปัตยกรรม Hack นั้นไม่มีฮาร์ดแวร์ที่รองรับการทำงานกับสแต็กอยู่ภายในตัว CPU โดยตรง จึงต้องอาศัยหน่วยความจำปกติมาทำเป็นตัวชี้สแต็ก (stack pointer)\n",
        "ทั้งนี้ภาษา Hack Assembly ได้กำหนดซิมโบล `SP` เอาไว้สำหรับอ้างถึงหน่วยความจำตำแหน่งที่ 0 เพื่อตั้งใจให้นำมาใช้เป็นตัวชี้สแต็กอยู่แล้ว\n",
        "\n",
        "เพื่อความสะดวกเราจะจำลองสแต็กขึ้นมาด้วย pseudo-instruction ดังภาพ (ภาพจากหนังสือ The Elements of Computing Systems โดย Noam Nisan และ Shimon Schocken)\n",
        "\n",
        "![stack.png](https://ecourse.cpe.ku.ac.th/courses/comsys/pics/stack.png)"
      ]
    },
    {
      "cell_type": "code",
      "metadata": {
        "id": "9Chrub6hQCTD"
      },
      "source": [
        "def gen_init_stack(addr=0x3fff):\n",
        "    \"\"\"\n",
        "    Generate Hack assembly to initialize stack pointer (SP) to the specified\n",
        "    address, addr.\n",
        "    \"\"\"\n",
        "    return f'''\n",
        "        // init stack (SP <- {addr})\n",
        "        @{addr}\n",
        "        D=A\n",
        "        @SP\n",
        "        M=D\n",
        "    '''\n",
        "\n",
        "def gen_push(mem):\n",
        "    \"\"\"\n",
        "    Generate Hack assembly to push the memory location mem to the stack.\n",
        "    \"\"\"\n",
        "    return f'''\n",
        "        // Push [{mem}]\n",
        "        @{mem}\n",
        "        D=M\n",
        "        @SP\n",
        "        A=M\n",
        "        M=D\n",
        "        @SP\n",
        "        M=M-1\n",
        "    '''\n",
        "\n",
        "def gen_pop(mem=None):\n",
        "    \"\"\"\n",
        "    Generate Hack assembly to pop the value from the top of stack into the\n",
        "    memory location mem register.  If mem is None, the stack pointer is\n",
        "    updated without modifying memory.\n",
        "    \"\"\"\n",
        "    if mem:\n",
        "        return f'''\n",
        "            // Pop [{mem}]\n",
        "            @SP\n",
        "            AM=M+1\n",
        "            D=M\n",
        "            @{mem}\n",
        "            M=D\n",
        "        '''\n",
        "    else:\n",
        "        return f'''\n",
        "            // Pop\n",
        "            @SP\n",
        "            M=M+1\n",
        "        '''"
      ],
      "execution_count": null,
      "outputs": []
    },
    {
      "cell_type": "markdown",
      "metadata": {
        "id": "QwZmpq_ipb9z"
      },
      "source": [
        "ทดลองสร้างโค้ดแอสเซมบลี้จากฟังก์ชัน pseudo-instruction ข้างต้น"
      ]
    },
    {
      "cell_type": "code",
      "metadata": {
        "id": "LrSSZajsf6uv"
      },
      "source": [
        "asm = '\\n'.join([\n",
        "    gen_init_stack(15),  # กำหนดให้สแต็กเริ่มที่ 15 แทนที่จะเป็น 0x3fff เพื่อให้เห็นได้ง่ายในซิม\n",
        "    gen_load_const('THIS', 1234),\n",
        "    gen_push('THIS'),\n",
        "    gen_pop('THAT'),\n",
        "])"
      ],
      "execution_count": null,
      "outputs": []
    },
    {
      "cell_type": "markdown",
      "metadata": {
        "id": "iG9Qf7KL1TOo"
      },
      "source": [
        "ใช้ฟังก์ชัน `listing()` จัดระเบียบเอาท์พุทและเก็บลงไฟล์ `asm.out`\n",
        "เปิดดูไฟล์เอาท์พุทพร้อมกับทดลองรันคำสั่งภาษาเครื่องทีละคำสั่ง หลังจากเสร็จสิ้น pseudo-instruction แต่ละคำสั่งให้สังเกตผลลัพธ์ในหน่วยความจำในตำแหน่งต่าง ๆ ต่อไปนี้\n",
        "* ตำแหน่ง 0: `R0` หรือ `SP` ใช้เป็นสแต็กพอยเตอร์\n",
        "* ตำแหน่ง 3: `R3` หรือ `THIS`\n",
        "* ตำแหน่ง 4: `R4` หรือ `THAT`\n",
        "* ตำแหน่ง 15,14,...: พื้นที่สแต็กชั่วคราว\n",
        "* ตำแหน่ง 16,17,...: พื้นที่เก็บตัวแปร"
      ]
    },
    {
      "cell_type": "code",
      "metadata": {
        "id": "AFr9akj70k6E",
        "colab": {
          "base_uri": "https://localhost:8080/"
        },
        "outputId": "37106bb4-2f55-409f-a97e-86ace948c0b9"
      },
      "source": [
        "listing(asm)"
      ],
      "execution_count": null,
      "outputs": [
        {
          "output_type": "stream",
          "name": "stdout",
          "text": [
            "// init stack (SP <- 15)\n",
            "   0: @15\n",
            "   1: D=A\n",
            "   2: @SP\n",
            "   3: M=D\n",
            "// [THIS] <- 1234\n",
            "   4: @1234\n",
            "   5: D=A\n",
            "   6: @THIS\n",
            "   7: M=D\n",
            "// Push [THIS]\n",
            "   8: @THIS\n",
            "   9: D=M\n",
            "  10: @SP\n",
            "  11: A=M\n",
            "  12: M=D\n",
            "  13: @SP\n",
            "  14: M=M-1\n",
            "// Pop [THAT]\n",
            "  15: @SP\n",
            "  16: AM=M+1\n",
            "  17: D=M\n",
            "  18: @THAT\n",
            "  19: M=D\n"
          ]
        }
      ]
    },
    {
      "cell_type": "code",
      "source": [
        "assemble_and_simulate(asm)"
      ],
      "metadata": {
        "id": "XZ__3fgvYL4p",
        "colab": {
          "base_uri": "https://localhost:8080/",
          "height": 644
        },
        "outputId": "7a6f4b6e-63d5-44dd-ae8f-d2e9c4ef9343"
      },
      "execution_count": null,
      "outputs": [
        {
          "output_type": "display_data",
          "data": {
            "text/html": [
              "\n",
              "<link rel=\"stylesheet\" href=\"https://jittat.gitlab.io/hacksim/sim.css\">\n",
              "<div id=\"sim-ui\">\n",
              "  <simulator v-bind:simulator=\"simulator\" memory-display-slots=\"30\" screen-scale=\"1\" v-bind:light-weight=\"false\" fastest-steps=\"103\"/>\n",
              "</div>\n",
              "\n",
              "<script>var exports = {};</script>\n",
              "<script src=\"https://cdn.jsdelivr.net/npm/vue/dist/vue.js\"></script>\n",
              "<script src=\"https://jittat.gitlab.io/hacksim/simulator.js\"></script>\n",
              "<script src=\"https://jittat.gitlab.io/hacksim/simulator-ui.js\"></script>\n",
              "\n",
              "<script>\n",
              "  var simulator = new HackSimulator();\n",
              "simulator.loadInstructions([15,60432,0,58120,1234,60432,3,58120,3,64528,0,64544,58120,0,64648,0,65000,64528,4,58120]);\n",
              "simulator.sourceCode = [{ \"lineNumber\" : null, \"code\" : \"// init stack (SP <- 15)\"}, { \"lineNumber\" : 0, \"code\" : \"@15\"}, { \"lineNumber\" : 1, \"code\" : \"D=A\"}, { \"lineNumber\" : 2, \"code\" : \"@SP\"}, { \"lineNumber\" : 3, \"code\" : \"M=D\"}, { \"lineNumber\" : null, \"code\" : \"// [THIS] <- 1234\"}, { \"lineNumber\" : 4, \"code\" : \"@1234\"}, { \"lineNumber\" : 5, \"code\" : \"D=A\"}, { \"lineNumber\" : 6, \"code\" : \"@THIS\"}, { \"lineNumber\" : 7, \"code\" : \"M=D\"}, { \"lineNumber\" : null, \"code\" : \"// Push [THIS]\"}, { \"lineNumber\" : 8, \"code\" : \"@THIS\"}, { \"lineNumber\" : 9, \"code\" : \"D=M\"}, { \"lineNumber\" : 10, \"code\" : \"@SP\"}, { \"lineNumber\" : 11, \"code\" : \"A=M\"}, { \"lineNumber\" : 12, \"code\" : \"M=D\"}, { \"lineNumber\" : 13, \"code\" : \"@SP\"}, { \"lineNumber\" : 14, \"code\" : \"M=M-1\"}, { \"lineNumber\" : null, \"code\" : \"// Pop [THAT]\"}, { \"lineNumber\" : 15, \"code\" : \"@SP\"}, { \"lineNumber\" : 16, \"code\" : \"AM=M+1\"}, { \"lineNumber\" : 17, \"code\" : \"D=M\"}, { \"lineNumber\" : 18, \"code\" : \"@THAT\"}, { \"lineNumber\" : 19, \"code\" : \"M=D\"}]\n",
              "  simulator.memoryWriteCallbacks.push(memUpdateCallback);\n",
              "  simulator.memoryWriteCallbacks.push(screenUpdateCallback);\n",
              "\n",
              "  var app = new Vue({\n",
              "    el: '#sim-ui',\n",
              "    data: {\n",
              "      simulator: simulator\n",
              "    }\n",
              "  });\n",
              "</script>\n"
            ]
          },
          "metadata": {}
        }
      ]
    },
    {
      "cell_type": "markdown",
      "metadata": {
        "id": "mNKOW_qaYLKl"
      },
      "source": [
        "# Joy 0.6 - Addition Expression\n",
        "\n",
        "Joy 0.6 รองรับทุกฟีเจอร์ของ Joy 0.5 โดยมีฟีเจอร์เพิ่มเติมดังนี้\n",
        "\n",
        "---\n",
        "* รองรับนิพจน์ที่เกิดจากการบวก 2 นิพจน์เข้าด้วยกันในรูป *expr* `+` *expr*\n",
        "---\n",
        "\n",
        "เราเริ่มจากการแก้ไขแกรมมาร์ของ Joy 0.5 ให้มาเป็น Joy 0.6 กันก่อน จากกฎ `expr` ของเดิม\n",
        "\n",
        "```\n",
        "expr: expr_const\n",
        "    | expr_id\n",
        "```\n",
        "\n",
        "ให้เพิ่มกฎสำหรับนิพจน์บวกลงไปดังนี้\n",
        "```\n",
        "expr: expr_const\n",
        "    | expr_id\n",
        "    | expr_add\n",
        "    \n",
        "expr_add: expr \"+\" expr\n",
        "```\n"
      ]
    },
    {
      "cell_type": "code",
      "metadata": {
        "id": "sqNs-fshX5qb"
      },
      "source": [
        "class Joy06(Joy05):\n",
        "\n",
        "    GRAMMAR = r'''\n",
        "        program: statements\n",
        "        statements: statement*\n",
        "        statement: stmt_assign\n",
        "                 | stmt_if\n",
        "                 | stmt_if_else\n",
        "        stmt_assign: \"let\" ID \"=\" expr \";\"\n",
        "        stmt_if: \"if\" expr \"{\" statements \"}\"\n",
        "        stmt_if_else : \"if\" expr \"{\" statements \"}\" \"else\" \"{\" statements \"}\"\n",
        "        expr: expr_const\n",
        "            | expr_id\n",
        "            | expr_add\n",
        "        expr_add: expr \"+\" expr\n",
        "        expr_const: NUMBER\n",
        "        expr_id: ID\n",
        "\n",
        "        ID: /[_A-Za-z][_0-9A-Za-z]*/\n",
        "        NUMBER: /-?[0-9]+/\n",
        "        WS: /[ \\t\\f\\r\\n]+/\n",
        "        %ignore WS\n",
        "    '''"
      ],
      "execution_count": null,
      "outputs": []
    },
    {
      "cell_type": "markdown",
      "metadata": {
        "id": "9cptiv5oU-Zo"
      },
      "source": [
        "ลองสร้างพาร์ซทรีจากโค้ดตัวอย่างเพื่อนำมาพิจารณาวิเคราะห์โครงสร้าง"
      ]
    },
    {
      "cell_type": "code",
      "metadata": {
        "id": "EvOB45kzmUdI",
        "colab": {
          "base_uri": "https://localhost:8080/",
          "height": 774
        },
        "outputId": "53416ff5-ef92-4fa7-8096-a0b57c9a1595"
      },
      "source": [
        "tree = Joy06().parse('''\n",
        "    let a = 8;\n",
        "    let b = a+2;\n",
        "    let c = a+b+1;\n",
        "''')\n",
        "draw(tree)"
      ],
      "execution_count": null,
      "outputs": [
        {
          "output_type": "display_data",
          "data": {
            "image/svg+xml": "<?xml version=\"1.0\" encoding=\"UTF-8\" standalone=\"no\"?>\n<!DOCTYPE svg PUBLIC \"-//W3C//DTD SVG 1.1//EN\"\n \"http://www.w3.org/Graphics/SVG/1.1/DTD/svg11.dtd\">\n<!-- Generated by graphviz version 2.43.0 (0)\n -->\n<!-- Title: %3 Pages: 1 -->\n<svg width=\"483pt\" height=\"565pt\"\n viewBox=\"0.00 0.00 482.50 565.00\" xmlns=\"http://www.w3.org/2000/svg\" xmlns:xlink=\"http://www.w3.org/1999/xlink\">\n<g id=\"graph0\" class=\"graph\" transform=\"scale(1 1) rotate(0) translate(4 561)\">\n<title>%3</title>\n<polygon fill=\"white\" stroke=\"transparent\" points=\"-4,4 -4,-561 478.5,-561 478.5,4 -4,4\"/>\n<!-- n0 -->\n<g id=\"node1\" class=\"node\">\n<title>n0</title>\n<text text-anchor=\"middle\" x=\"160.5\" y=\"-545.8\" font-family=\"Times,serif\" font-size=\"14.00\">program</text>\n</g>\n<!-- n1 -->\n<g id=\"node2\" class=\"node\">\n<title>n1</title>\n<text text-anchor=\"middle\" x=\"160.5\" y=\"-494.8\" font-family=\"Times,serif\" font-size=\"14.00\">statements</text>\n</g>\n<!-- n0&#45;&#45;n1 -->\n<g id=\"edge34\" class=\"edge\">\n<title>n0&#45;&#45;n1</title>\n<path fill=\"none\" stroke=\"black\" d=\"M160.5,-541.69C160.5,-532.33 160.5,-515.59 160.5,-506.26\"/>\n</g>\n<!-- n2 -->\n<g id=\"node3\" class=\"node\">\n<title>n2</title>\n<text text-anchor=\"middle\" x=\"83.5\" y=\"-443.8\" font-family=\"Times,serif\" font-size=\"14.00\">statement</text>\n</g>\n<!-- n1&#45;&#45;n2 -->\n<g id=\"edge6\" class=\"edge\">\n<title>n1&#45;&#45;n2</title>\n<path fill=\"none\" stroke=\"black\" d=\"M150.12,-490.89C135.34,-481.49 108.41,-464.35 93.72,-455\"/>\n</g>\n<!-- n24 -->\n<g id=\"node9\" class=\"node\">\n<title>n24</title>\n<text text-anchor=\"middle\" x=\"160.5\" y=\"-443.8\" font-family=\"Times,serif\" font-size=\"14.00\">statement</text>\n</g>\n<!-- n1&#45;&#45;n24 -->\n<g id=\"edge17\" class=\"edge\">\n<title>n1&#45;&#45;n24</title>\n<path fill=\"none\" stroke=\"black\" d=\"M160.5,-490.69C160.5,-481.33 160.5,-464.59 160.5,-455.26\"/>\n</g>\n<!-- n381 -->\n<g id=\"node20\" class=\"node\">\n<title>n381</title>\n<text text-anchor=\"middle\" x=\"237.5\" y=\"-443.8\" font-family=\"Times,serif\" font-size=\"14.00\">statement</text>\n</g>\n<!-- n1&#45;&#45;n381 -->\n<g id=\"edge33\" class=\"edge\">\n<title>n1&#45;&#45;n381</title>\n<path fill=\"none\" stroke=\"black\" d=\"M170.88,-490.89C185.66,-481.49 212.59,-464.35 227.28,-455\"/>\n</g>\n<!-- n3 -->\n<g id=\"node4\" class=\"node\">\n<title>n3</title>\n<text text-anchor=\"middle\" x=\"77.5\" y=\"-392.8\" font-family=\"Times,serif\" font-size=\"14.00\">stmt_assign</text>\n</g>\n<!-- n2&#45;&#45;n3 -->\n<g id=\"edge5\" class=\"edge\">\n<title>n2&#45;&#45;n3</title>\n<path fill=\"none\" stroke=\"black\" d=\"M82.67,-439.69C81.52,-430.33 79.47,-413.59 78.33,-404.26\"/>\n</g>\n<!-- n4 -->\n<g id=\"node5\" class=\"node\">\n<title>n4</title>\n<polygon fill=\"none\" stroke=\"black\" points=\"47,-353 0,-353 0,-330 47,-330 47,-353\"/>\n<text text-anchor=\"start\" x=\"8\" y=\"-338.8\" font-family=\"Times,serif\" font-size=\"14.00\">ID: </text>\n<text text-anchor=\"start\" x=\"30\" y=\"-338.8\" font-family=\"monospace\" font-size=\"14.00\" fill=\"brown\">a</text>\n</g>\n<!-- n3&#45;&#45;n4 -->\n<g id=\"edge1\" class=\"edge\">\n<title>n3&#45;&#45;n4</title>\n<path fill=\"none\" stroke=\"black\" d=\"M70.44,-388.57C61.29,-379.59 45.24,-363.84 34.49,-353.29\"/>\n</g>\n<!-- n5 -->\n<g id=\"node6\" class=\"node\">\n<title>n5</title>\n<text text-anchor=\"middle\" x=\"77.5\" y=\"-337.8\" font-family=\"Times,serif\" font-size=\"14.00\">expr</text>\n</g>\n<!-- n3&#45;&#45;n5 -->\n<g id=\"edge4\" class=\"edge\">\n<title>n3&#45;&#45;n5</title>\n<path fill=\"none\" stroke=\"black\" d=\"M77.5,-388.57C77.5,-378.36 77.5,-359.38 77.5,-349.26\"/>\n</g>\n<!-- n6 -->\n<g id=\"node7\" class=\"node\">\n<title>n6</title>\n<text text-anchor=\"middle\" x=\"77.5\" y=\"-282.8\" font-family=\"Times,serif\" font-size=\"14.00\">expr_const</text>\n</g>\n<!-- n5&#45;&#45;n6 -->\n<g id=\"edge3\" class=\"edge\">\n<title>n5&#45;&#45;n6</title>\n<path fill=\"none\" stroke=\"black\" d=\"M77.5,-333.57C77.5,-323.36 77.5,-304.38 77.5,-294.26\"/>\n</g>\n<!-- n7 -->\n<g id=\"node8\" class=\"node\">\n<title>n7</title>\n<polygon fill=\"none\" stroke=\"black\" points=\"123.5,-243 31.5,-243 31.5,-220 123.5,-220 123.5,-243\"/>\n<text text-anchor=\"start\" x=\"39.5\" y=\"-228.8\" font-family=\"Times,serif\" font-size=\"14.00\">NUMBER: </text>\n<text text-anchor=\"start\" x=\"106.5\" y=\"-228.8\" font-family=\"monospace\" font-size=\"14.00\" fill=\"brown\">8</text>\n</g>\n<!-- n6&#45;&#45;n7 -->\n<g id=\"edge2\" class=\"edge\">\n<title>n6&#45;&#45;n7</title>\n<path fill=\"none\" stroke=\"black\" d=\"M77.5,-278.57C77.5,-269.59 77.5,-253.84 77.5,-243.29\"/>\n</g>\n<!-- n25 -->\n<g id=\"node10\" class=\"node\">\n<title>n25</title>\n<text text-anchor=\"middle\" x=\"160.5\" y=\"-392.8\" font-family=\"Times,serif\" font-size=\"14.00\">stmt_assign</text>\n</g>\n<!-- n24&#45;&#45;n25 -->\n<g id=\"edge16\" class=\"edge\">\n<title>n24&#45;&#45;n25</title>\n<path fill=\"none\" stroke=\"black\" d=\"M160.5,-439.69C160.5,-430.33 160.5,-413.59 160.5,-404.26\"/>\n</g>\n<!-- n26 -->\n<g id=\"node11\" class=\"node\">\n<title>n26</title>\n<polygon fill=\"none\" stroke=\"black\" points=\"157,-353 110,-353 110,-330 157,-330 157,-353\"/>\n<text text-anchor=\"start\" x=\"118\" y=\"-338.8\" font-family=\"Times,serif\" font-size=\"14.00\">ID: </text>\n<text text-anchor=\"start\" x=\"140\" y=\"-338.8\" font-family=\"monospace\" font-size=\"14.00\" fill=\"brown\">b</text>\n</g>\n<!-- n25&#45;&#45;n26 -->\n<g id=\"edge7\" class=\"edge\">\n<title>n25&#45;&#45;n26</title>\n<path fill=\"none\" stroke=\"black\" d=\"M156.97,-388.57C152.4,-379.59 144.37,-363.84 139,-353.29\"/>\n</g>\n<!-- n27 -->\n<g id=\"node12\" class=\"node\">\n<title>n27</title>\n<text text-anchor=\"middle\" x=\"187.5\" y=\"-337.8\" font-family=\"Times,serif\" font-size=\"14.00\">expr</text>\n</g>\n<!-- n25&#45;&#45;n27 -->\n<g id=\"edge15\" class=\"edge\">\n<title>n25&#45;&#45;n27</title>\n<path fill=\"none\" stroke=\"black\" d=\"M164.03,-388.57C169.23,-378.36 178.9,-359.38 184.05,-349.26\"/>\n</g>\n<!-- n28 -->\n<g id=\"node13\" class=\"node\">\n<title>n28</title>\n<text text-anchor=\"middle\" x=\"187.5\" y=\"-282.8\" font-family=\"Times,serif\" font-size=\"14.00\">expr_add</text>\n</g>\n<!-- n27&#45;&#45;n28 -->\n<g id=\"edge14\" class=\"edge\">\n<title>n27&#45;&#45;n28</title>\n<path fill=\"none\" stroke=\"black\" d=\"M187.5,-333.57C187.5,-323.36 187.5,-304.38 187.5,-294.26\"/>\n</g>\n<!-- n29 -->\n<g id=\"node14\" class=\"node\">\n<title>n29</title>\n<text text-anchor=\"middle\" x=\"155.5\" y=\"-227.8\" font-family=\"Times,serif\" font-size=\"14.00\">expr</text>\n</g>\n<!-- n28&#45;&#45;n29 -->\n<g id=\"edge10\" class=\"edge\">\n<title>n28&#45;&#45;n29</title>\n<path fill=\"none\" stroke=\"black\" d=\"M183.32,-278.57C177.15,-268.36 165.69,-249.38 159.58,-239.26\"/>\n</g>\n<!-- n91 -->\n<g id=\"node17\" class=\"node\">\n<title>n91</title>\n<text text-anchor=\"middle\" x=\"199.5\" y=\"-227.8\" font-family=\"Times,serif\" font-size=\"14.00\">expr</text>\n</g>\n<!-- n28&#45;&#45;n91 -->\n<g id=\"edge13\" class=\"edge\">\n<title>n28&#45;&#45;n91</title>\n<path fill=\"none\" stroke=\"black\" d=\"M189.07,-278.57C191.38,-268.36 195.68,-249.38 197.97,-239.26\"/>\n</g>\n<!-- n30 -->\n<g id=\"node15\" class=\"node\">\n<title>n30</title>\n<text text-anchor=\"middle\" x=\"125.5\" y=\"-172.8\" font-family=\"Times,serif\" font-size=\"14.00\">expr_id</text>\n</g>\n<!-- n29&#45;&#45;n30 -->\n<g id=\"edge9\" class=\"edge\">\n<title>n29&#45;&#45;n30</title>\n<path fill=\"none\" stroke=\"black\" d=\"M151.58,-223.57C145.8,-213.36 135.06,-194.38 129.33,-184.26\"/>\n</g>\n<!-- n31 -->\n<g id=\"node16\" class=\"node\">\n<title>n31</title>\n<polygon fill=\"none\" stroke=\"black\" points=\"142,-133 95,-133 95,-110 142,-110 142,-133\"/>\n<text text-anchor=\"start\" x=\"103\" y=\"-118.8\" font-family=\"Times,serif\" font-size=\"14.00\">ID: </text>\n<text text-anchor=\"start\" x=\"125\" y=\"-118.8\" font-family=\"monospace\" font-size=\"14.00\" fill=\"brown\">a</text>\n</g>\n<!-- n30&#45;&#45;n31 -->\n<g id=\"edge8\" class=\"edge\">\n<title>n30&#45;&#45;n31</title>\n<path fill=\"none\" stroke=\"black\" d=\"M124.58,-168.57C123.4,-159.59 121.32,-143.84 119.92,-133.29\"/>\n</g>\n<!-- n92 -->\n<g id=\"node18\" class=\"node\">\n<title>n92</title>\n<text text-anchor=\"middle\" x=\"200.5\" y=\"-172.8\" font-family=\"Times,serif\" font-size=\"14.00\">expr_const</text>\n</g>\n<!-- n91&#45;&#45;n92 -->\n<g id=\"edge12\" class=\"edge\">\n<title>n91&#45;&#45;n92</title>\n<path fill=\"none\" stroke=\"black\" d=\"M199.63,-223.57C199.82,-213.36 200.18,-194.38 200.37,-184.26\"/>\n</g>\n<!-- n93 -->\n<g id=\"node19\" class=\"node\">\n<title>n93</title>\n<polygon fill=\"none\" stroke=\"black\" points=\"252.5,-133 160.5,-133 160.5,-110 252.5,-110 252.5,-133\"/>\n<text text-anchor=\"start\" x=\"168.5\" y=\"-118.8\" font-family=\"Times,serif\" font-size=\"14.00\">NUMBER: </text>\n<text text-anchor=\"start\" x=\"235.5\" y=\"-118.8\" font-family=\"monospace\" font-size=\"14.00\" fill=\"brown\">2</text>\n</g>\n<!-- n92&#45;&#45;n93 -->\n<g id=\"edge11\" class=\"edge\">\n<title>n92&#45;&#45;n93</title>\n<path fill=\"none\" stroke=\"black\" d=\"M201.28,-168.57C202.3,-159.59 204.08,-143.84 205.28,-133.29\"/>\n</g>\n<!-- n382 -->\n<g id=\"node21\" class=\"node\">\n<title>n382</title>\n<text text-anchor=\"middle\" x=\"243.5\" y=\"-392.8\" font-family=\"Times,serif\" font-size=\"14.00\">stmt_assign</text>\n</g>\n<!-- n381&#45;&#45;n382 -->\n<g id=\"edge32\" class=\"edge\">\n<title>n381&#45;&#45;n382</title>\n<path fill=\"none\" stroke=\"black\" d=\"M238.33,-439.69C239.48,-430.33 241.53,-413.59 242.67,-404.26\"/>\n</g>\n<!-- n383 -->\n<g id=\"node22\" class=\"node\">\n<title>n383</title>\n<polygon fill=\"none\" stroke=\"black\" points=\"267,-353 220,-353 220,-330 267,-330 267,-353\"/>\n<text text-anchor=\"start\" x=\"228\" y=\"-338.8\" font-family=\"Times,serif\" font-size=\"14.00\">ID: </text>\n<text text-anchor=\"start\" x=\"250\" y=\"-338.8\" font-family=\"monospace\" font-size=\"14.00\" fill=\"brown\">c</text>\n</g>\n<!-- n382&#45;&#45;n383 -->\n<g id=\"edge18\" class=\"edge\">\n<title>n382&#45;&#45;n383</title>\n<path fill=\"none\" stroke=\"black\" d=\"M243.5,-388.57C243.5,-379.59 243.5,-363.84 243.5,-353.29\"/>\n</g>\n<!-- n384 -->\n<g id=\"node23\" class=\"node\">\n<title>n384</title>\n<text text-anchor=\"middle\" x=\"297.5\" y=\"-337.8\" font-family=\"Times,serif\" font-size=\"14.00\">expr</text>\n</g>\n<!-- n382&#45;&#45;n384 -->\n<g id=\"edge31\" class=\"edge\">\n<title>n382&#45;&#45;n384</title>\n<path fill=\"none\" stroke=\"black\" d=\"M250.56,-388.57C260.97,-378.36 280.3,-359.38 290.61,-349.26\"/>\n</g>\n<!-- n385 -->\n<g id=\"node24\" class=\"node\">\n<title>n385</title>\n<text text-anchor=\"middle\" x=\"297.5\" y=\"-282.8\" font-family=\"Times,serif\" font-size=\"14.00\">expr_add</text>\n</g>\n<!-- n384&#45;&#45;n385 -->\n<g id=\"edge30\" class=\"edge\">\n<title>n384&#45;&#45;n385</title>\n<path fill=\"none\" stroke=\"black\" d=\"M297.5,-333.57C297.5,-323.36 297.5,-304.38 297.5,-294.26\"/>\n</g>\n<!-- n386 -->\n<g id=\"node25\" class=\"node\">\n<title>n386</title>\n<text text-anchor=\"middle\" x=\"297.5\" y=\"-227.8\" font-family=\"Times,serif\" font-size=\"14.00\">expr</text>\n</g>\n<!-- n385&#45;&#45;n386 -->\n<g id=\"edge21\" class=\"edge\">\n<title>n385&#45;&#45;n386</title>\n<path fill=\"none\" stroke=\"black\" d=\"M297.5,-278.57C297.5,-268.36 297.5,-249.38 297.5,-239.26\"/>\n</g>\n<!-- n1162 -->\n<g id=\"node28\" class=\"node\">\n<title>n1162</title>\n<text text-anchor=\"middle\" x=\"351.5\" y=\"-227.8\" font-family=\"Times,serif\" font-size=\"14.00\">expr</text>\n</g>\n<!-- n385&#45;&#45;n1162 -->\n<g id=\"edge29\" class=\"edge\">\n<title>n385&#45;&#45;n1162</title>\n<path fill=\"none\" stroke=\"black\" d=\"M304.56,-278.57C314.97,-268.36 334.3,-249.38 344.61,-239.26\"/>\n</g>\n<!-- n387 -->\n<g id=\"node26\" class=\"node\">\n<title>n387</title>\n<text text-anchor=\"middle\" x=\"297.5\" y=\"-172.8\" font-family=\"Times,serif\" font-size=\"14.00\">expr_id</text>\n</g>\n<!-- n386&#45;&#45;n387 -->\n<g id=\"edge20\" class=\"edge\">\n<title>n386&#45;&#45;n387</title>\n<path fill=\"none\" stroke=\"black\" d=\"M297.5,-223.57C297.5,-213.36 297.5,-194.38 297.5,-184.26\"/>\n</g>\n<!-- n388 -->\n<g id=\"node27\" class=\"node\">\n<title>n388</title>\n<polygon fill=\"none\" stroke=\"black\" points=\"321,-133 274,-133 274,-110 321,-110 321,-133\"/>\n<text text-anchor=\"start\" x=\"282\" y=\"-118.8\" font-family=\"Times,serif\" font-size=\"14.00\">ID: </text>\n<text text-anchor=\"start\" x=\"304\" y=\"-118.8\" font-family=\"monospace\" font-size=\"14.00\" fill=\"brown\">a</text>\n</g>\n<!-- n387&#45;&#45;n388 -->\n<g id=\"edge19\" class=\"edge\">\n<title>n387&#45;&#45;n388</title>\n<path fill=\"none\" stroke=\"black\" d=\"M297.5,-168.57C297.5,-159.59 297.5,-143.84 297.5,-133.29\"/>\n</g>\n<!-- n1163 -->\n<g id=\"node29\" class=\"node\">\n<title>n1163</title>\n<text text-anchor=\"middle\" x=\"362.5\" y=\"-172.8\" font-family=\"Times,serif\" font-size=\"14.00\">expr_add</text>\n</g>\n<!-- n1162&#45;&#45;n1163 -->\n<g id=\"edge28\" class=\"edge\">\n<title>n1162&#45;&#45;n1163</title>\n<path fill=\"none\" stroke=\"black\" d=\"M352.94,-223.57C355.06,-213.36 359,-194.38 361.1,-184.26\"/>\n</g>\n<!-- n1164 -->\n<g id=\"node30\" class=\"node\">\n<title>n1164</title>\n<text text-anchor=\"middle\" x=\"357.5\" y=\"-117.8\" font-family=\"Times,serif\" font-size=\"14.00\">expr</text>\n</g>\n<!-- n1163&#45;&#45;n1164 -->\n<g id=\"edge24\" class=\"edge\">\n<title>n1163&#45;&#45;n1164</title>\n<path fill=\"none\" stroke=\"black\" d=\"M361.85,-168.57C360.88,-158.36 359.09,-139.38 358.14,-129.26\"/>\n</g>\n<!-- n3496 -->\n<g id=\"node33\" class=\"node\">\n<title>n3496</title>\n<text text-anchor=\"middle\" x=\"415.5\" y=\"-117.8\" font-family=\"Times,serif\" font-size=\"14.00\">expr</text>\n</g>\n<!-- n1163&#45;&#45;n3496 -->\n<g id=\"edge27\" class=\"edge\">\n<title>n1163&#45;&#45;n3496</title>\n<path fill=\"none\" stroke=\"black\" d=\"M369.43,-168.57C379.64,-158.36 398.62,-139.38 408.74,-129.26\"/>\n</g>\n<!-- n1165 -->\n<g id=\"node31\" class=\"node\">\n<title>n1165</title>\n<text text-anchor=\"middle\" x=\"349.5\" y=\"-62.8\" font-family=\"Times,serif\" font-size=\"14.00\">expr_id</text>\n</g>\n<!-- n1164&#45;&#45;n1165 -->\n<g id=\"edge23\" class=\"edge\">\n<title>n1164&#45;&#45;n1165</title>\n<path fill=\"none\" stroke=\"black\" d=\"M356.45,-113.57C354.91,-103.36 352.05,-84.38 350.52,-74.26\"/>\n</g>\n<!-- n1166 -->\n<g id=\"node32\" class=\"node\">\n<title>n1166</title>\n<polygon fill=\"none\" stroke=\"black\" points=\"364,-23 317,-23 317,0 364,0 364,-23\"/>\n<text text-anchor=\"start\" x=\"325\" y=\"-8.8\" font-family=\"Times,serif\" font-size=\"14.00\">ID: </text>\n<text text-anchor=\"start\" x=\"347\" y=\"-8.8\" font-family=\"monospace\" font-size=\"14.00\" fill=\"brown\">b</text>\n</g>\n<!-- n1165&#45;&#45;n1166 -->\n<g id=\"edge22\" class=\"edge\">\n<title>n1165&#45;&#45;n1166</title>\n<path fill=\"none\" stroke=\"black\" d=\"M348.32,-58.57C346.8,-49.59 344.12,-33.84 342.33,-23.29\"/>\n</g>\n<!-- n3497 -->\n<g id=\"node34\" class=\"node\">\n<title>n3497</title>\n<text text-anchor=\"middle\" x=\"423.5\" y=\"-62.8\" font-family=\"Times,serif\" font-size=\"14.00\">expr_const</text>\n</g>\n<!-- n3496&#45;&#45;n3497 -->\n<g id=\"edge26\" class=\"edge\">\n<title>n3496&#45;&#45;n3497</title>\n<path fill=\"none\" stroke=\"black\" d=\"M416.55,-113.57C418.09,-103.36 420.95,-84.38 422.48,-74.26\"/>\n</g>\n<!-- n3498 -->\n<g id=\"node35\" class=\"node\">\n<title>n3498</title>\n<polygon fill=\"none\" stroke=\"black\" points=\"474.5,-23 382.5,-23 382.5,0 474.5,0 474.5,-23\"/>\n<text text-anchor=\"start\" x=\"390.5\" y=\"-8.8\" font-family=\"Times,serif\" font-size=\"14.00\">NUMBER: </text>\n<text text-anchor=\"start\" x=\"457.5\" y=\"-8.8\" font-family=\"monospace\" font-size=\"14.00\" fill=\"brown\">1</text>\n</g>\n<!-- n3497&#45;&#45;n3498 -->\n<g id=\"edge25\" class=\"edge\">\n<title>n3497&#45;&#45;n3498</title>\n<path fill=\"none\" stroke=\"black\" d=\"M424.15,-58.57C425,-49.59 426.49,-33.84 427.48,-23.29\"/>\n</g>\n</g>\n</svg>\n",
            "text/plain": [
              "<graphviz.graphs.Graph at 0x7a433d75df10>"
            ]
          },
          "metadata": {}
        }
      ]
    },
    {
      "cell_type": "markdown",
      "metadata": {
        "id": "Tdx2e8bAVFA2"
      },
      "source": [
        "กระบวนการที่ซับซ้อนที่สุดของการพัฒนาคอมไพเลอร์ในเฟสนี้คือการรองรับการคำนวณค่านิพจน์ซึ่งมีการนิยามแบบรีเคอร์ซีฟ จากพาร์ซทรีข้างต้นจะเห็นว่าโหนด *expr* สามารถงอกลึกลงไปได้เรื่อย ๆ ไม่รู้จบ การสร้างโค้ดให้กับโหนดกลุ่ม *expr* จึงต้องระมัดระวังไม่ให้หน่วยความจำที่เก็บผลลัพธ์ของ *expr* ย่อยระหว่างทางถูกเขียนทับเมื่อประมวลผล *expr* ย่อยตัวอื่น เทคนิคที่นิยมใช้กันคือการเก็บผลลัพธ์ระหว่างทางลงในสแต็ก\n",
        "\n",
        "เราออกแบบการสร้างโค้ดแอสเซมบลี้เพื่อคำนวณ *expr* ใด ๆ ดังนี้\n",
        "* ตามข้อตกลงเดิม โหนด *expr* ทุกโหนดจะสร้างโค้ดแอสเซมบลี้ที่เก็บผลลัพธ์ไว้ในหน่วยความจำ THIS (หรือ R3) เสมอ\n",
        "* โหนด *expr* ใดที่ต้องประมวลผลนิพจน์เชิงซ้อน (เช่น *expr* + *expr*) เมื่อสร้างโค้ดคำนวณ *expr* ตัวซ้ายมือเสร็จแล้ว จะต้องสร้างโค้ดให้เก็บค่า THIS ลงสแต็กก่อนที่จะสร้างโค้ดคำนวณ *expr* ตัวขวามือ ไม่เช่นนั้น THIS จะถูกเขียนทับ เมื่อสร้างโค้ดฝั่งขวาเสร็จแล้วจึงค่อยสร้างโค้ดที่ป็อปค่าออกจากสแต็กมาคำนวณหาผลลัพธ์สุดท้ายอีกทีหนึ่ง\n",
        "\n",
        "คลาส Joy06 ที่สมบูรณ์แล้วเป็นดังโค้ดด้านล่าง ซึ่งมีการทำงานคร่าว ๆ ดังนี้\n",
        "* นิยามเมท็อด `__init__()` ขึ้นใหม่ ที่ไปเรียก `__init__()` ของ Joy05 ซึ่งเป็น superclass ก่อน จากนั้นสร้างโค้ดให้มีการกำหนดค่าเริ่มต้นให้ `SP` โดยตั้งค่าดีฟอลท์ไว้ที่ 0x3fff ซึ่งเป็นหน่วยความจำแรมตำแหน่งสุดท้ายก่อนเป็นหน้าจอแสดงผล ค่า `SP` เริ่มต้นนี้อาจปรับให้เป็นค่าน้อย ๆ ได้ระหว่างการพัฒนาเพื่อให้เห็นค่าในสแต็กจากซิมูเลชันได้\n",
        "* นิยามเมท็อด `expr_add()` เพื่อสร้างโค้ดสำหรับบวกนิพจน์สองตัวเข้าด้วยกันตามขั้นตอนต่อไปนี้\n",
        "    * เรียก `visit()` สำหรับนิพจน์ด้านซ้าย จะได้ผลลัพธ์เก็บอยู่ใน `THIS` ตามข้อตกลง (ที่เรากำลังต้องทำตาม)\n",
        "    * นำผลลัพธ์ที่ได้ใน `THIS` มาเก็บไว้ในสแต็ก\n",
        "    * เรียก `visit()` สำหรับนิพจน์ด้านขวา ได้ผลลัพธ์เก็บอยู่ใน `THIS`\n",
        "    * ดึงค่าจากสแต็กที่เก็บเอาไว้มาบวกเข้าไปใน `THIS` ทำให้ในตอนนี้ `THIS` จะเก็บผลลัพธ์การบวกได้เรียบร้อยแล้วตามข้อตกลง"
      ]
    },
    {
      "cell_type": "code",
      "metadata": {
        "id": "sagRwiNIVFsJ"
      },
      "source": [
        "class Joy06(Joy05):\n",
        "\n",
        "    GRAMMAR = r'''\n",
        "        program: statements\n",
        "        statements: statement*\n",
        "        statement: stmt_assign\n",
        "                 | stmt_if\n",
        "                 | stmt_if_else\n",
        "        stmt_assign: \"let\" ID \"=\" expr \";\"\n",
        "        stmt_if: \"if\" expr \"{\" statements \"}\"\n",
        "        stmt_if_else : \"if\" expr \"{\" statements \"}\" \"else\" \"{\" statements \"}\"\n",
        "        expr: expr_const\n",
        "            | expr_id\n",
        "            | expr_add\n",
        "        expr_add: expr \"+\" expr\n",
        "        expr_const: NUMBER\n",
        "        expr_id: ID\n",
        "\n",
        "        ID: /[_A-Za-z][_0-9A-Za-z]*/\n",
        "        NUMBER: /-?[0-9]+/\n",
        "        WS: /[ \\t\\f\\r\\n]+/\n",
        "        %ignore WS\n",
        "    '''\n",
        "\n",
        "    def __init__(self, init_sp=0x3fff):\n",
        "        # call Joy05's __init__()\n",
        "        super().__init__()\n",
        "        # produce asm code to initialize stack pointer\n",
        "        self.gen_init_stack(init_sp)\n",
        "\n",
        "    def gen_init_stack(self, addr=0x3fff):\n",
        "        \"\"\"\n",
        "        Generate Hack assembly to initialize stack pointer (SP) to the specified\n",
        "        address, addr.\n",
        "        \"\"\"\n",
        "        self._asm.append(f'''\n",
        "            // init stack (SP <- {addr})\n",
        "            @{addr}\n",
        "            D=A\n",
        "            @SP\n",
        "            M=D\n",
        "        ''')\n",
        "\n",
        "    def gen_push(self, mem):\n",
        "        \"\"\"\n",
        "        Generate Hack assembly to push the memory location mem to the stack.\n",
        "        \"\"\"\n",
        "        self._asm.append(f'''\n",
        "            // Push [{mem}]\n",
        "            @{mem}\n",
        "            D=M\n",
        "            @SP\n",
        "            A=M\n",
        "            M=D\n",
        "            @SP\n",
        "            M=M-1\n",
        "        ''')\n",
        "\n",
        "    def gen_pop(self, mem=None):\n",
        "        \"\"\"\n",
        "        Generate Hack assembly to pop the value from the top of stack into the\n",
        "        memory location mem register.  If mem is None, the stack pointer is\n",
        "        updated without modifying memory.\n",
        "        \"\"\"\n",
        "        if mem:\n",
        "            self._asm.append(f'''\n",
        "                // Pop [{mem}]\n",
        "                @SP\n",
        "                AM=M+1\n",
        "                D=M\n",
        "                @{mem}\n",
        "                M=D\n",
        "            ''')\n",
        "        else:\n",
        "            self._asm.append(f'''\n",
        "                // Pop\n",
        "                @SP\n",
        "                M=M+1\n",
        "            ''')\n",
        "\n",
        "    def expr_add(self, tree):\n",
        "        [expr1, expr2] = tree.children\n",
        "        # evaluate expr1; the result should be in THIS\n",
        "        self.visit(expr1)\n",
        "        # save THIS to stack before visiting expr2 (THIS will be destroyed!)\n",
        "        self.gen_push('THIS')\n",
        "        # evaluate expr2; the result should be in THIS\n",
        "        self.visit(expr2)\n",
        "        # pop the previously stored THIS into THAT\n",
        "        self.gen_pop('THAT')\n",
        "\n",
        "        # now THIS = expr2, THAT = expr1\n",
        "        # add THIS to THAT; store result in THIS\n",
        "        self._asm.append('''\n",
        "            // [THIS] <- [THAT] + [THIS]\n",
        "            @THAT\n",
        "            D=M\n",
        "            @THIS\n",
        "            D=D+M\n",
        "            M=D\n",
        "        ''')"
      ],
      "execution_count": null,
      "outputs": []
    },
    {
      "cell_type": "markdown",
      "metadata": {
        "id": "l3aIRuD_PMij"
      },
      "source": [
        "ทดสอบการเรียกใช้งาน โดยกำหนด SP ให้เริ่มต้นที่ 15 แทนที่จะเป็นส่วนท้ายสุดของหน่วยความจำ เพื่อจะได้เห็นการเปลี่ยนแปลงของสแต็กได้ง่ายในซิมูเลชัน ทดลองเปิดไฟล์ `asm.out` คู่กับการรันซิมูเลชัน"
      ]
    },
    {
      "cell_type": "code",
      "metadata": {
        "id": "8zc8DjTgCrqa",
        "colab": {
          "base_uri": "https://localhost:8080/"
        },
        "outputId": "c8be28c4-fb43-4918-a5bf-a41857b97ec6"
      },
      "source": [
        "asm = Joy06(init_sp=15).compile('''\n",
        "    let a = 8;\n",
        "    let b = a+2;\n",
        "    let c = a+b+1;\n",
        "''')\n",
        "listing(asm)"
      ],
      "execution_count": null,
      "outputs": [
        {
          "output_type": "stream",
          "name": "stdout",
          "text": [
            "// init stack (SP <- 15)\n",
            "   0: @15\n",
            "   1: D=A\n",
            "   2: @SP\n",
            "   3: M=D\n",
            "//##Normal Number(8)##\n",
            "// [THIS] <- 8\n",
            "   4: @8\n",
            "   5: D=A\n",
            "   6: @THIS\n",
            "   7: M=D\n",
            "// [.var.a] <- [THIS]\n",
            "   8: @THIS\n",
            "   9: D=M\n",
            "  10: @.var.a\n",
            "  11: M=D\n",
            "// [THIS] <- [.var.a]\n",
            "  12: @.var.a\n",
            "  13: D=M\n",
            "  14: @THIS\n",
            "  15: M=D\n",
            "// Push [THIS]\n",
            "  16: @THIS\n",
            "  17: D=M\n",
            "  18: @SP\n",
            "  19: A=M\n",
            "  20: M=D\n",
            "  21: @SP\n",
            "  22: M=M-1\n",
            "//##Normal Number(2)##\n",
            "// [THIS] <- 2\n",
            "  23: @2\n",
            "  24: D=A\n",
            "  25: @THIS\n",
            "  26: M=D\n",
            "// Pop [THAT]\n",
            "  27: @SP\n",
            "  28: AM=M+1\n",
            "  29: D=M\n",
            "  30: @THAT\n",
            "  31: M=D\n",
            "// [THIS] <- [THAT] + [THIS]\n",
            "  32: @THAT\n",
            "  33: D=M\n",
            "  34: @THIS\n",
            "  35: D=D+M\n",
            "  36: M=D\n",
            "// [.var.b] <- [THIS]\n",
            "  37: @THIS\n",
            "  38: D=M\n",
            "  39: @.var.b\n",
            "  40: M=D\n",
            "// [THIS] <- [.var.a]\n",
            "  41: @.var.a\n",
            "  42: D=M\n",
            "  43: @THIS\n",
            "  44: M=D\n",
            "// Push [THIS]\n",
            "  45: @THIS\n",
            "  46: D=M\n",
            "  47: @SP\n",
            "  48: A=M\n",
            "  49: M=D\n",
            "  50: @SP\n",
            "  51: M=M-1\n",
            "// [THIS] <- [.var.b]\n",
            "  52: @.var.b\n",
            "  53: D=M\n",
            "  54: @THIS\n",
            "  55: M=D\n",
            "// Push [THIS]\n",
            "  56: @THIS\n",
            "  57: D=M\n",
            "  58: @SP\n",
            "  59: A=M\n",
            "  60: M=D\n",
            "  61: @SP\n",
            "  62: M=M-1\n",
            "//##Normal Number(1)##\n",
            "// [THIS] <- 1\n",
            "  63: @1\n",
            "  64: D=A\n",
            "  65: @THIS\n",
            "  66: M=D\n",
            "// Pop [THAT]\n",
            "  67: @SP\n",
            "  68: AM=M+1\n",
            "  69: D=M\n",
            "  70: @THAT\n",
            "  71: M=D\n",
            "// [THIS] <- [THAT] + [THIS]\n",
            "  72: @THAT\n",
            "  73: D=M\n",
            "  74: @THIS\n",
            "  75: D=D+M\n",
            "  76: M=D\n",
            "// Pop [THAT]\n",
            "  77: @SP\n",
            "  78: AM=M+1\n",
            "  79: D=M\n",
            "  80: @THAT\n",
            "  81: M=D\n",
            "// [THIS] <- [THAT] + [THIS]\n",
            "  82: @THAT\n",
            "  83: D=M\n",
            "  84: @THIS\n",
            "  85: D=D+M\n",
            "  86: M=D\n",
            "// [.var.c] <- [THIS]\n",
            "  87: @THIS\n",
            "  88: D=M\n",
            "  89: @.var.c\n",
            "  90: M=D\n"
          ]
        }
      ]
    },
    {
      "cell_type": "code",
      "source": [
        "assemble_and_simulate(asm)"
      ],
      "metadata": {
        "id": "R3v7JhGpWsZv",
        "colab": {
          "base_uri": "https://localhost:8080/",
          "height": 644
        },
        "outputId": "9210376c-1b42-4900-b3c1-ce6564b4c0af"
      },
      "execution_count": null,
      "outputs": [
        {
          "output_type": "display_data",
          "data": {
            "text/html": [
              "\n",
              "<link rel=\"stylesheet\" href=\"https://jittat.gitlab.io/hacksim/sim.css\">\n",
              "<div id=\"sim-ui\">\n",
              "  <simulator v-bind:simulator=\"simulator\" memory-display-slots=\"30\" screen-scale=\"1\" v-bind:light-weight=\"false\" fastest-steps=\"103\"/>\n",
              "</div>\n",
              "\n",
              "<script>var exports = {};</script>\n",
              "<script src=\"https://cdn.jsdelivr.net/npm/vue/dist/vue.js\"></script>\n",
              "<script src=\"https://jittat.gitlab.io/hacksim/simulator.js\"></script>\n",
              "<script src=\"https://jittat.gitlab.io/hacksim/simulator-ui.js\"></script>\n",
              "\n",
              "<script>\n",
              "  var simulator = new HackSimulator();\n",
              "simulator.loadInstructions([15,60432,0,58120,8,60432,3,58120,3,64528,16,58120,16,64528,3,58120,3,64528,0,64544,58120,0,64648,2,60432,3,58120,0,65000,64528,4,58120,4,64528,3,61584,58120,3,64528,17,58120,16,64528,3,58120,3,64528,0,64544,58120,0,64648,17,64528,3,58120,3,64528,0,64544,58120,0,64648,1,60432,3,58120,0,65000,64528,4,58120,4,64528,3,61584,58120,0,65000,64528,4,58120,4,64528,3,61584,58120,3,64528,18,58120]);\n",
              "simulator.sourceCode = [{ \"lineNumber\" : null, \"code\" : \"// init stack (SP <- 15)\"}, { \"lineNumber\" : 0, \"code\" : \"@15\"}, { \"lineNumber\" : 1, \"code\" : \"D=A\"}, { \"lineNumber\" : 2, \"code\" : \"@SP\"}, { \"lineNumber\" : 3, \"code\" : \"M=D\"}, { \"lineNumber\" : null, \"code\" : \"//##Normal Number(8)##\"}, { \"lineNumber\" : null, \"code\" : \"// [THIS] <- 8\"}, { \"lineNumber\" : 4, \"code\" : \"@8\"}, { \"lineNumber\" : 5, \"code\" : \"D=A\"}, { \"lineNumber\" : 6, \"code\" : \"@THIS\"}, { \"lineNumber\" : 7, \"code\" : \"M=D\"}, { \"lineNumber\" : null, \"code\" : \"// [.var.a] <- [THIS]\"}, { \"lineNumber\" : 8, \"code\" : \"@THIS\"}, { \"lineNumber\" : 9, \"code\" : \"D=M\"}, { \"lineNumber\" : 10, \"code\" : \"@.var.a\"}, { \"lineNumber\" : 11, \"code\" : \"M=D\"}, { \"lineNumber\" : null, \"code\" : \"// [THIS] <- [.var.a]\"}, { \"lineNumber\" : 12, \"code\" : \"@.var.a\"}, { \"lineNumber\" : 13, \"code\" : \"D=M\"}, { \"lineNumber\" : 14, \"code\" : \"@THIS\"}, { \"lineNumber\" : 15, \"code\" : \"M=D\"}, { \"lineNumber\" : null, \"code\" : \"// Push [THIS]\"}, { \"lineNumber\" : 16, \"code\" : \"@THIS\"}, { \"lineNumber\" : 17, \"code\" : \"D=M\"}, { \"lineNumber\" : 18, \"code\" : \"@SP\"}, { \"lineNumber\" : 19, \"code\" : \"A=M\"}, { \"lineNumber\" : 20, \"code\" : \"M=D\"}, { \"lineNumber\" : 21, \"code\" : \"@SP\"}, { \"lineNumber\" : 22, \"code\" : \"M=M-1\"}, { \"lineNumber\" : null, \"code\" : \"//##Normal Number(2)##\"}, { \"lineNumber\" : null, \"code\" : \"// [THIS] <- 2\"}, { \"lineNumber\" : 23, \"code\" : \"@2\"}, { \"lineNumber\" : 24, \"code\" : \"D=A\"}, { \"lineNumber\" : 25, \"code\" : \"@THIS\"}, { \"lineNumber\" : 26, \"code\" : \"M=D\"}, { \"lineNumber\" : null, \"code\" : \"// Pop [THAT]\"}, { \"lineNumber\" : 27, \"code\" : \"@SP\"}, { \"lineNumber\" : 28, \"code\" : \"AM=M+1\"}, { \"lineNumber\" : 29, \"code\" : \"D=M\"}, { \"lineNumber\" : 30, \"code\" : \"@THAT\"}, { \"lineNumber\" : 31, \"code\" : \"M=D\"}, { \"lineNumber\" : null, \"code\" : \"// [THIS] <- [THAT] + [THIS]\"}, { \"lineNumber\" : 32, \"code\" : \"@THAT\"}, { \"lineNumber\" : 33, \"code\" : \"D=M\"}, { \"lineNumber\" : 34, \"code\" : \"@THIS\"}, { \"lineNumber\" : 35, \"code\" : \"D=D+M\"}, { \"lineNumber\" : 36, \"code\" : \"M=D\"}, { \"lineNumber\" : null, \"code\" : \"// [.var.b] <- [THIS]\"}, { \"lineNumber\" : 37, \"code\" : \"@THIS\"}, { \"lineNumber\" : 38, \"code\" : \"D=M\"}, { \"lineNumber\" : 39, \"code\" : \"@.var.b\"}, { \"lineNumber\" : 40, \"code\" : \"M=D\"}, { \"lineNumber\" : null, \"code\" : \"// [THIS] <- [.var.a]\"}, { \"lineNumber\" : 41, \"code\" : \"@.var.a\"}, { \"lineNumber\" : 42, \"code\" : \"D=M\"}, { \"lineNumber\" : 43, \"code\" : \"@THIS\"}, { \"lineNumber\" : 44, \"code\" : \"M=D\"}, { \"lineNumber\" : null, \"code\" : \"// Push [THIS]\"}, { \"lineNumber\" : 45, \"code\" : \"@THIS\"}, { \"lineNumber\" : 46, \"code\" : \"D=M\"}, { \"lineNumber\" : 47, \"code\" : \"@SP\"}, { \"lineNumber\" : 48, \"code\" : \"A=M\"}, { \"lineNumber\" : 49, \"code\" : \"M=D\"}, { \"lineNumber\" : 50, \"code\" : \"@SP\"}, { \"lineNumber\" : 51, \"code\" : \"M=M-1\"}, { \"lineNumber\" : null, \"code\" : \"// [THIS] <- [.var.b]\"}, { \"lineNumber\" : 52, \"code\" : \"@.var.b\"}, { \"lineNumber\" : 53, \"code\" : \"D=M\"}, { \"lineNumber\" : 54, \"code\" : \"@THIS\"}, { \"lineNumber\" : 55, \"code\" : \"M=D\"}, { \"lineNumber\" : null, \"code\" : \"// Push [THIS]\"}, { \"lineNumber\" : 56, \"code\" : \"@THIS\"}, { \"lineNumber\" : 57, \"code\" : \"D=M\"}, { \"lineNumber\" : 58, \"code\" : \"@SP\"}, { \"lineNumber\" : 59, \"code\" : \"A=M\"}, { \"lineNumber\" : 60, \"code\" : \"M=D\"}, { \"lineNumber\" : 61, \"code\" : \"@SP\"}, { \"lineNumber\" : 62, \"code\" : \"M=M-1\"}, { \"lineNumber\" : null, \"code\" : \"//##Normal Number(1)##\"}, { \"lineNumber\" : null, \"code\" : \"// [THIS] <- 1\"}, { \"lineNumber\" : 63, \"code\" : \"@1\"}, { \"lineNumber\" : 64, \"code\" : \"D=A\"}, { \"lineNumber\" : 65, \"code\" : \"@THIS\"}, { \"lineNumber\" : 66, \"code\" : \"M=D\"}, { \"lineNumber\" : null, \"code\" : \"// Pop [THAT]\"}, { \"lineNumber\" : 67, \"code\" : \"@SP\"}, { \"lineNumber\" : 68, \"code\" : \"AM=M+1\"}, { \"lineNumber\" : 69, \"code\" : \"D=M\"}, { \"lineNumber\" : 70, \"code\" : \"@THAT\"}, { \"lineNumber\" : 71, \"code\" : \"M=D\"}, { \"lineNumber\" : null, \"code\" : \"// [THIS] <- [THAT] + [THIS]\"}, { \"lineNumber\" : 72, \"code\" : \"@THAT\"}, { \"lineNumber\" : 73, \"code\" : \"D=M\"}, { \"lineNumber\" : 74, \"code\" : \"@THIS\"}, { \"lineNumber\" : 75, \"code\" : \"D=D+M\"}, { \"lineNumber\" : 76, \"code\" : \"M=D\"}, { \"lineNumber\" : null, \"code\" : \"// Pop [THAT]\"}, { \"lineNumber\" : 77, \"code\" : \"@SP\"}, { \"lineNumber\" : 78, \"code\" : \"AM=M+1\"}, { \"lineNumber\" : 79, \"code\" : \"D=M\"}, { \"lineNumber\" : 80, \"code\" : \"@THAT\"}, { \"lineNumber\" : 81, \"code\" : \"M=D\"}, { \"lineNumber\" : null, \"code\" : \"// [THIS] <- [THAT] + [THIS]\"}, { \"lineNumber\" : 82, \"code\" : \"@THAT\"}, { \"lineNumber\" : 83, \"code\" : \"D=M\"}, { \"lineNumber\" : 84, \"code\" : \"@THIS\"}, { \"lineNumber\" : 85, \"code\" : \"D=D+M\"}, { \"lineNumber\" : 86, \"code\" : \"M=D\"}, { \"lineNumber\" : null, \"code\" : \"// [.var.c] <- [THIS]\"}, { \"lineNumber\" : 87, \"code\" : \"@THIS\"}, { \"lineNumber\" : 88, \"code\" : \"D=M\"}, { \"lineNumber\" : 89, \"code\" : \"@.var.c\"}, { \"lineNumber\" : 90, \"code\" : \"M=D\"}]\n",
              "  simulator.memoryWriteCallbacks.push(memUpdateCallback);\n",
              "  simulator.memoryWriteCallbacks.push(screenUpdateCallback);\n",
              "\n",
              "  var app = new Vue({\n",
              "    el: '#sim-ui',\n",
              "    data: {\n",
              "      simulator: simulator\n",
              "    }\n",
              "  });\n",
              "</script>\n"
            ]
          },
          "metadata": {}
        }
      ]
    },
    {
      "cell_type": "markdown",
      "metadata": {
        "id": "0r2QYPN1EUd6"
      },
      "source": [
        "## Test case\n",
        "สคริปต์ทดสอบคลาส Joy06 ด้านล่างต่อยอดมาจากคลาสตัวทดสอบของ Joy05 ดังนั้นสคริปต์ทดสอบตั้งแต่ Joy05 ลงไปถึง ​Joy01 ทั้งหมดจึงถูกดึงมาทดสอบโดยอัตโนมัติ\n",
        "\n",
        "นอกจากนั้นสคริปต์ทดสอบในแต่ละเคสจะตรวจสอบค่า SP เพื่อให้แน่ใจว่าเมื่อจบโปรแกรมแล้วสแต็กกลับอยู่ในสภาพที่ว่างเปล่า (SP = 0x3fff) เช่นเดิม\n",
        "\n",
        "เห็นได้ว่ามีการสร้างสคริปต์ทดสอบ `test_expr_avoid_predefined_symbol()` ขึ้นมาทับของเดิมที่เคยนิยามเอาไว้ใน Joy02 เนื่องจากสคริปต์เดิมนั้นมีการตรวจสอบว่าหน่วยความจำตำแหน่งที่ 0 ต้องไม่เปลี่ยนแปลงด้วยคำสั่ง `let R0 = 100;` โดยต้องมีค่าเป็น 0 เมื่อจบโปรแกรม แต่ Joy06 ได้มีการสร้างโค้ดกำหนดค่าเริ่มต้นให้ SP (ตำแหน่ง 0 เช่นกัน) เป็น 0x3fff เอาไว้ที่ต้นโปรแกรม จึงทำให้สคริปต์ทดสอบเดิมรันไม่ผ่าน"
      ]
    },
    {
      "cell_type": "code",
      "metadata": {
        "id": "vnH8AG63wSIS",
        "colab": {
          "base_uri": "https://localhost:8080/"
        },
        "outputId": "d1e7f3b5-e92a-4f02-8400-8946ddb84419"
      },
      "source": [
        "class TestJoy06(TestJoy05):\n",
        "\n",
        "    JOY_COMPILER = Joy06\n",
        "\n",
        "    def test_expr_add(self):\n",
        "        self.compile_and_run('''\n",
        "            let a = 3+4;\n",
        "        ''')\n",
        "        self.assertEqual(self.cpu.ram[16], 7)\n",
        "        self.assertEqual(self.cpu.ram[0], 0x3fff)  # สแต็กต้องกลับมาว่างเปล่า\n",
        "\n",
        "run_test(TestJoy06)"
      ],
      "execution_count": null,
      "outputs": [
        {
          "output_type": "stream",
          "name": "stderr",
          "text": [
            "......."
          ]
        },
        {
          "output_type": "stream",
          "name": "stdout",
          "text": [
            "None\n",
            "None\n",
            "None\n",
            "None\n",
            "None\n",
            "None\n",
            "None\n",
            "None\n",
            "None\n"
          ]
        },
        {
          "output_type": "stream",
          "name": "stderr",
          "text": [
            "....\n",
            "----------------------------------------------------------------------\n",
            "Ran 11 tests in 0.296s\n",
            "\n",
            "OK\n"
          ]
        },
        {
          "output_type": "stream",
          "name": "stdout",
          "text": [
            "None\n",
            "None\n",
            "None\n"
          ]
        }
      ]
    },
    {
      "cell_type": "markdown",
      "metadata": {
        "id": "w140t6u8kOzu"
      },
      "source": [
        "# Joy 0.7 - More Math Expression\n",
        "Joy 0.7 รองรับทุกฟีเจอร์ของ Joy 0.6 โดยมีฟีเจอร์เพิ่มเติมดังนี้\n",
        "\n",
        "---\n",
        "* รองรับการสร้างนิพจน์แบบ binary subtraction ในรูป: *expr* `-` *expr*\n",
        "* รองรับการสร้างนิพจน์แบบ unary subtraction ในรูป: `-`*expr*\n",
        "* รองรับการสร้างนิพจน์แบบวงเล็บในรูป: `(`*expr*`)`\n",
        "---\n",
        "คำใบ้: นิพจน์แบบวงเล็บนั้นเมื่อสร้างกฎในแกรมมาร์แล้วสามารถใช้งานได้ทันทีโดยไม่ต้องนิยามเมท็อดมาประมวลผลแต่อย่างใด ลองวิเคราะห์ดูว่าเหตุใดจึงทำเช่นนั้นได้"
      ]
    },
    {
      "cell_type": "code",
      "metadata": {
        "id": "Lk9hrbFr7uuB"
      },
      "source": [
        "# DO NOT ERASE THIS CELL - to be graded\n",
        "\n",
        "class Joy07(Joy06):\n",
        "\n",
        "    GRAMMAR = r'''\n",
        "        program: statements\n",
        "        statements: statement*\n",
        "        statement: stmt_assign\n",
        "                 | stmt_if\n",
        "                 | stmt_if_else\n",
        "        stmt_assign: \"let\" ID \"=\" expr \";\"\n",
        "        stmt_if: \"if\" expr \"{\" statements \"}\"\n",
        "        stmt_if_else : \"if\" expr \"{\" statements \"}\" \"else\" \"{\" statements \"}\"\n",
        "        expr: expr_const\n",
        "            | expr_id\n",
        "            | expr_add\n",
        "            | expr_sub\n",
        "            | expr_neg\n",
        "        expr_sub: \"(\"? expr \"-\" expr \")\"?\n",
        "        expr_add: \"(\"? expr \"+\" expr \")\"?\n",
        "        expr_const: NUMBER\n",
        "        expr_neg: \"-\" expr\n",
        "        expr_id: ID\n",
        "\n",
        "        ID: /[_A-Za-z][_0-9A-Za-z]*/\n",
        "        NUMBER: /-?[0-9]+/\n",
        "        WS: /[ \\t\\f\\r\\n]+/\n",
        "        %ignore WS\n",
        "    '''\n",
        "\n",
        "    def expr_neg (self,tree) :\n",
        "      expr = tree.children[0]\n",
        "      self.visit(expr)\n",
        "      self._asm.append(f'''\n",
        "        //##Negative Variable##\n",
        "          M=-M\n",
        "      ''')\n",
        "\n",
        "    def expr_sub(self,tree) :\n",
        "      expr1 = tree.children[0]\n",
        "      expr2 = tree.children[1]\n",
        "\n",
        "      self.visit(expr1)\n",
        "      self.gen_push('THIS')\n",
        "      self.visit(expr2)\n",
        "      self.gen_pop('THAT')\n",
        "      self._asm.append('''\n",
        "          // [THIS] <- [THAT] - [THIS]\n",
        "          @THAT\n",
        "          D=M\n",
        "          @THIS\n",
        "          D=D-M\n",
        "          M=D\n",
        "      ''')\n",
        "\n",
        "\n",
        "    # add your rule processing methods here"
      ],
      "execution_count": null,
      "outputs": []
    },
    {
      "cell_type": "code",
      "source": [
        "tree = Joy07().parse('''\n",
        "    let a = 8;\n",
        "    let b = -a+5;\n",
        "\n",
        "''')\n",
        "\n",
        "\n",
        "draw(tree)"
      ],
      "metadata": {
        "colab": {
          "base_uri": "https://localhost:8080/",
          "height": 774
        },
        "id": "9OLLIpwAXQBs",
        "outputId": "7bc880c6-8eb4-4b5b-abff-1a3c49a7fa09"
      },
      "execution_count": null,
      "outputs": [
        {
          "output_type": "display_data",
          "data": {
            "image/svg+xml": "<?xml version=\"1.0\" encoding=\"UTF-8\" standalone=\"no\"?>\n<!DOCTYPE svg PUBLIC \"-//W3C//DTD SVG 1.1//EN\"\n \"http://www.w3.org/Graphics/SVG/1.1/DTD/svg11.dtd\">\n<!-- Generated by graphviz version 2.43.0 (0)\n -->\n<!-- Title: %3 Pages: 1 -->\n<svg width=\"300pt\" height=\"565pt\"\n viewBox=\"0.00 0.00 299.50 565.00\" xmlns=\"http://www.w3.org/2000/svg\" xmlns:xlink=\"http://www.w3.org/1999/xlink\">\n<g id=\"graph0\" class=\"graph\" transform=\"scale(1 1) rotate(0) translate(4 561)\">\n<title>%3</title>\n<polygon fill=\"white\" stroke=\"transparent\" points=\"-4,4 -4,-561 295.5,-561 295.5,4 -4,4\"/>\n<!-- n0 -->\n<g id=\"node1\" class=\"node\">\n<title>n0</title>\n<text text-anchor=\"middle\" x=\"110.5\" y=\"-545.8\" font-family=\"Times,serif\" font-size=\"14.00\">program</text>\n</g>\n<!-- n1 -->\n<g id=\"node2\" class=\"node\">\n<title>n1</title>\n<text text-anchor=\"middle\" x=\"110.5\" y=\"-494.8\" font-family=\"Times,serif\" font-size=\"14.00\">statements</text>\n</g>\n<!-- n0&#45;&#45;n1 -->\n<g id=\"edge20\" class=\"edge\">\n<title>n0&#45;&#45;n1</title>\n<path fill=\"none\" stroke=\"black\" d=\"M110.5,-541.69C110.5,-532.33 110.5,-515.59 110.5,-506.26\"/>\n</g>\n<!-- n2 -->\n<g id=\"node3\" class=\"node\">\n<title>n2</title>\n<text text-anchor=\"middle\" x=\"75.5\" y=\"-443.8\" font-family=\"Times,serif\" font-size=\"14.00\">statement</text>\n</g>\n<!-- n1&#45;&#45;n2 -->\n<g id=\"edge6\" class=\"edge\">\n<title>n1&#45;&#45;n2</title>\n<path fill=\"none\" stroke=\"black\" d=\"M105.63,-490.69C98.95,-481.33 86.99,-464.59 80.33,-455.26\"/>\n</g>\n<!-- n24 -->\n<g id=\"node9\" class=\"node\">\n<title>n24</title>\n<text text-anchor=\"middle\" x=\"149.5\" y=\"-443.8\" font-family=\"Times,serif\" font-size=\"14.00\">statement</text>\n</g>\n<!-- n1&#45;&#45;n24 -->\n<g id=\"edge19\" class=\"edge\">\n<title>n1&#45;&#45;n24</title>\n<path fill=\"none\" stroke=\"black\" d=\"M115.92,-490.69C123.37,-481.33 136.7,-464.59 144.12,-455.26\"/>\n</g>\n<!-- n3 -->\n<g id=\"node4\" class=\"node\">\n<title>n3</title>\n<text text-anchor=\"middle\" x=\"69.5\" y=\"-392.8\" font-family=\"Times,serif\" font-size=\"14.00\">stmt_assign</text>\n</g>\n<!-- n2&#45;&#45;n3 -->\n<g id=\"edge5\" class=\"edge\">\n<title>n2&#45;&#45;n3</title>\n<path fill=\"none\" stroke=\"black\" d=\"M74.67,-439.69C73.52,-430.33 71.47,-413.59 70.33,-404.26\"/>\n</g>\n<!-- n4 -->\n<g id=\"node5\" class=\"node\">\n<title>n4</title>\n<polygon fill=\"none\" stroke=\"black\" points=\"47,-353 0,-353 0,-330 47,-330 47,-353\"/>\n<text text-anchor=\"start\" x=\"8\" y=\"-338.8\" font-family=\"Times,serif\" font-size=\"14.00\">ID: </text>\n<text text-anchor=\"start\" x=\"30\" y=\"-338.8\" font-family=\"monospace\" font-size=\"14.00\" fill=\"brown\">a</text>\n</g>\n<!-- n3&#45;&#45;n4 -->\n<g id=\"edge1\" class=\"edge\">\n<title>n3&#45;&#45;n4</title>\n<path fill=\"none\" stroke=\"black\" d=\"M63.49,-388.57C55.69,-379.59 42.02,-363.84 32.86,-353.29\"/>\n</g>\n<!-- n5 -->\n<g id=\"node6\" class=\"node\">\n<title>n5</title>\n<text text-anchor=\"middle\" x=\"77.5\" y=\"-337.8\" font-family=\"Times,serif\" font-size=\"14.00\">expr</text>\n</g>\n<!-- n3&#45;&#45;n5 -->\n<g id=\"edge4\" class=\"edge\">\n<title>n3&#45;&#45;n5</title>\n<path fill=\"none\" stroke=\"black\" d=\"M70.55,-388.57C72.09,-378.36 74.95,-359.38 76.48,-349.26\"/>\n</g>\n<!-- n6 -->\n<g id=\"node7\" class=\"node\">\n<title>n6</title>\n<text text-anchor=\"middle\" x=\"77.5\" y=\"-282.8\" font-family=\"Times,serif\" font-size=\"14.00\">expr_const</text>\n</g>\n<!-- n5&#45;&#45;n6 -->\n<g id=\"edge3\" class=\"edge\">\n<title>n5&#45;&#45;n6</title>\n<path fill=\"none\" stroke=\"black\" d=\"M77.5,-333.57C77.5,-323.36 77.5,-304.38 77.5,-294.26\"/>\n</g>\n<!-- n7 -->\n<g id=\"node8\" class=\"node\">\n<title>n7</title>\n<polygon fill=\"none\" stroke=\"black\" points=\"123.5,-243 31.5,-243 31.5,-220 123.5,-220 123.5,-243\"/>\n<text text-anchor=\"start\" x=\"39.5\" y=\"-228.8\" font-family=\"Times,serif\" font-size=\"14.00\">NUMBER: </text>\n<text text-anchor=\"start\" x=\"106.5\" y=\"-228.8\" font-family=\"monospace\" font-size=\"14.00\" fill=\"brown\">8</text>\n</g>\n<!-- n6&#45;&#45;n7 -->\n<g id=\"edge2\" class=\"edge\">\n<title>n6&#45;&#45;n7</title>\n<path fill=\"none\" stroke=\"black\" d=\"M77.5,-278.57C77.5,-269.59 77.5,-253.84 77.5,-243.29\"/>\n</g>\n<!-- n25 -->\n<g id=\"node10\" class=\"node\">\n<title>n25</title>\n<text text-anchor=\"middle\" x=\"152.5\" y=\"-392.8\" font-family=\"Times,serif\" font-size=\"14.00\">stmt_assign</text>\n</g>\n<!-- n24&#45;&#45;n25 -->\n<g id=\"edge18\" class=\"edge\">\n<title>n24&#45;&#45;n25</title>\n<path fill=\"none\" stroke=\"black\" d=\"M149.92,-439.69C150.49,-430.33 151.52,-413.59 152.09,-404.26\"/>\n</g>\n<!-- n26 -->\n<g id=\"node11\" class=\"node\">\n<title>n26</title>\n<polygon fill=\"none\" stroke=\"black\" points=\"169,-353 122,-353 122,-330 169,-330 169,-353\"/>\n<text text-anchor=\"start\" x=\"130\" y=\"-338.8\" font-family=\"Times,serif\" font-size=\"14.00\">ID: </text>\n<text text-anchor=\"start\" x=\"152\" y=\"-338.8\" font-family=\"monospace\" font-size=\"14.00\" fill=\"brown\">b</text>\n</g>\n<!-- n25&#45;&#45;n26 -->\n<g id=\"edge7\" class=\"edge\">\n<title>n25&#45;&#45;n26</title>\n<path fill=\"none\" stroke=\"black\" d=\"M151.58,-388.57C150.4,-379.59 148.32,-363.84 146.92,-353.29\"/>\n</g>\n<!-- n27 -->\n<g id=\"node12\" class=\"node\">\n<title>n27</title>\n<text text-anchor=\"middle\" x=\"199.5\" y=\"-337.8\" font-family=\"Times,serif\" font-size=\"14.00\">expr</text>\n</g>\n<!-- n25&#45;&#45;n27 -->\n<g id=\"edge17\" class=\"edge\">\n<title>n25&#45;&#45;n27</title>\n<path fill=\"none\" stroke=\"black\" d=\"M158.64,-388.57C167.7,-378.36 184.53,-359.38 193.5,-349.26\"/>\n</g>\n<!-- n28 -->\n<g id=\"node13\" class=\"node\">\n<title>n28</title>\n<text text-anchor=\"middle\" x=\"199.5\" y=\"-282.8\" font-family=\"Times,serif\" font-size=\"14.00\">expr_add</text>\n</g>\n<!-- n27&#45;&#45;n28 -->\n<g id=\"edge16\" class=\"edge\">\n<title>n27&#45;&#45;n28</title>\n<path fill=\"none\" stroke=\"black\" d=\"M199.5,-333.57C199.5,-323.36 199.5,-304.38 199.5,-294.26\"/>\n</g>\n<!-- n29 -->\n<g id=\"node14\" class=\"node\">\n<title>n29</title>\n<text text-anchor=\"middle\" x=\"177.5\" y=\"-227.8\" font-family=\"Times,serif\" font-size=\"14.00\">expr</text>\n</g>\n<!-- n28&#45;&#45;n29 -->\n<g id=\"edge12\" class=\"edge\">\n<title>n28&#45;&#45;n29</title>\n<path fill=\"none\" stroke=\"black\" d=\"M196.62,-278.57C192.38,-268.36 184.51,-249.38 180.31,-239.26\"/>\n</g>\n<!-- n156 -->\n<g id=\"node19\" class=\"node\">\n<title>n156</title>\n<text text-anchor=\"middle\" x=\"236.5\" y=\"-227.8\" font-family=\"Times,serif\" font-size=\"14.00\">expr</text>\n</g>\n<!-- n28&#45;&#45;n156 -->\n<g id=\"edge15\" class=\"edge\">\n<title>n28&#45;&#45;n156</title>\n<path fill=\"none\" stroke=\"black\" d=\"M204.34,-278.57C211.47,-268.36 224.72,-249.38 231.78,-239.26\"/>\n</g>\n<!-- n30 -->\n<g id=\"node15\" class=\"node\">\n<title>n30</title>\n<text text-anchor=\"middle\" x=\"169.5\" y=\"-172.8\" font-family=\"Times,serif\" font-size=\"14.00\">expr_neg</text>\n</g>\n<!-- n29&#45;&#45;n30 -->\n<g id=\"edge11\" class=\"edge\">\n<title>n29&#45;&#45;n30</title>\n<path fill=\"none\" stroke=\"black\" d=\"M176.45,-223.57C174.91,-213.36 172.05,-194.38 170.52,-184.26\"/>\n</g>\n<!-- n31 -->\n<g id=\"node16\" class=\"node\">\n<title>n31</title>\n<text text-anchor=\"middle\" x=\"168.5\" y=\"-117.8\" font-family=\"Times,serif\" font-size=\"14.00\">expr</text>\n</g>\n<!-- n30&#45;&#45;n31 -->\n<g id=\"edge10\" class=\"edge\">\n<title>n30&#45;&#45;n31</title>\n<path fill=\"none\" stroke=\"black\" d=\"M169.37,-168.57C169.18,-158.36 168.82,-139.38 168.63,-129.26\"/>\n</g>\n<!-- n32 -->\n<g id=\"node17\" class=\"node\">\n<title>n32</title>\n<text text-anchor=\"middle\" x=\"168.5\" y=\"-62.8\" font-family=\"Times,serif\" font-size=\"14.00\">expr_id</text>\n</g>\n<!-- n31&#45;&#45;n32 -->\n<g id=\"edge9\" class=\"edge\">\n<title>n31&#45;&#45;n32</title>\n<path fill=\"none\" stroke=\"black\" d=\"M168.5,-113.57C168.5,-103.36 168.5,-84.38 168.5,-74.26\"/>\n</g>\n<!-- n33 -->\n<g id=\"node18\" class=\"node\">\n<title>n33</title>\n<polygon fill=\"none\" stroke=\"black\" points=\"192,-23 145,-23 145,0 192,0 192,-23\"/>\n<text text-anchor=\"start\" x=\"153\" y=\"-8.8\" font-family=\"Times,serif\" font-size=\"14.00\">ID: </text>\n<text text-anchor=\"start\" x=\"175\" y=\"-8.8\" font-family=\"monospace\" font-size=\"14.00\" fill=\"brown\">a</text>\n</g>\n<!-- n32&#45;&#45;n33 -->\n<g id=\"edge8\" class=\"edge\">\n<title>n32&#45;&#45;n33</title>\n<path fill=\"none\" stroke=\"black\" d=\"M168.5,-58.57C168.5,-49.59 168.5,-33.84 168.5,-23.29\"/>\n</g>\n<!-- n157 -->\n<g id=\"node20\" class=\"node\">\n<title>n157</title>\n<text text-anchor=\"middle\" x=\"244.5\" y=\"-172.8\" font-family=\"Times,serif\" font-size=\"14.00\">expr_const</text>\n</g>\n<!-- n156&#45;&#45;n157 -->\n<g id=\"edge14\" class=\"edge\">\n<title>n156&#45;&#45;n157</title>\n<path fill=\"none\" stroke=\"black\" d=\"M237.55,-223.57C239.09,-213.36 241.95,-194.38 243.48,-184.26\"/>\n</g>\n<!-- n158 -->\n<g id=\"node21\" class=\"node\">\n<title>n158</title>\n<polygon fill=\"none\" stroke=\"black\" points=\"291.5,-133 199.5,-133 199.5,-110 291.5,-110 291.5,-133\"/>\n<text text-anchor=\"start\" x=\"207.5\" y=\"-118.8\" font-family=\"Times,serif\" font-size=\"14.00\">NUMBER: </text>\n<text text-anchor=\"start\" x=\"274.5\" y=\"-118.8\" font-family=\"monospace\" font-size=\"14.00\" fill=\"brown\">5</text>\n</g>\n<!-- n157&#45;&#45;n158 -->\n<g id=\"edge13\" class=\"edge\">\n<title>n157&#45;&#45;n158</title>\n<path fill=\"none\" stroke=\"black\" d=\"M244.63,-168.57C244.8,-159.59 245.1,-143.84 245.3,-133.29\"/>\n</g>\n</g>\n</svg>\n",
            "text/plain": [
              "<graphviz.graphs.Graph at 0x7a434d1b23c0>"
            ]
          },
          "metadata": {}
        }
      ]
    },
    {
      "cell_type": "code",
      "source": [
        "asm = Joy07().compile('''\n",
        "    let a = 8;\n",
        "    let b = -a;\n",
        "''')\n",
        "assemble_and_simulate(asm)"
      ],
      "metadata": {
        "colab": {
          "base_uri": "https://localhost:8080/",
          "height": 644
        },
        "id": "M1ksE1oKdCNM",
        "outputId": "6602af0d-c37c-4497-a2dd-c159d48794f5"
      },
      "execution_count": null,
      "outputs": [
        {
          "output_type": "display_data",
          "data": {
            "text/html": [
              "\n",
              "<link rel=\"stylesheet\" href=\"https://jittat.gitlab.io/hacksim/sim.css\">\n",
              "<div id=\"sim-ui\">\n",
              "  <simulator v-bind:simulator=\"simulator\" memory-display-slots=\"30\" screen-scale=\"1\" v-bind:light-weight=\"false\" fastest-steps=\"103\"/>\n",
              "</div>\n",
              "\n",
              "<script>var exports = {};</script>\n",
              "<script src=\"https://cdn.jsdelivr.net/npm/vue/dist/vue.js\"></script>\n",
              "<script src=\"https://jittat.gitlab.io/hacksim/simulator.js\"></script>\n",
              "<script src=\"https://jittat.gitlab.io/hacksim/simulator-ui.js\"></script>\n",
              "\n",
              "<script>\n",
              "  var simulator = new HackSimulator();\n",
              "simulator.loadInstructions([16383,60432,0,58120,8,60432,3,58120,3,64528,16,58120,16,64528,3,58120,64712,3,64528,17,58120]);\n",
              "simulator.sourceCode = [{ \"lineNumber\" : null, \"code\" : \"// init stack (SP <- 16383)\"}, { \"lineNumber\" : 0, \"code\" : \"@16383\"}, { \"lineNumber\" : 1, \"code\" : \"D=A\"}, { \"lineNumber\" : 2, \"code\" : \"@SP\"}, { \"lineNumber\" : 3, \"code\" : \"M=D\"}, { \"lineNumber\" : null, \"code\" : \"//##Normal Number(8)##\"}, { \"lineNumber\" : null, \"code\" : \"// [THIS] <- 8\"}, { \"lineNumber\" : 4, \"code\" : \"@8\"}, { \"lineNumber\" : 5, \"code\" : \"D=A\"}, { \"lineNumber\" : 6, \"code\" : \"@THIS\"}, { \"lineNumber\" : 7, \"code\" : \"M=D\"}, { \"lineNumber\" : null, \"code\" : \"// [.var.a] <- [THIS]\"}, { \"lineNumber\" : 8, \"code\" : \"@THIS\"}, { \"lineNumber\" : 9, \"code\" : \"D=M\"}, { \"lineNumber\" : 10, \"code\" : \"@.var.a\"}, { \"lineNumber\" : 11, \"code\" : \"M=D\"}, { \"lineNumber\" : null, \"code\" : \"// [THIS] <- [.var.a]\"}, { \"lineNumber\" : 12, \"code\" : \"@.var.a\"}, { \"lineNumber\" : 13, \"code\" : \"D=M\"}, { \"lineNumber\" : 14, \"code\" : \"@THIS\"}, { \"lineNumber\" : 15, \"code\" : \"M=D\"}, { \"lineNumber\" : null, \"code\" : \"//##Negative Variable##\"}, { \"lineNumber\" : 16, \"code\" : \"M=-M\"}, { \"lineNumber\" : null, \"code\" : \"// [.var.b] <- [THIS]\"}, { \"lineNumber\" : 17, \"code\" : \"@THIS\"}, { \"lineNumber\" : 18, \"code\" : \"D=M\"}, { \"lineNumber\" : 19, \"code\" : \"@.var.b\"}, { \"lineNumber\" : 20, \"code\" : \"M=D\"}]\n",
              "  simulator.memoryWriteCallbacks.push(memUpdateCallback);\n",
              "  simulator.memoryWriteCallbacks.push(screenUpdateCallback);\n",
              "\n",
              "  var app = new Vue({\n",
              "    el: '#sim-ui',\n",
              "    data: {\n",
              "      simulator: simulator\n",
              "    }\n",
              "  });\n",
              "</script>\n"
            ]
          },
          "metadata": {}
        }
      ]
    },
    {
      "cell_type": "markdown",
      "metadata": {
        "id": "WNC-d4GO9sT5"
      },
      "source": [
        "## Test case\n",
        "รันสคริปต์ทดสอบให้ผ่านทุกเคส สร้างเซลล์เพิ่มเติมหากต้องการทดสอบในซิมูเลเตอร์"
      ]
    },
    {
      "cell_type": "code",
      "metadata": {
        "id": "cwnK0lSez6hy",
        "colab": {
          "base_uri": "https://localhost:8080/"
        },
        "outputId": "b24daf99-1a0e-4386-d83a-98bf03609e2c"
      },
      "source": [
        "# DO NOT MODIFY\n",
        "\n",
        "class TestJoy07(TestJoy06):\n",
        "\n",
        "    JOY_COMPILER = Joy07\n",
        "\n",
        "    def test_sub(self):\n",
        "        self.compile_and_run('''\n",
        "            let a = 8;\n",
        "            let b = 5;\n",
        "            let c = a - b;\n",
        "            let d = (8-2)+(5-3);\n",
        "        ''')\n",
        "        self.assertEqual(self.cpu.ram[18], 3)\n",
        "        self.assertEqual(self.cpu.ram[19], 8)\n",
        "        self.assertEqual(self.cpu.ram[0], 0x3fff)\n",
        "\n",
        "    def test_negate(self):\n",
        "        self.compile_and_run('''\n",
        "            let a = 8;\n",
        "            let b = -a;\n",
        "            let c = 10 + b;\n",
        "        ''')\n",
        "        self.assertEqual(self.cpu.ram[17], 65536-8)  # b = -8\n",
        "        self.assertEqual(self.cpu.ram[18], 2)  # c = 2\n",
        "        self.assertEqual(self.cpu.ram[0], 0x3fff)\n",
        "\n",
        "    def test_expr_paren(self):\n",
        "        self.compile_and_run('''\n",
        "            let a = 3;\n",
        "            let b = (a+3)+(5+a);\n",
        "        ''')\n",
        "        self.assertEqual(self.cpu.ram[16], 3)\n",
        "        self.assertEqual(self.cpu.ram[17], 14)\n",
        "        self.assertEqual(self.cpu.ram[0], 0x3fff)\n",
        "\n",
        "run_test(TestJoy07)"
      ],
      "execution_count": null,
      "outputs": [
        {
          "output_type": "stream",
          "name": "stderr",
          "text": [
            "........"
          ]
        },
        {
          "output_type": "stream",
          "name": "stdout",
          "text": [
            "None\n",
            "None\n",
            "None\n",
            "None\n",
            "None\n",
            "None\n",
            "None\n",
            "None\n",
            "None\n"
          ]
        },
        {
          "output_type": "stream",
          "name": "stderr",
          "text": [
            "..."
          ]
        },
        {
          "output_type": "stream",
          "name": "stdout",
          "text": [
            "None\n",
            "None\n",
            "None\n"
          ]
        },
        {
          "output_type": "stream",
          "name": "stderr",
          "text": [
            "...\n",
            "----------------------------------------------------------------------\n",
            "Ran 14 tests in 0.995s\n",
            "\n",
            "OK\n"
          ]
        }
      ]
    },
    {
      "cell_type": "markdown",
      "metadata": {
        "id": "WV3xTOK2m1nr"
      },
      "source": [
        "# Joy 0.8 - Comparison Expression\n",
        "Joy 0.8 รองรับฟีเจอร์ทั้งหมดของ Joy 0.7 และเพิ่มฟีเจอร์ดังนี้\n",
        "\n",
        "---\n",
        "* รองรับนิพจน์เปรียบเทียบในรูป: *expr* *OP* *expr* โดยที่ตัวดำเนินการ *OP* ที่เป็นไปได้คือ `>=`,`<=`,`==`,`>`,`<`,`!=`, ผลลัพธ์จากการเปรียบเทียบจะให้ค่า 1 เมื่อเป็นจริง และ 0 เมื่อเป็นเท็จ\n",
        "---\n",
        "\n",
        "คำใบ้: แทนที่จะนิยามกฎแยกเป็น 6 กฎสำหรับตัวดำเนินการแต่ละตัว เราสามารถนิยามเป็นกฎเดียวได้ในรูปแบบด้านล่างได้\n",
        "```\n",
        "expr_compare: expr COMPARE_OP expr\n",
        "```\n",
        "รวมถึงนิยามโทเค็น `COMPARE_OP` ไว้เป็น\n",
        "```\n",
        "COMPARE_OP: \">=\" | \"<=\" | \"==\" | \">\" | \"<\" | \"!=\"\n",
        "```"
      ]
    },
    {
      "cell_type": "code",
      "metadata": {
        "id": "QsZyc4wjqLX5"
      },
      "source": [
        "# DO NOT ERASE THIS CELL - to be graded\n",
        "\n",
        "class Joy08(Joy07):\n",
        "\n",
        "    GRAMMAR = r'''\n",
        "        program: statements\n",
        "        statements: statement*\n",
        "        statement: stmt_assign\n",
        "                 | stmt_if\n",
        "                 | stmt_if_else\n",
        "        stmt_assign: \"let\" ID \"=\" expr \";\"\n",
        "        stmt_if: \"if\" expr \"{\" statements \"}\"\n",
        "        stmt_if_else : \"if\" expr \"{\" statements \"}\" \"else\" \"{\" statements \"}\"\n",
        "        expr: expr_const\n",
        "            | expr_id\n",
        "            | expr_add\n",
        "            | expr_sub\n",
        "            | expr_neg\n",
        "            | expr_compare\n",
        "        expr_compare: \"(\"? expr COMPARE expr \")\"?\n",
        "        expr_sub: \"(\"? expr \"-\" expr \")\"?\n",
        "        expr_add: \"(\"? expr \"+\" expr \")\"?\n",
        "        expr_const: NUMBER\n",
        "        expr_neg: \"-\" expr\n",
        "        expr_id: ID\n",
        "\n",
        "        COMPARE: /(>=|<=|==|!=|>|<)/\n",
        "        ID: /[_A-Za-z][_0-9A-Za-z]*/\n",
        "        NUMBER: /-?[0-9]+/\n",
        "        WS: /[ \\t\\f\\r\\n]+/\n",
        "        %ignore WS\n",
        "    '''\n",
        "\n",
        "    def expr_compare(self,tree) :\n",
        "      label = self.gen_label_no()\n",
        "      [expr1,compare,expr2] = tree.children\n",
        "      self.visit(expr1)\n",
        "      self.gen_push('THIS')\n",
        "      self.visit(expr2)\n",
        "      self.gen_pop('THAT')\n",
        "      self._asm.append(f'''\n",
        "      //##start-compare-{label}##\n",
        "      @THAT\n",
        "      D=M\n",
        "      @THIS\n",
        "      D=D-M\n",
        "      @.TRUE.{label}\n",
        "      ''')\n",
        "\n",
        "      if compare.value == \">=\" :\n",
        "        self._asm.append('D;JGE')\n",
        "      elif compare.value == \"<=\" :\n",
        "        self._asm.append('D;JLE')\n",
        "      elif compare.value == \"==\" :\n",
        "        self._asm.append('D;JEQ')\n",
        "      elif compare.value == \">\" :\n",
        "        self._asm.append('D;JGT')\n",
        "      elif compare.value == \"<\" :\n",
        "        self._asm.append('D;JLT')\n",
        "      elif compare.value == \"!=\" :\n",
        "        self._asm.append('D;JNE')\n",
        "\n",
        "      self._asm.append(f'''\n",
        "      @THIS\n",
        "      M=0\n",
        "      D=M\n",
        "      @.FALSE.{label}\n",
        "      D;JEQ\n",
        "      (.TRUE.{label})\n",
        "      @THIS\n",
        "      M=1\n",
        "      (.FALSE.{label})\n",
        "      //##end-compare-{label}##\n",
        "      ''')\n",
        "\n",
        "\n",
        "\n",
        "\n",
        "\n",
        "    # add your rule processing methods here"
      ],
      "execution_count": null,
      "outputs": []
    },
    {
      "cell_type": "code",
      "source": [
        "tree = Joy08().parse('''\n",
        "    if a>=5 {\n",
        "      let a = 4;\n",
        "    }\n",
        "''')\n",
        "\n",
        "\n",
        "draw(tree)"
      ],
      "metadata": {
        "colab": {
          "base_uri": "https://localhost:8080/",
          "height": 706
        },
        "id": "Ysc0tgAiL6-3",
        "outputId": "587ce770-d2ce-4a2a-fa96-ad7300999426"
      },
      "execution_count": null,
      "outputs": [
        {
          "output_type": "display_data",
          "data": {
            "image/svg+xml": "<?xml version=\"1.0\" encoding=\"UTF-8\" standalone=\"no\"?>\n<!DOCTYPE svg PUBLIC \"-//W3C//DTD SVG 1.1//EN\"\n \"http://www.w3.org/Graphics/SVG/1.1/DTD/svg11.dtd\">\n<!-- Generated by graphviz version 2.43.0 (0)\n -->\n<!-- Title: %3 Pages: 1 -->\n<svg width=\"367pt\" height=\"514pt\"\n viewBox=\"0.00 0.00 366.50 514.00\" xmlns=\"http://www.w3.org/2000/svg\" xmlns:xlink=\"http://www.w3.org/1999/xlink\">\n<g id=\"graph0\" class=\"graph\" transform=\"scale(1 1) rotate(0) translate(4 510)\">\n<title>%3</title>\n<polygon fill=\"white\" stroke=\"transparent\" points=\"-4,4 -4,-510 362.5,-510 362.5,4 -4,4\"/>\n<!-- n0 -->\n<g id=\"node1\" class=\"node\">\n<title>n0</title>\n<text text-anchor=\"middle\" x=\"180.5\" y=\"-494.8\" font-family=\"Times,serif\" font-size=\"14.00\">program</text>\n</g>\n<!-- n1 -->\n<g id=\"node2\" class=\"node\">\n<title>n1</title>\n<text text-anchor=\"middle\" x=\"180.5\" y=\"-443.8\" font-family=\"Times,serif\" font-size=\"14.00\">statements</text>\n</g>\n<!-- n0&#45;&#45;n1 -->\n<g id=\"edge19\" class=\"edge\">\n<title>n0&#45;&#45;n1</title>\n<path fill=\"none\" stroke=\"black\" d=\"M180.5,-490.69C180.5,-481.33 180.5,-464.59 180.5,-455.26\"/>\n</g>\n<!-- n2 -->\n<g id=\"node3\" class=\"node\">\n<title>n2</title>\n<text text-anchor=\"middle\" x=\"180.5\" y=\"-392.8\" font-family=\"Times,serif\" font-size=\"14.00\">statement</text>\n</g>\n<!-- n1&#45;&#45;n2 -->\n<g id=\"edge18\" class=\"edge\">\n<title>n1&#45;&#45;n2</title>\n<path fill=\"none\" stroke=\"black\" d=\"M180.5,-439.69C180.5,-430.33 180.5,-413.59 180.5,-404.26\"/>\n</g>\n<!-- n3 -->\n<g id=\"node4\" class=\"node\">\n<title>n3</title>\n<text text-anchor=\"middle\" x=\"180.5\" y=\"-341.8\" font-family=\"Times,serif\" font-size=\"14.00\">stmt_if</text>\n</g>\n<!-- n2&#45;&#45;n3 -->\n<g id=\"edge17\" class=\"edge\">\n<title>n2&#45;&#45;n3</title>\n<path fill=\"none\" stroke=\"black\" d=\"M180.5,-388.69C180.5,-379.33 180.5,-362.59 180.5,-353.26\"/>\n</g>\n<!-- n4 -->\n<g id=\"node5\" class=\"node\">\n<title>n4</title>\n<text text-anchor=\"middle\" x=\"150.5\" y=\"-290.8\" font-family=\"Times,serif\" font-size=\"14.00\">expr</text>\n</g>\n<!-- n3&#45;&#45;n4 -->\n<g id=\"edge9\" class=\"edge\">\n<title>n3&#45;&#45;n4</title>\n<path fill=\"none\" stroke=\"black\" d=\"M176.33,-337.69C170.6,-328.33 160.35,-311.59 154.64,-302.26\"/>\n</g>\n<!-- n82 -->\n<g id=\"node14\" class=\"node\">\n<title>n82</title>\n<text text-anchor=\"middle\" x=\"216.5\" y=\"-290.8\" font-family=\"Times,serif\" font-size=\"14.00\">statements</text>\n</g>\n<!-- n3&#45;&#45;n82 -->\n<g id=\"edge16\" class=\"edge\">\n<title>n3&#45;&#45;n82</title>\n<path fill=\"none\" stroke=\"black\" d=\"M185.51,-337.69C192.38,-328.33 204.68,-311.59 211.54,-302.26\"/>\n</g>\n<!-- n5 -->\n<g id=\"node6\" class=\"node\">\n<title>n5</title>\n<text text-anchor=\"middle\" x=\"138.5\" y=\"-239.8\" font-family=\"Times,serif\" font-size=\"14.00\">expr_compare</text>\n</g>\n<!-- n4&#45;&#45;n5 -->\n<g id=\"edge8\" class=\"edge\">\n<title>n4&#45;&#45;n5</title>\n<path fill=\"none\" stroke=\"black\" d=\"M148.83,-286.69C146.54,-277.33 142.44,-260.59 140.15,-251.26\"/>\n</g>\n<!-- n6 -->\n<g id=\"node7\" class=\"node\">\n<title>n6</title>\n<text text-anchor=\"middle\" x=\"23.5\" y=\"-184.8\" font-family=\"Times,serif\" font-size=\"14.00\">expr</text>\n</g>\n<!-- n5&#45;&#45;n6 -->\n<g id=\"edge3\" class=\"edge\">\n<title>n5&#45;&#45;n6</title>\n<path fill=\"none\" stroke=\"black\" d=\"M123.97,-235.95C105.64,-227.67 73.16,-212.92 45.5,-200 42.43,-198.57 39.13,-197 36.05,-195.53\"/>\n</g>\n<!-- n22 -->\n<g id=\"node10\" class=\"node\">\n<title>n22</title>\n<polygon fill=\"none\" stroke=\"black\" points=\"160.5,-200 54.5,-200 54.5,-177 160.5,-177 160.5,-200\"/>\n<text text-anchor=\"start\" x=\"62.5\" y=\"-185.8\" font-family=\"Times,serif\" font-size=\"14.00\">COMPARE: </text>\n<text text-anchor=\"start\" x=\"135.5\" y=\"-185.8\" font-family=\"monospace\" font-size=\"14.00\" fill=\"brown\">&gt;=</text>\n</g>\n<!-- n5&#45;&#45;n22 -->\n<g id=\"edge4\" class=\"edge\">\n<title>n5&#45;&#45;n22</title>\n<path fill=\"none\" stroke=\"black\" d=\"M134.45,-235.57C129.2,-226.59 119.98,-210.84 113.81,-200.29\"/>\n</g>\n<!-- n23 -->\n<g id=\"node11\" class=\"node\">\n<title>n23</title>\n<text text-anchor=\"middle\" x=\"191.5\" y=\"-184.8\" font-family=\"Times,serif\" font-size=\"14.00\">expr</text>\n</g>\n<!-- n5&#45;&#45;n23 -->\n<g id=\"edge7\" class=\"edge\">\n<title>n5&#45;&#45;n23</title>\n<path fill=\"none\" stroke=\"black\" d=\"M145.43,-235.57C155.64,-225.36 174.62,-206.38 184.74,-196.26\"/>\n</g>\n<!-- n7 -->\n<g id=\"node8\" class=\"node\">\n<title>n7</title>\n<text text-anchor=\"middle\" x=\"23.5\" y=\"-125.8\" font-family=\"Times,serif\" font-size=\"14.00\">expr_id</text>\n</g>\n<!-- n6&#45;&#45;n7 -->\n<g id=\"edge2\" class=\"edge\">\n<title>n6&#45;&#45;n7</title>\n<path fill=\"none\" stroke=\"black\" d=\"M23.5,-180.96C23.5,-170.08 23.5,-148.37 23.5,-137.32\"/>\n</g>\n<!-- n8 -->\n<g id=\"node9\" class=\"node\">\n<title>n8</title>\n<polygon fill=\"none\" stroke=\"black\" points=\"47,-82 0,-82 0,-59 47,-59 47,-82\"/>\n<text text-anchor=\"start\" x=\"8\" y=\"-67.8\" font-family=\"Times,serif\" font-size=\"14.00\">ID: </text>\n<text text-anchor=\"start\" x=\"30\" y=\"-67.8\" font-family=\"monospace\" font-size=\"14.00\" fill=\"brown\">a</text>\n</g>\n<!-- n7&#45;&#45;n8 -->\n<g id=\"edge1\" class=\"edge\">\n<title>n7&#45;&#45;n8</title>\n<path fill=\"none\" stroke=\"black\" d=\"M23.5,-121.96C23.5,-112.25 23.5,-93.92 23.5,-82.23\"/>\n</g>\n<!-- n24 -->\n<g id=\"node12\" class=\"node\">\n<title>n24</title>\n<text text-anchor=\"middle\" x=\"186.5\" y=\"-125.8\" font-family=\"Times,serif\" font-size=\"14.00\">expr_const</text>\n</g>\n<!-- n23&#45;&#45;n24 -->\n<g id=\"edge6\" class=\"edge\">\n<title>n23&#45;&#45;n24</title>\n<path fill=\"none\" stroke=\"black\" d=\"M190.93,-180.96C189.97,-170.08 188.07,-148.37 187.1,-137.32\"/>\n</g>\n<!-- n25 -->\n<g id=\"node13\" class=\"node\">\n<title>n25</title>\n<polygon fill=\"none\" stroke=\"black\" points=\"232.5,-82 140.5,-82 140.5,-59 232.5,-59 232.5,-82\"/>\n<text text-anchor=\"start\" x=\"148.5\" y=\"-67.8\" font-family=\"Times,serif\" font-size=\"14.00\">NUMBER: </text>\n<text text-anchor=\"start\" x=\"215.5\" y=\"-67.8\" font-family=\"monospace\" font-size=\"14.00\" fill=\"brown\">5</text>\n</g>\n<!-- n24&#45;&#45;n25 -->\n<g id=\"edge5\" class=\"edge\">\n<title>n24&#45;&#45;n25</title>\n<path fill=\"none\" stroke=\"black\" d=\"M186.5,-121.96C186.5,-112.25 186.5,-93.92 186.5,-82.23\"/>\n</g>\n<!-- n83 -->\n<g id=\"node15\" class=\"node\">\n<title>n83</title>\n<text text-anchor=\"middle\" x=\"238.5\" y=\"-239.8\" font-family=\"Times,serif\" font-size=\"14.00\">statement</text>\n</g>\n<!-- n82&#45;&#45;n83 -->\n<g id=\"edge15\" class=\"edge\">\n<title>n82&#45;&#45;n83</title>\n<path fill=\"none\" stroke=\"black\" d=\"M219.56,-286.69C223.76,-277.33 231.28,-260.59 235.47,-251.26\"/>\n</g>\n<!-- n84 -->\n<g id=\"node16\" class=\"node\">\n<title>n84</title>\n<text text-anchor=\"middle\" x=\"258.5\" y=\"-184.8\" font-family=\"Times,serif\" font-size=\"14.00\">stmt_assign</text>\n</g>\n<!-- n83&#45;&#45;n84 -->\n<g id=\"edge14\" class=\"edge\">\n<title>n83&#45;&#45;n84</title>\n<path fill=\"none\" stroke=\"black\" d=\"M241.11,-235.57C244.97,-225.36 252.13,-206.38 255.95,-196.26\"/>\n</g>\n<!-- n85 -->\n<g id=\"node17\" class=\"node\">\n<title>n85</title>\n<polygon fill=\"none\" stroke=\"black\" points=\"282,-141 235,-141 235,-118 282,-118 282,-141\"/>\n<text text-anchor=\"start\" x=\"243\" y=\"-126.8\" font-family=\"Times,serif\" font-size=\"14.00\">ID: </text>\n<text text-anchor=\"start\" x=\"265\" y=\"-126.8\" font-family=\"monospace\" font-size=\"14.00\" fill=\"brown\">a</text>\n</g>\n<!-- n84&#45;&#45;n85 -->\n<g id=\"edge10\" class=\"edge\">\n<title>n84&#45;&#45;n85</title>\n<path fill=\"none\" stroke=\"black\" d=\"M258.5,-180.96C258.5,-171.25 258.5,-152.92 258.5,-141.23\"/>\n</g>\n<!-- n86 -->\n<g id=\"node18\" class=\"node\">\n<title>n86</title>\n<text text-anchor=\"middle\" x=\"312.5\" y=\"-125.8\" font-family=\"Times,serif\" font-size=\"14.00\">expr</text>\n</g>\n<!-- n84&#45;&#45;n86 -->\n<g id=\"edge13\" class=\"edge\">\n<title>n84&#45;&#45;n86</title>\n<path fill=\"none\" stroke=\"black\" d=\"M264.69,-180.96C275,-170.08 295.57,-148.37 306.04,-137.32\"/>\n</g>\n<!-- n87 -->\n<g id=\"node19\" class=\"node\">\n<title>n87</title>\n<text text-anchor=\"middle\" x=\"312.5\" y=\"-66.8\" font-family=\"Times,serif\" font-size=\"14.00\">expr_const</text>\n</g>\n<!-- n86&#45;&#45;n87 -->\n<g id=\"edge12\" class=\"edge\">\n<title>n86&#45;&#45;n87</title>\n<path fill=\"none\" stroke=\"black\" d=\"M312.5,-121.96C312.5,-111.08 312.5,-89.37 312.5,-78.32\"/>\n</g>\n<!-- n88 -->\n<g id=\"node20\" class=\"node\">\n<title>n88</title>\n<polygon fill=\"none\" stroke=\"black\" points=\"358.5,-23 266.5,-23 266.5,0 358.5,0 358.5,-23\"/>\n<text text-anchor=\"start\" x=\"274.5\" y=\"-8.8\" font-family=\"Times,serif\" font-size=\"14.00\">NUMBER: </text>\n<text text-anchor=\"start\" x=\"341.5\" y=\"-8.8\" font-family=\"monospace\" font-size=\"14.00\" fill=\"brown\">4</text>\n</g>\n<!-- n87&#45;&#45;n88 -->\n<g id=\"edge11\" class=\"edge\">\n<title>n87&#45;&#45;n88</title>\n<path fill=\"none\" stroke=\"black\" d=\"M312.5,-62.96C312.5,-53.25 312.5,-34.92 312.5,-23.23\"/>\n</g>\n</g>\n</svg>\n",
            "text/plain": [
              "<graphviz.graphs.Graph at 0x7a433e4a4b60>"
            ]
          },
          "metadata": {}
        }
      ]
    },
    {
      "cell_type": "code",
      "source": [
        "asm = Joy08().compile('''\n",
        "    let a = 1 ;\n",
        "    if a==5 {\n",
        "      let a = a == 4;\n",
        "    }\n",
        "''')\n",
        "assemble_and_simulate(asm)"
      ],
      "metadata": {
        "colab": {
          "base_uri": "https://localhost:8080/",
          "height": 644
        },
        "id": "O4h7xkkkQscB",
        "outputId": "294dce62-626c-41b9-b56b-c63b1fd6d65e"
      },
      "execution_count": null,
      "outputs": [
        {
          "output_type": "display_data",
          "data": {
            "text/html": [
              "\n",
              "<link rel=\"stylesheet\" href=\"https://jittat.gitlab.io/hacksim/sim.css\">\n",
              "<div id=\"sim-ui\">\n",
              "  <simulator v-bind:simulator=\"simulator\" memory-display-slots=\"30\" screen-scale=\"1\" v-bind:light-weight=\"false\" fastest-steps=\"103\"/>\n",
              "</div>\n",
              "\n",
              "<script>var exports = {};</script>\n",
              "<script src=\"https://cdn.jsdelivr.net/npm/vue/dist/vue.js\"></script>\n",
              "<script src=\"https://jittat.gitlab.io/hacksim/simulator.js\"></script>\n",
              "<script src=\"https://jittat.gitlab.io/hacksim/simulator-ui.js\"></script>\n",
              "\n",
              "<script>\n",
              "  var simulator = new HackSimulator();\n",
              "simulator.loadInstructions([16383,60432,0,58120,1,60432,3,58120,3,64528,16,58120,16,64528,3,58120,3,64528,0,64544,58120,0,64648,5,60432,3,58120,0,65000,64528,4,58120,4,64528,3,62672,43,58114,3,60040,64528,45,58114,3,61384,3,64528,86,58114,16,64528,3,58120,3,64528,0,64544,58120,0,64648,4,60432,3,58120,0,65000,64528,4,58120,4,64528,3,62672,80,58114,3,60040,64528,82,58114,3,61384,3,64528,16,58120]);\n",
              "simulator.sourceCode = [{ \"lineNumber\" : null, \"code\" : \"// init stack (SP <- 16383)\"}, { \"lineNumber\" : 0, \"code\" : \"@16383\"}, { \"lineNumber\" : 1, \"code\" : \"D=A\"}, { \"lineNumber\" : 2, \"code\" : \"@SP\"}, { \"lineNumber\" : 3, \"code\" : \"M=D\"}, { \"lineNumber\" : null, \"code\" : \"//##Normal Number(1)##\"}, { \"lineNumber\" : null, \"code\" : \"// [THIS] <- 1\"}, { \"lineNumber\" : 4, \"code\" : \"@1\"}, { \"lineNumber\" : 5, \"code\" : \"D=A\"}, { \"lineNumber\" : 6, \"code\" : \"@THIS\"}, { \"lineNumber\" : 7, \"code\" : \"M=D\"}, { \"lineNumber\" : null, \"code\" : \"// [.var.a] <- [THIS]\"}, { \"lineNumber\" : 8, \"code\" : \"@THIS\"}, { \"lineNumber\" : 9, \"code\" : \"D=M\"}, { \"lineNumber\" : 10, \"code\" : \"@.var.a\"}, { \"lineNumber\" : 11, \"code\" : \"M=D\"}, { \"lineNumber\" : null, \"code\" : \"//## begin-if-1 ##\"}, { \"lineNumber\" : null, \"code\" : \"// [THIS] <- [.var.a]\"}, { \"lineNumber\" : 12, \"code\" : \"@.var.a\"}, { \"lineNumber\" : 13, \"code\" : \"D=M\"}, { \"lineNumber\" : 14, \"code\" : \"@THIS\"}, { \"lineNumber\" : 15, \"code\" : \"M=D\"}, { \"lineNumber\" : null, \"code\" : \"// Push [THIS]\"}, { \"lineNumber\" : 16, \"code\" : \"@THIS\"}, { \"lineNumber\" : 17, \"code\" : \"D=M\"}, { \"lineNumber\" : 18, \"code\" : \"@SP\"}, { \"lineNumber\" : 19, \"code\" : \"A=M\"}, { \"lineNumber\" : 20, \"code\" : \"M=D\"}, { \"lineNumber\" : 21, \"code\" : \"@SP\"}, { \"lineNumber\" : 22, \"code\" : \"M=M-1\"}, { \"lineNumber\" : null, \"code\" : \"//##Normal Number(5)##\"}, { \"lineNumber\" : null, \"code\" : \"// [THIS] <- 5\"}, { \"lineNumber\" : 23, \"code\" : \"@5\"}, { \"lineNumber\" : 24, \"code\" : \"D=A\"}, { \"lineNumber\" : 25, \"code\" : \"@THIS\"}, { \"lineNumber\" : 26, \"code\" : \"M=D\"}, { \"lineNumber\" : null, \"code\" : \"// Pop [THAT]\"}, { \"lineNumber\" : 27, \"code\" : \"@SP\"}, { \"lineNumber\" : 28, \"code\" : \"AM=M+1\"}, { \"lineNumber\" : 29, \"code\" : \"D=M\"}, { \"lineNumber\" : 30, \"code\" : \"@THAT\"}, { \"lineNumber\" : 31, \"code\" : \"M=D\"}, { \"lineNumber\" : null, \"code\" : \"//##start-compare-2##\"}, { \"lineNumber\" : 32, \"code\" : \"@THAT\"}, { \"lineNumber\" : 33, \"code\" : \"D=M\"}, { \"lineNumber\" : 34, \"code\" : \"@THIS\"}, { \"lineNumber\" : 35, \"code\" : \"D=D-M\"}, { \"lineNumber\" : 36, \"code\" : \"@.TRUE.2\"}, { \"lineNumber\" : 37, \"code\" : \"D;JEQ\"}, { \"lineNumber\" : 38, \"code\" : \"@THIS\"}, { \"lineNumber\" : 39, \"code\" : \"M=0\"}, { \"lineNumber\" : 40, \"code\" : \"D=M\"}, { \"lineNumber\" : 41, \"code\" : \"@.FALSE.2\"}, { \"lineNumber\" : 42, \"code\" : \"D;JEQ\"}, { \"lineNumber\" : null, \"code\" : \"  (.TRUE.2)\"}, { \"lineNumber\" : 43, \"code\" : \"@THIS\"}, { \"lineNumber\" : 44, \"code\" : \"M=1\"}, { \"lineNumber\" : null, \"code\" : \"  (.FALSE.2)\"}, { \"lineNumber\" : null, \"code\" : \"//##end-compare-2##\"}, { \"lineNumber\" : 45, \"code\" : \"@THIS\"}, { \"lineNumber\" : 46, \"code\" : \"D=M\"}, { \"lineNumber\" : 47, \"code\" : \"@.endif.1\"}, { \"lineNumber\" : 48, \"code\" : \"D;JEQ\"}, { \"lineNumber\" : null, \"code\" : \"//## if-body-1 ##\"}, { \"lineNumber\" : null, \"code\" : \"// [THIS] <- [.var.a]\"}, { \"lineNumber\" : 49, \"code\" : \"@.var.a\"}, { \"lineNumber\" : 50, \"code\" : \"D=M\"}, { \"lineNumber\" : 51, \"code\" : \"@THIS\"}, { \"lineNumber\" : 52, \"code\" : \"M=D\"}, { \"lineNumber\" : null, \"code\" : \"// Push [THIS]\"}, { \"lineNumber\" : 53, \"code\" : \"@THIS\"}, { \"lineNumber\" : 54, \"code\" : \"D=M\"}, { \"lineNumber\" : 55, \"code\" : \"@SP\"}, { \"lineNumber\" : 56, \"code\" : \"A=M\"}, { \"lineNumber\" : 57, \"code\" : \"M=D\"}, { \"lineNumber\" : 58, \"code\" : \"@SP\"}, { \"lineNumber\" : 59, \"code\" : \"M=M-1\"}, { \"lineNumber\" : null, \"code\" : \"//##Normal Number(4)##\"}, { \"lineNumber\" : null, \"code\" : \"// [THIS] <- 4\"}, { \"lineNumber\" : 60, \"code\" : \"@4\"}, { \"lineNumber\" : 61, \"code\" : \"D=A\"}, { \"lineNumber\" : 62, \"code\" : \"@THIS\"}, { \"lineNumber\" : 63, \"code\" : \"M=D\"}, { \"lineNumber\" : null, \"code\" : \"// Pop [THAT]\"}, { \"lineNumber\" : 64, \"code\" : \"@SP\"}, { \"lineNumber\" : 65, \"code\" : \"AM=M+1\"}, { \"lineNumber\" : 66, \"code\" : \"D=M\"}, { \"lineNumber\" : 67, \"code\" : \"@THAT\"}, { \"lineNumber\" : 68, \"code\" : \"M=D\"}, { \"lineNumber\" : null, \"code\" : \"//##start-compare-3##\"}, { \"lineNumber\" : 69, \"code\" : \"@THAT\"}, { \"lineNumber\" : 70, \"code\" : \"D=M\"}, { \"lineNumber\" : 71, \"code\" : \"@THIS\"}, { \"lineNumber\" : 72, \"code\" : \"D=D-M\"}, { \"lineNumber\" : 73, \"code\" : \"@.TRUE.3\"}, { \"lineNumber\" : 74, \"code\" : \"D;JEQ\"}, { \"lineNumber\" : 75, \"code\" : \"@THIS\"}, { \"lineNumber\" : 76, \"code\" : \"M=0\"}, { \"lineNumber\" : 77, \"code\" : \"D=M\"}, { \"lineNumber\" : 78, \"code\" : \"@.FALSE.3\"}, { \"lineNumber\" : 79, \"code\" : \"D;JEQ\"}, { \"lineNumber\" : null, \"code\" : \"  (.TRUE.3)\"}, { \"lineNumber\" : 80, \"code\" : \"@THIS\"}, { \"lineNumber\" : 81, \"code\" : \"M=1\"}, { \"lineNumber\" : null, \"code\" : \"  (.FALSE.3)\"}, { \"lineNumber\" : null, \"code\" : \"//##end-compare-3##\"}, { \"lineNumber\" : null, \"code\" : \"// [.var.a] <- [THIS]\"}, { \"lineNumber\" : 82, \"code\" : \"@THIS\"}, { \"lineNumber\" : 83, \"code\" : \"D=M\"}, { \"lineNumber\" : 84, \"code\" : \"@.var.a\"}, { \"lineNumber\" : 85, \"code\" : \"M=D\"}, { \"lineNumber\" : null, \"code\" : \"//## end-if-1 ##\"}, { \"lineNumber\" : null, \"code\" : \"  (.endif.1)\"}]\n",
              "  simulator.memoryWriteCallbacks.push(memUpdateCallback);\n",
              "  simulator.memoryWriteCallbacks.push(screenUpdateCallback);\n",
              "\n",
              "  var app = new Vue({\n",
              "    el: '#sim-ui',\n",
              "    data: {\n",
              "      simulator: simulator\n",
              "    }\n",
              "  });\n",
              "</script>\n"
            ]
          },
          "metadata": {}
        }
      ]
    },
    {
      "cell_type": "markdown",
      "metadata": {
        "id": "fiC99PxErjhv"
      },
      "source": [
        "## Test case\n",
        "รันสคริปต์ทดสอบให้ผ่านทุกเคส สร้างเซลล์เพิ่มเติมหากต้องการทดสอบในซิมูเลเตอร์"
      ]
    },
    {
      "cell_type": "code",
      "metadata": {
        "id": "2E2mieaeq1Zw",
        "colab": {
          "base_uri": "https://localhost:8080/"
        },
        "outputId": "32aa2ecd-665e-45b4-d8a2-df483af5d646"
      },
      "source": [
        "# DO NOT MODIFY\n",
        "\n",
        "class TestJoy08(TestJoy07):\n",
        "\n",
        "    JOY_COMPILER = Joy08\n",
        "\n",
        "    def base_test_compare(self, comp_op, comp_func):\n",
        "        template = '''\n",
        "            let a = {a};\n",
        "            let b = {b};\n",
        "            let result1 = (a {op} b);\n",
        "            let result2 = (a {op} b);\n",
        "        '''\n",
        "        data = [(1,2), (2,1), (2,2), (-2,1), (-1,2)]\n",
        "        for a, b in data:\n",
        "            result = 1 if comp_func(a, b) else 0\n",
        "            self.compile_and_run(template.format(a=a, b=b, op=comp_op))\n",
        "            self.assertEqual(self.cpu.ram[16], a%65536)\n",
        "            self.assertEqual(self.cpu.ram[17], b%65536)\n",
        "            self.assertEqual(self.cpu.ram[18], result)\n",
        "            self.assertEqual(self.cpu.ram[19], result)\n",
        "            self.assertEqual(self.cpu.ram[0], 0x3fff)\n",
        "\n",
        "    def test_comp_gt(self):\n",
        "        self.base_test_compare('>',lambda a, b: a>b)\n",
        "\n",
        "    def test_comp_lt(self):\n",
        "        self.base_test_compare('<',lambda a, b: a<b)\n",
        "\n",
        "    def test_comp_eq(self):\n",
        "        self.base_test_compare('==',lambda a, b: a==b)\n",
        "\n",
        "    def test_comp_neq(self):\n",
        "        self.base_test_compare('!=',lambda a, b: a!=b)\n",
        "\n",
        "    def test_comp_gte(self):\n",
        "        self.base_test_compare('>=',lambda a, b: a>=b)\n",
        "\n",
        "    def test_comp_lte(self):\n",
        "        self.base_test_compare('<=',lambda a, b: a<=b)\n",
        "\n",
        "run_test(TestJoy08)"
      ],
      "execution_count": null,
      "outputs": [
        {
          "output_type": "stream",
          "name": "stderr",
          "text": [
            "..............."
          ]
        },
        {
          "output_type": "stream",
          "name": "stdout",
          "text": [
            "None\n",
            "None\n",
            "None\n",
            "None\n",
            "None\n",
            "None\n",
            "None\n",
            "None\n",
            "None\n",
            "None\n",
            "None\n",
            "None\n"
          ]
        },
        {
          "output_type": "stream",
          "name": "stderr",
          "text": [
            ".....\n",
            "----------------------------------------------------------------------\n",
            "Ran 20 tests in 1.911s\n",
            "\n",
            "OK\n"
          ]
        }
      ]
    },
    {
      "cell_type": "markdown",
      "metadata": {
        "id": "V7fcOx8o-F8g"
      },
      "source": [
        "# Joy 0.9 - Logical Expression\n",
        "\n",
        "Joy 0.9 รองรับฟีเจอร์ทั้งหมดของ Joy 0.8 และเพิ่มฟีเจอร์ดังนี้\n",
        "\n",
        "---\n",
        "* รองรับนิพจน์ทางตรรกศาสตร์แบบ and ในรูป: *expr* `&&` *expr*\n",
        "* รองรับนิพจน์ทางตรรกศาสตร์แบบ or ในรูป: *expr* `||` *expr*\n",
        "* รองรับนิพจน์ทางตรรกศาสตร์แบบ not ในรูป: `!` *expr*\n",
        "---\n",
        "\n",
        "โดยให้ตีความว่าค่า *expr* ที่เท่ากับศูนย์คือค่า<u>เท็จ</u> และไม่เท่ากับศูนย์คือค่า<u>จริง</u> ผลลัพธ์ของนิพจน์ทางตรรกศาสตร์ทั้งสามแบบข้างต้นให้ค่าเป็น 0 หรือ 1 เสมอ ตัวอย่างเช่น\n",
        "* `2 && 0` ให้ผลลัพธ์เป็น 0\n",
        "* `2 && 1` ให้ผลลัพธ์เป็น 1\n",
        "* `2 || 0` ให้ผลลัพธ์เป็น 1\n",
        "* `!0` ให้ผลลัพธ์เป็น 1\n",
        "* `!50` ให้ผลลัพธ์เป็น 0\n"
      ]
    },
    {
      "cell_type": "code",
      "source": [
        "# DO NOT ERASE THIS CELL - to be graded\n",
        "\n",
        "class Joy09(Joy08):\n",
        "\n",
        "    GRAMMAR = r'''\n",
        "        program: statements\n",
        "        statements: statement*\n",
        "        statement: stmt_assign\n",
        "                 | stmt_if\n",
        "                 | stmt_if_else\n",
        "        stmt_assign: \"let\" ID \"=\" expr \";\"\n",
        "        stmt_if: \"if\" expr \"{\" statements \"}\"\n",
        "        stmt_if_else : \"if\" expr \"{\" statements \"}\" \"else\" \"{\" statements \"}\"\n",
        "        expr: expr_const\n",
        "            | expr_id\n",
        "            | expr_add\n",
        "            | expr_sub\n",
        "            | expr_neg\n",
        "            | expr_compare\n",
        "            | expr_or\n",
        "            | expr_and\n",
        "            | expr_not\n",
        "        expr_not: \"(\"? \"!\" expr \")\"?\n",
        "        expr_and: \"(\"? expr \"&&\" expr \")\"?\n",
        "        expr_or: \"(\"? expr \"||\" expr \")\"?\n",
        "        expr_compare: \"(\"? expr COMPARE expr \")\"?\n",
        "        expr_sub: \"(\"? expr \"-\" expr \")\"?\n",
        "        expr_add: \"(\"? expr \"+\" expr \")\"?\n",
        "        expr_const: NUMBER\n",
        "        expr_neg: \"-\" expr\n",
        "        expr_id: ID\n",
        "\n",
        "        COMPARE: /(>=|<=|==|!=|>|<)/\n",
        "        ID: /[_A-Za-z][_0-9A-Za-z]*/\n",
        "        NUMBER: /-?[0-9]+/\n",
        "        WS: /[ \\t\\f\\r\\n]+/\n",
        "        %ignore WS\n",
        "    '''\n",
        "\n",
        "    def expr_or(self,tree) :\n",
        "      label = self.gen_label_no()\n",
        "\n",
        "      [expr1,expr2] = tree.children\n",
        "      self.visit(expr1)\n",
        "      self._asm.append(f'''\n",
        "      //##start-logical-expr1-{label}##\n",
        "      @THIS\n",
        "      D=M\n",
        "      @.ISTRUE.{label}\n",
        "      D;JNE\n",
        "      @THIS\n",
        "      M=0\n",
        "      @.OUT.{label}\n",
        "      0;JMP\n",
        "      (.ISTRUE.{label})\n",
        "      @THIS\n",
        "      M=1\n",
        "      (.OUT.{label})\n",
        "      //##end-logical-expr1-{label}##\n",
        "      ''')\n",
        "      self.gen_push('THIS')\n",
        "      self.visit(expr2)\n",
        "\n",
        "      label = self.gen_label_no()\n",
        "\n",
        "      self._asm.append(f'''\n",
        "      //##start-logical-expr2-{label}##\n",
        "      @THIS\n",
        "      D=M\n",
        "      @.ISTRUE.{label}\n",
        "      D;JNE\n",
        "      @THIS\n",
        "      M=0\n",
        "      @.OUT.{label}\n",
        "      0;JMP\n",
        "      (.ISTRUE.{label})\n",
        "      @THIS\n",
        "      M=1\n",
        "      (.OUT.{label})\n",
        "      //##end-logical-expr2-{label}##\n",
        "      @THIS\n",
        "      //##start-logical-expr-{label+1}##\n",
        "      D=M\n",
        "      ''')\n",
        "\n",
        "      self.gen_pop('THAT')\n",
        "\n",
        "      label = self.gen_label_no()\n",
        "\n",
        "      self._asm.append(f'''\n",
        "      D=M-1\n",
        "      ''')\n",
        "      self._asm.append(f'''\n",
        "        @THIS\n",
        "        D=D+M\n",
        "        @.ISZERO.{label}\n",
        "        D;JLT\n",
        "        @THIS\n",
        "        M=1\n",
        "        @.OUT.{label}\n",
        "        0;JMP\n",
        "        (.ISZERO.{label})\n",
        "        @THIS\n",
        "        M=0\n",
        "        (.OUT.{label})\n",
        "        //##end-logical-expr-{label}##\n",
        "      ''')\n",
        "\n",
        "    def expr_and(self,tree) :\n",
        "      label = self.gen_label_no()\n",
        "\n",
        "      [expr1,expr2] = tree.children\n",
        "      self.visit(expr1)\n",
        "      self._asm.append(f'''\n",
        "      //##start-logical-expr1-{label}##\n",
        "      @THIS\n",
        "      D=M\n",
        "      @.ISTRUE.{label}\n",
        "      D;JNE\n",
        "      @THIS\n",
        "      M=0\n",
        "      @.OUT.{label}\n",
        "      0;JMP\n",
        "      (.ISTRUE.{label})\n",
        "      @THIS\n",
        "      M=1\n",
        "      (.OUT.{label})\n",
        "      //##end-logical-expr1-{label}##\n",
        "      ''')\n",
        "      self.gen_push('THIS')\n",
        "      self.visit(expr2)\n",
        "\n",
        "      label = self.gen_label_no()\n",
        "\n",
        "      self._asm.append(f'''\n",
        "      //##start-logical-expr2-{label}##\n",
        "      @THIS\n",
        "      D=M\n",
        "      @.ISTRUE.{label}\n",
        "      D;JNE\n",
        "      @THIS\n",
        "      M=0\n",
        "      @.OUT.{label}\n",
        "      0;JMP\n",
        "      (.ISTRUE.{label})\n",
        "      @THIS\n",
        "      M=1\n",
        "      (.OUT.{label})\n",
        "      //##end-logical-expr2-{label}##\n",
        "      @THIS\n",
        "      //##start-logical-expr-{label+1}##\n",
        "      D=M\n",
        "      ''')\n",
        "      self.gen_pop('THAT')\n",
        "\n",
        "      label = self.gen_label_no()\n",
        "\n",
        "      self._asm.append(f'''\n",
        "      D=M-1\n",
        "      D=D-1\n",
        "\n",
        "      ''')\n",
        "      self._asm.append(f'''\n",
        "        @THIS\n",
        "        D=D+M\n",
        "        @.ISZERO.{label}\n",
        "        D;JLT\n",
        "        @THIS\n",
        "        M=1\n",
        "        @.OUT.{label}\n",
        "        0;JMP\n",
        "        (.ISZERO.{label})\n",
        "        @THIS\n",
        "        M=0\n",
        "        (.OUT.{label})\n",
        "        //##end-logical-expr-{label}##\n",
        "      ''')\n",
        "\n",
        "    def expr_not(self,tree) :\n",
        "      label = self.gen_label_no()\n",
        "      expr = tree.children[0]\n",
        "      self.visit(expr)\n",
        "      self._asm.append(f'''\n",
        "      //##start-not-{label}##\n",
        "      @THIS\n",
        "      D=M\n",
        "      @.ISZERO.{label}\n",
        "      D;JEQ\n",
        "      @THIS\n",
        "      M=0\n",
        "      @.OUT.{label}\n",
        "      0;JMP\n",
        "      (.ISZERO.{label})\n",
        "      @THIS\n",
        "      M=1\n",
        "      (.OUT.{label})\n",
        "\n",
        "      ''')\n",
        "    # add your rule processing methods here"
      ],
      "metadata": {
        "id": "SM4fU_WV94B5"
      },
      "execution_count": null,
      "outputs": []
    },
    {
      "cell_type": "code",
      "source": [
        "tree = Joy09().parse('''\n",
        "let a = 5 ;\n",
        "let b = 6 ;\n",
        "let c = a||b ;\n",
        "    ''')\n",
        "draw(tree)"
      ],
      "metadata": {
        "colab": {
          "base_uri": "https://localhost:8080/",
          "height": 628
        },
        "id": "sr9tDCiab35Q",
        "outputId": "1c444041-ed90-45be-beab-62c09465694f"
      },
      "execution_count": null,
      "outputs": [
        {
          "output_type": "display_data",
          "data": {
            "image/svg+xml": "<?xml version=\"1.0\" encoding=\"UTF-8\" standalone=\"no\"?>\n<!DOCTYPE svg PUBLIC \"-//W3C//DTD SVG 1.1//EN\"\n \"http://www.w3.org/Graphics/SVG/1.1/DTD/svg11.dtd\">\n<!-- Generated by graphviz version 2.43.0 (0)\n -->\n<!-- Title: %3 Pages: 1 -->\n<svg width=\"372pt\" height=\"455pt\"\n viewBox=\"0.00 0.00 372.00 455.00\" xmlns=\"http://www.w3.org/2000/svg\" xmlns:xlink=\"http://www.w3.org/1999/xlink\">\n<g id=\"graph0\" class=\"graph\" transform=\"scale(1 1) rotate(0) translate(4 451)\">\n<title>%3</title>\n<polygon fill=\"white\" stroke=\"transparent\" points=\"-4,4 -4,-451 368,-451 368,4 -4,4\"/>\n<!-- n0 -->\n<g id=\"node1\" class=\"node\">\n<title>n0</title>\n<text text-anchor=\"middle\" x=\"159.5\" y=\"-435.8\" font-family=\"Times,serif\" font-size=\"14.00\">program</text>\n</g>\n<!-- n1 -->\n<g id=\"node2\" class=\"node\">\n<title>n1</title>\n<text text-anchor=\"middle\" x=\"159.5\" y=\"-384.8\" font-family=\"Times,serif\" font-size=\"14.00\">statements</text>\n</g>\n<!-- n0&#45;&#45;n1 -->\n<g id=\"edge24\" class=\"edge\">\n<title>n0&#45;&#45;n1</title>\n<path fill=\"none\" stroke=\"black\" d=\"M159.5,-431.69C159.5,-422.33 159.5,-405.59 159.5,-396.26\"/>\n</g>\n<!-- n2 -->\n<g id=\"node3\" class=\"node\">\n<title>n2</title>\n<text text-anchor=\"middle\" x=\"82.5\" y=\"-333.8\" font-family=\"Times,serif\" font-size=\"14.00\">statement</text>\n</g>\n<!-- n1&#45;&#45;n2 -->\n<g id=\"edge6\" class=\"edge\">\n<title>n1&#45;&#45;n2</title>\n<path fill=\"none\" stroke=\"black\" d=\"M149.12,-380.89C134.34,-371.49 107.41,-354.35 92.72,-345\"/>\n</g>\n<!-- n24 -->\n<g id=\"node9\" class=\"node\">\n<title>n24</title>\n<text text-anchor=\"middle\" x=\"159.5\" y=\"-333.8\" font-family=\"Times,serif\" font-size=\"14.00\">statement</text>\n</g>\n<!-- n1&#45;&#45;n24 -->\n<g id=\"edge12\" class=\"edge\">\n<title>n1&#45;&#45;n24</title>\n<path fill=\"none\" stroke=\"black\" d=\"M159.5,-380.69C159.5,-371.33 159.5,-354.59 159.5,-345.26\"/>\n</g>\n<!-- n134 -->\n<g id=\"node15\" class=\"node\">\n<title>n134</title>\n<text text-anchor=\"middle\" x=\"236.5\" y=\"-333.8\" font-family=\"Times,serif\" font-size=\"14.00\">statement</text>\n</g>\n<!-- n1&#45;&#45;n134 -->\n<g id=\"edge23\" class=\"edge\">\n<title>n1&#45;&#45;n134</title>\n<path fill=\"none\" stroke=\"black\" d=\"M169.88,-380.89C184.66,-371.49 211.59,-354.35 226.28,-345\"/>\n</g>\n<!-- n3 -->\n<g id=\"node4\" class=\"node\">\n<title>n3</title>\n<text text-anchor=\"middle\" x=\"76.5\" y=\"-282.8\" font-family=\"Times,serif\" font-size=\"14.00\">stmt_assign</text>\n</g>\n<!-- n2&#45;&#45;n3 -->\n<g id=\"edge5\" class=\"edge\">\n<title>n2&#45;&#45;n3</title>\n<path fill=\"none\" stroke=\"black\" d=\"M81.67,-329.69C80.52,-320.33 78.47,-303.59 77.33,-294.26\"/>\n</g>\n<!-- n4 -->\n<g id=\"node5\" class=\"node\">\n<title>n4</title>\n<polygon fill=\"none\" stroke=\"black\" points=\"47,-243 0,-243 0,-220 47,-220 47,-243\"/>\n<text text-anchor=\"start\" x=\"8\" y=\"-228.8\" font-family=\"Times,serif\" font-size=\"14.00\">ID: </text>\n<text text-anchor=\"start\" x=\"30\" y=\"-228.8\" font-family=\"monospace\" font-size=\"14.00\" fill=\"brown\">a</text>\n</g>\n<!-- n3&#45;&#45;n4 -->\n<g id=\"edge1\" class=\"edge\">\n<title>n3&#45;&#45;n4</title>\n<path fill=\"none\" stroke=\"black\" d=\"M69.57,-278.57C60.59,-269.59 44.84,-253.84 34.29,-243.29\"/>\n</g>\n<!-- n5 -->\n<g id=\"node6\" class=\"node\">\n<title>n5</title>\n<text text-anchor=\"middle\" x=\"77.5\" y=\"-227.8\" font-family=\"Times,serif\" font-size=\"14.00\">expr</text>\n</g>\n<!-- n3&#45;&#45;n5 -->\n<g id=\"edge4\" class=\"edge\">\n<title>n3&#45;&#45;n5</title>\n<path fill=\"none\" stroke=\"black\" d=\"M76.63,-278.57C76.82,-268.36 77.18,-249.38 77.37,-239.26\"/>\n</g>\n<!-- n6 -->\n<g id=\"node7\" class=\"node\">\n<title>n6</title>\n<text text-anchor=\"middle\" x=\"77.5\" y=\"-172.8\" font-family=\"Times,serif\" font-size=\"14.00\">expr_const</text>\n</g>\n<!-- n5&#45;&#45;n6 -->\n<g id=\"edge3\" class=\"edge\">\n<title>n5&#45;&#45;n6</title>\n<path fill=\"none\" stroke=\"black\" d=\"M77.5,-223.57C77.5,-213.36 77.5,-194.38 77.5,-184.26\"/>\n</g>\n<!-- n7 -->\n<g id=\"node8\" class=\"node\">\n<title>n7</title>\n<polygon fill=\"none\" stroke=\"black\" points=\"123.5,-133 31.5,-133 31.5,-110 123.5,-110 123.5,-133\"/>\n<text text-anchor=\"start\" x=\"39.5\" y=\"-118.8\" font-family=\"Times,serif\" font-size=\"14.00\">NUMBER: </text>\n<text text-anchor=\"start\" x=\"106.5\" y=\"-118.8\" font-family=\"monospace\" font-size=\"14.00\" fill=\"brown\">5</text>\n</g>\n<!-- n6&#45;&#45;n7 -->\n<g id=\"edge2\" class=\"edge\">\n<title>n6&#45;&#45;n7</title>\n<path fill=\"none\" stroke=\"black\" d=\"M77.5,-168.57C77.5,-159.59 77.5,-143.84 77.5,-133.29\"/>\n</g>\n<!-- n25 -->\n<g id=\"node10\" class=\"node\">\n<title>n25</title>\n<text text-anchor=\"middle\" x=\"159.5\" y=\"-282.8\" font-family=\"Times,serif\" font-size=\"14.00\">stmt_assign</text>\n</g>\n<!-- n24&#45;&#45;n25 -->\n<g id=\"edge11\" class=\"edge\">\n<title>n24&#45;&#45;n25</title>\n<path fill=\"none\" stroke=\"black\" d=\"M159.5,-329.69C159.5,-320.33 159.5,-303.59 159.5,-294.26\"/>\n</g>\n<!-- n26 -->\n<g id=\"node11\" class=\"node\">\n<title>n26</title>\n<polygon fill=\"none\" stroke=\"black\" points=\"158,-243 111,-243 111,-220 158,-220 158,-243\"/>\n<text text-anchor=\"start\" x=\"119\" y=\"-228.8\" font-family=\"Times,serif\" font-size=\"14.00\">ID: </text>\n<text text-anchor=\"start\" x=\"141\" y=\"-228.8\" font-family=\"monospace\" font-size=\"14.00\" fill=\"brown\">b</text>\n</g>\n<!-- n25&#45;&#45;n26 -->\n<g id=\"edge7\" class=\"edge\">\n<title>n25&#45;&#45;n26</title>\n<path fill=\"none\" stroke=\"black\" d=\"M156.23,-278.57C152,-269.59 144.57,-253.84 139.59,-243.29\"/>\n</g>\n<!-- n27 -->\n<g id=\"node12\" class=\"node\">\n<title>n27</title>\n<text text-anchor=\"middle\" x=\"188.5\" y=\"-227.8\" font-family=\"Times,serif\" font-size=\"14.00\">expr</text>\n</g>\n<!-- n25&#45;&#45;n27 -->\n<g id=\"edge10\" class=\"edge\">\n<title>n25&#45;&#45;n27</title>\n<path fill=\"none\" stroke=\"black\" d=\"M163.29,-278.57C168.88,-268.36 179.26,-249.38 184.8,-239.26\"/>\n</g>\n<!-- n28 -->\n<g id=\"node13\" class=\"node\">\n<title>n28</title>\n<text text-anchor=\"middle\" x=\"188.5\" y=\"-172.8\" font-family=\"Times,serif\" font-size=\"14.00\">expr_const</text>\n</g>\n<!-- n27&#45;&#45;n28 -->\n<g id=\"edge9\" class=\"edge\">\n<title>n27&#45;&#45;n28</title>\n<path fill=\"none\" stroke=\"black\" d=\"M188.5,-223.57C188.5,-213.36 188.5,-194.38 188.5,-184.26\"/>\n</g>\n<!-- n29 -->\n<g id=\"node14\" class=\"node\">\n<title>n29</title>\n<polygon fill=\"none\" stroke=\"black\" points=\"234.5,-133 142.5,-133 142.5,-110 234.5,-110 234.5,-133\"/>\n<text text-anchor=\"start\" x=\"150.5\" y=\"-118.8\" font-family=\"Times,serif\" font-size=\"14.00\">NUMBER: </text>\n<text text-anchor=\"start\" x=\"217.5\" y=\"-118.8\" font-family=\"monospace\" font-size=\"14.00\" fill=\"brown\">6</text>\n</g>\n<!-- n28&#45;&#45;n29 -->\n<g id=\"edge8\" class=\"edge\">\n<title>n28&#45;&#45;n29</title>\n<path fill=\"none\" stroke=\"black\" d=\"M188.5,-168.57C188.5,-159.59 188.5,-143.84 188.5,-133.29\"/>\n</g>\n<!-- n135 -->\n<g id=\"node16\" class=\"node\">\n<title>n135</title>\n<text text-anchor=\"middle\" x=\"242.5\" y=\"-282.8\" font-family=\"Times,serif\" font-size=\"14.00\">stmt_assign</text>\n</g>\n<!-- n134&#45;&#45;n135 -->\n<g id=\"edge22\" class=\"edge\">\n<title>n134&#45;&#45;n135</title>\n<path fill=\"none\" stroke=\"black\" d=\"M237.33,-329.69C238.48,-320.33 240.53,-303.59 241.67,-294.26\"/>\n</g>\n<!-- n136 -->\n<g id=\"node17\" class=\"node\">\n<title>n136</title>\n<polygon fill=\"none\" stroke=\"black\" points=\"266,-243 219,-243 219,-220 266,-220 266,-243\"/>\n<text text-anchor=\"start\" x=\"227\" y=\"-228.8\" font-family=\"Times,serif\" font-size=\"14.00\">ID: </text>\n<text text-anchor=\"start\" x=\"249\" y=\"-228.8\" font-family=\"monospace\" font-size=\"14.00\" fill=\"brown\">c</text>\n</g>\n<!-- n135&#45;&#45;n136 -->\n<g id=\"edge13\" class=\"edge\">\n<title>n135&#45;&#45;n136</title>\n<path fill=\"none\" stroke=\"black\" d=\"M242.5,-278.57C242.5,-269.59 242.5,-253.84 242.5,-243.29\"/>\n</g>\n<!-- n137 -->\n<g id=\"node18\" class=\"node\">\n<title>n137</title>\n<text text-anchor=\"middle\" x=\"296.5\" y=\"-227.8\" font-family=\"Times,serif\" font-size=\"14.00\">expr</text>\n</g>\n<!-- n135&#45;&#45;n137 -->\n<g id=\"edge21\" class=\"edge\">\n<title>n135&#45;&#45;n137</title>\n<path fill=\"none\" stroke=\"black\" d=\"M249.56,-278.57C259.97,-268.36 279.3,-249.38 289.61,-239.26\"/>\n</g>\n<!-- n138 -->\n<g id=\"node19\" class=\"node\">\n<title>n138</title>\n<text text-anchor=\"middle\" x=\"296.5\" y=\"-172.8\" font-family=\"Times,serif\" font-size=\"14.00\">expr_or</text>\n</g>\n<!-- n137&#45;&#45;n138 -->\n<g id=\"edge20\" class=\"edge\">\n<title>n137&#45;&#45;n138</title>\n<path fill=\"none\" stroke=\"black\" d=\"M296.5,-223.57C296.5,-213.36 296.5,-194.38 296.5,-184.26\"/>\n</g>\n<!-- n139 -->\n<g id=\"node20\" class=\"node\">\n<title>n139</title>\n<text text-anchor=\"middle\" x=\"281.5\" y=\"-117.8\" font-family=\"Times,serif\" font-size=\"14.00\">expr</text>\n</g>\n<!-- n138&#45;&#45;n139 -->\n<g id=\"edge16\" class=\"edge\">\n<title>n138&#45;&#45;n139</title>\n<path fill=\"none\" stroke=\"black\" d=\"M294.54,-168.57C291.65,-158.36 286.28,-139.38 283.41,-129.26\"/>\n</g>\n<!-- n421 -->\n<g id=\"node23\" class=\"node\">\n<title>n421</title>\n<text text-anchor=\"middle\" x=\"333.5\" y=\"-117.8\" font-family=\"Times,serif\" font-size=\"14.00\">expr</text>\n</g>\n<!-- n138&#45;&#45;n421 -->\n<g id=\"edge19\" class=\"edge\">\n<title>n138&#45;&#45;n421</title>\n<path fill=\"none\" stroke=\"black\" d=\"M301.34,-168.57C308.47,-158.36 321.72,-139.38 328.78,-129.26\"/>\n</g>\n<!-- n140 -->\n<g id=\"node21\" class=\"node\">\n<title>n140</title>\n<text text-anchor=\"middle\" x=\"277.5\" y=\"-62.8\" font-family=\"Times,serif\" font-size=\"14.00\">expr_id</text>\n</g>\n<!-- n139&#45;&#45;n140 -->\n<g id=\"edge15\" class=\"edge\">\n<title>n139&#45;&#45;n140</title>\n<path fill=\"none\" stroke=\"black\" d=\"M280.98,-113.57C280.21,-103.36 278.77,-84.38 278.01,-74.26\"/>\n</g>\n<!-- n141 -->\n<g id=\"node22\" class=\"node\">\n<title>n141</title>\n<polygon fill=\"none\" stroke=\"black\" points=\"299,-23 252,-23 252,0 299,0 299,-23\"/>\n<text text-anchor=\"start\" x=\"260\" y=\"-8.8\" font-family=\"Times,serif\" font-size=\"14.00\">ID: </text>\n<text text-anchor=\"start\" x=\"282\" y=\"-8.8\" font-family=\"monospace\" font-size=\"14.00\" fill=\"brown\">a</text>\n</g>\n<!-- n140&#45;&#45;n141 -->\n<g id=\"edge14\" class=\"edge\">\n<title>n140&#45;&#45;n141</title>\n<path fill=\"none\" stroke=\"black\" d=\"M277.24,-58.57C276.9,-49.59 276.31,-33.84 275.91,-23.29\"/>\n</g>\n<!-- n422 -->\n<g id=\"node24\" class=\"node\">\n<title>n422</title>\n<text text-anchor=\"middle\" x=\"338.5\" y=\"-62.8\" font-family=\"Times,serif\" font-size=\"14.00\">expr_id</text>\n</g>\n<!-- n421&#45;&#45;n422 -->\n<g id=\"edge18\" class=\"edge\">\n<title>n421&#45;&#45;n422</title>\n<path fill=\"none\" stroke=\"black\" d=\"M334.15,-113.57C335.12,-103.36 336.91,-84.38 337.86,-74.26\"/>\n</g>\n<!-- n423 -->\n<g id=\"node25\" class=\"node\">\n<title>n423</title>\n<polygon fill=\"none\" stroke=\"black\" points=\"364,-23 317,-23 317,0 364,0 364,-23\"/>\n<text text-anchor=\"start\" x=\"325\" y=\"-8.8\" font-family=\"Times,serif\" font-size=\"14.00\">ID: </text>\n<text text-anchor=\"start\" x=\"347\" y=\"-8.8\" font-family=\"monospace\" font-size=\"14.00\" fill=\"brown\">b</text>\n</g>\n<!-- n422&#45;&#45;n423 -->\n<g id=\"edge17\" class=\"edge\">\n<title>n422&#45;&#45;n423</title>\n<path fill=\"none\" stroke=\"black\" d=\"M338.76,-58.57C339.1,-49.59 339.69,-33.84 340.09,-23.29\"/>\n</g>\n</g>\n</svg>\n",
            "text/plain": [
              "<graphviz.graphs.Graph at 0x7a433e4d7b30>"
            ]
          },
          "metadata": {}
        }
      ]
    },
    {
      "cell_type": "code",
      "source": [
        "asm = Joy09().compile('''\n",
        "let a = 2 ;\n",
        "let b = 0 ;\n",
        "let c = a&&b ;\n",
        "''')\n",
        "assemble_and_simulate(asm)"
      ],
      "metadata": {
        "colab": {
          "base_uri": "https://localhost:8080/",
          "height": 644
        },
        "id": "qd-BAO7IcjOV",
        "outputId": "1a95e48e-c383-4d33-da5c-a802167378b6"
      },
      "execution_count": null,
      "outputs": [
        {
          "output_type": "display_data",
          "data": {
            "text/html": [
              "\n",
              "<link rel=\"stylesheet\" href=\"https://jittat.gitlab.io/hacksim/sim.css\">\n",
              "<div id=\"sim-ui\">\n",
              "  <simulator v-bind:simulator=\"simulator\" memory-display-slots=\"30\" screen-scale=\"1\" v-bind:light-weight=\"false\" fastest-steps=\"103\"/>\n",
              "</div>\n",
              "\n",
              "<script>var exports = {};</script>\n",
              "<script src=\"https://cdn.jsdelivr.net/npm/vue/dist/vue.js\"></script>\n",
              "<script src=\"https://jittat.gitlab.io/hacksim/simulator.js\"></script>\n",
              "<script src=\"https://jittat.gitlab.io/hacksim/simulator-ui.js\"></script>\n",
              "\n",
              "<script>\n",
              "  var simulator = new HackSimulator();\n",
              "simulator.loadInstructions([16383,60432,0,58120,2,60432,3,58120,3,64528,16,58120,0,60432,3,58120,3,64528,17,58120,16,64528,3,58120,3,64528,32,58117,3,60040,34,60039,3,61384,3,64528,0,64544,58120,0,64648,17,64528,3,58120,3,64528,53,58117,3,60040,55,60039,3,61384,3,64528,0,65000,64528,4,58120,64656,58256,3,61584,72,58116,3,61384,74,60039,3,60040,3,64528,18,58120]);\n",
              "simulator.sourceCode = [{ \"lineNumber\" : null, \"code\" : \"// init stack (SP <- 16383)\"}, { \"lineNumber\" : 0, \"code\" : \"@16383\"}, { \"lineNumber\" : 1, \"code\" : \"D=A\"}, { \"lineNumber\" : 2, \"code\" : \"@SP\"}, { \"lineNumber\" : 3, \"code\" : \"M=D\"}, { \"lineNumber\" : null, \"code\" : \"//##Normal Number(2)##\"}, { \"lineNumber\" : null, \"code\" : \"// [THIS] <- 2\"}, { \"lineNumber\" : 4, \"code\" : \"@2\"}, { \"lineNumber\" : 5, \"code\" : \"D=A\"}, { \"lineNumber\" : 6, \"code\" : \"@THIS\"}, { \"lineNumber\" : 7, \"code\" : \"M=D\"}, { \"lineNumber\" : null, \"code\" : \"// [.var.a] <- [THIS]\"}, { \"lineNumber\" : 8, \"code\" : \"@THIS\"}, { \"lineNumber\" : 9, \"code\" : \"D=M\"}, { \"lineNumber\" : 10, \"code\" : \"@.var.a\"}, { \"lineNumber\" : 11, \"code\" : \"M=D\"}, { \"lineNumber\" : null, \"code\" : \"//##Normal Number(0)##\"}, { \"lineNumber\" : null, \"code\" : \"// [THIS] <- 0\"}, { \"lineNumber\" : 12, \"code\" : \"@0\"}, { \"lineNumber\" : 13, \"code\" : \"D=A\"}, { \"lineNumber\" : 14, \"code\" : \"@THIS\"}, { \"lineNumber\" : 15, \"code\" : \"M=D\"}, { \"lineNumber\" : null, \"code\" : \"// [.var.b] <- [THIS]\"}, { \"lineNumber\" : 16, \"code\" : \"@THIS\"}, { \"lineNumber\" : 17, \"code\" : \"D=M\"}, { \"lineNumber\" : 18, \"code\" : \"@.var.b\"}, { \"lineNumber\" : 19, \"code\" : \"M=D\"}, { \"lineNumber\" : null, \"code\" : \"// [THIS] <- [.var.a]\"}, { \"lineNumber\" : 20, \"code\" : \"@.var.a\"}, { \"lineNumber\" : 21, \"code\" : \"D=M\"}, { \"lineNumber\" : 22, \"code\" : \"@THIS\"}, { \"lineNumber\" : 23, \"code\" : \"M=D\"}, { \"lineNumber\" : null, \"code\" : \"//##start-logical-expr1-1##\"}, { \"lineNumber\" : 24, \"code\" : \"@THIS\"}, { \"lineNumber\" : 25, \"code\" : \"D=M\"}, { \"lineNumber\" : 26, \"code\" : \"@.ISTRUE.1\"}, { \"lineNumber\" : 27, \"code\" : \"D;JNE\"}, { \"lineNumber\" : 28, \"code\" : \"@THIS\"}, { \"lineNumber\" : 29, \"code\" : \"M=0\"}, { \"lineNumber\" : 30, \"code\" : \"@.OUT.1\"}, { \"lineNumber\" : 31, \"code\" : \"0;JMP\"}, { \"lineNumber\" : null, \"code\" : \"  (.ISTRUE.1)\"}, { \"lineNumber\" : 32, \"code\" : \"@THIS\"}, { \"lineNumber\" : 33, \"code\" : \"M=1\"}, { \"lineNumber\" : null, \"code\" : \"  (.OUT.1)\"}, { \"lineNumber\" : null, \"code\" : \"//##end-logical-expr1-1##\"}, { \"lineNumber\" : null, \"code\" : \"// Push [THIS]\"}, { \"lineNumber\" : 34, \"code\" : \"@THIS\"}, { \"lineNumber\" : 35, \"code\" : \"D=M\"}, { \"lineNumber\" : 36, \"code\" : \"@SP\"}, { \"lineNumber\" : 37, \"code\" : \"A=M\"}, { \"lineNumber\" : 38, \"code\" : \"M=D\"}, { \"lineNumber\" : 39, \"code\" : \"@SP\"}, { \"lineNumber\" : 40, \"code\" : \"M=M-1\"}, { \"lineNumber\" : null, \"code\" : \"// [THIS] <- [.var.b]\"}, { \"lineNumber\" : 41, \"code\" : \"@.var.b\"}, { \"lineNumber\" : 42, \"code\" : \"D=M\"}, { \"lineNumber\" : 43, \"code\" : \"@THIS\"}, { \"lineNumber\" : 44, \"code\" : \"M=D\"}, { \"lineNumber\" : null, \"code\" : \"//##start-logical-expr2-2##\"}, { \"lineNumber\" : 45, \"code\" : \"@THIS\"}, { \"lineNumber\" : 46, \"code\" : \"D=M\"}, { \"lineNumber\" : 47, \"code\" : \"@.ISTRUE.2\"}, { \"lineNumber\" : 48, \"code\" : \"D;JNE\"}, { \"lineNumber\" : 49, \"code\" : \"@THIS\"}, { \"lineNumber\" : 50, \"code\" : \"M=0\"}, { \"lineNumber\" : 51, \"code\" : \"@.OUT.2\"}, { \"lineNumber\" : 52, \"code\" : \"0;JMP\"}, { \"lineNumber\" : null, \"code\" : \"  (.ISTRUE.2)\"}, { \"lineNumber\" : 53, \"code\" : \"@THIS\"}, { \"lineNumber\" : 54, \"code\" : \"M=1\"}, { \"lineNumber\" : null, \"code\" : \"  (.OUT.2)\"}, { \"lineNumber\" : null, \"code\" : \"//##end-logical-expr2-2##\"}, { \"lineNumber\" : 55, \"code\" : \"@THIS\"}, { \"lineNumber\" : null, \"code\" : \"//##start-logical-expr-3##\"}, { \"lineNumber\" : 56, \"code\" : \"D=M\"}, { \"lineNumber\" : null, \"code\" : \"// Pop [THAT]\"}, { \"lineNumber\" : 57, \"code\" : \"@SP\"}, { \"lineNumber\" : 58, \"code\" : \"AM=M+1\"}, { \"lineNumber\" : 59, \"code\" : \"D=M\"}, { \"lineNumber\" : 60, \"code\" : \"@THAT\"}, { \"lineNumber\" : 61, \"code\" : \"M=D\"}, { \"lineNumber\" : 62, \"code\" : \"D=M-1\"}, { \"lineNumber\" : 63, \"code\" : \"D=D-1\"}, { \"lineNumber\" : 64, \"code\" : \"@THIS\"}, { \"lineNumber\" : 65, \"code\" : \"D=D+M\"}, { \"lineNumber\" : 66, \"code\" : \"@.ISZERO.3\"}, { \"lineNumber\" : 67, \"code\" : \"D;JLT\"}, { \"lineNumber\" : 68, \"code\" : \"@THIS\"}, { \"lineNumber\" : 69, \"code\" : \"M=1\"}, { \"lineNumber\" : 70, \"code\" : \"@.OUT.3\"}, { \"lineNumber\" : 71, \"code\" : \"0;JMP\"}, { \"lineNumber\" : null, \"code\" : \"  (.ISZERO.3)\"}, { \"lineNumber\" : 72, \"code\" : \"@THIS\"}, { \"lineNumber\" : 73, \"code\" : \"M=0\"}, { \"lineNumber\" : null, \"code\" : \"  (.OUT.3)\"}, { \"lineNumber\" : null, \"code\" : \"//##end-logical-expr-3##\"}, { \"lineNumber\" : null, \"code\" : \"// [.var.c] <- [THIS]\"}, { \"lineNumber\" : 74, \"code\" : \"@THIS\"}, { \"lineNumber\" : 75, \"code\" : \"D=M\"}, { \"lineNumber\" : 76, \"code\" : \"@.var.c\"}, { \"lineNumber\" : 77, \"code\" : \"M=D\"}]\n",
              "  simulator.memoryWriteCallbacks.push(memUpdateCallback);\n",
              "  simulator.memoryWriteCallbacks.push(screenUpdateCallback);\n",
              "\n",
              "  var app = new Vue({\n",
              "    el: '#sim-ui',\n",
              "    data: {\n",
              "      simulator: simulator\n",
              "    }\n",
              "  });\n",
              "</script>\n"
            ]
          },
          "metadata": {}
        }
      ]
    },
    {
      "cell_type": "markdown",
      "metadata": {
        "id": "G75qlRhcIg8u"
      },
      "source": [
        "## Test case\n",
        "รันสคริปต์ทดสอบให้ผ่านทุกเคส สร้างเซลล์เพิ่มเติมหากต้องการทดสอบในซิมูเลเตอร์"
      ]
    },
    {
      "cell_type": "code",
      "metadata": {
        "id": "ywyg1Y9SDa84",
        "colab": {
          "base_uri": "https://localhost:8080/"
        },
        "outputId": "2acaf0eb-0ccf-440d-f25d-512e08b8370c"
      },
      "source": [
        "# DO NOT MODIFY\n",
        "\n",
        "class TestJoy09(TestJoy08):\n",
        "\n",
        "    JOY_COMPILER = Joy09\n",
        "\n",
        "    def base_test_and_or(self, bool_op, bool_func):\n",
        "        template = '''\n",
        "            let a = {a};\n",
        "            let b = {b};\n",
        "            let result1 = a {op} b;\n",
        "            let result2 = a {op} b;\n",
        "        '''\n",
        "        data = [(x, y) for x in [0, 1, 2] for y in [0, 1, 2]]\n",
        "        for a, b in data:\n",
        "            result = 1 if bool_func(a, b) else 0\n",
        "            self.compile_and_run(template.format(a=a, b=b, op=bool_op))\n",
        "            self.assertEqual(self.cpu.ram[16], a)\n",
        "            self.assertEqual(self.cpu.ram[17], b)\n",
        "            self.assertEqual(self.cpu.ram[18], result)\n",
        "            self.assertEqual(self.cpu.ram[19], result)\n",
        "            self.assertEqual(self.cpu.ram[0], 0x3fff)\n",
        "\n",
        "    def test_and(self):\n",
        "        self.base_test_and_or(\"&&\", lambda a, b: a and b)\n",
        "\n",
        "    def test_or(self):\n",
        "        self.base_test_and_or(\"||\", lambda a, b: a or b)\n",
        "\n",
        "    def test_not(self):\n",
        "        template = '''\n",
        "            let a = {a};\n",
        "            let result1 = !a;\n",
        "            let result2 = !a;\n",
        "        '''\n",
        "        data = [0, 1, 2]\n",
        "        for a in data:\n",
        "            self.compile_and_run(template.format(a=a))\n",
        "            self.assertEqual(self.cpu.ram[16], a)\n",
        "            self.assertEqual(self.cpu.ram[17], not a)\n",
        "            self.assertEqual(self.cpu.ram[18], not a)\n",
        "            self.assertEqual(self.cpu.ram[0], 0x3fff)\n",
        "\n",
        "run_test(TestJoy09)"
      ],
      "execution_count": null,
      "outputs": [
        {
          "output_type": "stream",
          "name": "stderr",
          "text": [
            ".................."
          ]
        },
        {
          "output_type": "stream",
          "name": "stdout",
          "text": [
            "None\n",
            "None\n",
            "None\n",
            "None\n",
            "None\n",
            "None\n",
            "None\n",
            "None\n",
            "None\n",
            "None\n",
            "None\n",
            "None\n"
          ]
        },
        {
          "output_type": "stream",
          "name": "stderr",
          "text": [
            ".....\n",
            "----------------------------------------------------------------------\n",
            "Ran 23 tests in 1.625s\n",
            "\n",
            "OK\n"
          ]
        }
      ]
    },
    {
      "cell_type": "markdown",
      "metadata": {
        "id": "iSbtk91vldmU"
      },
      "source": [
        "# Joy 1.0 - Loop Construct\n",
        "Joy 1.0 รองรับฟีเจอร์ทั้งหมดของ Joy 0.9 และเพิ่มฟีเจอร์ดังนี้\n",
        "\n",
        "---\n",
        "* รองรับโครงสร้าง while ในรูปแบบ: `while` *expr* `{` *statements* `}` ซึ่ง *statements* จะถูกเรียกทำงานไปเรื่อย ๆ <u>ตราบเท่าที่</u> *expr* มีค่าไม่เท่ากับศูนย์\n",
        "* รองรับโครงสร้าง until ในรูปแบบ: `until` *expr* `{` *statements* `}` ซึ่ง *statements* จะถูกเรียกทำงานไปเรื่อย ๆ <u>จนกระทั่ง</u> *expr* มีค่าไม่เท่ากับศูนย์\n",
        "---\n",
        "\n",
        "คำใบ้: แนะนำให้เขียนโฟลว์ชาร์ทของโครงสร้าง while และ until ออกมาดูก่อน จะช่วยให้เห็นภาพชัดเจนขึ้นว่าควรวางลาเบลสำหรับกระโดดที่จุดใดบ้าง"
      ]
    },
    {
      "cell_type": "code",
      "metadata": {
        "id": "ge0apPpony4D"
      },
      "source": [
        "# DO NOT ERASE THIS CELL - to be graded\n",
        "\n",
        "class Joy10(Joy09):\n",
        "\n",
        "    GRAMMAR = r'''\n",
        "        program: statements\n",
        "        statements: statement*\n",
        "        statement: stmt_assign\n",
        "                 | stmt_if\n",
        "                 | stmt_if_else\n",
        "                 | stmt_while\n",
        "                 | stmt_until\n",
        "        stmt_assign: \"let\" ID \"=\" expr \";\"\n",
        "        stmt_if: \"if\" expr \"{\" statements \"}\"\n",
        "        stmt_if_else: \"if\" expr \"{\" statements \"}\" \"else\" \"{\" statements \"}\"\n",
        "        stmt_while: \"while\" expr \"{\" statements \"}\"\n",
        "        stmt_until: \"until\" expr \"{\" statements \"}\"\n",
        "        expr: expr_const\n",
        "            | expr_id\n",
        "            | expr_add\n",
        "            | expr_sub\n",
        "            | expr_neg\n",
        "            | expr_compare\n",
        "            | expr_or\n",
        "            | expr_and\n",
        "            | expr_not\n",
        "        expr_not: \"(\"? \"!\" expr \")\"?\n",
        "        expr_and: \"(\"? expr \"&&\" expr \")\"?\n",
        "        expr_or: \"(\"? expr \"||\" expr \")\"?\n",
        "        expr_compare: \"(\"? expr COMPARE expr \")\"?\n",
        "        expr_sub: \"(\"? expr \"-\" expr \")\"?\n",
        "        expr_add: \"(\"? expr \"+\" expr \")\"?\n",
        "        expr_const: NUMBER\n",
        "        expr_neg: \"-\" expr\n",
        "        expr_id: ID\n",
        "\n",
        "        COMPARE: /(>=|<=|==|!=|>|<)/\n",
        "        ID: /[_A-Za-z][_0-9A-Za-z]*/\n",
        "        NUMBER: /-?[0-9]+/\n",
        "        WS: /[ \\t\\f\\r\\n]+/\n",
        "        %ignore WS\n",
        "    '''\n",
        "\n",
        "    # add your rule processing methods here\n",
        "    def stmt_while(self, tree):\n",
        "        label = self.gen_label_no()\n",
        "        start = f\".WHILE.{label}\"\n",
        "        end   = f\".OUT.{label}\"\n",
        "\n",
        "        [expr, body] = tree.children\n",
        "\n",
        "        self._asm.append(f\"({start})\")\n",
        "        self.visit(expr)\n",
        "        self._asm.append(f\"\"\"\n",
        "        @THIS\n",
        "        D=M\n",
        "        @{end}\n",
        "        D;JEQ\n",
        "        //##While-body-{label}\n",
        "        \"\"\")\n",
        "\n",
        "        self.visit(body)\n",
        "\n",
        "        self._asm.append(f\"\"\"\n",
        "        @{start}\n",
        "        0;JMP\n",
        "        ({end})\n",
        "        \"\"\")\n",
        "\n",
        "    def stmt_until(self,tree) :\n",
        "        label = self.gen_label_no()\n",
        "        start = f\".WHILE.{label}\"\n",
        "        end   = f\".OUT.{label}\"\n",
        "\n",
        "        [expr, body] = tree.children\n",
        "\n",
        "        self._asm.append(f\"({start})\")\n",
        "        self.visit(expr)\n",
        "        self._asm.append(f\"\"\"\n",
        "        @THIS\n",
        "        D=M\n",
        "        @{end}\n",
        "        D;JNE\n",
        "        //##While-body-{label}\n",
        "        \"\"\")\n",
        "\n",
        "        self.visit(body)\n",
        "\n",
        "        self._asm.append(f\"\"\"\n",
        "        @{start}\n",
        "        0;JMP\n",
        "        ({end})\n",
        "        \"\"\")\n",
        "\n",
        "    def stmt_if_else(self, tree):\n",
        "      [expr, if_body,else_body] = tree.children\n",
        "      label = self.gen_label_no()\n",
        "      self._asm.append(f'''\n",
        "          //## begin-if-{label} ##\n",
        "      ''')\n",
        "      self.visit(expr)\n",
        "      # expr result is in THIS; if it is zero, jump over the body to the end-if label\n",
        "      self._asm.append(f'''\n",
        "          @THIS\n",
        "          D=M\n",
        "          @.endif.{label}\n",
        "          D;JEQ\n",
        "      ''')\n",
        "      # generate the body by visiting the statements node\n",
        "      self._asm.append(f'''\n",
        "          //## if-body-{label} ##\n",
        "      ''')\n",
        "      self.visit(if_body)\n",
        "      # place the end-if label here\n",
        "      self._asm.append(f'''\n",
        "          @THIS\n",
        "          D=M\n",
        "          @.endelse.{label}\n",
        "          D;JNE\n",
        "          //## end-if-{label} ##\n",
        "          (.endif.{label})\n",
        "      ''')                    #Start Else\n",
        "      self._asm.append(f'''\n",
        "      //##else body {label}##\n",
        "      ''')\n",
        "      self.visit(else_body)\n",
        "      self._asm.append(f'''\n",
        "      //##end else body {label}##\n",
        "      (.endelse.{label})\n",
        "      ''')"
      ],
      "execution_count": null,
      "outputs": []
    },
    {
      "cell_type": "code",
      "source": [
        "asm = Joy10().compile('''\n",
        "            let result = 0;\n",
        "            let a = 5;\n",
        "            let b = 4;\n",
        "            let ta = a;\n",
        "            while b > 1 {\n",
        "                let result = 0;\n",
        "                let count = a;\n",
        "                while count > 0 {\n",
        "                    let result = result + ta;\n",
        "                    let count = count - 1;\n",
        "                }\n",
        "                let ta = result;\n",
        "                let b = b - 1;\n",
        "            }\n",
        "        ''')\n",
        "assemble_and_simulate(asm)"
      ],
      "metadata": {
        "colab": {
          "base_uri": "https://localhost:8080/",
          "height": 644
        },
        "id": "Fg7ZhErcnM9l",
        "outputId": "00280abb-c957-421a-acc5-67f50f188c70"
      },
      "execution_count": null,
      "outputs": [
        {
          "output_type": "display_data",
          "data": {
            "text/html": [
              "\n",
              "<link rel=\"stylesheet\" href=\"https://jittat.gitlab.io/hacksim/sim.css\">\n",
              "<div id=\"sim-ui\">\n",
              "  <simulator v-bind:simulator=\"simulator\" memory-display-slots=\"30\" screen-scale=\"1\" v-bind:light-weight=\"false\" fastest-steps=\"103\"/>\n",
              "</div>\n",
              "\n",
              "<script>var exports = {};</script>\n",
              "<script src=\"https://cdn.jsdelivr.net/npm/vue/dist/vue.js\"></script>\n",
              "<script src=\"https://jittat.gitlab.io/hacksim/simulator.js\"></script>\n",
              "<script src=\"https://jittat.gitlab.io/hacksim/simulator-ui.js\"></script>\n",
              "\n",
              "<script>\n",
              "  var simulator = new HackSimulator();\n",
              "simulator.loadInstructions([16383,60432,0,58120,0,60432,3,58120,3,64528,16,58120,5,60432,3,58120,3,64528,17,58120,4,60432,3,58120,3,64528,18,58120,17,64528,3,58120,3,64528,19,58120,18,64528,3,58120,3,64528,0,64544,58120,0,64648,1,60432,3,58120,0,65000,64528,4,58120,4,64528,3,62672,67,58113,3,60040,64528,69,58114,3,61384,3,64528,225,58114,0,60432,3,58120,3,64528,16,58120,17,64528,3,58120,3,64528,20,58120,20,64528,3,58120,3,64528,0,64544,58120,0,64648,0,60432,3,58120,0,65000,64528,4,58120,4,64528,3,62672,120,58113,3,60040,64528,122,58114,3,61384,3,64528,186,58114,16,64528,3,58120,3,64528,0,64544,58120,0,64648,19,64528,3,58120,0,65000,64528,4,58120,4,64528,3,61584,58120,3,64528,16,58120,20,64528,3,58120,3,64528,0,64544,58120,0,64648,1,60432,3,58120,0,65000,64528,4,58120,4,64528,3,62672,58120,3,64528,20,58120,89,60039,16,64528,3,58120,3,64528,19,58120,18,64528,3,58120,3,64528,0,64544,58120,0,64648,1,60432,3,58120,0,65000,64528,4,58120,4,64528,3,62672,58120,3,64528,18,58120,36,60039]);\n",
              "simulator.sourceCode = [{ \"lineNumber\" : null, \"code\" : \"// init stack (SP <- 16383)\"}, { \"lineNumber\" : 0, \"code\" : \"@16383\"}, { \"lineNumber\" : 1, \"code\" : \"D=A\"}, { \"lineNumber\" : 2, \"code\" : \"@SP\"}, { \"lineNumber\" : 3, \"code\" : \"M=D\"}, { \"lineNumber\" : null, \"code\" : \"//##Normal Number(0)##\"}, { \"lineNumber\" : null, \"code\" : \"// [THIS] <- 0\"}, { \"lineNumber\" : 4, \"code\" : \"@0\"}, { \"lineNumber\" : 5, \"code\" : \"D=A\"}, { \"lineNumber\" : 6, \"code\" : \"@THIS\"}, { \"lineNumber\" : 7, \"code\" : \"M=D\"}, { \"lineNumber\" : null, \"code\" : \"// [.var.result] <- [THIS]\"}, { \"lineNumber\" : 8, \"code\" : \"@THIS\"}, { \"lineNumber\" : 9, \"code\" : \"D=M\"}, { \"lineNumber\" : 10, \"code\" : \"@.var.result\"}, { \"lineNumber\" : 11, \"code\" : \"M=D\"}, { \"lineNumber\" : null, \"code\" : \"//##Normal Number(5)##\"}, { \"lineNumber\" : null, \"code\" : \"// [THIS] <- 5\"}, { \"lineNumber\" : 12, \"code\" : \"@5\"}, { \"lineNumber\" : 13, \"code\" : \"D=A\"}, { \"lineNumber\" : 14, \"code\" : \"@THIS\"}, { \"lineNumber\" : 15, \"code\" : \"M=D\"}, { \"lineNumber\" : null, \"code\" : \"// [.var.a] <- [THIS]\"}, { \"lineNumber\" : 16, \"code\" : \"@THIS\"}, { \"lineNumber\" : 17, \"code\" : \"D=M\"}, { \"lineNumber\" : 18, \"code\" : \"@.var.a\"}, { \"lineNumber\" : 19, \"code\" : \"M=D\"}, { \"lineNumber\" : null, \"code\" : \"//##Normal Number(4)##\"}, { \"lineNumber\" : null, \"code\" : \"// [THIS] <- 4\"}, { \"lineNumber\" : 20, \"code\" : \"@4\"}, { \"lineNumber\" : 21, \"code\" : \"D=A\"}, { \"lineNumber\" : 22, \"code\" : \"@THIS\"}, { \"lineNumber\" : 23, \"code\" : \"M=D\"}, { \"lineNumber\" : null, \"code\" : \"// [.var.b] <- [THIS]\"}, { \"lineNumber\" : 24, \"code\" : \"@THIS\"}, { \"lineNumber\" : 25, \"code\" : \"D=M\"}, { \"lineNumber\" : 26, \"code\" : \"@.var.b\"}, { \"lineNumber\" : 27, \"code\" : \"M=D\"}, { \"lineNumber\" : null, \"code\" : \"// [THIS] <- [.var.a]\"}, { \"lineNumber\" : 28, \"code\" : \"@.var.a\"}, { \"lineNumber\" : 29, \"code\" : \"D=M\"}, { \"lineNumber\" : 30, \"code\" : \"@THIS\"}, { \"lineNumber\" : 31, \"code\" : \"M=D\"}, { \"lineNumber\" : null, \"code\" : \"// [.var.ta] <- [THIS]\"}, { \"lineNumber\" : 32, \"code\" : \"@THIS\"}, { \"lineNumber\" : 33, \"code\" : \"D=M\"}, { \"lineNumber\" : 34, \"code\" : \"@.var.ta\"}, { \"lineNumber\" : 35, \"code\" : \"M=D\"}, { \"lineNumber\" : null, \"code\" : \"  (.WHILE.1)\"}, { \"lineNumber\" : null, \"code\" : \"// [THIS] <- [.var.b]\"}, { \"lineNumber\" : 36, \"code\" : \"@.var.b\"}, { \"lineNumber\" : 37, \"code\" : \"D=M\"}, { \"lineNumber\" : 38, \"code\" : \"@THIS\"}, { \"lineNumber\" : 39, \"code\" : \"M=D\"}, { \"lineNumber\" : null, \"code\" : \"// Push [THIS]\"}, { \"lineNumber\" : 40, \"code\" : \"@THIS\"}, { \"lineNumber\" : 41, \"code\" : \"D=M\"}, { \"lineNumber\" : 42, \"code\" : \"@SP\"}, { \"lineNumber\" : 43, \"code\" : \"A=M\"}, { \"lineNumber\" : 44, \"code\" : \"M=D\"}, { \"lineNumber\" : 45, \"code\" : \"@SP\"}, { \"lineNumber\" : 46, \"code\" : \"M=M-1\"}, { \"lineNumber\" : null, \"code\" : \"//##Normal Number(1)##\"}, { \"lineNumber\" : null, \"code\" : \"// [THIS] <- 1\"}, { \"lineNumber\" : 47, \"code\" : \"@1\"}, { \"lineNumber\" : 48, \"code\" : \"D=A\"}, { \"lineNumber\" : 49, \"code\" : \"@THIS\"}, { \"lineNumber\" : 50, \"code\" : \"M=D\"}, { \"lineNumber\" : null, \"code\" : \"// Pop [THAT]\"}, { \"lineNumber\" : 51, \"code\" : \"@SP\"}, { \"lineNumber\" : 52, \"code\" : \"AM=M+1\"}, { \"lineNumber\" : 53, \"code\" : \"D=M\"}, { \"lineNumber\" : 54, \"code\" : \"@THAT\"}, { \"lineNumber\" : 55, \"code\" : \"M=D\"}, { \"lineNumber\" : null, \"code\" : \"//##start-compare-2##\"}, { \"lineNumber\" : 56, \"code\" : \"@THAT\"}, { \"lineNumber\" : 57, \"code\" : \"D=M\"}, { \"lineNumber\" : 58, \"code\" : \"@THIS\"}, { \"lineNumber\" : 59, \"code\" : \"D=D-M\"}, { \"lineNumber\" : 60, \"code\" : \"@.TRUE.2\"}, { \"lineNumber\" : 61, \"code\" : \"D;JGT\"}, { \"lineNumber\" : 62, \"code\" : \"@THIS\"}, { \"lineNumber\" : 63, \"code\" : \"M=0\"}, { \"lineNumber\" : 64, \"code\" : \"D=M\"}, { \"lineNumber\" : 65, \"code\" : \"@.FALSE.2\"}, { \"lineNumber\" : 66, \"code\" : \"D;JEQ\"}, { \"lineNumber\" : null, \"code\" : \"  (.TRUE.2)\"}, { \"lineNumber\" : 67, \"code\" : \"@THIS\"}, { \"lineNumber\" : 68, \"code\" : \"M=1\"}, { \"lineNumber\" : null, \"code\" : \"  (.FALSE.2)\"}, { \"lineNumber\" : null, \"code\" : \"//##end-compare-2##\"}, { \"lineNumber\" : 69, \"code\" : \"@THIS\"}, { \"lineNumber\" : 70, \"code\" : \"D=M\"}, { \"lineNumber\" : 71, \"code\" : \"@.OUT.1\"}, { \"lineNumber\" : 72, \"code\" : \"D;JEQ\"}, { \"lineNumber\" : null, \"code\" : \"//##While-body-1\"}, { \"lineNumber\" : null, \"code\" : \"//##Normal Number(0)##\"}, { \"lineNumber\" : null, \"code\" : \"// [THIS] <- 0\"}, { \"lineNumber\" : 73, \"code\" : \"@0\"}, { \"lineNumber\" : 74, \"code\" : \"D=A\"}, { \"lineNumber\" : 75, \"code\" : \"@THIS\"}, { \"lineNumber\" : 76, \"code\" : \"M=D\"}, { \"lineNumber\" : null, \"code\" : \"// [.var.result] <- [THIS]\"}, { \"lineNumber\" : 77, \"code\" : \"@THIS\"}, { \"lineNumber\" : 78, \"code\" : \"D=M\"}, { \"lineNumber\" : 79, \"code\" : \"@.var.result\"}, { \"lineNumber\" : 80, \"code\" : \"M=D\"}, { \"lineNumber\" : null, \"code\" : \"// [THIS] <- [.var.a]\"}, { \"lineNumber\" : 81, \"code\" : \"@.var.a\"}, { \"lineNumber\" : 82, \"code\" : \"D=M\"}, { \"lineNumber\" : 83, \"code\" : \"@THIS\"}, { \"lineNumber\" : 84, \"code\" : \"M=D\"}, { \"lineNumber\" : null, \"code\" : \"// [.var.count] <- [THIS]\"}, { \"lineNumber\" : 85, \"code\" : \"@THIS\"}, { \"lineNumber\" : 86, \"code\" : \"D=M\"}, { \"lineNumber\" : 87, \"code\" : \"@.var.count\"}, { \"lineNumber\" : 88, \"code\" : \"M=D\"}, { \"lineNumber\" : null, \"code\" : \"  (.WHILE.3)\"}, { \"lineNumber\" : null, \"code\" : \"// [THIS] <- [.var.count]\"}, { \"lineNumber\" : 89, \"code\" : \"@.var.count\"}, { \"lineNumber\" : 90, \"code\" : \"D=M\"}, { \"lineNumber\" : 91, \"code\" : \"@THIS\"}, { \"lineNumber\" : 92, \"code\" : \"M=D\"}, { \"lineNumber\" : null, \"code\" : \"// Push [THIS]\"}, { \"lineNumber\" : 93, \"code\" : \"@THIS\"}, { \"lineNumber\" : 94, \"code\" : \"D=M\"}, { \"lineNumber\" : 95, \"code\" : \"@SP\"}, { \"lineNumber\" : 96, \"code\" : \"A=M\"}, { \"lineNumber\" : 97, \"code\" : \"M=D\"}, { \"lineNumber\" : 98, \"code\" : \"@SP\"}, { \"lineNumber\" : 99, \"code\" : \"M=M-1\"}, { \"lineNumber\" : null, \"code\" : \"//##Normal Number(0)##\"}, { \"lineNumber\" : null, \"code\" : \"// [THIS] <- 0\"}, { \"lineNumber\" : 100, \"code\" : \"@0\"}, { \"lineNumber\" : 101, \"code\" : \"D=A\"}, { \"lineNumber\" : 102, \"code\" : \"@THIS\"}, { \"lineNumber\" : 103, \"code\" : \"M=D\"}, { \"lineNumber\" : null, \"code\" : \"// Pop [THAT]\"}, { \"lineNumber\" : 104, \"code\" : \"@SP\"}, { \"lineNumber\" : 105, \"code\" : \"AM=M+1\"}, { \"lineNumber\" : 106, \"code\" : \"D=M\"}, { \"lineNumber\" : 107, \"code\" : \"@THAT\"}, { \"lineNumber\" : 108, \"code\" : \"M=D\"}, { \"lineNumber\" : null, \"code\" : \"//##start-compare-4##\"}, { \"lineNumber\" : 109, \"code\" : \"@THAT\"}, { \"lineNumber\" : 110, \"code\" : \"D=M\"}, { \"lineNumber\" : 111, \"code\" : \"@THIS\"}, { \"lineNumber\" : 112, \"code\" : \"D=D-M\"}, { \"lineNumber\" : 113, \"code\" : \"@.TRUE.4\"}, { \"lineNumber\" : 114, \"code\" : \"D;JGT\"}, { \"lineNumber\" : 115, \"code\" : \"@THIS\"}, { \"lineNumber\" : 116, \"code\" : \"M=0\"}, { \"lineNumber\" : 117, \"code\" : \"D=M\"}, { \"lineNumber\" : 118, \"code\" : \"@.FALSE.4\"}, { \"lineNumber\" : 119, \"code\" : \"D;JEQ\"}, { \"lineNumber\" : null, \"code\" : \"  (.TRUE.4)\"}, { \"lineNumber\" : 120, \"code\" : \"@THIS\"}, { \"lineNumber\" : 121, \"code\" : \"M=1\"}, { \"lineNumber\" : null, \"code\" : \"  (.FALSE.4)\"}, { \"lineNumber\" : null, \"code\" : \"//##end-compare-4##\"}, { \"lineNumber\" : 122, \"code\" : \"@THIS\"}, { \"lineNumber\" : 123, \"code\" : \"D=M\"}, { \"lineNumber\" : 124, \"code\" : \"@.OUT.3\"}, { \"lineNumber\" : 125, \"code\" : \"D;JEQ\"}, { \"lineNumber\" : null, \"code\" : \"//##While-body-3\"}, { \"lineNumber\" : null, \"code\" : \"// [THIS] <- [.var.result]\"}, { \"lineNumber\" : 126, \"code\" : \"@.var.result\"}, { \"lineNumber\" : 127, \"code\" : \"D=M\"}, { \"lineNumber\" : 128, \"code\" : \"@THIS\"}, { \"lineNumber\" : 129, \"code\" : \"M=D\"}, { \"lineNumber\" : null, \"code\" : \"// Push [THIS]\"}, { \"lineNumber\" : 130, \"code\" : \"@THIS\"}, { \"lineNumber\" : 131, \"code\" : \"D=M\"}, { \"lineNumber\" : 132, \"code\" : \"@SP\"}, { \"lineNumber\" : 133, \"code\" : \"A=M\"}, { \"lineNumber\" : 134, \"code\" : \"M=D\"}, { \"lineNumber\" : 135, \"code\" : \"@SP\"}, { \"lineNumber\" : 136, \"code\" : \"M=M-1\"}, { \"lineNumber\" : null, \"code\" : \"// [THIS] <- [.var.ta]\"}, { \"lineNumber\" : 137, \"code\" : \"@.var.ta\"}, { \"lineNumber\" : 138, \"code\" : \"D=M\"}, { \"lineNumber\" : 139, \"code\" : \"@THIS\"}, { \"lineNumber\" : 140, \"code\" : \"M=D\"}, { \"lineNumber\" : null, \"code\" : \"// Pop [THAT]\"}, { \"lineNumber\" : 141, \"code\" : \"@SP\"}, { \"lineNumber\" : 142, \"code\" : \"AM=M+1\"}, { \"lineNumber\" : 143, \"code\" : \"D=M\"}, { \"lineNumber\" : 144, \"code\" : \"@THAT\"}, { \"lineNumber\" : 145, \"code\" : \"M=D\"}, { \"lineNumber\" : null, \"code\" : \"// [THIS] <- [THAT] + [THIS]\"}, { \"lineNumber\" : 146, \"code\" : \"@THAT\"}, { \"lineNumber\" : 147, \"code\" : \"D=M\"}, { \"lineNumber\" : 148, \"code\" : \"@THIS\"}, { \"lineNumber\" : 149, \"code\" : \"D=D+M\"}, { \"lineNumber\" : 150, \"code\" : \"M=D\"}, { \"lineNumber\" : null, \"code\" : \"// [.var.result] <- [THIS]\"}, { \"lineNumber\" : 151, \"code\" : \"@THIS\"}, { \"lineNumber\" : 152, \"code\" : \"D=M\"}, { \"lineNumber\" : 153, \"code\" : \"@.var.result\"}, { \"lineNumber\" : 154, \"code\" : \"M=D\"}, { \"lineNumber\" : null, \"code\" : \"// [THIS] <- [.var.count]\"}, { \"lineNumber\" : 155, \"code\" : \"@.var.count\"}, { \"lineNumber\" : 156, \"code\" : \"D=M\"}, { \"lineNumber\" : 157, \"code\" : \"@THIS\"}, { \"lineNumber\" : 158, \"code\" : \"M=D\"}, { \"lineNumber\" : null, \"code\" : \"// Push [THIS]\"}, { \"lineNumber\" : 159, \"code\" : \"@THIS\"}, { \"lineNumber\" : 160, \"code\" : \"D=M\"}, { \"lineNumber\" : 161, \"code\" : \"@SP\"}, { \"lineNumber\" : 162, \"code\" : \"A=M\"}, { \"lineNumber\" : 163, \"code\" : \"M=D\"}, { \"lineNumber\" : 164, \"code\" : \"@SP\"}, { \"lineNumber\" : 165, \"code\" : \"M=M-1\"}, { \"lineNumber\" : null, \"code\" : \"//##Normal Number(1)##\"}, { \"lineNumber\" : null, \"code\" : \"// [THIS] <- 1\"}, { \"lineNumber\" : 166, \"code\" : \"@1\"}, { \"lineNumber\" : 167, \"code\" : \"D=A\"}, { \"lineNumber\" : 168, \"code\" : \"@THIS\"}, { \"lineNumber\" : 169, \"code\" : \"M=D\"}, { \"lineNumber\" : null, \"code\" : \"// Pop [THAT]\"}, { \"lineNumber\" : 170, \"code\" : \"@SP\"}, { \"lineNumber\" : 171, \"code\" : \"AM=M+1\"}, { \"lineNumber\" : 172, \"code\" : \"D=M\"}, { \"lineNumber\" : 173, \"code\" : \"@THAT\"}, { \"lineNumber\" : 174, \"code\" : \"M=D\"}, { \"lineNumber\" : null, \"code\" : \"// [THIS] <- [THAT] - [THIS]\"}, { \"lineNumber\" : 175, \"code\" : \"@THAT\"}, { \"lineNumber\" : 176, \"code\" : \"D=M\"}, { \"lineNumber\" : 177, \"code\" : \"@THIS\"}, { \"lineNumber\" : 178, \"code\" : \"D=D-M\"}, { \"lineNumber\" : 179, \"code\" : \"M=D\"}, { \"lineNumber\" : null, \"code\" : \"// [.var.count] <- [THIS]\"}, { \"lineNumber\" : 180, \"code\" : \"@THIS\"}, { \"lineNumber\" : 181, \"code\" : \"D=M\"}, { \"lineNumber\" : 182, \"code\" : \"@.var.count\"}, { \"lineNumber\" : 183, \"code\" : \"M=D\"}, { \"lineNumber\" : 184, \"code\" : \"@.WHILE.3\"}, { \"lineNumber\" : 185, \"code\" : \"0;JMP\"}, { \"lineNumber\" : null, \"code\" : \"  (.OUT.3)\"}, { \"lineNumber\" : null, \"code\" : \"// [THIS] <- [.var.result]\"}, { \"lineNumber\" : 186, \"code\" : \"@.var.result\"}, { \"lineNumber\" : 187, \"code\" : \"D=M\"}, { \"lineNumber\" : 188, \"code\" : \"@THIS\"}, { \"lineNumber\" : 189, \"code\" : \"M=D\"}, { \"lineNumber\" : null, \"code\" : \"// [.var.ta] <- [THIS]\"}, { \"lineNumber\" : 190, \"code\" : \"@THIS\"}, { \"lineNumber\" : 191, \"code\" : \"D=M\"}, { \"lineNumber\" : 192, \"code\" : \"@.var.ta\"}, { \"lineNumber\" : 193, \"code\" : \"M=D\"}, { \"lineNumber\" : null, \"code\" : \"// [THIS] <- [.var.b]\"}, { \"lineNumber\" : 194, \"code\" : \"@.var.b\"}, { \"lineNumber\" : 195, \"code\" : \"D=M\"}, { \"lineNumber\" : 196, \"code\" : \"@THIS\"}, { \"lineNumber\" : 197, \"code\" : \"M=D\"}, { \"lineNumber\" : null, \"code\" : \"// Push [THIS]\"}, { \"lineNumber\" : 198, \"code\" : \"@THIS\"}, { \"lineNumber\" : 199, \"code\" : \"D=M\"}, { \"lineNumber\" : 200, \"code\" : \"@SP\"}, { \"lineNumber\" : 201, \"code\" : \"A=M\"}, { \"lineNumber\" : 202, \"code\" : \"M=D\"}, { \"lineNumber\" : 203, \"code\" : \"@SP\"}, { \"lineNumber\" : 204, \"code\" : \"M=M-1\"}, { \"lineNumber\" : null, \"code\" : \"//##Normal Number(1)##\"}, { \"lineNumber\" : null, \"code\" : \"// [THIS] <- 1\"}, { \"lineNumber\" : 205, \"code\" : \"@1\"}, { \"lineNumber\" : 206, \"code\" : \"D=A\"}, { \"lineNumber\" : 207, \"code\" : \"@THIS\"}, { \"lineNumber\" : 208, \"code\" : \"M=D\"}, { \"lineNumber\" : null, \"code\" : \"// Pop [THAT]\"}, { \"lineNumber\" : 209, \"code\" : \"@SP\"}, { \"lineNumber\" : 210, \"code\" : \"AM=M+1\"}, { \"lineNumber\" : 211, \"code\" : \"D=M\"}, { \"lineNumber\" : 212, \"code\" : \"@THAT\"}, { \"lineNumber\" : 213, \"code\" : \"M=D\"}, { \"lineNumber\" : null, \"code\" : \"// [THIS] <- [THAT] - [THIS]\"}, { \"lineNumber\" : 214, \"code\" : \"@THAT\"}, { \"lineNumber\" : 215, \"code\" : \"D=M\"}, { \"lineNumber\" : 216, \"code\" : \"@THIS\"}, { \"lineNumber\" : 217, \"code\" : \"D=D-M\"}, { \"lineNumber\" : 218, \"code\" : \"M=D\"}, { \"lineNumber\" : null, \"code\" : \"// [.var.b] <- [THIS]\"}, { \"lineNumber\" : 219, \"code\" : \"@THIS\"}, { \"lineNumber\" : 220, \"code\" : \"D=M\"}, { \"lineNumber\" : 221, \"code\" : \"@.var.b\"}, { \"lineNumber\" : 222, \"code\" : \"M=D\"}, { \"lineNumber\" : 223, \"code\" : \"@.WHILE.1\"}, { \"lineNumber\" : 224, \"code\" : \"0;JMP\"}, { \"lineNumber\" : null, \"code\" : \"  (.OUT.1)\"}]\n",
              "  simulator.memoryWriteCallbacks.push(memUpdateCallback);\n",
              "  simulator.memoryWriteCallbacks.push(screenUpdateCallback);\n",
              "\n",
              "  var app = new Vue({\n",
              "    el: '#sim-ui',\n",
              "    data: {\n",
              "      simulator: simulator\n",
              "    }\n",
              "  });\n",
              "</script>\n"
            ]
          },
          "metadata": {}
        }
      ]
    },
    {
      "cell_type": "markdown",
      "metadata": {
        "id": "NxcHkyDuronk"
      },
      "source": [
        "## Test case\n",
        "รันสคริปต์ทดสอบให้ผ่านทุกเคส สร้างเซลล์เพิ่มเติมหากต้องการทดสอบในซิมูเลเตอร์"
      ]
    },
    {
      "cell_type": "code",
      "metadata": {
        "id": "1wDFlDXOpYXM",
        "colab": {
          "base_uri": "https://localhost:8080/"
        },
        "outputId": "65e57102-d668-4ca7-8402-0d11f356d668"
      },
      "source": [
        "# DO NOT MODIFY\n",
        "\n",
        "class TestJoy10(TestJoy09):\n",
        "\n",
        "    JOY_COMPILER = Joy10\n",
        "\n",
        "    def test_while(self):\n",
        "        self.compile_and_run('''\n",
        "            let a = 8;\n",
        "            let b = 3;\n",
        "            let result = 0;\n",
        "            while b > 0 {\n",
        "                let result = result + a;\n",
        "                let b = b - 1;\n",
        "            }\n",
        "        ''')\n",
        "        self.assertEqual(self.cpu.ram[18], 24)\n",
        "        self.assertEqual(self.cpu.ram[0], 0x3fff)\n",
        "\n",
        "    def test_until(self):\n",
        "        self.compile_and_run('''\n",
        "            let a = 8;\n",
        "            let b = 3;\n",
        "            let result = 0;\n",
        "            until b == 0 {\n",
        "                let result = result + a;\n",
        "                let b = b - 1;\n",
        "            }\n",
        "        ''')\n",
        "        self.assertEqual(self.cpu.ram[18], 24)\n",
        "        self.assertEqual(self.cpu.ram[0], 0x3fff)\n",
        "\n",
        "    def test_nested_loop(self):\n",
        "        # compute a**b\n",
        "        self.compile_and_run('''\n",
        "            let result = 0;\n",
        "            let a = 5;\n",
        "            let b = 4;\n",
        "            let ta = a;\n",
        "            while b > 1 {\n",
        "                let result = 0;\n",
        "                let count = a;\n",
        "                while count > 0 {\n",
        "                    let result = result + ta;\n",
        "                    let count = count - 1;\n",
        "                }\n",
        "                let ta = result;\n",
        "                let b = b - 1;\n",
        "            }\n",
        "        ''')\n",
        "        self.assertEqual(self.cpu.ram[16], 5**4)\n",
        "        self.assertEqual(self.cpu.ram[0], 0x3fff)\n",
        "\n",
        "run_test(TestJoy10)"
      ],
      "execution_count": null,
      "outputs": [
        {
          "output_type": "stream",
          "name": "stderr",
          "text": [
            "..........................\n",
            "----------------------------------------------------------------------\n",
            "Ran 26 tests in 2.096s\n",
            "\n",
            "OK\n"
          ]
        }
      ]
    },
    {
      "cell_type": "code",
      "source": [],
      "metadata": {
        "id": "Ui6bdRLRrqH5"
      },
      "execution_count": null,
      "outputs": []
    }
  ]
}