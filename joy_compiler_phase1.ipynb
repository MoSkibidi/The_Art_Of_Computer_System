{
  "nbformat": 4,
  "nbformat_minor": 0,
  "metadata": {
    "colab": {
      "provenance": [],
      "include_colab_link": true
    },
    "kernelspec": {
      "name": "python3",
      "display_name": "Python 3"
    }
  },
  "cells": [
    {
      "cell_type": "markdown",
      "metadata": {
        "id": "view-in-github",
        "colab_type": "text"
      },
      "source": [
        "<a href=\"https://colab.research.google.com/github/MoSkibidi/The_Art_Of_Computer_System/blob/main/joy_compiler_phase1.ipynb\" target=\"_parent\"><img src=\"https://colab.research.google.com/assets/colab-badge.svg\" alt=\"Open In Colab\"/></a>"
      ]
    },
    {
      "cell_type": "markdown",
      "metadata": {
        "id": "VycFHW8sPsaQ"
      },
      "source": [
        "# การพัฒนา Joy Compiler (เฟส 1)\n",
        "\n",
        "เราจะเรียนรู้กระบวนการพัฒนาคอมไพเลอร์แบบรวบรัด ผ่านภาษาโปรแกรมอย่างง่ายที่ชื่อว่า \"ภาษาจอย\" (Joy language - ได้รับตั้งชื่อโดย ผศ.เฉลิมศักดิ์ ฉัตรดอกไม้ไพร) โดยแบ่งการพัฒนาออกเป็น 4 เฟสดังนี้\n",
        "\n",
        "**เฟส 1: Joy 0.5**\n",
        "* รองรับการประกาศและกำหนดค่าให้ตัวแปรแบบโกลบอล\n",
        "* รองรับการระบุนิพจน์ในรูปตัวแปรและจำนวนเต็ม (ข้อมูลทุกประเภทในภาษาจอยเป็นข้อมูลขนาด 16 บิต จึงไม่มีการระบุประเภทข้อมูลเวลาประกาศใช้งานตัวแปร)\n",
        "* รองรับการควบคุมโปรแกรมโฟลว์ด้วยโครงสร้าง `if` และ `if..else`\n",
        "\n",
        "**เฟส 2: Joy 1.0**\n",
        "* รองรับการสร้างนิพจน์ทางคณิตศาสตร์ที่ประกอบด้วยตัวดำเนินการ `+`, `-` (ทั้ง binary และ unary), `()`\n",
        "* รองรับการสร้างนิพจน์จากตัวดำเนินการเปรียบเทียบ: `>`,`<`,`==`,`!=`,`>=`,`<=`\n",
        "<br/>(นิพจน์เหล่านี้ให้ค่าเป็น 0 หรือ 1 เนื่องจากภาษาจอยมีข้อมูลประเภทเดียวคือจำนวนเต็ม)\n",
        "* รองรับการควบคุมโปรแกรมโฟลว์ด้วยโครงสร้าง `while` และ `until`\n",
        "\n",
        "**เฟส 3: Joy 2.0**\n",
        "* รองรับคอมเม้นต์แบบบรรทัดเดียว\n",
        "* รองรับ literal integer ในรูปเลขฐานสอง และฐานสิบหก\n",
        "* รองรับการอ้างถึงหน่วยความจำในรูปพอยเตอร์ เพื่อนำไปใช้งานกับสตริง อาร์เรย์ และอินพุทเอาท์พุทในรูปแบบ memory-mapped I/O\n",
        "* รองรับการสร้างสตริง และอาร์เรย์\n",
        "\n",
        "**เฟส 4: Joy 3.0**\n",
        "* รองรับการสร้างและการเรียกใช้งานฟังก์ชัน<u>แบบไม่รีเคอร์ซีฟ</u> รวมถึงการตรวจสอบความถูกต้องของการเรียกฟังก์ชัน\n",
        "* รองรับการอ้างถึงตัวแปรทั้งแบบ local และ global scope\n",
        "* รองรับตัวดำเนินการคูณและหาร: `*`, `/`, `%` โดยนิยามโค้ดประมวลผลนิพจน์เหล่านี้ในรูป Joy runtime แทนการใช้ภาษาแอสเซมบลี้\n",
        "* รองรับการกำหนดลำดับความสำคัญของตัวดำเนินการ (operator precedence)"
      ]
    },
    {
      "cell_type": "markdown",
      "metadata": {
        "id": "22U5BT6Vvm1F"
      },
      "source": [
        "# กระบวนการแปลภาษาโปรแกรม\n",
        "\n",
        "คอมไพเลอร์ที่เราจะพัฒนาขึ้นมีหน้าที่ในการแปลซอร์สโค้ดภาษาจอย ให้กลายเป็นโค้ดเป้าหมายในภาษา Hack Assembly คอมไพเลอร์โดยทั่วไปจะมีองค์ประกอบตามรูปด้านล่าง โดย lexical analyzer (หรือเล็กเซอร์ - lexer) ทำหน้าที่ในการตัดคำให้เป็นสายโทเค็น ซึ่งถูก syntax analyzer (หรือพาร์เซอร์ - parser) นำมาประกอบให้เป็นโครงสร้างตามไวยากรณ์ของภาษา โครงสร้างที่ได้แม้จะถูกไวยากรณ์ แต่อาจผิดความหมายการใช้งาน เช่น เรียกฟังก์ชันด้วยอาร์กิวเมนต์ไม่ครบ หรือใช้ตัวแปรผิดประเภท ซึ่งเป็นหน้าที่ของ semantic analyzer ที่จะวิเคราะห์และตรวจสอบความหมายเหล่านี้ ขั้นตอนถัดไปคือส่งให้ code generator สร้างโค้ดภาษาแอสเซมบลี้ออกมา ซึ่งโค้ดที่ได้อาจมีคำสั่งที่ทำงานซ้ำซ้อนโดยไม่จำเป็น ส่วน code optimizer จะวิเคราะห์ความซ้ำซ้อนและตัดโค้ดภาษาแอสเซมบลี้บางคำสั่งออก หรือแทนด้วยชุดคำสั่งที่มีประสิทธิภาพมากขึ้น จนได้โค้ดภาษาแอสเซมบลี้ผลลัพธ์ออกมาในที่สุด\n",
        "\n",
        "![compiler.png](https://ecourse.cpe.ku.ac.th/courses/comsys/pics/compiler-full.png)\n",
        "\n",
        "ในรายวิชานี้เราจะสร้างเล็กเซอร์และพาร์เซอร์จากไลบรารีที่ชื่อว่า Lark และข้ามส่วนที่เป็น sematic analyzer และ code optimizer ไป ดังนั้นส่วนที่เราจะมุ่งเน้นเป็นหลักจึงเป็นการเขียนแกรมมาร์และโค้ดเจเนอเรเตอร์\n",
        "\n",
        "![compiler-joy.png](https://ecourse.cpe.ku.ac.th/courses/comsys/pics/compiler-joy.png)\n"
      ]
    },
    {
      "cell_type": "markdown",
      "metadata": {
        "id": "fQFX1ueqPMFa"
      },
      "source": [
        "## ติดตั้งไลบรารีของรายวิชา และไลบรารี Lark\n",
        "\n",
        "กลไกที่สำคัญด่านแรกของคอมไพเลอร์คือการทำเล็กเซอร์ (lexer รวมถึงชื่ออื่นที่ให้ความหมายเดียวกัน เช่น lexical analyzer หรือ tokenizer หรือ scanner) และพาร์เซอร์ (parser หรือ syntax analyzer) ซึ่งกระบวนการสร้างนั้นอาศัยความรู้พื้นฐานจากรายวิชา Theory of Computation แต่เพื่อให้กระชับต่อภาพรวมของเนื้อหารายวิชานี้ เราจะอาศัยซอฟต์แวร์ที่ช่วยสร้างโค้ดเล็กเซอร์และพาร์เซอร์ให้อัตโนมัติในภาษาไพทอนที่ชื่อว่า [Lark](https://lark-parser.readthedocs.io/en/latest/)"
      ]
    },
    {
      "cell_type": "code",
      "metadata": {
        "id": "FsXuI_40O_ok"
      },
      "source": [
        "%%capture\n",
        "!rm -rf comp-sys-public-lib\n",
        "!wget -q -O - https://ecourse.cpe.ku.ac.th/courses/comsys/lib/ch07.tgz | tar zxf -\n",
        "!pip install lark-parser\n",
        "!pip install -e comp-sys-public-lib\n",
        "!pip install -e comp-sys-public-lib/modules/component-builder\n",
        "import site; site.main()\n",
        "from course_ch07_init import *"
      ],
      "execution_count": null,
      "outputs": []
    },
    {
      "cell_type": "markdown",
      "metadata": {
        "id": "UXGLyZ46QGU3"
      },
      "source": [
        "## นิยาม Pseudo-Instructions สำหรับกระบวนการพื้นฐาน\n",
        "คำสั่งเสมือน (pseudo-instruction) ประกอบไปด้วยชุดคำสั่งภาษาเครื่องหลายคำสั่งเพื่อทำกระบวนการพื้นฐานบางอย่างที่มีการเรียกใช้งานบ่อยครั้ง ในเฟสแรกนี้เราจะนิยามคำสั่งเสมือนที่ทำหน้าที่กำหนดค่าคงที่ให้กับหน่วยความจำ และคำสั่งคัดลอกค่าจากหน่วยความจำตำแหน่งหนึ่งไปยังอีกตำแหน่งหนึ่ง"
      ]
    },
    {
      "cell_type": "code",
      "metadata": {
        "id": "9Chrub6hQCTD"
      },
      "source": [
        "def gen_load_const(mem, val):\n",
        "    '''\n",
        "    Generate Hack assembly to load the memory location mem with the specified\n",
        "    integer val, where 0 <= val <= 32767.\n",
        "    '''\n",
        "    if val < 0 or val > 32767:\n",
        "        raise Exception(\"Invalid integer literal\")\n",
        "    return f'''\n",
        "        // [{mem}] <- {val}\n",
        "        @{val}\n",
        "        D=A\n",
        "        @{mem}\n",
        "        M=D\n",
        "    '''\n",
        "\n",
        "def gen_move(dst, src):\n",
        "    '''\n",
        "    Generate Hack assembly to copy the memory location src to the memory\n",
        "    location dst.\n",
        "    '''\n",
        "    return f'''\n",
        "        // [{dst}] <- [{src}]\n",
        "        @{src}\n",
        "        D=M\n",
        "        @{dst}\n",
        "        M=D\n",
        "    '''"
      ],
      "execution_count": null,
      "outputs": []
    },
    {
      "cell_type": "markdown",
      "metadata": {
        "id": "QwZmpq_ipb9z"
      },
      "source": [
        "ทดลองสร้างโค้ดแอสเซมบลี้จากฟังก์ชัน pseudo-instruction ข้างต้น"
      ]
    },
    {
      "cell_type": "code",
      "metadata": {
        "id": "LrSSZajsf6uv",
        "colab": {
          "base_uri": "https://localhost:8080/"
        },
        "outputId": "226b781b-6816-4537-b5cb-d191e00d6a4e"
      },
      "source": [
        "asm = '\\n'.join([\n",
        "    gen_load_const('var.a', 1234),\n",
        "    gen_move('THIS', 'var.a'),\n",
        "    gen_move('THAT', 'THIS'),\n",
        "    gen_move('var.b', 'THAT'),\n",
        "])\n",
        "print(asm)"
      ],
      "execution_count": null,
      "outputs": [
        {
          "output_type": "stream",
          "name": "stdout",
          "text": [
            "\n",
            "        // [var.a] <- 1234\n",
            "        @1234\n",
            "        D=A\n",
            "        @var.a\n",
            "        M=D\n",
            "    \n",
            "\n",
            "        // [THIS] <- [var.a]\n",
            "        @var.a\n",
            "        D=M\n",
            "        @THIS\n",
            "        M=D\n",
            "    \n",
            "\n",
            "        // [THAT] <- [THIS]\n",
            "        @THIS\n",
            "        D=M\n",
            "        @THAT\n",
            "        M=D\n",
            "    \n",
            "\n",
            "        // [var.b] <- [THAT]\n",
            "        @THAT\n",
            "        D=M\n",
            "        @var.b\n",
            "        M=D\n",
            "    \n"
          ]
        }
      ]
    },
    {
      "cell_type": "markdown",
      "metadata": {
        "id": "W1YLTXoF0ywo"
      },
      "source": [
        "โค้ดที่ได้แม้จะสามารถทำการ assemble ได้ แต่มีช่องไฟที่ไม่เป็นระเบียบและตรวจสอบได้ยากว่าคำสั่งใดอยู่ที่ค่า PC ตำแหน่งใด รายวิชาได้เตรียมฟังก์ชัน `listing()` เอาไว้จัดระเบียบโค้ดให้ดูง่ายขึ้น และใส่ตำแหน่งหน่วยความจำกำกับไว้ในจุดที่เป็นคำสั่งเพื่อให้เทียบเคียงกับค่าของรีจีสเตอร์ PC ได้"
      ]
    },
    {
      "cell_type": "code",
      "metadata": {
        "id": "2Exg5us01KYW",
        "colab": {
          "base_uri": "https://localhost:8080/"
        },
        "outputId": "27e0bd15-986c-4dec-d737-c8e069c00b9d"
      },
      "source": [
        "listing(asm)"
      ],
      "execution_count": null,
      "outputs": [
        {
          "output_type": "stream",
          "name": "stdout",
          "text": [
            "// [var.a] <- 1234\n",
            "   0: @1234\n",
            "   1: D=A\n",
            "   2: @var.a\n",
            "   3: M=D\n",
            "// [THIS] <- [var.a]\n",
            "   4: @var.a\n",
            "   5: D=M\n",
            "   6: @THIS\n",
            "   7: M=D\n",
            "// [THAT] <- [THIS]\n",
            "   8: @THIS\n",
            "   9: D=M\n",
            "  10: @THAT\n",
            "  11: M=D\n",
            "// [var.b] <- [THAT]\n",
            "  12: @THAT\n",
            "  13: D=M\n",
            "  14: @var.b\n",
            "  15: M=D\n"
          ]
        }
      ]
    },
    {
      "cell_type": "markdown",
      "metadata": {
        "id": "iG9Qf7KL1TOo"
      },
      "source": [
        "เพื่อความสะดวกในการเทียบเคียงผลการทำงานกับซิมูเลชัน เราจะใช้ฟังก์ชัน `assemble_and_simulate` (พัฒนาโดย กฤติน นันทสมบัติ CPE36) แล้วกดปุ่ม toggle ROM เพื่อแสดงโค้ดในหน่วยความจำคำสั่งในรูปภาษาแอสเซมบลี้ต้นฉบับแทนการแสดงเป็นรหัสภาษาเครื่อง\n",
        "\n",
        "ทดลองรันคำสั่งภาษาแอสเซมบลี้ทีละคำสั่ง สังเกตผลลัพธ์ในหน่วยความจำในตำแหน่งต่าง ๆ ต่อไปนี้\n",
        "* ตำแหน่ง 3: `R3` หรือ `THIS`\n",
        "* ตำแหน่ง 4: `R4` หรือ `THAT`\n",
        "* ตำแหน่ง 16,17,...: พื้นที่เก็บตัวแปร\n",
        "\n"
      ]
    },
    {
      "cell_type": "code",
      "metadata": {
        "id": "AFr9akj70k6E",
        "colab": {
          "base_uri": "https://localhost:8080/",
          "height": 640
        },
        "outputId": "5a12d2d1-f43f-4822-a107-2f4862b24249"
      },
      "source": [
        "assemble_and_simulate(asm)"
      ],
      "execution_count": null,
      "outputs": [
        {
          "output_type": "display_data",
          "data": {
            "text/html": [
              "\n",
              "<link rel=\"stylesheet\" href=\"https://jittat.gitlab.io/hacksim/sim.css\">\n",
              "<div id=\"sim-ui\">\n",
              "  <simulator v-bind:simulator=\"simulator\" memory-display-slots=\"30\" screen-scale=\"1\" v-bind:light-weight=\"false\" fastest-steps=\"103\"/>\n",
              "</div>\n",
              "\n",
              "<script>var exports = {};</script>\n",
              "<script src=\"https://cdn.jsdelivr.net/npm/vue/dist/vue.js\"></script>\n",
              "<script src=\"https://jittat.gitlab.io/hacksim/simulator.js\"></script>\n",
              "<script src=\"https://jittat.gitlab.io/hacksim/simulator-ui.js\"></script>\n",
              "\n",
              "<script>\n",
              "  var simulator = new HackSimulator();\n",
              "simulator.loadInstructions([1234,60432,16,58120,16,64528,3,58120,3,64528,4,58120,4,64528,17,58120]);\n",
              "simulator.sourceCode = [{ \"lineNumber\" : null, \"code\" : \"// [var.a] <- 1234\"}, { \"lineNumber\" : 0, \"code\" : \"@1234\"}, { \"lineNumber\" : 1, \"code\" : \"D=A\"}, { \"lineNumber\" : 2, \"code\" : \"@var.a\"}, { \"lineNumber\" : 3, \"code\" : \"M=D\"}, { \"lineNumber\" : null, \"code\" : \"// [THIS] <- [var.a]\"}, { \"lineNumber\" : 4, \"code\" : \"@var.a\"}, { \"lineNumber\" : 5, \"code\" : \"D=M\"}, { \"lineNumber\" : 6, \"code\" : \"@THIS\"}, { \"lineNumber\" : 7, \"code\" : \"M=D\"}, { \"lineNumber\" : null, \"code\" : \"// [THAT] <- [THIS]\"}, { \"lineNumber\" : 8, \"code\" : \"@THIS\"}, { \"lineNumber\" : 9, \"code\" : \"D=M\"}, { \"lineNumber\" : 10, \"code\" : \"@THAT\"}, { \"lineNumber\" : 11, \"code\" : \"M=D\"}, { \"lineNumber\" : null, \"code\" : \"// [var.b] <- [THAT]\"}, { \"lineNumber\" : 12, \"code\" : \"@THAT\"}, { \"lineNumber\" : 13, \"code\" : \"D=M\"}, { \"lineNumber\" : 14, \"code\" : \"@var.b\"}, { \"lineNumber\" : 15, \"code\" : \"M=D\"}]\n",
              "  simulator.memoryWriteCallbacks.push(memUpdateCallback);\n",
              "  simulator.memoryWriteCallbacks.push(screenUpdateCallback);\n",
              "\n",
              "  var app = new Vue({\n",
              "    el: '#sim-ui',\n",
              "    data: {\n",
              "      simulator: simulator\n",
              "    }\n",
              "  });\n",
              "</script>\n"
            ]
          },
          "metadata": {}
        }
      ]
    },
    {
      "cell_type": "markdown",
      "metadata": {
        "id": "G4kDut1sU6pN"
      },
      "source": [
        "# Joy 0.1 - constant assignment\n",
        "\n",
        "ภาษา Joy เวอร์ชัน 0.1 รองรับโครงสร้างโปรแกรมที่ประกอบไปด้วยคำสั่งรูปแบบเดียวคือ\n",
        "\n",
        "---\n",
        "* คำสั่งกำหนดค่าคงที่ให้ตัวแปร ในรูปแบบ: `let` *var* `=` *number* `;`\n",
        "---\n",
        "\n",
        "ตัวอย่างเช่น `let a = 8;`\n",
        "\n",
        "เรามานิยามแกรมมาร์ของ Joy 0.1 ในรูป CFG (Context-Free Grammar) กันดังนี้"
      ]
    },
    {
      "cell_type": "code",
      "metadata": {
        "id": "LYxQdckhUiZ7"
      },
      "source": [
        "JOY01_GRAMMAR = r'''\n",
        "    program: statements\n",
        "    statements: statement*\n",
        "    statement: stmt_assign\n",
        "    stmt_assign: \"let\" ID \"=\" NUMBER \";\"\n",
        "\n",
        "    ID: /[_A-Za-z][_0-9A-Za-z]*/\n",
        "    NUMBER: /[0-9]+/\n",
        "    WS: /[ \\t\\f\\r\\n]+/\n",
        "    %ignore WS\n",
        "'''"
      ],
      "execution_count": null,
      "outputs": []
    },
    {
      "cell_type": "markdown",
      "metadata": {
        "id": "MDverwhPj1n-"
      },
      "source": [
        "แกรมมาร์ข้างต้นอธิบายได้ดังนี้\n",
        "* `program` ประกอบไปด้วย `statements`\n",
        "* `statements` ประกอบไปด้วย `statement` ตั้งแต่ 0 คำสั่งหรือมากกว่า (ระบุด้วย `*`)\n",
        "* `statement` ที่เป็นไปได้มีเพียง `stmt_assign`\n",
        "* `stmt_assign` ประกอบไปด้วยโทเค็น `let` ตามด้วยโทเค็น `ID` ตามด้วยโทเค็น `=` ตามด้วยโทเค็น `NUMBER` และปิดท้ายด้วยโทเค็น `;` (สังเกตว่าโทเค็น `let`, `=` และ `;` เป็นโทเค็นประเภท literal-string)\n",
        "* โทเค็น `ID` นิยามด้วยนิพจน์เรกูลาร์ที่ครอบด้วย `/.../` ระบุว่าประกอบด้วยอักขระ 0-9 A-Z a-z _ แต่ต้องไม่ขึ้นต้นด้วยตัวเลข\n",
        "* โทเค็น `NUMBER` ประกอบด้วย 0-9 เท่านั้น อย่างน้อย 1 อักขระ\n",
        "* โทเค็น `WS` (whitespace) ประกอบด้วย space, tab, carriage return และ newline ตั้งแต่ 1 ตัวขึ้นไป แต่จะไม่ถูกส่งไปให้พาร์เซอร์ (ระบุด้วย `%ignore`)\n",
        "\n",
        "กฎสำหรับ non-terminal จะใช้ชื่อกฎที่เป็นตัวอักษรตัวเล็ก ในขณะที่กฎสำหรับ terminal จะใช้อักษรตัวใหญ่ ดูรูปแบบการนิยามแกรมมาร์สำหรับ Lark เพิ่มเติมได้จาก https://cheatography.com/erezsh/cheat-sheets/lark/"
      ]
    },
    {
      "cell_type": "markdown",
      "metadata": {
        "id": "rLv34zgaU0mO"
      },
      "source": [
        "## Joy 0.1 Parser\n",
        "\n",
        "เราจะใช้คลาส Lark จากโมดูล lark มาสร้างพาร์เซอร์จากแกรมมาร์ข้างต้น โดยระบุให้กฎเริ่มต้นคือ `program`\n",
        "\n",
        "โดยปกติแล้ว Lark จะตัดโทเค็นที่ไม่ระบุชื่อกฎออกจากพาร์ซทรี แต่ในเบื้องต้นเราจะให้ Lark เก็บโทเค็นทุกตัวเอาไว้ก่อนโดยการระบุอาร์กิวเมนต์ `keep_all_tokens` เป็น True"
      ]
    },
    {
      "cell_type": "code",
      "metadata": {
        "id": "SOwS1JH3UqK2"
      },
      "source": [
        "from lark import Lark\n",
        "\n",
        "parser01 = Lark(JOY01_GRAMMAR, start='program', keep_all_tokens=True)"
      ],
      "execution_count": null,
      "outputs": []
    },
    {
      "cell_type": "markdown",
      "metadata": {
        "id": "gGqRJDjh1hNg"
      },
      "source": [
        "ตรวจสอบดูว่าพาร์เซอร์ที่ได้มารู้จักโทเค็น (terminal) ใดบ้าง เห็นได้ว่า Lark ตั้งชื่อให้กับโทเค็นประเภทที่เราไม่ได้ระบุชื่อ อย่างเช่น `let`, `=` เอาไว้ด้วย"
      ]
    },
    {
      "cell_type": "code",
      "metadata": {
        "id": "k1QVsDhEV9hz",
        "colab": {
          "base_uri": "https://localhost:8080/"
        },
        "outputId": "984a8fd1-102d-4aad-c7ff-7d5e2f7cb48d"
      },
      "source": [
        "parser01.terminals"
      ],
      "execution_count": null,
      "outputs": [
        {
          "output_type": "execute_result",
          "data": {
            "text/plain": [
              "[TerminalDef('ID', '[_A-Za-z][_0-9A-Za-z]*'),\n",
              " TerminalDef('NUMBER', '[0-9]+'),\n",
              " TerminalDef('WS', '[ \\t\\x0c\\r\\n]+'),\n",
              " TerminalDef('LET', 'let'),\n",
              " TerminalDef('EQUAL', '='),\n",
              " TerminalDef('SEMICOLON', ';')]"
            ]
          },
          "metadata": {},
          "execution_count": 9
        }
      ]
    },
    {
      "cell_type": "markdown",
      "metadata": {
        "id": "FFWDi4W02dPQ"
      },
      "source": [
        "หากไม่ระบุเพิ่มเติม Lark จะสร้างเล็กเซอร์ให้อัตโนมัติและผนวกรวมไว้กับตัวพาร์เซอร์ แต่เราสามารถลองเรียกเล็กเซอร์โดยตรงได้ดังนี้"
      ]
    },
    {
      "cell_type": "code",
      "metadata": {
        "id": "8_5zBEBkWB-t",
        "colab": {
          "base_uri": "https://localhost:8080/"
        },
        "outputId": "c4e950fe-8260-46c0-f680-350efb4645c5"
      },
      "source": [
        "list(parser01.lex('''\n",
        "    let a = 8;\n",
        "    hello if 123world while;\n",
        "'''))"
      ],
      "execution_count": null,
      "outputs": [
        {
          "output_type": "execute_result",
          "data": {
            "text/plain": [
              "[Token('LET', 'let'),\n",
              " Token('ID', 'a'),\n",
              " Token('EQUAL', '='),\n",
              " Token('NUMBER', '8'),\n",
              " Token('SEMICOLON', ';'),\n",
              " Token('ID', 'hello'),\n",
              " Token('ID', 'if'),\n",
              " Token('NUMBER', '123'),\n",
              " Token('ID', 'world'),\n",
              " Token('ID', 'while'),\n",
              " Token('SEMICOLON', ';')]"
            ]
          },
          "metadata": {},
          "execution_count": 10
        }
      ]
    },
    {
      "cell_type": "markdown",
      "metadata": {
        "id": "OT_UGn8d2_wG"
      },
      "source": [
        "อย่างไรก็ตาม เรามักจะไม่เรียกใช้งานเล็กเซอร์โดยตรง แต่จะเรียกผ่านเมท็อด `parse()` เพื่อสร้างพาร์ซทรีในขั้นตอนเดียว ดังตัวอย่าง"
      ]
    },
    {
      "cell_type": "code",
      "metadata": {
        "id": "0kruj_vcWION",
        "colab": {
          "base_uri": "https://localhost:8080/"
        },
        "outputId": "6f3740eb-0020-45ec-c302-411dd2bf3a60"
      },
      "source": [
        "tree = parser01.parse('let a = 8; let b = 3;')\n",
        "tree"
      ],
      "execution_count": null,
      "outputs": [
        {
          "output_type": "execute_result",
          "data": {
            "text/plain": [
              "Tree('program', [Tree('statements', [Tree('statement', [Tree('stmt_assign', [Token('LET', 'let'), Token('ID', 'a'), Token('EQUAL', '='), Token('NUMBER', '8'), Token('SEMICOLON', ';')])]), Tree('statement', [Tree('stmt_assign', [Token('LET', 'let'), Token('ID', 'b'), Token('EQUAL', '='), Token('NUMBER', '3'), Token('SEMICOLON', ';')])])])])"
            ]
          },
          "metadata": {},
          "execution_count": 11
        }
      ]
    },
    {
      "cell_type": "markdown",
      "metadata": {
        "id": "tjx3SGP93Sy2"
      },
      "source": [
        "หากข้อความอินพุทตรงตามแกรมมาร์ที่นิยามไว้ เมท็อด `parse()` จะให้ผลลัพธ์เป็นอ็อปเจ็กต์ประเภท Tree ที่เกิดจากการนำโทเค็นที่สกัดจากอินพุทมาประกอบเป็นโครงสร้างตามแกรมมาร์เรียบร้อยแล้ว เราเรียกโครงสร้างทรีนี้ว่า *พาร์ซทรี (parse tree)*\n",
        "\n",
        "การแสดงผลพาร์ซทรีในรูปแบบข้างต้นนั้นค่อนข้างยากต่อการวิเคราะห์โครงสร้าง Lark ได้เตรียมเมท็อด `pretty()` เอาไว้เพื่อนำเสนอพาร์ซทรีที่เห็นโครงสร้างง่ายขึ้น"
      ]
    },
    {
      "cell_type": "code",
      "metadata": {
        "id": "oxkxzE5iWlY6",
        "colab": {
          "base_uri": "https://localhost:8080/"
        },
        "outputId": "036c5090-9e18-4bec-8f2b-e38a68429fcc"
      },
      "source": [
        "print(tree.pretty())"
      ],
      "execution_count": null,
      "outputs": [
        {
          "output_type": "stream",
          "name": "stdout",
          "text": [
            "program\n",
            "  statements\n",
            "    statement\n",
            "      stmt_assign\n",
            "        let\n",
            "        a\n",
            "        =\n",
            "        8\n",
            "        ;\n",
            "    statement\n",
            "      stmt_assign\n",
            "        let\n",
            "        b\n",
            "        =\n",
            "        3\n",
            "        ;\n",
            "\n"
          ]
        }
      ]
    },
    {
      "cell_type": "markdown",
      "metadata": {
        "id": "zpS6sMbU6arD"
      },
      "source": [
        "กรณีที่ใช้งานบน Colab รายวิชานี้ได้เตรียมฟังก์ชัน `draw()` เพื่อนำพาร์ซทรีมาแสดงผลในรูปกราฟิกส์"
      ]
    },
    {
      "cell_type": "code",
      "metadata": {
        "id": "OcLHWWfVWovq",
        "colab": {
          "base_uri": "https://localhost:8080/",
          "height": 334
        },
        "outputId": "31fbbd31-41dd-42bf-822e-56c6b6e04425"
      },
      "source": [
        "draw(tree)"
      ],
      "execution_count": null,
      "outputs": [
        {
          "output_type": "display_data",
          "data": {
            "image/svg+xml": "<?xml version=\"1.0\" encoding=\"UTF-8\" standalone=\"no\"?>\n<!DOCTYPE svg PUBLIC \"-//W3C//DTD SVG 1.1//EN\"\n \"http://www.w3.org/Graphics/SVG/1.1/DTD/svg11.dtd\">\n<!-- Generated by graphviz version 2.43.0 (0)\n -->\n<!-- Title: %3 Pages: 1 -->\n<svg width=\"980pt\" height=\"235pt\"\n viewBox=\"0.00 0.00 980.00 235.00\" xmlns=\"http://www.w3.org/2000/svg\" xmlns:xlink=\"http://www.w3.org/1999/xlink\">\n<g id=\"graph0\" class=\"graph\" transform=\"scale(1 1) rotate(0) translate(4 231)\">\n<title>%3</title>\n<polygon fill=\"white\" stroke=\"transparent\" points=\"-4,4 -4,-231 976,-231 976,4 -4,4\"/>\n<!-- n0 -->\n<g id=\"node1\" class=\"node\">\n<title>n0</title>\n<text text-anchor=\"middle\" x=\"401.5\" y=\"-215.8\" font-family=\"Times,serif\" font-size=\"14.00\">program</text>\n</g>\n<!-- n1 -->\n<g id=\"node2\" class=\"node\">\n<title>n1</title>\n<text text-anchor=\"middle\" x=\"401.5\" y=\"-164.8\" font-family=\"Times,serif\" font-size=\"14.00\">statements</text>\n</g>\n<!-- n0&#45;&#45;n1 -->\n<g id=\"edge15\" class=\"edge\">\n<title>n0&#45;&#45;n1</title>\n<path fill=\"none\" stroke=\"black\" d=\"M401.5,-211.69C401.5,-202.33 401.5,-185.59 401.5,-176.26\"/>\n</g>\n<!-- n2 -->\n<g id=\"node3\" class=\"node\">\n<title>n2</title>\n<text text-anchor=\"middle\" x=\"366.5\" y=\"-113.8\" font-family=\"Times,serif\" font-size=\"14.00\">statement</text>\n</g>\n<!-- n1&#45;&#45;n2 -->\n<g id=\"edge7\" class=\"edge\">\n<title>n1&#45;&#45;n2</title>\n<path fill=\"none\" stroke=\"black\" d=\"M396.63,-160.69C389.95,-151.33 377.99,-134.59 371.33,-125.26\"/>\n</g>\n<!-- n14 -->\n<g id=\"node10\" class=\"node\">\n<title>n14</title>\n<text text-anchor=\"middle\" x=\"497.5\" y=\"-113.8\" font-family=\"Times,serif\" font-size=\"14.00\">statement</text>\n</g>\n<!-- n1&#45;&#45;n14 -->\n<g id=\"edge14\" class=\"edge\">\n<title>n1&#45;&#45;n14</title>\n<path fill=\"none\" stroke=\"black\" d=\"M414.45,-160.89C432.87,-151.49 466.45,-134.35 484.76,-125\"/>\n</g>\n<!-- n3 -->\n<g id=\"node4\" class=\"node\">\n<title>n3</title>\n<text text-anchor=\"middle\" x=\"247.5\" y=\"-62.8\" font-family=\"Times,serif\" font-size=\"14.00\">stmt_assign</text>\n</g>\n<!-- n2&#45;&#45;n3 -->\n<g id=\"edge6\" class=\"edge\">\n<title>n2&#45;&#45;n3</title>\n<path fill=\"none\" stroke=\"black\" d=\"M350.45,-109.89C327.61,-100.49 285.99,-83.35 263.29,-74\"/>\n</g>\n<!-- n4 -->\n<g id=\"node5\" class=\"node\">\n<title>n4</title>\n<polygon fill=\"none\" stroke=\"black\" points=\"73,-23 0,-23 0,0 73,0 73,-23\"/>\n<text text-anchor=\"start\" x=\"8\" y=\"-8.8\" font-family=\"Times,serif\" font-size=\"14.00\">LET: </text>\n<text text-anchor=\"start\" x=\"40\" y=\"-8.8\" font-family=\"monospace\" font-size=\"14.00\" fill=\"brown\">let</text>\n</g>\n<!-- n3&#45;&#45;n4 -->\n<g id=\"edge1\" class=\"edge\">\n<title>n3&#45;&#45;n4</title>\n<path fill=\"none\" stroke=\"black\" d=\"M221.2,-58.89C183.86,-49.52 115.33,-32.3 73.06,-21.68\"/>\n</g>\n<!-- n5 -->\n<g id=\"node6\" class=\"node\">\n<title>n5</title>\n<polygon fill=\"none\" stroke=\"black\" points=\"138,-23 91,-23 91,0 138,0 138,-23\"/>\n<text text-anchor=\"start\" x=\"99\" y=\"-8.8\" font-family=\"Times,serif\" font-size=\"14.00\">ID: </text>\n<text text-anchor=\"start\" x=\"121\" y=\"-8.8\" font-family=\"monospace\" font-size=\"14.00\" fill=\"brown\">a</text>\n</g>\n<!-- n3&#45;&#45;n5 -->\n<g id=\"edge2\" class=\"edge\">\n<title>n3&#45;&#45;n5</title>\n<path fill=\"none\" stroke=\"black\" d=\"M230.92,-58.89C207.53,-49.57 164.7,-32.5 138.02,-21.87\"/>\n</g>\n<!-- n6 -->\n<g id=\"node7\" class=\"node\">\n<title>n6</title>\n<polygon fill=\"none\" stroke=\"black\" points=\"235,-23 156,-23 156,0 235,0 235,-23\"/>\n<text text-anchor=\"start\" x=\"164\" y=\"-8.8\" font-family=\"Times,serif\" font-size=\"14.00\">EQUAL: </text>\n<text text-anchor=\"start\" x=\"218\" y=\"-8.8\" font-family=\"monospace\" font-size=\"14.00\" fill=\"brown\">=</text>\n</g>\n<!-- n3&#45;&#45;n6 -->\n<g id=\"edge3\" class=\"edge\">\n<title>n3&#45;&#45;n6</title>\n<path fill=\"none\" stroke=\"black\" d=\"M240.7,-58.57C231.89,-49.59 216.44,-33.84 206.09,-23.29\"/>\n</g>\n<!-- n7 -->\n<g id=\"node8\" class=\"node\">\n<title>n7</title>\n<polygon fill=\"none\" stroke=\"black\" points=\"345.5,-23 253.5,-23 253.5,0 345.5,0 345.5,-23\"/>\n<text text-anchor=\"start\" x=\"261.5\" y=\"-8.8\" font-family=\"Times,serif\" font-size=\"14.00\">NUMBER: </text>\n<text text-anchor=\"start\" x=\"328.5\" y=\"-8.8\" font-family=\"monospace\" font-size=\"14.00\" fill=\"brown\">8</text>\n</g>\n<!-- n3&#45;&#45;n7 -->\n<g id=\"edge4\" class=\"edge\">\n<title>n3&#45;&#45;n7</title>\n<path fill=\"none\" stroke=\"black\" d=\"M254.3,-58.57C263.11,-49.59 278.56,-33.84 288.91,-23.29\"/>\n</g>\n<!-- n8 -->\n<g id=\"node9\" class=\"node\">\n<title>n8</title>\n<polygon fill=\"none\" stroke=\"black\" points=\"477,-23 364,-23 364,0 477,0 477,-23\"/>\n<text text-anchor=\"start\" x=\"372\" y=\"-8.8\" font-family=\"Times,serif\" font-size=\"14.00\">SEMICOLON: </text>\n<text text-anchor=\"start\" x=\"460\" y=\"-8.8\" font-family=\"monospace\" font-size=\"14.00\" fill=\"brown\">;</text>\n</g>\n<!-- n3&#45;&#45;n8 -->\n<g id=\"edge5\" class=\"edge\">\n<title>n3&#45;&#45;n8</title>\n<path fill=\"none\" stroke=\"black\" d=\"M269.06,-58.89C298.41,-49.9 351.26,-33.71 386.11,-23.04\"/>\n</g>\n<!-- n15 -->\n<g id=\"node11\" class=\"node\">\n<title>n15</title>\n<text text-anchor=\"middle\" x=\"649.5\" y=\"-62.8\" font-family=\"Times,serif\" font-size=\"14.00\">stmt_assign</text>\n</g>\n<!-- n14&#45;&#45;n15 -->\n<g id=\"edge13\" class=\"edge\">\n<title>n14&#45;&#45;n15</title>\n<path fill=\"none\" stroke=\"black\" d=\"M517.68,-109.99C546.76,-100.62 600.11,-83.42 629.23,-74.03\"/>\n</g>\n<!-- n16 -->\n<g id=\"node12\" class=\"node\">\n<title>n16</title>\n<polygon fill=\"none\" stroke=\"black\" points=\"568,-23 495,-23 495,0 568,0 568,-23\"/>\n<text text-anchor=\"start\" x=\"503\" y=\"-8.8\" font-family=\"Times,serif\" font-size=\"14.00\">LET: </text>\n<text text-anchor=\"start\" x=\"535\" y=\"-8.8\" font-family=\"monospace\" font-size=\"14.00\" fill=\"brown\">let</text>\n</g>\n<!-- n15&#45;&#45;n16 -->\n<g id=\"edge8\" class=\"edge\">\n<title>n15&#45;&#45;n16</title>\n<path fill=\"none\" stroke=\"black\" d=\"M634.56,-58.79C614.59,-49.82 578.97,-33.82 555.29,-23.19\"/>\n</g>\n<!-- n17 -->\n<g id=\"node13\" class=\"node\">\n<title>n17</title>\n<polygon fill=\"none\" stroke=\"black\" points=\"633,-23 586,-23 586,0 633,0 633,-23\"/>\n<text text-anchor=\"start\" x=\"594\" y=\"-8.8\" font-family=\"Times,serif\" font-size=\"14.00\">ID: </text>\n<text text-anchor=\"start\" x=\"616\" y=\"-8.8\" font-family=\"monospace\" font-size=\"14.00\" fill=\"brown\">b</text>\n</g>\n<!-- n15&#45;&#45;n17 -->\n<g id=\"edge9\" class=\"edge\">\n<title>n15&#45;&#45;n17</title>\n<path fill=\"none\" stroke=\"black\" d=\"M644.27,-58.57C637.49,-49.59 625.61,-33.84 617.64,-23.29\"/>\n</g>\n<!-- n18 -->\n<g id=\"node14\" class=\"node\">\n<title>n18</title>\n<polygon fill=\"none\" stroke=\"black\" points=\"730,-23 651,-23 651,0 730,0 730,-23\"/>\n<text text-anchor=\"start\" x=\"659\" y=\"-8.8\" font-family=\"Times,serif\" font-size=\"14.00\">EQUAL: </text>\n<text text-anchor=\"start\" x=\"713\" y=\"-8.8\" font-family=\"monospace\" font-size=\"14.00\" fill=\"brown\">=</text>\n</g>\n<!-- n15&#45;&#45;n18 -->\n<g id=\"edge10\" class=\"edge\">\n<title>n15&#45;&#45;n18</title>\n<path fill=\"none\" stroke=\"black\" d=\"M654.86,-58.57C661.81,-49.59 673.99,-33.84 682.15,-23.29\"/>\n</g>\n<!-- n19 -->\n<g id=\"node15\" class=\"node\">\n<title>n19</title>\n<polygon fill=\"none\" stroke=\"black\" points=\"840.5,-23 748.5,-23 748.5,0 840.5,0 840.5,-23\"/>\n<text text-anchor=\"start\" x=\"756.5\" y=\"-8.8\" font-family=\"Times,serif\" font-size=\"14.00\">NUMBER: </text>\n<text text-anchor=\"start\" x=\"823.5\" y=\"-8.8\" font-family=\"monospace\" font-size=\"14.00\" fill=\"brown\">3</text>\n</g>\n<!-- n15&#45;&#45;n19 -->\n<g id=\"edge11\" class=\"edge\">\n<title>n15&#45;&#45;n19</title>\n<path fill=\"none\" stroke=\"black\" d=\"M667.57,-58.89C692.17,-49.9 736.46,-33.71 765.68,-23.04\"/>\n</g>\n<!-- n20 -->\n<g id=\"node16\" class=\"node\">\n<title>n20</title>\n<polygon fill=\"none\" stroke=\"black\" points=\"972,-23 859,-23 859,0 972,0 972,-23\"/>\n<text text-anchor=\"start\" x=\"867\" y=\"-8.8\" font-family=\"Times,serif\" font-size=\"14.00\">SEMICOLON: </text>\n<text text-anchor=\"start\" x=\"955\" y=\"-8.8\" font-family=\"monospace\" font-size=\"14.00\" fill=\"brown\">;</text>\n</g>\n<!-- n15&#45;&#45;n20 -->\n<g id=\"edge12\" class=\"edge\">\n<title>n15&#45;&#45;n20</title>\n<path fill=\"none\" stroke=\"black\" d=\"M682.12,-59C727.07,-50.05 808.58,-33.8 862.39,-23.08\"/>\n</g>\n</g>\n</svg>\n",
            "text/plain": [
              "<graphviz.graphs.Graph at 0x793dfe0d9af0>"
            ]
          },
          "metadata": {}
        }
      ]
    },
    {
      "cell_type": "markdown",
      "metadata": {
        "id": "6oDw8AB-68K1"
      },
      "source": [
        "เมื่อพิจารณาเฉพาะโหนดใบจะเห็นได้ว่าอักขระสีแดงนั้นคือคือข้อความในอินพุทตั้งต้นที่ตัด whitespace ออกไปแล้ว เล็กเซอร์ที่ Lark สร้างให้ทำหน้าที่จับกลุ่มอักขระในข้อความออกมาเป็นสายของโทเค็น พร้อมระบุประเภท (type) และค่า (lexeme) กำกับไว้ให้กับแต่ละโทเค็น จากนั้นจึงส่งต่อให้กับส่วนพาร์เซอร์ที่ทำหน้าที่นำเอาโทเค็นเหล่านี้มาประกอบกันเป็นโครงสร้างตามกฎของแกรมมาร์ จนกระทั่งได้โครงสร้างของโปรแกรมที่สมบูรณ์ออกมาตามกฎ `program` ในที่สุด\n",
        "\n",
        "ตามที่ได้กล่าวไปแล้วว่าโดยปกติ Lark จะตัดโทเค็นที่เราไม่ได้ระบุชื่อออกจากพาร์ซทรีหากไม่ได้ระบุอาร์กิวเมนต์ `keep_all_tokens` เป็น true เอาไว้ ซึ่งจะทำให้ได้พาร์ซทรีมีลักษณะด้านล่าง"
      ]
    },
    {
      "cell_type": "code",
      "metadata": {
        "id": "pNW3Nfq4Wvth",
        "colab": {
          "base_uri": "https://localhost:8080/",
          "height": 334
        },
        "outputId": "3eca318e-2b0c-43ed-f32e-300d94ee14c4"
      },
      "source": [
        "parser01 = Lark(JOY01_GRAMMAR, start='program')  # default: keep_all_tokens=False\n",
        "tree = parser01.parse('let a = 8; let b = 3;')\n",
        "draw(tree)"
      ],
      "execution_count": null,
      "outputs": [
        {
          "output_type": "display_data",
          "data": {
            "image/svg+xml": "<?xml version=\"1.0\" encoding=\"UTF-8\" standalone=\"no\"?>\n<!DOCTYPE svg PUBLIC \"-//W3C//DTD SVG 1.1//EN\"\n \"http://www.w3.org/Graphics/SVG/1.1/DTD/svg11.dtd\">\n<!-- Generated by graphviz version 2.43.0 (0)\n -->\n<!-- Title: %3 Pages: 1 -->\n<svg width=\"342pt\" height=\"235pt\"\n viewBox=\"0.00 0.00 341.50 235.00\" xmlns=\"http://www.w3.org/2000/svg\" xmlns:xlink=\"http://www.w3.org/1999/xlink\">\n<g id=\"graph0\" class=\"graph\" transform=\"scale(1 1) rotate(0) translate(4 231)\">\n<title>%3</title>\n<polygon fill=\"white\" stroke=\"transparent\" points=\"-4,4 -4,-231 337.5,-231 337.5,4 -4,4\"/>\n<!-- n0 -->\n<g id=\"node1\" class=\"node\">\n<title>n0</title>\n<text text-anchor=\"middle\" x=\"154.5\" y=\"-215.8\" font-family=\"Times,serif\" font-size=\"14.00\">program</text>\n</g>\n<!-- n1 -->\n<g id=\"node2\" class=\"node\">\n<title>n1</title>\n<text text-anchor=\"middle\" x=\"154.5\" y=\"-164.8\" font-family=\"Times,serif\" font-size=\"14.00\">statements</text>\n</g>\n<!-- n0&#45;&#45;n1 -->\n<g id=\"edge9\" class=\"edge\">\n<title>n0&#45;&#45;n1</title>\n<path fill=\"none\" stroke=\"black\" d=\"M154.5,-211.69C154.5,-202.33 154.5,-185.59 154.5,-176.26\"/>\n</g>\n<!-- n2 -->\n<g id=\"node3\" class=\"node\">\n<title>n2</title>\n<text text-anchor=\"middle\" x=\"119.5\" y=\"-113.8\" font-family=\"Times,serif\" font-size=\"14.00\">statement</text>\n</g>\n<!-- n1&#45;&#45;n2 -->\n<g id=\"edge4\" class=\"edge\">\n<title>n1&#45;&#45;n2</title>\n<path fill=\"none\" stroke=\"black\" d=\"M149.63,-160.69C142.95,-151.33 130.99,-134.59 124.33,-125.26\"/>\n</g>\n<!-- n11 -->\n<g id=\"node7\" class=\"node\">\n<title>n11</title>\n<text text-anchor=\"middle\" x=\"194.5\" y=\"-113.8\" font-family=\"Times,serif\" font-size=\"14.00\">statement</text>\n</g>\n<!-- n1&#45;&#45;n11 -->\n<g id=\"edge8\" class=\"edge\">\n<title>n1&#45;&#45;n11</title>\n<path fill=\"none\" stroke=\"black\" d=\"M160.06,-160.69C167.7,-151.33 181.37,-134.59 188.99,-125.26\"/>\n</g>\n<!-- n3 -->\n<g id=\"node4\" class=\"node\">\n<title>n3</title>\n<text text-anchor=\"middle\" x=\"111.5\" y=\"-62.8\" font-family=\"Times,serif\" font-size=\"14.00\">stmt_assign</text>\n</g>\n<!-- n2&#45;&#45;n3 -->\n<g id=\"edge3\" class=\"edge\">\n<title>n2&#45;&#45;n3</title>\n<path fill=\"none\" stroke=\"black\" d=\"M118.39,-109.69C116.86,-100.33 114.13,-83.59 112.6,-74.26\"/>\n</g>\n<!-- n4 -->\n<g id=\"node5\" class=\"node\">\n<title>n4</title>\n<polygon fill=\"none\" stroke=\"black\" points=\"47,-23 0,-23 0,0 47,0 47,-23\"/>\n<text text-anchor=\"start\" x=\"8\" y=\"-8.8\" font-family=\"Times,serif\" font-size=\"14.00\">ID: </text>\n<text text-anchor=\"start\" x=\"30\" y=\"-8.8\" font-family=\"monospace\" font-size=\"14.00\" fill=\"brown\">a</text>\n</g>\n<!-- n3&#45;&#45;n4 -->\n<g id=\"edge1\" class=\"edge\">\n<title>n3&#45;&#45;n4</title>\n<path fill=\"none\" stroke=\"black\" d=\"M100.35,-58.79C85.46,-49.82 58.9,-33.82 41.24,-23.19\"/>\n</g>\n<!-- n5 -->\n<g id=\"node6\" class=\"node\">\n<title>n5</title>\n<polygon fill=\"none\" stroke=\"black\" points=\"157.5,-23 65.5,-23 65.5,0 157.5,0 157.5,-23\"/>\n<text text-anchor=\"start\" x=\"73.5\" y=\"-8.8\" font-family=\"Times,serif\" font-size=\"14.00\">NUMBER: </text>\n<text text-anchor=\"start\" x=\"140.5\" y=\"-8.8\" font-family=\"monospace\" font-size=\"14.00\" fill=\"brown\">8</text>\n</g>\n<!-- n3&#45;&#45;n5 -->\n<g id=\"edge2\" class=\"edge\">\n<title>n3&#45;&#45;n5</title>\n<path fill=\"none\" stroke=\"black\" d=\"M111.5,-58.57C111.5,-49.59 111.5,-33.84 111.5,-23.29\"/>\n</g>\n<!-- n12 -->\n<g id=\"node8\" class=\"node\">\n<title>n12</title>\n<text text-anchor=\"middle\" x=\"199.5\" y=\"-62.8\" font-family=\"Times,serif\" font-size=\"14.00\">stmt_assign</text>\n</g>\n<!-- n11&#45;&#45;n12 -->\n<g id=\"edge7\" class=\"edge\">\n<title>n11&#45;&#45;n12</title>\n<path fill=\"none\" stroke=\"black\" d=\"M195.2,-109.69C196.15,-100.33 197.86,-83.59 198.81,-74.26\"/>\n</g>\n<!-- n13 -->\n<g id=\"node9\" class=\"node\">\n<title>n13</title>\n<polygon fill=\"none\" stroke=\"black\" points=\"223,-23 176,-23 176,0 223,0 223,-23\"/>\n<text text-anchor=\"start\" x=\"184\" y=\"-8.8\" font-family=\"Times,serif\" font-size=\"14.00\">ID: </text>\n<text text-anchor=\"start\" x=\"206\" y=\"-8.8\" font-family=\"monospace\" font-size=\"14.00\" fill=\"brown\">b</text>\n</g>\n<!-- n12&#45;&#45;n13 -->\n<g id=\"edge5\" class=\"edge\">\n<title>n12&#45;&#45;n13</title>\n<path fill=\"none\" stroke=\"black\" d=\"M199.5,-58.57C199.5,-49.59 199.5,-33.84 199.5,-23.29\"/>\n</g>\n<!-- n14 -->\n<g id=\"node10\" class=\"node\">\n<title>n14</title>\n<polygon fill=\"none\" stroke=\"black\" points=\"333.5,-23 241.5,-23 241.5,0 333.5,0 333.5,-23\"/>\n<text text-anchor=\"start\" x=\"249.5\" y=\"-8.8\" font-family=\"Times,serif\" font-size=\"14.00\">NUMBER: </text>\n<text text-anchor=\"start\" x=\"316.5\" y=\"-8.8\" font-family=\"monospace\" font-size=\"14.00\" fill=\"brown\">3</text>\n</g>\n<!-- n12&#45;&#45;n14 -->\n<g id=\"edge6\" class=\"edge\">\n<title>n12&#45;&#45;n14</title>\n<path fill=\"none\" stroke=\"black\" d=\"M210.65,-58.79C225.54,-49.82 252.1,-33.82 269.76,-23.19\"/>\n</g>\n</g>\n</svg>\n",
            "text/plain": [
              "<graphviz.graphs.Graph at 0x793dff6cbc50>"
            ]
          },
          "metadata": {}
        }
      ]
    },
    {
      "cell_type": "markdown",
      "metadata": {
        "id": "ME7grxKR99h_"
      },
      "source": [
        "พาร์ซทรีที่ได้แม้จะมีโทเค็นบางส่วนหายไป แต่โทเค็นเหล่านั้นไม่จำเป็นอีกต่อไป เนื่องจากเราตีความอินพุทได้โดยอาศัยโครงสร้างของพาร์ซทรีอยู่แล้ว ตัวอย่างเช่นเราเห็นว่าโทเค็น `ID:a` และ `NUMBER:8` นั้นเป็นส่วนหนึ่งของโหนด `stmt_assign` ทำให้เราใช้ข้อมูลนี้ตีความได้ว่าเป็นกำหนดค่าตัวแปร `a` ให้เป็น 8 แม้จะไม่มีโทเค็น `let`, `=` และ `;` อยู่ในผลลัพธ์แล้วก็ตาม\n",
        "\n",
        "การทำแบบนี้ทำให้โทเค็นที่เหลืออยู่เป็นโทเค็นที่จำเป็นจริง ๆ เท่านั้น จึงช่วยให้กระบวนการท่องพาร์ซทรีทำได้สะดวกขึ้น หากโทเค็นที่จำเป็นหายไปแสดงว่าแกรมมาร์ที่นิยามไว้ยังไม่เหมาะสม"
      ]
    },
    {
      "cell_type": "markdown",
      "metadata": {
        "id": "Vo3RRySYXF6T"
      },
      "source": [
        "## ท่องไปในพาร์ซทรี\n",
        "ขั้นตอนต่อไปคือการท่องไปในพาร์ซทรีเพื่อประมวลผลโครงสร้างย่อยแต่ละส่วน เรามาดูการเข้าถึงแอตทริบิวต์ (attribute - คุณสมบัติ) ต่าง ๆ ของพาร์ซทรีกันก่อน\n",
        "\n",
        "เราสามารถตรวจสอบชื่อกฎได้จากแอตทริบิวต์ `data`"
      ]
    },
    {
      "cell_type": "code",
      "metadata": {
        "id": "mvFa2kre0-wO",
        "colab": {
          "base_uri": "https://localhost:8080/",
          "height": 36
        },
        "outputId": "f7d5617e-38c5-4092-cf60-ee25e9d2a1e9"
      },
      "source": [
        "tree.data"
      ],
      "execution_count": null,
      "outputs": [
        {
          "output_type": "execute_result",
          "data": {
            "text/plain": [
              "'program'"
            ],
            "application/vnd.google.colaboratory.intrinsic+json": {
              "type": "string"
            }
          },
          "metadata": {},
          "execution_count": 15
        }
      ]
    },
    {
      "cell_type": "markdown",
      "metadata": {
        "id": "oTolwZdyCTz5"
      },
      "source": [
        "โหนดลูกของทรีทั้งหมดเก็บอยู่ในแอตทริบิวต์ `children` ในรูปลิสต์"
      ]
    },
    {
      "cell_type": "code",
      "metadata": {
        "id": "as9eqDgI4dmJ",
        "colab": {
          "base_uri": "https://localhost:8080/"
        },
        "outputId": "14875a21-8dbc-4925-a9c8-96fdfaea067f"
      },
      "source": [
        "tree.children"
      ],
      "execution_count": null,
      "outputs": [
        {
          "output_type": "execute_result",
          "data": {
            "text/plain": [
              "[Tree('statements', [Tree('statement', [Tree('stmt_assign', [Token('ID', 'a'), Token('NUMBER', '8')])]), Tree('statement', [Tree('stmt_assign', [Token('ID', 'b'), Token('NUMBER', '3')])])])]"
            ]
          },
          "metadata": {},
          "execution_count": 16
        }
      ]
    },
    {
      "cell_type": "markdown",
      "metadata": {
        "id": "Hnyv1OhaEcjp"
      },
      "source": [
        "สมาชิกแต่ละตัวของ `tree.children` ต่างก็เป็นทรีเช่นกัน อย่างเช่น `tree.children[0].children[1].children[0]` จะเป็นการอ้างถึงทรีที่เริ่มต้นจากโหนด `stmt_assign` ฝั่งขวา"
      ]
    },
    {
      "cell_type": "code",
      "metadata": {
        "id": "QqYCZCPK1E9z",
        "colab": {
          "base_uri": "https://localhost:8080/",
          "height": 130
        },
        "outputId": "313d34de-3ba9-4150-8f66-7b377bdf8041"
      },
      "source": [
        "subtree = tree.children[0].children[1].children[0]\n",
        "draw(subtree)"
      ],
      "execution_count": null,
      "outputs": [
        {
          "output_type": "display_data",
          "data": {
            "image/svg+xml": "<?xml version=\"1.0\" encoding=\"UTF-8\" standalone=\"no\"?>\n<!DOCTYPE svg PUBLIC \"-//W3C//DTD SVG 1.1//EN\"\n \"http://www.w3.org/Graphics/SVG/1.1/DTD/svg11.dtd\">\n<!-- Generated by graphviz version 2.43.0 (0)\n -->\n<!-- Title: %3 Pages: 1 -->\n<svg width=\"166pt\" height=\"82pt\"\n viewBox=\"0.00 0.00 165.50 82.00\" xmlns=\"http://www.w3.org/2000/svg\" xmlns:xlink=\"http://www.w3.org/1999/xlink\">\n<g id=\"graph0\" class=\"graph\" transform=\"scale(1 1) rotate(0) translate(4 78)\">\n<title>%3</title>\n<polygon fill=\"white\" stroke=\"transparent\" points=\"-4,4 -4,-78 161.5,-78 161.5,4 -4,4\"/>\n<!-- n0 -->\n<g id=\"node1\" class=\"node\">\n<title>n0</title>\n<text text-anchor=\"middle\" x=\"67.5\" y=\"-62.8\" font-family=\"Times,serif\" font-size=\"14.00\">stmt_assign</text>\n</g>\n<!-- n1 -->\n<g id=\"node2\" class=\"node\">\n<title>n1</title>\n<polygon fill=\"none\" stroke=\"black\" points=\"47,-23 0,-23 0,0 47,0 47,-23\"/>\n<text text-anchor=\"start\" x=\"8\" y=\"-8.8\" font-family=\"Times,serif\" font-size=\"14.00\">ID: </text>\n<text text-anchor=\"start\" x=\"30\" y=\"-8.8\" font-family=\"monospace\" font-size=\"14.00\" fill=\"brown\">b</text>\n</g>\n<!-- n0&#45;&#45;n1 -->\n<g id=\"edge1\" class=\"edge\">\n<title>n0&#45;&#45;n1</title>\n<path fill=\"none\" stroke=\"black\" d=\"M61.75,-58.57C54.29,-49.59 41.22,-33.84 32.46,-23.29\"/>\n</g>\n<!-- n2 -->\n<g id=\"node3\" class=\"node\">\n<title>n2</title>\n<polygon fill=\"none\" stroke=\"black\" points=\"157.5,-23 65.5,-23 65.5,0 157.5,0 157.5,-23\"/>\n<text text-anchor=\"start\" x=\"73.5\" y=\"-8.8\" font-family=\"Times,serif\" font-size=\"14.00\">NUMBER: </text>\n<text text-anchor=\"start\" x=\"140.5\" y=\"-8.8\" font-family=\"monospace\" font-size=\"14.00\" fill=\"brown\">3</text>\n</g>\n<!-- n0&#45;&#45;n2 -->\n<g id=\"edge2\" class=\"edge\">\n<title>n0&#45;&#45;n2</title>\n<path fill=\"none\" stroke=\"black\" d=\"M73.25,-58.57C80.71,-49.59 93.78,-33.84 102.54,-23.29\"/>\n</g>\n</g>\n</svg>\n",
            "text/plain": [
              "<graphviz.graphs.Graph at 0x793dfe0d9be0>"
            ]
          },
          "metadata": {}
        }
      ]
    },
    {
      "cell_type": "markdown",
      "metadata": {
        "id": "2pyTcxcDFT8R"
      },
      "source": [
        "สุดท้ายคือโหนดใบที่แทนโทเค็นแต่ละตัว เราเข้าถึงชนิดของโทเค็นและค่าของโทเค็นได้จากแอตทริบิวต์ `type` และ `value` ตามลำดับ"
      ]
    },
    {
      "cell_type": "code",
      "metadata": {
        "id": "eIk8PEpmFrJf",
        "colab": {
          "base_uri": "https://localhost:8080/",
          "height": 99
        },
        "outputId": "f73eb7b3-af89-490e-82ca-bfaf4ecc943e"
      },
      "source": [
        "token = subtree.children[0]  # โหนด ID:b\n",
        "draw(token)\n",
        "print('type =', token.type)\n",
        "print('value =', token.value)"
      ],
      "execution_count": null,
      "outputs": [
        {
          "output_type": "display_data",
          "data": {
            "image/svg+xml": "<?xml version=\"1.0\" encoding=\"UTF-8\" standalone=\"no\"?>\n<!DOCTYPE svg PUBLIC \"-//W3C//DTD SVG 1.1//EN\"\n \"http://www.w3.org/Graphics/SVG/1.1/DTD/svg11.dtd\">\n<!-- Generated by graphviz version 2.43.0 (0)\n -->\n<!-- Title: %3 Pages: 1 -->\n<svg width=\"55pt\" height=\"31pt\"\n viewBox=\"0.00 0.00 55.00 31.00\" xmlns=\"http://www.w3.org/2000/svg\" xmlns:xlink=\"http://www.w3.org/1999/xlink\">\n<g id=\"graph0\" class=\"graph\" transform=\"scale(1 1) rotate(0) translate(4 27)\">\n<title>%3</title>\n<polygon fill=\"white\" stroke=\"transparent\" points=\"-4,4 -4,-27 51,-27 51,4 -4,4\"/>\n<!-- n0 -->\n<g id=\"node1\" class=\"node\">\n<title>n0</title>\n<polygon fill=\"none\" stroke=\"black\" points=\"47,-23 0,-23 0,0 47,0 47,-23\"/>\n<text text-anchor=\"start\" x=\"8\" y=\"-8.8\" font-family=\"Times,serif\" font-size=\"14.00\">ID: </text>\n<text text-anchor=\"start\" x=\"30\" y=\"-8.8\" font-family=\"monospace\" font-size=\"14.00\" fill=\"brown\">b</text>\n</g>\n</g>\n</svg>\n",
            "text/plain": [
              "<graphviz.graphs.Graph at 0x793dfe0db530>"
            ]
          },
          "metadata": {}
        },
        {
          "output_type": "stream",
          "name": "stdout",
          "text": [
            "type = ID\n",
            "value = b\n"
          ]
        }
      ]
    },
    {
      "cell_type": "markdown",
      "metadata": {
        "id": "uOnpR_Q_Csjj"
      },
      "source": [
        "เนื่องจากพาร์ซทรีมีโครงสร้างแบบรีเคอร์ซีฟ จึงเหมาะที่จะใช้โค้ดแบบรีเคอร์ซีฟมาประมวลผล โค้ดที่ตีความพาร์ซทรีแบบตรงไปตรงมาจึงอาจจะอยู่ในรูป if หลาย ๆ ชั้น คล้ายกับตัวอย่างด้านล่าง\n",
        "\n",
        "```python\n",
        "def visit(tree):\n",
        "  if tree.data == 'program':\n",
        "    visit(tree.children[0])   # visit 'statements'\n",
        "  elif tree.data == 'statements':\n",
        "    for c in tree.children:   # visit each 'statement' in 'statements'\n",
        "      visit(c)\n",
        "  elif tree.data == 'statement':\n",
        "      visit(tree.children[0]) # visit the only child of this 'statement'\n",
        "  elif tree.data == 'stmt_assign':\n",
        "    # generate code for this assignment statement node\n",
        "```\n",
        "\n",
        "อย่างไรก็ตาม เราจะไม่เขียนโปรแกรมในรูปแบบ if หลายชั้นข้างต้น แต่จะอาศัยกลไกของการโปรแกรมเชิงวัตถุ (OOP) ในการเพิ่มขยายฟีเจอร์ของตัวคอมไพเลอร์ไปทีละขั้น"
      ]
    },
    {
      "cell_type": "markdown",
      "metadata": {
        "id": "mf_5YMLXxS54"
      },
      "source": [
        "## ท่องพาร์ซทรีสไตล์ OOP\n",
        "\n",
        "วิธีการที่เราเลือกใช้จะอาศัยความสามารถในการต่อยอดของการโปรแกรมเชิงวัตถุ เพื่อจะได้เพิ่มฟีเจอร์ของคอมไพเลอร์เข้าไปได้เรื่อย ๆ โดยไม่ต้องมานิยามฟังก์ชัน `visit()` ใหม่ซ้ำแล้วซ้ำอีก\n",
        "\n",
        "เราจะเริ่มจากการนิยามคลาสพื้นฐานชื่อ `BaseVisitor` เอาไว้ คลาสนี้มีเพียงเมท็อด `visit()` ที่เมื่อเรียกแล้วจะวนเรียก `visit()` กับโหนดลูกที่ไม่ใช่โหนดใบจนครบทุกตัว แต่ยังไม่สร้างผลลัพธ์ใด ๆ ออกมา เพื่อให้เราสามารถระบุโค้ดสำหรับประมวลผลโหนดแต่ละประเภทผ่านการทำซับคลาส\n",
        "เราจะออกแบบให้เมท็อด `visit()` ตรวจสอบว่าภายในคลาสนั้นมีเมท็อดที่ชื่อเดียวกับชื่อโหนดหรือไม่ หากพบว่ามีจะเรียกเมท็อดนั้นมาเป็นตัวประมวลผลโหนดแทน\n",
        "\n",
        "คลาส `BaseVisitor` มีนิยามตามโค้ดด้านล่าง"
      ]
    },
    {
      "cell_type": "code",
      "metadata": {
        "id": "B6fJeWbxW5E3"
      },
      "source": [
        "from lark.tree import Tree\n",
        "\n",
        "class BaseVisitor:\n",
        "    def visit(self, tree):\n",
        "        # ค้นหาเมท็อดที่ชื่อเดียวกับชื่อโหนด\n",
        "        if hasattr(self, tree.data):\n",
        "            # พบเมท็อด ให้เรียกเมท็อดนั้นประมวลผลโหนด\n",
        "            method = getattr(self, tree.data)\n",
        "            return method(tree)\n",
        "        else:\n",
        "            # ไม่พบเมท็อด เรียก visit() กับลูกทุกตัวที่เป็น non-terminal\n",
        "            for c in tree.children:\n",
        "                if isinstance(c, Tree):\n",
        "                    self.visit(c)"
      ],
      "execution_count": null,
      "outputs": []
    },
    {
      "cell_type": "markdown",
      "metadata": {
        "id": "S5RuXLwoNvJk"
      },
      "source": [
        "การจะทำให้กระบวนการท่องพาร์ซทรีเกิดผลลัพธ์ขึ้นมาต้องสร้างซับคลาสจากคลาส `BaseVisitor` แล้วนิยามเมท็อดให้มีชื่อเดียวกันกับชื่อโหนดที่ต้องการประมวลผล ตัวอย่างเช่น"
      ]
    },
    {
      "cell_type": "code",
      "metadata": {
        "id": "wmHdTXlVJnnF",
        "colab": {
          "base_uri": "https://localhost:8080/"
        },
        "outputId": "472f0271-4d4d-4018-c3a0-b888b9333f81"
      },
      "source": [
        "class Visitor(BaseVisitor):\n",
        "    def program(self, tree):\n",
        "        print('program node')\n",
        "        self.visit(tree.children[0])  # 'program' has only one child\n",
        "\n",
        "    def stmt_assign(self, tree):\n",
        "        [id, number] = tree.children\n",
        "        print(f'stmt_assign node: id={id.value}, number={number.value}')\n",
        "\n",
        "visitor = Visitor()\n",
        "visitor.visit(tree)"
      ],
      "execution_count": null,
      "outputs": [
        {
          "output_type": "stream",
          "name": "stdout",
          "text": [
            "program node\n",
            "stmt_assign node: id=a, number=8\n",
            "stmt_assign node: id=b, number=3\n"
          ]
        }
      ]
    },
    {
      "cell_type": "markdown",
      "metadata": {
        "id": "o4_I5sgGvtlb"
      },
      "source": [
        "เห็นได้ว่าเมื่อสั่ง `visitor.visit(tree)` เมท็อด `program()` จะถูกเรียกโดยอัตโนมัติเมื่อกำลังประมวลผลโหนด `program` จึงมีการพิมพ์ข้อความ `program node` ออกมา ในทำนองเดียวกัน เมท็อด `stmt_assign()` จะถูกเรียกเมื่อกำลังประมวลผลโหนด `stmt_assign` เราจึงแน่ใจว่าโหนดนี้จะมีลูก 2 ตัวคือโทเค็น ID และโทเค็น NUMBER และสามารถดึงออกมาแสดงผลตามที่เห็นได้\n",
        "\n",
        "สังเกตว่าเมท็อด `program()` มีการเรียก `visit()` ด้วยตนเองกับลูกของโหนด `program` ทั้งหมดด้วยลูป `for` เพราะถ้าหากไม่เรียก `visit()` กับโหนดลูกต่อ การท่องกิ่งของพาร์ซทรีจะสิ้นสุดลงที่โหนดนั้น ๆ\n",
        "\n",
        "ข้อสังเกตอีกจุดหนึ่งคือคลาส `Visitor` ไม่ได้นิยามเมท็อดเอาไว้ครบทุกกฎของแกรมมาร์ แต่ที่ยังทำงานได้เนื่องจากเมท็อด `visit()` ของคลาส `BaseVisitor` ระบุเอาไว้ว่าหากกำลังประมวลผลโหนดที่ไม่มีเมท็อดนิยามเอาไว้ให้ (เช่นโหนด `statements` หรือ `statement`) โหนดลูกทุกตัวจะถูกประมวลผลต่อโดยอัตโนมัติ"
      ]
    },
    {
      "cell_type": "markdown",
      "metadata": {
        "id": "Hp1jF0OMXbrX"
      },
      "source": [
        "## สร้างโค้ด Hack Assembly\n",
        "\n",
        "ในตอนนี้เราสามารถนิยามซับคลาสจากคลาส `BaseVisitor` เพื่อสร้างโค้ดเจเนอเรเตอร์ให้กับ Joy 0.1 ได้แล้ว ในคลาส `CodeGen01` ด้านล่างเราจะนิยามตัวแปรสมาชิก `_asm` ขึ้นมาเพื่อเก็บสะสมโค้ดภาษาแอสเซมบลี้ที่ถูกสร้างขึ้นระหว่างการท่องพาร์ซทรี\n",
        "\n",
        "เนื่องจาก Joy 0.1 รองรับคำสั่งเพียงรูปแบบเดียวคือ `stmt_assign` ส่วนที่สร้างโค้ดจึงอยู่ในเมท็อด `stmt_assign()` เป็นหลัก ซึ่งทำหน้าที่ดึงโทเค็น `ID` และ `NUMBER` ออกมาจากโหนดลูก (อย่าลืมว่าโหนด `stmt_assign` มีลูกสองตัว หากจำไม่ได้ให้ย้อนกลับไปดูพาร์ซทรี) และเรียกใช้ `gen_load_const()` ที่เป็น pseudo-instruction ที่เตรียมไว้ตั้งแต่แรก เพื่อสร้างโค้ดภาษาแอสเซมบลี้ที่โหลดค่าคงที่ตามค่าในโทเค็น `NUMBER` ลงในตัวแปรที่มีชื่อตามที่ระบุในโทเค็น `ID`\n",
        "\n",
        "โค้ดภาษาแอสเซมบลี้ที่ได้จะถูกบรรจุไว้ในตัวแปรสมาชิก `_asm` หลังจากเรียก `visit()` แล้วเราจึงเอาโค้ดเหล่านี้มาประกอบรวมกันเป็นโปรแกรมใหญ่โปรแกรมเดียว​"
      ]
    },
    {
      "cell_type": "code",
      "metadata": {
        "id": "yMUKk-I1XSoq",
        "colab": {
          "base_uri": "https://localhost:8080/"
        },
        "outputId": "15a8fca3-3572-42a5-9fa6-68f7d16af0fe"
      },
      "source": [
        "class CodeGen01(BaseVisitor):\n",
        "    def __init__(self):\n",
        "        self._asm = []  # for storing generated instructions\n",
        "\n",
        "    def stmt_assign(self, tree):\n",
        "        [id, number] = tree.children\n",
        "        number = int(number)\n",
        "        self._asm.append(gen_load_const(id, number))\n",
        "\n",
        "codegen01 = CodeGen01()\n",
        "codegen01.visit(tree)\n",
        "asm = '\\n'.join(codegen01._asm)\n",
        "listing(asm)"
      ],
      "execution_count": null,
      "outputs": [
        {
          "output_type": "stream",
          "name": "stdout",
          "text": [
            "// [a] <- 8\n",
            "   0: @8\n",
            "   1: D=A\n",
            "   2: @a\n",
            "   3: M=D\n",
            "// [b] <- 3\n",
            "   4: @3\n",
            "   5: D=A\n",
            "   6: @b\n",
            "   7: M=D\n"
          ]
        }
      ]
    },
    {
      "cell_type": "markdown",
      "metadata": {
        "id": "YSBe-yp5z1cG"
      },
      "source": [
        "ทดลองรันในซิมูเลชัน"
      ]
    },
    {
      "cell_type": "code",
      "metadata": {
        "id": "8XBa7QkDi2oh",
        "colab": {
          "base_uri": "https://localhost:8080/",
          "height": 450
        },
        "outputId": "cd578b93-0be1-4091-a837-c4a99d1530ec"
      },
      "source": [
        "assemble_and_simulate(asm, memory_display_slots=20)"
      ],
      "execution_count": null,
      "outputs": [
        {
          "output_type": "display_data",
          "data": {
            "text/html": [
              "\n",
              "<link rel=\"stylesheet\" href=\"https://jittat.gitlab.io/hacksim/sim.css\">\n",
              "<div id=\"sim-ui\">\n",
              "  <simulator v-bind:simulator=\"simulator\" memory-display-slots=\"20\" screen-scale=\"1\" v-bind:light-weight=\"false\" fastest-steps=\"103\"/>\n",
              "</div>\n",
              "\n",
              "<script>var exports = {};</script>\n",
              "<script src=\"https://cdn.jsdelivr.net/npm/vue/dist/vue.js\"></script>\n",
              "<script src=\"https://jittat.gitlab.io/hacksim/simulator.js\"></script>\n",
              "<script src=\"https://jittat.gitlab.io/hacksim/simulator-ui.js\"></script>\n",
              "\n",
              "<script>\n",
              "  var simulator = new HackSimulator();\n",
              "simulator.loadInstructions([8,60432,16,58120,3,60432,17,58120]);\n",
              "simulator.sourceCode = [{ \"lineNumber\" : null, \"code\" : \"// [a] <- 8\"}, { \"lineNumber\" : 0, \"code\" : \"@8\"}, { \"lineNumber\" : 1, \"code\" : \"D=A\"}, { \"lineNumber\" : 2, \"code\" : \"@a\"}, { \"lineNumber\" : 3, \"code\" : \"M=D\"}, { \"lineNumber\" : null, \"code\" : \"// [b] <- 3\"}, { \"lineNumber\" : 4, \"code\" : \"@3\"}, { \"lineNumber\" : 5, \"code\" : \"D=A\"}, { \"lineNumber\" : 6, \"code\" : \"@b\"}, { \"lineNumber\" : 7, \"code\" : \"M=D\"}]\n",
              "  simulator.memoryWriteCallbacks.push(memUpdateCallback);\n",
              "  simulator.memoryWriteCallbacks.push(screenUpdateCallback);\n",
              "\n",
              "  var app = new Vue({\n",
              "    el: '#sim-ui',\n",
              "    data: {\n",
              "      simulator: simulator\n",
              "    }\n",
              "  });\n",
              "</script>\n"
            ]
          },
          "metadata": {}
        }
      ]
    },
    {
      "cell_type": "markdown",
      "metadata": {
        "id": "Vhj-MDy6ebVN"
      },
      "source": [
        "## รวมร่าง Joy 0.1\n",
        "\n",
        "การเขียนโค้ดแบบข้างต้นแม้จะคอมไพล์และสร้างโค้ดภาษาแอสเซมบลี้ออกมาได้อย่างถูกต้อง แต่ส่วนของแกรมมาร์ พาร์เซอร์ และโค้ดเจเนอเรเตอร์ ยังถูกนิยามกันอยู่อย่างกระจัดกระจาย เพื่อจัดโค้ดให้เป็นระเบียบ เราจะผนวกการนิยามแกรมมาร์ และโค้ดส่วนพาร์เซอร์ เอาไว้ในคลาสเดียวกันกับโค้ดเจเนอเรเตอร์ โดยสร้างเป็นคลาสใหม่ที่มีชื่อว่า `Joy01` ที่ภายในมีเมท็อด `parse()` สำหรับสร้างพาร์ซทรี และเมท็อด `compile()` สำหรับสร้างโค้ด Hack Assembly พร้อมทั้งนำฟังก์ชัน `gen_load_const()` และ `gen_move()` สำหรับ pseudo-instruction ที่นิยามไว้ก่อนหน้านี้มาทำเป็นเมท็อดเพื่อป้อนโค้ดลงไปในลิสต์ `_asm` โดยตรง"
      ]
    },
    {
      "cell_type": "code",
      "metadata": {
        "id": "xlgg9DiKea8i"
      },
      "source": [
        "class Joy01(BaseVisitor):\n",
        "\n",
        "    GRAMMAR = r'''\n",
        "        program: statements\n",
        "        statements: statement*\n",
        "        statement: stmt_assign\n",
        "        stmt_assign: \"let\" ID \"=\" NUMBER \";\"\n",
        "\n",
        "        ID: /[_A-Za-z][_0-9A-Za-z]*/\n",
        "        NUMBER: /[0-9]+/\n",
        "        WS: /[ \\t\\f\\r\\n]+/\n",
        "        %ignore WS\n",
        "    '''\n",
        "\n",
        "    def __init__(self):\n",
        "        self._asm = []  # for storing generated instructions\n",
        "        self._parser = Lark(self.GRAMMAR, start='program')\n",
        "\n",
        "    def parse(self, code):\n",
        "        'Generate a parse tree from the specified Joy code'\n",
        "        return self._parser.parse(code)\n",
        "\n",
        "    def compile(self, code):\n",
        "        'Generate Hack Assembly from the specified Joy code'\n",
        "        tree = self.parse(code)\n",
        "        self.visit(tree)\n",
        "        return '\\n'.join(self._asm)\n",
        "\n",
        "    def gen_load_const(self, mem, val):\n",
        "        '''\n",
        "        Generate Hack assembly to load the memory location mem with the specified\n",
        "        integer val, where 0 <= val <= 32767.\n",
        "        '''\n",
        "        if val < 0 or val > 32767:\n",
        "            raise Exception(\"Invalid integer literal\")\n",
        "        self._asm.append(f'''\n",
        "            // [{mem}] <- {val}\n",
        "            @{val}\n",
        "            D=A\n",
        "            @{mem}\n",
        "            M=D\n",
        "        ''')\n",
        "\n",
        "    def gen_move(self, dst, src):\n",
        "        '''\n",
        "        Generate Hack assembly to copy the memory location src to the memory\n",
        "        location dst.\n",
        "        '''\n",
        "        self._asm.append(f'''\n",
        "            // [{dst}] <- [{src}]\n",
        "            @{src}\n",
        "            D=M\n",
        "            @{dst}\n",
        "            M=D\n",
        "        ''')\n",
        "\n",
        "    def stmt_assign(self, tree):\n",
        "        [id, number] = tree.children\n",
        "        number = int(number)\n",
        "        self.gen_load_const(id, number)"
      ],
      "execution_count": null,
      "outputs": []
    },
    {
      "cell_type": "markdown",
      "metadata": {
        "id": "eBIZFHxP4fCX"
      },
      "source": [
        "ทดลองเรียกใช้ Joy01 ให้คอมไพล์โค้ดเดิม โค้ดแอสเซมบลี้ผลลัพธ์ควรเหมือนเดิมทุกประการ"
      ]
    },
    {
      "cell_type": "code",
      "metadata": {
        "id": "SKLjOOzrP04l",
        "colab": {
          "base_uri": "https://localhost:8080/",
          "height": 640
        },
        "outputId": "ab0e2c44-7f9d-4ee9-ca99-4fdb7c8a6d38"
      },
      "source": [
        "asm = Joy01().compile('let a = 8; let b = 3;')\n",
        "assemble_and_simulate(asm)"
      ],
      "execution_count": null,
      "outputs": [
        {
          "output_type": "display_data",
          "data": {
            "text/html": [
              "\n",
              "<link rel=\"stylesheet\" href=\"https://jittat.gitlab.io/hacksim/sim.css\">\n",
              "<div id=\"sim-ui\">\n",
              "  <simulator v-bind:simulator=\"simulator\" memory-display-slots=\"30\" screen-scale=\"1\" v-bind:light-weight=\"false\" fastest-steps=\"103\"/>\n",
              "</div>\n",
              "\n",
              "<script>var exports = {};</script>\n",
              "<script src=\"https://cdn.jsdelivr.net/npm/vue/dist/vue.js\"></script>\n",
              "<script src=\"https://jittat.gitlab.io/hacksim/simulator.js\"></script>\n",
              "<script src=\"https://jittat.gitlab.io/hacksim/simulator-ui.js\"></script>\n",
              "\n",
              "<script>\n",
              "  var simulator = new HackSimulator();\n",
              "simulator.loadInstructions([8,60432,16,58120,3,60432,17,58120]);\n",
              "simulator.sourceCode = [{ \"lineNumber\" : null, \"code\" : \"// [a] <- 8\"}, { \"lineNumber\" : 0, \"code\" : \"@8\"}, { \"lineNumber\" : 1, \"code\" : \"D=A\"}, { \"lineNumber\" : 2, \"code\" : \"@a\"}, { \"lineNumber\" : 3, \"code\" : \"M=D\"}, { \"lineNumber\" : null, \"code\" : \"// [b] <- 3\"}, { \"lineNumber\" : 4, \"code\" : \"@3\"}, { \"lineNumber\" : 5, \"code\" : \"D=A\"}, { \"lineNumber\" : 6, \"code\" : \"@b\"}, { \"lineNumber\" : 7, \"code\" : \"M=D\"}]\n",
              "  simulator.memoryWriteCallbacks.push(memUpdateCallback);\n",
              "  simulator.memoryWriteCallbacks.push(screenUpdateCallback);\n",
              "\n",
              "  var app = new Vue({\n",
              "    el: '#sim-ui',\n",
              "    data: {\n",
              "      simulator: simulator\n",
              "    }\n",
              "  });\n",
              "</script>\n"
            ]
          },
          "metadata": {}
        }
      ]
    },
    {
      "cell_type": "markdown",
      "metadata": {
        "id": "6SYYP0Rrto9Z"
      },
      "source": [
        "## สร้างตัวทดสอบ\n",
        "\n",
        "คลาส `TestJoyBase` เตรียมกลไกพื้นฐานสำหรับทดสอบ Joy Compiler โดยออกแบบให้ง่ายต่อการระบุคลาสของคอมไพเลอร์ที่ต้องการทดสอบ และสะดวกในการสร้างคลาสทดสอบใหม่ที่ต่อยอดจากคลาสทดสอบเดิม"
      ]
    },
    {
      "cell_type": "code",
      "metadata": {
        "id": "H8WaasndtuWS"
      },
      "source": [
        "class TestJoyBase(unittest.TestCase):\n",
        "\n",
        "    JOY_COMPILER = None\n",
        "\n",
        "    def setUp(self):\n",
        "        self.cpu = PureHackCPU()\n",
        "        if self.JOY_COMPILER is None:\n",
        "            raise Exception('Please define \"JOY_COMPILER\" as a class member.')\n",
        "\n",
        "    def compile_and_run(self, code, max_steps=50000):\n",
        "        self.cpu.reset()\n",
        "        asm = self.JOY_COMPILER().compile(code)\n",
        "        instrs = assemble(asm)\n",
        "        self.cpu.load_instructions(instrs)\n",
        "        self.cpu.run(max_steps, output_traces=False, until_pc=len(instrs))"
      ],
      "execution_count": null,
      "outputs": []
    },
    {
      "cell_type": "markdown",
      "metadata": {
        "id": "XYsNBmqd7Kgp"
      },
      "source": [
        "## Test case\n",
        "\n",
        "นำ `TestJoyBase` มาสร้างตัวทดสอบสำหรับ Joy 0.1 และลองรันดังนี้"
      ]
    },
    {
      "cell_type": "code",
      "metadata": {
        "id": "Lo0q6dqtujfR",
        "colab": {
          "base_uri": "https://localhost:8080/"
        },
        "outputId": "2867ae28-5d50-4db1-cec5-d88556fe28cf"
      },
      "source": [
        "class TestJoy01(TestJoyBase):\n",
        "\n",
        "    JOY_COMPILER = Joy01\n",
        "\n",
        "    def test_assign(self):\n",
        "        self.compile_and_run('''\n",
        "            let a = 3;\n",
        "            let b = 8;\n",
        "        ''')\n",
        "        self.assertEqual(self.cpu.ram[16], 3)\n",
        "        self.assertEqual(self.cpu.ram[17], 8)\n",
        "\n",
        "run_test(TestJoy01)"
      ],
      "execution_count": null,
      "outputs": [
        {
          "output_type": "stream",
          "name": "stderr",
          "text": [
            ".\n",
            "----------------------------------------------------------------------\n",
            "Ran 1 test in 0.012s\n",
            "\n",
            "OK\n"
          ]
        }
      ]
    },
    {
      "cell_type": "markdown",
      "metadata": {
        "id": "mNKOW_qaYLKl"
      },
      "source": [
        "# Joy 0.2 - variable expression\n",
        "\n",
        "Joy 0.2 รองรับทุกฟีเจอร์ของ Joy 0.1 โดยมีฟีเจอร์เพิ่มเติมดังนี้\n",
        "\n",
        "---\n",
        "* คำสั่ง `let` รองรับการระบุค่าเป็นนิพจน์ ตามรูปแบบ: `let` *var* `=` *expr* `;` โดย *expr* รองรับรูปแบบดังนี้\n",
        "    * นิพจน์ค่าคงที่: *constant*\n",
        "    * นิพจน์ตัวแปร: *id*\n",
        "* ป้องกันการเข้าถึงหน่วยความจำในตำแหน่งพิเศษโดยตรงผ่านตัวแปรที่มีชื่อเดียวกัน เช่น SP, R0, R1 ฯลฯ\n",
        "---\n",
        "\n",
        "เราเริ่มจากการนิยามแกรมมาร์ให้ Joy 0.2 กันก่อน สังเกตกฎ `stmt_assign` ที่เปลี่ยนไป และกลุ่มของกฎ `expr` ที่เพิ่มเข้ามาเพื่อรองรับนิพจน์แบบค่าคงที่และแบบตัวแปร\n"
      ]
    },
    {
      "cell_type": "code",
      "metadata": {
        "id": "sqNs-fshX5qb"
      },
      "source": [
        "class Joy02(Joy01):\n",
        "\n",
        "    GRAMMAR = r'''\n",
        "        program: statements\n",
        "        statements: statement*\n",
        "        statement: stmt_assign\n",
        "        stmt_assign: \"let\" ID \"=\" expr \";\"\n",
        "        expr: expr_const\n",
        "            | expr_id\n",
        "        expr_const: NUMBER\n",
        "        expr_id: ID\n",
        "\n",
        "        ID: /[_A-Za-z][_0-9A-Za-z]*/\n",
        "        NUMBER: /[0-9]+/\n",
        "        WS: /[ \\t\\f\\r\\n]+/\n",
        "        %ignore WS\n",
        "    '''"
      ],
      "execution_count": null,
      "outputs": []
    },
    {
      "cell_type": "markdown",
      "metadata": {
        "id": "9cptiv5oU-Zo"
      },
      "source": [
        "เนื่องจากคลาส Joy02 เป็นซับคลาสของ Joy01 เมท็อดทุกตัวที่นิยามเอาไว้ใน Joy01 จึงสามารถนำมาใช้ต่อใน Joy02 ได้ทันที ลองสร้างพาร์ซทรีจากโค้ดตัวอย่างเพื่อนำมาพิจารณาวิเคราะห์โครงสร้าง"
      ]
    },
    {
      "cell_type": "code",
      "metadata": {
        "id": "EvOB45kzmUdI",
        "colab": {
          "base_uri": "https://localhost:8080/",
          "height": 481
        },
        "outputId": "c1425e1e-8ffc-4d06-f17b-525ca97d4f5d"
      },
      "source": [
        "tree = Joy02().parse('''\n",
        "    let a = 8;\n",
        "    let b = a;\n",
        "    let c = b;\n",
        "''')\n",
        "draw(tree)"
      ],
      "execution_count": null,
      "outputs": [
        {
          "output_type": "display_data",
          "data": {
            "image/svg+xml": "<?xml version=\"1.0\" encoding=\"UTF-8\" standalone=\"no\"?>\n<!DOCTYPE svg PUBLIC \"-//W3C//DTD SVG 1.1//EN\"\n \"http://www.w3.org/Graphics/SVG/1.1/DTD/svg11.dtd\">\n<!-- Generated by graphviz version 2.43.0 (0)\n -->\n<!-- Title: %3 Pages: 1 -->\n<svg width=\"328pt\" height=\"345pt\"\n viewBox=\"0.00 0.00 328.00 345.00\" xmlns=\"http://www.w3.org/2000/svg\" xmlns:xlink=\"http://www.w3.org/1999/xlink\">\n<g id=\"graph0\" class=\"graph\" transform=\"scale(1 1) rotate(0) translate(4 341)\">\n<title>%3</title>\n<polygon fill=\"white\" stroke=\"transparent\" points=\"-4,4 -4,-341 324,-341 324,4 -4,4\"/>\n<!-- n0 -->\n<g id=\"node1\" class=\"node\">\n<title>n0</title>\n<text text-anchor=\"middle\" x=\"159.5\" y=\"-325.8\" font-family=\"Times,serif\" font-size=\"14.00\">program</text>\n</g>\n<!-- n1 -->\n<g id=\"node2\" class=\"node\">\n<title>n1</title>\n<text text-anchor=\"middle\" x=\"159.5\" y=\"-274.8\" font-family=\"Times,serif\" font-size=\"14.00\">statements</text>\n</g>\n<!-- n0&#45;&#45;n1 -->\n<g id=\"edge19\" class=\"edge\">\n<title>n0&#45;&#45;n1</title>\n<path fill=\"none\" stroke=\"black\" d=\"M159.5,-321.69C159.5,-312.33 159.5,-295.59 159.5,-286.26\"/>\n</g>\n<!-- n2 -->\n<g id=\"node3\" class=\"node\">\n<title>n2</title>\n<text text-anchor=\"middle\" x=\"82.5\" y=\"-223.8\" font-family=\"Times,serif\" font-size=\"14.00\">statement</text>\n</g>\n<!-- n1&#45;&#45;n2 -->\n<g id=\"edge6\" class=\"edge\">\n<title>n1&#45;&#45;n2</title>\n<path fill=\"none\" stroke=\"black\" d=\"M149.12,-270.89C134.34,-261.49 107.41,-244.35 92.72,-235\"/>\n</g>\n<!-- n24 -->\n<g id=\"node9\" class=\"node\">\n<title>n24</title>\n<text text-anchor=\"middle\" x=\"159.5\" y=\"-223.8\" font-family=\"Times,serif\" font-size=\"14.00\">statement</text>\n</g>\n<!-- n1&#45;&#45;n24 -->\n<g id=\"edge12\" class=\"edge\">\n<title>n1&#45;&#45;n24</title>\n<path fill=\"none\" stroke=\"black\" d=\"M159.5,-270.69C159.5,-261.33 159.5,-244.59 159.5,-235.26\"/>\n</g>\n<!-- n134 -->\n<g id=\"node15\" class=\"node\">\n<title>n134</title>\n<text text-anchor=\"middle\" x=\"236.5\" y=\"-223.8\" font-family=\"Times,serif\" font-size=\"14.00\">statement</text>\n</g>\n<!-- n1&#45;&#45;n134 -->\n<g id=\"edge18\" class=\"edge\">\n<title>n1&#45;&#45;n134</title>\n<path fill=\"none\" stroke=\"black\" d=\"M169.88,-270.89C184.66,-261.49 211.59,-244.35 226.28,-235\"/>\n</g>\n<!-- n3 -->\n<g id=\"node4\" class=\"node\">\n<title>n3</title>\n<text text-anchor=\"middle\" x=\"76.5\" y=\"-172.8\" font-family=\"Times,serif\" font-size=\"14.00\">stmt_assign</text>\n</g>\n<!-- n2&#45;&#45;n3 -->\n<g id=\"edge5\" class=\"edge\">\n<title>n2&#45;&#45;n3</title>\n<path fill=\"none\" stroke=\"black\" d=\"M81.67,-219.69C80.52,-210.33 78.47,-193.59 77.33,-184.26\"/>\n</g>\n<!-- n4 -->\n<g id=\"node5\" class=\"node\">\n<title>n4</title>\n<polygon fill=\"none\" stroke=\"black\" points=\"47,-133 0,-133 0,-110 47,-110 47,-133\"/>\n<text text-anchor=\"start\" x=\"8\" y=\"-118.8\" font-family=\"Times,serif\" font-size=\"14.00\">ID: </text>\n<text text-anchor=\"start\" x=\"30\" y=\"-118.8\" font-family=\"monospace\" font-size=\"14.00\" fill=\"brown\">a</text>\n</g>\n<!-- n3&#45;&#45;n4 -->\n<g id=\"edge1\" class=\"edge\">\n<title>n3&#45;&#45;n4</title>\n<path fill=\"none\" stroke=\"black\" d=\"M69.57,-168.57C60.59,-159.59 44.84,-143.84 34.29,-133.29\"/>\n</g>\n<!-- n5 -->\n<g id=\"node6\" class=\"node\">\n<title>n5</title>\n<text text-anchor=\"middle\" x=\"77.5\" y=\"-117.8\" font-family=\"Times,serif\" font-size=\"14.00\">expr</text>\n</g>\n<!-- n3&#45;&#45;n5 -->\n<g id=\"edge4\" class=\"edge\">\n<title>n3&#45;&#45;n5</title>\n<path fill=\"none\" stroke=\"black\" d=\"M76.63,-168.57C76.82,-158.36 77.18,-139.38 77.37,-129.26\"/>\n</g>\n<!-- n6 -->\n<g id=\"node7\" class=\"node\">\n<title>n6</title>\n<text text-anchor=\"middle\" x=\"77.5\" y=\"-62.8\" font-family=\"Times,serif\" font-size=\"14.00\">expr_const</text>\n</g>\n<!-- n5&#45;&#45;n6 -->\n<g id=\"edge3\" class=\"edge\">\n<title>n5&#45;&#45;n6</title>\n<path fill=\"none\" stroke=\"black\" d=\"M77.5,-113.57C77.5,-103.36 77.5,-84.38 77.5,-74.26\"/>\n</g>\n<!-- n7 -->\n<g id=\"node8\" class=\"node\">\n<title>n7</title>\n<polygon fill=\"none\" stroke=\"black\" points=\"123.5,-23 31.5,-23 31.5,0 123.5,0 123.5,-23\"/>\n<text text-anchor=\"start\" x=\"39.5\" y=\"-8.8\" font-family=\"Times,serif\" font-size=\"14.00\">NUMBER: </text>\n<text text-anchor=\"start\" x=\"106.5\" y=\"-8.8\" font-family=\"monospace\" font-size=\"14.00\" fill=\"brown\">8</text>\n</g>\n<!-- n6&#45;&#45;n7 -->\n<g id=\"edge2\" class=\"edge\">\n<title>n6&#45;&#45;n7</title>\n<path fill=\"none\" stroke=\"black\" d=\"M77.5,-58.57C77.5,-49.59 77.5,-33.84 77.5,-23.29\"/>\n</g>\n<!-- n25 -->\n<g id=\"node10\" class=\"node\">\n<title>n25</title>\n<text text-anchor=\"middle\" x=\"159.5\" y=\"-172.8\" font-family=\"Times,serif\" font-size=\"14.00\">stmt_assign</text>\n</g>\n<!-- n24&#45;&#45;n25 -->\n<g id=\"edge11\" class=\"edge\">\n<title>n24&#45;&#45;n25</title>\n<path fill=\"none\" stroke=\"black\" d=\"M159.5,-219.69C159.5,-210.33 159.5,-193.59 159.5,-184.26\"/>\n</g>\n<!-- n26 -->\n<g id=\"node11\" class=\"node\">\n<title>n26</title>\n<polygon fill=\"none\" stroke=\"black\" points=\"157,-133 110,-133 110,-110 157,-110 157,-133\"/>\n<text text-anchor=\"start\" x=\"118\" y=\"-118.8\" font-family=\"Times,serif\" font-size=\"14.00\">ID: </text>\n<text text-anchor=\"start\" x=\"140\" y=\"-118.8\" font-family=\"monospace\" font-size=\"14.00\" fill=\"brown\">b</text>\n</g>\n<!-- n25&#45;&#45;n26 -->\n<g id=\"edge7\" class=\"edge\">\n<title>n25&#45;&#45;n26</title>\n<path fill=\"none\" stroke=\"black\" d=\"M156.1,-168.57C151.7,-159.59 143.97,-143.84 138.79,-133.29\"/>\n</g>\n<!-- n27 -->\n<g id=\"node12\" class=\"node\">\n<title>n27</title>\n<text text-anchor=\"middle\" x=\"187.5\" y=\"-117.8\" font-family=\"Times,serif\" font-size=\"14.00\">expr</text>\n</g>\n<!-- n25&#45;&#45;n27 -->\n<g id=\"edge10\" class=\"edge\">\n<title>n25&#45;&#45;n27</title>\n<path fill=\"none\" stroke=\"black\" d=\"M163.16,-168.57C168.56,-158.36 178.58,-139.38 183.93,-129.26\"/>\n</g>\n<!-- n28 -->\n<g id=\"node13\" class=\"node\">\n<title>n28</title>\n<text text-anchor=\"middle\" x=\"187.5\" y=\"-62.8\" font-family=\"Times,serif\" font-size=\"14.00\">expr_id</text>\n</g>\n<!-- n27&#45;&#45;n28 -->\n<g id=\"edge9\" class=\"edge\">\n<title>n27&#45;&#45;n28</title>\n<path fill=\"none\" stroke=\"black\" d=\"M187.5,-113.57C187.5,-103.36 187.5,-84.38 187.5,-74.26\"/>\n</g>\n<!-- n29 -->\n<g id=\"node14\" class=\"node\">\n<title>n29</title>\n<polygon fill=\"none\" stroke=\"black\" points=\"211,-23 164,-23 164,0 211,0 211,-23\"/>\n<text text-anchor=\"start\" x=\"172\" y=\"-8.8\" font-family=\"Times,serif\" font-size=\"14.00\">ID: </text>\n<text text-anchor=\"start\" x=\"194\" y=\"-8.8\" font-family=\"monospace\" font-size=\"14.00\" fill=\"brown\">a</text>\n</g>\n<!-- n28&#45;&#45;n29 -->\n<g id=\"edge8\" class=\"edge\">\n<title>n28&#45;&#45;n29</title>\n<path fill=\"none\" stroke=\"black\" d=\"M187.5,-58.57C187.5,-49.59 187.5,-33.84 187.5,-23.29\"/>\n</g>\n<!-- n135 -->\n<g id=\"node16\" class=\"node\">\n<title>n135</title>\n<text text-anchor=\"middle\" x=\"242.5\" y=\"-172.8\" font-family=\"Times,serif\" font-size=\"14.00\">stmt_assign</text>\n</g>\n<!-- n134&#45;&#45;n135 -->\n<g id=\"edge17\" class=\"edge\">\n<title>n134&#45;&#45;n135</title>\n<path fill=\"none\" stroke=\"black\" d=\"M237.33,-219.69C238.48,-210.33 240.53,-193.59 241.67,-184.26\"/>\n</g>\n<!-- n136 -->\n<g id=\"node17\" class=\"node\">\n<title>n136</title>\n<polygon fill=\"none\" stroke=\"black\" points=\"266,-133 219,-133 219,-110 266,-110 266,-133\"/>\n<text text-anchor=\"start\" x=\"227\" y=\"-118.8\" font-family=\"Times,serif\" font-size=\"14.00\">ID: </text>\n<text text-anchor=\"start\" x=\"249\" y=\"-118.8\" font-family=\"monospace\" font-size=\"14.00\" fill=\"brown\">c</text>\n</g>\n<!-- n135&#45;&#45;n136 -->\n<g id=\"edge13\" class=\"edge\">\n<title>n135&#45;&#45;n136</title>\n<path fill=\"none\" stroke=\"black\" d=\"M242.5,-168.57C242.5,-159.59 242.5,-143.84 242.5,-133.29\"/>\n</g>\n<!-- n137 -->\n<g id=\"node18\" class=\"node\">\n<title>n137</title>\n<text text-anchor=\"middle\" x=\"296.5\" y=\"-117.8\" font-family=\"Times,serif\" font-size=\"14.00\">expr</text>\n</g>\n<!-- n135&#45;&#45;n137 -->\n<g id=\"edge16\" class=\"edge\">\n<title>n135&#45;&#45;n137</title>\n<path fill=\"none\" stroke=\"black\" d=\"M249.56,-168.57C259.97,-158.36 279.3,-139.38 289.61,-129.26\"/>\n</g>\n<!-- n138 -->\n<g id=\"node19\" class=\"node\">\n<title>n138</title>\n<text text-anchor=\"middle\" x=\"296.5\" y=\"-62.8\" font-family=\"Times,serif\" font-size=\"14.00\">expr_id</text>\n</g>\n<!-- n137&#45;&#45;n138 -->\n<g id=\"edge15\" class=\"edge\">\n<title>n137&#45;&#45;n138</title>\n<path fill=\"none\" stroke=\"black\" d=\"M296.5,-113.57C296.5,-103.36 296.5,-84.38 296.5,-74.26\"/>\n</g>\n<!-- n139 -->\n<g id=\"node20\" class=\"node\">\n<title>n139</title>\n<polygon fill=\"none\" stroke=\"black\" points=\"320,-23 273,-23 273,0 320,0 320,-23\"/>\n<text text-anchor=\"start\" x=\"281\" y=\"-8.8\" font-family=\"Times,serif\" font-size=\"14.00\">ID: </text>\n<text text-anchor=\"start\" x=\"303\" y=\"-8.8\" font-family=\"monospace\" font-size=\"14.00\" fill=\"brown\">b</text>\n</g>\n<!-- n138&#45;&#45;n139 -->\n<g id=\"edge14\" class=\"edge\">\n<title>n138&#45;&#45;n139</title>\n<path fill=\"none\" stroke=\"black\" d=\"M296.5,-58.57C296.5,-49.59 296.5,-33.84 296.5,-23.29\"/>\n</g>\n</g>\n</svg>\n",
            "text/plain": [
              "<graphviz.graphs.Graph at 0x793e142e66f0>"
            ]
          },
          "metadata": {}
        }
      ]
    },
    {
      "cell_type": "markdown",
      "metadata": {
        "id": "Emf2hEUKy3us"
      },
      "source": [
        "ในเฟสต่อ ๆ ไปนั้น *expr* สามารถปรากฏอยู่ได้หลากหลายจุดในโปรแกรม เช่น ใช้เป็นส่วนหนึ่งของโครงสร้าง if หรือเป็นส่วนของนิพจน์ที่ซับซ้อนมากขึ้น เพื่อให้เชื่อมต่อกับโครงสร้างอื่นได้สะดวก เราจะประมวลผลโหนด *expr* โดยเจเนอเรทโค้ดให้นำผลลัพธ์ของ *expr* มาเก็บไว้ที่หน่วยความจำตำแหน่ง `THIS` (หรือ `R3`) เสมอ สังเกตจากตัวอย่างเมท็อด `expr_const()` และ `expr_id()` ของ Joy 0.2 ด้านล่าง"
      ]
    },
    {
      "cell_type": "code",
      "metadata": {
        "id": "sagRwiNIVFsJ"
      },
      "source": [
        "class Joy02(Joy01):\n",
        "\n",
        "    GRAMMAR = r'''\n",
        "        program: statements\n",
        "        statements: statement*\n",
        "        statement: stmt_assign\n",
        "        stmt_assign: \"let\" ID \"=\" expr \";\"\n",
        "        expr: expr_const\n",
        "            | expr_id\n",
        "        expr_const: NUMBER\n",
        "        expr_id: ID\n",
        "\n",
        "        ID: /[_A-Za-z][_0-9A-Za-z]*/\n",
        "        NUMBER: /[0-9]+/\n",
        "        WS: /[ \\t\\f\\r\\n]+/\n",
        "        %ignore WS\n",
        "    '''\n",
        "\n",
        "    # override Joy01's stmt_assign\n",
        "    def stmt_assign(self, tree):\n",
        "        [id, expr] = tree.children\n",
        "        self.visit(expr)\n",
        "        # THIS should store expr's value; move it to id\n",
        "        self.gen_move(f'.var.{id}', 'THIS')\n",
        "\n",
        "    def expr_const(self, tree):\n",
        "        [const] = tree.children\n",
        "        value = int(const)\n",
        "        self.gen_load_const('THIS', value)\n",
        "\n",
        "    def expr_id(self, tree):\n",
        "        [id] = tree.children\n",
        "        # make THIS store the value referenced by id\n",
        "        self.gen_move('THIS', f'.var.{id}')"
      ],
      "execution_count": null,
      "outputs": []
    },
    {
      "cell_type": "markdown",
      "metadata": {
        "id": "l3aIRuD_PMij"
      },
      "source": [
        "ลองทดสอบกับโค้ดตัวอย่าง สังเกตว่าคำสั่งกำหนดค่าคงที่ให้ตัวแปรนั้นถูกแปลเป็นโค้ดแอสเซมบลี้ที่แตกต่างไปจาก Joy 0.1 โดยเป็นการนำค่าคงที่ใส่ลงใน `THIS` ก่อนแล้วจึงคัดลอกลงในตำแหน่งตัวแปร แทนที่จะกำหนดค่าลงในตัวแปรโดยตรง\n",
        "\n",
        "การสร้างโค้ดลักษณะนี้แม้จะดูอ้อมค้อม แต่ช่วยให้เราเขียนตัวสร้างโค้ดในการกำหนดค่าตัวแปรได้ง่ายขึ้น ตราบเท่าที่เราสร้างโค้ดโดยยึดตามข้อตกลงว่าค่าผลลัพธ์ที่ได้จากนิพจน์จะถูกทิ้งไว้ในหน่วยความจำ `THIS` โค้ดสำหรับกำหนดค่าให้ตัวแปรจะเป็นเพียงการดึงค่าจาก `THIS` ไปไว้ในตัวแปรนั้น ๆ เท่านั้น ไม่ว่านิพจน์ที่นำมากำหนดค่าให้กับตัวแปรจะอยู่ในรูปใดหรือซับซ้อนเพียงใดก็ตาม"
      ]
    },
    {
      "cell_type": "code",
      "metadata": {
        "id": "8zc8DjTgCrqa",
        "colab": {
          "base_uri": "https://localhost:8080/",
          "height": 640
        },
        "outputId": "c0aa1388-76e5-4625-c07f-6999e3a146d4"
      },
      "source": [
        "asm = Joy02().compile('''\n",
        "    let a = 8;\n",
        "    let b = a;\n",
        "    let c = b;\n",
        "''')\n",
        "assemble_and_simulate(asm)"
      ],
      "execution_count": null,
      "outputs": [
        {
          "output_type": "display_data",
          "data": {
            "text/html": [
              "\n",
              "<link rel=\"stylesheet\" href=\"https://jittat.gitlab.io/hacksim/sim.css\">\n",
              "<div id=\"sim-ui\">\n",
              "  <simulator v-bind:simulator=\"simulator\" memory-display-slots=\"30\" screen-scale=\"1\" v-bind:light-weight=\"false\" fastest-steps=\"103\"/>\n",
              "</div>\n",
              "\n",
              "<script>var exports = {};</script>\n",
              "<script src=\"https://cdn.jsdelivr.net/npm/vue/dist/vue.js\"></script>\n",
              "<script src=\"https://jittat.gitlab.io/hacksim/simulator.js\"></script>\n",
              "<script src=\"https://jittat.gitlab.io/hacksim/simulator-ui.js\"></script>\n",
              "\n",
              "<script>\n",
              "  var simulator = new HackSimulator();\n",
              "simulator.loadInstructions([8,60432,3,58120,3,64528,16,58120,16,64528,3,58120,3,64528,17,58120,17,64528,3,58120,3,64528,18,58120]);\n",
              "simulator.sourceCode = [{ \"lineNumber\" : null, \"code\" : \"// [THIS] <- 8\"}, { \"lineNumber\" : 0, \"code\" : \"@8\"}, { \"lineNumber\" : 1, \"code\" : \"D=A\"}, { \"lineNumber\" : 2, \"code\" : \"@THIS\"}, { \"lineNumber\" : 3, \"code\" : \"M=D\"}, { \"lineNumber\" : null, \"code\" : \"// [.var.a] <- [THIS]\"}, { \"lineNumber\" : 4, \"code\" : \"@THIS\"}, { \"lineNumber\" : 5, \"code\" : \"D=M\"}, { \"lineNumber\" : 6, \"code\" : \"@.var.a\"}, { \"lineNumber\" : 7, \"code\" : \"M=D\"}, { \"lineNumber\" : null, \"code\" : \"// [THIS] <- [.var.a]\"}, { \"lineNumber\" : 8, \"code\" : \"@.var.a\"}, { \"lineNumber\" : 9, \"code\" : \"D=M\"}, { \"lineNumber\" : 10, \"code\" : \"@THIS\"}, { \"lineNumber\" : 11, \"code\" : \"M=D\"}, { \"lineNumber\" : null, \"code\" : \"// [.var.b] <- [THIS]\"}, { \"lineNumber\" : 12, \"code\" : \"@THIS\"}, { \"lineNumber\" : 13, \"code\" : \"D=M\"}, { \"lineNumber\" : 14, \"code\" : \"@.var.b\"}, { \"lineNumber\" : 15, \"code\" : \"M=D\"}, { \"lineNumber\" : null, \"code\" : \"// [THIS] <- [.var.b]\"}, { \"lineNumber\" : 16, \"code\" : \"@.var.b\"}, { \"lineNumber\" : 17, \"code\" : \"D=M\"}, { \"lineNumber\" : 18, \"code\" : \"@THIS\"}, { \"lineNumber\" : 19, \"code\" : \"M=D\"}, { \"lineNumber\" : null, \"code\" : \"// [.var.c] <- [THIS]\"}, { \"lineNumber\" : 20, \"code\" : \"@THIS\"}, { \"lineNumber\" : 21, \"code\" : \"D=M\"}, { \"lineNumber\" : 22, \"code\" : \"@.var.c\"}, { \"lineNumber\" : 23, \"code\" : \"M=D\"}]\n",
              "  simulator.memoryWriteCallbacks.push(memUpdateCallback);\n",
              "  simulator.memoryWriteCallbacks.push(screenUpdateCallback);\n",
              "\n",
              "  var app = new Vue({\n",
              "    el: '#sim-ui',\n",
              "    data: {\n",
              "      simulator: simulator\n",
              "    }\n",
              "  });\n",
              "</script>\n"
            ]
          },
          "metadata": {}
        }
      ]
    },
    {
      "cell_type": "markdown",
      "metadata": {
        "id": "0r2QYPN1EUd6"
      },
      "source": [
        "## Test case\n",
        "\n",
        "รันตัวทดสอบกับคลาส Joy02 ซึ่งต่อยอดมาจากตัวทดสอบของ Joy01 ตัวทดสอบนี้จึงนำกรณีทดสอบของ Joy01 ทุกตัวมาทดสอบด้วย Joy02 โดยอัตโนมัติ"
      ]
    },
    {
      "cell_type": "code",
      "metadata": {
        "id": "vnH8AG63wSIS",
        "colab": {
          "base_uri": "https://localhost:8080/"
        },
        "outputId": "59f9d34e-c1d9-4909-c4dc-326645235562"
      },
      "source": [
        "class TestJoy02(TestJoy01):\n",
        "\n",
        "    JOY_COMPILER = Joy02\n",
        "\n",
        "    def test_expr_constant(self):\n",
        "        self.compile_and_run('''\n",
        "            let a = 3;\n",
        "            let b = 5;\n",
        "        ''')\n",
        "        self.assertEqual(self.cpu.ram[16], 3)\n",
        "        self.assertEqual(self.cpu.ram[17], 5)\n",
        "\n",
        "    def test_expr_id(self):\n",
        "        self.compile_and_run('''\n",
        "            let a = 3;\n",
        "            let b = a;\n",
        "        ''')\n",
        "        self.assertEqual(self.cpu.ram[16], 3)\n",
        "        self.assertEqual(self.cpu.ram[17], 3)\n",
        "\n",
        "    def test_expr_avoid_predefined_symbol(self):\n",
        "        self.compile_and_run('''\n",
        "            let R6 = 100;\n",
        "            let R14 = 123;\n",
        "        ''')\n",
        "        self.assertEqual(self.cpu.ram[6], 0)    # R6\n",
        "        self.assertEqual(self.cpu.ram[14], 0)   # R14\n",
        "        self.assertEqual(self.cpu.ram[16], 100)\n",
        "        self.assertEqual(self.cpu.ram[17], 123)\n",
        "\n",
        "run_test(TestJoy02)"
      ],
      "execution_count": null,
      "outputs": [
        {
          "output_type": "stream",
          "name": "stderr",
          "text": [
            "....\n",
            "----------------------------------------------------------------------\n",
            "Ran 4 tests in 0.045s\n",
            "\n",
            "OK\n"
          ]
        }
      ]
    },
    {
      "cell_type": "markdown",
      "metadata": {
        "id": "w140t6u8kOzu"
      },
      "source": [
        "# Joy 0.3 - if statement\n",
        "Joy 0.3 รองรับทุกฟีเจอร์ของ Joy 0.2 โดยมีฟีเจอร์เพิ่มเติมดังนี้\n",
        "\n",
        "---\n",
        "* รองรับการทำ flow control ในรูปแบบ: `if` *expr* `{` *statements* `}` โดยทำ *statements* เมื่อ *expr* มีค่าที่ไม่เท่ากับ 0\n",
        "---\n",
        "\n",
        "เป็นที่ทราบดีว่าโครงสร้าง `if` มีการทำงานตามโฟลว์ชาร์ท\n",
        "\n",
        "![flowchart-if.png](https://ecourse.cpe.ku.ac.th/courses/comsys/pics/flowchart-if.png)\n",
        "\n",
        "ซึ่งสามารถสร้างเป็นโค้ดแอสเซมบลี้อย่างตรงไปตรงมาดังนี้\n",
        "\n",
        "```\n",
        "* สร้างโค้ดคำนวณค่าให้ expr (ซึ่งเก็บผลลัพธ์ใน THIS ตามข้อตกลง)\n",
        "  :\n",
        "* สร้างโค้ดตรวจสอบค่า THIS หากเป็นศูนย์ให้กระโดดข้ามไปยังลาเบลที่วางปิดท้ายเอาไว้\n",
        "* สร้างโค้ดที่แปลจากคำสั่งใน if body\n",
        "  :\n",
        "* สร้างลาเบลปิดท้าย if\n",
        "```\n",
        "\n",
        "สิ่งหนึ่งที่ต้องระวังคือลาเบลสำหรับการกระโดดต้องไม่ซ้ำกับลาเบลอื่นในโค้ด\n",
        "\n",
        "คลาส Joy03 ด้านล่างมีการปรับปรุงแกรมมาร์เพิ่มเติมจาก Joy02 โดยเพิ่มนิยามกฎ `stmt_if` ลงไป และแก้กฎ `statement` ให้รองรับกฎ `stmt_if` เพิ่มเติม\n",
        "ส่วนของโค้ดเจเนอเรเตอร์มีการสร้างเมท็อด `stmt_if` สำหรับแปลโครงสร้าง `if` และมีการกำหนดตัวแปรสมาชิก `_label_count` ให้กับคลาสสำหรับติดตามและกำหนดหมายเลขให้ลาเบลไม่ให้ซ้ำซ้อน\n",
        "\n",
        "ในโค้ดแอสเซมบลี้ที่สร้างออกมายังมีการใส่คอมเม้นต์ไว้ตามจุดต่าง ๆ เพื่อช่วยในการดีบักโปรแกรม"
      ]
    },
    {
      "cell_type": "code",
      "metadata": {
        "id": "iVoqK8fPkKGY"
      },
      "source": [
        "class Joy03(Joy02):\n",
        "\n",
        "    GRAMMAR = r'''\n",
        "        program: statements\n",
        "        statements: statement*\n",
        "        statement: stmt_assign\n",
        "                 | stmt_if\n",
        "        stmt_assign: \"let\" ID \"=\" expr \";\"\n",
        "        stmt_if: \"if\" expr \"{\" statements \"}\"\n",
        "        expr: expr_const\n",
        "            | expr_id\n",
        "        expr_const: NUMBER\n",
        "        expr_id: ID\n",
        "\n",
        "        ID: /[_A-Za-z][_0-9A-Za-z]*/\n",
        "        NUMBER: /[0-9]+/\n",
        "        WS: /[ \\t\\f\\r\\n]+/\n",
        "        %ignore WS\n",
        "    '''\n",
        "\n",
        "    def __init__(self, **kwargs):\n",
        "        super().__init__(**kwargs)\n",
        "        self._label_count = 0  # keep track of generated jump labels\n",
        "\n",
        "    def gen_label_no(self):\n",
        "        self._label_count += 1\n",
        "        return self._label_count\n",
        "\n",
        "    def stmt_if(self, tree):\n",
        "        [expr, if_body] = tree.children\n",
        "        label = self.gen_label_no()\n",
        "        self._asm.append(f'''\n",
        "            //## begin-if-{label} ##\n",
        "        ''')\n",
        "        self.visit(expr)\n",
        "        # expr result is in THIS; if it is zero, jump over the body to the end-if label\n",
        "        self._asm.append(f'''\n",
        "            @THIS\n",
        "            D=M\n",
        "            @.endif.{label}\n",
        "            D;JEQ\n",
        "        ''')\n",
        "        # generate the body by visiting the statements node\n",
        "        self._asm.append(f'''\n",
        "            //## if-body-{label} ##\n",
        "        ''')\n",
        "        self.visit(if_body)\n",
        "        # place the end-if label here\n",
        "        self._asm.append(f'''\n",
        "            //## end-if-{label} ##\n",
        "            (.endif.{label})\n",
        "        ''')"
      ],
      "execution_count": null,
      "outputs": []
    },
    {
      "cell_type": "markdown",
      "metadata": {
        "id": "D5_tfy5tQgDL"
      },
      "source": [
        "ลองสร้างพาร์ซทรีจากโค้ดตัวอย่างเพื่อตรวจสอบว่าโหนด `stmt_if` ประกอบด้วยโหนดลูกอะไรบ้าง เพื่อจะได้ทำความเข้าใจโค้ดใน `stmt_if()` ด้านบนได้ง่ายขึ้น"
      ]
    },
    {
      "cell_type": "code",
      "metadata": {
        "id": "8FXS51-vkyBm",
        "colab": {
          "base_uri": "https://localhost:8080/",
          "height": 706
        },
        "outputId": "c66c7e08-91fb-4ae9-e66f-ed16a437975e"
      },
      "source": [
        "tree = Joy03().parse('''\n",
        "    let a = 8;\n",
        "    if a {\n",
        "        let b = 5;\n",
        "    }\n",
        "''')\n",
        "draw(tree)"
      ],
      "execution_count": null,
      "outputs": [
        {
          "output_type": "display_data",
          "data": {
            "image/svg+xml": "<?xml version=\"1.0\" encoding=\"UTF-8\" standalone=\"no\"?>\n<!DOCTYPE svg PUBLIC \"-//W3C//DTD SVG 1.1//EN\"\n \"http://www.w3.org/Graphics/SVG/1.1/DTD/svg11.dtd\">\n<!-- Generated by graphviz version 2.43.0 (0)\n -->\n<!-- Title: %3 Pages: 1 -->\n<svg width=\"317pt\" height=\"514pt\"\n viewBox=\"0.00 0.00 316.50 514.00\" xmlns=\"http://www.w3.org/2000/svg\" xmlns:xlink=\"http://www.w3.org/1999/xlink\">\n<g id=\"graph0\" class=\"graph\" transform=\"scale(1 1) rotate(0) translate(4 510)\">\n<title>%3</title>\n<polygon fill=\"white\" stroke=\"transparent\" points=\"-4,4 -4,-510 312.5,-510 312.5,4 -4,4\"/>\n<!-- n0 -->\n<g id=\"node1\" class=\"node\">\n<title>n0</title>\n<text text-anchor=\"middle\" x=\"120.5\" y=\"-494.8\" font-family=\"Times,serif\" font-size=\"14.00\">program</text>\n</g>\n<!-- n1 -->\n<g id=\"node2\" class=\"node\">\n<title>n1</title>\n<text text-anchor=\"middle\" x=\"120.5\" y=\"-443.8\" font-family=\"Times,serif\" font-size=\"14.00\">statements</text>\n</g>\n<!-- n0&#45;&#45;n1 -->\n<g id=\"edge19\" class=\"edge\">\n<title>n0&#45;&#45;n1</title>\n<path fill=\"none\" stroke=\"black\" d=\"M120.5,-490.69C120.5,-481.33 120.5,-464.59 120.5,-455.26\"/>\n</g>\n<!-- n2 -->\n<g id=\"node3\" class=\"node\">\n<title>n2</title>\n<text text-anchor=\"middle\" x=\"85.5\" y=\"-392.8\" font-family=\"Times,serif\" font-size=\"14.00\">statement</text>\n</g>\n<!-- n1&#45;&#45;n2 -->\n<g id=\"edge6\" class=\"edge\">\n<title>n1&#45;&#45;n2</title>\n<path fill=\"none\" stroke=\"black\" d=\"M115.63,-439.69C108.95,-430.33 96.99,-413.59 90.33,-404.26\"/>\n</g>\n<!-- n24 -->\n<g id=\"node9\" class=\"node\">\n<title>n24</title>\n<text text-anchor=\"middle\" x=\"160.5\" y=\"-392.8\" font-family=\"Times,serif\" font-size=\"14.00\">statement</text>\n</g>\n<!-- n1&#45;&#45;n24 -->\n<g id=\"edge18\" class=\"edge\">\n<title>n1&#45;&#45;n24</title>\n<path fill=\"none\" stroke=\"black\" d=\"M126.06,-439.69C133.7,-430.33 147.37,-413.59 154.99,-404.26\"/>\n</g>\n<!-- n3 -->\n<g id=\"node4\" class=\"node\">\n<title>n3</title>\n<text text-anchor=\"middle\" x=\"77.5\" y=\"-341.8\" font-family=\"Times,serif\" font-size=\"14.00\">stmt_assign</text>\n</g>\n<!-- n2&#45;&#45;n3 -->\n<g id=\"edge5\" class=\"edge\">\n<title>n2&#45;&#45;n3</title>\n<path fill=\"none\" stroke=\"black\" d=\"M84.39,-388.69C82.86,-379.33 80.13,-362.59 78.6,-353.26\"/>\n</g>\n<!-- n4 -->\n<g id=\"node5\" class=\"node\">\n<title>n4</title>\n<polygon fill=\"none\" stroke=\"black\" points=\"47,-302 0,-302 0,-279 47,-279 47,-302\"/>\n<text text-anchor=\"start\" x=\"8\" y=\"-287.8\" font-family=\"Times,serif\" font-size=\"14.00\">ID: </text>\n<text text-anchor=\"start\" x=\"30\" y=\"-287.8\" font-family=\"monospace\" font-size=\"14.00\" fill=\"brown\">a</text>\n</g>\n<!-- n3&#45;&#45;n4 -->\n<g id=\"edge1\" class=\"edge\">\n<title>n3&#45;&#45;n4</title>\n<path fill=\"none\" stroke=\"black\" d=\"M70.44,-337.57C61.29,-328.59 45.24,-312.84 34.49,-302.29\"/>\n</g>\n<!-- n5 -->\n<g id=\"node6\" class=\"node\">\n<title>n5</title>\n<text text-anchor=\"middle\" x=\"77.5\" y=\"-286.8\" font-family=\"Times,serif\" font-size=\"14.00\">expr</text>\n</g>\n<!-- n3&#45;&#45;n5 -->\n<g id=\"edge4\" class=\"edge\">\n<title>n3&#45;&#45;n5</title>\n<path fill=\"none\" stroke=\"black\" d=\"M77.5,-337.57C77.5,-327.36 77.5,-308.38 77.5,-298.26\"/>\n</g>\n<!-- n6 -->\n<g id=\"node7\" class=\"node\">\n<title>n6</title>\n<text text-anchor=\"middle\" x=\"75.5\" y=\"-231.8\" font-family=\"Times,serif\" font-size=\"14.00\">expr_const</text>\n</g>\n<!-- n5&#45;&#45;n6 -->\n<g id=\"edge3\" class=\"edge\">\n<title>n5&#45;&#45;n6</title>\n<path fill=\"none\" stroke=\"black\" d=\"M77.24,-282.57C76.85,-272.36 76.14,-253.38 75.76,-243.26\"/>\n</g>\n<!-- n7 -->\n<g id=\"node8\" class=\"node\">\n<title>n7</title>\n<polygon fill=\"none\" stroke=\"black\" points=\"119.5,-192 27.5,-192 27.5,-169 119.5,-169 119.5,-192\"/>\n<text text-anchor=\"start\" x=\"35.5\" y=\"-177.8\" font-family=\"Times,serif\" font-size=\"14.00\">NUMBER: </text>\n<text text-anchor=\"start\" x=\"102.5\" y=\"-177.8\" font-family=\"monospace\" font-size=\"14.00\" fill=\"brown\">8</text>\n</g>\n<!-- n6&#45;&#45;n7 -->\n<g id=\"edge2\" class=\"edge\">\n<title>n6&#45;&#45;n7</title>\n<path fill=\"none\" stroke=\"black\" d=\"M75.24,-227.57C74.9,-218.59 74.31,-202.84 73.91,-192.29\"/>\n</g>\n<!-- n25 -->\n<g id=\"node10\" class=\"node\">\n<title>n25</title>\n<text text-anchor=\"middle\" x=\"161.5\" y=\"-341.8\" font-family=\"Times,serif\" font-size=\"14.00\">stmt_if</text>\n</g>\n<!-- n24&#45;&#45;n25 -->\n<g id=\"edge17\" class=\"edge\">\n<title>n24&#45;&#45;n25</title>\n<path fill=\"none\" stroke=\"black\" d=\"M160.64,-388.69C160.83,-379.33 161.17,-362.59 161.36,-353.26\"/>\n</g>\n<!-- n26 -->\n<g id=\"node11\" class=\"node\">\n<title>n26</title>\n<text text-anchor=\"middle\" x=\"161.5\" y=\"-286.8\" font-family=\"Times,serif\" font-size=\"14.00\">expr</text>\n</g>\n<!-- n25&#45;&#45;n26 -->\n<g id=\"edge9\" class=\"edge\">\n<title>n25&#45;&#45;n26</title>\n<path fill=\"none\" stroke=\"black\" d=\"M161.5,-337.57C161.5,-327.36 161.5,-308.38 161.5,-298.26\"/>\n</g>\n<!-- n82 -->\n<g id=\"node14\" class=\"node\">\n<title>n82</title>\n<text text-anchor=\"middle\" x=\"226.5\" y=\"-286.8\" font-family=\"Times,serif\" font-size=\"14.00\">statements</text>\n</g>\n<!-- n25&#45;&#45;n82 -->\n<g id=\"edge16\" class=\"edge\">\n<title>n25&#45;&#45;n82</title>\n<path fill=\"none\" stroke=\"black\" d=\"M169.73,-337.79C182.17,-327.65 205.61,-308.53 218.13,-298.33\"/>\n</g>\n<!-- n27 -->\n<g id=\"node12\" class=\"node\">\n<title>n27</title>\n<text text-anchor=\"middle\" x=\"161.5\" y=\"-231.8\" font-family=\"Times,serif\" font-size=\"14.00\">expr_id</text>\n</g>\n<!-- n26&#45;&#45;n27 -->\n<g id=\"edge8\" class=\"edge\">\n<title>n26&#45;&#45;n27</title>\n<path fill=\"none\" stroke=\"black\" d=\"M161.5,-282.57C161.5,-272.36 161.5,-253.38 161.5,-243.26\"/>\n</g>\n<!-- n28 -->\n<g id=\"node13\" class=\"node\">\n<title>n28</title>\n<polygon fill=\"none\" stroke=\"black\" points=\"185,-192 138,-192 138,-169 185,-169 185,-192\"/>\n<text text-anchor=\"start\" x=\"146\" y=\"-177.8\" font-family=\"Times,serif\" font-size=\"14.00\">ID: </text>\n<text text-anchor=\"start\" x=\"168\" y=\"-177.8\" font-family=\"monospace\" font-size=\"14.00\" fill=\"brown\">a</text>\n</g>\n<!-- n27&#45;&#45;n28 -->\n<g id=\"edge7\" class=\"edge\">\n<title>n27&#45;&#45;n28</title>\n<path fill=\"none\" stroke=\"black\" d=\"M161.5,-227.57C161.5,-218.59 161.5,-202.84 161.5,-192.29\"/>\n</g>\n<!-- n83 -->\n<g id=\"node15\" class=\"node\">\n<title>n83</title>\n<text text-anchor=\"middle\" x=\"231.5\" y=\"-231.8\" font-family=\"Times,serif\" font-size=\"14.00\">statement</text>\n</g>\n<!-- n82&#45;&#45;n83 -->\n<g id=\"edge15\" class=\"edge\">\n<title>n82&#45;&#45;n83</title>\n<path fill=\"none\" stroke=\"black\" d=\"M227.15,-282.57C228.12,-272.36 229.91,-253.38 230.86,-243.26\"/>\n</g>\n<!-- n84 -->\n<g id=\"node16\" class=\"node\">\n<title>n84</title>\n<text text-anchor=\"middle\" x=\"235.5\" y=\"-176.8\" font-family=\"Times,serif\" font-size=\"14.00\">stmt_assign</text>\n</g>\n<!-- n83&#45;&#45;n84 -->\n<g id=\"edge14\" class=\"edge\">\n<title>n83&#45;&#45;n84</title>\n<path fill=\"none\" stroke=\"black\" d=\"M232.02,-227.57C232.79,-217.36 234.23,-198.38 234.99,-188.26\"/>\n</g>\n<!-- n85 -->\n<g id=\"node17\" class=\"node\">\n<title>n85</title>\n<polygon fill=\"none\" stroke=\"black\" points=\"232,-133 185,-133 185,-110 232,-110 232,-133\"/>\n<text text-anchor=\"start\" x=\"193\" y=\"-118.8\" font-family=\"Times,serif\" font-size=\"14.00\">ID: </text>\n<text text-anchor=\"start\" x=\"215\" y=\"-118.8\" font-family=\"monospace\" font-size=\"14.00\" fill=\"brown\">b</text>\n</g>\n<!-- n84&#45;&#45;n85 -->\n<g id=\"edge10\" class=\"edge\">\n<title>n84&#45;&#45;n85</title>\n<path fill=\"none\" stroke=\"black\" d=\"M232.4,-172.96C227.8,-163.25 219.12,-144.92 213.58,-133.23\"/>\n</g>\n<!-- n86 -->\n<g id=\"node18\" class=\"node\">\n<title>n86</title>\n<text text-anchor=\"middle\" x=\"262.5\" y=\"-117.8\" font-family=\"Times,serif\" font-size=\"14.00\">expr</text>\n</g>\n<!-- n84&#45;&#45;n86 -->\n<g id=\"edge13\" class=\"edge\">\n<title>n84&#45;&#45;n86</title>\n<path fill=\"none\" stroke=\"black\" d=\"M238.6,-172.96C243.75,-162.08 254.03,-140.37 259.27,-129.32\"/>\n</g>\n<!-- n87 -->\n<g id=\"node19\" class=\"node\">\n<title>n87</title>\n<text text-anchor=\"middle\" x=\"262.5\" y=\"-62.8\" font-family=\"Times,serif\" font-size=\"14.00\">expr_const</text>\n</g>\n<!-- n86&#45;&#45;n87 -->\n<g id=\"edge12\" class=\"edge\">\n<title>n86&#45;&#45;n87</title>\n<path fill=\"none\" stroke=\"black\" d=\"M262.5,-113.57C262.5,-103.36 262.5,-84.38 262.5,-74.26\"/>\n</g>\n<!-- n88 -->\n<g id=\"node20\" class=\"node\">\n<title>n88</title>\n<polygon fill=\"none\" stroke=\"black\" points=\"308.5,-23 216.5,-23 216.5,0 308.5,0 308.5,-23\"/>\n<text text-anchor=\"start\" x=\"224.5\" y=\"-8.8\" font-family=\"Times,serif\" font-size=\"14.00\">NUMBER: </text>\n<text text-anchor=\"start\" x=\"291.5\" y=\"-8.8\" font-family=\"monospace\" font-size=\"14.00\" fill=\"brown\">5</text>\n</g>\n<!-- n87&#45;&#45;n88 -->\n<g id=\"edge11\" class=\"edge\">\n<title>n87&#45;&#45;n88</title>\n<path fill=\"none\" stroke=\"black\" d=\"M262.5,-58.57C262.5,-49.59 262.5,-33.84 262.5,-23.29\"/>\n</g>\n</g>\n</svg>\n",
            "text/plain": [
              "<graphviz.graphs.Graph at 0x793e1429e8a0>"
            ]
          },
          "metadata": {}
        }
      ]
    },
    {
      "cell_type": "markdown",
      "metadata": {
        "id": "AitdyrFAQ2B2"
      },
      "source": [
        "รันโค้ดตัวอย่างเพื่อทดสอบ ทดลองเปลี่ยนค่า `a` ให้เป็น 0 หรือค่าอื่นเพื่อดูลำดับการทำงานของโปรแกรม"
      ]
    },
    {
      "cell_type": "code",
      "metadata": {
        "id": "ELh_7mtprZLp",
        "colab": {
          "base_uri": "https://localhost:8080/",
          "height": 640
        },
        "outputId": "686c80f8-811c-405f-eb13-17fa662e403d"
      },
      "source": [
        "asm = Joy03().compile('''\n",
        "    let a = 1;\n",
        "    if a {\n",
        "        let b = 5;\n",
        "    }\n",
        "''')\n",
        "assemble_and_simulate(asm)"
      ],
      "execution_count": null,
      "outputs": [
        {
          "output_type": "display_data",
          "data": {
            "text/html": [
              "\n",
              "<link rel=\"stylesheet\" href=\"https://jittat.gitlab.io/hacksim/sim.css\">\n",
              "<div id=\"sim-ui\">\n",
              "  <simulator v-bind:simulator=\"simulator\" memory-display-slots=\"30\" screen-scale=\"1\" v-bind:light-weight=\"false\" fastest-steps=\"103\"/>\n",
              "</div>\n",
              "\n",
              "<script>var exports = {};</script>\n",
              "<script src=\"https://cdn.jsdelivr.net/npm/vue/dist/vue.js\"></script>\n",
              "<script src=\"https://jittat.gitlab.io/hacksim/simulator.js\"></script>\n",
              "<script src=\"https://jittat.gitlab.io/hacksim/simulator-ui.js\"></script>\n",
              "\n",
              "<script>\n",
              "  var simulator = new HackSimulator();\n",
              "simulator.loadInstructions([1,60432,3,58120,3,64528,16,58120,16,64528,3,58120,3,64528,24,58114,5,60432,3,58120,3,64528,17,58120]);\n",
              "simulator.sourceCode = [{ \"lineNumber\" : null, \"code\" : \"// [THIS] <- 1\"}, { \"lineNumber\" : 0, \"code\" : \"@1\"}, { \"lineNumber\" : 1, \"code\" : \"D=A\"}, { \"lineNumber\" : 2, \"code\" : \"@THIS\"}, { \"lineNumber\" : 3, \"code\" : \"M=D\"}, { \"lineNumber\" : null, \"code\" : \"// [.var.a] <- [THIS]\"}, { \"lineNumber\" : 4, \"code\" : \"@THIS\"}, { \"lineNumber\" : 5, \"code\" : \"D=M\"}, { \"lineNumber\" : 6, \"code\" : \"@.var.a\"}, { \"lineNumber\" : 7, \"code\" : \"M=D\"}, { \"lineNumber\" : null, \"code\" : \"//## begin-if-1 ##\"}, { \"lineNumber\" : null, \"code\" : \"// [THIS] <- [.var.a]\"}, { \"lineNumber\" : 8, \"code\" : \"@.var.a\"}, { \"lineNumber\" : 9, \"code\" : \"D=M\"}, { \"lineNumber\" : 10, \"code\" : \"@THIS\"}, { \"lineNumber\" : 11, \"code\" : \"M=D\"}, { \"lineNumber\" : 12, \"code\" : \"@THIS\"}, { \"lineNumber\" : 13, \"code\" : \"D=M\"}, { \"lineNumber\" : 14, \"code\" : \"@.endif.1\"}, { \"lineNumber\" : 15, \"code\" : \"D;JEQ\"}, { \"lineNumber\" : null, \"code\" : \"//## if-body-1 ##\"}, { \"lineNumber\" : null, \"code\" : \"// [THIS] <- 5\"}, { \"lineNumber\" : 16, \"code\" : \"@5\"}, { \"lineNumber\" : 17, \"code\" : \"D=A\"}, { \"lineNumber\" : 18, \"code\" : \"@THIS\"}, { \"lineNumber\" : 19, \"code\" : \"M=D\"}, { \"lineNumber\" : null, \"code\" : \"// [.var.b] <- [THIS]\"}, { \"lineNumber\" : 20, \"code\" : \"@THIS\"}, { \"lineNumber\" : 21, \"code\" : \"D=M\"}, { \"lineNumber\" : 22, \"code\" : \"@.var.b\"}, { \"lineNumber\" : 23, \"code\" : \"M=D\"}, { \"lineNumber\" : null, \"code\" : \"//## end-if-1 ##\"}, { \"lineNumber\" : null, \"code\" : \"  (.endif.1)\"}]\n",
              "  simulator.memoryWriteCallbacks.push(memUpdateCallback);\n",
              "  simulator.memoryWriteCallbacks.push(screenUpdateCallback);\n",
              "\n",
              "  var app = new Vue({\n",
              "    el: '#sim-ui',\n",
              "    data: {\n",
              "      simulator: simulator\n",
              "    }\n",
              "  });\n",
              "</script>\n"
            ]
          },
          "metadata": {}
        }
      ]
    },
    {
      "cell_type": "markdown",
      "metadata": {
        "id": "lfwh8GMjoYud"
      },
      "source": [
        "## Test case\n",
        "\n",
        "รันตัวทดสอบ สังเกตว่า Joy 0.3 ต้องสามารถรองรับโครงสร้าง if ซ้อนกัน (nested if) ได้ด้วย\n",
        "\n",
        "**หมายเหตุ:** การใช้ `{{` และ `}}` ในโค้ดทดสอบนั้นไม่เกี่ยวกับภาษา Joy แต่อย่างใด **แต่ใช้ในการสร้างสตริงต้นแบบเพื่อเรียกใช้ในภาษาไพทอนโดยเมท็อด** `format()`"
      ]
    },
    {
      "cell_type": "code",
      "metadata": {
        "id": "8KumA9Lyxhlu",
        "colab": {
          "base_uri": "https://localhost:8080/"
        },
        "outputId": "d810960d-40be-4777-8d2e-71700346c859"
      },
      "source": [
        "class TestJoy03(TestJoy02):\n",
        "\n",
        "    JOY_COMPILER = Joy03\n",
        "\n",
        "    def test_stmt_if_true(self):\n",
        "        self.compile_and_run('''\n",
        "            let a = 8;\n",
        "            let b = 2;\n",
        "            if a {\n",
        "                let b = 20;\n",
        "            }\n",
        "        ''')\n",
        "        self.assertEqual(self.cpu.ram[17], 20)\n",
        "\n",
        "    def test_stmt_if_false(self):\n",
        "        self.compile_and_run('''\n",
        "            let a = 0;\n",
        "            let b = 2;\n",
        "            if a {\n",
        "                let b = 20;\n",
        "            }\n",
        "        ''')\n",
        "        self.assertEqual(self.cpu.ram[17], 2)\n",
        "\n",
        "    def test_stmt_if_nested(self):\n",
        "        template = '''\n",
        "            let a = {a};\n",
        "            let b = {b};\n",
        "            let c = 999;\n",
        "            if a {{\n",
        "                let c = 1;\n",
        "                if b {{\n",
        "                    let c = 2;\n",
        "                }}\n",
        "            }}\n",
        "        '''\n",
        "        self.compile_and_run(template.format(a=0, b=0))\n",
        "        self.assertEqual(self.cpu.ram[18], 999)\n",
        "        self.compile_and_run(template.format(a=1, b=0))\n",
        "        self.assertEqual(self.cpu.ram[18], 1)\n",
        "        self.compile_and_run(template.format(a=1, b=1))\n",
        "        self.assertEqual(self.cpu.ram[18], 2)\n",
        "\n",
        "run_test(TestJoy03)"
      ],
      "execution_count": null,
      "outputs": [
        {
          "output_type": "stream",
          "name": "stderr",
          "text": [
            ".......\n",
            "----------------------------------------------------------------------\n",
            "Ran 7 tests in 0.112s\n",
            "\n",
            "OK\n"
          ]
        }
      ]
    },
    {
      "cell_type": "markdown",
      "metadata": {
        "id": "CEGGODfcENw6"
      },
      "source": [
        "# Joy 0.4 - 16-bit constant\n",
        "\n",
        "Joy 0.4 รองรับฟีเจอร์ทั้งหมดของ Joy 0.3 และเพิ่มฟีเจอร์ดังนี้\n",
        "\n",
        "---\n",
        "* รองรับการกำหนดค่าคงที่แบบจำนวนเต็มลบ​\n",
        "* รองรับการกำหนดค่าคงที่แบบจำนวนเต็มที่มากกว่า 32767\n",
        "---"
      ]
    },
    {
      "cell_type": "markdown",
      "metadata": {
        "id": "9fwb24Nn7fl9"
      },
      "source": [
        "แกรมมาร์ของ Joy 0.3 นิยามโทเค็น NUMBER ที่รับเฉพาะจำนวนเต็มบวก\n",
        "ให้นิสิตแก้ไขแกรมมาร์ของ Joy 0.4 โดยกำหนดนิพจน์เรกูล่าร์ให้โทเค็น NUMBER ใหม่ เพื่อให้แมทช์จำนวนเต็มติดลบได้ด้วย\n",
        "\n",
        "นอกจากนั้นเมท็อด `expr_const()` ที่ผ่านมาอาศัยเมท็อด `gen_load_const()` ในการสร้างโค้ดสำหรับโหลดค่าคงที่ลงในหน่วยความจำตำแหน่ง THIS ผ่าน A-instruction ซึ่งรองรับค่าคงที่เป็นจำนวนเต็มที่มีขนาดไม่เกิน 15 บิต (มีค่าไม่เกิน 32767) และไม่รองรับค่าติดลบ ให้นิสิตนิยามเมท็อด `gen_load_const()` ทับของเดิม ให้รองรับค่าคงที่ได้ตั้งแต่ -32768 ถึง 65535 ได้\n",
        "\n",
        "## คำใบ้\n",
        "* อย่าลืมว่าเราทราบค่าของค่าคงที่เหล่านี้ ณ เวลาคอมไพล์ ดังนั้นจึงสามารถเขียนโค้ดไพทอนให้สร้างโค้ดแอสเซมบลี้ที่แตกต่างกันตามเงื่อนไขของค่าคงที่ได้"
      ]
    },
    {
      "cell_type": "code",
      "source": [
        "def gen_load_const(mem, val):\n",
        "    '''\n",
        "    Generate Hack assembly to load the memory location mem with the specified\n",
        "    integer val, where 0 <= val <= 32767.\n",
        "    '''\n",
        "    if val < 0 or val > 32767:\n",
        "        raise Exception(\"Invalid integer literal\")\n",
        "    return f'''\n",
        "        // [{mem}] <- {val}\n",
        "        @{val}\n",
        "        D=A\n",
        "        @{mem}\n",
        "        M=D\n",
        "    '''\n",
        "\n",
        "def gen_move(dst, src):\n",
        "    '''\n",
        "    Generate Hack assembly to copy the memory location src to the memory\n",
        "    location dst.\n",
        "    '''\n",
        "    return f'''\n",
        "        // [{dst}] <- [{src}]\n",
        "        @{src}\n",
        "        D=M\n",
        "        @{dst}\n",
        "        M=D\n",
        "    '''"
      ],
      "metadata": {
        "id": "jTQZik2NIsJ-"
      },
      "execution_count": null,
      "outputs": []
    },
    {
      "cell_type": "code",
      "metadata": {
        "id": "8McodBepx1rz"
      },
      "source": [
        "# DO NOT ERASE THIS CELL - to be graded\n",
        "class Joy04(Joy03):\n",
        "\n",
        "    GRAMMAR = r'''\n",
        "        program: statements\n",
        "        statements: statement*\n",
        "        statement: stmt_assign\n",
        "                 | stmt_if\n",
        "        stmt_assign: \"let\" ID \"=\" expr \";\"\n",
        "        stmt_if: \"if\" expr \"{\" statements \"}\"\n",
        "        expr: expr_const\n",
        "            | expr_id\n",
        "        expr_const: NUMBER\n",
        "        expr_id: ID\n",
        "\n",
        "        ID: /[_A-Za-z][_0-9A-Za-z]*/\n",
        "        NUMBER: /-?[0-9]+/\n",
        "        WS: /[ \\t\\f\\r\\n]+/\n",
        "        %ignore WS\n",
        "    '''\n",
        "\n",
        "    # Override Joy 0.3's gen_load_const()\n",
        "    def gen_load_const(self, mem, val):\n",
        "        '''\n",
        "        Generate Hack assembly to load the memory location mem with the specified\n",
        "        integer val, where -32768 <= val <= 65535.\n",
        "        '''\n",
        "        # put your new code here\n",
        "        if (0<=val<=32767) :\n",
        "          self._asm.append(f'''\n",
        "          //##Normal Number({val})##\n",
        "          ''')\n",
        "          self._asm.append(gen_load_const('THIS',val))\n",
        "        elif (32768<=val<=65535) :\n",
        "          x = val-32768\n",
        "          self._asm.append(f'''\n",
        "          //##High Number({val})##\n",
        "          @32767\n",
        "          D=A\n",
        "          @THIS\n",
        "          M=D\n",
        "          @{x}\n",
        "          D=A\n",
        "          @THIS\n",
        "          M=D+M\n",
        "          M=M+1\n",
        "          ''')\n",
        "        elif (val == -32768) :\n",
        "          self._asm.append(f'''\n",
        "          //##Specific Negative Number({val})##\n",
        "          @32767\n",
        "          D=A\n",
        "          D=D+1\n",
        "          D=!D\n",
        "          D=D+1\n",
        "          @THIS\n",
        "          M=D\n",
        "          ''')\n",
        "\n",
        "        else :\n",
        "          val = str(val)\n",
        "          val = val[1:]\n",
        "          self._asm.append(f'''\n",
        "          //##Negative Number({val})##\n",
        "          @{val}\n",
        "          D=A\n",
        "          D=!D\n",
        "          D=D+1\n",
        "          @THIS\n",
        "          M=D\n",
        "          ''')\n",
        "\n",
        "\n"
      ],
      "execution_count": null,
      "outputs": []
    },
    {
      "cell_type": "code",
      "source": [
        "-3%65536"
      ],
      "metadata": {
        "colab": {
          "base_uri": "https://localhost:8080/"
        },
        "id": "Z6_mKS1hKceX",
        "outputId": "a2b9fa57-fd56-463a-dd6f-0bc688d8e077"
      },
      "execution_count": null,
      "outputs": [
        {
          "output_type": "execute_result",
          "data": {
            "text/plain": [
              "65533"
            ]
          },
          "metadata": {},
          "execution_count": 38
        }
      ]
    },
    {
      "cell_type": "code",
      "metadata": {
        "id": "I9lohY-CA8-f",
        "colab": {
          "base_uri": "https://localhost:8080/",
          "height": 640
        },
        "outputId": "2be1a73d-b3af-4d4e-9220-8460a967d76c"
      },
      "source": [
        "# พื้นที่ทดสอบ\n",
        "asm1 = Joy04().compile(\"\"\"\n",
        "\n",
        "    let c = -32768;\n",
        "\n",
        "\"\"\")\n",
        "asm2 = \"\"\"\n",
        "@0\n",
        "\"\"\"\n",
        "\n",
        "asm = Joy04().compile(\"\"\"\n",
        "    let a = -3;\n",
        "    let b = 65535;\n",
        "    let c = 32768;\n",
        "    let d = -1;\n",
        "    let e = -32768;\n",
        "\"\"\")\n",
        "assemble_and_simulate(asm)"
      ],
      "execution_count": null,
      "outputs": [
        {
          "output_type": "display_data",
          "data": {
            "text/html": [
              "\n",
              "<link rel=\"stylesheet\" href=\"https://jittat.gitlab.io/hacksim/sim.css\">\n",
              "<div id=\"sim-ui\">\n",
              "  <simulator v-bind:simulator=\"simulator\" memory-display-slots=\"30\" screen-scale=\"1\" v-bind:light-weight=\"false\" fastest-steps=\"103\"/>\n",
              "</div>\n",
              "\n",
              "<script>var exports = {};</script>\n",
              "<script src=\"https://cdn.jsdelivr.net/npm/vue/dist/vue.js\"></script>\n",
              "<script src=\"https://jittat.gitlab.io/hacksim/simulator.js\"></script>\n",
              "<script src=\"https://jittat.gitlab.io/hacksim/simulator-ui.js\"></script>\n",
              "\n",
              "<script>\n",
              "  var simulator = new HackSimulator();\n",
              "simulator.loadInstructions([3,60432,58192,59344,3,58120,3,64528,16,58120,32767,60432,3,58120,32767,60432,3,61576,64968,3,64528,17,58120,32767,60432,3,58120,0,60432,3,61576,64968,3,64528,18,58120,1,60432,58192,59344,3,58120,3,64528,19,58120,32767,60432,59344,58192,59344,3,58120,3,64528,20,58120]);\n",
              "simulator.sourceCode = [{ \"lineNumber\" : null, \"code\" : \"//##Negative Number(3)##\"}, { \"lineNumber\" : 0, \"code\" : \"@3\"}, { \"lineNumber\" : 1, \"code\" : \"D=A\"}, { \"lineNumber\" : 2, \"code\" : \"D=!D\"}, { \"lineNumber\" : 3, \"code\" : \"D=D+1\"}, { \"lineNumber\" : 4, \"code\" : \"@THIS\"}, { \"lineNumber\" : 5, \"code\" : \"M=D\"}, { \"lineNumber\" : null, \"code\" : \"// [.var.a] <- [THIS]\"}, { \"lineNumber\" : 6, \"code\" : \"@THIS\"}, { \"lineNumber\" : 7, \"code\" : \"D=M\"}, { \"lineNumber\" : 8, \"code\" : \"@.var.a\"}, { \"lineNumber\" : 9, \"code\" : \"M=D\"}, { \"lineNumber\" : null, \"code\" : \"//##High Number(65535)##\"}, { \"lineNumber\" : 10, \"code\" : \"@32767\"}, { \"lineNumber\" : 11, \"code\" : \"D=A\"}, { \"lineNumber\" : 12, \"code\" : \"@THIS\"}, { \"lineNumber\" : 13, \"code\" : \"M=D\"}, { \"lineNumber\" : 14, \"code\" : \"@32767\"}, { \"lineNumber\" : 15, \"code\" : \"D=A\"}, { \"lineNumber\" : 16, \"code\" : \"@THIS\"}, { \"lineNumber\" : 17, \"code\" : \"M=D+M\"}, { \"lineNumber\" : 18, \"code\" : \"M=M+1\"}, { \"lineNumber\" : null, \"code\" : \"// [.var.b] <- [THIS]\"}, { \"lineNumber\" : 19, \"code\" : \"@THIS\"}, { \"lineNumber\" : 20, \"code\" : \"D=M\"}, { \"lineNumber\" : 21, \"code\" : \"@.var.b\"}, { \"lineNumber\" : 22, \"code\" : \"M=D\"}, { \"lineNumber\" : null, \"code\" : \"//##High Number(32768)##\"}, { \"lineNumber\" : 23, \"code\" : \"@32767\"}, { \"lineNumber\" : 24, \"code\" : \"D=A\"}, { \"lineNumber\" : 25, \"code\" : \"@THIS\"}, { \"lineNumber\" : 26, \"code\" : \"M=D\"}, { \"lineNumber\" : 27, \"code\" : \"@0\"}, { \"lineNumber\" : 28, \"code\" : \"D=A\"}, { \"lineNumber\" : 29, \"code\" : \"@THIS\"}, { \"lineNumber\" : 30, \"code\" : \"M=D+M\"}, { \"lineNumber\" : 31, \"code\" : \"M=M+1\"}, { \"lineNumber\" : null, \"code\" : \"// [.var.c] <- [THIS]\"}, { \"lineNumber\" : 32, \"code\" : \"@THIS\"}, { \"lineNumber\" : 33, \"code\" : \"D=M\"}, { \"lineNumber\" : 34, \"code\" : \"@.var.c\"}, { \"lineNumber\" : 35, \"code\" : \"M=D\"}, { \"lineNumber\" : null, \"code\" : \"//##Negative Number(1)##\"}, { \"lineNumber\" : 36, \"code\" : \"@1\"}, { \"lineNumber\" : 37, \"code\" : \"D=A\"}, { \"lineNumber\" : 38, \"code\" : \"D=!D\"}, { \"lineNumber\" : 39, \"code\" : \"D=D+1\"}, { \"lineNumber\" : 40, \"code\" : \"@THIS\"}, { \"lineNumber\" : 41, \"code\" : \"M=D\"}, { \"lineNumber\" : null, \"code\" : \"// [.var.d] <- [THIS]\"}, { \"lineNumber\" : 42, \"code\" : \"@THIS\"}, { \"lineNumber\" : 43, \"code\" : \"D=M\"}, { \"lineNumber\" : 44, \"code\" : \"@.var.d\"}, { \"lineNumber\" : 45, \"code\" : \"M=D\"}, { \"lineNumber\" : null, \"code\" : \"//##Specific Negative Number(-32768)##\"}, { \"lineNumber\" : 46, \"code\" : \"@32767\"}, { \"lineNumber\" : 47, \"code\" : \"D=A\"}, { \"lineNumber\" : 48, \"code\" : \"D=D+1\"}, { \"lineNumber\" : 49, \"code\" : \"D=!D\"}, { \"lineNumber\" : 50, \"code\" : \"D=D+1\"}, { \"lineNumber\" : 51, \"code\" : \"@THIS\"}, { \"lineNumber\" : 52, \"code\" : \"M=D\"}, { \"lineNumber\" : null, \"code\" : \"// [.var.e] <- [THIS]\"}, { \"lineNumber\" : 53, \"code\" : \"@THIS\"}, { \"lineNumber\" : 54, \"code\" : \"D=M\"}, { \"lineNumber\" : 55, \"code\" : \"@.var.e\"}, { \"lineNumber\" : 56, \"code\" : \"M=D\"}]\n",
              "  simulator.memoryWriteCallbacks.push(memUpdateCallback);\n",
              "  simulator.memoryWriteCallbacks.push(screenUpdateCallback);\n",
              "\n",
              "  var app = new Vue({\n",
              "    el: '#sim-ui',\n",
              "    data: {\n",
              "      simulator: simulator\n",
              "    }\n",
              "  });\n",
              "</script>\n"
            ]
          },
          "metadata": {}
        }
      ]
    },
    {
      "cell_type": "markdown",
      "metadata": {
        "id": "agSM1Wgd_q5U"
      },
      "source": [
        "## Test case"
      ]
    },
    {
      "cell_type": "code",
      "metadata": {
        "id": "_eyaT0511z05",
        "colab": {
          "base_uri": "https://localhost:8080/"
        },
        "outputId": "6268edbd-3ea6-4ef7-ff7e-fe8b01ed966e"
      },
      "source": [
        "# DO NOT MODIFY\n",
        "class TestJoy04(TestJoy03):\n",
        "\n",
        "    JOY_COMPILER = Joy04\n",
        "\n",
        "    def _check_other_mem(self):\n",
        "        self.assertEqual(self.cpu.ram[20:30], [0]*10)\n",
        "\n",
        "    def test_expr_negative_constant(self):\n",
        "        self.compile_and_run('''\n",
        "            let a = -3;\n",
        "            let b = -32766;\n",
        "            let c = -32767;\n",
        "            let d = -32768;\n",
        "        ''')\n",
        "        self.assertEqual(self.cpu.ram[16], (-3)%65536)\n",
        "        self.assertEqual(self.cpu.ram[17], (-32766)%65536)\n",
        "        self.assertEqual(self.cpu.ram[18], (-32767)%65536)\n",
        "        self.assertEqual(self.cpu.ram[19], (-32768)%65536)\n",
        "        self._check_other_mem()\n",
        "\n",
        "    def test_expr_big_constant(self):\n",
        "        self.compile_and_run('''\n",
        "            let a = 32768;\n",
        "            let b = 32769;\n",
        "            let c = 65534;\n",
        "            let d = 65535;\n",
        "        ''')\n",
        "        self.assertEqual(self.cpu.ram[16], 32768)\n",
        "        self.assertEqual(self.cpu.ram[17], 32769)\n",
        "        self.assertEqual(self.cpu.ram[18], 65534)\n",
        "        self.assertEqual(self.cpu.ram[19], 65535)\n",
        "        self._check_other_mem()\n",
        "\n",
        "run_test(TestJoy04)"
      ],
      "execution_count": null,
      "outputs": [
        {
          "output_type": "stream",
          "name": "stderr",
          "text": [
            ".........\n",
            "----------------------------------------------------------------------\n",
            "Ran 9 tests in 0.208s\n",
            "\n",
            "OK\n"
          ]
        }
      ]
    },
    {
      "cell_type": "markdown",
      "metadata": {
        "id": "iSbtk91vldmU"
      },
      "source": [
        "# Joy 0.5 - if..else statement\n",
        "Joy 0.5 รองรับฟีเจอร์ทั้งหมดของ Joy 0.4 และเพิ่มฟีเจอร์ดังนี้\n",
        "\n",
        "---\n",
        "* รองรับโครงสร้าง if..else ในรูปแบบ: `if` *expr* `{` *if-statements* `}` `else` `{` *else-statements* `}` โดยที่เมื่อ *expr* ไม่เท่ากับศูนย์ ชุดคำสั่ง *if-statements* จะถูกเรียกทำงาน และเมื่อ *expr* เท่ากับศูนย์ ชุดคำสั่ง *else-statements* จะถูกเรียกทำงาน\n",
        "---\n",
        "\n",
        "นิยามคลาส `Joy05` ด้านล่างให้สมบูรณ์ โดยเพิ่มกฎใหม่ลงในแกรมมาร์ให้รองรับโครงสร้าง if..else และเพิ่มเมท็อดใหม่สำหรับสร้างโค้ดให้กับกฎนั้น\n",
        "\n",
        "**คำใบ้:** แนะนำให้เขียนโฟลว์ชาร์ทของโครงสร้าง if..else ออกมาดูก่อน จะช่วยให้เห็นภาพชัดเจนขึ้นว่าควรวางลาเบลสำหรับกระโดดที่จุดใดบ้าง"
      ]
    },
    {
      "cell_type": "code",
      "source": [
        "#If a (a=0 JUMP)\n",
        "#If statement\n",
        "#(JUMP IF 1)\n",
        "#Else {statement}"
      ],
      "metadata": {
        "id": "fcfnzxnBZQzR"
      },
      "execution_count": null,
      "outputs": []
    },
    {
      "cell_type": "code",
      "metadata": {
        "id": "ge0apPpony4D"
      },
      "source": [
        "# DO NOT ERASE - to be graded\n",
        "class Joy05(Joy04):\n",
        "\n",
        "    GRAMMAR = r'''\n",
        "        program: statements\n",
        "        statements: statement*\n",
        "        statement: stmt_assign\n",
        "                 | stmt_if\n",
        "                 | stmt_if_else\n",
        "        stmt_assign: \"let\" ID \"=\" expr \";\"\n",
        "        stmt_if: \"if\" expr \"{\" statements \"}\"\n",
        "        stmt_if_else : \"if\" expr \"{\" statements \"}\" \"else\" \"{\" statements \"}\"\n",
        "        expr: expr_const\n",
        "            | expr_id\n",
        "        expr_const: NUMBER\n",
        "        expr_id: ID\n",
        "\n",
        "        ID: /[_A-Za-z][_0-9A-Za-z]*/\n",
        "        NUMBER: /-?[0-9]+/\n",
        "        WS: /[ \\t\\f\\r\\n]+/\n",
        "        %ignore WS\n",
        "    '''\n",
        "\n",
        "    # define a method to handle the new rule in the grammar\n",
        "    def gen_label_no(self):\n",
        "        self._label_count += 1\n",
        "        return self._label_count\n",
        "\n",
        "    def stmt_if(self, tree):\n",
        "        [expr, if_body] = tree.children\n",
        "        label = self.gen_label_no()\n",
        "        self._asm.append(f'''\n",
        "            //## begin-if-{label} ##\n",
        "        ''')\n",
        "        self.visit(expr)\n",
        "        # expr result is in THIS; if it is zero, jump over the body to the end-if label\n",
        "        self._asm.append(f'''\n",
        "            @THIS\n",
        "            D=M\n",
        "            @.endif.{label}\n",
        "            D;JEQ\n",
        "        ''')\n",
        "        # generate the body by visiting the statements node\n",
        "        self._asm.append(f'''\n",
        "            //## if-body-{label} ##\n",
        "        ''')\n",
        "        self.visit(if_body)\n",
        "        # place the end-if label here\n",
        "        self._asm.append(f'''\n",
        "            //## end-if-{label} ##\n",
        "            (.endif.{label})\n",
        "        ''')\n",
        "\n",
        "    def stmt_if_else(self, tree):\n",
        "      [expr, if_body,else_body] = tree.children\n",
        "      label = self.gen_label_no()\n",
        "      self._asm.append(f'''\n",
        "          //## begin-if-{label} ##\n",
        "      ''')\n",
        "      self.visit(expr)\n",
        "      print(self.visit(expr))\n",
        "      # expr result is in THIS; if it is zero, jump over the body to the end-if label\n",
        "      self._asm.append(f'''\n",
        "          @THIS\n",
        "          D=M\n",
        "          @.endif.{label}\n",
        "          D;JEQ\n",
        "      ''')\n",
        "      # generate the body by visiting the statements node\n",
        "      self._asm.append(f'''\n",
        "          //## if-body-{label} ##\n",
        "      ''')\n",
        "      self.visit(if_body)\n",
        "      # place the end-if label here\n",
        "      self._asm.append(f'''\n",
        "          @THIS\n",
        "          D=M\n",
        "          @.endelse.{label}\n",
        "          D;JNE\n",
        "          //## end-if-{label} ##\n",
        "          (.endif.{label})\n",
        "      ''')                    #Start Else\n",
        "      self._asm.append(f'''\n",
        "      //##else body {label}##\n",
        "      ''')\n",
        "      self.visit(else_body)\n",
        "      self._asm.append(f'''\n",
        "      //##end else body {label}##\n",
        "      (.endelse.{label})\n",
        "      ''')\n",
        "\n"
      ],
      "execution_count": null,
      "outputs": []
    },
    {
      "cell_type": "code",
      "metadata": {
        "id": "XnxAf7S4CBOv",
        "colab": {
          "base_uri": "https://localhost:8080/",
          "height": 706
        },
        "outputId": "185ce865-10d3-49b3-c085-19c562ca1719"
      },
      "source": [
        "# พื้นที่ทดสอบ\n",
        "code = \"\"\"\n",
        "    let a = 1;\n",
        "    if a {\n",
        "        let b = 123;\n",
        "    }\n",
        "    else {\n",
        "        let b = 456;\n",
        "    }\n",
        "\"\"\"\n",
        "draw(Joy05().parse(code))"
      ],
      "execution_count": null,
      "outputs": [
        {
          "output_type": "display_data",
          "data": {
            "image/svg+xml": "<?xml version=\"1.0\" encoding=\"UTF-8\" standalone=\"no\"?>\n<!DOCTYPE svg PUBLIC \"-//W3C//DTD SVG 1.1//EN\"\n \"http://www.w3.org/Graphics/SVG/1.1/DTD/svg11.dtd\">\n<!-- Generated by graphviz version 2.43.0 (0)\n -->\n<!-- Title: %3 Pages: 1 -->\n<svg width=\"421pt\" height=\"514pt\"\n viewBox=\"0.00 0.00 420.50 514.00\" xmlns=\"http://www.w3.org/2000/svg\" xmlns:xlink=\"http://www.w3.org/1999/xlink\">\n<g id=\"graph0\" class=\"graph\" transform=\"scale(1 1) rotate(0) translate(4 510)\">\n<title>%3</title>\n<polygon fill=\"white\" stroke=\"transparent\" points=\"-4,4 -4,-510 416.5,-510 416.5,4 -4,4\"/>\n<!-- n0 -->\n<g id=\"node1\" class=\"node\">\n<title>n0</title>\n<text text-anchor=\"middle\" x=\"118.5\" y=\"-494.8\" font-family=\"Times,serif\" font-size=\"14.00\">program</text>\n</g>\n<!-- n1 -->\n<g id=\"node2\" class=\"node\">\n<title>n1</title>\n<text text-anchor=\"middle\" x=\"118.5\" y=\"-443.8\" font-family=\"Times,serif\" font-size=\"14.00\">statements</text>\n</g>\n<!-- n0&#45;&#45;n1 -->\n<g id=\"edge26\" class=\"edge\">\n<title>n0&#45;&#45;n1</title>\n<path fill=\"none\" stroke=\"black\" d=\"M118.5,-490.69C118.5,-481.33 118.5,-464.59 118.5,-455.26\"/>\n</g>\n<!-- n2 -->\n<g id=\"node3\" class=\"node\">\n<title>n2</title>\n<text text-anchor=\"middle\" x=\"83.5\" y=\"-392.8\" font-family=\"Times,serif\" font-size=\"14.00\">statement</text>\n</g>\n<!-- n1&#45;&#45;n2 -->\n<g id=\"edge6\" class=\"edge\">\n<title>n1&#45;&#45;n2</title>\n<path fill=\"none\" stroke=\"black\" d=\"M113.63,-439.69C106.95,-430.33 94.99,-413.59 88.33,-404.26\"/>\n</g>\n<!-- n24 -->\n<g id=\"node9\" class=\"node\">\n<title>n24</title>\n<text text-anchor=\"middle\" x=\"157.5\" y=\"-392.8\" font-family=\"Times,serif\" font-size=\"14.00\">statement</text>\n</g>\n<!-- n1&#45;&#45;n24 -->\n<g id=\"edge25\" class=\"edge\">\n<title>n1&#45;&#45;n24</title>\n<path fill=\"none\" stroke=\"black\" d=\"M123.92,-439.69C131.37,-430.33 144.7,-413.59 152.12,-404.26\"/>\n</g>\n<!-- n3 -->\n<g id=\"node4\" class=\"node\">\n<title>n3</title>\n<text text-anchor=\"middle\" x=\"77.5\" y=\"-341.8\" font-family=\"Times,serif\" font-size=\"14.00\">stmt_assign</text>\n</g>\n<!-- n2&#45;&#45;n3 -->\n<g id=\"edge5\" class=\"edge\">\n<title>n2&#45;&#45;n3</title>\n<path fill=\"none\" stroke=\"black\" d=\"M82.67,-388.69C81.52,-379.33 79.47,-362.59 78.33,-353.26\"/>\n</g>\n<!-- n4 -->\n<g id=\"node5\" class=\"node\">\n<title>n4</title>\n<polygon fill=\"none\" stroke=\"black\" points=\"47,-302 0,-302 0,-279 47,-279 47,-302\"/>\n<text text-anchor=\"start\" x=\"8\" y=\"-287.8\" font-family=\"Times,serif\" font-size=\"14.00\">ID: </text>\n<text text-anchor=\"start\" x=\"30\" y=\"-287.8\" font-family=\"monospace\" font-size=\"14.00\" fill=\"brown\">a</text>\n</g>\n<!-- n3&#45;&#45;n4 -->\n<g id=\"edge1\" class=\"edge\">\n<title>n3&#45;&#45;n4</title>\n<path fill=\"none\" stroke=\"black\" d=\"M70.44,-337.57C61.29,-328.59 45.24,-312.84 34.49,-302.29\"/>\n</g>\n<!-- n5 -->\n<g id=\"node6\" class=\"node\">\n<title>n5</title>\n<text text-anchor=\"middle\" x=\"77.5\" y=\"-286.8\" font-family=\"Times,serif\" font-size=\"14.00\">expr</text>\n</g>\n<!-- n3&#45;&#45;n5 -->\n<g id=\"edge4\" class=\"edge\">\n<title>n3&#45;&#45;n5</title>\n<path fill=\"none\" stroke=\"black\" d=\"M77.5,-337.57C77.5,-327.36 77.5,-308.38 77.5,-298.26\"/>\n</g>\n<!-- n6 -->\n<g id=\"node7\" class=\"node\">\n<title>n6</title>\n<text text-anchor=\"middle\" x=\"76.5\" y=\"-231.8\" font-family=\"Times,serif\" font-size=\"14.00\">expr_const</text>\n</g>\n<!-- n5&#45;&#45;n6 -->\n<g id=\"edge3\" class=\"edge\">\n<title>n5&#45;&#45;n6</title>\n<path fill=\"none\" stroke=\"black\" d=\"M77.37,-282.57C77.18,-272.36 76.82,-253.38 76.63,-243.26\"/>\n</g>\n<!-- n7 -->\n<g id=\"node8\" class=\"node\">\n<title>n7</title>\n<polygon fill=\"none\" stroke=\"black\" points=\"108.5,-192 16.5,-192 16.5,-169 108.5,-169 108.5,-192\"/>\n<text text-anchor=\"start\" x=\"24.5\" y=\"-177.8\" font-family=\"Times,serif\" font-size=\"14.00\">NUMBER: </text>\n<text text-anchor=\"start\" x=\"91.5\" y=\"-177.8\" font-family=\"monospace\" font-size=\"14.00\" fill=\"brown\">1</text>\n</g>\n<!-- n6&#45;&#45;n7 -->\n<g id=\"edge2\" class=\"edge\">\n<title>n6&#45;&#45;n7</title>\n<path fill=\"none\" stroke=\"black\" d=\"M74.67,-227.57C72.3,-218.59 68.14,-202.84 65.35,-192.29\"/>\n</g>\n<!-- n25 -->\n<g id=\"node10\" class=\"node\">\n<title>n25</title>\n<text text-anchor=\"middle\" x=\"163.5\" y=\"-341.8\" font-family=\"Times,serif\" font-size=\"14.00\">stmt_if_else</text>\n</g>\n<!-- n24&#45;&#45;n25 -->\n<g id=\"edge24\" class=\"edge\">\n<title>n24&#45;&#45;n25</title>\n<path fill=\"none\" stroke=\"black\" d=\"M158.33,-388.69C159.48,-379.33 161.53,-362.59 162.67,-353.26\"/>\n</g>\n<!-- n26 -->\n<g id=\"node11\" class=\"node\">\n<title>n26</title>\n<text text-anchor=\"middle\" x=\"154.5\" y=\"-286.8\" font-family=\"Times,serif\" font-size=\"14.00\">expr</text>\n</g>\n<!-- n25&#45;&#45;n26 -->\n<g id=\"edge9\" class=\"edge\">\n<title>n25&#45;&#45;n26</title>\n<path fill=\"none\" stroke=\"black\" d=\"M162.32,-337.57C160.59,-327.36 157.37,-308.38 155.65,-298.26\"/>\n</g>\n<!-- n82 -->\n<g id=\"node14\" class=\"node\">\n<title>n82</title>\n<text text-anchor=\"middle\" x=\"219.5\" y=\"-286.8\" font-family=\"Times,serif\" font-size=\"14.00\">statements</text>\n</g>\n<!-- n25&#45;&#45;n82 -->\n<g id=\"edge16\" class=\"edge\">\n<title>n25&#45;&#45;n82</title>\n<path fill=\"none\" stroke=\"black\" d=\"M170.82,-337.57C181.61,-327.36 201.66,-308.38 212.35,-298.26\"/>\n</g>\n<!-- n511 -->\n<g id=\"node21\" class=\"node\">\n<title>n511</title>\n<text text-anchor=\"middle\" x=\"299.5\" y=\"-286.8\" font-family=\"Times,serif\" font-size=\"14.00\">statements</text>\n</g>\n<!-- n25&#45;&#45;n511 -->\n<g id=\"edge23\" class=\"edge\">\n<title>n25&#45;&#45;n511</title>\n<path fill=\"none\" stroke=\"black\" d=\"M180.45,-337.89C206.65,-327.68 256.69,-308.18 282.76,-298.02\"/>\n</g>\n<!-- n27 -->\n<g id=\"node12\" class=\"node\">\n<title>n27</title>\n<text text-anchor=\"middle\" x=\"152.5\" y=\"-231.8\" font-family=\"Times,serif\" font-size=\"14.00\">expr_id</text>\n</g>\n<!-- n26&#45;&#45;n27 -->\n<g id=\"edge8\" class=\"edge\">\n<title>n26&#45;&#45;n27</title>\n<path fill=\"none\" stroke=\"black\" d=\"M154.24,-282.57C153.85,-272.36 153.14,-253.38 152.76,-243.26\"/>\n</g>\n<!-- n28 -->\n<g id=\"node13\" class=\"node\">\n<title>n28</title>\n<polygon fill=\"none\" stroke=\"black\" points=\"174,-192 127,-192 127,-169 174,-169 174,-192\"/>\n<text text-anchor=\"start\" x=\"135\" y=\"-177.8\" font-family=\"Times,serif\" font-size=\"14.00\">ID: </text>\n<text text-anchor=\"start\" x=\"157\" y=\"-177.8\" font-family=\"monospace\" font-size=\"14.00\" fill=\"brown\">a</text>\n</g>\n<!-- n27&#45;&#45;n28 -->\n<g id=\"edge7\" class=\"edge\">\n<title>n27&#45;&#45;n28</title>\n<path fill=\"none\" stroke=\"black\" d=\"M152.24,-227.57C151.9,-218.59 151.31,-202.84 150.91,-192.29\"/>\n</g>\n<!-- n83 -->\n<g id=\"node15\" class=\"node\">\n<title>n83</title>\n<text text-anchor=\"middle\" x=\"222.5\" y=\"-231.8\" font-family=\"Times,serif\" font-size=\"14.00\">statement</text>\n</g>\n<!-- n82&#45;&#45;n83 -->\n<g id=\"edge15\" class=\"edge\">\n<title>n82&#45;&#45;n83</title>\n<path fill=\"none\" stroke=\"black\" d=\"M219.89,-282.57C220.47,-272.36 221.54,-253.38 222.12,-243.26\"/>\n</g>\n<!-- n84 -->\n<g id=\"node16\" class=\"node\">\n<title>n84</title>\n<text text-anchor=\"middle\" x=\"224.5\" y=\"-176.8\" font-family=\"Times,serif\" font-size=\"14.00\">stmt_assign</text>\n</g>\n<!-- n83&#45;&#45;n84 -->\n<g id=\"edge14\" class=\"edge\">\n<title>n83&#45;&#45;n84</title>\n<path fill=\"none\" stroke=\"black\" d=\"M222.76,-227.57C223.15,-217.36 223.86,-198.38 224.24,-188.26\"/>\n</g>\n<!-- n85 -->\n<g id=\"node17\" class=\"node\">\n<title>n85</title>\n<polygon fill=\"none\" stroke=\"black\" points=\"197,-133 150,-133 150,-110 197,-110 197,-133\"/>\n<text text-anchor=\"start\" x=\"158\" y=\"-118.8\" font-family=\"Times,serif\" font-size=\"14.00\">ID: </text>\n<text text-anchor=\"start\" x=\"180\" y=\"-118.8\" font-family=\"monospace\" font-size=\"14.00\" fill=\"brown\">b</text>\n</g>\n<!-- n84&#45;&#45;n85 -->\n<g id=\"edge10\" class=\"edge\">\n<title>n84&#45;&#45;n85</title>\n<path fill=\"none\" stroke=\"black\" d=\"M218.65,-172.96C209.96,-163.25 193.56,-144.92 183.1,-133.23\"/>\n</g>\n<!-- n86 -->\n<g id=\"node18\" class=\"node\">\n<title>n86</title>\n<text text-anchor=\"middle\" x=\"227.5\" y=\"-117.8\" font-family=\"Times,serif\" font-size=\"14.00\">expr</text>\n</g>\n<!-- n84&#45;&#45;n86 -->\n<g id=\"edge13\" class=\"edge\">\n<title>n84&#45;&#45;n86</title>\n<path fill=\"none\" stroke=\"black\" d=\"M224.84,-172.96C225.42,-162.08 226.56,-140.37 227.14,-129.32\"/>\n</g>\n<!-- n87 -->\n<g id=\"node19\" class=\"node\">\n<title>n87</title>\n<text text-anchor=\"middle\" x=\"227.5\" y=\"-62.8\" font-family=\"Times,serif\" font-size=\"14.00\">expr_const</text>\n</g>\n<!-- n86&#45;&#45;n87 -->\n<g id=\"edge12\" class=\"edge\">\n<title>n86&#45;&#45;n87</title>\n<path fill=\"none\" stroke=\"black\" d=\"M227.5,-113.57C227.5,-103.36 227.5,-84.38 227.5,-74.26\"/>\n</g>\n<!-- n88 -->\n<g id=\"node20\" class=\"node\">\n<title>n88</title>\n<polygon fill=\"none\" stroke=\"black\" points=\"281.5,-23 173.5,-23 173.5,0 281.5,0 281.5,-23\"/>\n<text text-anchor=\"start\" x=\"181.5\" y=\"-8.8\" font-family=\"Times,serif\" font-size=\"14.00\">NUMBER: </text>\n<text text-anchor=\"start\" x=\"248.5\" y=\"-8.8\" font-family=\"monospace\" font-size=\"14.00\" fill=\"brown\">123</text>\n</g>\n<!-- n87&#45;&#45;n88 -->\n<g id=\"edge11\" class=\"edge\">\n<title>n87&#45;&#45;n88</title>\n<path fill=\"none\" stroke=\"black\" d=\"M227.5,-58.57C227.5,-49.59 227.5,-33.84 227.5,-23.29\"/>\n</g>\n<!-- n512 -->\n<g id=\"node22\" class=\"node\">\n<title>n512</title>\n<text text-anchor=\"middle\" x=\"301.5\" y=\"-231.8\" font-family=\"Times,serif\" font-size=\"14.00\">statement</text>\n</g>\n<!-- n511&#45;&#45;n512 -->\n<g id=\"edge22\" class=\"edge\">\n<title>n511&#45;&#45;n512</title>\n<path fill=\"none\" stroke=\"black\" d=\"M299.76,-282.57C300.15,-272.36 300.86,-253.38 301.24,-243.26\"/>\n</g>\n<!-- n513 -->\n<g id=\"node23\" class=\"node\">\n<title>n513</title>\n<text text-anchor=\"middle\" x=\"307.5\" y=\"-176.8\" font-family=\"Times,serif\" font-size=\"14.00\">stmt_assign</text>\n</g>\n<!-- n512&#45;&#45;n513 -->\n<g id=\"edge21\" class=\"edge\">\n<title>n512&#45;&#45;n513</title>\n<path fill=\"none\" stroke=\"black\" d=\"M302.28,-227.57C303.44,-217.36 305.59,-198.38 306.73,-188.26\"/>\n</g>\n<!-- n514 -->\n<g id=\"node24\" class=\"node\">\n<title>n514</title>\n<polygon fill=\"none\" stroke=\"black\" points=\"328,-133 281,-133 281,-110 328,-110 328,-133\"/>\n<text text-anchor=\"start\" x=\"289\" y=\"-118.8\" font-family=\"Times,serif\" font-size=\"14.00\">ID: </text>\n<text text-anchor=\"start\" x=\"311\" y=\"-118.8\" font-family=\"monospace\" font-size=\"14.00\" fill=\"brown\">b</text>\n</g>\n<!-- n513&#45;&#45;n514 -->\n<g id=\"edge17\" class=\"edge\">\n<title>n513&#45;&#45;n514</title>\n<path fill=\"none\" stroke=\"black\" d=\"M307.16,-172.96C306.64,-163.25 305.68,-144.92 305.06,-133.23\"/>\n</g>\n<!-- n515 -->\n<g id=\"node25\" class=\"node\">\n<title>n515</title>\n<text text-anchor=\"middle\" x=\"358.5\" y=\"-117.8\" font-family=\"Times,serif\" font-size=\"14.00\">expr</text>\n</g>\n<!-- n513&#45;&#45;n515 -->\n<g id=\"edge20\" class=\"edge\">\n<title>n513&#45;&#45;n515</title>\n<path fill=\"none\" stroke=\"black\" d=\"M313.35,-172.96C323.08,-162.08 342.51,-140.37 352.4,-129.32\"/>\n</g>\n<!-- n516 -->\n<g id=\"node26\" class=\"node\">\n<title>n516</title>\n<text text-anchor=\"middle\" x=\"358.5\" y=\"-62.8\" font-family=\"Times,serif\" font-size=\"14.00\">expr_const</text>\n</g>\n<!-- n515&#45;&#45;n516 -->\n<g id=\"edge19\" class=\"edge\">\n<title>n515&#45;&#45;n516</title>\n<path fill=\"none\" stroke=\"black\" d=\"M358.5,-113.57C358.5,-103.36 358.5,-84.38 358.5,-74.26\"/>\n</g>\n<!-- n517 -->\n<g id=\"node27\" class=\"node\">\n<title>n517</title>\n<polygon fill=\"none\" stroke=\"black\" points=\"412.5,-23 304.5,-23 304.5,0 412.5,0 412.5,-23\"/>\n<text text-anchor=\"start\" x=\"312.5\" y=\"-8.8\" font-family=\"Times,serif\" font-size=\"14.00\">NUMBER: </text>\n<text text-anchor=\"start\" x=\"379.5\" y=\"-8.8\" font-family=\"monospace\" font-size=\"14.00\" fill=\"brown\">456</text>\n</g>\n<!-- n516&#45;&#45;n517 -->\n<g id=\"edge18\" class=\"edge\">\n<title>n516&#45;&#45;n517</title>\n<path fill=\"none\" stroke=\"black\" d=\"M358.5,-58.57C358.5,-49.59 358.5,-33.84 358.5,-23.29\"/>\n</g>\n</g>\n</svg>\n",
            "text/plain": [
              "<graphviz.graphs.Graph at 0x793dfe058e60>"
            ]
          },
          "metadata": {}
        }
      ]
    },
    {
      "cell_type": "code",
      "source": [
        "# พื้นที่ทดสอบ\n",
        "asm = Joy05().compile(code)\n",
        "assemble_and_simulate(asm)"
      ],
      "metadata": {
        "id": "aolMcZvEE7Qi",
        "colab": {
          "base_uri": "https://localhost:8080/",
          "height": 658
        },
        "outputId": "50c30d20-15b7-47cc-d39c-31ff53fd8f7d"
      },
      "execution_count": null,
      "outputs": [
        {
          "output_type": "stream",
          "name": "stdout",
          "text": [
            "None\n"
          ]
        },
        {
          "output_type": "display_data",
          "data": {
            "text/html": [
              "\n",
              "<link rel=\"stylesheet\" href=\"https://jittat.gitlab.io/hacksim/sim.css\">\n",
              "<div id=\"sim-ui\">\n",
              "  <simulator v-bind:simulator=\"simulator\" memory-display-slots=\"30\" screen-scale=\"1\" v-bind:light-weight=\"false\" fastest-steps=\"103\"/>\n",
              "</div>\n",
              "\n",
              "<script>var exports = {};</script>\n",
              "<script src=\"https://cdn.jsdelivr.net/npm/vue/dist/vue.js\"></script>\n",
              "<script src=\"https://jittat.gitlab.io/hacksim/simulator.js\"></script>\n",
              "<script src=\"https://jittat.gitlab.io/hacksim/simulator-ui.js\"></script>\n",
              "\n",
              "<script>\n",
              "  var simulator = new HackSimulator();\n",
              "simulator.loadInstructions([1,60432,3,58120,3,64528,16,58120,16,64528,3,58120,16,64528,3,58120,3,64528,32,58114,123,60432,3,58120,3,64528,17,58120,3,64528,40,58117,456,60432,3,58120,3,64528,17,58120]);\n",
              "simulator.sourceCode = [{ \"lineNumber\" : null, \"code\" : \"//##Normal Number(1)##\"}, { \"lineNumber\" : null, \"code\" : \"// [THIS] <- 1\"}, { \"lineNumber\" : 0, \"code\" : \"@1\"}, { \"lineNumber\" : 1, \"code\" : \"D=A\"}, { \"lineNumber\" : 2, \"code\" : \"@THIS\"}, { \"lineNumber\" : 3, \"code\" : \"M=D\"}, { \"lineNumber\" : null, \"code\" : \"// [.var.a] <- [THIS]\"}, { \"lineNumber\" : 4, \"code\" : \"@THIS\"}, { \"lineNumber\" : 5, \"code\" : \"D=M\"}, { \"lineNumber\" : 6, \"code\" : \"@.var.a\"}, { \"lineNumber\" : 7, \"code\" : \"M=D\"}, { \"lineNumber\" : null, \"code\" : \"//## begin-if-1 ##\"}, { \"lineNumber\" : null, \"code\" : \"// [THIS] <- [.var.a]\"}, { \"lineNumber\" : 8, \"code\" : \"@.var.a\"}, { \"lineNumber\" : 9, \"code\" : \"D=M\"}, { \"lineNumber\" : 10, \"code\" : \"@THIS\"}, { \"lineNumber\" : 11, \"code\" : \"M=D\"}, { \"lineNumber\" : null, \"code\" : \"// [THIS] <- [.var.a]\"}, { \"lineNumber\" : 12, \"code\" : \"@.var.a\"}, { \"lineNumber\" : 13, \"code\" : \"D=M\"}, { \"lineNumber\" : 14, \"code\" : \"@THIS\"}, { \"lineNumber\" : 15, \"code\" : \"M=D\"}, { \"lineNumber\" : 16, \"code\" : \"@THIS\"}, { \"lineNumber\" : 17, \"code\" : \"D=M\"}, { \"lineNumber\" : 18, \"code\" : \"@.endif.1\"}, { \"lineNumber\" : 19, \"code\" : \"D;JEQ\"}, { \"lineNumber\" : null, \"code\" : \"//## if-body-1 ##\"}, { \"lineNumber\" : null, \"code\" : \"//##Normal Number(123)##\"}, { \"lineNumber\" : null, \"code\" : \"// [THIS] <- 123\"}, { \"lineNumber\" : 20, \"code\" : \"@123\"}, { \"lineNumber\" : 21, \"code\" : \"D=A\"}, { \"lineNumber\" : 22, \"code\" : \"@THIS\"}, { \"lineNumber\" : 23, \"code\" : \"M=D\"}, { \"lineNumber\" : null, \"code\" : \"// [.var.b] <- [THIS]\"}, { \"lineNumber\" : 24, \"code\" : \"@THIS\"}, { \"lineNumber\" : 25, \"code\" : \"D=M\"}, { \"lineNumber\" : 26, \"code\" : \"@.var.b\"}, { \"lineNumber\" : 27, \"code\" : \"M=D\"}, { \"lineNumber\" : 28, \"code\" : \"@THIS\"}, { \"lineNumber\" : 29, \"code\" : \"D=M\"}, { \"lineNumber\" : 30, \"code\" : \"@.endelse.1\"}, { \"lineNumber\" : 31, \"code\" : \"D;JNE\"}, { \"lineNumber\" : null, \"code\" : \"//## end-if-1 ##\"}, { \"lineNumber\" : null, \"code\" : \"  (.endif.1)\"}, { \"lineNumber\" : null, \"code\" : \"//##else body 1##\"}, { \"lineNumber\" : null, \"code\" : \"//##Normal Number(456)##\"}, { \"lineNumber\" : null, \"code\" : \"// [THIS] <- 456\"}, { \"lineNumber\" : 32, \"code\" : \"@456\"}, { \"lineNumber\" : 33, \"code\" : \"D=A\"}, { \"lineNumber\" : 34, \"code\" : \"@THIS\"}, { \"lineNumber\" : 35, \"code\" : \"M=D\"}, { \"lineNumber\" : null, \"code\" : \"// [.var.b] <- [THIS]\"}, { \"lineNumber\" : 36, \"code\" : \"@THIS\"}, { \"lineNumber\" : 37, \"code\" : \"D=M\"}, { \"lineNumber\" : 38, \"code\" : \"@.var.b\"}, { \"lineNumber\" : 39, \"code\" : \"M=D\"}, { \"lineNumber\" : null, \"code\" : \"//##end else body 1##\"}, { \"lineNumber\" : null, \"code\" : \"  (.endelse.1)\"}]\n",
              "  simulator.memoryWriteCallbacks.push(memUpdateCallback);\n",
              "  simulator.memoryWriteCallbacks.push(screenUpdateCallback);\n",
              "\n",
              "  var app = new Vue({\n",
              "    el: '#sim-ui',\n",
              "    data: {\n",
              "      simulator: simulator\n",
              "    }\n",
              "  });\n",
              "</script>\n"
            ]
          },
          "metadata": {}
        }
      ]
    },
    {
      "cell_type": "markdown",
      "metadata": {
        "id": "NxcHkyDuronk"
      },
      "source": [
        "## Test case"
      ]
    },
    {
      "cell_type": "code",
      "metadata": {
        "id": "1wDFlDXOpYXM",
        "colab": {
          "base_uri": "https://localhost:8080/"
        },
        "outputId": "efe4aaed-988c-47ad-8e09-3b25f48d23a5"
      },
      "source": [
        "# DO NOT MODIFY\n",
        "class TestJoy05(TestJoy04):\n",
        "\n",
        "    JOY_COMPILER = Joy05\n",
        "\n",
        "    def test_if_else(self):\n",
        "        template = '''\n",
        "            let a = 0; let b = 0; let c = 0; let d = 0;\n",
        "            let a = {a};\n",
        "            let b = {b};\n",
        "            if a {{\n",
        "                if b {{\n",
        "                    let c = 1;\n",
        "                }}\n",
        "                else {{\n",
        "                    let c = 2;\n",
        "                }}\n",
        "            }}\n",
        "            else {{\n",
        "                if b {{\n",
        "                    let c = 3;\n",
        "                }}\n",
        "                else {{\n",
        "                    let c = 4;\n",
        "                }}\n",
        "            }}\n",
        "            let d = 1234;\n",
        "        '''\n",
        "        for a, b in [(0,0), (0,1), (1,0), (1,1)]:\n",
        "            if a:\n",
        "                if b:\n",
        "                    c = 1\n",
        "                else:\n",
        "                    c = 2\n",
        "            else:\n",
        "                if b:\n",
        "                    c = 3\n",
        "                else:\n",
        "                    c = 4\n",
        "            d = 1234\n",
        "\n",
        "            self.compile_and_run(template.format(a=a, b=b))\n",
        "            self.assertEqual(self.cpu.ram[16], a)\n",
        "            self.assertEqual(self.cpu.ram[17], b)\n",
        "            self.assertEqual(self.cpu.ram[18], c)\n",
        "            self.assertEqual(self.cpu.ram[19], d)\n",
        "\n",
        "run_test(TestJoy05)"
      ],
      "execution_count": null,
      "outputs": [
        {
          "output_type": "stream",
          "name": "stderr",
          "text": [
            "..........\n",
            "----------------------------------------------------------------------\n",
            "Ran 10 tests in 0.197s\n",
            "\n",
            "OK\n"
          ]
        }
      ]
    }
  ]
}