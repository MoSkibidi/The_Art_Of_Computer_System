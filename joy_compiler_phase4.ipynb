{
  "nbformat": 4,
  "nbformat_minor": 0,
  "metadata": {
    "colab": {
      "provenance": [],
      "include_colab_link": true
    },
    "kernelspec": {
      "name": "python3",
      "display_name": "Python 3"
    }
  },
  "cells": [
    {
      "cell_type": "markdown",
      "metadata": {
        "id": "view-in-github",
        "colab_type": "text"
      },
      "source": [
        "<a href=\"https://colab.research.google.com/github/MoSkibidi/The_Art_Of_Computer_System/blob/main/joy_compiler_phase4.ipynb\" target=\"_parent\"><img src=\"https://colab.research.google.com/assets/colab-badge.svg\" alt=\"Open In Colab\"/></a>"
      ]
    },
    {
      "cell_type": "markdown",
      "metadata": {
        "id": "koK_0AMjEpyr"
      },
      "source": [
        "# การพัฒนา Joy Compiler (เฟส 4)\n",
        "\n",
        "เฟสสุดท้ายนี้เป็นการพัฒนา Joy 3.0 เพื่อให้เป็นภาษาชั้นสูงที่มีฟีเจอร์พื้นฐานเทียบเท่ากับภาษาชั้นสูงทั่วไป โดยมีฟีเจอร์ดังนี้\n",
        "* รองรับการสร้างและการเรียกใช้งานฟังก์ชัน<u>แบบไม่รีเคอร์ซีฟ</u> รวมถึงการตรวจสอบความถูกต้องของการเรียกฟังก์ชัน\n",
        "* รองรับการอ้างถึงตัวแปรทั้งแบบ local และ global scope\n",
        "* รองรับตัวดำเนินการคูณและหาร: `*`, `/`, `%` โดยนิยามโค้ดประมวลผลนิพจน์เหล่านี้ในรูป Joy runtime แทนการใช้ภาษาแอสเซมบลี้\n",
        "* รองรับการกำหนดลำดับความสำคัญของตัวดำเนินการ (operator precedence)\n",
        "\n",
        "เหมือนที่ผ่านมา เราจะสร้าง Joy 3.0 โดยต่อยอดจาก Joy 2.0 ให้ป้อน file id ของ colab notebook ที่ใช้ในงาน Joy 2.0 ด้านล่าง และรันเซลล์ที่เหลือเพื่อดาวน์โหลดและอิมพอร์ต Joy 2.0 มาใช้ในโน้ตบุ๊คนี้"
      ]
    },
    {
      "cell_type": "code",
      "metadata": {
        "id": "8RF8W4xJJGzr"
      },
      "source": [
        "JOY20_COLAB_FILE_ID = '1CcGOyO8wjnzUUwzC4ZA1IhMq7w_fZqvp' # แก้ไขให้เป็น file id ของ Colab Notebook Joy 2.0 ของตนเอง"
      ],
      "execution_count": null,
      "outputs": []
    },
    {
      "cell_type": "code",
      "metadata": {
        "id": "-n5zmlY4JPa1"
      },
      "source": [
        "%%capture\n",
        "!pip install PyDrive import-ipynb"
      ],
      "execution_count": null,
      "outputs": []
    },
    {
      "cell_type": "code",
      "metadata": {
        "id": "hTLMt2iYJPzQ"
      },
      "source": [
        "from pydrive2.auth import GoogleAuth\n",
        "from pydrive2.drive import GoogleDrive\n",
        "from google.colab import auth\n",
        "from oauth2client.client import GoogleCredentials\n",
        "\n",
        "auth.authenticate_user()\n",
        "gauth = GoogleAuth()\n",
        "gauth.credentials = GoogleCredentials.get_application_default()\n",
        "drive = GoogleDrive(gauth)\n",
        "\n",
        "downloaded = drive.CreateFile({'id':JOY20_COLAB_FILE_ID})\n",
        "downloaded.GetContentFile('joy20.ipynb')"
      ],
      "execution_count": null,
      "outputs": []
    },
    {
      "cell_type": "markdown",
      "source": [
        "ขั้นตอนด้านล่างอาจใช้เวลาค่อนข้างนาน เนื่องจากการอิมพอร์ทเกิดขึ้นซ้อนกันหลายชั้น"
      ],
      "metadata": {
        "id": "sG1Dp-0Zsern"
      }
    },
    {
      "cell_type": "code",
      "metadata": {
        "id": "Dd_bJfNYJUGV"
      },
      "source": [
        "%%capture\n",
        "import import_ipynb\n",
        "from joy20 import (\n",
        "    draw, listing, assemble, simulate, assemble_and_simulate,\n",
        "    Joy20, TestJoy20, run_test)"
      ],
      "execution_count": null,
      "outputs": []
    },
    {
      "cell_type": "markdown",
      "metadata": {
        "id": "FD5KIpy4Hu68"
      },
      "source": [
        "รันตัวทดสอบ Joy 2.0 เพื่อให้มั่นใจว่ากระบวนการอิมพอร์ตทำได้ถูกต้อง"
      ]
    },
    {
      "cell_type": "code",
      "metadata": {
        "id": "WLpGlg2AJduN",
        "colab": {
          "base_uri": "https://localhost:8080/"
        },
        "outputId": "9ed49904-0092-4ebf-db30-934c6686ed91"
      },
      "source": [
        "run_test(TestJoy20)"
      ],
      "execution_count": null,
      "outputs": [
        {
          "output_type": "stream",
          "name": "stderr",
          "text": [
            ".......................................\n",
            "----------------------------------------------------------------------\n",
            "Ran 39 tests in 9.887s\n",
            "\n",
            "OK\n"
          ]
        }
      ]
    },
    {
      "cell_type": "markdown",
      "metadata": {
        "id": "85LQ89WBEDCR"
      },
      "source": [
        "# Joy 2.1 - Variable scopes\n",
        "\n",
        "Joy 2.1 ยังไม่มีการเพิ่มเติมฟีเจอร์ใหม่ใด ๆ ให้ตัวภาษา แต่มีการปรับเปลี่ยนโครงสร้างภายในของโค้ดเจเนอเรเตอร์ให้พร้อมรองรับการใช้งานตัวแปรภายในฟังก์ชันทั้งในรูปแบบโลคอลและโกลบอล\n",
        "\n",
        "กลไกนี้อาศัยตัวแปรสมาชิกที่สำคัญสองตัวได้แก่\n",
        "* `_scope` เก็บชื่อฟังก์ชันปัจจุบันที่กำลังได้รับการแปลโดยคอมไพเลอร์ ณ ขณะนั้น หรือค่า None หากคอมไพเลอร์กำลังแปลโค้ดอื่นภายนอกฟังก์ชัน\n",
        "* `_globals` เก็บรายการชื่อตัวแปรที่มีการประกาศให้เป็นโกลบอลที่หัวฟังก์ชัน (ด้วยคีย์เวิร์ด `global` ที่จะเพิ่มเติมลงในแกรมมาร์ต่อไป) นิยามไว้เป็นเซ็ตเพื่อให้ง่ายต่อการตรวจสอบรายชื่อ หากคอมไพเลอร์กำลังแปลโค้ดนอกฟังก์ชัน ตัวแปร `_globals` นี้ควรเป็นเซ็ตว่าง\n",
        "\n",
        "เมท็อด `get_var_label(var)` นิยามไว้เพื่อความสะดวกในการสร้างลาเบลให้ตัวแปรในโค้ดภาษาแอสเซมบลี้ โดยเมท็อดนี้จะเช็คว่า ณ ขณะนั้นตัวแปร `var` ที่อ้างถึงในโค้ด Joy จัดเป็นตัวแปรแบบโลคอลหรือโกลบอล และเพิ่มคำนำหน้าลาเบลให้สอดคล้องกันดังนี้\n",
        "* ตัวแปรโกลบอล (เงื่อนไขคือ `_scope` เป็น None หรือตัวแปร `var` ปรากฏในเซ็ต `_globals`) ให้สร้างลาเบลให้ตัวแปรในรูป `.global.var`\n",
        "* ตัวแปรโลคอล (เงื่อนไขคือ `_scope` เป็นชื่อฟังก์ชัน และตัวแปร `var` ไม่ปรากฏในเซ็ต `_globals`)\n",
        "สร้างลาเบลให้ตัวแปรในรูป `.local.<ชื่อฟังก์ชัน>.var`\n",
        "\n",
        "หากมีการเรียกเมท็อดนี้ในรูป `get_var_label(id, func=<ชื่อฟังก์ชัน>)` จะมีการสร้างลาเบลให้ตัวแปร `var` ในรูปโลคอลเสมอ ไม่ว่าจะกำลังคอมไพล์อยู่ในสโคปใดก็ตาม เราจะนำรูปแบบนี้ไปใช้ในการส่งค่าอาร์กิวเมนต์ไปให้กับพารามิเตอร์ของฟังก์ชัน (พารามิเตอร์ของฟังก์ชันถือเป็นตัวแปรแบบโลคอล)\n",
        "\n",
        "และสุดท้ายเราต้องแก้ไขเมท็อดสำหรับประมวลผลทุกกฎที่มีชื่อตัวแปรเป็นส่วนประกอบ ซึ่งได้แก่\n",
        "* กฎ `stmt_assign` (คำสั่ง `let <ตัวแปร> = ...`)\n",
        "* กฎ `expr_id` (นิพจน์ในรูปตัวแปรโดด)\n",
        "* กฎสำหรับตัวดำเนินการ `&` (reference address)\n",
        "\n",
        "โค้ดด้านล่างดำเนินการทุกอย่างให้แล้ว ยกเว้นเมท็อดจัดการกฎสำหรับตัวดำเนินการ `&` ที่นิสิตเป็นผู้สร้างเอาไว้เองตั้งแต่ Joy 1.3 นิสิตจึงต้องแก้ไขเมท็อดนี้ด้วยตนเอง"
      ]
    },
    {
      "cell_type": "code",
      "metadata": {
        "id": "Mnr_r0yhEPAW"
      },
      "source": [
        "# DO NOT ERASE THIS CELL - to be graded\n",
        "\n",
        "class Joy21(Joy20):\n",
        "    def __init__(self, **kwargs):\n",
        "        super().__init__(**kwargs)\n",
        "        self._scope = None\n",
        "        self._globals = set()\n",
        "\n",
        "    def get_var_label(self, var, func=None):\n",
        "        if func is not None:\n",
        "            return f'.local.{func}.{var}'\n",
        "        elif self._scope == None or var in self._globals:\n",
        "            return f'.global.{var}'\n",
        "        else:\n",
        "            return f'.local.{self._scope}.{var}'\n",
        "\n",
        "    def stmt_assign(self, tree):\n",
        "        [id, expr] = tree.children\n",
        "        self.visit(expr)\n",
        "        self.gen_move(self.get_var_label(id), 'THIS')\n",
        "\n",
        "    def expr_id(self, tree):\n",
        "        [id] = tree.children\n",
        "        self.gen_move('THIS', self.get_var_label(id))\n",
        "\n",
        "    def expr_ref(self,tree) :\n",
        "      [id] = tree.children\n",
        "      self.get_var_label(id)\n",
        "      self._asm.append(f'''\n",
        "      D=A\n",
        "      @THIS\n",
        "      M=D\n",
        "      ''')\n",
        "\n",
        "\n",
        "    # แก้ไขเมท็อดที่สร้างโค้ดสำหรับตัวดำเนินการ & ใน Joy 1.3\n",
        "    # *** ใส่โค้ดของตนเอง ***\n"
      ],
      "execution_count": null,
      "outputs": []
    },
    {
      "cell_type": "code",
      "source": [
        "x = '''\n",
        "            let x = 5;\n",
        "            let b = &x;\n",
        "'''\n",
        "tree = Joy21().parse(x)\n",
        "draw(tree)"
      ],
      "metadata": {
        "colab": {
          "base_uri": "https://localhost:8080/",
          "height": 628
        },
        "id": "f7KBUd4lpR9I",
        "outputId": "b727990e-2d62-4b30-cf66-abbfa4c3bc65"
      },
      "execution_count": null,
      "outputs": [
        {
          "output_type": "display_data",
          "data": {
            "image/svg+xml": "<?xml version=\"1.0\" encoding=\"UTF-8\" standalone=\"no\"?>\n<!DOCTYPE svg PUBLIC \"-//W3C//DTD SVG 1.1//EN\"\n \"http://www.w3.org/Graphics/SVG/1.1/DTD/svg11.dtd\">\n<!-- Generated by graphviz version 2.43.0 (0)\n -->\n<!-- Title: %3 Pages: 1 -->\n<svg width=\"231pt\" height=\"455pt\"\n viewBox=\"0.00 0.00 231.00 455.00\" xmlns=\"http://www.w3.org/2000/svg\" xmlns:xlink=\"http://www.w3.org/1999/xlink\">\n<g id=\"graph0\" class=\"graph\" transform=\"scale(1 1) rotate(0) translate(4 451)\">\n<title>%3</title>\n<polygon fill=\"white\" stroke=\"transparent\" points=\"-4,4 -4,-451 227,-451 227,4 -4,4\"/>\n<!-- n0 -->\n<g id=\"node1\" class=\"node\">\n<title>n0</title>\n<text text-anchor=\"middle\" x=\"110.5\" y=\"-435.8\" font-family=\"Times,serif\" font-size=\"14.00\">program</text>\n</g>\n<!-- n1 -->\n<g id=\"node2\" class=\"node\">\n<title>n1</title>\n<text text-anchor=\"middle\" x=\"110.5\" y=\"-384.8\" font-family=\"Times,serif\" font-size=\"14.00\">statements</text>\n</g>\n<!-- n0&#45;&#45;n1 -->\n<g id=\"edge15\" class=\"edge\">\n<title>n0&#45;&#45;n1</title>\n<path fill=\"none\" stroke=\"black\" d=\"M110.5,-431.69C110.5,-422.33 110.5,-405.59 110.5,-396.26\"/>\n</g>\n<!-- n2 -->\n<g id=\"node3\" class=\"node\">\n<title>n2</title>\n<text text-anchor=\"middle\" x=\"75.5\" y=\"-333.8\" font-family=\"Times,serif\" font-size=\"14.00\">statement</text>\n</g>\n<!-- n1&#45;&#45;n2 -->\n<g id=\"edge6\" class=\"edge\">\n<title>n1&#45;&#45;n2</title>\n<path fill=\"none\" stroke=\"black\" d=\"M105.63,-380.69C98.95,-371.33 86.99,-354.59 80.33,-345.26\"/>\n</g>\n<!-- n24 -->\n<g id=\"node9\" class=\"node\">\n<title>n24</title>\n<text text-anchor=\"middle\" x=\"149.5\" y=\"-333.8\" font-family=\"Times,serif\" font-size=\"14.00\">statement</text>\n</g>\n<!-- n1&#45;&#45;n24 -->\n<g id=\"edge14\" class=\"edge\">\n<title>n1&#45;&#45;n24</title>\n<path fill=\"none\" stroke=\"black\" d=\"M115.92,-380.69C123.37,-371.33 136.7,-354.59 144.12,-345.26\"/>\n</g>\n<!-- n3 -->\n<g id=\"node4\" class=\"node\">\n<title>n3</title>\n<text text-anchor=\"middle\" x=\"69.5\" y=\"-282.8\" font-family=\"Times,serif\" font-size=\"14.00\">stmt_assign</text>\n</g>\n<!-- n2&#45;&#45;n3 -->\n<g id=\"edge5\" class=\"edge\">\n<title>n2&#45;&#45;n3</title>\n<path fill=\"none\" stroke=\"black\" d=\"M74.67,-329.69C73.52,-320.33 71.47,-303.59 70.33,-294.26\"/>\n</g>\n<!-- n4 -->\n<g id=\"node5\" class=\"node\">\n<title>n4</title>\n<polygon fill=\"none\" stroke=\"black\" points=\"47,-243 0,-243 0,-220 47,-220 47,-243\"/>\n<text text-anchor=\"start\" x=\"8\" y=\"-228.8\" font-family=\"Times,serif\" font-size=\"14.00\">ID: </text>\n<text text-anchor=\"start\" x=\"30\" y=\"-228.8\" font-family=\"monospace\" font-size=\"14.00\" fill=\"brown\">x</text>\n</g>\n<!-- n3&#45;&#45;n4 -->\n<g id=\"edge1\" class=\"edge\">\n<title>n3&#45;&#45;n4</title>\n<path fill=\"none\" stroke=\"black\" d=\"M63.49,-278.57C55.69,-269.59 42.02,-253.84 32.86,-243.29\"/>\n</g>\n<!-- n5 -->\n<g id=\"node6\" class=\"node\">\n<title>n5</title>\n<text text-anchor=\"middle\" x=\"77.5\" y=\"-227.8\" font-family=\"Times,serif\" font-size=\"14.00\">expr</text>\n</g>\n<!-- n3&#45;&#45;n5 -->\n<g id=\"edge4\" class=\"edge\">\n<title>n3&#45;&#45;n5</title>\n<path fill=\"none\" stroke=\"black\" d=\"M70.55,-278.57C72.09,-268.36 74.95,-249.38 76.48,-239.26\"/>\n</g>\n<!-- n6 -->\n<g id=\"node7\" class=\"node\">\n<title>n6</title>\n<text text-anchor=\"middle\" x=\"77.5\" y=\"-172.8\" font-family=\"Times,serif\" font-size=\"14.00\">expr_const</text>\n</g>\n<!-- n5&#45;&#45;n6 -->\n<g id=\"edge3\" class=\"edge\">\n<title>n5&#45;&#45;n6</title>\n<path fill=\"none\" stroke=\"black\" d=\"M77.5,-223.57C77.5,-213.36 77.5,-194.38 77.5,-184.26\"/>\n</g>\n<!-- n7 -->\n<g id=\"node8\" class=\"node\">\n<title>n7</title>\n<polygon fill=\"none\" stroke=\"black\" points=\"123.5,-133 31.5,-133 31.5,-110 123.5,-110 123.5,-133\"/>\n<text text-anchor=\"start\" x=\"39.5\" y=\"-118.8\" font-family=\"Times,serif\" font-size=\"14.00\">NUMBER: </text>\n<text text-anchor=\"start\" x=\"106.5\" y=\"-118.8\" font-family=\"monospace\" font-size=\"14.00\" fill=\"brown\">5</text>\n</g>\n<!-- n6&#45;&#45;n7 -->\n<g id=\"edge2\" class=\"edge\">\n<title>n6&#45;&#45;n7</title>\n<path fill=\"none\" stroke=\"black\" d=\"M77.5,-168.57C77.5,-159.59 77.5,-143.84 77.5,-133.29\"/>\n</g>\n<!-- n25 -->\n<g id=\"node10\" class=\"node\">\n<title>n25</title>\n<text text-anchor=\"middle\" x=\"152.5\" y=\"-282.8\" font-family=\"Times,serif\" font-size=\"14.00\">stmt_assign</text>\n</g>\n<!-- n24&#45;&#45;n25 -->\n<g id=\"edge13\" class=\"edge\">\n<title>n24&#45;&#45;n25</title>\n<path fill=\"none\" stroke=\"black\" d=\"M149.92,-329.69C150.49,-320.33 151.52,-303.59 152.09,-294.26\"/>\n</g>\n<!-- n26 -->\n<g id=\"node11\" class=\"node\">\n<title>n26</title>\n<polygon fill=\"none\" stroke=\"black\" points=\"169,-243 122,-243 122,-220 169,-220 169,-243\"/>\n<text text-anchor=\"start\" x=\"130\" y=\"-228.8\" font-family=\"Times,serif\" font-size=\"14.00\">ID: </text>\n<text text-anchor=\"start\" x=\"152\" y=\"-228.8\" font-family=\"monospace\" font-size=\"14.00\" fill=\"brown\">b</text>\n</g>\n<!-- n25&#45;&#45;n26 -->\n<g id=\"edge7\" class=\"edge\">\n<title>n25&#45;&#45;n26</title>\n<path fill=\"none\" stroke=\"black\" d=\"M151.58,-278.57C150.4,-269.59 148.32,-253.84 146.92,-243.29\"/>\n</g>\n<!-- n27 -->\n<g id=\"node12\" class=\"node\">\n<title>n27</title>\n<text text-anchor=\"middle\" x=\"199.5\" y=\"-227.8\" font-family=\"Times,serif\" font-size=\"14.00\">expr</text>\n</g>\n<!-- n25&#45;&#45;n27 -->\n<g id=\"edge12\" class=\"edge\">\n<title>n25&#45;&#45;n27</title>\n<path fill=\"none\" stroke=\"black\" d=\"M158.64,-278.57C167.7,-268.36 184.53,-249.38 193.5,-239.26\"/>\n</g>\n<!-- n28 -->\n<g id=\"node13\" class=\"node\">\n<title>n28</title>\n<text text-anchor=\"middle\" x=\"199.5\" y=\"-172.8\" font-family=\"Times,serif\" font-size=\"14.00\">expr_ref</text>\n</g>\n<!-- n27&#45;&#45;n28 -->\n<g id=\"edge11\" class=\"edge\">\n<title>n27&#45;&#45;n28</title>\n<path fill=\"none\" stroke=\"black\" d=\"M199.5,-223.57C199.5,-213.36 199.5,-194.38 199.5,-184.26\"/>\n</g>\n<!-- n29 -->\n<g id=\"node14\" class=\"node\">\n<title>n29</title>\n<text text-anchor=\"middle\" x=\"199.5\" y=\"-117.8\" font-family=\"Times,serif\" font-size=\"14.00\">expr</text>\n</g>\n<!-- n28&#45;&#45;n29 -->\n<g id=\"edge10\" class=\"edge\">\n<title>n28&#45;&#45;n29</title>\n<path fill=\"none\" stroke=\"black\" d=\"M199.5,-168.57C199.5,-158.36 199.5,-139.38 199.5,-129.26\"/>\n</g>\n<!-- n30 -->\n<g id=\"node15\" class=\"node\">\n<title>n30</title>\n<text text-anchor=\"middle\" x=\"199.5\" y=\"-62.8\" font-family=\"Times,serif\" font-size=\"14.00\">expr_id</text>\n</g>\n<!-- n29&#45;&#45;n30 -->\n<g id=\"edge9\" class=\"edge\">\n<title>n29&#45;&#45;n30</title>\n<path fill=\"none\" stroke=\"black\" d=\"M199.5,-113.57C199.5,-103.36 199.5,-84.38 199.5,-74.26\"/>\n</g>\n<!-- n31 -->\n<g id=\"node16\" class=\"node\">\n<title>n31</title>\n<polygon fill=\"none\" stroke=\"black\" points=\"223,-23 176,-23 176,0 223,0 223,-23\"/>\n<text text-anchor=\"start\" x=\"184\" y=\"-8.8\" font-family=\"Times,serif\" font-size=\"14.00\">ID: </text>\n<text text-anchor=\"start\" x=\"206\" y=\"-8.8\" font-family=\"monospace\" font-size=\"14.00\" fill=\"brown\">x</text>\n</g>\n<!-- n30&#45;&#45;n31 -->\n<g id=\"edge8\" class=\"edge\">\n<title>n30&#45;&#45;n31</title>\n<path fill=\"none\" stroke=\"black\" d=\"M199.5,-58.57C199.5,-49.59 199.5,-33.84 199.5,-23.29\"/>\n</g>\n</g>\n</svg>\n",
            "text/plain": [
              "<graphviz.graphs.Graph at 0x7ceefca3f110>"
            ]
          },
          "metadata": {}
        }
      ]
    },
    {
      "cell_type": "code",
      "source": [
        "asm = Joy21().compile(x)\n",
        "assemble_and_simulate(asm)"
      ],
      "metadata": {
        "colab": {
          "base_uri": "https://localhost:8080/",
          "height": 644
        },
        "id": "_NcbIZA9pVX2",
        "outputId": "5546e24a-01f5-4608-c6d9-3f7647bd4790"
      },
      "execution_count": null,
      "outputs": [
        {
          "output_type": "display_data",
          "data": {
            "text/html": [
              "\n",
              "<link rel=\"stylesheet\" href=\"https://jittat.gitlab.io/hacksim/sim.css\">\n",
              "<div id=\"sim-ui\">\n",
              "  <simulator v-bind:simulator=\"simulator\" memory-display-slots=\"30\" screen-scale=\"1\" v-bind:light-weight=\"false\" fastest-steps=\"103\"/>\n",
              "</div>\n",
              "\n",
              "<script>var exports = {};</script>\n",
              "<script src=\"https://cdn.jsdelivr.net/npm/vue/dist/vue.js\"></script>\n",
              "<script src=\"https://jittat.gitlab.io/hacksim/simulator.js\"></script>\n",
              "<script src=\"https://jittat.gitlab.io/hacksim/simulator-ui.js\"></script>\n",
              "\n",
              "<script>\n",
              "  var simulator = new HackSimulator();\n",
              "simulator.loadInstructions([16383,60432,0,58120,5,60432,3,58120,3,64528,16,58120,60432,3,58120,3,64528,17,58120]);\n",
              "simulator.sourceCode = [{ \"lineNumber\" : null, \"code\" : \"// init stack (SP <- 16383)\"}, { \"lineNumber\" : 0, \"code\" : \"@16383\"}, { \"lineNumber\" : 1, \"code\" : \"D=A\"}, { \"lineNumber\" : 2, \"code\" : \"@SP\"}, { \"lineNumber\" : 3, \"code\" : \"M=D\"}, { \"lineNumber\" : null, \"code\" : \"//##Normal Number(5)##\"}, { \"lineNumber\" : null, \"code\" : \"// [THIS] <- 5\"}, { \"lineNumber\" : 4, \"code\" : \"@5\"}, { \"lineNumber\" : 5, \"code\" : \"D=A\"}, { \"lineNumber\" : 6, \"code\" : \"@THIS\"}, { \"lineNumber\" : 7, \"code\" : \"M=D\"}, { \"lineNumber\" : null, \"code\" : \"// [.global.x] <- [THIS]\"}, { \"lineNumber\" : 8, \"code\" : \"@THIS\"}, { \"lineNumber\" : 9, \"code\" : \"D=M\"}, { \"lineNumber\" : 10, \"code\" : \"@.global.x\"}, { \"lineNumber\" : 11, \"code\" : \"M=D\"}, { \"lineNumber\" : 12, \"code\" : \"D=A\"}, { \"lineNumber\" : 13, \"code\" : \"@THIS\"}, { \"lineNumber\" : 14, \"code\" : \"M=D\"}, { \"lineNumber\" : null, \"code\" : \"// [.global.b] <- [THIS]\"}, { \"lineNumber\" : 15, \"code\" : \"@THIS\"}, { \"lineNumber\" : 16, \"code\" : \"D=M\"}, { \"lineNumber\" : 17, \"code\" : \"@.global.b\"}, { \"lineNumber\" : 18, \"code\" : \"M=D\"}]\n",
              "  simulator.memoryWriteCallbacks.push(memUpdateCallback);\n",
              "  simulator.memoryWriteCallbacks.push(screenUpdateCallback);\n",
              "\n",
              "  var app = new Vue({\n",
              "    el: '#sim-ui',\n",
              "    data: {\n",
              "      simulator: simulator\n",
              "    }\n",
              "  });\n",
              "</script>\n"
            ]
          },
          "metadata": {}
        }
      ]
    },
    {
      "cell_type": "markdown",
      "metadata": {
        "id": "AqAZtJc_Wb3z"
      },
      "source": [
        "## Test cases"
      ]
    },
    {
      "cell_type": "code",
      "metadata": {
        "id": "EJor3dRxWnvn",
        "colab": {
          "base_uri": "https://localhost:8080/"
        },
        "outputId": "5e3f8538-0186-4292-b0bf-43f502528923"
      },
      "source": [
        "# DO NOT MODIFY\n",
        "\n",
        "class TestJoy21(TestJoy20):\n",
        "    JOY_COMPILER = Joy21\n",
        "\n",
        "run_test(TestJoy21)"
      ],
      "execution_count": null,
      "outputs": [
        {
          "output_type": "stream",
          "name": "stderr",
          "text": [
            ".......................................\n",
            "----------------------------------------------------------------------\n",
            "Ran 39 tests in 4.333s\n",
            "\n",
            "OK\n"
          ]
        }
      ]
    },
    {
      "cell_type": "markdown",
      "metadata": {
        "id": "RG7EW6TLIaJn"
      },
      "source": [
        "# Joy 2.2 - Functions\n",
        "\n",
        "ฟีเจอร์หลักเพียงหนึ่งเดียวของ Joy 2.2 ที่เพิ่มขึ้นมาจาก Joy 2.1 คือการรองรับการนิยามและเรียกใช้ฟังก์ชัน ฟังก์ชันอาจนิยามไว้ที่ส่วนใดของโค้ดก็ได้ แต่ต้องนิยามไว้ก่อนหน้าการเรียกใช้งานเสมอ\n",
        "\n",
        "### การนิยามฟังก์ชัน\n",
        "ใช้คีย์เวิร์ด `def` ซึ่งมีโครงสร้างดังนี้\n",
        "\n",
        "```\n",
        "def func_name(param1, param2, ...) {\n",
        "    global global_var1;\n",
        "    global global_var2;\n",
        "        :\n",
        "    statement1;\n",
        "    statement2;\n",
        "        :\n",
        "}\n",
        "```\n",
        "\n",
        "ตัวแปรทุกตัวที่ถูกเรียกใช้ภายในฟังก์ชันจะถือเป็นตัวแปรแบบโลคอล เว้นแต่ว่ามีการประกาศให้เป็นโกลบอลด้วยคีย์เวิร์ด `global` ที่<u>ต้องวางไว้ต้นฟังก์ชันเท่านั้น </u>ส่วนของพารามิเตอร์และการระบุตัวแปรโกลบอลอาจมีหรือไม่มีก็ได้ และคำสั่งในฟังก์ชันอาจอยู่ในรูป `return` *expr* เพื่อออกจากฟังก์ชันและคืนค่า *expr* กลับไปยังผู้เรียก\n",
        "\n",
        "### การเรียกฟังก์ชัน\n",
        "ใช้คำสั่งในรูป\n",
        "\n",
        "```\n",
        "func_name(arg1, arg2, ...)\n",
        "```\n",
        "ซึ่งตีความได้ทั้งเป็นนิพจน์ (expression) หรือเป็นคำสั่ง (statement) ก็ได้\n",
        "\n",
        "### ปรับแก้แกรมมาร์\n",
        "ให้นิสิตแก้ไขแกรมมาร์ของตนเองให้รองรับการใช้งานฟังก์ชันตามที่กล่าวมา โดยเริ่มจากเปลี่ยนการนิยามกฎ `program` ให้เพิ่มการนิยามฟังก์ชันเข้าไป และสามารถสลับไปมากับ statement ปกติได้ ดังนี้ (สังเกตว่าในวงเล็บเป็น `statement` ไม่ใช่ `statements`)\n",
        "```\n",
        "program: (funcdef | statement)*\n",
        "```\n",
        "\n",
        "เพิ่มกฎสำหรับนิยามฟังก์ชัน รวมถึงรายการพารามิเตอร์และรายการโกลบอล ดังนี้ (สังเกตว่าทั้ง `params` และ `globals` ยอมให้ว่างเปล่าได้)\n",
        "```\n",
        "funcdef: \"def\" ID \"(\" params \")\" \"{\" globals statements \"}\"\n",
        "params: ID (\",\" ID)*\n",
        "      |\n",
        "globals: (\"global\" ID \";\")*\n",
        "```\n",
        "\n",
        "เพิ่มให้กฎ `expr` รองรับนิพจน์เรียกฟังก์ชันดังนี้ (สังเกตว่า `args` ยอมให้ว่างเปล่าได้)\n",
        "```\n",
        "expr: ... // รายการที่มีอยู่แล้วของกฎ expr\n",
        "    | expr_call\n",
        "expr_call: ID \"(\" args \")\"\n",
        "args: expr (\",\" expr)*\n",
        "    |\n",
        "```\n",
        "\n",
        "และสุดท้าย เพิ่มให้กฎ `statement` รองรับคำสั่งเรียกฟังก์ชันโดยไม่สนใจค่าที่คืนมา และคำสั่ง `return` ดังนี้\n",
        "```\n",
        "statement: ... // รายการที่มีอยู่แล้วของกฎ statement\n",
        "         | stmt_call\n",
        "         | stmt_return\n",
        "stmt_call: expr_call \";\"\n",
        "stmt_return: \"return\" expr \";\"\n",
        "```"
      ]
    },
    {
      "cell_type": "code",
      "source": [
        "def plus(a,b) :\n",
        "  return a+b\n",
        "a = plus(5,6)\n",
        "print(a)"
      ],
      "metadata": {
        "colab": {
          "base_uri": "https://localhost:8080/"
        },
        "id": "nHpmW1MnG2fI",
        "outputId": "d21d3d9d-cbe2-4c4d-8af5-f2443be90b6c"
      },
      "execution_count": null,
      "outputs": [
        {
          "output_type": "stream",
          "name": "stdout",
          "text": [
            "11\n"
          ]
        }
      ]
    },
    {
      "cell_type": "markdown",
      "metadata": {
        "id": "_9GDu7XGMHLp"
      },
      "source": [
        "## ข้อตกลงระหว่างผู้เรียกและผู้ถูกเรียก\n",
        "\n",
        "ในกระบวนการเรียกฟังก์ชัน ข้อมูลที่ใช้โต้ตอบกันระหว่างผู้เรียก (caller) และฟังก์ชันที่ถูกเรียก (callee) ได้แก่\n",
        "* ผู้เรียกป้อนค่าของอาร์กิวเมนต์แต่ละตัวลงไปในพารามิเตอร์ของผู้ถูกเรียกโดยตรง โดยอาศัยฟังก์ชัน `get_var_label()`\n",
        "* ผู้เรียกบันทึกตำแหน่งการกระโดดกลับ (return address) ไว้ในรีจีสเตอร์ `LCL` เพื่อให้ผู้ถูกเรียกใช้ในการกระโดดกลับมายังคำสั่งถัดไปของผู้เรียก อย่างไรก็ตาม เป็นไปได้ว่าผู้เรียกอาจเป็นฟังก์ชันที่ถูกเรียกโดยฟังก์ชันอื่นอีกที ดังนั้นก่อนที่จะเขียนค่าทับลงไปในรีจีสเตอร์ `LCL` ให้ push ค่า `LCL` ไว้ในสแต็กเสียก่อน แล้วจึงค่อย pop ค่า `LCL` ออกมาหลังที่กระโดดกลับมา\n",
        "* เมื่อพบคำสั่ง `return` ผู้ถูกเรียกบันทึกค่าที่คืนกลับจากฟังก์ชัน (returned value) ไว้ในรีจีสเตอร์ `THIS` เพื่อส่งค่ากลับมายังผู้เรียก\n",
        "\n",
        "โค้ดฝั่งผู้เรียก (caller) ที่คอมไพเลอร์ต้องสร้างขึ้นมาจะมีส่วนประกอบตามลำดับดังนี้\n",
        "\n",
        "1. โค้ดคำนวณค่าของอาร์กิวเมนต์แต่ละตัว และโหลดค่าไว้ในพารามิเตอร์ของผู้ถูกเรียกที่วางอยู่ในตำแหน่งเดียวกัน\n",
        "2. โค้ด push ค่า `LCL` ไว้ในสแต็ก\n",
        "3. โค้ดบันทึกค่า return address ไว้ใน `LCL` ซึ่งนำมาจากลาเบลในข้อ 5 ที่จะวางเอาไว้ในตำแหน่งถัดจากคำสั่งกระโดดไปยังฟังก์ชัน\n",
        "4. โค้ดกระโดดไปยังจุดเริ่มต้นของฟังก์ชันผู้ถูกเรียก\n",
        "5. ลาเบลสำหรับใช้เป็น return address\n",
        "6. โค้ด pop ค่า `LCL` ออกจากสแต็ก\n",
        "\n",
        "ส่วนโค้ดฝั่งฟังก์ชันผู้ถูกเรียก (callee) ที่คอมไพเลอร์ต้องสร้างขึ้นมาจะมีส่วนประกอบตามลำดับดังนี้\n",
        "1. โค้ดกระโดดข้ามโค้ดส่วนของฟังก์ชันทั้งหมดไปยังลาเบลที่วางไว้ปิดท้ายฟังก์ชันตามข้อ 6 เพื่อป้องกันไม่ให้ฟังก์ชันถูกเรียกทำงานระหว่างการนิยาม (เนื่องจากว่าเราสามารถนิยามฟังก์ชันแทรกไว้ระหว่างโค้ดคำสั่งทั่วไปได้)\n",
        "2. ลาเบลระบุจุดเริ่มต้นของฟังก์ชันเพื่อให้ผู้เรียกกระโดดมาที่จุดนี้\n",
        "3. โค้ดสำหรับฟังก์ชันบอดี้ ซึ่งต้องแปลชื่อตัวแปรให้สอดคล้องกับขอบเขตของตัวแปรที่อาจเป็นโลคอลหรือโกลบอลก็ได้ (ส่วนนี้ดำเนินการไปแล้วใน Joy 2.1) และถ้าคำสั่งที่พบเป็นคำสั่ง `return` จะมีการสร้างโค้ดให้กระโดดไปยังจุดเริ่มต้นโค้ดกระโดดกลับสู่ผู้เรียกในข้อ 4\n",
        "4. ลาเบลสำหรับจุดเริ่มต้นโค้ดกระโดดกลับสู่ผู้เรียก ใช้เป็นจุดกระโดดให้คำสั่ง `return` ที่สามารถถูกวางไว้ที่จุดใดของฟังก์ชันก็ได้\n",
        "5. โค้ดกระโดดกลับสู่ผู้เรียก ซึ่งอาศัยจากค่า return address ที่เก็บไว้ในรีจีสเตอร์ `LCL` ที่ผู้เรียกวางไว้ให้\n",
        "6. ลาเบลปิดท้ายฟังก์ชัน เพื่อใช้เป็นปลายทางของการกระโดดในข้อ 1 เพื่อข้ามโค้ดฟังก์ชันไปก่อนระหว่างการนิยาม"
      ]
    },
    {
      "cell_type": "markdown",
      "metadata": {
        "id": "iVk2m2RnieU3"
      },
      "source": [
        "ฟีเจอร์ของคอมไพเลอร์เกี่ยวกับฟังก์ชันอีกอย่างหนึ่งคือการตรวจสอบความถูกต้องเชิงความหมาย ซึ่งถือเป็นหน้าที่ของ semantic analysis ของคอมไพเลอร์ สิ่งที่เราจะตรวจสอบมีดังนี้\n",
        "\n",
        "* ฟังก์ชันต้องมีการนิยามก่อนถูกเรียกใช้งาน\n",
        "* ฟังก์ชันที่นิยามขึ้นต้องมีชื่อไม่ซ้ำกับฟังก์ชันที่เคยนิยามไว้แล้ว\n",
        "* จำนวนอาร์กิวเมนต์ขณะเรียกฟังก์ชันต้องเท่ากับจำนวนพารามิเตอร์ที่ฟังก์ชันนิยามไว้\n",
        "* คำสั่ง `return` ใช้ได้เฉพาะในฟังก์ชันเท่านั้น\n",
        "\n",
        "นิยาม exception เพื่อใช้รายงานความผิดพลาดทั้ง 4 รายการไว้ดังนี้"
      ]
    },
    {
      "cell_type": "code",
      "metadata": {
        "id": "Tx-c-kZNj32q"
      },
      "source": [
        "# raise เมื่อพบการเรียกฟังก์ชันโดยยังไม่ได้นิยาม\n",
        "class JoyUndefinedFunctionException(Exception):\n",
        "    pass\n",
        "\n",
        "# raise เมื่อพบการนิยามฟังก์ชันซ้ำชื่อเดิมก่อนหน้านี้\n",
        "class JoyMultiplyDefinedFunctionException(Exception):\n",
        "    pass\n",
        "\n",
        "# raise เมื่อพบว่าจำนวนอาร์กิวเมนต์ไม่ตรงกับจำนวนพารามิเตอร์\n",
        "class JoyParamMismatchException(Exception):\n",
        "    pass\n",
        "\n",
        "# raise เมื่อพบคำสั่ง return นอกการนิยามฟังก์ชัน\n",
        "class JoyReturnOutsideFunctionException(Exception):\n",
        "    pass"
      ],
      "execution_count": null,
      "outputs": []
    },
    {
      "cell_type": "markdown",
      "metadata": {
        "id": "kPVvt5TQmIhs"
      },
      "source": [
        "ต่อไปเป็นหน้าที่ของนิสิตในการสร้างคลาส Joy 2.2 ตามแนวทางทั้งหมดที่กล่าวมาข้างต้น"
      ]
    },
    {
      "cell_type": "code",
      "metadata": {
        "id": "MXpi0wTECAHo"
      },
      "source": [
        "# DO NOT ERASE THIS CELL - to be graded\n",
        "\n",
        "class Joy22(Joy21):\n",
        "\n",
        "    # วางแกรมมาร์ที่มีการปรับเปลี่ยนจาก Joy 2.0 ของตนเองให้รองรับฟังก์ชัน\n",
        "    # ตามที่ระบุข้างต้นเรียบร้อยแล้ว\n",
        "    # *** ใส่โค้ดของตนเอง ***\n",
        "    GRAMMAR = r'''\n",
        "        program: (funcdef | statement)*\n",
        "        funcdef: \"def\" ID \"(\" params \")\" \"{\" globals statements \"}\"\n",
        "        params: ID (\",\" ID)*\n",
        "              |\n",
        "        globals: (\"global\" ID \";\")*\n",
        "        statements : statement*\n",
        "        statement: stmt_assign\n",
        "                 | stmt_deref\n",
        "                 | stmt_if\n",
        "                 | stmt_if_else\n",
        "                 | stmt_while\n",
        "                 | stmt_until\n",
        "                 | stmt_call\n",
        "                 | stmt_return\n",
        "        stmt_call: expr_call \";\"\n",
        "        stmt_return: \"return\" expr \";\"\n",
        "        stmt_assign: \"let\" ID \"=\" expr \";\"\n",
        "        stmt_deref: \"let\" \"*\" expr \"=\" expr \";\"\n",
        "        stmt_if: \"if\" expr \"{\" statements \"}\"\n",
        "        stmt_if_else: \"if\" expr \"{\" statements \"}\" \"else\" \"{\" statements \"}\"\n",
        "        stmt_while: \"while\" expr \"{\" statements \"}\"\n",
        "        stmt_until: \"until\" expr \"{\" statements \"}\"\n",
        "        expr: expr_const\n",
        "            | expr_id\n",
        "            | expr_add\n",
        "            | expr_sub\n",
        "            | expr_neg\n",
        "            | expr_compare\n",
        "            | expr_or\n",
        "            | expr_and\n",
        "            | expr_not\n",
        "            | expr_ref\n",
        "            | expr_deref\n",
        "            | expr_string\n",
        "            | expr_array\n",
        "            | expr_bracket\n",
        "            | expr_call\n",
        "\n",
        "        expr_bracket: \"(\" expr \")\"\n",
        "        expr_array: \"[\" [ expr (\",\" expr)* [\",\"] ] \"]\"\n",
        "        expr_string: STRING\n",
        "        expr_ref:  \"&\" expr\n",
        "        expr_deref: \"*\" expr\n",
        "        expr_not:  \"!\" expr\n",
        "        expr_and: expr \"&&\" expr\n",
        "        expr_or:  expr \"||\" expr\n",
        "        expr_compare:  expr COMPARE expr\n",
        "        expr_sub: expr \"-\" expr\n",
        "        expr_add: expr \"+\" expr\n",
        "        expr_neg: \"-\" expr\n",
        "        expr_id: ID\n",
        "        expr_const: NUMBER\n",
        "                  | HEX\n",
        "                  | BIN\n",
        "                  | CHAR\n",
        "        expr_call: ID \"(\" args \")\"\n",
        "        args: expr (\",\" expr)*\n",
        "            |\n",
        "\n",
        "        STRING: /\"(\\\\.|[^\"\\\\])*\"/\n",
        "        HEX: /0[xX][0-9A-Fa-f]+/\n",
        "        BIN: /0[bB][01]+/\n",
        "        CHAR: /'.?'/\n",
        "        NUMBER: /-?[0-9]+/\n",
        "        COMPARE: /(>=|<=|==|!=|>|<)/\n",
        "        ID: /[_A-Za-z][_0-9A-Za-z]*/\n",
        "\n",
        "        WS: /[ \\t\\f\\r\\n]+/\n",
        "        COMMENT: \"//\" /[^\\r\\n]*[\\r\\n]?/\n",
        "\n",
        "        %ignore COMMENT\n",
        "        %ignore WS\n",
        "\n",
        "    '''\n",
        "\n",
        "    def __init__(self, **kwargs):\n",
        "        super().__init__(**kwargs)\n",
        "        # นิยามตัวแปรสมาชิกเพิ่มเติมตามต้องการ เช่น dict สำหรับเก็บรายการฟังก์ชันที่นิยามไปแล้ว\n",
        "        # พร้อมข้อมูลพารามิเตอร์\n",
        "        # *** ใส่โค้ดของตนเอง ***\n",
        "        self._func = dict()\n",
        "\n",
        "    def expr_call(self, tree):\n",
        "        [funcname, args] = tree.children\n",
        "\n",
        "        # ตรวจสอบว่าฟังก์ชันที่เรียกมีการนิยามหรือยัง\n",
        "        # หากไม่มีให้สั่ง raise JoyUndefinedFunctionException()\n",
        "        # *** ใส่โค้ดของตนเอง ***\n",
        "        if funcname.value not in self._func.keys():\n",
        "            raise JoyUndefinedFunctionException()\n",
        "\n",
        "        # ตรวจสอบจำนวนอาร์กิวเมนต์ ซึ่งต้องเท่ากับจำนวนพารามิเตอร์\n",
        "        # หากไม่เท่าให้สั่ง raise JoyParamMismatchException()\n",
        "        # *** ใส่โค้ดของตนเอง ***\n",
        "\n",
        "        if len(args.children) != len(self._func[f'{funcname.value}']) :\n",
        "            raise JoyParamMismatchException()\n",
        "\n",
        "        # สร้างโค้ดคำนวณอาร์กิวเมนต์แต่ละค่า แล้วบันทึกไว้ในพารามิเตอร์แต่ละตัวของฟังก์ชันผู้ถูกเรียก\n",
        "        # (ใช้ get_var_label() แบบระบุชื่อฟังก์ชันได้)\n",
        "        # *** ใส่โค้ดของตนเอง ***\n",
        "\n",
        "        for i in range (len(args.children)) :\n",
        "          x = self._func[f'{funcname.value}'][i]\n",
        "          self.visit(args.children[i])\n",
        "          self.gen_move(self.get_var_label(x, funcname.value), 'THIS')\n",
        "\n",
        "        # push ค่าปัจจุบันของ LCL ลงสแต็ก\n",
        "        # *** ใส่โค้ดของตนเอง ***\n",
        "        label = self.gen_label_no()\n",
        "\n",
        "        self.gen_push('LCL')\n",
        "\n",
        "        # บันทึกค่า return address ไว้ใน LCL ซึ่งได้มาจากลาเบลที่กำลังจะ\n",
        "        # วางไว้ต่อจากโค้ดกระโดดไปยังฟังก์ชัน\n",
        "        # *** ใส่โค้ดของตนเอง ***\n",
        "        self._asm.append(f'''\n",
        "        @.return.{label}\n",
        "        D=A\n",
        "        @LCL\n",
        "        M=D\n",
        "        ''')\n",
        "\n",
        "        # สร้างโค้ดกระโดดไปยังจุดเริ่มต้นของฟังก์ชันผู้ถูกเรียก\n",
        "        # *** ใส่โค้ดของตนเอง ***\n",
        "        self._asm.append(f'''\n",
        "        @.{funcname.value}.start\n",
        "        0;JMP\n",
        "        ''')\n",
        "\n",
        "        # วางลาเบลที่ใช้เป็น return address (ระวังอย่าให้ชื่อลาเบลซ้ำ)\n",
        "        # *** ใส่โค้ดของตนเอง ***\n",
        "        self._asm.append(f'(.return.{label})')\n",
        "\n",
        "        # pop ค่า LCL เดิมที่เคยบันทึกไว้ออกมาจากสแต็ก\n",
        "        # *** ใส่โค้ดของตนเอง ***\n",
        "        self.gen_pop('LCL')\n",
        "\n",
        "    def funcdef(self, tree):\n",
        "        [funcname, params, globals, statements] = tree.children\n",
        "\n",
        "        # ตรวจสอบว่าชื่อฟังก์ชันซ้ำกับที่เคยนิยามมาแล้วหรือไม่\n",
        "        # หากพบว่าซ้ำให้สั่ง raise JoyMultiplyDefinedFunctionException()\n",
        "        # *** ใส่โค้ดของตนเอง ***\n",
        "        if funcname.value in self._func.keys():\n",
        "            raise JoyMultiplyDefinedFunctionException()\n",
        "\n",
        "\n",
        "        # ตั้ง _scope ให้เป็นชื่อฟังก์ชัน\n",
        "        self._scope = funcname.value\n",
        "\n",
        "        # เก็บรายชื่อตัวแปรโกลบอลลงในเซ็ต _global ที่นิยามไว้ใน ​Joy 2.1\n",
        "        for g in globals.children:\n",
        "            self._globals.add(g.value)\n",
        "\n",
        "        # บันทีกข้อมูลเกี่ยวกับฟังก์ชัน เพื่อใช้ตรวจสอบในภายหลัง เช่น ชื่อฟังก์ชัน จำนวนพารามิเตอร์ ฯลฯ\n",
        "        # *** ใส่โค้ดของตนเอง ***\n",
        "        self._func[f'{funcname.value}'] = params.children\n",
        "\n",
        "        # สร้างโค้ดให้กระโดดข้ามฟังก์ชันบอดี้ไปยังท้ายฟังก์ชัน\n",
        "        # (เพื่อป้องกันไม่ให้ฟังก์ชันทำงานระหว่างการนิยาม)\n",
        "        # *** ใส่โค้ดของตนเอง **\n",
        "        self._asm.append(f'''\n",
        "        @.{funcname.value}.end\n",
        "        0;JMP\n",
        "        ''')\n",
        "\n",
        "        # วางลาเบลระบุจุดเริ่มต้นของฟังก์ชันเพื่อให้ผู้เรียกกระโดดมาที่จุดนี้เมื่อพบคำสั่งเรียกฟังก์ชัน\n",
        "        # (ระวังอย่าให้ชื่อลาเบลซ้ำ)\n",
        "        # *** ใส่โค้ดของตนเอง ***\n",
        "        self._asm.append(f'(.{funcname.value}.start)')\n",
        "\n",
        "        # สร้างโค้ดสำหรับบอดี้ของฟังก์ชัน (อยู่ในตัวแปร statements ที่ดึงมาจาก parse tree)\n",
        "        # *** ใส่โค้ดของตนเอง ***\n",
        "        for i in statements.children :\n",
        "          self.visit(i)\n",
        "\n",
        "        # วางลาเบลเพื่อใช้เป็นจุดกระโดดออกจากฟังก์ชัน\n",
        "        # *** ใส่โค้ดของตนเอง ***\n",
        "        self._asm.append(f'(.{funcname.value}.return)')\n",
        "\n",
        "        # สร้างโค้ดกระโดดกลับไปยังผู้เรียก โดยดึง return address จาก LCL\n",
        "        # *** ใส่โค้ดของตนเอง ***\n",
        "        self._asm.append(f'''\n",
        "        @LCL\n",
        "        A=M\n",
        "        0;JMP\n",
        "        ''')\n",
        "\n",
        "        # วางลาเบลปิดท้ายฟังก์ชันเพื่อใช้เป็นจุดกระโดดข้ามฟังก์ชันบอดี้ระหว่างการนิยามฟังก์ชัน\n",
        "        # *** ใส่โค้ดของตนเอง ***\n",
        "        self._asm.append(f'(.{funcname.value}.end)')\n",
        "\n",
        "        # กำหนด _scope ให้เป็นโกลบอลดังเดิม และล้างรายการตัวแปรโกลบอลออกจากเซ็ต _globals\n",
        "        self._scope = None\n",
        "        self._globals.clear()\n",
        "\n",
        "    def stmt_return(self, tree):\n",
        "        # ตรวจสอบว่าอยู่ในสโคปของฟังก์ชันหรือไม่ หากเป็นโกลบอลสโคป (_scope เป็น None)\n",
        "        # ให้สั่ง raise JoyReturnOutsideFunctionException()\n",
        "        if self._scope == None:\n",
        "            raise JoyReturnOutsideFunctionException()\n",
        "\n",
        "        # สร้างโค้ดประมวลผลค่า expr ซึ่งผลลัพธ์จะต้องอยู่ในรีจีสเตอร์ THIS ตามที่ต้องการอยู่แล้ว\n",
        "        # *** ใส่โค้ดของตนเอง ***\n",
        "        [expr] = tree.children\n",
        "        self.visit(expr)\n",
        "\n",
        "        # สร้างโค้ดกระโดดไปยังลาเบลที่เตรียมออกจากฟังก์ชัน\n",
        "        # *** ใส่โค้ดของตนเอง ***\n",
        "        self._asm.append(f'''\n",
        "        @.{self._scope}.return\n",
        "        0;JMP\n",
        "        ''')\n"
      ],
      "execution_count": null,
      "outputs": []
    },
    {
      "cell_type": "code",
      "source": [
        "x ='''\n",
        "            def func1() {\n",
        "                return 1234;\n",
        "            }\n",
        "            let *10 = func1();\n",
        "           '''\n",
        "\n",
        "tree = Joy22().parse(x)\n",
        "draw(tree)\n",
        "print(tree.children)"
      ],
      "metadata": {
        "colab": {
          "base_uri": "https://localhost:8080/",
          "height": 597
        },
        "id": "V8ZZ5l0I64Nr",
        "outputId": "dfe849a8-7c94-41d8-d0dc-810d88f05fc1"
      },
      "execution_count": null,
      "outputs": [
        {
          "output_type": "display_data",
          "data": {
            "image/svg+xml": "<?xml version=\"1.0\" encoding=\"UTF-8\" standalone=\"no\"?>\n<!DOCTYPE svg PUBLIC \"-//W3C//DTD SVG 1.1//EN\"\n \"http://www.w3.org/Graphics/SVG/1.1/DTD/svg11.dtd\">\n<!-- Generated by graphviz version 2.43.0 (0)\n -->\n<!-- Title: %3 Pages: 1 -->\n<svg width=\"519pt\" height=\"404pt\"\n viewBox=\"0.00 0.00 518.50 404.00\" xmlns=\"http://www.w3.org/2000/svg\" xmlns:xlink=\"http://www.w3.org/1999/xlink\">\n<g id=\"graph0\" class=\"graph\" transform=\"scale(1 1) rotate(0) translate(4 400)\">\n<title>%3</title>\n<polygon fill=\"white\" stroke=\"transparent\" points=\"-4,4 -4,-400 514.5,-400 514.5,4 -4,4\"/>\n<!-- n0 -->\n<g id=\"node1\" class=\"node\">\n<title>n0</title>\n<text text-anchor=\"middle\" x=\"209\" y=\"-384.8\" font-family=\"Times,serif\" font-size=\"14.00\">program</text>\n</g>\n<!-- n1 -->\n<g id=\"node2\" class=\"node\">\n<title>n1</title>\n<text text-anchor=\"middle\" x=\"176\" y=\"-333.8\" font-family=\"Times,serif\" font-size=\"14.00\">funcdef</text>\n</g>\n<!-- n0&#45;&#45;n1 -->\n<g id=\"edge10\" class=\"edge\">\n<title>n0&#45;&#45;n1</title>\n<path fill=\"none\" stroke=\"black\" d=\"M204.41,-380.69C198.11,-371.33 186.83,-354.59 180.55,-345.26\"/>\n</g>\n<!-- n107 -->\n<g id=\"node12\" class=\"node\">\n<title>n107</title>\n<text text-anchor=\"middle\" x=\"281\" y=\"-333.8\" font-family=\"Times,serif\" font-size=\"14.00\">statement</text>\n</g>\n<!-- n0&#45;&#45;n107 -->\n<g id=\"edge19\" class=\"edge\">\n<title>n0&#45;&#45;n107</title>\n<path fill=\"none\" stroke=\"black\" d=\"M218.71,-380.89C232.53,-371.49 257.71,-354.35 271.44,-345\"/>\n</g>\n<!-- n2 -->\n<g id=\"node3\" class=\"node\">\n<title>n2</title>\n<polygon fill=\"none\" stroke=\"black\" points=\"80,-294 0,-294 0,-271 80,-271 80,-294\"/>\n<text text-anchor=\"start\" x=\"8\" y=\"-279.8\" font-family=\"Times,serif\" font-size=\"14.00\">ID: </text>\n<text text-anchor=\"start\" x=\"30\" y=\"-279.8\" font-family=\"monospace\" font-size=\"14.00\" fill=\"brown\">func1</text>\n</g>\n<!-- n1&#45;&#45;n2 -->\n<g id=\"edge1\" class=\"edge\">\n<title>n1&#45;&#45;n2</title>\n<path fill=\"none\" stroke=\"black\" d=\"M159.05,-329.89C135.98,-320.9 94.43,-304.71 67.03,-294.04\"/>\n</g>\n<!-- n3 -->\n<g id=\"node4\" class=\"node\">\n<title>n3</title>\n<text text-anchor=\"middle\" x=\"118\" y=\"-278.8\" font-family=\"Times,serif\" font-size=\"14.00\">params</text>\n</g>\n<!-- n1&#45;&#45;n3 -->\n<g id=\"edge2\" class=\"edge\">\n<title>n1&#45;&#45;n3</title>\n<path fill=\"none\" stroke=\"black\" d=\"M168.42,-329.57C157.24,-319.36 136.47,-300.38 125.4,-290.26\"/>\n</g>\n<!-- n7 -->\n<g id=\"node5\" class=\"node\">\n<title>n7</title>\n<text text-anchor=\"middle\" x=\"176\" y=\"-278.8\" font-family=\"Times,serif\" font-size=\"14.00\">globals</text>\n</g>\n<!-- n1&#45;&#45;n7 -->\n<g id=\"edge3\" class=\"edge\">\n<title>n1&#45;&#45;n7</title>\n<path fill=\"none\" stroke=\"black\" d=\"M176,-329.57C176,-319.36 176,-300.38 176,-290.26\"/>\n</g>\n<!-- n15 -->\n<g id=\"node6\" class=\"node\">\n<title>n15</title>\n<text text-anchor=\"middle\" x=\"243\" y=\"-278.8\" font-family=\"Times,serif\" font-size=\"14.00\">statements</text>\n</g>\n<!-- n1&#45;&#45;n15 -->\n<g id=\"edge9\" class=\"edge\">\n<title>n1&#45;&#45;n15</title>\n<path fill=\"none\" stroke=\"black\" d=\"M184.49,-329.79C197.3,-319.65 221.47,-300.53 234.37,-290.33\"/>\n</g>\n<!-- n16 -->\n<g id=\"node7\" class=\"node\">\n<title>n16</title>\n<text text-anchor=\"middle\" x=\"242\" y=\"-223.8\" font-family=\"Times,serif\" font-size=\"14.00\">statement</text>\n</g>\n<!-- n15&#45;&#45;n16 -->\n<g id=\"edge8\" class=\"edge\">\n<title>n15&#45;&#45;n16</title>\n<path fill=\"none\" stroke=\"black\" d=\"M242.87,-274.57C242.68,-264.36 242.32,-245.38 242.13,-235.26\"/>\n</g>\n<!-- n17 -->\n<g id=\"node8\" class=\"node\">\n<title>n17</title>\n<text text-anchor=\"middle\" x=\"241\" y=\"-172.8\" font-family=\"Times,serif\" font-size=\"14.00\">stmt_return</text>\n</g>\n<!-- n16&#45;&#45;n17 -->\n<g id=\"edge7\" class=\"edge\">\n<title>n16&#45;&#45;n17</title>\n<path fill=\"none\" stroke=\"black\" d=\"M241.86,-219.69C241.67,-210.33 241.33,-193.59 241.14,-184.26\"/>\n</g>\n<!-- n18 -->\n<g id=\"node9\" class=\"node\">\n<title>n18</title>\n<text text-anchor=\"middle\" x=\"240\" y=\"-117.8\" font-family=\"Times,serif\" font-size=\"14.00\">expr</text>\n</g>\n<!-- n17&#45;&#45;n18 -->\n<g id=\"edge6\" class=\"edge\">\n<title>n17&#45;&#45;n18</title>\n<path fill=\"none\" stroke=\"black\" d=\"M240.87,-168.57C240.68,-158.36 240.32,-139.38 240.13,-129.26\"/>\n</g>\n<!-- n19 -->\n<g id=\"node10\" class=\"node\">\n<title>n19</title>\n<text text-anchor=\"middle\" x=\"240\" y=\"-62.8\" font-family=\"Times,serif\" font-size=\"14.00\">expr_const</text>\n</g>\n<!-- n18&#45;&#45;n19 -->\n<g id=\"edge5\" class=\"edge\">\n<title>n18&#45;&#45;n19</title>\n<path fill=\"none\" stroke=\"black\" d=\"M240,-113.57C240,-103.36 240,-84.38 240,-74.26\"/>\n</g>\n<!-- n20 -->\n<g id=\"node11\" class=\"node\">\n<title>n20</title>\n<polygon fill=\"none\" stroke=\"black\" points=\"298.5,-23 181.5,-23 181.5,0 298.5,0 298.5,-23\"/>\n<text text-anchor=\"start\" x=\"189.5\" y=\"-8.8\" font-family=\"Times,serif\" font-size=\"14.00\">NUMBER: </text>\n<text text-anchor=\"start\" x=\"256.5\" y=\"-8.8\" font-family=\"monospace\" font-size=\"14.00\" fill=\"brown\">1234</text>\n</g>\n<!-- n19&#45;&#45;n20 -->\n<g id=\"edge4\" class=\"edge\">\n<title>n19&#45;&#45;n20</title>\n<path fill=\"none\" stroke=\"black\" d=\"M240,-58.57C240,-49.59 240,-33.84 240,-23.29\"/>\n</g>\n<!-- n108 -->\n<g id=\"node13\" class=\"node\">\n<title>n108</title>\n<text text-anchor=\"middle\" x=\"321\" y=\"-278.8\" font-family=\"Times,serif\" font-size=\"14.00\">stmt_deref</text>\n</g>\n<!-- n107&#45;&#45;n108 -->\n<g id=\"edge18\" class=\"edge\">\n<title>n107&#45;&#45;n108</title>\n<path fill=\"none\" stroke=\"black\" d=\"M286.23,-329.57C293.94,-319.36 308.26,-300.38 315.9,-290.26\"/>\n</g>\n<!-- n109 -->\n<g id=\"node14\" class=\"node\">\n<title>n109</title>\n<text text-anchor=\"middle\" x=\"321\" y=\"-223.8\" font-family=\"Times,serif\" font-size=\"14.00\">expr</text>\n</g>\n<!-- n108&#45;&#45;n109 -->\n<g id=\"edge13\" class=\"edge\">\n<title>n108&#45;&#45;n109</title>\n<path fill=\"none\" stroke=\"black\" d=\"M321,-274.57C321,-264.36 321,-245.38 321,-235.26\"/>\n</g>\n<!-- n331 -->\n<g id=\"node17\" class=\"node\">\n<title>n331</title>\n<text text-anchor=\"middle\" x=\"396\" y=\"-223.8\" font-family=\"Times,serif\" font-size=\"14.00\">expr</text>\n</g>\n<!-- n108&#45;&#45;n331 -->\n<g id=\"edge17\" class=\"edge\">\n<title>n108&#45;&#45;n331</title>\n<path fill=\"none\" stroke=\"black\" d=\"M330.5,-274.79C344.85,-264.65 371.9,-245.53 386.34,-235.33\"/>\n</g>\n<!-- n110 -->\n<g id=\"node15\" class=\"node\">\n<title>n110</title>\n<text text-anchor=\"middle\" x=\"321\" y=\"-172.8\" font-family=\"Times,serif\" font-size=\"14.00\">expr_const</text>\n</g>\n<!-- n109&#45;&#45;n110 -->\n<g id=\"edge12\" class=\"edge\">\n<title>n109&#45;&#45;n110</title>\n<path fill=\"none\" stroke=\"black\" d=\"M321,-219.69C321,-210.33 321,-193.59 321,-184.26\"/>\n</g>\n<!-- n111 -->\n<g id=\"node16\" class=\"node\">\n<title>n111</title>\n<polygon fill=\"none\" stroke=\"black\" points=\"371,-133 271,-133 271,-110 371,-110 371,-133\"/>\n<text text-anchor=\"start\" x=\"279\" y=\"-118.8\" font-family=\"Times,serif\" font-size=\"14.00\">NUMBER: </text>\n<text text-anchor=\"start\" x=\"346\" y=\"-118.8\" font-family=\"monospace\" font-size=\"14.00\" fill=\"brown\">10</text>\n</g>\n<!-- n110&#45;&#45;n111 -->\n<g id=\"edge11\" class=\"edge\">\n<title>n110&#45;&#45;n111</title>\n<path fill=\"none\" stroke=\"black\" d=\"M321,-168.57C321,-159.59 321,-143.84 321,-133.29\"/>\n</g>\n<!-- n332 -->\n<g id=\"node18\" class=\"node\">\n<title>n332</title>\n<text text-anchor=\"middle\" x=\"429\" y=\"-172.8\" font-family=\"Times,serif\" font-size=\"14.00\">expr_call</text>\n</g>\n<!-- n331&#45;&#45;n332 -->\n<g id=\"edge16\" class=\"edge\">\n<title>n331&#45;&#45;n332</title>\n<path fill=\"none\" stroke=\"black\" d=\"M400.59,-219.69C406.89,-210.33 418.17,-193.59 424.45,-184.26\"/>\n</g>\n<!-- n333 -->\n<g id=\"node19\" class=\"node\">\n<title>n333</title>\n<polygon fill=\"none\" stroke=\"black\" points=\"469,-133 389,-133 389,-110 469,-110 469,-133\"/>\n<text text-anchor=\"start\" x=\"397\" y=\"-118.8\" font-family=\"Times,serif\" font-size=\"14.00\">ID: </text>\n<text text-anchor=\"start\" x=\"419\" y=\"-118.8\" font-family=\"monospace\" font-size=\"14.00\" fill=\"brown\">func1</text>\n</g>\n<!-- n332&#45;&#45;n333 -->\n<g id=\"edge14\" class=\"edge\">\n<title>n332&#45;&#45;n333</title>\n<path fill=\"none\" stroke=\"black\" d=\"M429,-168.57C429,-159.59 429,-143.84 429,-133.29\"/>\n</g>\n<!-- n334 -->\n<g id=\"node20\" class=\"node\">\n<title>n334</title>\n<text text-anchor=\"middle\" x=\"499\" y=\"-117.8\" font-family=\"Times,serif\" font-size=\"14.00\">args</text>\n</g>\n<!-- n332&#45;&#45;n334 -->\n<g id=\"edge15\" class=\"edge\">\n<title>n332&#45;&#45;n334</title>\n<path fill=\"none\" stroke=\"black\" d=\"M437.87,-168.79C451.26,-158.65 476.51,-139.53 489.99,-129.33\"/>\n</g>\n</g>\n</svg>\n",
            "text/plain": [
              "<graphviz.graphs.Graph at 0x7ceeee77e3f0>"
            ]
          },
          "metadata": {}
        },
        {
          "output_type": "stream",
          "name": "stdout",
          "text": [
            "[Tree(Token('RULE', 'funcdef'), [Token('ID', 'func1'), Tree(Token('RULE', 'params'), []), Tree(Token('RULE', 'globals'), []), Tree(Token('RULE', 'statements'), [Tree(Token('RULE', 'statement'), [Tree(Token('RULE', 'stmt_return'), [Tree(Token('RULE', 'expr'), [Tree(Token('RULE', 'expr_const'), [Token('NUMBER', '1234')])])])])])]), Tree(Token('RULE', 'statement'), [Tree(Token('RULE', 'stmt_deref'), [Tree(Token('RULE', 'expr'), [Tree(Token('RULE', 'expr_const'), [Token('NUMBER', '10')])]), Tree(Token('RULE', 'expr'), [Tree(Token('RULE', 'expr_call'), [Token('ID', 'func1'), Tree(Token('RULE', 'args'), [])])])])])]\n"
          ]
        }
      ]
    },
    {
      "cell_type": "code",
      "source": [
        "x = Joy22().compile(x)\n",
        "assemble_and_simulate(x)"
      ],
      "metadata": {
        "colab": {
          "base_uri": "https://localhost:8080/",
          "height": 644
        },
        "id": "iQhPfXNMNDS_",
        "outputId": "92affa81-c7b2-447b-eeda-269b8abc3ecc"
      },
      "execution_count": null,
      "outputs": [
        {
          "output_type": "display_data",
          "data": {
            "text/html": [
              "\n",
              "<link rel=\"stylesheet\" href=\"https://jittat.gitlab.io/hacksim/sim.css\">\n",
              "<div id=\"sim-ui\">\n",
              "  <simulator v-bind:simulator=\"simulator\" memory-display-slots=\"30\" screen-scale=\"1\" v-bind:light-weight=\"false\" fastest-steps=\"103\"/>\n",
              "</div>\n",
              "\n",
              "<script>var exports = {};</script>\n",
              "<script src=\"https://cdn.jsdelivr.net/npm/vue/dist/vue.js\"></script>\n",
              "<script src=\"https://jittat.gitlab.io/hacksim/simulator.js\"></script>\n",
              "<script src=\"https://jittat.gitlab.io/hacksim/simulator-ui.js\"></script>\n",
              "\n",
              "<script>\n",
              "  var simulator = new HackSimulator();\n",
              "simulator.loadInstructions([16383,60432,0,58120,15,60039,1234,60432,3,58120,12,60039,1,64544,60039,10,60432,3,58120,3,64528,0,64544,58120,0,64648,1,64528,0,64544,58120,0,64648,39,60432,1,58120,6,60039,0,65000,64528,1,58120,0,65000,64528,4,58120,3,64528,4,64544,58120]);\n",
              "simulator.sourceCode = [{ \"lineNumber\" : null, \"code\" : \"// init stack (SP <- 16383)\"}, { \"lineNumber\" : 0, \"code\" : \"@16383\"}, { \"lineNumber\" : 1, \"code\" : \"D=A\"}, { \"lineNumber\" : 2, \"code\" : \"@SP\"}, { \"lineNumber\" : 3, \"code\" : \"M=D\"}, { \"lineNumber\" : 4, \"code\" : \"@.func1.end\"}, { \"lineNumber\" : 5, \"code\" : \"0;JMP\"}, { \"lineNumber\" : null, \"code\" : \"  (.func1.start)\"}, { \"lineNumber\" : null, \"code\" : \"//##Normal Number(1234)##\"}, { \"lineNumber\" : null, \"code\" : \"// [THIS] <- 1234\"}, { \"lineNumber\" : 6, \"code\" : \"@1234\"}, { \"lineNumber\" : 7, \"code\" : \"D=A\"}, { \"lineNumber\" : 8, \"code\" : \"@THIS\"}, { \"lineNumber\" : 9, \"code\" : \"M=D\"}, { \"lineNumber\" : 10, \"code\" : \"@.func1.return\"}, { \"lineNumber\" : 11, \"code\" : \"0;JMP\"}, { \"lineNumber\" : null, \"code\" : \"  (.func1.return)\"}, { \"lineNumber\" : 12, \"code\" : \"@LCL\"}, { \"lineNumber\" : 13, \"code\" : \"A=M\"}, { \"lineNumber\" : 14, \"code\" : \"0;JMP\"}, { \"lineNumber\" : null, \"code\" : \"  (.func1.end)\"}, { \"lineNumber\" : null, \"code\" : \"//##Normal Number(10)##\"}, { \"lineNumber\" : null, \"code\" : \"// [THIS] <- 10\"}, { \"lineNumber\" : 15, \"code\" : \"@10\"}, { \"lineNumber\" : 16, \"code\" : \"D=A\"}, { \"lineNumber\" : 17, \"code\" : \"@THIS\"}, { \"lineNumber\" : 18, \"code\" : \"M=D\"}, { \"lineNumber\" : null, \"code\" : \"// Push [THIS]\"}, { \"lineNumber\" : 19, \"code\" : \"@THIS\"}, { \"lineNumber\" : 20, \"code\" : \"D=M\"}, { \"lineNumber\" : 21, \"code\" : \"@SP\"}, { \"lineNumber\" : 22, \"code\" : \"A=M\"}, { \"lineNumber\" : 23, \"code\" : \"M=D\"}, { \"lineNumber\" : 24, \"code\" : \"@SP\"}, { \"lineNumber\" : 25, \"code\" : \"M=M-1\"}, { \"lineNumber\" : null, \"code\" : \"// Push [LCL]\"}, { \"lineNumber\" : 26, \"code\" : \"@LCL\"}, { \"lineNumber\" : 27, \"code\" : \"D=M\"}, { \"lineNumber\" : 28, \"code\" : \"@SP\"}, { \"lineNumber\" : 29, \"code\" : \"A=M\"}, { \"lineNumber\" : 30, \"code\" : \"M=D\"}, { \"lineNumber\" : 31, \"code\" : \"@SP\"}, { \"lineNumber\" : 32, \"code\" : \"M=M-1\"}, { \"lineNumber\" : 33, \"code\" : \"@.return.1\"}, { \"lineNumber\" : 34, \"code\" : \"D=A\"}, { \"lineNumber\" : 35, \"code\" : \"@LCL\"}, { \"lineNumber\" : 36, \"code\" : \"M=D\"}, { \"lineNumber\" : 37, \"code\" : \"@.func1.start\"}, { \"lineNumber\" : 38, \"code\" : \"0;JMP\"}, { \"lineNumber\" : null, \"code\" : \"  (.return.1)\"}, { \"lineNumber\" : null, \"code\" : \"// Pop [LCL]\"}, { \"lineNumber\" : 39, \"code\" : \"@SP\"}, { \"lineNumber\" : 40, \"code\" : \"AM=M+1\"}, { \"lineNumber\" : 41, \"code\" : \"D=M\"}, { \"lineNumber\" : 42, \"code\" : \"@LCL\"}, { \"lineNumber\" : 43, \"code\" : \"M=D\"}, { \"lineNumber\" : null, \"code\" : \"// Pop [THAT]\"}, { \"lineNumber\" : 44, \"code\" : \"@SP\"}, { \"lineNumber\" : 45, \"code\" : \"AM=M+1\"}, { \"lineNumber\" : 46, \"code\" : \"D=M\"}, { \"lineNumber\" : 47, \"code\" : \"@THAT\"}, { \"lineNumber\" : 48, \"code\" : \"M=D\"}, { \"lineNumber\" : 49, \"code\" : \"@THIS\"}, { \"lineNumber\" : 50, \"code\" : \"D=M\"}, { \"lineNumber\" : 51, \"code\" : \"@THAT\"}, { \"lineNumber\" : 52, \"code\" : \"A=M\"}, { \"lineNumber\" : 53, \"code\" : \"M=D\"}]\n",
              "  simulator.memoryWriteCallbacks.push(memUpdateCallback);\n",
              "  simulator.memoryWriteCallbacks.push(screenUpdateCallback);\n",
              "\n",
              "  var app = new Vue({\n",
              "    el: '#sim-ui',\n",
              "    data: {\n",
              "      simulator: simulator\n",
              "    }\n",
              "  });\n",
              "</script>\n"
            ]
          },
          "metadata": {}
        }
      ]
    },
    {
      "cell_type": "markdown",
      "metadata": {
        "id": "VSmMgW0YtSO-"
      },
      "source": [
        "## Test cases"
      ]
    },
    {
      "cell_type": "code",
      "metadata": {
        "id": "i2cHxasef3Ya",
        "colab": {
          "base_uri": "https://localhost:8080/"
        },
        "outputId": "8a3fe374-1ee3-470e-cf4b-d62bd4649acf"
      },
      "source": [
        "# DO NOT MODIFY\n",
        "\n",
        "class TestJoy22(TestJoy21):\n",
        "\n",
        "    JOY_COMPILER = Joy22\n",
        "\n",
        "    def test_func_no_arg_no_local(self):\n",
        "        self.compile_and_run('''\n",
        "            def func1() {\n",
        "                return 1234;\n",
        "            }\n",
        "            let *10 = func1();\n",
        "        ''')\n",
        "        self.assertEqual(self.cpu.ram[10], 1234)\n",
        "        self.assertEqual(self.cpu.ram[0], 0x3fff)\n",
        "\n",
        "    def test_func_no_arg(self):\n",
        "        self.compile_and_run('''\n",
        "            def func1() {\n",
        "                let a = 2;\n",
        "                return 3;\n",
        "            }\n",
        "            let a = 1;\n",
        "            func1();\n",
        "            let *10 = a;\n",
        "        ''')\n",
        "        self.assertEqual(self.cpu.ram[10], 1)\n",
        "        self.assertEqual(self.cpu.ram[0], 0x3fff)\n",
        "\n",
        "    def test_func_args(self):\n",
        "        self.compile_and_run('''\n",
        "            def func1(a, b) {\n",
        "                return a+b;\n",
        "            }\n",
        "            let a = 1;\n",
        "            let b = 2;\n",
        "            let *10 = func1(10, 20);\n",
        "            let *11 = a;\n",
        "            let *12 = b;\n",
        "        ''')\n",
        "        self.assertEqual(self.cpu.ram[10], 30)\n",
        "        self.assertEqual(self.cpu.ram[11], 1)\n",
        "        self.assertEqual(self.cpu.ram[12], 2)\n",
        "        self.assertEqual(self.cpu.ram[0], 0x3fff)\n",
        "\n",
        "    def test_func_globals1(self):\n",
        "        self.compile_and_run('''\n",
        "            def func1(a, b) {\n",
        "                global g;\n",
        "                let g = 30;\n",
        "                return a+b;\n",
        "            }\n",
        "            let a = 1;\n",
        "            let b = 2;\n",
        "            let g = 0;\n",
        "            let *10 = func1(10, 20);\n",
        "            let *11 = a;\n",
        "            let *12 = b;\n",
        "            let *13 = g;\n",
        "        ''')\n",
        "        self.assertEqual(self.cpu.ram[10], 30)\n",
        "        self.assertEqual(self.cpu.ram[11], 1)\n",
        "        self.assertEqual(self.cpu.ram[12], 2)\n",
        "        self.assertEqual(self.cpu.ram[13], 30)\n",
        "        self.assertEqual(self.cpu.ram[0], 0x3fff)\n",
        "\n",
        "    def test_func_globals2(self):\n",
        "        self.compile_and_run('''\n",
        "            def func1() {\n",
        "                global g1;\n",
        "                let g1 = 1;  // global\n",
        "                return 0;\n",
        "            }\n",
        "            def func2() {\n",
        "                global g2;\n",
        "                let g1 = 2;  // local\n",
        "                return 0;\n",
        "            }\n",
        "            let g1 = 10;\n",
        "            let g2 = 20;\n",
        "            func1();\n",
        "            func2();\n",
        "            let *10 = g1;\n",
        "            let *11 = g2;\n",
        "        ''')\n",
        "        self.assertEqual(self.cpu.ram[10], 1)\n",
        "        self.assertEqual(self.cpu.ram[11], 20)\n",
        "        self.assertEqual(self.cpu.ram[0], 0x3fff)\n",
        "\n",
        "    def test_func_no_return(self):\n",
        "        self.compile_and_run('''\n",
        "            def func1() {\n",
        "                global x;\n",
        "                let x = 123;\n",
        "            }\n",
        "\n",
        "            func1();\n",
        "            let *10 = x;\n",
        "        ''')\n",
        "        self.assertEqual(self.cpu.ram[10], 123)\n",
        "        self.assertEqual(self.cpu.ram[0], 0x3fff)\n",
        "\n",
        "    def test_func_mid_return(self):\n",
        "        self.compile_and_run('''\n",
        "            def func1(x) {\n",
        "                if x < 10 { return 1;}\n",
        "                else { return 2; }\n",
        "            }\n",
        "\n",
        "            let *10 = func1(5);\n",
        "            let *11 = func1(15);\n",
        "        ''')\n",
        "        self.assertEqual(self.cpu.ram[10], 1)\n",
        "        self.assertEqual(self.cpu.ram[11], 2)\n",
        "        self.assertEqual(self.cpu.ram[0], 0x3fff)\n",
        "\n",
        "    def test_func_chained_call(self):\n",
        "        self.compile_and_run('''\n",
        "            def f(x) {\n",
        "                return x+2;\n",
        "            }\n",
        "            def g(y) {\n",
        "                return f(y)+5;\n",
        "            }\n",
        "\n",
        "            let *10 = g(10);\n",
        "        ''')\n",
        "        self.assertEqual(self.cpu.ram[10], 17)\n",
        "        self.assertEqual(self.cpu.ram[0], 0x3fff)\n",
        "\n",
        "    def test_func_nested_call(self):\n",
        "        self.compile_and_run('''\n",
        "            def f(x) {\n",
        "                return x+2;\n",
        "            }\n",
        "            def g(x) {\n",
        "                return 50-x;\n",
        "            }\n",
        "\n",
        "            let *10 = f(g(30));\n",
        "        ''')\n",
        "        self.assertEqual(self.cpu.ram[10], 22)\n",
        "        self.assertEqual(self.cpu.ram[0], 0x3fff)\n",
        "\n",
        "    def test_func_nested_call2(self):\n",
        "        self.compile_and_run('''\n",
        "            def f(x) {\n",
        "                return x+2;\n",
        "            }\n",
        "            let *10 = f(f(30));\n",
        "        ''')\n",
        "        self.assertEqual(self.cpu.ram[10], 34)\n",
        "        self.assertEqual(self.cpu.ram[0], 0x3fff)\n",
        "\n",
        "    def test_undefined_func(self):\n",
        "        with self.assertRaises(JoyUndefinedFunctionException):\n",
        "            self.compile_and_run('''\n",
        "                def func1(a, b) {\n",
        "                    return a+b;\n",
        "                }\n",
        "                let a = func2();\n",
        "            ''')\n",
        "\n",
        "    def test_param_mismatch(self):\n",
        "        with self.assertRaises(JoyParamMismatchException):\n",
        "            self.compile_and_run('''\n",
        "                def func1(a, b) {\n",
        "                    return a+b;\n",
        "                }\n",
        "                let a = func1();\n",
        "            ''')\n",
        "\n",
        "    def test_multiply_defined(self):\n",
        "        with self.assertRaises(JoyMultiplyDefinedFunctionException):\n",
        "            self.compile_and_run('''\n",
        "                def func1(a, b) {\n",
        "                    return a+b;\n",
        "                }\n",
        "                def func1() {\n",
        "                    return 3;\n",
        "                }\n",
        "                let a = func1();\n",
        "            ''')\n",
        "\n",
        "    def test_return_outside_func(self):\n",
        "        with self.assertRaises(JoyMultiplyDefinedFunctionException):\n",
        "            self.compile_and_run('''\n",
        "                def func1(a, b) {\n",
        "                    return a+b;\n",
        "                }\n",
        "                def func1() {\n",
        "                    return 3;\n",
        "                }\n",
        "                let a = func1();\n",
        "                return 0;\n",
        "            ''')\n",
        "\n",
        "run_test(TestJoy22)"
      ],
      "execution_count": null,
      "outputs": [
        {
          "output_type": "stream",
          "name": "stderr",
          "text": [
            ".....................................................\n",
            "----------------------------------------------------------------------\n",
            "Ran 53 tests in 6.906s\n",
            "\n",
            "OK\n"
          ]
        }
      ]
    },
    {
      "cell_type": "markdown",
      "metadata": {
        "id": "al5w9LlwvH28"
      },
      "source": [
        "# Joy 2.3 - Mul/div and Joy runtime\n",
        "\n",
        "Joy 2.3 เพิ่มฟีเจอร์ให้รองรับตัวดำเนินการ `*` (คูณ) `/` (หารเอาผลลัพธ์จำนวนเต็ม) และ `%` (หารเอาเศษ)\n",
        "\n",
        "ให้นิสิตเพิ่มกฎต่อไปนี้ลงในแกรมมาร์ของตนเองในคลาส Joy23 ด้านล่าง\n",
        "\n",
        "```\n",
        "expr: ...  // รายการที่มีอยู่แล้วของกฎ expr\n",
        "    | expr_muldiv\n",
        "expr_muldiv: expr MULDIV_OP expr\n",
        "\n",
        "MULDIV_OP: \"*\" | \"/\" | \"%\"\n",
        "```\n",
        "\n",
        "การสร้างโค้ดให้ตัวดำเนินการเหล่านี้โดยตรงในภาษาแอสเซมบลี้ค่อนข้างซับซ้อน เราจะอาศัยกลไกของฟังก์ชันจาก Joy 2.2 เพื่อสร้างโค้ดในภาษา Joy\n",
        "ในรูปฟังก์ชัน `_mul()` `_div()` และ `_mod()` ซึ่งสะดวกกว่าการเขียนด้วยแอสเซมบลี้มาก ฟังก์ชันเหล่านี้ถูกดึงมาคอมไพล์ร่วมกับโค้ดปกติ จึงอาจเรียกได้ว่าเป็น *Joy runtime library*\n",
        "\n",
        "เมื่อมีการประมวลผลนิพจน์ที่ใช้ตัวดำเนินการเหล่านี้ เราจะดัดแปลงโครงสร้างพาร์ชทรีให้อยู่ในรูปการเรียกฟังก์ชัน เพื่อให้กลไกการเรียกฟังก์ชันที่มีอยู่แล้วดำเนินการต่อไป"
      ]
    },
    {
      "cell_type": "code",
      "metadata": {
        "id": "v--otO1GDobs"
      },
      "source": [
        "# DO NOT ERASE THIS CELL - to be graded\n",
        "\n",
        "from lark import Tree, Token\n",
        "\n",
        "class Joy23(Joy22):\n",
        "\n",
        "    # ปรับปรุงแกรมมาร์จาก Joy 2.2 โดยเพิ่มกฎสำหรับนิพจน์ *, /, % ตามที่อธิบายไว้ข้างต้นให้เรียบร้อย\n",
        "    # *** ใส่โค้ดของตนเอง ***\n",
        "    GRAMMAR = r'''\n",
        "        program: (funcdef | statement)*\n",
        "        funcdef: \"def\" ID \"(\" params \")\" \"{\" globals statements \"}\"\n",
        "        params: ID (\",\" ID)*\n",
        "              |\n",
        "        globals: (\"global\" ID \";\")*\n",
        "        statements : statement*\n",
        "        statement: stmt_assign\n",
        "                 | stmt_deref\n",
        "                 | stmt_if\n",
        "                 | stmt_if_else\n",
        "                 | stmt_while\n",
        "                 | stmt_until\n",
        "                 | stmt_call\n",
        "                 | stmt_return\n",
        "        stmt_call: expr_call \";\"\n",
        "        stmt_return: \"return\" expr \";\"\n",
        "        stmt_assign: \"let\" ID \"=\" expr \";\"\n",
        "        stmt_deref: \"let\" \"*\" expr \"=\" expr \";\"\n",
        "        stmt_if: \"if\" expr \"{\" statements \"}\"\n",
        "        stmt_if_else: \"if\" expr \"{\" statements \"}\" \"else\" \"{\" statements \"}\"\n",
        "        stmt_while: \"while\" expr \"{\" statements \"}\"\n",
        "        stmt_until: \"until\" expr \"{\" statements \"}\"\n",
        "        expr: expr_const\n",
        "            | expr_id\n",
        "            | expr_add\n",
        "            | expr_sub\n",
        "            | expr_neg\n",
        "            | expr_compare\n",
        "            | expr_or\n",
        "            | expr_and\n",
        "            | expr_not\n",
        "            | expr_ref\n",
        "            | expr_deref\n",
        "            | expr_string\n",
        "            | expr_array\n",
        "            | expr_bracket\n",
        "            | expr_call\n",
        "            | expr_muldiv\n",
        "\n",
        "        expr_muldiv: expr MULDIV_OP expr\n",
        "        expr_bracket: \"(\" expr \")\"\n",
        "        expr_array: \"[\" [ expr (\",\" expr)* [\",\"] ] \"]\"\n",
        "        expr_string: STRING\n",
        "        expr_ref:  \"&\" expr\n",
        "        expr_deref: \"*\" expr\n",
        "        expr_not:  \"!\" expr\n",
        "        expr_and: expr \"&&\" expr\n",
        "        expr_or:  expr \"||\" expr\n",
        "        expr_compare:  expr COMPARE expr\n",
        "        expr_sub: expr \"-\" expr\n",
        "        expr_add: expr \"+\" expr\n",
        "        expr_neg: \"-\" expr\n",
        "        expr_id: ID\n",
        "        expr_const: NUMBER\n",
        "                  | HEX\n",
        "                  | BIN\n",
        "                  | CHAR\n",
        "        expr_call: ID \"(\" args \")\"\n",
        "        args: expr (\",\" expr)*\n",
        "            |\n",
        "\n",
        "        MULDIV_OP: \"*\" | \"/\" | \"%\"\n",
        "        STRING: /\"(\\\\.|[^\"\\\\])*\"/\n",
        "        HEX: /0[xX][0-9A-Fa-f]+/\n",
        "        BIN: /0[bB][01]+/\n",
        "        CHAR: /'.?'/\n",
        "        NUMBER: /-?[0-9]+/\n",
        "        COMPARE: /(>=|<=|==|!=|>|<)/\n",
        "        ID: /[_A-Za-z][_0-9A-Za-z]*/\n",
        "\n",
        "        WS: /[ \\t\\f\\r\\n]+/\n",
        "        COMMENT: \"//\" /[^\\r\\n]*[\\r\\n]?/\n",
        "\n",
        "        %ignore COMMENT\n",
        "        %ignore WS\n",
        "\n",
        "    '''\n",
        "\n",
        "    RUNTIME = '''\n",
        "        def _mul(a, b) {\n",
        "            let result = 0;\n",
        "            while b {\n",
        "                let result = result + a;\n",
        "                let b = b-1;\n",
        "            }\n",
        "            return result;\n",
        "        }\n",
        "\n",
        "        def _div(a, b) {\n",
        "            let result = 0;\n",
        "            until a < b {\n",
        "                let result = result + 1;\n",
        "                let a = a-b;\n",
        "            }\n",
        "            return result;\n",
        "        }\n",
        "\n",
        "        def _mod(a, b) {\n",
        "            until a<b {\n",
        "                let a = a-b;\n",
        "            }\n",
        "            return a;\n",
        "        }\n",
        "        '''\n",
        "\n",
        "    def expr_muldiv(self, tree):\n",
        "        [expr1, op, expr2] = tree.children\n",
        "        funcmap = {\n",
        "            '*' : '_mul',\n",
        "            '/' : '_div',\n",
        "            '%' : '_mod',\n",
        "        }\n",
        "        func = funcmap[op]\n",
        "        tree = Tree('expr_call', [\n",
        "            Token('ID', func),\n",
        "            Tree('args', [expr1, expr2]),\n",
        "        ])\n",
        "        self.visit(tree)"
      ],
      "execution_count": null,
      "outputs": []
    },
    {
      "cell_type": "markdown",
      "metadata": {
        "id": "fEtLFrii1T9K"
      },
      "source": [
        "จากโค้ดข้างต้น พาร์ซทรีของนิพจน์ที่ใช้ตัวดำเนินการ `*` `/` หรือ `%` เช่น `3*5` เดิมจะอยู่ในรูป"
      ]
    },
    {
      "cell_type": "code",
      "metadata": {
        "id": "Bb19dqU_2OzR",
        "colab": {
          "base_uri": "https://localhost:8080/",
          "height": 277
        },
        "outputId": "a64da209-c7cf-4db4-cc5d-ee736f9a7c9b"
      },
      "source": [
        "tree = Joy23().parse('let a = 3*5;')\n",
        "expr = tree.children[0].children[0].children[1].children[0]\n",
        "draw(expr)"
      ],
      "execution_count": null,
      "outputs": [
        {
          "output_type": "display_data",
          "data": {
            "image/svg+xml": "<?xml version=\"1.0\" encoding=\"UTF-8\" standalone=\"no\"?>\n<!DOCTYPE svg PUBLIC \"-//W3C//DTD SVG 1.1//EN\"\n \"http://www.w3.org/Graphics/SVG/1.1/DTD/svg11.dtd\">\n<!-- Generated by graphviz version 2.43.0 (0)\n -->\n<!-- Title: %3 Pages: 1 -->\n<svg width=\"274pt\" height=\"192pt\"\n viewBox=\"0.00 0.00 274.00 192.00\" xmlns=\"http://www.w3.org/2000/svg\" xmlns:xlink=\"http://www.w3.org/1999/xlink\">\n<g id=\"graph0\" class=\"graph\" transform=\"scale(1 1) rotate(0) translate(4 188)\">\n<title>%3</title>\n<polygon fill=\"white\" stroke=\"transparent\" points=\"-4,4 -4,-188 270,-188 270,4 -4,4\"/>\n<!-- n0 -->\n<g id=\"node1\" class=\"node\">\n<title>n0</title>\n<text text-anchor=\"middle\" x=\"133\" y=\"-172.8\" font-family=\"Times,serif\" font-size=\"14.00\">expr_muldiv</text>\n</g>\n<!-- n1 -->\n<g id=\"node2\" class=\"node\">\n<title>n1</title>\n<text text-anchor=\"middle\" x=\"46\" y=\"-117.8\" font-family=\"Times,serif\" font-size=\"14.00\">expr</text>\n</g>\n<!-- n0&#45;&#45;n1 -->\n<g id=\"edge3\" class=\"edge\">\n<title>n0&#45;&#45;n1</title>\n<path fill=\"none\" stroke=\"black\" d=\"M121.98,-168.79C105.25,-158.59 73.61,-139.32 56.93,-129.16\"/>\n</g>\n<!-- n7 -->\n<g id=\"node5\" class=\"node\">\n<title>n7</title>\n<polygon fill=\"none\" stroke=\"black\" points=\"189,-133 77,-133 77,-110 189,-110 189,-133\"/>\n<text text-anchor=\"start\" x=\"85\" y=\"-118.8\" font-family=\"Times,serif\" font-size=\"14.00\">MULDIV_OP: </text>\n<text text-anchor=\"start\" x=\"172\" y=\"-118.8\" font-family=\"monospace\" font-size=\"14.00\" fill=\"brown\">*</text>\n</g>\n<!-- n0&#45;&#45;n7 -->\n<g id=\"edge4\" class=\"edge\">\n<title>n0&#45;&#45;n7</title>\n<path fill=\"none\" stroke=\"black\" d=\"M133,-168.57C133,-159.59 133,-143.84 133,-133.29\"/>\n</g>\n<!-- n8 -->\n<g id=\"node6\" class=\"node\">\n<title>n8</title>\n<text text-anchor=\"middle\" x=\"220\" y=\"-117.8\" font-family=\"Times,serif\" font-size=\"14.00\">expr</text>\n</g>\n<!-- n0&#45;&#45;n8 -->\n<g id=\"edge7\" class=\"edge\">\n<title>n0&#45;&#45;n8</title>\n<path fill=\"none\" stroke=\"black\" d=\"M144.02,-168.79C160.75,-158.59 192.39,-139.32 209.07,-129.16\"/>\n</g>\n<!-- n2 -->\n<g id=\"node3\" class=\"node\">\n<title>n2</title>\n<text text-anchor=\"middle\" x=\"46\" y=\"-62.8\" font-family=\"Times,serif\" font-size=\"14.00\">expr_const</text>\n</g>\n<!-- n1&#45;&#45;n2 -->\n<g id=\"edge2\" class=\"edge\">\n<title>n1&#45;&#45;n2</title>\n<path fill=\"none\" stroke=\"black\" d=\"M46,-113.57C46,-103.36 46,-84.38 46,-74.26\"/>\n</g>\n<!-- n3 -->\n<g id=\"node4\" class=\"node\">\n<title>n3</title>\n<polygon fill=\"none\" stroke=\"black\" points=\"92,-23 0,-23 0,0 92,0 92,-23\"/>\n<text text-anchor=\"start\" x=\"8\" y=\"-8.8\" font-family=\"Times,serif\" font-size=\"14.00\">NUMBER: </text>\n<text text-anchor=\"start\" x=\"75\" y=\"-8.8\" font-family=\"monospace\" font-size=\"14.00\" fill=\"brown\">3</text>\n</g>\n<!-- n2&#45;&#45;n3 -->\n<g id=\"edge1\" class=\"edge\">\n<title>n2&#45;&#45;n3</title>\n<path fill=\"none\" stroke=\"black\" d=\"M46,-58.57C46,-49.59 46,-33.84 46,-23.29\"/>\n</g>\n<!-- n9 -->\n<g id=\"node7\" class=\"node\">\n<title>n9</title>\n<text text-anchor=\"middle\" x=\"220\" y=\"-62.8\" font-family=\"Times,serif\" font-size=\"14.00\">expr_const</text>\n</g>\n<!-- n8&#45;&#45;n9 -->\n<g id=\"edge6\" class=\"edge\">\n<title>n8&#45;&#45;n9</title>\n<path fill=\"none\" stroke=\"black\" d=\"M220,-113.57C220,-103.36 220,-84.38 220,-74.26\"/>\n</g>\n<!-- n10 -->\n<g id=\"node8\" class=\"node\">\n<title>n10</title>\n<polygon fill=\"none\" stroke=\"black\" points=\"266,-23 174,-23 174,0 266,0 266,-23\"/>\n<text text-anchor=\"start\" x=\"182\" y=\"-8.8\" font-family=\"Times,serif\" font-size=\"14.00\">NUMBER: </text>\n<text text-anchor=\"start\" x=\"249\" y=\"-8.8\" font-family=\"monospace\" font-size=\"14.00\" fill=\"brown\">5</text>\n</g>\n<!-- n9&#45;&#45;n10 -->\n<g id=\"edge5\" class=\"edge\">\n<title>n9&#45;&#45;n10</title>\n<path fill=\"none\" stroke=\"black\" d=\"M220,-58.57C220,-49.59 220,-33.84 220,-23.29\"/>\n</g>\n</g>\n</svg>\n",
            "text/plain": [
              "<graphviz.graphs.Graph at 0x7ceeeea0d0d0>"
            ]
          },
          "metadata": {}
        }
      ]
    },
    {
      "cell_type": "markdown",
      "metadata": {
        "id": "6ZFJUvuM3ltH"
      },
      "source": [
        "จะถูกนำมาสร้างเป็นทรีต้นใหม่ที่ใช้โหนด `expr_call` แทนดังนี้ เพื่อให้เมท็อด `expr_call()` จัดการแปลงโค้ดให้อยู่ในรูปการเรียกใช้ฟังก์ชันต่อไป"
      ]
    },
    {
      "cell_type": "code",
      "metadata": {
        "id": "nAENIf1k3jXO",
        "colab": {
          "base_uri": "https://localhost:8080/",
          "height": 345
        },
        "outputId": "5db54a76-6e1e-4dd1-f449-34a2eec339ca"
      },
      "source": [
        "[expr1, op, expr2] = expr.children\n",
        "func = {'*':'_mul', '/':'_div', '%':'_mod'}[op]\n",
        "newtree = Tree('expr_call', [Token('ID', func), Tree('args', [expr1, expr2])])\n",
        "draw(newtree)"
      ],
      "execution_count": null,
      "outputs": [
        {
          "output_type": "display_data",
          "data": {
            "image/svg+xml": "<?xml version=\"1.0\" encoding=\"UTF-8\" standalone=\"no\"?>\n<!DOCTYPE svg PUBLIC \"-//W3C//DTD SVG 1.1//EN\"\n \"http://www.w3.org/Graphics/SVG/1.1/DTD/svg11.dtd\">\n<!-- Generated by graphviz version 2.43.0 (0)\n -->\n<!-- Title: %3 Pages: 1 -->\n<svg width=\"210pt\" height=\"243pt\"\n viewBox=\"0.00 0.00 210.00 243.00\" xmlns=\"http://www.w3.org/2000/svg\" xmlns:xlink=\"http://www.w3.org/1999/xlink\">\n<g id=\"graph0\" class=\"graph\" transform=\"scale(1 1) rotate(0) translate(4 239)\">\n<title>%3</title>\n<polygon fill=\"white\" stroke=\"transparent\" points=\"-4,4 -4,-239 206,-239 206,4 -4,4\"/>\n<!-- n0 -->\n<g id=\"node1\" class=\"node\">\n<title>n0</title>\n<text text-anchor=\"middle\" x=\"72\" y=\"-223.8\" font-family=\"Times,serif\" font-size=\"14.00\">expr_call</text>\n</g>\n<!-- n1 -->\n<g id=\"node2\" class=\"node\">\n<title>n1</title>\n<polygon fill=\"none\" stroke=\"black\" points=\"75,-184 3,-184 3,-161 75,-161 75,-184\"/>\n<text text-anchor=\"start\" x=\"11\" y=\"-169.8\" font-family=\"Times,serif\" font-size=\"14.00\">ID: </text>\n<text text-anchor=\"start\" x=\"33\" y=\"-169.8\" font-family=\"monospace\" font-size=\"14.00\" fill=\"brown\">_mul</text>\n</g>\n<!-- n0&#45;&#45;n1 -->\n<g id=\"edge1\" class=\"edge\">\n<title>n0&#45;&#45;n1</title>\n<path fill=\"none\" stroke=\"black\" d=\"M67.69,-219.57C62.1,-210.59 52.29,-194.84 45.72,-184.29\"/>\n</g>\n<!-- n2 -->\n<g id=\"node3\" class=\"node\">\n<title>n2</title>\n<text text-anchor=\"middle\" x=\"105\" y=\"-168.8\" font-family=\"Times,serif\" font-size=\"14.00\">args</text>\n</g>\n<!-- n0&#45;&#45;n2 -->\n<g id=\"edge8\" class=\"edge\">\n<title>n0&#45;&#45;n2</title>\n<path fill=\"none\" stroke=\"black\" d=\"M76.31,-219.57C82.67,-209.36 94.49,-190.38 100.79,-180.26\"/>\n</g>\n<!-- n3 -->\n<g id=\"node4\" class=\"node\">\n<title>n3</title>\n<text text-anchor=\"middle\" x=\"79\" y=\"-113.8\" font-family=\"Times,serif\" font-size=\"14.00\">expr</text>\n</g>\n<!-- n2&#45;&#45;n3 -->\n<g id=\"edge4\" class=\"edge\">\n<title>n2&#45;&#45;n3</title>\n<path fill=\"none\" stroke=\"black\" d=\"M101.6,-164.57C96.59,-154.36 87.28,-135.38 82.32,-125.26\"/>\n</g>\n<!-- n13 -->\n<g id=\"node7\" class=\"node\">\n<title>n13</title>\n<text text-anchor=\"middle\" x=\"131\" y=\"-113.8\" font-family=\"Times,serif\" font-size=\"14.00\">expr</text>\n</g>\n<!-- n2&#45;&#45;n13 -->\n<g id=\"edge7\" class=\"edge\">\n<title>n2&#45;&#45;n13</title>\n<path fill=\"none\" stroke=\"black\" d=\"M108.4,-164.57C113.41,-154.36 122.72,-135.38 127.68,-125.26\"/>\n</g>\n<!-- n4 -->\n<g id=\"node5\" class=\"node\">\n<title>n4</title>\n<text text-anchor=\"middle\" x=\"62\" y=\"-62.8\" font-family=\"Times,serif\" font-size=\"14.00\">expr_const</text>\n</g>\n<!-- n3&#45;&#45;n4 -->\n<g id=\"edge3\" class=\"edge\">\n<title>n3&#45;&#45;n4</title>\n<path fill=\"none\" stroke=\"black\" d=\"M76.64,-109.69C73.39,-100.33 67.58,-83.59 64.34,-74.26\"/>\n</g>\n<!-- n5 -->\n<g id=\"node6\" class=\"node\">\n<title>n5</title>\n<polygon fill=\"none\" stroke=\"black\" points=\"92,-23 0,-23 0,0 92,0 92,-23\"/>\n<text text-anchor=\"start\" x=\"8\" y=\"-8.8\" font-family=\"Times,serif\" font-size=\"14.00\">NUMBER: </text>\n<text text-anchor=\"start\" x=\"75\" y=\"-8.8\" font-family=\"monospace\" font-size=\"14.00\" fill=\"brown\">3</text>\n</g>\n<!-- n4&#45;&#45;n5 -->\n<g id=\"edge2\" class=\"edge\">\n<title>n4&#45;&#45;n5</title>\n<path fill=\"none\" stroke=\"black\" d=\"M59.91,-58.57C57.2,-49.59 52.44,-33.84 49.26,-23.29\"/>\n</g>\n<!-- n14 -->\n<g id=\"node8\" class=\"node\">\n<title>n14</title>\n<text text-anchor=\"middle\" x=\"148\" y=\"-62.8\" font-family=\"Times,serif\" font-size=\"14.00\">expr_const</text>\n</g>\n<!-- n13&#45;&#45;n14 -->\n<g id=\"edge6\" class=\"edge\">\n<title>n13&#45;&#45;n14</title>\n<path fill=\"none\" stroke=\"black\" d=\"M133.36,-109.69C136.61,-100.33 142.42,-83.59 145.66,-74.26\"/>\n</g>\n<!-- n15 -->\n<g id=\"node9\" class=\"node\">\n<title>n15</title>\n<polygon fill=\"none\" stroke=\"black\" points=\"202,-23 110,-23 110,0 202,0 202,-23\"/>\n<text text-anchor=\"start\" x=\"118\" y=\"-8.8\" font-family=\"Times,serif\" font-size=\"14.00\">NUMBER: </text>\n<text text-anchor=\"start\" x=\"185\" y=\"-8.8\" font-family=\"monospace\" font-size=\"14.00\" fill=\"brown\">5</text>\n</g>\n<!-- n14&#45;&#45;n15 -->\n<g id=\"edge5\" class=\"edge\">\n<title>n14&#45;&#45;n15</title>\n<path fill=\"none\" stroke=\"black\" d=\"M149.05,-58.57C150.4,-49.59 152.78,-33.84 154.37,-23.29\"/>\n</g>\n</g>\n</svg>\n",
            "text/plain": [
              "<graphviz.graphs.Graph at 0x7ceeee5a3620>"
            ]
          },
          "metadata": {}
        }
      ]
    },
    {
      "cell_type": "markdown",
      "metadata": {
        "id": "ZBWUH1co4B-Q"
      },
      "source": [
        "## Test cases\n",
        "\n",
        "รันชุดทดสอบ (สังเกตว่าต้องมีการดึงโค้ด runtime library รวมเข้าไประหว่างการคอมไพล์ด้วย)"
      ]
    },
    {
      "cell_type": "code",
      "metadata": {
        "id": "-k16h2wb4G9b",
        "colab": {
          "base_uri": "https://localhost:8080/"
        },
        "outputId": "2d792703-c8a1-4f67-fed3-54d9f3378913"
      },
      "source": [
        "# DO NOT MODIFY\n",
        "\n",
        "class TestJoy23(TestJoy22):\n",
        "\n",
        "    JOY_COMPILER = Joy23\n",
        "\n",
        "    def test_runtime_mul(self):\n",
        "        self.compile_and_run(self.JOY_COMPILER.RUNTIME + '''\n",
        "            let a = 8;\n",
        "            let b = 5;\n",
        "            let c = 2;\n",
        "            let *10 = a*(b+c);\n",
        "        ''')\n",
        "        self.assertEqual(self.cpu.ram[10], 56)\n",
        "        self.assertEqual(self.cpu.ram[0], 0x3fff)\n",
        "\n",
        "    def test_runtime_div(self):\n",
        "        self.compile_and_run(self.JOY_COMPILER.RUNTIME + '''\n",
        "            let a = 3000;\n",
        "            let b = 518;\n",
        "            let *10 = a/b;\n",
        "        ''')\n",
        "        self.assertEqual(self.cpu.ram[10], 5)\n",
        "        self.assertEqual(self.cpu.ram[0], 0x3fff)\n",
        "\n",
        "    def test_runtime_mod(self):\n",
        "        self.compile_and_run(self.JOY_COMPILER.RUNTIME + '''\n",
        "            let a = 3000;\n",
        "            let b = 518;\n",
        "            let *10 = a%b;\n",
        "        ''')\n",
        "        self.assertEqual(self.cpu.ram[10], 410)\n",
        "        self.assertEqual(self.cpu.ram[0], 0x3fff)\n",
        "\n",
        "    def test_runtime_mix(self):\n",
        "        self.compile_and_run(\n",
        "            self.JOY_COMPILER.RUNTIME + '''\n",
        "            let total_seconds = 3729;\n",
        "            let hours = total_seconds/3600;\n",
        "            let minutes = (total_seconds%3600)/60;\n",
        "            let seconds = total_seconds%60;\n",
        "            let *10 = hours;\n",
        "            let *11 = minutes;\n",
        "            let *12 = seconds;\n",
        "        ''')\n",
        "        self.assertEqual(self.cpu.ram[11], 2)\n",
        "        self.assertEqual(self.cpu.ram[10], 1)\n",
        "        self.assertEqual(self.cpu.ram[12], 9)\n",
        "        self.assertEqual(self.cpu.ram[0], 0x3fff)\n",
        "\n",
        "run_test(TestJoy23)"
      ],
      "execution_count": null,
      "outputs": [
        {
          "output_type": "stream",
          "name": "stderr",
          "text": [
            ".........................................................\n",
            "----------------------------------------------------------------------\n",
            "Ran 57 tests in 7.012s\n",
            "\n",
            "OK\n"
          ]
        }
      ]
    },
    {
      "cell_type": "markdown",
      "metadata": {
        "id": "cuChp_V0vxhy"
      },
      "source": [
        "# Joy 99.0 - The End of the Line\n",
        "\n",
        "จุดอ่อนของภาษา Joy ที่ติดมาตั้งแต่เวอร์ชันแรกคือความกำกวมของแกรมมาร์ด้านนิพจน์ แม้จะเลี่ยงได้ด้วยการใส่วงเล็บแต่ก็ขาดความสะดวก อีกทั้งมีความเสี่ยงสูงที่จะเขียนโปรแกรมผิดพลาด\n",
        "\n",
        "Joy 99.0 จะปรับแก้ไขแกรมมาร์ในส่วนนิพจน์ให้รองรับลำดับความสำคัญของตัวดำเนินการ (operator precedence) ซึ่งกำหนดให้มีลำดับความสำคัญจากมากไปน้อยดังนี้\n",
        "\n",
        "1. วงเล็บ `(` `)`\n",
        "2. ตัวดำเนินการ `*` (dereference) `-` (ติดลบ) และ `!` (logical NOT)\n",
        "3. ตัวดำเนินการ `*` (คูณ) `/` (หาร) และ `%` (หารเอาเศษ)\n",
        "4. ตัวดำเนินการ `+` (บวก) และ `-` (ลบแบบไบนารี)\n",
        "5. ตัวดำเนินการ `<` (น้อยกว่า) `<=` (น้อยกว่าหรือเท่ากับ) `>` (มากกว่า) `>=` (มากกว่าหรือเท่ากับ) `==` (เท่ากับ) และ `!=` (ไม่เท่ากับ)\n",
        "6. ตัวดำเนินการ `&&` (logical AND)\n",
        "7. ตัวดำเนินการ `||` (logical OR)\n",
        "\n",
        "หากตัวดำเนินการมีความสำคัญเท่ากันให้ทำจาก<u>ซ้ายไปขวา</u>\n",
        "\n",
        "## แนวทางการปรับแก้คอมไพเลอร์\n",
        "\n",
        "ศึกษาแนวคิดและตัวอย่างจากเพจ [Precedence and associativity](http://www.cs.ecu.edu/karl/5220/spr16/Notes/CFG/precedence.html) เพื่อนิยามกฎในกลุ่มนิพจน์ใหม่เพื่อกำจัดความกำกวมออกให้หมด ทั้งนี้เราสามารถแก้ไขแกรมมาร์เพียงอย่างเดียวโดยไม่ต้องแตะต้องส่วนของโค้ดเจเนอเรชันได้ โดยให้คงชื่อกฎที่ผูกกับเมท็อดเอาไว้ดังเดิม\n",
        "\n",
        "**หมายเหตุ:** นิสิตอาจพบว่าพาร์ซทรีที่สร้างจากแกรมมาร์ที่ปรับแก้แล้วประกอบไปด้วยสายของโหนดที่มีลูกเพียงตัวเดียวยาวต่อกันเป็นจำนวนมาก นิสิตสามารถกำหนดให้ Lark สร้างโหนดแบบ [conditinal inline](https://lark-parser.readthedocs.io/en/stable/tree_construction.html#conditionally-inlining-rules-with) เพื่อยุบโหนดเหล่านี้ออกจากพาร์ซทรีได้"
      ]
    },
    {
      "cell_type": "code",
      "metadata": {
        "id": "oKS54w_69rxh"
      },
      "source": [
        "# DO NOT ERASE THIS CELL - to be graded\n",
        "\n",
        "class Joy30(Joy23):\n",
        "\n",
        "    # แก้ไขแกรมมาร์ Joy 2.2 เพื่อให้รองรับการตีความนิพจน์ให้เป็นไปตามลำดับความสำคัญของ\n",
        "    # ตัวดำเนินการตามที่กำหนดไว้ข้างต้น\n",
        "    # *** ใส่โค้ดของตนเอง ***\n",
        "  GRAMMAR = r\"\"\"\n",
        "      program: (funcdef | statement)*\n",
        "      statements: statement*\n",
        "\n",
        "      statement: stmt_assign\n",
        "              | stmt_deref\n",
        "              | stmt_if\n",
        "              | stmt_if_else\n",
        "              | stmt_while\n",
        "              | stmt_until\n",
        "              | stmt_call\n",
        "              | stmt_return\n",
        "\n",
        "\n",
        "      stmt_assign: \"let\" ID \"=\" expr \";\"\n",
        "      stmt_deref:  \"let\" \"*\" expr \"=\" expr \";\"\n",
        "      stmt_if:     \"if\" expr \"{\" statements \"}\"\n",
        "      stmt_if_else:\"if\" expr \"{\" statements \"}\" \"else\" \"{\" statements \"}\"\n",
        "      stmt_while:  \"while\" expr \"{\" statements \"}\"\n",
        "      stmt_until:  \"until\" expr \"{\" statements \"}\"\n",
        "      stmt_call:   expr_call \";\"\n",
        "      stmt_return: \"return\" expr \";\"\n",
        "\n",
        "      funcdef: \"def\" ID \"(\" params \")\" \"{\" globals statements \"}\"\n",
        "      params:  ID (\",\" ID)* |               // zero or more\n",
        "      globals: (\"global\" ID \";\")*\n",
        "\n",
        "      ?expr: expr_or\n",
        "\n",
        "      // OR\n",
        "      ?expr_or: expr_or \"||\" expr_and      -> expr_or\n",
        "              | expr_and\n",
        "\n",
        "      // AND\n",
        "      ?expr_and: expr_and \"&&\" expr_compare -> expr_and\n",
        "              | expr_compare\n",
        "\n",
        "      // Comparisons\n",
        "      ?expr_compare: expr_add COMPARE expr_add -> expr_compare\n",
        "                  | expr_add\n",
        "\n",
        "      // + and -\n",
        "      ?expr_add: expr_add \"+\" expr_mul      -> expr_add\n",
        "              | expr_add \"-\" expr_mul      -> expr_sub\n",
        "              | expr_mul\n",
        "\n",
        "      // *, /, %\n",
        "      ?expr_mul: expr_mul MULDIV_OP expr_unary -> expr_muldiv\n",
        "              | expr_unary\n",
        "\n",
        "      // Unary ops\n",
        "      ?expr_unary: \"!\" expr_unary           -> expr_not\n",
        "                | \"-\" expr_unary           -> expr_neg\n",
        "                | \"*\" expr_unary           -> expr_deref\n",
        "                | \"&\" expr_unary           -> expr_ref\n",
        "                | expr_atom\n",
        "\n",
        "      // Atoms\n",
        "      ?expr_atom: \"(\" expr \")\"              -> expr_bracket\n",
        "                | expr_call\n",
        "                | expr_array\n",
        "                | expr_string\n",
        "                | expr_const\n",
        "                | expr_id\n",
        "\n",
        "      expr_call: ID \"(\" args \")\"\n",
        "      args: expr (\",\" expr)* |\n",
        "\n",
        "      expr_array:  \"[\" [ expr (\",\" expr)* [\",\"] ] \"]\"\n",
        "      expr_string: STRING\n",
        "      expr_id:     ID\n",
        "      expr_const:  NUMBER | HEX | BIN | CHAR\n",
        "\n",
        "      // ===== Tokens =====\n",
        "      MULDIV_OP: \"*\" | \"/\" | \"%\"\n",
        "      STRING: /\"(\\\\.|[^\"\\\\])*\"/\n",
        "      HEX:    /0[xX][0-9A-Fa-f]+/\n",
        "      BIN:    /0[bB][01]+/\n",
        "      CHAR:   /'.?'/\n",
        "      NUMBER: /[0-9]+/\n",
        "      COMPARE: /(>=|<=|==|!=|>|<)/\n",
        "      ID: /[_A-Za-z][_0-9A-Za-z]*/\n",
        "\n",
        "      WS: /[ \\t\\f\\r\\n]+/\n",
        "      COMMENT: \"//\" /[^\\r\\n]*[\\r\\n]?/\n",
        "      %ignore COMMENT\n",
        "      %ignore WS\n",
        "  \"\"\"\n",
        "  def stmt_if_else(self, tree):\n",
        "    [expr, if_body,else_body] = tree.children\n",
        "    label = self.gen_label_no()\n",
        "    self._asm.append(f'''\n",
        "        //## begin-if-{label} ##\n",
        "    ''')\n",
        "    self.visit(expr)\n",
        "    print(self.visit(expr))\n",
        "    # expr result is in THIS; if it is zero, jump over the body to the end-if label\n",
        "    self._asm.append(f'''\n",
        "        @THIS\n",
        "        D=M\n",
        "        @.endif.{label}\n",
        "        D;JEQ\n",
        "    ''')\n",
        "    # generate the body by visiting the statements node\n",
        "    self._asm.append(f'''\n",
        "        //## if-body-{label} ##\n",
        "    ''')\n",
        "    self.visit(if_body)\n",
        "    # place the end-if label here\n",
        "    self._asm.append(f'''\n",
        "        @THIS\n",
        "        D=M\n",
        "        @.endelse.{label}\n",
        "        0;JMP\n",
        "        //## end-if-{label} ##\n",
        "        (.endif.{label})\n",
        "    ''')                    #Start Else\n",
        "    self._asm.append(f'''\n",
        "    //##else body {label}##\n",
        "    ''')\n",
        "    self.visit(else_body)\n",
        "    self._asm.append(f'''\n",
        "    //##end else body {label}##\n",
        "    (.endelse.{label})\n",
        "    ''')\n"
      ],
      "execution_count": null,
      "outputs": []
    },
    {
      "cell_type": "markdown",
      "metadata": {
        "id": "Oi5uX6w0VF9D"
      },
      "source": [
        "ตรวจสอบพาร์ซทรีที่สร้างขึ้นจากแกรมมาร์ที่แก้ไขแล้ว ให้แน่ใจว่ามีการประมวลผลตัวดำเนินการสอดคล้องกับลำดับความสำคัญที่กำหนดให้"
      ]
    },
    {
      "cell_type": "code",
      "metadata": {
        "id": "HRzNBPaIVFNJ",
        "colab": {
          "base_uri": "https://localhost:8080/",
          "height": 1000
        },
        "outputId": "2a94e047-67e2-47ac-90cb-a1de07d03b98"
      },
      "source": [
        "x = Joy30.RUNTIME + '''\n",
        "            // โค้ด bubble-sort โดย อ.เฉลิมศักดิ์\n",
        "            let list = [5, 9, 10, 3, 7, 2];\n",
        "            let n = 6;\n",
        "            let *10 = list;\n",
        "            let last = n-1;\n",
        "            until last < 0 {\n",
        "                let i = 0;\n",
        "                until i > last-1 {\n",
        "                    if *(list+i) > *(list+(i+1)) {\n",
        "                        // swap list[i] and list[i+1]\n",
        "                        let temp = *(list+i);\n",
        "                        let *(list+i) = *(list+i+1);\n",
        "                        let *(list+i+1) = temp;\n",
        "                    }\n",
        "                    let i = i+1;\n",
        "                }\n",
        "                let last = last-1;\n",
        "            }\n",
        "        '''\n",
        "draw(Joy30().parse(x))"
      ],
      "execution_count": null,
      "outputs": [
        {
          "output_type": "display_data",
          "data": {
            "image/svg+xml": "<?xml version=\"1.0\" encoding=\"UTF-8\" standalone=\"no\"?>\n<!DOCTYPE svg PUBLIC \"-//W3C//DTD SVG 1.1//EN\"\n \"http://www.w3.org/Graphics/SVG/1.1/DTD/svg11.dtd\">\n<!-- Generated by graphviz version 2.43.0 (0)\n -->\n<!-- Title: %3 Pages: 1 -->\n<svg width=\"3457pt\" height=\"1018pt\"\n viewBox=\"0.00 0.00 3457.00 1018.00\" xmlns=\"http://www.w3.org/2000/svg\" xmlns:xlink=\"http://www.w3.org/1999/xlink\">\n<g id=\"graph0\" class=\"graph\" transform=\"scale(1 1) rotate(0) translate(4 1014)\">\n<title>%3</title>\n<polygon fill=\"white\" stroke=\"transparent\" points=\"-4,4 -4,-1014 3453,-1014 3453,4 -4,4\"/>\n<!-- n0 -->\n<g id=\"node1\" class=\"node\">\n<title>n0</title>\n<text text-anchor=\"middle\" x=\"1755\" y=\"-998.8\" font-family=\"Times,serif\" font-size=\"14.00\">program</text>\n</g>\n<!-- n1 -->\n<g id=\"node2\" class=\"node\">\n<title>n1</title>\n<text text-anchor=\"middle\" x=\"282\" y=\"-947.8\" font-family=\"Times,serif\" font-size=\"14.00\">funcdef</text>\n</g>\n<!-- n0&#45;&#45;n1 -->\n<g id=\"edge37\" class=\"edge\">\n<title>n0&#45;&#45;n1</title>\n<path fill=\"none\" stroke=\"black\" d=\"M1731.27,-1000.71C1556.33,-994.89 468.86,-958.72 303.16,-953.2\"/>\n</g>\n<!-- n38571 -->\n<g id=\"node39\" class=\"node\">\n<title>n38571</title>\n<text text-anchor=\"middle\" x=\"826\" y=\"-947.8\" font-family=\"Times,serif\" font-size=\"14.00\">funcdef</text>\n</g>\n<!-- n0&#45;&#45;n38571 -->\n<g id=\"edge78\" class=\"edge\">\n<title>n0&#45;&#45;n38571</title>\n<path fill=\"none\" stroke=\"black\" d=\"M1731.1,-1000.24C1600.18,-993.33 971.25,-960.16 847.26,-953.62\"/>\n</g>\n<!-- n622344981 -->\n<g id=\"node80\" class=\"node\">\n<title>n622344981</title>\n<text text-anchor=\"middle\" x=\"1281\" y=\"-947.8\" font-family=\"Times,serif\" font-size=\"14.00\">funcdef</text>\n</g>\n<!-- n0&#45;&#45;n622344981 -->\n<g id=\"edge106\" class=\"edge\">\n<title>n0&#45;&#45;n622344981</title>\n<path fill=\"none\" stroke=\"black\" d=\"M1731.49,-999.07C1649.95,-990.64 1380.02,-962.74 1302.18,-954.69\"/>\n</g>\n<!-- n421327555687 -->\n<g id=\"node108\" class=\"node\">\n<title>n421327555687</title>\n<text text-anchor=\"middle\" x=\"1720\" y=\"-947.8\" font-family=\"Times,serif\" font-size=\"14.00\">statement</text>\n</g>\n<!-- n0&#45;&#45;n421327555687 -->\n<g id=\"edge122\" class=\"edge\">\n<title>n0&#45;&#45;n421327555687</title>\n<path fill=\"none\" stroke=\"black\" d=\"M1750.13,-994.69C1743.45,-985.33 1731.49,-968.59 1724.83,-959.26\"/>\n</g>\n<!-- n28228946231415 -->\n<g id=\"node124\" class=\"node\">\n<title>n28228946231415</title>\n<text text-anchor=\"middle\" x=\"1809\" y=\"-947.8\" font-family=\"Times,serif\" font-size=\"14.00\">statement</text>\n</g>\n<!-- n0&#45;&#45;n28228946231415 -->\n<g id=\"edge127\" class=\"edge\">\n<title>n0&#45;&#45;n28228946231415</title>\n<path fill=\"none\" stroke=\"black\" d=\"M1762.51,-994.69C1772.83,-985.33 1791.27,-968.59 1801.56,-959.26\"/>\n</g>\n<!-- n112915784925669 -->\n<g id=\"node129\" class=\"node\">\n<title>n112915784925669</title>\n<text text-anchor=\"middle\" x=\"1971\" y=\"-947.8\" font-family=\"Times,serif\" font-size=\"14.00\">statement</text>\n</g>\n<!-- n0&#45;&#45;n112915784925669 -->\n<g id=\"edge133\" class=\"edge\">\n<title>n0&#45;&#45;n112915784925669</title>\n<path fill=\"none\" stroke=\"black\" d=\"M1778.53,-996.16C1819.09,-986.96 1901.93,-968.17 1944.48,-958.52\"/>\n</g>\n<!-- n677494709554029 -->\n<g id=\"node135\" class=\"node\">\n<title>n677494709554029</title>\n<text text-anchor=\"middle\" x=\"2124\" y=\"-947.8\" font-family=\"Times,serif\" font-size=\"14.00\">statement</text>\n</g>\n<!-- n0&#45;&#45;n677494709554029 -->\n<g id=\"edge141\" class=\"edge\">\n<title>n0&#45;&#45;n677494709554029</title>\n<path fill=\"none\" stroke=\"black\" d=\"M1778.64,-998.36C1844.18,-989.66 2027.87,-965.27 2097.12,-956.07\"/>\n</g>\n<!-- n4742462966878229 -->\n<g id=\"node143\" class=\"node\">\n<title>n4742462966878229</title>\n<text text-anchor=\"middle\" x=\"2349\" y=\"-947.8\" font-family=\"Times,serif\" font-size=\"14.00\">statement</text>\n</g>\n<!-- n0&#45;&#45;n4742462966878229 -->\n<g id=\"edge247\" class=\"edge\">\n<title>n0&#45;&#45;n4742462966878229</title>\n<path fill=\"none\" stroke=\"black\" d=\"M1778.65,-999.55C1873.05,-991.76 2222.57,-962.93 2322.28,-954.7\"/>\n</g>\n<!-- n2 -->\n<g id=\"node3\" class=\"node\">\n<title>n2</title>\n<polygon fill=\"none\" stroke=\"black\" points=\"179,-908 107,-908 107,-885 179,-885 179,-908\"/>\n<text text-anchor=\"start\" x=\"115\" y=\"-893.8\" font-family=\"Times,serif\" font-size=\"14.00\">ID: </text>\n<text text-anchor=\"start\" x=\"137\" y=\"-893.8\" font-family=\"monospace\" font-size=\"14.00\" fill=\"brown\">_mul</text>\n</g>\n<!-- n1&#45;&#45;n2 -->\n<g id=\"edge1\" class=\"edge\">\n<title>n1&#45;&#45;n2</title>\n<path fill=\"none\" stroke=\"black\" d=\"M264.68,-943.89C241.1,-934.9 198.63,-918.71 170.63,-908.04\"/>\n</g>\n<!-- n3 -->\n<g id=\"node4\" class=\"node\">\n<title>n3</title>\n<text text-anchor=\"middle\" x=\"217\" y=\"-892.8\" font-family=\"Times,serif\" font-size=\"14.00\">params</text>\n</g>\n<!-- n1&#45;&#45;n3 -->\n<g id=\"edge4\" class=\"edge\">\n<title>n1&#45;&#45;n3</title>\n<path fill=\"none\" stroke=\"black\" d=\"M273.77,-943.79C261.33,-933.65 237.89,-914.53 225.37,-904.33\"/>\n</g>\n<!-- n9 -->\n<g id=\"node7\" class=\"node\">\n<title>n9</title>\n<text text-anchor=\"middle\" x=\"282\" y=\"-892.8\" font-family=\"Times,serif\" font-size=\"14.00\">globals</text>\n</g>\n<!-- n1&#45;&#45;n9 -->\n<g id=\"edge5\" class=\"edge\">\n<title>n1&#45;&#45;n9</title>\n<path fill=\"none\" stroke=\"black\" d=\"M282,-943.57C282,-933.36 282,-914.38 282,-904.26\"/>\n</g>\n<!-- n19 -->\n<g id=\"node8\" class=\"node\">\n<title>n19</title>\n<text text-anchor=\"middle\" x=\"352\" y=\"-892.8\" font-family=\"Times,serif\" font-size=\"14.00\">statements</text>\n</g>\n<!-- n1&#45;&#45;n19 -->\n<g id=\"edge36\" class=\"edge\">\n<title>n1&#45;&#45;n19</title>\n<path fill=\"none\" stroke=\"black\" d=\"M290.87,-943.79C304.26,-933.65 329.51,-914.53 342.99,-904.33\"/>\n</g>\n<!-- n4 -->\n<g id=\"node5\" class=\"node\">\n<title>n4</title>\n<polygon fill=\"none\" stroke=\"black\" points=\"173.5,-849 126.5,-849 126.5,-826 173.5,-826 173.5,-849\"/>\n<text text-anchor=\"start\" x=\"134.5\" y=\"-834.8\" font-family=\"Times,serif\" font-size=\"14.00\">ID: </text>\n<text text-anchor=\"start\" x=\"156.5\" y=\"-834.8\" font-family=\"monospace\" font-size=\"14.00\" fill=\"brown\">a</text>\n</g>\n<!-- n3&#45;&#45;n4 -->\n<g id=\"edge2\" class=\"edge\">\n<title>n3&#45;&#45;n4</title>\n<path fill=\"none\" stroke=\"black\" d=\"M209.31,-888.96C197.83,-879.19 176.09,-860.7 162.36,-849.01\"/>\n</g>\n<!-- n5 -->\n<g id=\"node6\" class=\"node\">\n<title>n5</title>\n<polygon fill=\"none\" stroke=\"black\" points=\"238.5,-849 191.5,-849 191.5,-826 238.5,-826 238.5,-849\"/>\n<text text-anchor=\"start\" x=\"199.5\" y=\"-834.8\" font-family=\"Times,serif\" font-size=\"14.00\">ID: </text>\n<text text-anchor=\"start\" x=\"221.5\" y=\"-834.8\" font-family=\"monospace\" font-size=\"14.00\" fill=\"brown\">b</text>\n</g>\n<!-- n3&#45;&#45;n5 -->\n<g id=\"edge3\" class=\"edge\">\n<title>n3&#45;&#45;n5</title>\n<path fill=\"none\" stroke=\"black\" d=\"M216.77,-888.96C216.43,-879.25 215.79,-860.92 215.38,-849.23\"/>\n</g>\n<!-- n20 -->\n<g id=\"node9\" class=\"node\">\n<title>n20</title>\n<text text-anchor=\"middle\" x=\"283\" y=\"-833.8\" font-family=\"Times,serif\" font-size=\"14.00\">statement</text>\n</g>\n<!-- n19&#45;&#45;n20 -->\n<g id=\"edge10\" class=\"edge\">\n<title>n19&#45;&#45;n20</title>\n<path fill=\"none\" stroke=\"black\" d=\"M344.08,-888.96C330.92,-878.08 304.64,-856.37 291.25,-845.32\"/>\n</g>\n<!-- n89 -->\n<g id=\"node14\" class=\"node\">\n<title>n89</title>\n<text text-anchor=\"middle\" x=\"354\" y=\"-833.8\" font-family=\"Times,serif\" font-size=\"14.00\">statement</text>\n</g>\n<!-- n19&#45;&#45;n89 -->\n<g id=\"edge31\" class=\"edge\">\n<title>n19&#45;&#45;n89</title>\n<path fill=\"none\" stroke=\"black\" d=\"M352.23,-888.96C352.61,-878.08 353.37,-856.37 353.76,-845.32\"/>\n</g>\n<!-- n9636 -->\n<g id=\"node35\" class=\"node\">\n<title>n9636</title>\n<text text-anchor=\"middle\" x=\"431\" y=\"-833.8\" font-family=\"Times,serif\" font-size=\"14.00\">statement</text>\n</g>\n<!-- n19&#45;&#45;n9636 -->\n<g id=\"edge35\" class=\"edge\">\n<title>n19&#45;&#45;n9636</title>\n<path fill=\"none\" stroke=\"black\" d=\"M361.06,-888.96C376.14,-878.08 406.23,-856.37 421.55,-845.32\"/>\n</g>\n<!-- n21 -->\n<g id=\"node10\" class=\"node\">\n<title>n21</title>\n<text text-anchor=\"middle\" x=\"136\" y=\"-774.8\" font-family=\"Times,serif\" font-size=\"14.00\">stmt_assign</text>\n</g>\n<!-- n20&#45;&#45;n21 -->\n<g id=\"edge9\" class=\"edge\">\n<title>n20&#45;&#45;n21</title>\n<path fill=\"none\" stroke=\"black\" d=\"M266.14,-829.96C237.93,-819.02 181.49,-797.14 153.12,-786.14\"/>\n</g>\n<!-- n22 -->\n<g id=\"node11\" class=\"node\">\n<title>n22</title>\n<polygon fill=\"none\" stroke=\"black\" points=\"88,-731 0,-731 0,-708 88,-708 88,-731\"/>\n<text text-anchor=\"start\" x=\"8\" y=\"-716.8\" font-family=\"Times,serif\" font-size=\"14.00\">ID: </text>\n<text text-anchor=\"start\" x=\"30\" y=\"-716.8\" font-family=\"monospace\" font-size=\"14.00\" fill=\"brown\">result</text>\n</g>\n<!-- n21&#45;&#45;n22 -->\n<g id=\"edge6\" class=\"edge\">\n<title>n21&#45;&#45;n22</title>\n<path fill=\"none\" stroke=\"black\" d=\"M125.45,-770.96C109.68,-761.19 79.83,-742.7 60.97,-731.01\"/>\n</g>\n<!-- n23 -->\n<g id=\"node12\" class=\"node\">\n<title>n23</title>\n<text text-anchor=\"middle\" x=\"136\" y=\"-715.8\" font-family=\"Times,serif\" font-size=\"14.00\">expr_const</text>\n</g>\n<!-- n21&#45;&#45;n23 -->\n<g id=\"edge8\" class=\"edge\">\n<title>n21&#45;&#45;n23</title>\n<path fill=\"none\" stroke=\"black\" d=\"M136,-770.96C136,-760.08 136,-738.37 136,-727.32\"/>\n</g>\n<!-- n24 -->\n<g id=\"node13\" class=\"node\">\n<title>n24</title>\n<polygon fill=\"none\" stroke=\"black\" points=\"170,-672 78,-672 78,-649 170,-649 170,-672\"/>\n<text text-anchor=\"start\" x=\"86\" y=\"-657.8\" font-family=\"Times,serif\" font-size=\"14.00\">NUMBER: </text>\n<text text-anchor=\"start\" x=\"153\" y=\"-657.8\" font-family=\"monospace\" font-size=\"14.00\" fill=\"brown\">0</text>\n</g>\n<!-- n23&#45;&#45;n24 -->\n<g id=\"edge7\" class=\"edge\">\n<title>n23&#45;&#45;n24</title>\n<path fill=\"none\" stroke=\"black\" d=\"M134.62,-711.96C132.58,-702.25 128.72,-683.92 126.26,-672.23\"/>\n</g>\n<!-- n90 -->\n<g id=\"node15\" class=\"node\">\n<title>n90</title>\n<text text-anchor=\"middle\" x=\"340\" y=\"-774.8\" font-family=\"Times,serif\" font-size=\"14.00\">stmt_while</text>\n</g>\n<!-- n89&#45;&#45;n90 -->\n<g id=\"edge30\" class=\"edge\">\n<title>n89&#45;&#45;n90</title>\n<path fill=\"none\" stroke=\"black\" d=\"M352.39,-829.96C349.72,-819.08 344.39,-797.37 341.67,-786.32\"/>\n</g>\n<!-- n91 -->\n<g id=\"node16\" class=\"node\">\n<title>n91</title>\n<text text-anchor=\"middle\" x=\"250\" y=\"-715.8\" font-family=\"Times,serif\" font-size=\"14.00\">expr_id</text>\n</g>\n<!-- n90&#45;&#45;n91 -->\n<g id=\"edge12\" class=\"edge\">\n<title>n90&#45;&#45;n91</title>\n<path fill=\"none\" stroke=\"black\" d=\"M329.68,-770.96C312.41,-760.02 277.85,-738.14 260.48,-727.14\"/>\n</g>\n<!-- n184 -->\n<g id=\"node18\" class=\"node\">\n<title>n184</title>\n<text text-anchor=\"middle\" x=\"340\" y=\"-715.8\" font-family=\"Times,serif\" font-size=\"14.00\">statements</text>\n</g>\n<!-- n90&#45;&#45;n184 -->\n<g id=\"edge29\" class=\"edge\">\n<title>n90&#45;&#45;n184</title>\n<path fill=\"none\" stroke=\"black\" d=\"M340,-770.96C340,-760.08 340,-738.37 340,-727.32\"/>\n</g>\n<!-- n92 -->\n<g id=\"node17\" class=\"node\">\n<title>n92</title>\n<polygon fill=\"none\" stroke=\"black\" points=\"235.5,-672 188.5,-672 188.5,-649 235.5,-649 235.5,-672\"/>\n<text text-anchor=\"start\" x=\"196.5\" y=\"-657.8\" font-family=\"Times,serif\" font-size=\"14.00\">ID: </text>\n<text text-anchor=\"start\" x=\"218.5\" y=\"-657.8\" font-family=\"monospace\" font-size=\"14.00\" fill=\"brown\">b</text>\n</g>\n<!-- n91&#45;&#45;n92 -->\n<g id=\"edge11\" class=\"edge\">\n<title>n91&#45;&#45;n92</title>\n<path fill=\"none\" stroke=\"black\" d=\"M245.64,-711.96C239.17,-702.25 226.95,-683.92 219.15,-672.23\"/>\n</g>\n<!-- n185 -->\n<g id=\"node19\" class=\"node\">\n<title>n185</title>\n<text text-anchor=\"middle\" x=\"280\" y=\"-656.8\" font-family=\"Times,serif\" font-size=\"14.00\">statement</text>\n</g>\n<!-- n184&#45;&#45;n185 -->\n<g id=\"edge20\" class=\"edge\">\n<title>n184&#45;&#45;n185</title>\n<path fill=\"none\" stroke=\"black\" d=\"M333.12,-711.96C321.67,-701.08 298.81,-679.37 287.17,-668.32\"/>\n</g>\n<!-- n1321 -->\n<g id=\"node27\" class=\"node\">\n<title>n1321</title>\n<text text-anchor=\"middle\" x=\"351\" y=\"-656.8\" font-family=\"Times,serif\" font-size=\"14.00\">statement</text>\n</g>\n<!-- n184&#45;&#45;n1321 -->\n<g id=\"edge28\" class=\"edge\">\n<title>n184&#45;&#45;n1321</title>\n<path fill=\"none\" stroke=\"black\" d=\"M341.26,-711.96C343.36,-701.08 347.55,-679.37 349.68,-668.32\"/>\n</g>\n<!-- n186 -->\n<g id=\"node20\" class=\"node\">\n<title>n186</title>\n<text text-anchor=\"middle\" x=\"274\" y=\"-597.8\" font-family=\"Times,serif\" font-size=\"14.00\">stmt_assign</text>\n</g>\n<!-- n185&#45;&#45;n186 -->\n<g id=\"edge19\" class=\"edge\">\n<title>n185&#45;&#45;n186</title>\n<path fill=\"none\" stroke=\"black\" d=\"M279.31,-652.96C278.17,-642.08 275.88,-620.37 274.72,-609.32\"/>\n</g>\n<!-- n187 -->\n<g id=\"node21\" class=\"node\">\n<title>n187</title>\n<polygon fill=\"none\" stroke=\"black\" points=\"235,-554 147,-554 147,-531 235,-531 235,-554\"/>\n<text text-anchor=\"start\" x=\"155\" y=\"-539.8\" font-family=\"Times,serif\" font-size=\"14.00\">ID: </text>\n<text text-anchor=\"start\" x=\"177\" y=\"-539.8\" font-family=\"monospace\" font-size=\"14.00\" fill=\"brown\">result</text>\n</g>\n<!-- n186&#45;&#45;n187 -->\n<g id=\"edge13\" class=\"edge\">\n<title>n186&#45;&#45;n187</title>\n<path fill=\"none\" stroke=\"black\" d=\"M264.48,-593.96C250.26,-584.19 223.32,-565.7 206.31,-554.01\"/>\n</g>\n<!-- n188 -->\n<g id=\"node22\" class=\"node\">\n<title>n188</title>\n<text text-anchor=\"middle\" x=\"278\" y=\"-538.8\" font-family=\"Times,serif\" font-size=\"14.00\">expr_add</text>\n</g>\n<!-- n186&#45;&#45;n188 -->\n<g id=\"edge18\" class=\"edge\">\n<title>n186&#45;&#45;n188</title>\n<path fill=\"none\" stroke=\"black\" d=\"M274.46,-593.96C275.22,-583.08 276.75,-561.37 277.52,-550.32\"/>\n</g>\n<!-- n189 -->\n<g id=\"node23\" class=\"node\">\n<title>n189</title>\n<text text-anchor=\"middle\" x=\"270\" y=\"-479.8\" font-family=\"Times,serif\" font-size=\"14.00\">expr_id</text>\n</g>\n<!-- n188&#45;&#45;n189 -->\n<g id=\"edge15\" class=\"edge\">\n<title>n188&#45;&#45;n189</title>\n<path fill=\"none\" stroke=\"black\" d=\"M277.08,-534.96C275.56,-524.08 272.51,-502.37 270.96,-491.32\"/>\n</g>\n<!-- n380 -->\n<g id=\"node25\" class=\"node\">\n<title>n380</title>\n<text text-anchor=\"middle\" x=\"334\" y=\"-479.8\" font-family=\"Times,serif\" font-size=\"14.00\">expr_id</text>\n</g>\n<!-- n188&#45;&#45;n380 -->\n<g id=\"edge17\" class=\"edge\">\n<title>n188&#45;&#45;n380</title>\n<path fill=\"none\" stroke=\"black\" d=\"M284.42,-534.96C295.11,-524.08 316.44,-502.37 327.3,-491.32\"/>\n</g>\n<!-- n190 -->\n<g id=\"node24\" class=\"node\">\n<title>n190</title>\n<polygon fill=\"none\" stroke=\"black\" points=\"305,-436 217,-436 217,-413 305,-413 305,-436\"/>\n<text text-anchor=\"start\" x=\"225\" y=\"-421.8\" font-family=\"Times,serif\" font-size=\"14.00\">ID: </text>\n<text text-anchor=\"start\" x=\"247\" y=\"-421.8\" font-family=\"monospace\" font-size=\"14.00\" fill=\"brown\">result</text>\n</g>\n<!-- n189&#45;&#45;n190 -->\n<g id=\"edge14\" class=\"edge\">\n<title>n189&#45;&#45;n190</title>\n<path fill=\"none\" stroke=\"black\" d=\"M268.97,-475.96C267.43,-466.25 264.54,-447.92 262.69,-436.23\"/>\n</g>\n<!-- n381 -->\n<g id=\"node26\" class=\"node\">\n<title>n381</title>\n<polygon fill=\"none\" stroke=\"black\" points=\"370.5,-436 323.5,-436 323.5,-413 370.5,-413 370.5,-436\"/>\n<text text-anchor=\"start\" x=\"331.5\" y=\"-421.8\" font-family=\"Times,serif\" font-size=\"14.00\">ID: </text>\n<text text-anchor=\"start\" x=\"353.5\" y=\"-421.8\" font-family=\"monospace\" font-size=\"14.00\" fill=\"brown\">a</text>\n</g>\n<!-- n380&#45;&#45;n381 -->\n<g id=\"edge16\" class=\"edge\">\n<title>n380&#45;&#45;n381</title>\n<path fill=\"none\" stroke=\"black\" d=\"M335.49,-475.96C337.71,-466.25 341.89,-447.92 344.55,-436.23\"/>\n</g>\n<!-- n1322 -->\n<g id=\"node28\" class=\"node\">\n<title>n1322</title>\n<text text-anchor=\"middle\" x=\"357\" y=\"-597.8\" font-family=\"Times,serif\" font-size=\"14.00\">stmt_assign</text>\n</g>\n<!-- n1321&#45;&#45;n1322 -->\n<g id=\"edge27\" class=\"edge\">\n<title>n1321&#45;&#45;n1322</title>\n<path fill=\"none\" stroke=\"black\" d=\"M351.69,-652.96C352.83,-642.08 355.12,-620.37 356.28,-609.32\"/>\n</g>\n<!-- n1323 -->\n<g id=\"node29\" class=\"node\">\n<title>n1323</title>\n<polygon fill=\"none\" stroke=\"black\" points=\"376.5,-554 329.5,-554 329.5,-531 376.5,-531 376.5,-554\"/>\n<text text-anchor=\"start\" x=\"337.5\" y=\"-539.8\" font-family=\"Times,serif\" font-size=\"14.00\">ID: </text>\n<text text-anchor=\"start\" x=\"359.5\" y=\"-539.8\" font-family=\"monospace\" font-size=\"14.00\" fill=\"brown\">b</text>\n</g>\n<!-- n1322&#45;&#45;n1323 -->\n<g id=\"edge21\" class=\"edge\">\n<title>n1322&#45;&#45;n1323</title>\n<path fill=\"none\" stroke=\"black\" d=\"M356.54,-593.96C355.86,-584.25 354.57,-565.92 353.75,-554.23\"/>\n</g>\n<!-- n1324 -->\n<g id=\"node30\" class=\"node\">\n<title>n1324</title>\n<text text-anchor=\"middle\" x=\"420\" y=\"-538.8\" font-family=\"Times,serif\" font-size=\"14.00\">expr_sub</text>\n</g>\n<!-- n1322&#45;&#45;n1324 -->\n<g id=\"edge26\" class=\"edge\">\n<title>n1322&#45;&#45;n1324</title>\n<path fill=\"none\" stroke=\"black\" d=\"M364.23,-593.96C376.25,-583.08 400.24,-561.37 412.47,-550.32\"/>\n</g>\n<!-- n1325 -->\n<g id=\"node31\" class=\"node\">\n<title>n1325</title>\n<text text-anchor=\"middle\" x=\"415\" y=\"-479.8\" font-family=\"Times,serif\" font-size=\"14.00\">expr_id</text>\n</g>\n<!-- n1324&#45;&#45;n1325 -->\n<g id=\"edge23\" class=\"edge\">\n<title>n1324&#45;&#45;n1325</title>\n<path fill=\"none\" stroke=\"black\" d=\"M419.43,-534.96C418.47,-524.08 416.57,-502.37 415.6,-491.32\"/>\n</g>\n<!-- n2652 -->\n<g id=\"node33\" class=\"node\">\n<title>n2652</title>\n<text text-anchor=\"middle\" x=\"493\" y=\"-479.8\" font-family=\"Times,serif\" font-size=\"14.00\">expr_const</text>\n</g>\n<!-- n1324&#45;&#45;n2652 -->\n<g id=\"edge25\" class=\"edge\">\n<title>n1324&#45;&#45;n2652</title>\n<path fill=\"none\" stroke=\"black\" d=\"M428.37,-534.96C442.31,-524.08 470.11,-502.37 484.27,-491.32\"/>\n</g>\n<!-- n1326 -->\n<g id=\"node32\" class=\"node\">\n<title>n1326</title>\n<polygon fill=\"none\" stroke=\"black\" points=\"436.5,-436 389.5,-436 389.5,-413 436.5,-413 436.5,-436\"/>\n<text text-anchor=\"start\" x=\"397.5\" y=\"-421.8\" font-family=\"Times,serif\" font-size=\"14.00\">ID: </text>\n<text text-anchor=\"start\" x=\"419.5\" y=\"-421.8\" font-family=\"monospace\" font-size=\"14.00\" fill=\"brown\">b</text>\n</g>\n<!-- n1325&#45;&#45;n1326 -->\n<g id=\"edge22\" class=\"edge\">\n<title>n1325&#45;&#45;n1326</title>\n<path fill=\"none\" stroke=\"black\" d=\"M414.77,-475.96C414.43,-466.25 413.79,-447.92 413.38,-436.23\"/>\n</g>\n<!-- n2653 -->\n<g id=\"node34\" class=\"node\">\n<title>n2653</title>\n<polygon fill=\"none\" stroke=\"black\" points=\"547,-436 455,-436 455,-413 547,-413 547,-436\"/>\n<text text-anchor=\"start\" x=\"463\" y=\"-421.8\" font-family=\"Times,serif\" font-size=\"14.00\">NUMBER: </text>\n<text text-anchor=\"start\" x=\"530\" y=\"-421.8\" font-family=\"monospace\" font-size=\"14.00\" fill=\"brown\">1</text>\n</g>\n<!-- n2652&#45;&#45;n2653 -->\n<g id=\"edge24\" class=\"edge\">\n<title>n2652&#45;&#45;n2653</title>\n<path fill=\"none\" stroke=\"black\" d=\"M493.92,-475.96C495.28,-466.25 497.85,-447.92 499.49,-436.23\"/>\n</g>\n<!-- n9637 -->\n<g id=\"node36\" class=\"node\">\n<title>n9637</title>\n<text text-anchor=\"middle\" x=\"434\" y=\"-774.8\" font-family=\"Times,serif\" font-size=\"14.00\">stmt_return</text>\n</g>\n<!-- n9636&#45;&#45;n9637 -->\n<g id=\"edge34\" class=\"edge\">\n<title>n9636&#45;&#45;n9637</title>\n<path fill=\"none\" stroke=\"black\" d=\"M431.34,-829.96C431.92,-819.08 433.06,-797.37 433.64,-786.32\"/>\n</g>\n<!-- n9638 -->\n<g id=\"node37\" class=\"node\">\n<title>n9638</title>\n<text text-anchor=\"middle\" x=\"438\" y=\"-715.8\" font-family=\"Times,serif\" font-size=\"14.00\">expr_id</text>\n</g>\n<!-- n9637&#45;&#45;n9638 -->\n<g id=\"edge33\" class=\"edge\">\n<title>n9637&#45;&#45;n9638</title>\n<path fill=\"none\" stroke=\"black\" d=\"M434.46,-770.96C435.22,-760.08 436.75,-738.37 437.52,-727.32\"/>\n</g>\n<!-- n9639 -->\n<g id=\"node38\" class=\"node\">\n<title>n9639</title>\n<polygon fill=\"none\" stroke=\"black\" points=\"484,-672 396,-672 396,-649 484,-649 484,-672\"/>\n<text text-anchor=\"start\" x=\"404\" y=\"-657.8\" font-family=\"Times,serif\" font-size=\"14.00\">ID: </text>\n<text text-anchor=\"start\" x=\"426\" y=\"-657.8\" font-family=\"monospace\" font-size=\"14.00\" fill=\"brown\">result</text>\n</g>\n<!-- n9638&#45;&#45;n9639 -->\n<g id=\"edge32\" class=\"edge\">\n<title>n9638&#45;&#45;n9639</title>\n<path fill=\"none\" stroke=\"black\" d=\"M438.23,-711.96C438.57,-702.25 439.21,-683.92 439.62,-672.23\"/>\n</g>\n<!-- n38572 -->\n<g id=\"node40\" class=\"node\">\n<title>n38572</title>\n<polygon fill=\"none\" stroke=\"black\" points=\"723,-908 651,-908 651,-885 723,-885 723,-908\"/>\n<text text-anchor=\"start\" x=\"659\" y=\"-893.8\" font-family=\"Times,serif\" font-size=\"14.00\">ID: </text>\n<text text-anchor=\"start\" x=\"681\" y=\"-893.8\" font-family=\"monospace\" font-size=\"14.00\" fill=\"brown\">_div</text>\n</g>\n<!-- n38571&#45;&#45;n38572 -->\n<g id=\"edge38\" class=\"edge\">\n<title>n38571&#45;&#45;n38572</title>\n<path fill=\"none\" stroke=\"black\" d=\"M808.68,-943.89C785.1,-934.9 742.63,-918.71 714.63,-908.04\"/>\n</g>\n<!-- n38573 -->\n<g id=\"node41\" class=\"node\">\n<title>n38573</title>\n<text text-anchor=\"middle\" x=\"761\" y=\"-892.8\" font-family=\"Times,serif\" font-size=\"14.00\">params</text>\n</g>\n<!-- n38571&#45;&#45;n38573 -->\n<g id=\"edge41\" class=\"edge\">\n<title>n38571&#45;&#45;n38573</title>\n<path fill=\"none\" stroke=\"black\" d=\"M817.77,-943.79C805.33,-933.65 781.89,-914.53 769.37,-904.33\"/>\n</g>\n<!-- n77149 -->\n<g id=\"node44\" class=\"node\">\n<title>n77149</title>\n<text text-anchor=\"middle\" x=\"826\" y=\"-892.8\" font-family=\"Times,serif\" font-size=\"14.00\">globals</text>\n</g>\n<!-- n38571&#45;&#45;n77149 -->\n<g id=\"edge42\" class=\"edge\">\n<title>n38571&#45;&#45;n77149</title>\n<path fill=\"none\" stroke=\"black\" d=\"M826,-943.57C826,-933.36 826,-914.38 826,-904.26\"/>\n</g>\n<!-- n154299 -->\n<g id=\"node45\" class=\"node\">\n<title>n154299</title>\n<text text-anchor=\"middle\" x=\"896\" y=\"-892.8\" font-family=\"Times,serif\" font-size=\"14.00\">statements</text>\n</g>\n<!-- n38571&#45;&#45;n154299 -->\n<g id=\"edge77\" class=\"edge\">\n<title>n38571&#45;&#45;n154299</title>\n<path fill=\"none\" stroke=\"black\" d=\"M834.87,-943.79C848.26,-933.65 873.51,-914.53 886.99,-904.33\"/>\n</g>\n<!-- n38574 -->\n<g id=\"node42\" class=\"node\">\n<title>n38574</title>\n<polygon fill=\"none\" stroke=\"black\" points=\"717.5,-849 670.5,-849 670.5,-826 717.5,-826 717.5,-849\"/>\n<text text-anchor=\"start\" x=\"678.5\" y=\"-834.8\" font-family=\"Times,serif\" font-size=\"14.00\">ID: </text>\n<text text-anchor=\"start\" x=\"700.5\" y=\"-834.8\" font-family=\"monospace\" font-size=\"14.00\" fill=\"brown\">a</text>\n</g>\n<!-- n38573&#45;&#45;n38574 -->\n<g id=\"edge39\" class=\"edge\">\n<title>n38573&#45;&#45;n38574</title>\n<path fill=\"none\" stroke=\"black\" d=\"M753.31,-888.96C741.83,-879.19 720.09,-860.7 706.36,-849.01\"/>\n</g>\n<!-- n38575 -->\n<g id=\"node43\" class=\"node\">\n<title>n38575</title>\n<polygon fill=\"none\" stroke=\"black\" points=\"782.5,-849 735.5,-849 735.5,-826 782.5,-826 782.5,-849\"/>\n<text text-anchor=\"start\" x=\"743.5\" y=\"-834.8\" font-family=\"Times,serif\" font-size=\"14.00\">ID: </text>\n<text text-anchor=\"start\" x=\"765.5\" y=\"-834.8\" font-family=\"monospace\" font-size=\"14.00\" fill=\"brown\">b</text>\n</g>\n<!-- n38573&#45;&#45;n38575 -->\n<g id=\"edge40\" class=\"edge\">\n<title>n38573&#45;&#45;n38575</title>\n<path fill=\"none\" stroke=\"black\" d=\"M760.77,-888.96C760.43,-879.25 759.79,-860.92 759.38,-849.23\"/>\n</g>\n<!-- n154300 -->\n<g id=\"node46\" class=\"node\">\n<title>n154300</title>\n<text text-anchor=\"middle\" x=\"827\" y=\"-833.8\" font-family=\"Times,serif\" font-size=\"14.00\">statement</text>\n</g>\n<!-- n154299&#45;&#45;n154300 -->\n<g id=\"edge47\" class=\"edge\">\n<title>n154299&#45;&#45;n154300</title>\n<path fill=\"none\" stroke=\"black\" d=\"M888.08,-888.96C874.92,-878.08 848.64,-856.37 835.25,-845.32\"/>\n</g>\n<!-- n617209 -->\n<g id=\"node51\" class=\"node\">\n<title>n617209</title>\n<text text-anchor=\"middle\" x=\"898\" y=\"-833.8\" font-family=\"Times,serif\" font-size=\"14.00\">statement</text>\n</g>\n<!-- n154299&#45;&#45;n617209 -->\n<g id=\"edge72\" class=\"edge\">\n<title>n154299&#45;&#45;n617209</title>\n<path fill=\"none\" stroke=\"black\" d=\"M896.23,-888.96C896.61,-878.08 897.37,-856.37 897.76,-845.32\"/>\n</g>\n<!-- n155538026 -->\n<g id=\"node76\" class=\"node\">\n<title>n155538026</title>\n<text text-anchor=\"middle\" x=\"976\" y=\"-833.8\" font-family=\"Times,serif\" font-size=\"14.00\">statement</text>\n</g>\n<!-- n154299&#45;&#45;n155538026 -->\n<g id=\"edge76\" class=\"edge\">\n<title>n154299&#45;&#45;n155538026</title>\n<path fill=\"none\" stroke=\"black\" d=\"M905.18,-888.96C920.44,-878.08 950.91,-856.37 966.43,-845.32\"/>\n</g>\n<!-- n154301 -->\n<g id=\"node47\" class=\"node\">\n<title>n154301</title>\n<text text-anchor=\"middle\" x=\"640\" y=\"-774.8\" font-family=\"Times,serif\" font-size=\"14.00\">stmt_assign</text>\n</g>\n<!-- n154300&#45;&#45;n154301 -->\n<g id=\"edge46\" class=\"edge\">\n<title>n154300&#45;&#45;n154301</title>\n<path fill=\"none\" stroke=\"black\" d=\"M805.55,-829.96C769.57,-819 697.49,-797.02 661.49,-786.05\"/>\n</g>\n<!-- n154302 -->\n<g id=\"node48\" class=\"node\">\n<title>n154302</title>\n<polygon fill=\"none\" stroke=\"black\" points=\"592,-731 504,-731 504,-708 592,-708 592,-731\"/>\n<text text-anchor=\"start\" x=\"512\" y=\"-716.8\" font-family=\"Times,serif\" font-size=\"14.00\">ID: </text>\n<text text-anchor=\"start\" x=\"534\" y=\"-716.8\" font-family=\"monospace\" font-size=\"14.00\" fill=\"brown\">result</text>\n</g>\n<!-- n154301&#45;&#45;n154302 -->\n<g id=\"edge43\" class=\"edge\">\n<title>n154301&#45;&#45;n154302</title>\n<path fill=\"none\" stroke=\"black\" d=\"M629.45,-770.96C613.68,-761.19 583.83,-742.7 564.97,-731.01\"/>\n</g>\n<!-- n154303 -->\n<g id=\"node49\" class=\"node\">\n<title>n154303</title>\n<text text-anchor=\"middle\" x=\"640\" y=\"-715.8\" font-family=\"Times,serif\" font-size=\"14.00\">expr_const</text>\n</g>\n<!-- n154301&#45;&#45;n154303 -->\n<g id=\"edge45\" class=\"edge\">\n<title>n154301&#45;&#45;n154303</title>\n<path fill=\"none\" stroke=\"black\" d=\"M640,-770.96C640,-760.08 640,-738.37 640,-727.32\"/>\n</g>\n<!-- n154304 -->\n<g id=\"node50\" class=\"node\">\n<title>n154304</title>\n<polygon fill=\"none\" stroke=\"black\" points=\"594,-672 502,-672 502,-649 594,-649 594,-672\"/>\n<text text-anchor=\"start\" x=\"510\" y=\"-657.8\" font-family=\"Times,serif\" font-size=\"14.00\">NUMBER: </text>\n<text text-anchor=\"start\" x=\"577\" y=\"-657.8\" font-family=\"monospace\" font-size=\"14.00\" fill=\"brown\">0</text>\n</g>\n<!-- n154303&#45;&#45;n154304 -->\n<g id=\"edge44\" class=\"edge\">\n<title>n154303&#45;&#45;n154304</title>\n<path fill=\"none\" stroke=\"black\" d=\"M629.45,-711.96C613.68,-702.19 583.83,-683.7 564.97,-672.01\"/>\n</g>\n<!-- n617210 -->\n<g id=\"node52\" class=\"node\">\n<title>n617210</title>\n<text text-anchor=\"middle\" x=\"885\" y=\"-774.8\" font-family=\"Times,serif\" font-size=\"14.00\">stmt_until</text>\n</g>\n<!-- n617209&#45;&#45;n617210 -->\n<g id=\"edge71\" class=\"edge\">\n<title>n617209&#45;&#45;n617210</title>\n<path fill=\"none\" stroke=\"black\" d=\"M896.51,-829.96C894.03,-819.08 889.08,-797.37 886.55,-786.32\"/>\n</g>\n<!-- n617211 -->\n<g id=\"node53\" class=\"node\">\n<title>n617211</title>\n<text text-anchor=\"middle\" x=\"765\" y=\"-715.8\" font-family=\"Times,serif\" font-size=\"14.00\">expr_compare</text>\n</g>\n<!-- n617210&#45;&#45;n617211 -->\n<g id=\"edge53\" class=\"edge\">\n<title>n617210&#45;&#45;n617211</title>\n<path fill=\"none\" stroke=\"black\" d=\"M871.23,-770.96C848.21,-760.02 802.14,-738.14 778.97,-727.14\"/>\n</g>\n<!-- n3086067 -->\n<g id=\"node59\" class=\"node\">\n<title>n3086067</title>\n<text text-anchor=\"middle\" x=\"885\" y=\"-715.8\" font-family=\"Times,serif\" font-size=\"14.00\">statements</text>\n</g>\n<!-- n617210&#45;&#45;n3086067 -->\n<g id=\"edge70\" class=\"edge\">\n<title>n617210&#45;&#45;n3086067</title>\n<path fill=\"none\" stroke=\"black\" d=\"M885,-770.96C885,-760.08 885,-738.37 885,-727.32\"/>\n</g>\n<!-- n617212 -->\n<g id=\"node54\" class=\"node\">\n<title>n617212</title>\n<text text-anchor=\"middle\" x=\"633\" y=\"-656.8\" font-family=\"Times,serif\" font-size=\"14.00\">expr_id</text>\n</g>\n<!-- n617211&#45;&#45;n617212 -->\n<g id=\"edge49\" class=\"edge\">\n<title>n617211&#45;&#45;n617212</title>\n<path fill=\"none\" stroke=\"black\" d=\"M749.86,-711.96C724.53,-701.02 673.85,-679.14 648.37,-668.14\"/>\n</g>\n<!-- n1234426 -->\n<g id=\"node56\" class=\"node\">\n<title>n1234426</title>\n<polygon fill=\"none\" stroke=\"black\" points=\"770,-672 672,-672 672,-649 770,-649 770,-672\"/>\n<text text-anchor=\"start\" x=\"680\" y=\"-657.8\" font-family=\"Times,serif\" font-size=\"14.00\">COMPARE: </text>\n<text text-anchor=\"start\" x=\"753\" y=\"-657.8\" font-family=\"monospace\" font-size=\"14.00\" fill=\"brown\">&lt;</text>\n</g>\n<!-- n617211&#45;&#45;n1234426 -->\n<g id=\"edge50\" class=\"edge\">\n<title>n617211&#45;&#45;n1234426</title>\n<path fill=\"none\" stroke=\"black\" d=\"M759.95,-711.96C752.46,-702.25 738.3,-683.92 729.28,-672.23\"/>\n</g>\n<!-- n1234427 -->\n<g id=\"node57\" class=\"node\">\n<title>n1234427</title>\n<text text-anchor=\"middle\" x=\"809\" y=\"-656.8\" font-family=\"Times,serif\" font-size=\"14.00\">expr_id</text>\n</g>\n<!-- n617211&#45;&#45;n1234427 -->\n<g id=\"edge52\" class=\"edge\">\n<title>n617211&#45;&#45;n1234427</title>\n<path fill=\"none\" stroke=\"black\" d=\"M770.05,-711.96C778.44,-701.08 795.2,-679.37 803.74,-668.32\"/>\n</g>\n<!-- n617213 -->\n<g id=\"node55\" class=\"node\">\n<title>n617213</title>\n<polygon fill=\"none\" stroke=\"black\" points=\"656.5,-613 609.5,-613 609.5,-590 656.5,-590 656.5,-613\"/>\n<text text-anchor=\"start\" x=\"617.5\" y=\"-598.8\" font-family=\"Times,serif\" font-size=\"14.00\">ID: </text>\n<text text-anchor=\"start\" x=\"639.5\" y=\"-598.8\" font-family=\"monospace\" font-size=\"14.00\" fill=\"brown\">a</text>\n</g>\n<!-- n617212&#45;&#45;n617213 -->\n<g id=\"edge48\" class=\"edge\">\n<title>n617212&#45;&#45;n617213</title>\n<path fill=\"none\" stroke=\"black\" d=\"M633,-652.96C633,-643.25 633,-624.92 633,-613.23\"/>\n</g>\n<!-- n1234428 -->\n<g id=\"node58\" class=\"node\">\n<title>n1234428</title>\n<polygon fill=\"none\" stroke=\"black\" points=\"824.5,-613 777.5,-613 777.5,-590 824.5,-590 824.5,-613\"/>\n<text text-anchor=\"start\" x=\"785.5\" y=\"-598.8\" font-family=\"Times,serif\" font-size=\"14.00\">ID: </text>\n<text text-anchor=\"start\" x=\"807.5\" y=\"-598.8\" font-family=\"monospace\" font-size=\"14.00\" fill=\"brown\">b</text>\n</g>\n<!-- n1234427&#45;&#45;n1234428 -->\n<g id=\"edge51\" class=\"edge\">\n<title>n1234427&#45;&#45;n1234428</title>\n<path fill=\"none\" stroke=\"black\" d=\"M808.08,-652.96C806.72,-643.25 804.15,-624.92 802.51,-613.23\"/>\n</g>\n<!-- n3086068 -->\n<g id=\"node60\" class=\"node\">\n<title>n3086068</title>\n<text text-anchor=\"middle\" x=\"875\" y=\"-656.8\" font-family=\"Times,serif\" font-size=\"14.00\">statement</text>\n</g>\n<!-- n3086067&#45;&#45;n3086068 -->\n<g id=\"edge61\" class=\"edge\">\n<title>n3086067&#45;&#45;n3086068</title>\n<path fill=\"none\" stroke=\"black\" d=\"M883.85,-711.96C881.94,-701.08 878.14,-679.37 876.2,-668.32\"/>\n</g>\n<!-- n21602502 -->\n<g id=\"node68\" class=\"node\">\n<title>n21602502</title>\n<text text-anchor=\"middle\" x=\"946\" y=\"-656.8\" font-family=\"Times,serif\" font-size=\"14.00\">statement</text>\n</g>\n<!-- n3086067&#45;&#45;n21602502 -->\n<g id=\"edge69\" class=\"edge\">\n<title>n3086067&#45;&#45;n21602502</title>\n<path fill=\"none\" stroke=\"black\" d=\"M892,-711.96C903.64,-701.08 926.87,-679.37 938.71,-668.32\"/>\n</g>\n<!-- n3086069 -->\n<g id=\"node61\" class=\"node\">\n<title>n3086069</title>\n<text text-anchor=\"middle\" x=\"875\" y=\"-597.8\" font-family=\"Times,serif\" font-size=\"14.00\">stmt_assign</text>\n</g>\n<!-- n3086068&#45;&#45;n3086069 -->\n<g id=\"edge60\" class=\"edge\">\n<title>n3086068&#45;&#45;n3086069</title>\n<path fill=\"none\" stroke=\"black\" d=\"M875,-652.96C875,-642.08 875,-620.37 875,-609.32\"/>\n</g>\n<!-- n3086070 -->\n<g id=\"node62\" class=\"node\">\n<title>n3086070</title>\n<polygon fill=\"none\" stroke=\"black\" points=\"836,-554 748,-554 748,-531 836,-531 836,-554\"/>\n<text text-anchor=\"start\" x=\"756\" y=\"-539.8\" font-family=\"Times,serif\" font-size=\"14.00\">ID: </text>\n<text text-anchor=\"start\" x=\"778\" y=\"-539.8\" font-family=\"monospace\" font-size=\"14.00\" fill=\"brown\">result</text>\n</g>\n<!-- n3086069&#45;&#45;n3086070 -->\n<g id=\"edge54\" class=\"edge\">\n<title>n3086069&#45;&#45;n3086070</title>\n<path fill=\"none\" stroke=\"black\" d=\"M865.48,-593.96C851.26,-584.19 824.32,-565.7 807.31,-554.01\"/>\n</g>\n<!-- n3086071 -->\n<g id=\"node63\" class=\"node\">\n<title>n3086071</title>\n<text text-anchor=\"middle\" x=\"879\" y=\"-538.8\" font-family=\"Times,serif\" font-size=\"14.00\">expr_add</text>\n</g>\n<!-- n3086069&#45;&#45;n3086071 -->\n<g id=\"edge59\" class=\"edge\">\n<title>n3086069&#45;&#45;n3086071</title>\n<path fill=\"none\" stroke=\"black\" d=\"M875.46,-593.96C876.22,-583.08 877.75,-561.37 878.52,-550.32\"/>\n</g>\n<!-- n3086072 -->\n<g id=\"node64\" class=\"node\">\n<title>n3086072</title>\n<text text-anchor=\"middle\" x=\"815\" y=\"-479.8\" font-family=\"Times,serif\" font-size=\"14.00\">expr_id</text>\n</g>\n<!-- n3086071&#45;&#45;n3086072 -->\n<g id=\"edge56\" class=\"edge\">\n<title>n3086071&#45;&#45;n3086072</title>\n<path fill=\"none\" stroke=\"black\" d=\"M871.66,-534.96C859.44,-524.08 835.07,-502.37 822.65,-491.32\"/>\n</g>\n<!-- n6172146 -->\n<g id=\"node66\" class=\"node\">\n<title>n6172146</title>\n<text text-anchor=\"middle\" x=\"903\" y=\"-479.8\" font-family=\"Times,serif\" font-size=\"14.00\">expr_const</text>\n</g>\n<!-- n3086071&#45;&#45;n6172146 -->\n<g id=\"edge58\" class=\"edge\">\n<title>n3086071&#45;&#45;n6172146</title>\n<path fill=\"none\" stroke=\"black\" d=\"M881.75,-534.96C886.33,-524.08 895.47,-502.37 900.13,-491.32\"/>\n</g>\n<!-- n3086073 -->\n<g id=\"node65\" class=\"node\">\n<title>n3086073</title>\n<polygon fill=\"none\" stroke=\"black\" points=\"849,-436 761,-436 761,-413 849,-413 849,-436\"/>\n<text text-anchor=\"start\" x=\"769\" y=\"-421.8\" font-family=\"Times,serif\" font-size=\"14.00\">ID: </text>\n<text text-anchor=\"start\" x=\"791\" y=\"-421.8\" font-family=\"monospace\" font-size=\"14.00\" fill=\"brown\">result</text>\n</g>\n<!-- n3086072&#45;&#45;n3086073 -->\n<g id=\"edge55\" class=\"edge\">\n<title>n3086072&#45;&#45;n3086073</title>\n<path fill=\"none\" stroke=\"black\" d=\"M813.85,-475.96C812.15,-466.25 808.93,-447.92 806.88,-436.23\"/>\n</g>\n<!-- n6172147 -->\n<g id=\"node67\" class=\"node\">\n<title>n6172147</title>\n<polygon fill=\"none\" stroke=\"black\" points=\"959,-436 867,-436 867,-413 959,-413 959,-436\"/>\n<text text-anchor=\"start\" x=\"875\" y=\"-421.8\" font-family=\"Times,serif\" font-size=\"14.00\">NUMBER: </text>\n<text text-anchor=\"start\" x=\"942\" y=\"-421.8\" font-family=\"monospace\" font-size=\"14.00\" fill=\"brown\">1</text>\n</g>\n<!-- n6172146&#45;&#45;n6172147 -->\n<g id=\"edge57\" class=\"edge\">\n<title>n6172146&#45;&#45;n6172147</title>\n<path fill=\"none\" stroke=\"black\" d=\"M904.15,-475.96C905.85,-466.25 909.07,-447.92 911.12,-436.23\"/>\n</g>\n<!-- n21602503 -->\n<g id=\"node69\" class=\"node\">\n<title>n21602503</title>\n<text text-anchor=\"middle\" x=\"958\" y=\"-597.8\" font-family=\"Times,serif\" font-size=\"14.00\">stmt_assign</text>\n</g>\n<!-- n21602502&#45;&#45;n21602503 -->\n<g id=\"edge68\" class=\"edge\">\n<title>n21602502&#45;&#45;n21602503</title>\n<path fill=\"none\" stroke=\"black\" d=\"M947.38,-652.96C949.67,-642.08 954.24,-620.37 956.57,-609.32\"/>\n</g>\n<!-- n21602504 -->\n<g id=\"node70\" class=\"node\">\n<title>n21602504</title>\n<polygon fill=\"none\" stroke=\"black\" points=\"977.5,-554 930.5,-554 930.5,-531 977.5,-531 977.5,-554\"/>\n<text text-anchor=\"start\" x=\"938.5\" y=\"-539.8\" font-family=\"Times,serif\" font-size=\"14.00\">ID: </text>\n<text text-anchor=\"start\" x=\"960.5\" y=\"-539.8\" font-family=\"monospace\" font-size=\"14.00\" fill=\"brown\">a</text>\n</g>\n<!-- n21602503&#45;&#45;n21602504 -->\n<g id=\"edge62\" class=\"edge\">\n<title>n21602503&#45;&#45;n21602504</title>\n<path fill=\"none\" stroke=\"black\" d=\"M957.54,-593.96C956.86,-584.25 955.57,-565.92 954.75,-554.23\"/>\n</g>\n<!-- n21602505 -->\n<g id=\"node71\" class=\"node\">\n<title>n21602505</title>\n<text text-anchor=\"middle\" x=\"1021\" y=\"-538.8\" font-family=\"Times,serif\" font-size=\"14.00\">expr_sub</text>\n</g>\n<!-- n21602503&#45;&#45;n21602505 -->\n<g id=\"edge67\" class=\"edge\">\n<title>n21602503&#45;&#45;n21602505</title>\n<path fill=\"none\" stroke=\"black\" d=\"M965.23,-593.96C977.25,-583.08 1001.24,-561.37 1013.47,-550.32\"/>\n</g>\n<!-- n21602506 -->\n<g id=\"node72\" class=\"node\">\n<title>n21602506</title>\n<text text-anchor=\"middle\" x=\"1008\" y=\"-479.8\" font-family=\"Times,serif\" font-size=\"14.00\">expr_id</text>\n</g>\n<!-- n21602505&#45;&#45;n21602506 -->\n<g id=\"edge64\" class=\"edge\">\n<title>n21602505&#45;&#45;n21602506</title>\n<path fill=\"none\" stroke=\"black\" d=\"M1019.51,-534.96C1017.03,-524.08 1012.08,-502.37 1009.55,-491.32\"/>\n</g>\n<!-- n43205014 -->\n<g id=\"node74\" class=\"node\">\n<title>n43205014</title>\n<text text-anchor=\"middle\" x=\"1070\" y=\"-479.8\" font-family=\"Times,serif\" font-size=\"14.00\">expr_id</text>\n</g>\n<!-- n21602505&#45;&#45;n43205014 -->\n<g id=\"edge66\" class=\"edge\">\n<title>n21602505&#45;&#45;n43205014</title>\n<path fill=\"none\" stroke=\"black\" d=\"M1026.62,-534.96C1035.97,-524.08 1054.63,-502.37 1064.14,-491.32\"/>\n</g>\n<!-- n21602507 -->\n<g id=\"node73\" class=\"node\">\n<title>n21602507</title>\n<polygon fill=\"none\" stroke=\"black\" points=\"1030.5,-436 983.5,-436 983.5,-413 1030.5,-413 1030.5,-436\"/>\n<text text-anchor=\"start\" x=\"991.5\" y=\"-421.8\" font-family=\"Times,serif\" font-size=\"14.00\">ID: </text>\n<text text-anchor=\"start\" x=\"1013.5\" y=\"-421.8\" font-family=\"monospace\" font-size=\"14.00\" fill=\"brown\">a</text>\n</g>\n<!-- n21602506&#45;&#45;n21602507 -->\n<g id=\"edge63\" class=\"edge\">\n<title>n21602506&#45;&#45;n21602507</title>\n<path fill=\"none\" stroke=\"black\" d=\"M1007.89,-475.96C1007.71,-466.25 1007.39,-447.92 1007.19,-436.23\"/>\n</g>\n<!-- n43205015 -->\n<g id=\"node75\" class=\"node\">\n<title>n43205015</title>\n<polygon fill=\"none\" stroke=\"black\" points=\"1095.5,-436 1048.5,-436 1048.5,-413 1095.5,-413 1095.5,-436\"/>\n<text text-anchor=\"start\" x=\"1056.5\" y=\"-421.8\" font-family=\"Times,serif\" font-size=\"14.00\">ID: </text>\n<text text-anchor=\"start\" x=\"1078.5\" y=\"-421.8\" font-family=\"monospace\" font-size=\"14.00\" fill=\"brown\">b</text>\n</g>\n<!-- n43205014&#45;&#45;n43205015 -->\n<g id=\"edge65\" class=\"edge\">\n<title>n43205014&#45;&#45;n43205015</title>\n<path fill=\"none\" stroke=\"black\" d=\"M1070.23,-475.96C1070.57,-466.25 1071.21,-447.92 1071.62,-436.23\"/>\n</g>\n<!-- n155538027 -->\n<g id=\"node77\" class=\"node\">\n<title>n155538027</title>\n<text text-anchor=\"middle\" x=\"983\" y=\"-774.8\" font-family=\"Times,serif\" font-size=\"14.00\">stmt_return</text>\n</g>\n<!-- n155538026&#45;&#45;n155538027 -->\n<g id=\"edge75\" class=\"edge\">\n<title>n155538026&#45;&#45;n155538027</title>\n<path fill=\"none\" stroke=\"black\" d=\"M976.8,-829.96C978.14,-819.08 980.8,-797.37 982.16,-786.32\"/>\n</g>\n<!-- n155538028 -->\n<g id=\"node78\" class=\"node\">\n<title>n155538028</title>\n<text text-anchor=\"middle\" x=\"1024\" y=\"-715.8\" font-family=\"Times,serif\" font-size=\"14.00\">expr_id</text>\n</g>\n<!-- n155538027&#45;&#45;n155538028 -->\n<g id=\"edge74\" class=\"edge\">\n<title>n155538027&#45;&#45;n155538028</title>\n<path fill=\"none\" stroke=\"black\" d=\"M987.7,-770.96C995.53,-760.08 1011.14,-738.37 1019.1,-727.32\"/>\n</g>\n<!-- n155538029 -->\n<g id=\"node79\" class=\"node\">\n<title>n155538029</title>\n<polygon fill=\"none\" stroke=\"black\" points=\"1079,-672 991,-672 991,-649 1079,-649 1079,-672\"/>\n<text text-anchor=\"start\" x=\"999\" y=\"-657.8\" font-family=\"Times,serif\" font-size=\"14.00\">ID: </text>\n<text text-anchor=\"start\" x=\"1021\" y=\"-657.8\" font-family=\"monospace\" font-size=\"14.00\" fill=\"brown\">result</text>\n</g>\n<!-- n155538028&#45;&#45;n155538029 -->\n<g id=\"edge73\" class=\"edge\">\n<title>n155538028&#45;&#45;n155538029</title>\n<path fill=\"none\" stroke=\"black\" d=\"M1025.26,-711.96C1027.14,-702.25 1030.67,-683.92 1032.93,-672.23\"/>\n</g>\n<!-- n622344982 -->\n<g id=\"node81\" class=\"node\">\n<title>n622344982</title>\n<polygon fill=\"none\" stroke=\"black\" points=\"1185,-908 1113,-908 1113,-885 1185,-885 1185,-908\"/>\n<text text-anchor=\"start\" x=\"1121\" y=\"-893.8\" font-family=\"Times,serif\" font-size=\"14.00\">ID: </text>\n<text text-anchor=\"start\" x=\"1143\" y=\"-893.8\" font-family=\"monospace\" font-size=\"14.00\" fill=\"brown\">_mod</text>\n</g>\n<!-- n622344981&#45;&#45;n622344982 -->\n<g id=\"edge79\" class=\"edge\">\n<title>n622344981&#45;&#45;n622344982</title>\n<path fill=\"none\" stroke=\"black\" d=\"M1264.55,-943.89C1242.16,-934.9 1201.83,-918.71 1175.24,-908.04\"/>\n</g>\n<!-- n622344983 -->\n<g id=\"node82\" class=\"node\">\n<title>n622344983</title>\n<text text-anchor=\"middle\" x=\"1223\" y=\"-892.8\" font-family=\"Times,serif\" font-size=\"14.00\">params</text>\n</g>\n<!-- n622344981&#45;&#45;n622344983 -->\n<g id=\"edge82\" class=\"edge\">\n<title>n622344981&#45;&#45;n622344983</title>\n<path fill=\"none\" stroke=\"black\" d=\"M1273.42,-943.57C1262.24,-933.36 1241.47,-914.38 1230.4,-904.26\"/>\n</g>\n<!-- n1244689969 -->\n<g id=\"node85\" class=\"node\">\n<title>n1244689969</title>\n<text text-anchor=\"middle\" x=\"1281\" y=\"-892.8\" font-family=\"Times,serif\" font-size=\"14.00\">globals</text>\n</g>\n<!-- n622344981&#45;&#45;n1244689969 -->\n<g id=\"edge83\" class=\"edge\">\n<title>n622344981&#45;&#45;n1244689969</title>\n<path fill=\"none\" stroke=\"black\" d=\"M1281,-943.57C1281,-933.36 1281,-914.38 1281,-904.26\"/>\n</g>\n<!-- n2489379939 -->\n<g id=\"node86\" class=\"node\">\n<title>n2489379939</title>\n<text text-anchor=\"middle\" x=\"1348\" y=\"-892.8\" font-family=\"Times,serif\" font-size=\"14.00\">statements</text>\n</g>\n<!-- n622344981&#45;&#45;n2489379939 -->\n<g id=\"edge105\" class=\"edge\">\n<title>n622344981&#45;&#45;n2489379939</title>\n<path fill=\"none\" stroke=\"black\" d=\"M1289.49,-943.79C1302.3,-933.65 1326.47,-914.53 1339.37,-904.33\"/>\n</g>\n<!-- n622344984 -->\n<g id=\"node83\" class=\"node\">\n<title>n622344984</title>\n<polygon fill=\"none\" stroke=\"black\" points=\"1181.5,-849 1134.5,-849 1134.5,-826 1181.5,-826 1181.5,-849\"/>\n<text text-anchor=\"start\" x=\"1142.5\" y=\"-834.8\" font-family=\"Times,serif\" font-size=\"14.00\">ID: </text>\n<text text-anchor=\"start\" x=\"1164.5\" y=\"-834.8\" font-family=\"monospace\" font-size=\"14.00\" fill=\"brown\">a</text>\n</g>\n<!-- n622344983&#45;&#45;n622344984 -->\n<g id=\"edge80\" class=\"edge\">\n<title>n622344983&#45;&#45;n622344984</title>\n<path fill=\"none\" stroke=\"black\" d=\"M1215.54,-888.96C1204.47,-879.25 1183.56,-860.92 1170.23,-849.23\"/>\n</g>\n<!-- n622344985 -->\n<g id=\"node84\" class=\"node\">\n<title>n622344985</title>\n<polygon fill=\"none\" stroke=\"black\" points=\"1246.5,-849 1199.5,-849 1199.5,-826 1246.5,-826 1246.5,-849\"/>\n<text text-anchor=\"start\" x=\"1207.5\" y=\"-834.8\" font-family=\"Times,serif\" font-size=\"14.00\">ID: </text>\n<text text-anchor=\"start\" x=\"1229.5\" y=\"-834.8\" font-family=\"monospace\" font-size=\"14.00\" fill=\"brown\">b</text>\n</g>\n<!-- n622344983&#45;&#45;n622344985 -->\n<g id=\"edge81\" class=\"edge\">\n<title>n622344983&#45;&#45;n622344985</title>\n<path fill=\"none\" stroke=\"black\" d=\"M1223,-888.96C1223,-879.25 1223,-860.92 1223,-849.23\"/>\n</g>\n<!-- n2489379940 -->\n<g id=\"node87\" class=\"node\">\n<title>n2489379940</title>\n<text text-anchor=\"middle\" x=\"1291\" y=\"-833.8\" font-family=\"Times,serif\" font-size=\"14.00\">statement</text>\n</g>\n<!-- n2489379939&#45;&#45;n2489379940 -->\n<g id=\"edge100\" class=\"edge\">\n<title>n2489379939&#45;&#45;n2489379940</title>\n<path fill=\"none\" stroke=\"black\" d=\"M1341.46,-888.96C1330.58,-878.08 1308.87,-856.37 1297.82,-845.32\"/>\n</g>\n<!-- n104553957690 -->\n<g id=\"node104\" class=\"node\">\n<title>n104553957690</title>\n<text text-anchor=\"middle\" x=\"1362\" y=\"-833.8\" font-family=\"Times,serif\" font-size=\"14.00\">statement</text>\n</g>\n<!-- n2489379939&#45;&#45;n104553957690 -->\n<g id=\"edge104\" class=\"edge\">\n<title>n2489379939&#45;&#45;n104553957690</title>\n<path fill=\"none\" stroke=\"black\" d=\"M1349.61,-888.96C1352.28,-878.08 1357.61,-856.37 1360.33,-845.32\"/>\n</g>\n<!-- n2489379941 -->\n<g id=\"node88\" class=\"node\">\n<title>n2489379941</title>\n<text text-anchor=\"middle\" x=\"1284\" y=\"-774.8\" font-family=\"Times,serif\" font-size=\"14.00\">stmt_until</text>\n</g>\n<!-- n2489379940&#45;&#45;n2489379941 -->\n<g id=\"edge99\" class=\"edge\">\n<title>n2489379940&#45;&#45;n2489379941</title>\n<path fill=\"none\" stroke=\"black\" d=\"M1290.2,-829.96C1288.86,-819.08 1286.2,-797.37 1284.84,-786.32\"/>\n</g>\n<!-- n2489379942 -->\n<g id=\"node89\" class=\"node\">\n<title>n2489379942</title>\n<text text-anchor=\"middle\" x=\"1206\" y=\"-715.8\" font-family=\"Times,serif\" font-size=\"14.00\">expr_compare</text>\n</g>\n<!-- n2489379941&#45;&#45;n2489379942 -->\n<g id=\"edge89\" class=\"edge\">\n<title>n2489379941&#45;&#45;n2489379942</title>\n<path fill=\"none\" stroke=\"black\" d=\"M1275.05,-770.96C1260.17,-760.08 1230.46,-738.37 1215.33,-727.32\"/>\n</g>\n<!-- n12446899722 -->\n<g id=\"node95\" class=\"node\">\n<title>n12446899722</title>\n<text text-anchor=\"middle\" x=\"1292\" y=\"-715.8\" font-family=\"Times,serif\" font-size=\"14.00\">statements</text>\n</g>\n<!-- n2489379941&#45;&#45;n12446899722 -->\n<g id=\"edge98\" class=\"edge\">\n<title>n2489379941&#45;&#45;n12446899722</title>\n<path fill=\"none\" stroke=\"black\" d=\"M1284.92,-770.96C1286.44,-760.08 1289.49,-738.37 1291.04,-727.32\"/>\n</g>\n<!-- n2489379943 -->\n<g id=\"node90\" class=\"node\">\n<title>n2489379943</title>\n<text text-anchor=\"middle\" x=\"1118\" y=\"-656.8\" font-family=\"Times,serif\" font-size=\"14.00\">expr_id</text>\n</g>\n<!-- n2489379942&#45;&#45;n2489379943 -->\n<g id=\"edge85\" class=\"edge\">\n<title>n2489379942&#45;&#45;n2489379943</title>\n<path fill=\"none\" stroke=\"black\" d=\"M1195.91,-711.96C1179.02,-701.02 1145.23,-679.14 1128.25,-668.14\"/>\n</g>\n<!-- n4978759888 -->\n<g id=\"node92\" class=\"node\">\n<title>n4978759888</title>\n<polygon fill=\"none\" stroke=\"black\" points=\"1255,-672 1157,-672 1157,-649 1255,-649 1255,-672\"/>\n<text text-anchor=\"start\" x=\"1165\" y=\"-657.8\" font-family=\"Times,serif\" font-size=\"14.00\">COMPARE: </text>\n<text text-anchor=\"start\" x=\"1238\" y=\"-657.8\" font-family=\"monospace\" font-size=\"14.00\" fill=\"brown\">&lt;</text>\n</g>\n<!-- n2489379942&#45;&#45;n4978759888 -->\n<g id=\"edge86\" class=\"edge\">\n<title>n2489379942&#45;&#45;n4978759888</title>\n<path fill=\"none\" stroke=\"black\" d=\"M1206,-711.96C1206,-702.25 1206,-683.92 1206,-672.23\"/>\n</g>\n<!-- n4978759889 -->\n<g id=\"node93\" class=\"node\">\n<title>n4978759889</title>\n<text text-anchor=\"middle\" x=\"1294\" y=\"-656.8\" font-family=\"Times,serif\" font-size=\"14.00\">expr_id</text>\n</g>\n<!-- n2489379942&#45;&#45;n4978759889 -->\n<g id=\"edge88\" class=\"edge\">\n<title>n2489379942&#45;&#45;n4978759889</title>\n<path fill=\"none\" stroke=\"black\" d=\"M1216.09,-711.96C1232.98,-701.02 1266.77,-679.14 1283.75,-668.14\"/>\n</g>\n<!-- n2489379944 -->\n<g id=\"node91\" class=\"node\">\n<title>n2489379944</title>\n<polygon fill=\"none\" stroke=\"black\" points=\"1141.5,-613 1094.5,-613 1094.5,-590 1141.5,-590 1141.5,-613\"/>\n<text text-anchor=\"start\" x=\"1102.5\" y=\"-598.8\" font-family=\"Times,serif\" font-size=\"14.00\">ID: </text>\n<text text-anchor=\"start\" x=\"1124.5\" y=\"-598.8\" font-family=\"monospace\" font-size=\"14.00\" fill=\"brown\">a</text>\n</g>\n<!-- n2489379943&#45;&#45;n2489379944 -->\n<g id=\"edge84\" class=\"edge\">\n<title>n2489379943&#45;&#45;n2489379944</title>\n<path fill=\"none\" stroke=\"black\" d=\"M1118,-652.96C1118,-643.25 1118,-624.92 1118,-613.23\"/>\n</g>\n<!-- n4978759890 -->\n<g id=\"node94\" class=\"node\">\n<title>n4978759890</title>\n<polygon fill=\"none\" stroke=\"black\" points=\"1313.5,-613 1266.5,-613 1266.5,-590 1313.5,-590 1313.5,-613\"/>\n<text text-anchor=\"start\" x=\"1274.5\" y=\"-598.8\" font-family=\"Times,serif\" font-size=\"14.00\">ID: </text>\n<text text-anchor=\"start\" x=\"1296.5\" y=\"-598.8\" font-family=\"monospace\" font-size=\"14.00\" fill=\"brown\">b</text>\n</g>\n<!-- n4978759889&#45;&#45;n4978759890 -->\n<g id=\"edge87\" class=\"edge\">\n<title>n4978759889&#45;&#45;n4978759890</title>\n<path fill=\"none\" stroke=\"black\" d=\"M1293.54,-652.96C1292.86,-643.25 1291.57,-624.92 1290.75,-613.23\"/>\n</g>\n<!-- n12446899723 -->\n<g id=\"node96\" class=\"node\">\n<title>n12446899723</title>\n<text text-anchor=\"middle\" x=\"1360\" y=\"-656.8\" font-family=\"Times,serif\" font-size=\"14.00\">statement</text>\n</g>\n<!-- n12446899722&#45;&#45;n12446899723 -->\n<g id=\"edge97\" class=\"edge\">\n<title>n12446899722&#45;&#45;n12446899723</title>\n<path fill=\"none\" stroke=\"black\" d=\"M1299.8,-711.96C1312.78,-701.08 1338.68,-679.37 1351.87,-668.32\"/>\n</g>\n<!-- n12446899724 -->\n<g id=\"node97\" class=\"node\">\n<title>n12446899724</title>\n<text text-anchor=\"middle\" x=\"1364\" y=\"-597.8\" font-family=\"Times,serif\" font-size=\"14.00\">stmt_assign</text>\n</g>\n<!-- n12446899723&#45;&#45;n12446899724 -->\n<g id=\"edge96\" class=\"edge\">\n<title>n12446899723&#45;&#45;n12446899724</title>\n<path fill=\"none\" stroke=\"black\" d=\"M1360.46,-652.96C1361.22,-642.08 1362.75,-620.37 1363.52,-609.32\"/>\n</g>\n<!-- n12446899725 -->\n<g id=\"node98\" class=\"node\">\n<title>n12446899725</title>\n<polygon fill=\"none\" stroke=\"black\" points=\"1354.5,-554 1307.5,-554 1307.5,-531 1354.5,-531 1354.5,-554\"/>\n<text text-anchor=\"start\" x=\"1315.5\" y=\"-539.8\" font-family=\"Times,serif\" font-size=\"14.00\">ID: </text>\n<text text-anchor=\"start\" x=\"1337.5\" y=\"-539.8\" font-family=\"monospace\" font-size=\"14.00\" fill=\"brown\">a</text>\n</g>\n<!-- n12446899724&#45;&#45;n12446899725 -->\n<g id=\"edge90\" class=\"edge\">\n<title>n12446899724&#45;&#45;n12446899725</title>\n<path fill=\"none\" stroke=\"black\" d=\"M1360.21,-593.96C1354.59,-584.25 1343.98,-565.92 1337.21,-554.23\"/>\n</g>\n<!-- n12446899726 -->\n<g id=\"node99\" class=\"node\">\n<title>n12446899726</title>\n<text text-anchor=\"middle\" x=\"1398\" y=\"-538.8\" font-family=\"Times,serif\" font-size=\"14.00\">expr_sub</text>\n</g>\n<!-- n12446899724&#45;&#45;n12446899726 -->\n<g id=\"edge95\" class=\"edge\">\n<title>n12446899724&#45;&#45;n12446899726</title>\n<path fill=\"none\" stroke=\"black\" d=\"M1367.9,-593.96C1374.39,-583.08 1387.34,-561.37 1393.93,-550.32\"/>\n</g>\n<!-- n12446899727 -->\n<g id=\"node100\" class=\"node\">\n<title>n12446899727</title>\n<text text-anchor=\"middle\" x=\"1368\" y=\"-479.8\" font-family=\"Times,serif\" font-size=\"14.00\">expr_id</text>\n</g>\n<!-- n12446899726&#45;&#45;n12446899727 -->\n<g id=\"edge92\" class=\"edge\">\n<title>n12446899726&#45;&#45;n12446899727</title>\n<path fill=\"none\" stroke=\"black\" d=\"M1394.56,-534.96C1388.83,-524.08 1377.41,-502.37 1371.59,-491.32\"/>\n</g>\n<!-- n24893799456 -->\n<g id=\"node102\" class=\"node\">\n<title>n24893799456</title>\n<text text-anchor=\"middle\" x=\"1430\" y=\"-479.8\" font-family=\"Times,serif\" font-size=\"14.00\">expr_id</text>\n</g>\n<!-- n12446899726&#45;&#45;n24893799456 -->\n<g id=\"edge94\" class=\"edge\">\n<title>n12446899726&#45;&#45;n24893799456</title>\n<path fill=\"none\" stroke=\"black\" d=\"M1401.67,-534.96C1407.78,-524.08 1419.97,-502.37 1426.17,-491.32\"/>\n</g>\n<!-- n12446899728 -->\n<g id=\"node101\" class=\"node\">\n<title>n12446899728</title>\n<polygon fill=\"none\" stroke=\"black\" points=\"1390.5,-436 1343.5,-436 1343.5,-413 1390.5,-413 1390.5,-436\"/>\n<text text-anchor=\"start\" x=\"1351.5\" y=\"-421.8\" font-family=\"Times,serif\" font-size=\"14.00\">ID: </text>\n<text text-anchor=\"start\" x=\"1373.5\" y=\"-421.8\" font-family=\"monospace\" font-size=\"14.00\" fill=\"brown\">a</text>\n</g>\n<!-- n12446899727&#45;&#45;n12446899728 -->\n<g id=\"edge91\" class=\"edge\">\n<title>n12446899727&#45;&#45;n12446899728</title>\n<path fill=\"none\" stroke=\"black\" d=\"M1367.89,-475.96C1367.71,-466.25 1367.39,-447.92 1367.19,-436.23\"/>\n</g>\n<!-- n24893799457 -->\n<g id=\"node103\" class=\"node\">\n<title>n24893799457</title>\n<polygon fill=\"none\" stroke=\"black\" points=\"1455.5,-436 1408.5,-436 1408.5,-413 1455.5,-413 1455.5,-436\"/>\n<text text-anchor=\"start\" x=\"1416.5\" y=\"-421.8\" font-family=\"Times,serif\" font-size=\"14.00\">ID: </text>\n<text text-anchor=\"start\" x=\"1438.5\" y=\"-421.8\" font-family=\"monospace\" font-size=\"14.00\" fill=\"brown\">b</text>\n</g>\n<!-- n24893799456&#45;&#45;n24893799457 -->\n<g id=\"edge93\" class=\"edge\">\n<title>n24893799456&#45;&#45;n24893799457</title>\n<path fill=\"none\" stroke=\"black\" d=\"M1430.23,-475.96C1430.57,-466.25 1431.21,-447.92 1431.62,-436.23\"/>\n</g>\n<!-- n104553957691 -->\n<g id=\"node105\" class=\"node\">\n<title>n104553957691</title>\n<text text-anchor=\"middle\" x=\"1362\" y=\"-774.8\" font-family=\"Times,serif\" font-size=\"14.00\">stmt_return</text>\n</g>\n<!-- n104553957690&#45;&#45;n104553957691 -->\n<g id=\"edge103\" class=\"edge\">\n<title>n104553957690&#45;&#45;n104553957691</title>\n<path fill=\"none\" stroke=\"black\" d=\"M1362,-829.96C1362,-819.08 1362,-797.37 1362,-786.32\"/>\n</g>\n<!-- n104553957692 -->\n<g id=\"node106\" class=\"node\">\n<title>n104553957692</title>\n<text text-anchor=\"middle\" x=\"1360\" y=\"-715.8\" font-family=\"Times,serif\" font-size=\"14.00\">expr_id</text>\n</g>\n<!-- n104553957691&#45;&#45;n104553957692 -->\n<g id=\"edge102\" class=\"edge\">\n<title>n104553957691&#45;&#45;n104553957692</title>\n<path fill=\"none\" stroke=\"black\" d=\"M1361.77,-770.96C1361.39,-760.08 1360.63,-738.37 1360.24,-727.32\"/>\n</g>\n<!-- n104553957693 -->\n<g id=\"node107\" class=\"node\">\n<title>n104553957693</title>\n<polygon fill=\"none\" stroke=\"black\" points=\"1451.5,-672 1404.5,-672 1404.5,-649 1451.5,-649 1451.5,-672\"/>\n<text text-anchor=\"start\" x=\"1412.5\" y=\"-657.8\" font-family=\"Times,serif\" font-size=\"14.00\">ID: </text>\n<text text-anchor=\"start\" x=\"1434.5\" y=\"-657.8\" font-family=\"monospace\" font-size=\"14.00\" fill=\"brown\">a</text>\n</g>\n<!-- n104553957692&#45;&#45;n104553957693 -->\n<g id=\"edge101\" class=\"edge\">\n<title>n104553957692&#45;&#45;n104553957693</title>\n<path fill=\"none\" stroke=\"black\" d=\"M1367.8,-711.96C1379.45,-702.19 1401.52,-683.7 1415.46,-672.01\"/>\n</g>\n<!-- n421327555688 -->\n<g id=\"node109\" class=\"node\">\n<title>n421327555688</title>\n<text text-anchor=\"middle\" x=\"1711\" y=\"-892.8\" font-family=\"Times,serif\" font-size=\"14.00\">stmt_assign</text>\n</g>\n<!-- n421327555687&#45;&#45;n421327555688 -->\n<g id=\"edge121\" class=\"edge\">\n<title>n421327555687&#45;&#45;n421327555688</title>\n<path fill=\"none\" stroke=\"black\" d=\"M1718.82,-943.57C1717.09,-933.36 1713.87,-914.38 1712.15,-904.26\"/>\n</g>\n<!-- n421327555689 -->\n<g id=\"node110\" class=\"node\">\n<title>n421327555689</title>\n<polygon fill=\"none\" stroke=\"black\" points=\"1663,-849 1591,-849 1591,-826 1663,-826 1663,-849\"/>\n<text text-anchor=\"start\" x=\"1599\" y=\"-834.8\" font-family=\"Times,serif\" font-size=\"14.00\">ID: </text>\n<text text-anchor=\"start\" x=\"1621\" y=\"-834.8\" font-family=\"monospace\" font-size=\"14.00\" fill=\"brown\">list</text>\n</g>\n<!-- n421327555688&#45;&#45;n421327555689 -->\n<g id=\"edge107\" class=\"edge\">\n<title>n421327555688&#45;&#45;n421327555689</title>\n<path fill=\"none\" stroke=\"black\" d=\"M1701.36,-888.96C1686.97,-879.19 1659.71,-860.7 1642.5,-849.01\"/>\n</g>\n<!-- n421327555690 -->\n<g id=\"node111\" class=\"node\">\n<title>n421327555690</title>\n<text text-anchor=\"middle\" x=\"1711\" y=\"-833.8\" font-family=\"Times,serif\" font-size=\"14.00\">expr_array</text>\n</g>\n<!-- n421327555688&#45;&#45;n421327555690 -->\n<g id=\"edge120\" class=\"edge\">\n<title>n421327555688&#45;&#45;n421327555690</title>\n<path fill=\"none\" stroke=\"black\" d=\"M1711,-888.96C1711,-878.08 1711,-856.37 1711,-845.32\"/>\n</g>\n<!-- n421327555691 -->\n<g id=\"node112\" class=\"node\">\n<title>n421327555691</title>\n<text text-anchor=\"middle\" x=\"1461\" y=\"-774.8\" font-family=\"Times,serif\" font-size=\"14.00\">expr_const</text>\n</g>\n<!-- n421327555690&#45;&#45;n421327555691 -->\n<g id=\"edge109\" class=\"edge\">\n<title>n421327555690&#45;&#45;n421327555691</title>\n<path fill=\"none\" stroke=\"black\" d=\"M1687.53,-829.99C1682.43,-828.63 1677.04,-827.23 1672,-826 1607.87,-810.31 1532.19,-794.22 1491.15,-785.69\"/>\n</g>\n<!-- n842655111384 -->\n<g id=\"node114\" class=\"node\">\n<title>n842655111384</title>\n<text text-anchor=\"middle\" x=\"1555\" y=\"-774.8\" font-family=\"Times,serif\" font-size=\"14.00\">expr_const</text>\n</g>\n<!-- n421327555690&#45;&#45;n842655111384 -->\n<g id=\"edge111\" class=\"edge\">\n<title>n421327555690&#45;&#45;n842655111384</title>\n<path fill=\"none\" stroke=\"black\" d=\"M1693.1,-829.96C1663.17,-819.02 1603.28,-797.14 1573.17,-786.14\"/>\n</g>\n<!-- n1685310222770 -->\n<g id=\"node116\" class=\"node\">\n<title>n1685310222770</title>\n<text text-anchor=\"middle\" x=\"1633\" y=\"-774.8\" font-family=\"Times,serif\" font-size=\"14.00\">expr_const</text>\n</g>\n<!-- n421327555690&#45;&#45;n1685310222770 -->\n<g id=\"edge113\" class=\"edge\">\n<title>n421327555690&#45;&#45;n1685310222770</title>\n<path fill=\"none\" stroke=\"black\" d=\"M1702.05,-829.96C1687.17,-819.08 1657.46,-797.37 1642.33,-786.32\"/>\n</g>\n<!-- n3370620445542 -->\n<g id=\"node118\" class=\"node\">\n<title>n3370620445542</title>\n<text text-anchor=\"middle\" x=\"1711\" y=\"-774.8\" font-family=\"Times,serif\" font-size=\"14.00\">expr_const</text>\n</g>\n<!-- n421327555690&#45;&#45;n3370620445542 -->\n<g id=\"edge115\" class=\"edge\">\n<title>n421327555690&#45;&#45;n3370620445542</title>\n<path fill=\"none\" stroke=\"black\" d=\"M1711,-829.96C1711,-819.08 1711,-797.37 1711,-786.32\"/>\n</g>\n<!-- n6741240891086 -->\n<g id=\"node120\" class=\"node\">\n<title>n6741240891086</title>\n<text text-anchor=\"middle\" x=\"1789\" y=\"-774.8\" font-family=\"Times,serif\" font-size=\"14.00\">expr_const</text>\n</g>\n<!-- n421327555690&#45;&#45;n6741240891086 -->\n<g id=\"edge117\" class=\"edge\">\n<title>n421327555690&#45;&#45;n6741240891086</title>\n<path fill=\"none\" stroke=\"black\" d=\"M1719.95,-829.96C1734.83,-819.08 1764.54,-797.37 1779.67,-786.32\"/>\n</g>\n<!-- n13482481782174 -->\n<g id=\"node122\" class=\"node\">\n<title>n13482481782174</title>\n<text text-anchor=\"middle\" x=\"1867\" y=\"-774.8\" font-family=\"Times,serif\" font-size=\"14.00\">expr_const</text>\n</g>\n<!-- n421327555690&#45;&#45;n13482481782174 -->\n<g id=\"edge119\" class=\"edge\">\n<title>n421327555690&#45;&#45;n13482481782174</title>\n<path fill=\"none\" stroke=\"black\" d=\"M1728.9,-829.96C1758.83,-819.02 1818.72,-797.14 1848.83,-786.14\"/>\n</g>\n<!-- n421327555692 -->\n<g id=\"node113\" class=\"node\">\n<title>n421327555692</title>\n<polygon fill=\"none\" stroke=\"black\" points=\"1491,-731 1399,-731 1399,-708 1491,-708 1491,-731\"/>\n<text text-anchor=\"start\" x=\"1407\" y=\"-716.8\" font-family=\"Times,serif\" font-size=\"14.00\">NUMBER: </text>\n<text text-anchor=\"start\" x=\"1474\" y=\"-716.8\" font-family=\"monospace\" font-size=\"14.00\" fill=\"brown\">5</text>\n</g>\n<!-- n421327555691&#45;&#45;n421327555692 -->\n<g id=\"edge108\" class=\"edge\">\n<title>n421327555691&#45;&#45;n421327555692</title>\n<path fill=\"none\" stroke=\"black\" d=\"M1459.16,-770.96C1456.44,-761.25 1451.29,-742.92 1448.01,-731.23\"/>\n</g>\n<!-- n842655111385 -->\n<g id=\"node115\" class=\"node\">\n<title>n842655111385</title>\n<polygon fill=\"none\" stroke=\"black\" points=\"1601,-731 1509,-731 1509,-708 1601,-708 1601,-731\"/>\n<text text-anchor=\"start\" x=\"1517\" y=\"-716.8\" font-family=\"Times,serif\" font-size=\"14.00\">NUMBER: </text>\n<text text-anchor=\"start\" x=\"1584\" y=\"-716.8\" font-family=\"monospace\" font-size=\"14.00\" fill=\"brown\">9</text>\n</g>\n<!-- n842655111384&#45;&#45;n842655111385 -->\n<g id=\"edge110\" class=\"edge\">\n<title>n842655111384&#45;&#45;n842655111385</title>\n<path fill=\"none\" stroke=\"black\" d=\"M1555,-770.96C1555,-761.25 1555,-742.92 1555,-731.23\"/>\n</g>\n<!-- n1685310222771 -->\n<g id=\"node117\" class=\"node\">\n<title>n1685310222771</title>\n<polygon fill=\"none\" stroke=\"black\" points=\"1719,-731 1619,-731 1619,-708 1719,-708 1719,-731\"/>\n<text text-anchor=\"start\" x=\"1627\" y=\"-716.8\" font-family=\"Times,serif\" font-size=\"14.00\">NUMBER: </text>\n<text text-anchor=\"start\" x=\"1694\" y=\"-716.8\" font-family=\"monospace\" font-size=\"14.00\" fill=\"brown\">10</text>\n</g>\n<!-- n1685310222770&#45;&#45;n1685310222771 -->\n<g id=\"edge112\" class=\"edge\">\n<title>n1685310222770&#45;&#45;n1685310222771</title>\n<path fill=\"none\" stroke=\"black\" d=\"M1637.13,-770.96C1643.26,-761.25 1654.84,-742.92 1662.23,-731.23\"/>\n</g>\n<!-- n3370620445543 -->\n<g id=\"node119\" class=\"node\">\n<title>n3370620445543</title>\n<polygon fill=\"none\" stroke=\"black\" points=\"1829,-731 1737,-731 1737,-708 1829,-708 1829,-731\"/>\n<text text-anchor=\"start\" x=\"1745\" y=\"-716.8\" font-family=\"Times,serif\" font-size=\"14.00\">NUMBER: </text>\n<text text-anchor=\"start\" x=\"1812\" y=\"-716.8\" font-family=\"monospace\" font-size=\"14.00\" fill=\"brown\">3</text>\n</g>\n<!-- n3370620445542&#45;&#45;n3370620445543 -->\n<g id=\"edge114\" class=\"edge\">\n<title>n3370620445542&#45;&#45;n3370620445543</title>\n<path fill=\"none\" stroke=\"black\" d=\"M1719.26,-770.96C1731.6,-761.19 1754.96,-742.7 1769.72,-731.01\"/>\n</g>\n<!-- n6741240891087 -->\n<g id=\"node121\" class=\"node\">\n<title>n6741240891087</title>\n<polygon fill=\"none\" stroke=\"black\" points=\"1939,-731 1847,-731 1847,-708 1939,-708 1939,-731\"/>\n<text text-anchor=\"start\" x=\"1855\" y=\"-716.8\" font-family=\"Times,serif\" font-size=\"14.00\">NUMBER: </text>\n<text text-anchor=\"start\" x=\"1922\" y=\"-716.8\" font-family=\"monospace\" font-size=\"14.00\" fill=\"brown\">7</text>\n</g>\n<!-- n6741240891086&#45;&#45;n6741240891087 -->\n<g id=\"edge116\" class=\"edge\">\n<title>n6741240891086&#45;&#45;n6741240891087</title>\n<path fill=\"none\" stroke=\"black\" d=\"M1800.93,-770.96C1818.75,-761.19 1852.5,-742.7 1873.81,-731.01\"/>\n</g>\n<!-- n13482481782175 -->\n<g id=\"node123\" class=\"node\">\n<title>n13482481782175</title>\n<polygon fill=\"none\" stroke=\"black\" points=\"2049,-731 1957,-731 1957,-708 2049,-708 2049,-731\"/>\n<text text-anchor=\"start\" x=\"1965\" y=\"-716.8\" font-family=\"Times,serif\" font-size=\"14.00\">NUMBER: </text>\n<text text-anchor=\"start\" x=\"2032\" y=\"-716.8\" font-family=\"monospace\" font-size=\"14.00\" fill=\"brown\">2</text>\n</g>\n<!-- n13482481782174&#45;&#45;n13482481782175 -->\n<g id=\"edge118\" class=\"edge\">\n<title>n13482481782174&#45;&#45;n13482481782175</title>\n<path fill=\"none\" stroke=\"black\" d=\"M1882.6,-770.96C1905.9,-761.19 1950.04,-742.7 1977.91,-731.01\"/>\n</g>\n<!-- n28228946231416 -->\n<g id=\"node125\" class=\"node\">\n<title>n28228946231416</title>\n<text text-anchor=\"middle\" x=\"1818\" y=\"-892.8\" font-family=\"Times,serif\" font-size=\"14.00\">stmt_assign</text>\n</g>\n<!-- n28228946231415&#45;&#45;n28228946231416 -->\n<g id=\"edge126\" class=\"edge\">\n<title>n28228946231415&#45;&#45;n28228946231416</title>\n<path fill=\"none\" stroke=\"black\" d=\"M1810.18,-943.57C1811.91,-933.36 1815.13,-914.38 1816.85,-904.26\"/>\n</g>\n<!-- n28228946231417 -->\n<g id=\"node126\" class=\"node\">\n<title>n28228946231417</title>\n<polygon fill=\"none\" stroke=\"black\" points=\"1841.5,-849 1794.5,-849 1794.5,-826 1841.5,-826 1841.5,-849\"/>\n<text text-anchor=\"start\" x=\"1802.5\" y=\"-834.8\" font-family=\"Times,serif\" font-size=\"14.00\">ID: </text>\n<text text-anchor=\"start\" x=\"1824.5\" y=\"-834.8\" font-family=\"monospace\" font-size=\"14.00\" fill=\"brown\">n</text>\n</g>\n<!-- n28228946231416&#45;&#45;n28228946231417 -->\n<g id=\"edge123\" class=\"edge\">\n<title>n28228946231416&#45;&#45;n28228946231417</title>\n<path fill=\"none\" stroke=\"black\" d=\"M1818,-888.96C1818,-879.25 1818,-860.92 1818,-849.23\"/>\n</g>\n<!-- n28228946231418 -->\n<g id=\"node127\" class=\"node\">\n<title>n28228946231418</title>\n<text text-anchor=\"middle\" x=\"1914\" y=\"-833.8\" font-family=\"Times,serif\" font-size=\"14.00\">expr_const</text>\n</g>\n<!-- n28228946231416&#45;&#45;n28228946231418 -->\n<g id=\"edge125\" class=\"edge\">\n<title>n28228946231416&#45;&#45;n28228946231418</title>\n<path fill=\"none\" stroke=\"black\" d=\"M1829.01,-888.96C1847.43,-878.02 1884.29,-856.14 1902.82,-845.14\"/>\n</g>\n<!-- n28228946231419 -->\n<g id=\"node128\" class=\"node\">\n<title>n28228946231419</title>\n<polygon fill=\"none\" stroke=\"black\" points=\"2007,-790 1915,-790 1915,-767 2007,-767 2007,-790\"/>\n<text text-anchor=\"start\" x=\"1923\" y=\"-775.8\" font-family=\"Times,serif\" font-size=\"14.00\">NUMBER: </text>\n<text text-anchor=\"start\" x=\"1990\" y=\"-775.8\" font-family=\"monospace\" font-size=\"14.00\" fill=\"brown\">6</text>\n</g>\n<!-- n28228946231418&#45;&#45;n28228946231419 -->\n<g id=\"edge124\" class=\"edge\">\n<title>n28228946231418&#45;&#45;n28228946231419</title>\n<path fill=\"none\" stroke=\"black\" d=\"M1919.39,-829.96C1927.4,-820.25 1942.52,-801.92 1952.16,-790.23\"/>\n</g>\n<!-- n112915784925670 -->\n<g id=\"node130\" class=\"node\">\n<title>n112915784925670</title>\n<text text-anchor=\"middle\" x=\"2053\" y=\"-892.8\" font-family=\"Times,serif\" font-size=\"14.00\">stmt_deref</text>\n</g>\n<!-- n112915784925669&#45;&#45;n112915784925670 -->\n<g id=\"edge132\" class=\"edge\">\n<title>n112915784925669&#45;&#45;n112915784925670</title>\n<path fill=\"none\" stroke=\"black\" d=\"M1981.39,-943.79C1997.16,-933.59 2026.98,-914.32 2042.7,-904.16\"/>\n</g>\n<!-- n112915784925671 -->\n<g id=\"node131\" class=\"node\">\n<title>n112915784925671</title>\n<text text-anchor=\"middle\" x=\"2053\" y=\"-833.8\" font-family=\"Times,serif\" font-size=\"14.00\">expr_const</text>\n</g>\n<!-- n112915784925670&#45;&#45;n112915784925671 -->\n<g id=\"edge129\" class=\"edge\">\n<title>n112915784925670&#45;&#45;n112915784925671</title>\n<path fill=\"none\" stroke=\"black\" d=\"M2053,-888.96C2053,-878.08 2053,-856.37 2053,-845.32\"/>\n</g>\n<!-- n225831569851344 -->\n<g id=\"node133\" class=\"node\">\n<title>n225831569851344</title>\n<text text-anchor=\"middle\" x=\"2122\" y=\"-833.8\" font-family=\"Times,serif\" font-size=\"14.00\">expr_id</text>\n</g>\n<!-- n112915784925670&#45;&#45;n225831569851344 -->\n<g id=\"edge131\" class=\"edge\">\n<title>n112915784925670&#45;&#45;n225831569851344</title>\n<path fill=\"none\" stroke=\"black\" d=\"M2060.92,-888.96C2074.08,-878.08 2100.36,-856.37 2113.75,-845.32\"/>\n</g>\n<!-- n112915784925672 -->\n<g id=\"node132\" class=\"node\">\n<title>n112915784925672</title>\n<polygon fill=\"none\" stroke=\"black\" points=\"2125,-790 2025,-790 2025,-767 2125,-767 2125,-790\"/>\n<text text-anchor=\"start\" x=\"2033\" y=\"-775.8\" font-family=\"Times,serif\" font-size=\"14.00\">NUMBER: </text>\n<text text-anchor=\"start\" x=\"2100\" y=\"-775.8\" font-family=\"monospace\" font-size=\"14.00\" fill=\"brown\">10</text>\n</g>\n<!-- n112915784925671&#45;&#45;n112915784925672 -->\n<g id=\"edge128\" class=\"edge\">\n<title>n112915784925671&#45;&#45;n112915784925672</title>\n<path fill=\"none\" stroke=\"black\" d=\"M2055.52,-829.96C2059.27,-820.25 2066.35,-801.92 2070.86,-790.23\"/>\n</g>\n<!-- n225831569851345 -->\n<g id=\"node134\" class=\"node\">\n<title>n225831569851345</title>\n<polygon fill=\"none\" stroke=\"black\" points=\"2215,-790 2143,-790 2143,-767 2215,-767 2215,-790\"/>\n<text text-anchor=\"start\" x=\"2151\" y=\"-775.8\" font-family=\"Times,serif\" font-size=\"14.00\">ID: </text>\n<text text-anchor=\"start\" x=\"2173\" y=\"-775.8\" font-family=\"monospace\" font-size=\"14.00\" fill=\"brown\">list</text>\n</g>\n<!-- n225831569851344&#45;&#45;n225831569851345 -->\n<g id=\"edge130\" class=\"edge\">\n<title>n225831569851344&#45;&#45;n225831569851345</title>\n<path fill=\"none\" stroke=\"black\" d=\"M2128.54,-829.96C2138.25,-820.25 2156.58,-801.92 2168.27,-790.23\"/>\n</g>\n<!-- n677494709554030 -->\n<g id=\"node136\" class=\"node\">\n<title>n677494709554030</title>\n<text text-anchor=\"middle\" x=\"2197\" y=\"-892.8\" font-family=\"Times,serif\" font-size=\"14.00\">stmt_assign</text>\n</g>\n<!-- n677494709554029&#45;&#45;n677494709554030 -->\n<g id=\"edge140\" class=\"edge\">\n<title>n677494709554029&#45;&#45;n677494709554030</title>\n<path fill=\"none\" stroke=\"black\" d=\"M2133.25,-943.79C2147.21,-933.65 2173.54,-914.53 2187.6,-904.33\"/>\n</g>\n<!-- n677494709554031 -->\n<g id=\"node137\" class=\"node\">\n<title>n677494709554031</title>\n<polygon fill=\"none\" stroke=\"black\" points=\"2233,-849 2161,-849 2161,-826 2233,-826 2233,-849\"/>\n<text text-anchor=\"start\" x=\"2169\" y=\"-834.8\" font-family=\"Times,serif\" font-size=\"14.00\">ID: </text>\n<text text-anchor=\"start\" x=\"2191\" y=\"-834.8\" font-family=\"monospace\" font-size=\"14.00\" fill=\"brown\">last</text>\n</g>\n<!-- n677494709554030&#45;&#45;n677494709554031 -->\n<g id=\"edge134\" class=\"edge\">\n<title>n677494709554030&#45;&#45;n677494709554031</title>\n<path fill=\"none\" stroke=\"black\" d=\"M2197,-888.96C2197,-879.25 2197,-860.92 2197,-849.23\"/>\n</g>\n<!-- n677494709554032 -->\n<g id=\"node138\" class=\"node\">\n<title>n677494709554032</title>\n<text text-anchor=\"middle\" x=\"2276\" y=\"-833.8\" font-family=\"Times,serif\" font-size=\"14.00\">expr_sub</text>\n</g>\n<!-- n677494709554030&#45;&#45;n677494709554032 -->\n<g id=\"edge139\" class=\"edge\">\n<title>n677494709554030&#45;&#45;n677494709554032</title>\n<path fill=\"none\" stroke=\"black\" d=\"M2206.06,-888.96C2221.14,-878.08 2251.23,-856.37 2266.55,-845.32\"/>\n</g>\n<!-- n677494709554033 -->\n<g id=\"node139\" class=\"node\">\n<title>n677494709554033</title>\n<text text-anchor=\"middle\" x=\"2254\" y=\"-774.8\" font-family=\"Times,serif\" font-size=\"14.00\">expr_id</text>\n</g>\n<!-- n677494709554032&#45;&#45;n677494709554033 -->\n<g id=\"edge136\" class=\"edge\">\n<title>n677494709554032&#45;&#45;n677494709554033</title>\n<path fill=\"none\" stroke=\"black\" d=\"M2273.48,-829.96C2269.28,-819.08 2260.9,-797.37 2256.63,-786.32\"/>\n</g>\n<!-- n1354989419108068 -->\n<g id=\"node141\" class=\"node\">\n<title>n1354989419108068</title>\n<text text-anchor=\"middle\" x=\"2323\" y=\"-774.8\" font-family=\"Times,serif\" font-size=\"14.00\">expr_const</text>\n</g>\n<!-- n677494709554032&#45;&#45;n1354989419108068 -->\n<g id=\"edge138\" class=\"edge\">\n<title>n677494709554032&#45;&#45;n1354989419108068</title>\n<path fill=\"none\" stroke=\"black\" d=\"M2281.39,-829.96C2290.36,-819.08 2308.26,-797.37 2317.38,-786.32\"/>\n</g>\n<!-- n677494709554034 -->\n<g id=\"node140\" class=\"node\">\n<title>n677494709554034</title>\n<polygon fill=\"none\" stroke=\"black\" points=\"2258.5,-731 2211.5,-731 2211.5,-708 2258.5,-708 2258.5,-731\"/>\n<text text-anchor=\"start\" x=\"2219.5\" y=\"-716.8\" font-family=\"Times,serif\" font-size=\"14.00\">ID: </text>\n<text text-anchor=\"start\" x=\"2241.5\" y=\"-716.8\" font-family=\"monospace\" font-size=\"14.00\" fill=\"brown\">n</text>\n</g>\n<!-- n677494709554033&#45;&#45;n677494709554034 -->\n<g id=\"edge135\" class=\"edge\">\n<title>n677494709554033&#45;&#45;n677494709554034</title>\n<path fill=\"none\" stroke=\"black\" d=\"M2251.82,-770.96C2248.58,-761.25 2242.47,-742.92 2238.58,-731.23\"/>\n</g>\n<!-- n1354989419108069 -->\n<g id=\"node142\" class=\"node\">\n<title>n1354989419108069</title>\n<polygon fill=\"none\" stroke=\"black\" points=\"2369,-731 2277,-731 2277,-708 2369,-708 2369,-731\"/>\n<text text-anchor=\"start\" x=\"2285\" y=\"-716.8\" font-family=\"Times,serif\" font-size=\"14.00\">NUMBER: </text>\n<text text-anchor=\"start\" x=\"2352\" y=\"-716.8\" font-family=\"monospace\" font-size=\"14.00\" fill=\"brown\">1</text>\n</g>\n<!-- n1354989419108068&#45;&#45;n1354989419108069 -->\n<g id=\"edge137\" class=\"edge\">\n<title>n1354989419108068&#45;&#45;n1354989419108069</title>\n<path fill=\"none\" stroke=\"black\" d=\"M2323,-770.96C2323,-761.25 2323,-742.92 2323,-731.23\"/>\n</g>\n<!-- n4742462966878230 -->\n<g id=\"node144\" class=\"node\">\n<title>n4742462966878230</title>\n<text text-anchor=\"middle\" x=\"2495\" y=\"-892.8\" font-family=\"Times,serif\" font-size=\"14.00\">stmt_until</text>\n</g>\n<!-- n4742462966878229&#45;&#45;n4742462966878230 -->\n<g id=\"edge246\" class=\"edge\">\n<title>n4742462966878229&#45;&#45;n4742462966878230</title>\n<path fill=\"none\" stroke=\"black\" d=\"M2367.2,-943.89C2395.33,-933.68 2449.04,-914.18 2477.03,-904.02\"/>\n</g>\n<!-- n4742462966878231 -->\n<g id=\"node145\" class=\"node\">\n<title>n4742462966878231</title>\n<text text-anchor=\"middle\" x=\"2495\" y=\"-833.8\" font-family=\"Times,serif\" font-size=\"14.00\">expr_compare</text>\n</g>\n<!-- n4742462966878230&#45;&#45;n4742462966878231 -->\n<g id=\"edge147\" class=\"edge\">\n<title>n4742462966878230&#45;&#45;n4742462966878231</title>\n<path fill=\"none\" stroke=\"black\" d=\"M2495,-888.96C2495,-878.08 2495,-856.37 2495,-845.32\"/>\n</g>\n<!-- n23712314834391167 -->\n<g id=\"node151\" class=\"node\">\n<title>n23712314834391167</title>\n<text text-anchor=\"middle\" x=\"2722\" y=\"-833.8\" font-family=\"Times,serif\" font-size=\"14.00\">statements</text>\n</g>\n<!-- n4742462966878230&#45;&#45;n23712314834391167 -->\n<g id=\"edge245\" class=\"edge\">\n<title>n4742462966878230&#45;&#45;n23712314834391167</title>\n<path fill=\"none\" stroke=\"black\" d=\"M2521.04,-888.96C2564.71,-878 2652.21,-856.02 2695.92,-845.05\"/>\n</g>\n<!-- n4742462966878232 -->\n<g id=\"node146\" class=\"node\">\n<title>n4742462966878232</title>\n<text text-anchor=\"middle\" x=\"2407\" y=\"-774.8\" font-family=\"Times,serif\" font-size=\"14.00\">expr_id</text>\n</g>\n<!-- n4742462966878231&#45;&#45;n4742462966878232 -->\n<g id=\"edge143\" class=\"edge\">\n<title>n4742462966878231&#45;&#45;n4742462966878232</title>\n<path fill=\"none\" stroke=\"black\" d=\"M2484.91,-829.96C2468.02,-819.02 2434.23,-797.14 2417.25,-786.14\"/>\n</g>\n<!-- n9484925933756466 -->\n<g id=\"node148\" class=\"node\">\n<title>n9484925933756466</title>\n<polygon fill=\"none\" stroke=\"black\" points=\"2544,-790 2446,-790 2446,-767 2544,-767 2544,-790\"/>\n<text text-anchor=\"start\" x=\"2454\" y=\"-775.8\" font-family=\"Times,serif\" font-size=\"14.00\">COMPARE: </text>\n<text text-anchor=\"start\" x=\"2527\" y=\"-775.8\" font-family=\"monospace\" font-size=\"14.00\" fill=\"brown\">&lt;</text>\n</g>\n<!-- n4742462966878231&#45;&#45;n9484925933756466 -->\n<g id=\"edge144\" class=\"edge\">\n<title>n4742462966878231&#45;&#45;n9484925933756466</title>\n<path fill=\"none\" stroke=\"black\" d=\"M2495,-829.96C2495,-820.25 2495,-801.92 2495,-790.23\"/>\n</g>\n<!-- n9484925933756467 -->\n<g id=\"node149\" class=\"node\">\n<title>n9484925933756467</title>\n<text text-anchor=\"middle\" x=\"2592\" y=\"-774.8\" font-family=\"Times,serif\" font-size=\"14.00\">expr_const</text>\n</g>\n<!-- n4742462966878231&#45;&#45;n9484925933756467 -->\n<g id=\"edge146\" class=\"edge\">\n<title>n4742462966878231&#45;&#45;n9484925933756467</title>\n<path fill=\"none\" stroke=\"black\" d=\"M2506.13,-829.96C2524.74,-819.02 2561.98,-797.14 2580.7,-786.14\"/>\n</g>\n<!-- n4742462966878233 -->\n<g id=\"node147\" class=\"node\">\n<title>n4742462966878233</title>\n<polygon fill=\"none\" stroke=\"black\" points=\"2459,-731 2387,-731 2387,-708 2459,-708 2459,-731\"/>\n<text text-anchor=\"start\" x=\"2395\" y=\"-716.8\" font-family=\"Times,serif\" font-size=\"14.00\">ID: </text>\n<text text-anchor=\"start\" x=\"2417\" y=\"-716.8\" font-family=\"monospace\" font-size=\"14.00\" fill=\"brown\">last</text>\n</g>\n<!-- n4742462966878232&#45;&#45;n4742462966878233 -->\n<g id=\"edge142\" class=\"edge\">\n<title>n4742462966878232&#45;&#45;n4742462966878233</title>\n<path fill=\"none\" stroke=\"black\" d=\"M2408.84,-770.96C2411.56,-761.25 2416.71,-742.92 2419.99,-731.23\"/>\n</g>\n<!-- n9484925933756468 -->\n<g id=\"node150\" class=\"node\">\n<title>n9484925933756468</title>\n<polygon fill=\"none\" stroke=\"black\" points=\"2630,-731 2538,-731 2538,-708 2630,-708 2630,-731\"/>\n<text text-anchor=\"start\" x=\"2546\" y=\"-716.8\" font-family=\"Times,serif\" font-size=\"14.00\">NUMBER: </text>\n<text text-anchor=\"start\" x=\"2613\" y=\"-716.8\" font-family=\"monospace\" font-size=\"14.00\" fill=\"brown\">0</text>\n</g>\n<!-- n9484925933756467&#45;&#45;n9484925933756468 -->\n<g id=\"edge145\" class=\"edge\">\n<title>n9484925933756467&#45;&#45;n9484925933756468</title>\n<path fill=\"none\" stroke=\"black\" d=\"M2591.08,-770.96C2589.72,-761.25 2587.15,-742.92 2585.51,-731.23\"/>\n</g>\n<!-- n23712314834391168 -->\n<g id=\"node152\" class=\"node\">\n<title>n23712314834391168</title>\n<text text-anchor=\"middle\" x=\"2684\" y=\"-774.8\" font-family=\"Times,serif\" font-size=\"14.00\">statement</text>\n</g>\n<!-- n23712314834391167&#45;&#45;n23712314834391168 -->\n<g id=\"edge152\" class=\"edge\">\n<title>n23712314834391167&#45;&#45;n23712314834391168</title>\n<path fill=\"none\" stroke=\"black\" d=\"M2717.64,-829.96C2710.39,-819.08 2695.92,-797.37 2688.54,-786.32\"/>\n</g>\n<!-- n94849259337564681 -->\n<g id=\"node157\" class=\"node\">\n<title>n94849259337564681</title>\n<text text-anchor=\"middle\" x=\"2761\" y=\"-774.8\" font-family=\"Times,serif\" font-size=\"14.00\">statement</text>\n</g>\n<!-- n23712314834391167&#45;&#45;n94849259337564681 -->\n<g id=\"edge236\" class=\"edge\">\n<title>n23712314834391167&#45;&#45;n94849259337564681</title>\n<path fill=\"none\" stroke=\"black\" d=\"M2726.47,-829.96C2733.92,-819.08 2748.77,-797.37 2756.34,-786.32\"/>\n</g>\n<!-- n14493058735712182256922412 -->\n<g id=\"node241\" class=\"node\">\n<title>n14493058735712182256922412</title>\n<text text-anchor=\"middle\" x=\"2885\" y=\"-774.8\" font-family=\"Times,serif\" font-size=\"14.00\">statement</text>\n</g>\n<!-- n23712314834391167&#45;&#45;n14493058735712182256922412 -->\n<g id=\"edge244\" class=\"edge\">\n<title>n23712314834391167&#45;&#45;n14493058735712182256922412</title>\n<path fill=\"none\" stroke=\"black\" d=\"M2740.7,-829.96C2772.06,-819 2834.89,-797.02 2866.27,-786.05\"/>\n</g>\n<!-- n23712314834391169 -->\n<g id=\"node153\" class=\"node\">\n<title>n23712314834391169</title>\n<text text-anchor=\"middle\" x=\"2681\" y=\"-715.8\" font-family=\"Times,serif\" font-size=\"14.00\">stmt_assign</text>\n</g>\n<!-- n23712314834391168&#45;&#45;n23712314834391169 -->\n<g id=\"edge151\" class=\"edge\">\n<title>n23712314834391168&#45;&#45;n23712314834391169</title>\n<path fill=\"none\" stroke=\"black\" d=\"M2683.66,-770.96C2683.08,-760.08 2681.94,-738.37 2681.36,-727.32\"/>\n</g>\n<!-- n23712314834391170 -->\n<g id=\"node154\" class=\"node\">\n<title>n23712314834391170</title>\n<polygon fill=\"none\" stroke=\"black\" points=\"2627.5,-672 2580.5,-672 2580.5,-649 2627.5,-649 2627.5,-672\"/>\n<text text-anchor=\"start\" x=\"2588.5\" y=\"-657.8\" font-family=\"Times,serif\" font-size=\"14.00\">ID: </text>\n<text text-anchor=\"start\" x=\"2610.5\" y=\"-657.8\" font-family=\"monospace\" font-size=\"14.00\" fill=\"brown\">i</text>\n</g>\n<!-- n23712314834391169&#45;&#45;n23712314834391170 -->\n<g id=\"edge148\" class=\"edge\">\n<title>n23712314834391169&#45;&#45;n23712314834391170</title>\n<path fill=\"none\" stroke=\"black\" d=\"M2672.17,-711.96C2658.97,-702.19 2633.98,-683.7 2618.2,-672.01\"/>\n</g>\n<!-- n23712314834391171 -->\n<g id=\"node155\" class=\"node\">\n<title>n23712314834391171</title>\n<text text-anchor=\"middle\" x=\"2676\" y=\"-656.8\" font-family=\"Times,serif\" font-size=\"14.00\">expr_const</text>\n</g>\n<!-- n23712314834391169&#45;&#45;n23712314834391171 -->\n<g id=\"edge150\" class=\"edge\">\n<title>n23712314834391169&#45;&#45;n23712314834391171</title>\n<path fill=\"none\" stroke=\"black\" d=\"M2680.43,-711.96C2679.47,-701.08 2677.57,-679.37 2676.6,-668.32\"/>\n</g>\n<!-- n23712314834391172 -->\n<g id=\"node156\" class=\"node\">\n<title>n23712314834391172</title>\n<polygon fill=\"none\" stroke=\"black\" points=\"2557,-613 2465,-613 2465,-590 2557,-590 2557,-613\"/>\n<text text-anchor=\"start\" x=\"2473\" y=\"-598.8\" font-family=\"Times,serif\" font-size=\"14.00\">NUMBER: </text>\n<text text-anchor=\"start\" x=\"2540\" y=\"-598.8\" font-family=\"monospace\" font-size=\"14.00\" fill=\"brown\">0</text>\n</g>\n<!-- n23712314834391171&#45;&#45;n23712314834391172 -->\n<g id=\"edge149\" class=\"edge\">\n<title>n23712314834391171&#45;&#45;n23712314834391172</title>\n<path fill=\"none\" stroke=\"black\" d=\"M2657.07,-652.96C2628.8,-643.19 2575.25,-624.7 2541.44,-613.01\"/>\n</g>\n<!-- n94849259337564682 -->\n<g id=\"node158\" class=\"node\">\n<title>n94849259337564682</title>\n<text text-anchor=\"middle\" x=\"2764\" y=\"-715.8\" font-family=\"Times,serif\" font-size=\"14.00\">stmt_until</text>\n</g>\n<!-- n94849259337564681&#45;&#45;n94849259337564682 -->\n<g id=\"edge235\" class=\"edge\">\n<title>n94849259337564681&#45;&#45;n94849259337564682</title>\n<path fill=\"none\" stroke=\"black\" d=\"M2761.34,-770.96C2761.92,-760.08 2763.06,-738.37 2763.64,-727.32\"/>\n</g>\n<!-- n94849259337564683 -->\n<g id=\"node159\" class=\"node\">\n<title>n94849259337564683</title>\n<text text-anchor=\"middle\" x=\"2764\" y=\"-656.8\" font-family=\"Times,serif\" font-size=\"14.00\">expr_compare</text>\n</g>\n<!-- n94849259337564682&#45;&#45;n94849259337564683 -->\n<g id=\"edge161\" class=\"edge\">\n<title>n94849259337564682&#45;&#45;n94849259337564683</title>\n<path fill=\"none\" stroke=\"black\" d=\"M2764,-711.96C2764,-701.08 2764,-679.37 2764,-668.32\"/>\n</g>\n<!-- n1043341852713211548 -->\n<g id=\"node168\" class=\"node\">\n<title>n1043341852713211548</title>\n<text text-anchor=\"middle\" x=\"2859\" y=\"-656.8\" font-family=\"Times,serif\" font-size=\"14.00\">statements</text>\n</g>\n<!-- n94849259337564682&#45;&#45;n1043341852713211548 -->\n<g id=\"edge234\" class=\"edge\">\n<title>n94849259337564682&#45;&#45;n1043341852713211548</title>\n<path fill=\"none\" stroke=\"black\" d=\"M2774.9,-711.96C2793.13,-701.02 2829.6,-679.14 2847.94,-668.14\"/>\n</g>\n<!-- n94849259337564684 -->\n<g id=\"node160\" class=\"node\">\n<title>n94849259337564684</title>\n<text text-anchor=\"middle\" x=\"2596\" y=\"-597.8\" font-family=\"Times,serif\" font-size=\"14.00\">expr_id</text>\n</g>\n<!-- n94849259337564683&#45;&#45;n94849259337564684 -->\n<g id=\"edge154\" class=\"edge\">\n<title>n94849259337564683&#45;&#45;n94849259337564684</title>\n<path fill=\"none\" stroke=\"black\" d=\"M2744.32,-652.95C2717.53,-644.01 2668.08,-627.45 2626,-613 2622.35,-611.75 2618.45,-610.39 2614.71,-609.09\"/>\n</g>\n<!-- n189698518675129370 -->\n<g id=\"node162\" class=\"node\">\n<title>n189698518675129370</title>\n<polygon fill=\"none\" stroke=\"black\" points=\"2733,-613 2635,-613 2635,-590 2733,-590 2733,-613\"/>\n<text text-anchor=\"start\" x=\"2643\" y=\"-598.8\" font-family=\"Times,serif\" font-size=\"14.00\">COMPARE: </text>\n<text text-anchor=\"start\" x=\"2716\" y=\"-598.8\" font-family=\"monospace\" font-size=\"14.00\" fill=\"brown\">&gt;</text>\n</g>\n<!-- n94849259337564683&#45;&#45;n189698518675129370 -->\n<g id=\"edge155\" class=\"edge\">\n<title>n94849259337564683&#45;&#45;n189698518675129370</title>\n<path fill=\"none\" stroke=\"black\" d=\"M2754.82,-652.96C2741.12,-643.19 2715.15,-624.7 2698.76,-613.01\"/>\n</g>\n<!-- n189698518675129371 -->\n<g id=\"node163\" class=\"node\">\n<title>n189698518675129371</title>\n<text text-anchor=\"middle\" x=\"2776\" y=\"-597.8\" font-family=\"Times,serif\" font-size=\"14.00\">expr_sub</text>\n</g>\n<!-- n94849259337564683&#45;&#45;n189698518675129371 -->\n<g id=\"edge160\" class=\"edge\">\n<title>n94849259337564683&#45;&#45;n189698518675129371</title>\n<path fill=\"none\" stroke=\"black\" d=\"M2765.38,-652.96C2767.67,-642.08 2772.24,-620.37 2774.57,-609.32\"/>\n</g>\n<!-- n94849259337564685 -->\n<g id=\"node161\" class=\"node\">\n<title>n94849259337564685</title>\n<polygon fill=\"none\" stroke=\"black\" points=\"2619.5,-554 2572.5,-554 2572.5,-531 2619.5,-531 2619.5,-554\"/>\n<text text-anchor=\"start\" x=\"2580.5\" y=\"-539.8\" font-family=\"Times,serif\" font-size=\"14.00\">ID: </text>\n<text text-anchor=\"start\" x=\"2602.5\" y=\"-539.8\" font-family=\"monospace\" font-size=\"14.00\" fill=\"brown\">i</text>\n</g>\n<!-- n94849259337564684&#45;&#45;n94849259337564685 -->\n<g id=\"edge153\" class=\"edge\">\n<title>n94849259337564684&#45;&#45;n94849259337564685</title>\n<path fill=\"none\" stroke=\"black\" d=\"M2596,-593.96C2596,-584.25 2596,-565.92 2596,-554.23\"/>\n</g>\n<!-- n189698518675129372 -->\n<g id=\"node164\" class=\"node\">\n<title>n189698518675129372</title>\n<text text-anchor=\"middle\" x=\"2679\" y=\"-538.8\" font-family=\"Times,serif\" font-size=\"14.00\">expr_id</text>\n</g>\n<!-- n189698518675129371&#45;&#45;n189698518675129372 -->\n<g id=\"edge157\" class=\"edge\">\n<title>n189698518675129371&#45;&#45;n189698518675129372</title>\n<path fill=\"none\" stroke=\"black\" d=\"M2764.87,-593.96C2746.26,-583.02 2709.02,-561.14 2690.3,-550.14\"/>\n</g>\n<!-- n379397037350258746 -->\n<g id=\"node166\" class=\"node\">\n<title>n379397037350258746</title>\n<text text-anchor=\"middle\" x=\"2772\" y=\"-538.8\" font-family=\"Times,serif\" font-size=\"14.00\">expr_const</text>\n</g>\n<!-- n189698518675129371&#45;&#45;n379397037350258746 -->\n<g id=\"edge159\" class=\"edge\">\n<title>n189698518675129371&#45;&#45;n379397037350258746</title>\n<path fill=\"none\" stroke=\"black\" d=\"M2775.54,-593.96C2774.78,-583.08 2773.25,-561.37 2772.48,-550.32\"/>\n</g>\n<!-- n189698518675129373 -->\n<g id=\"node165\" class=\"node\">\n<title>n189698518675129373</title>\n<polygon fill=\"none\" stroke=\"black\" points=\"2671,-495 2599,-495 2599,-472 2671,-472 2671,-495\"/>\n<text text-anchor=\"start\" x=\"2607\" y=\"-480.8\" font-family=\"Times,serif\" font-size=\"14.00\">ID: </text>\n<text text-anchor=\"start\" x=\"2629\" y=\"-480.8\" font-family=\"monospace\" font-size=\"14.00\" fill=\"brown\">last</text>\n</g>\n<!-- n189698518675129372&#45;&#45;n189698518675129373 -->\n<g id=\"edge156\" class=\"edge\">\n<title>n189698518675129372&#45;&#45;n189698518675129373</title>\n<path fill=\"none\" stroke=\"black\" d=\"M2673.95,-534.96C2666.46,-525.25 2652.3,-506.92 2643.28,-495.23\"/>\n</g>\n<!-- n379397037350258747 -->\n<g id=\"node167\" class=\"node\">\n<title>n379397037350258747</title>\n<polygon fill=\"none\" stroke=\"black\" points=\"2781,-495 2689,-495 2689,-472 2781,-472 2781,-495\"/>\n<text text-anchor=\"start\" x=\"2697\" y=\"-480.8\" font-family=\"Times,serif\" font-size=\"14.00\">NUMBER: </text>\n<text text-anchor=\"start\" x=\"2764\" y=\"-480.8\" font-family=\"monospace\" font-size=\"14.00\" fill=\"brown\">1</text>\n</g>\n<!-- n379397037350258746&#45;&#45;n379397037350258747 -->\n<g id=\"edge158\" class=\"edge\">\n<title>n379397037350258746&#45;&#45;n379397037350258747</title>\n<path fill=\"none\" stroke=\"black\" d=\"M2767.76,-534.96C2761.45,-525.25 2749.55,-506.92 2741.96,-495.23\"/>\n</g>\n<!-- n1043341852713211549 -->\n<g id=\"node169\" class=\"node\">\n<title>n1043341852713211549</title>\n<text text-anchor=\"middle\" x=\"2859\" y=\"-597.8\" font-family=\"Times,serif\" font-size=\"14.00\">statement</text>\n</g>\n<!-- n1043341852713211548&#45;&#45;n1043341852713211549 -->\n<g id=\"edge225\" class=\"edge\">\n<title>n1043341852713211548&#45;&#45;n1043341852713211549</title>\n<path fill=\"none\" stroke=\"black\" d=\"M2859,-652.96C2859,-642.08 2859,-620.37 2859,-609.32\"/>\n</g>\n<!-- n2070436786095972981225925 -->\n<g id=\"node233\" class=\"node\">\n<title>n2070436786095972981225925</title>\n<text text-anchor=\"middle\" x=\"2963\" y=\"-597.8\" font-family=\"Times,serif\" font-size=\"14.00\">statement</text>\n</g>\n<!-- n1043341852713211548&#45;&#45;n2070436786095972981225925 -->\n<g id=\"edge233\" class=\"edge\">\n<title>n1043341852713211548&#45;&#45;n2070436786095972981225925</title>\n<path fill=\"none\" stroke=\"black\" d=\"M2870.93,-652.96C2890.88,-642.02 2930.81,-620.14 2950.89,-609.14\"/>\n</g>\n<!-- n1043341852713211550 -->\n<g id=\"node170\" class=\"node\">\n<title>n1043341852713211550</title>\n<text text-anchor=\"middle\" x=\"2859\" y=\"-538.8\" font-family=\"Times,serif\" font-size=\"14.00\">stmt_if</text>\n</g>\n<!-- n1043341852713211549&#45;&#45;n1043341852713211550 -->\n<g id=\"edge224\" class=\"edge\">\n<title>n1043341852713211549&#45;&#45;n1043341852713211550</title>\n<path fill=\"none\" stroke=\"black\" d=\"M2859,-593.96C2859,-583.08 2859,-561.37 2859,-550.32\"/>\n</g>\n<!-- n1043341852713211551 -->\n<g id=\"node171\" class=\"node\">\n<title>n1043341852713211551</title>\n<text text-anchor=\"middle\" x=\"2839\" y=\"-479.8\" font-family=\"Times,serif\" font-size=\"14.00\">expr_compare</text>\n</g>\n<!-- n1043341852713211550&#45;&#45;n1043341852713211551 -->\n<g id=\"edge181\" class=\"edge\">\n<title>n1043341852713211550&#45;&#45;n1043341852713211551</title>\n<path fill=\"none\" stroke=\"black\" d=\"M2856.71,-534.96C2852.89,-524.08 2845.27,-502.37 2841.39,-491.32\"/>\n</g>\n<!-- n110594236387600424907 -->\n<g id=\"node191\" class=\"node\">\n<title>n110594236387600424907</title>\n<text text-anchor=\"middle\" x=\"2925\" y=\"-479.8\" font-family=\"Times,serif\" font-size=\"14.00\">statements</text>\n</g>\n<!-- n1043341852713211550&#45;&#45;n110594236387600424907 -->\n<g id=\"edge223\" class=\"edge\">\n<title>n1043341852713211550&#45;&#45;n110594236387600424907</title>\n<path fill=\"none\" stroke=\"black\" d=\"M2866.57,-534.96C2879.17,-524.08 2904.3,-502.37 2917.11,-491.32\"/>\n</g>\n<!-- n1043341852713211552 -->\n<g id=\"node172\" class=\"node\">\n<title>n1043341852713211552</title>\n<text text-anchor=\"middle\" x=\"2607\" y=\"-420.8\" font-family=\"Times,serif\" font-size=\"14.00\">expr_deref</text>\n</g>\n<!-- n1043341852713211551&#45;&#45;n1043341852713211552 -->\n<g id=\"edge168\" class=\"edge\">\n<title>n1043341852713211551&#45;&#45;n1043341852713211552</title>\n<path fill=\"none\" stroke=\"black\" d=\"M2812.39,-475.96C2767.75,-465 2678.32,-443.02 2633.66,-432.05\"/>\n</g>\n<!-- n7303392968992480885 -->\n<g id=\"node179\" class=\"node\">\n<title>n7303392968992480885</title>\n<polygon fill=\"none\" stroke=\"black\" points=\"2791,-436 2693,-436 2693,-413 2791,-413 2791,-436\"/>\n<text text-anchor=\"start\" x=\"2701\" y=\"-421.8\" font-family=\"Times,serif\" font-size=\"14.00\">COMPARE: </text>\n<text text-anchor=\"start\" x=\"2774\" y=\"-421.8\" font-family=\"monospace\" font-size=\"14.00\" fill=\"brown\">&gt;</text>\n</g>\n<!-- n1043341852713211551&#45;&#45;n7303392968992480885 -->\n<g id=\"edge169\" class=\"edge\">\n<title>n1043341852713211551&#45;&#45;n7303392968992480885</title>\n<path fill=\"none\" stroke=\"black\" d=\"M2827.87,-475.96C2811.25,-466.19 2779.77,-447.7 2759.89,-436.01\"/>\n</g>\n<!-- n7303392968992480886 -->\n<g id=\"node180\" class=\"node\">\n<title>n7303392968992480886</title>\n<text text-anchor=\"middle\" x=\"2839\" y=\"-420.8\" font-family=\"Times,serif\" font-size=\"14.00\">expr_deref</text>\n</g>\n<!-- n1043341852713211551&#45;&#45;n7303392968992480886 -->\n<g id=\"edge180\" class=\"edge\">\n<title>n1043341852713211551&#45;&#45;n7303392968992480886</title>\n<path fill=\"none\" stroke=\"black\" d=\"M2839,-475.96C2839,-465.08 2839,-443.37 2839,-432.32\"/>\n</g>\n<!-- n1043341852713211553 -->\n<g id=\"node173\" class=\"node\">\n<title>n1043341852713211553</title>\n<text text-anchor=\"middle\" x=\"2595\" y=\"-361.8\" font-family=\"Times,serif\" font-size=\"14.00\">expr_bracket</text>\n</g>\n<!-- n1043341852713211552&#45;&#45;n1043341852713211553 -->\n<g id=\"edge167\" class=\"edge\">\n<title>n1043341852713211552&#45;&#45;n1043341852713211553</title>\n<path fill=\"none\" stroke=\"black\" d=\"M2605.62,-416.96C2603.33,-406.08 2598.76,-384.37 2596.43,-373.32\"/>\n</g>\n<!-- n1043341852713211554 -->\n<g id=\"node174\" class=\"node\">\n<title>n1043341852713211554</title>\n<text text-anchor=\"middle\" x=\"2586\" y=\"-302.8\" font-family=\"Times,serif\" font-size=\"14.00\">expr_add</text>\n</g>\n<!-- n1043341852713211553&#45;&#45;n1043341852713211554 -->\n<g id=\"edge166\" class=\"edge\">\n<title>n1043341852713211553&#45;&#45;n1043341852713211554</title>\n<path fill=\"none\" stroke=\"black\" d=\"M2593.97,-357.96C2592.25,-347.08 2588.82,-325.37 2587.08,-314.32\"/>\n</g>\n<!-- n1043341852713211555 -->\n<g id=\"node175\" class=\"node\">\n<title>n1043341852713211555</title>\n<text text-anchor=\"middle\" x=\"2517\" y=\"-243.8\" font-family=\"Times,serif\" font-size=\"14.00\">expr_id</text>\n</g>\n<!-- n1043341852713211554&#45;&#45;n1043341852713211555 -->\n<g id=\"edge163\" class=\"edge\">\n<title>n1043341852713211554&#45;&#45;n1043341852713211555</title>\n<path fill=\"none\" stroke=\"black\" d=\"M2578.08,-298.96C2564.92,-288.08 2538.64,-266.37 2525.25,-255.32\"/>\n</g>\n<!-- n2086683705426423112 -->\n<g id=\"node177\" class=\"node\">\n<title>n2086683705426423112</title>\n<text text-anchor=\"middle\" x=\"2586\" y=\"-243.8\" font-family=\"Times,serif\" font-size=\"14.00\">expr_id</text>\n</g>\n<!-- n1043341852713211554&#45;&#45;n2086683705426423112 -->\n<g id=\"edge165\" class=\"edge\">\n<title>n1043341852713211554&#45;&#45;n2086683705426423112</title>\n<path fill=\"none\" stroke=\"black\" d=\"M2586,-298.96C2586,-288.08 2586,-266.37 2586,-255.32\"/>\n</g>\n<!-- n1043341852713211556 -->\n<g id=\"node176\" class=\"node\">\n<title>n1043341852713211556</title>\n<polygon fill=\"none\" stroke=\"black\" points=\"2544,-200 2472,-200 2472,-177 2544,-177 2544,-200\"/>\n<text text-anchor=\"start\" x=\"2480\" y=\"-185.8\" font-family=\"Times,serif\" font-size=\"14.00\">ID: </text>\n<text text-anchor=\"start\" x=\"2502\" y=\"-185.8\" font-family=\"monospace\" font-size=\"14.00\" fill=\"brown\">list</text>\n</g>\n<!-- n1043341852713211555&#45;&#45;n1043341852713211556 -->\n<g id=\"edge162\" class=\"edge\">\n<title>n1043341852713211555&#45;&#45;n1043341852713211556</title>\n<path fill=\"none\" stroke=\"black\" d=\"M2515.97,-239.96C2514.43,-230.25 2511.54,-211.92 2509.69,-200.23\"/>\n</g>\n<!-- n2086683705426423113 -->\n<g id=\"node178\" class=\"node\">\n<title>n2086683705426423113</title>\n<polygon fill=\"none\" stroke=\"black\" points=\"2609.5,-200 2562.5,-200 2562.5,-177 2609.5,-177 2609.5,-200\"/>\n<text text-anchor=\"start\" x=\"2570.5\" y=\"-185.8\" font-family=\"Times,serif\" font-size=\"14.00\">ID: </text>\n<text text-anchor=\"start\" x=\"2592.5\" y=\"-185.8\" font-family=\"monospace\" font-size=\"14.00\" fill=\"brown\">i</text>\n</g>\n<!-- n2086683705426423112&#45;&#45;n2086683705426423113 -->\n<g id=\"edge164\" class=\"edge\">\n<title>n2086683705426423112&#45;&#45;n2086683705426423113</title>\n<path fill=\"none\" stroke=\"black\" d=\"M2586,-239.96C2586,-230.25 2586,-211.92 2586,-200.23\"/>\n</g>\n<!-- n7303392968992480887 -->\n<g id=\"node181\" class=\"node\">\n<title>n7303392968992480887</title>\n<text text-anchor=\"middle\" x=\"2790\" y=\"-361.8\" font-family=\"Times,serif\" font-size=\"14.00\">expr_bracket</text>\n</g>\n<!-- n7303392968992480886&#45;&#45;n7303392968992480887 -->\n<g id=\"edge179\" class=\"edge\">\n<title>n7303392968992480886&#45;&#45;n7303392968992480887</title>\n<path fill=\"none\" stroke=\"black\" d=\"M2833.38,-416.96C2824.03,-406.08 2805.37,-384.37 2795.86,-373.32\"/>\n</g>\n<!-- n7303392968992480888 -->\n<g id=\"node182\" class=\"node\">\n<title>n7303392968992480888</title>\n<text text-anchor=\"middle\" x=\"2744\" y=\"-302.8\" font-family=\"Times,serif\" font-size=\"14.00\">expr_add</text>\n</g>\n<!-- n7303392968992480887&#45;&#45;n7303392968992480888 -->\n<g id=\"edge178\" class=\"edge\">\n<title>n7303392968992480887&#45;&#45;n7303392968992480888</title>\n<path fill=\"none\" stroke=\"black\" d=\"M2784.72,-357.96C2775.94,-347.08 2758.42,-325.37 2749.5,-314.32\"/>\n</g>\n<!-- n7303392968992480889 -->\n<g id=\"node183\" class=\"node\">\n<title>n7303392968992480889</title>\n<text text-anchor=\"middle\" x=\"2666\" y=\"-243.8\" font-family=\"Times,serif\" font-size=\"14.00\">expr_id</text>\n</g>\n<!-- n7303392968992480888&#45;&#45;n7303392968992480889 -->\n<g id=\"edge171\" class=\"edge\">\n<title>n7303392968992480888&#45;&#45;n7303392968992480889</title>\n<path fill=\"none\" stroke=\"black\" d=\"M2735.05,-298.96C2720.17,-288.08 2690.46,-266.37 2675.33,-255.32\"/>\n</g>\n<!-- n14606785937984961780 -->\n<g id=\"node185\" class=\"node\">\n<title>n14606785937984961780</title>\n<text text-anchor=\"middle\" x=\"2744\" y=\"-243.8\" font-family=\"Times,serif\" font-size=\"14.00\">expr_bracket</text>\n</g>\n<!-- n7303392968992480888&#45;&#45;n14606785937984961780 -->\n<g id=\"edge177\" class=\"edge\">\n<title>n7303392968992480888&#45;&#45;n14606785937984961780</title>\n<path fill=\"none\" stroke=\"black\" d=\"M2744,-298.96C2744,-288.08 2744,-266.37 2744,-255.32\"/>\n</g>\n<!-- n7303392968992480890 -->\n<g id=\"node184\" class=\"node\">\n<title>n7303392968992480890</title>\n<polygon fill=\"none\" stroke=\"black\" points=\"2700,-200 2628,-200 2628,-177 2700,-177 2700,-200\"/>\n<text text-anchor=\"start\" x=\"2636\" y=\"-185.8\" font-family=\"Times,serif\" font-size=\"14.00\">ID: </text>\n<text text-anchor=\"start\" x=\"2658\" y=\"-185.8\" font-family=\"monospace\" font-size=\"14.00\" fill=\"brown\">list</text>\n</g>\n<!-- n7303392968992480889&#45;&#45;n7303392968992480890 -->\n<g id=\"edge170\" class=\"edge\">\n<title>n7303392968992480889&#45;&#45;n7303392968992480890</title>\n<path fill=\"none\" stroke=\"black\" d=\"M2665.77,-239.96C2665.43,-230.25 2664.79,-211.92 2664.38,-200.23\"/>\n</g>\n<!-- n14606785937984961781 -->\n<g id=\"node186\" class=\"node\">\n<title>n14606785937984961781</title>\n<text text-anchor=\"middle\" x=\"2744\" y=\"-184.8\" font-family=\"Times,serif\" font-size=\"14.00\">expr_add</text>\n</g>\n<!-- n14606785937984961780&#45;&#45;n14606785937984961781 -->\n<g id=\"edge176\" class=\"edge\">\n<title>n14606785937984961780&#45;&#45;n14606785937984961781</title>\n<path fill=\"none\" stroke=\"black\" d=\"M2744,-239.96C2744,-229.08 2744,-207.37 2744,-196.32\"/>\n</g>\n<!-- n14606785937984961782 -->\n<g id=\"node187\" class=\"node\">\n<title>n14606785937984961782</title>\n<text text-anchor=\"middle\" x=\"2661\" y=\"-125.8\" font-family=\"Times,serif\" font-size=\"14.00\">expr_id</text>\n</g>\n<!-- n14606785937984961781&#45;&#45;n14606785937984961782 -->\n<g id=\"edge173\" class=\"edge\">\n<title>n14606785937984961781&#45;&#45;n14606785937984961782</title>\n<path fill=\"none\" stroke=\"black\" d=\"M2734.48,-180.96C2718.55,-170.02 2686.69,-148.14 2670.67,-137.14\"/>\n</g>\n<!-- n29213571875969923566 -->\n<g id=\"node189\" class=\"node\">\n<title>n29213571875969923566</title>\n<text text-anchor=\"middle\" x=\"2739\" y=\"-125.8\" font-family=\"Times,serif\" font-size=\"14.00\">expr_const</text>\n</g>\n<!-- n14606785937984961781&#45;&#45;n29213571875969923566 -->\n<g id=\"edge175\" class=\"edge\">\n<title>n14606785937984961781&#45;&#45;n29213571875969923566</title>\n<path fill=\"none\" stroke=\"black\" d=\"M2743.43,-180.96C2742.47,-170.08 2740.57,-148.37 2739.6,-137.32\"/>\n</g>\n<!-- n14606785937984961783 -->\n<g id=\"node188\" class=\"node\">\n<title>n14606785937984961783</title>\n<polygon fill=\"none\" stroke=\"black\" points=\"2665.5,-82 2618.5,-82 2618.5,-59 2665.5,-59 2665.5,-82\"/>\n<text text-anchor=\"start\" x=\"2626.5\" y=\"-67.8\" font-family=\"Times,serif\" font-size=\"14.00\">ID: </text>\n<text text-anchor=\"start\" x=\"2648.5\" y=\"-67.8\" font-family=\"monospace\" font-size=\"14.00\" fill=\"brown\">i</text>\n</g>\n<!-- n14606785937984961782&#45;&#45;n14606785937984961783 -->\n<g id=\"edge172\" class=\"edge\">\n<title>n14606785937984961782&#45;&#45;n14606785937984961783</title>\n<path fill=\"none\" stroke=\"black\" d=\"M2658.82,-121.96C2655.58,-112.25 2649.47,-93.92 2645.58,-82.23\"/>\n</g>\n<!-- n29213571875969923567 -->\n<g id=\"node190\" class=\"node\">\n<title>n29213571875969923567</title>\n<polygon fill=\"none\" stroke=\"black\" points=\"2776,-82 2684,-82 2684,-59 2776,-59 2776,-82\"/>\n<text text-anchor=\"start\" x=\"2692\" y=\"-67.8\" font-family=\"Times,serif\" font-size=\"14.00\">NUMBER: </text>\n<text text-anchor=\"start\" x=\"2759\" y=\"-67.8\" font-family=\"monospace\" font-size=\"14.00\" fill=\"brown\">1</text>\n</g>\n<!-- n29213571875969923566&#45;&#45;n29213571875969923567 -->\n<g id=\"edge174\" class=\"edge\">\n<title>n29213571875969923566&#45;&#45;n29213571875969923567</title>\n<path fill=\"none\" stroke=\"black\" d=\"M2737.97,-121.96C2736.43,-112.25 2733.54,-93.92 2731.69,-82.23\"/>\n</g>\n<!-- n110594236387600424908 -->\n<g id=\"node192\" class=\"node\">\n<title>n110594236387600424908</title>\n<text text-anchor=\"middle\" x=\"2919\" y=\"-420.8\" font-family=\"Times,serif\" font-size=\"14.00\">statement</text>\n</g>\n<!-- n110594236387600424907&#45;&#45;n110594236387600424908 -->\n<g id=\"edge191\" class=\"edge\">\n<title>n110594236387600424907&#45;&#45;n110594236387600424908</title>\n<path fill=\"none\" stroke=\"black\" d=\"M2924.31,-475.96C2923.17,-465.08 2920.88,-443.37 2919.72,-432.32\"/>\n</g>\n<!-- n995348127488403824215 -->\n<g id=\"node202\" class=\"node\">\n<title>n995348127488403824215</title>\n<text text-anchor=\"middle\" x=\"2997\" y=\"-420.8\" font-family=\"Times,serif\" font-size=\"14.00\">statement</text>\n</g>\n<!-- n110594236387600424907&#45;&#45;n995348127488403824215 -->\n<g id=\"edge209\" class=\"edge\">\n<title>n110594236387600424907&#45;&#45;n995348127488403824215</title>\n<path fill=\"none\" stroke=\"black\" d=\"M2933.26,-475.96C2947,-465.08 2974.42,-443.37 2988.39,-432.32\"/>\n</g>\n<!-- n79627850199072305937607 -->\n<g id=\"node220\" class=\"node\">\n<title>n79627850199072305937607</title>\n<text text-anchor=\"middle\" x=\"3095\" y=\"-420.8\" font-family=\"Times,serif\" font-size=\"14.00\">statement</text>\n</g>\n<!-- n110594236387600424907&#45;&#45;n79627850199072305937607 -->\n<g id=\"edge222\" class=\"edge\">\n<title>n110594236387600424907&#45;&#45;n79627850199072305937607</title>\n<path fill=\"none\" stroke=\"black\" d=\"M2944.5,-475.96C2977.21,-465 3042.74,-443.02 3075.47,-432.05\"/>\n</g>\n<!-- n110594236387600424909 -->\n<g id=\"node193\" class=\"node\">\n<title>n110594236387600424909</title>\n<text text-anchor=\"middle\" x=\"2915\" y=\"-361.8\" font-family=\"Times,serif\" font-size=\"14.00\">stmt_assign</text>\n</g>\n<!-- n110594236387600424908&#45;&#45;n110594236387600424909 -->\n<g id=\"edge190\" class=\"edge\">\n<title>n110594236387600424908&#45;&#45;n110594236387600424909</title>\n<path fill=\"none\" stroke=\"black\" d=\"M2918.54,-416.96C2917.78,-406.08 2916.25,-384.37 2915.48,-373.32\"/>\n</g>\n<!-- n110594236387600424910 -->\n<g id=\"node194\" class=\"node\">\n<title>n110594236387600424910</title>\n<polygon fill=\"none\" stroke=\"black\" points=\"2867,-318 2795,-318 2795,-295 2867,-295 2867,-318\"/>\n<text text-anchor=\"start\" x=\"2803\" y=\"-303.8\" font-family=\"Times,serif\" font-size=\"14.00\">ID: </text>\n<text text-anchor=\"start\" x=\"2825\" y=\"-303.8\" font-family=\"monospace\" font-size=\"14.00\" fill=\"brown\">temp</text>\n</g>\n<!-- n110594236387600424909&#45;&#45;n110594236387600424910 -->\n<g id=\"edge182\" class=\"edge\">\n<title>n110594236387600424909&#45;&#45;n110594236387600424910</title>\n<path fill=\"none\" stroke=\"black\" d=\"M2905.36,-357.96C2890.97,-348.19 2863.71,-329.7 2846.5,-318.01\"/>\n</g>\n<!-- n110594236387600424911 -->\n<g id=\"node195\" class=\"node\">\n<title>n110594236387600424911</title>\n<text text-anchor=\"middle\" x=\"2915\" y=\"-302.8\" font-family=\"Times,serif\" font-size=\"14.00\">expr_deref</text>\n</g>\n<!-- n110594236387600424909&#45;&#45;n110594236387600424911 -->\n<g id=\"edge189\" class=\"edge\">\n<title>n110594236387600424909&#45;&#45;n110594236387600424911</title>\n<path fill=\"none\" stroke=\"black\" d=\"M2915,-357.96C2915,-347.08 2915,-325.37 2915,-314.32\"/>\n</g>\n<!-- n110594236387600424912 -->\n<g id=\"node196\" class=\"node\">\n<title>n110594236387600424912</title>\n<text text-anchor=\"middle\" x=\"2897\" y=\"-243.8\" font-family=\"Times,serif\" font-size=\"14.00\">expr_bracket</text>\n</g>\n<!-- n110594236387600424911&#45;&#45;n110594236387600424912 -->\n<g id=\"edge188\" class=\"edge\">\n<title>n110594236387600424911&#45;&#45;n110594236387600424912</title>\n<path fill=\"none\" stroke=\"black\" d=\"M2912.94,-298.96C2909.5,-288.08 2902.64,-266.37 2899.15,-255.32\"/>\n</g>\n<!-- n110594236387600424913 -->\n<g id=\"node197\" class=\"node\">\n<title>n110594236387600424913</title>\n<text text-anchor=\"middle\" x=\"2880\" y=\"-184.8\" font-family=\"Times,serif\" font-size=\"14.00\">expr_add</text>\n</g>\n<!-- n110594236387600424912&#45;&#45;n110594236387600424913 -->\n<g id=\"edge187\" class=\"edge\">\n<title>n110594236387600424912&#45;&#45;n110594236387600424913</title>\n<path fill=\"none\" stroke=\"black\" d=\"M2895.05,-239.96C2891.81,-229.08 2885.33,-207.37 2882.03,-196.32\"/>\n</g>\n<!-- n110594236387600424914 -->\n<g id=\"node198\" class=\"node\">\n<title>n110594236387600424914</title>\n<text text-anchor=\"middle\" x=\"2820\" y=\"-125.8\" font-family=\"Times,serif\" font-size=\"14.00\">expr_id</text>\n</g>\n<!-- n110594236387600424913&#45;&#45;n110594236387600424914 -->\n<g id=\"edge184\" class=\"edge\">\n<title>n110594236387600424913&#45;&#45;n110594236387600424914</title>\n<path fill=\"none\" stroke=\"black\" d=\"M2873.12,-180.96C2861.67,-170.08 2838.81,-148.37 2827.17,-137.32\"/>\n</g>\n<!-- n221188472775200849830 -->\n<g id=\"node200\" class=\"node\">\n<title>n221188472775200849830</title>\n<text text-anchor=\"middle\" x=\"2880\" y=\"-125.8\" font-family=\"Times,serif\" font-size=\"14.00\">expr_id</text>\n</g>\n<!-- n110594236387600424913&#45;&#45;n221188472775200849830 -->\n<g id=\"edge186\" class=\"edge\">\n<title>n110594236387600424913&#45;&#45;n221188472775200849830</title>\n<path fill=\"none\" stroke=\"black\" d=\"M2880,-180.96C2880,-170.08 2880,-148.37 2880,-137.32\"/>\n</g>\n<!-- n110594236387600424915 -->\n<g id=\"node199\" class=\"node\">\n<title>n110594236387600424915</title>\n<polygon fill=\"none\" stroke=\"black\" points=\"2866,-82 2794,-82 2794,-59 2866,-59 2866,-82\"/>\n<text text-anchor=\"start\" x=\"2802\" y=\"-67.8\" font-family=\"Times,serif\" font-size=\"14.00\">ID: </text>\n<text text-anchor=\"start\" x=\"2824\" y=\"-67.8\" font-family=\"monospace\" font-size=\"14.00\" fill=\"brown\">list</text>\n</g>\n<!-- n110594236387600424914&#45;&#45;n110594236387600424915 -->\n<g id=\"edge183\" class=\"edge\">\n<title>n110594236387600424914&#45;&#45;n110594236387600424915</title>\n<path fill=\"none\" stroke=\"black\" d=\"M2821.15,-121.96C2822.85,-112.25 2826.07,-93.92 2828.12,-82.23\"/>\n</g>\n<!-- n221188472775200849831 -->\n<g id=\"node201\" class=\"node\">\n<title>n221188472775200849831</title>\n<polygon fill=\"none\" stroke=\"black\" points=\"2931.5,-82 2884.5,-82 2884.5,-59 2931.5,-59 2931.5,-82\"/>\n<text text-anchor=\"start\" x=\"2892.5\" y=\"-67.8\" font-family=\"Times,serif\" font-size=\"14.00\">ID: </text>\n<text text-anchor=\"start\" x=\"2914.5\" y=\"-67.8\" font-family=\"monospace\" font-size=\"14.00\" fill=\"brown\">i</text>\n</g>\n<!-- n221188472775200849830&#45;&#45;n221188472775200849831 -->\n<g id=\"edge185\" class=\"edge\">\n<title>n221188472775200849830&#45;&#45;n221188472775200849831</title>\n<path fill=\"none\" stroke=\"black\" d=\"M2883.21,-121.96C2887.98,-112.25 2896.99,-93.92 2902.73,-82.23\"/>\n</g>\n<!-- n995348127488403824216 -->\n<g id=\"node203\" class=\"node\">\n<title>n995348127488403824216</title>\n<text text-anchor=\"middle\" x=\"3001\" y=\"-361.8\" font-family=\"Times,serif\" font-size=\"14.00\">stmt_deref</text>\n</g>\n<!-- n995348127488403824215&#45;&#45;n995348127488403824216 -->\n<g id=\"edge208\" class=\"edge\">\n<title>n995348127488403824215&#45;&#45;n995348127488403824216</title>\n<path fill=\"none\" stroke=\"black\" d=\"M2997.46,-416.96C2998.22,-406.08 2999.75,-384.37 3000.52,-373.32\"/>\n</g>\n<!-- n995348127488403824217 -->\n<g id=\"node204\" class=\"node\">\n<title>n995348127488403824217</title>\n<text text-anchor=\"middle\" x=\"3001\" y=\"-302.8\" font-family=\"Times,serif\" font-size=\"14.00\">expr_bracket</text>\n</g>\n<!-- n995348127488403824216&#45;&#45;n995348127488403824217 -->\n<g id=\"edge197\" class=\"edge\">\n<title>n995348127488403824216&#45;&#45;n995348127488403824217</title>\n<path fill=\"none\" stroke=\"black\" d=\"M3001,-357.96C3001,-347.08 3001,-325.37 3001,-314.32\"/>\n</g>\n<!-- n5972088764930422945317 -->\n<g id=\"node210\" class=\"node\">\n<title>n5972088764930422945317</title>\n<text text-anchor=\"middle\" x=\"3086\" y=\"-302.8\" font-family=\"Times,serif\" font-size=\"14.00\">expr_deref</text>\n</g>\n<!-- n995348127488403824216&#45;&#45;n5972088764930422945317 -->\n<g id=\"edge207\" class=\"edge\">\n<title>n995348127488403824216&#45;&#45;n5972088764930422945317</title>\n<path fill=\"none\" stroke=\"black\" d=\"M3010.75,-357.96C3027.06,-347.02 3059.69,-325.14 3076.1,-314.14\"/>\n</g>\n<!-- n995348127488403824218 -->\n<g id=\"node205\" class=\"node\">\n<title>n995348127488403824218</title>\n<text text-anchor=\"middle\" x=\"3001\" y=\"-243.8\" font-family=\"Times,serif\" font-size=\"14.00\">expr_add</text>\n</g>\n<!-- n995348127488403824217&#45;&#45;n995348127488403824218 -->\n<g id=\"edge196\" class=\"edge\">\n<title>n995348127488403824217&#45;&#45;n995348127488403824218</title>\n<path fill=\"none\" stroke=\"black\" d=\"M3001,-298.96C3001,-288.08 3001,-266.37 3001,-255.32\"/>\n</g>\n<!-- n995348127488403824219 -->\n<g id=\"node206\" class=\"node\">\n<title>n995348127488403824219</title>\n<text text-anchor=\"middle\" x=\"2960\" y=\"-184.8\" font-family=\"Times,serif\" font-size=\"14.00\">expr_id</text>\n</g>\n<!-- n995348127488403824218&#45;&#45;n995348127488403824219 -->\n<g id=\"edge193\" class=\"edge\">\n<title>n995348127488403824218&#45;&#45;n995348127488403824219</title>\n<path fill=\"none\" stroke=\"black\" d=\"M2996.3,-239.96C2988.47,-229.08 2972.86,-207.37 2964.9,-196.32\"/>\n</g>\n<!-- n1990696254976807648440 -->\n<g id=\"node208\" class=\"node\">\n<title>n1990696254976807648440</title>\n<text text-anchor=\"middle\" x=\"3029\" y=\"-184.8\" font-family=\"Times,serif\" font-size=\"14.00\">expr_id</text>\n</g>\n<!-- n995348127488403824218&#45;&#45;n1990696254976807648440 -->\n<g id=\"edge195\" class=\"edge\">\n<title>n995348127488403824218&#45;&#45;n1990696254976807648440</title>\n<path fill=\"none\" stroke=\"black\" d=\"M3004.21,-239.96C3009.56,-229.08 3020.22,-207.37 3025.65,-196.32\"/>\n</g>\n<!-- n995348127488403824220 -->\n<g id=\"node207\" class=\"node\">\n<title>n995348127488403824220</title>\n<polygon fill=\"none\" stroke=\"black\" points=\"2991,-141 2919,-141 2919,-118 2991,-118 2991,-141\"/>\n<text text-anchor=\"start\" x=\"2927\" y=\"-126.8\" font-family=\"Times,serif\" font-size=\"14.00\">ID: </text>\n<text text-anchor=\"start\" x=\"2949\" y=\"-126.8\" font-family=\"monospace\" font-size=\"14.00\" fill=\"brown\">list</text>\n</g>\n<!-- n995348127488403824219&#45;&#45;n995348127488403824220 -->\n<g id=\"edge192\" class=\"edge\">\n<title>n995348127488403824219&#45;&#45;n995348127488403824220</title>\n<path fill=\"none\" stroke=\"black\" d=\"M2959.43,-180.96C2958.57,-171.25 2956.97,-152.92 2955.94,-141.23\"/>\n</g>\n<!-- n1990696254976807648441 -->\n<g id=\"node209\" class=\"node\">\n<title>n1990696254976807648441</title>\n<polygon fill=\"none\" stroke=\"black\" points=\"3056.5,-141 3009.5,-141 3009.5,-118 3056.5,-118 3056.5,-141\"/>\n<text text-anchor=\"start\" x=\"3017.5\" y=\"-126.8\" font-family=\"Times,serif\" font-size=\"14.00\">ID: </text>\n<text text-anchor=\"start\" x=\"3039.5\" y=\"-126.8\" font-family=\"monospace\" font-size=\"14.00\" fill=\"brown\">i</text>\n</g>\n<!-- n1990696254976807648440&#45;&#45;n1990696254976807648441 -->\n<g id=\"edge194\" class=\"edge\">\n<title>n1990696254976807648440&#45;&#45;n1990696254976807648441</title>\n<path fill=\"none\" stroke=\"black\" d=\"M3029.46,-180.96C3030.14,-171.25 3031.43,-152.92 3032.25,-141.23\"/>\n</g>\n<!-- n5972088764930422945318 -->\n<g id=\"node211\" class=\"node\">\n<title>n5972088764930422945318</title>\n<text text-anchor=\"middle\" x=\"3095\" y=\"-243.8\" font-family=\"Times,serif\" font-size=\"14.00\">expr_bracket</text>\n</g>\n<!-- n5972088764930422945317&#45;&#45;n5972088764930422945318 -->\n<g id=\"edge206\" class=\"edge\">\n<title>n5972088764930422945317&#45;&#45;n5972088764930422945318</title>\n<path fill=\"none\" stroke=\"black\" d=\"M3087.03,-298.96C3088.75,-288.08 3092.18,-266.37 3093.92,-255.32\"/>\n</g>\n<!-- n5972088764930422945319 -->\n<g id=\"node212\" class=\"node\">\n<title>n5972088764930422945319</title>\n<text text-anchor=\"middle\" x=\"3100\" y=\"-184.8\" font-family=\"Times,serif\" font-size=\"14.00\">expr_add</text>\n</g>\n<!-- n5972088764930422945318&#45;&#45;n5972088764930422945319 -->\n<g id=\"edge205\" class=\"edge\">\n<title>n5972088764930422945318&#45;&#45;n5972088764930422945319</title>\n<path fill=\"none\" stroke=\"black\" d=\"M3095.57,-239.96C3096.53,-229.08 3098.43,-207.37 3099.4,-196.32\"/>\n</g>\n<!-- n5972088764930422945320 -->\n<g id=\"node213\" class=\"node\">\n<title>n5972088764930422945320</title>\n<text text-anchor=\"middle\" x=\"3100\" y=\"-125.8\" font-family=\"Times,serif\" font-size=\"14.00\">expr_add</text>\n</g>\n<!-- n5972088764930422945319&#45;&#45;n5972088764930422945320 -->\n<g id=\"edge202\" class=\"edge\">\n<title>n5972088764930422945319&#45;&#45;n5972088764930422945320</title>\n<path fill=\"none\" stroke=\"black\" d=\"M3100,-180.96C3100,-170.08 3100,-148.37 3100,-137.32\"/>\n</g>\n<!-- n29860443824652114726610 -->\n<g id=\"node218\" class=\"node\">\n<title>n29860443824652114726610</title>\n<text text-anchor=\"middle\" x=\"3174\" y=\"-125.8\" font-family=\"Times,serif\" font-size=\"14.00\">expr_const</text>\n</g>\n<!-- n5972088764930422945319&#45;&#45;n29860443824652114726610 -->\n<g id=\"edge204\" class=\"edge\">\n<title>n5972088764930422945319&#45;&#45;n29860443824652114726610</title>\n<path fill=\"none\" stroke=\"black\" d=\"M3108.49,-180.96C3122.61,-170.08 3150.79,-148.37 3165.15,-137.32\"/>\n</g>\n<!-- n5972088764930422945321 -->\n<g id=\"node214\" class=\"node\">\n<title>n5972088764930422945321</title>\n<text text-anchor=\"middle\" x=\"3024\" y=\"-66.8\" font-family=\"Times,serif\" font-size=\"14.00\">expr_id</text>\n</g>\n<!-- n5972088764930422945320&#45;&#45;n5972088764930422945321 -->\n<g id=\"edge199\" class=\"edge\">\n<title>n5972088764930422945320&#45;&#45;n5972088764930422945321</title>\n<path fill=\"none\" stroke=\"black\" d=\"M3091.28,-121.96C3076.78,-111.08 3047.83,-89.37 3033.09,-78.32\"/>\n</g>\n<!-- n11944177529860845890644 -->\n<g id=\"node216\" class=\"node\">\n<title>n11944177529860845890644</title>\n<text text-anchor=\"middle\" x=\"3089\" y=\"-66.8\" font-family=\"Times,serif\" font-size=\"14.00\">expr_id</text>\n</g>\n<!-- n5972088764930422945320&#45;&#45;n11944177529860845890644 -->\n<g id=\"edge201\" class=\"edge\">\n<title>n5972088764930422945320&#45;&#45;n11944177529860845890644</title>\n<path fill=\"none\" stroke=\"black\" d=\"M3098.74,-121.96C3096.64,-111.08 3092.45,-89.37 3090.32,-78.32\"/>\n</g>\n<!-- n5972088764930422945322 -->\n<g id=\"node215\" class=\"node\">\n<title>n5972088764930422945322</title>\n<polygon fill=\"none\" stroke=\"black\" points=\"3051,-23 2979,-23 2979,0 3051,0 3051,-23\"/>\n<text text-anchor=\"start\" x=\"2987\" y=\"-8.8\" font-family=\"Times,serif\" font-size=\"14.00\">ID: </text>\n<text text-anchor=\"start\" x=\"3009\" y=\"-8.8\" font-family=\"monospace\" font-size=\"14.00\" fill=\"brown\">list</text>\n</g>\n<!-- n5972088764930422945321&#45;&#45;n5972088764930422945322 -->\n<g id=\"edge198\" class=\"edge\">\n<title>n5972088764930422945321&#45;&#45;n5972088764930422945322</title>\n<path fill=\"none\" stroke=\"black\" d=\"M3022.97,-62.96C3021.43,-53.25 3018.54,-34.92 3016.69,-23.23\"/>\n</g>\n<!-- n11944177529860845890645 -->\n<g id=\"node217\" class=\"node\">\n<title>n11944177529860845890645</title>\n<polygon fill=\"none\" stroke=\"black\" points=\"3116.5,-23 3069.5,-23 3069.5,0 3116.5,0 3116.5,-23\"/>\n<text text-anchor=\"start\" x=\"3077.5\" y=\"-8.8\" font-family=\"Times,serif\" font-size=\"14.00\">ID: </text>\n<text text-anchor=\"start\" x=\"3099.5\" y=\"-8.8\" font-family=\"monospace\" font-size=\"14.00\" fill=\"brown\">i</text>\n</g>\n<!-- n11944177529860845890644&#45;&#45;n11944177529860845890645 -->\n<g id=\"edge200\" class=\"edge\">\n<title>n11944177529860845890644&#45;&#45;n11944177529860845890645</title>\n<path fill=\"none\" stroke=\"black\" d=\"M3089.46,-62.96C3090.14,-53.25 3091.43,-34.92 3092.25,-23.23\"/>\n</g>\n<!-- n29860443824652114726611 -->\n<g id=\"node219\" class=\"node\">\n<title>n29860443824652114726611</title>\n<polygon fill=\"none\" stroke=\"black\" points=\"3220,-82 3128,-82 3128,-59 3220,-59 3220,-82\"/>\n<text text-anchor=\"start\" x=\"3136\" y=\"-67.8\" font-family=\"Times,serif\" font-size=\"14.00\">NUMBER: </text>\n<text text-anchor=\"start\" x=\"3203\" y=\"-67.8\" font-family=\"monospace\" font-size=\"14.00\" fill=\"brown\">1</text>\n</g>\n<!-- n29860443824652114726610&#45;&#45;n29860443824652114726611 -->\n<g id=\"edge203\" class=\"edge\">\n<title>n29860443824652114726610&#45;&#45;n29860443824652114726611</title>\n<path fill=\"none\" stroke=\"black\" d=\"M3174,-121.96C3174,-112.25 3174,-93.92 3174,-82.23\"/>\n</g>\n<!-- n79627850199072305937608 -->\n<g id=\"node221\" class=\"node\">\n<title>n79627850199072305937608</title>\n<text text-anchor=\"middle\" x=\"3122\" y=\"-361.8\" font-family=\"Times,serif\" font-size=\"14.00\">stmt_deref</text>\n</g>\n<!-- n79627850199072305937607&#45;&#45;n79627850199072305937608 -->\n<g id=\"edge221\" class=\"edge\">\n<title>n79627850199072305937607&#45;&#45;n79627850199072305937608</title>\n<path fill=\"none\" stroke=\"black\" d=\"M3098.1,-416.96C3103.25,-406.08 3113.53,-384.37 3118.77,-373.32\"/>\n</g>\n<!-- n79627850199072305937609 -->\n<g id=\"node222\" class=\"node\">\n<title>n79627850199072305937609</title>\n<text text-anchor=\"middle\" x=\"3170\" y=\"-302.8\" font-family=\"Times,serif\" font-size=\"14.00\">expr_bracket</text>\n</g>\n<!-- n79627850199072305937608&#45;&#45;n79627850199072305937609 -->\n<g id=\"edge218\" class=\"edge\">\n<title>n79627850199072305937608&#45;&#45;n79627850199072305937609</title>\n<path fill=\"none\" stroke=\"black\" d=\"M3127.51,-357.96C3136.67,-347.08 3154.95,-325.37 3164.26,-314.32\"/>\n</g>\n<!-- n955534202388867671251351 -->\n<g id=\"node231\" class=\"node\">\n<title>n955534202388867671251351</title>\n<text text-anchor=\"middle\" x=\"3254\" y=\"-302.8\" font-family=\"Times,serif\" font-size=\"14.00\">expr_id</text>\n</g>\n<!-- n79627850199072305937608&#45;&#45;n955534202388867671251351 -->\n<g id=\"edge220\" class=\"edge\">\n<title>n79627850199072305937608&#45;&#45;n955534202388867671251351</title>\n<path fill=\"none\" stroke=\"black\" d=\"M3137.14,-357.96C3162.47,-347.02 3213.15,-325.14 3238.63,-314.14\"/>\n</g>\n<!-- n79627850199072305937610 -->\n<g id=\"node223\" class=\"node\">\n<title>n79627850199072305937610</title>\n<text text-anchor=\"middle\" x=\"3183\" y=\"-243.8\" font-family=\"Times,serif\" font-size=\"14.00\">expr_add</text>\n</g>\n<!-- n79627850199072305937609&#45;&#45;n79627850199072305937610 -->\n<g id=\"edge217\" class=\"edge\">\n<title>n79627850199072305937609&#45;&#45;n79627850199072305937610</title>\n<path fill=\"none\" stroke=\"black\" d=\"M3171.49,-298.96C3173.97,-288.08 3178.92,-266.37 3181.45,-255.32\"/>\n</g>\n<!-- n79627850199072305937611 -->\n<g id=\"node224\" class=\"node\">\n<title>n79627850199072305937611</title>\n<text text-anchor=\"middle\" x=\"3258\" y=\"-184.8\" font-family=\"Times,serif\" font-size=\"14.00\">expr_add</text>\n</g>\n<!-- n79627850199072305937610&#45;&#45;n79627850199072305937611 -->\n<g id=\"edge214\" class=\"edge\">\n<title>n79627850199072305937610&#45;&#45;n79627850199072305937611</title>\n<path fill=\"none\" stroke=\"black\" d=\"M3191.6,-239.96C3205.92,-229.08 3234.48,-207.37 3249.03,-196.32\"/>\n</g>\n<!-- n398139250995361529688065 -->\n<g id=\"node229\" class=\"node\">\n<title>n398139250995361529688065</title>\n<text text-anchor=\"middle\" x=\"3367\" y=\"-184.8\" font-family=\"Times,serif\" font-size=\"14.00\">expr_const</text>\n</g>\n<!-- n79627850199072305937610&#45;&#45;n398139250995361529688065 -->\n<g id=\"edge216\" class=\"edge\">\n<title>n79627850199072305937610&#45;&#45;n398139250995361529688065</title>\n<path fill=\"none\" stroke=\"black\" d=\"M3204.11,-239.96C3239.51,-229 3310.43,-207.02 3345.86,-196.05\"/>\n</g>\n<!-- n79627850199072305937612 -->\n<g id=\"node225\" class=\"node\">\n<title>n79627850199072305937612</title>\n<text text-anchor=\"middle\" x=\"3258\" y=\"-125.8\" font-family=\"Times,serif\" font-size=\"14.00\">expr_id</text>\n</g>\n<!-- n79627850199072305937611&#45;&#45;n79627850199072305937612 -->\n<g id=\"edge211\" class=\"edge\">\n<title>n79627850199072305937611&#45;&#45;n79627850199072305937612</title>\n<path fill=\"none\" stroke=\"black\" d=\"M3258,-180.96C3258,-170.08 3258,-148.37 3258,-137.32\"/>\n</g>\n<!-- n159255700398144611875226 -->\n<g id=\"node227\" class=\"node\">\n<title>n159255700398144611875226</title>\n<text text-anchor=\"middle\" x=\"3318\" y=\"-125.8\" font-family=\"Times,serif\" font-size=\"14.00\">expr_id</text>\n</g>\n<!-- n79627850199072305937611&#45;&#45;n159255700398144611875226 -->\n<g id=\"edge213\" class=\"edge\">\n<title>n79627850199072305937611&#45;&#45;n159255700398144611875226</title>\n<path fill=\"none\" stroke=\"black\" d=\"M3264.88,-180.96C3276.33,-170.08 3299.19,-148.37 3310.83,-137.32\"/>\n</g>\n<!-- n79627850199072305937613 -->\n<g id=\"node226\" class=\"node\">\n<title>n79627850199072305937613</title>\n<polygon fill=\"none\" stroke=\"black\" points=\"3310,-82 3238,-82 3238,-59 3310,-59 3310,-82\"/>\n<text text-anchor=\"start\" x=\"3246\" y=\"-67.8\" font-family=\"Times,serif\" font-size=\"14.00\">ID: </text>\n<text text-anchor=\"start\" x=\"3268\" y=\"-67.8\" font-family=\"monospace\" font-size=\"14.00\" fill=\"brown\">list</text>\n</g>\n<!-- n79627850199072305937612&#45;&#45;n79627850199072305937613 -->\n<g id=\"edge210\" class=\"edge\">\n<title>n79627850199072305937612&#45;&#45;n79627850199072305937613</title>\n<path fill=\"none\" stroke=\"black\" d=\"M3259.84,-121.96C3262.56,-112.25 3267.71,-93.92 3270.99,-82.23\"/>\n</g>\n<!-- n159255700398144611875227 -->\n<g id=\"node228\" class=\"node\">\n<title>n159255700398144611875227</title>\n<polygon fill=\"none\" stroke=\"black\" points=\"3375.5,-82 3328.5,-82 3328.5,-59 3375.5,-59 3375.5,-82\"/>\n<text text-anchor=\"start\" x=\"3336.5\" y=\"-67.8\" font-family=\"Times,serif\" font-size=\"14.00\">ID: </text>\n<text text-anchor=\"start\" x=\"3358.5\" y=\"-67.8\" font-family=\"monospace\" font-size=\"14.00\" fill=\"brown\">i</text>\n</g>\n<!-- n159255700398144611875226&#45;&#45;n159255700398144611875227 -->\n<g id=\"edge212\" class=\"edge\">\n<title>n159255700398144611875226&#45;&#45;n159255700398144611875227</title>\n<path fill=\"none\" stroke=\"black\" d=\"M3321.9,-121.96C3327.69,-112.25 3338.63,-93.92 3345.6,-82.23\"/>\n</g>\n<!-- n398139250995361529688066 -->\n<g id=\"node230\" class=\"node\">\n<title>n398139250995361529688066</title>\n<polygon fill=\"none\" stroke=\"black\" points=\"3449,-141 3357,-141 3357,-118 3449,-118 3449,-141\"/>\n<text text-anchor=\"start\" x=\"3365\" y=\"-126.8\" font-family=\"Times,serif\" font-size=\"14.00\">NUMBER: </text>\n<text text-anchor=\"start\" x=\"3432\" y=\"-126.8\" font-family=\"monospace\" font-size=\"14.00\" fill=\"brown\">1</text>\n</g>\n<!-- n398139250995361529688065&#45;&#45;n398139250995361529688066 -->\n<g id=\"edge215\" class=\"edge\">\n<title>n398139250995361529688065&#45;&#45;n398139250995361529688066</title>\n<path fill=\"none\" stroke=\"black\" d=\"M3371.13,-180.96C3377.26,-171.25 3388.84,-152.92 3396.23,-141.23\"/>\n</g>\n<!-- n955534202388867671251352 -->\n<g id=\"node232\" class=\"node\">\n<title>n955534202388867671251352</title>\n<polygon fill=\"none\" stroke=\"black\" points=\"3299,-259 3227,-259 3227,-236 3299,-236 3299,-259\"/>\n<text text-anchor=\"start\" x=\"3235\" y=\"-244.8\" font-family=\"Times,serif\" font-size=\"14.00\">ID: </text>\n<text text-anchor=\"start\" x=\"3257\" y=\"-244.8\" font-family=\"monospace\" font-size=\"14.00\" fill=\"brown\">temp</text>\n</g>\n<!-- n955534202388867671251351&#45;&#45;n955534202388867671251352 -->\n<g id=\"edge219\" class=\"edge\">\n<title>n955534202388867671251351&#45;&#45;n955534202388867671251352</title>\n<path fill=\"none\" stroke=\"black\" d=\"M3255.03,-298.96C3256.57,-289.25 3259.46,-270.92 3261.31,-259.23\"/>\n</g>\n<!-- n2070436786095972981225926 -->\n<g id=\"node234\" class=\"node\">\n<title>n2070436786095972981225926</title>\n<text text-anchor=\"middle\" x=\"2985\" y=\"-538.8\" font-family=\"Times,serif\" font-size=\"14.00\">stmt_assign</text>\n</g>\n<!-- n2070436786095972981225925&#45;&#45;n2070436786095972981225926 -->\n<g id=\"edge232\" class=\"edge\">\n<title>n2070436786095972981225925&#45;&#45;n2070436786095972981225926</title>\n<path fill=\"none\" stroke=\"black\" d=\"M2965.52,-593.96C2969.72,-583.08 2978.1,-561.37 2982.37,-550.32\"/>\n</g>\n<!-- n2070436786095972981225927 -->\n<g id=\"node235\" class=\"node\">\n<title>n2070436786095972981225927</title>\n<polygon fill=\"none\" stroke=\"black\" points=\"3019.5,-495 2972.5,-495 2972.5,-472 3019.5,-472 3019.5,-495\"/>\n<text text-anchor=\"start\" x=\"2980.5\" y=\"-480.8\" font-family=\"Times,serif\" font-size=\"14.00\">ID: </text>\n<text text-anchor=\"start\" x=\"3002.5\" y=\"-480.8\" font-family=\"monospace\" font-size=\"14.00\" fill=\"brown\">i</text>\n</g>\n<!-- n2070436786095972981225926&#45;&#45;n2070436786095972981225927 -->\n<g id=\"edge226\" class=\"edge\">\n<title>n2070436786095972981225926&#45;&#45;n2070436786095972981225927</title>\n<path fill=\"none\" stroke=\"black\" d=\"M2986.26,-534.96C2988.14,-525.25 2991.67,-506.92 2993.93,-495.23\"/>\n</g>\n<!-- n2070436786095972981225928 -->\n<g id=\"node236\" class=\"node\">\n<title>n2070436786095972981225928</title>\n<text text-anchor=\"middle\" x=\"3193\" y=\"-479.8\" font-family=\"Times,serif\" font-size=\"14.00\">expr_add</text>\n</g>\n<!-- n2070436786095972981225926&#45;&#45;n2070436786095972981225928 -->\n<g id=\"edge231\" class=\"edge\">\n<title>n2070436786095972981225926&#45;&#45;n2070436786095972981225928</title>\n<path fill=\"none\" stroke=\"black\" d=\"M3008.86,-534.96C3048.88,-524 3129.06,-502.02 3169.1,-491.05\"/>\n</g>\n<!-- n2070436786095972981225929 -->\n<g id=\"node237\" class=\"node\">\n<title>n2070436786095972981225929</title>\n<text text-anchor=\"middle\" x=\"3193\" y=\"-420.8\" font-family=\"Times,serif\" font-size=\"14.00\">expr_id</text>\n</g>\n<!-- n2070436786095972981225928&#45;&#45;n2070436786095972981225929 -->\n<g id=\"edge228\" class=\"edge\">\n<title>n2070436786095972981225928&#45;&#45;n2070436786095972981225929</title>\n<path fill=\"none\" stroke=\"black\" d=\"M3193,-475.96C3193,-465.08 3193,-443.37 3193,-432.32\"/>\n</g>\n<!-- n4140873572191945962451860 -->\n<g id=\"node239\" class=\"node\">\n<title>n4140873572191945962451860</title>\n<text text-anchor=\"middle\" x=\"3272\" y=\"-420.8\" font-family=\"Times,serif\" font-size=\"14.00\">expr_const</text>\n</g>\n<!-- n2070436786095972981225928&#45;&#45;n4140873572191945962451860 -->\n<g id=\"edge230\" class=\"edge\">\n<title>n2070436786095972981225928&#45;&#45;n4140873572191945962451860</title>\n<path fill=\"none\" stroke=\"black\" d=\"M3202.06,-475.96C3217.14,-465.08 3247.23,-443.37 3262.55,-432.32\"/>\n</g>\n<!-- n2070436786095972981225930 -->\n<g id=\"node238\" class=\"node\">\n<title>n2070436786095972981225930</title>\n<polygon fill=\"none\" stroke=\"black\" points=\"3216.5,-377 3169.5,-377 3169.5,-354 3216.5,-354 3216.5,-377\"/>\n<text text-anchor=\"start\" x=\"3177.5\" y=\"-362.8\" font-family=\"Times,serif\" font-size=\"14.00\">ID: </text>\n<text text-anchor=\"start\" x=\"3199.5\" y=\"-362.8\" font-family=\"monospace\" font-size=\"14.00\" fill=\"brown\">i</text>\n</g>\n<!-- n2070436786095972981225929&#45;&#45;n2070436786095972981225930 -->\n<g id=\"edge227\" class=\"edge\">\n<title>n2070436786095972981225929&#45;&#45;n2070436786095972981225930</title>\n<path fill=\"none\" stroke=\"black\" d=\"M3193,-416.96C3193,-407.25 3193,-388.92 3193,-377.23\"/>\n</g>\n<!-- n4140873572191945962451861 -->\n<g id=\"node240\" class=\"node\">\n<title>n4140873572191945962451861</title>\n<polygon fill=\"none\" stroke=\"black\" points=\"3327,-377 3235,-377 3235,-354 3327,-354 3327,-377\"/>\n<text text-anchor=\"start\" x=\"3243\" y=\"-362.8\" font-family=\"Times,serif\" font-size=\"14.00\">NUMBER: </text>\n<text text-anchor=\"start\" x=\"3310\" y=\"-362.8\" font-family=\"monospace\" font-size=\"14.00\" fill=\"brown\">1</text>\n</g>\n<!-- n4140873572191945962451860&#45;&#45;n4140873572191945962451861 -->\n<g id=\"edge229\" class=\"edge\">\n<title>n4140873572191945962451860&#45;&#45;n4140873572191945962451861</title>\n<path fill=\"none\" stroke=\"black\" d=\"M3273.03,-416.96C3274.57,-407.25 3277.46,-388.92 3279.31,-377.23\"/>\n</g>\n<!-- n14493058735712182256922413 -->\n<g id=\"node242\" class=\"node\">\n<title>n14493058735712182256922413</title>\n<text text-anchor=\"middle\" x=\"2952\" y=\"-715.8\" font-family=\"Times,serif\" font-size=\"14.00\">stmt_assign</text>\n</g>\n<!-- n14493058735712182256922412&#45;&#45;n14493058735712182256922413 -->\n<g id=\"edge243\" class=\"edge\">\n<title>n14493058735712182256922412&#45;&#45;n14493058735712182256922413</title>\n<path fill=\"none\" stroke=\"black\" d=\"M2892.69,-770.96C2905.47,-760.08 2930.99,-738.37 2943.99,-727.32\"/>\n</g>\n<!-- n14493058735712182256922414 -->\n<g id=\"node243\" class=\"node\">\n<title>n14493058735712182256922414</title>\n<polygon fill=\"none\" stroke=\"black\" points=\"2988,-672 2916,-672 2916,-649 2988,-649 2988,-672\"/>\n<text text-anchor=\"start\" x=\"2924\" y=\"-657.8\" font-family=\"Times,serif\" font-size=\"14.00\">ID: </text>\n<text text-anchor=\"start\" x=\"2946\" y=\"-657.8\" font-family=\"monospace\" font-size=\"14.00\" fill=\"brown\">last</text>\n</g>\n<!-- n14493058735712182256922413&#45;&#45;n14493058735712182256922414 -->\n<g id=\"edge237\" class=\"edge\">\n<title>n14493058735712182256922413&#45;&#45;n14493058735712182256922414</title>\n<path fill=\"none\" stroke=\"black\" d=\"M2952,-711.96C2952,-702.25 2952,-683.92 2952,-672.23\"/>\n</g>\n<!-- n14493058735712182256922415 -->\n<g id=\"node244\" class=\"node\">\n<title>n14493058735712182256922415</title>\n<text text-anchor=\"middle\" x=\"3072\" y=\"-656.8\" font-family=\"Times,serif\" font-size=\"14.00\">expr_sub</text>\n</g>\n<!-- n14493058735712182256922413&#45;&#45;n14493058735712182256922415 -->\n<g id=\"edge242\" class=\"edge\">\n<title>n14493058735712182256922413&#45;&#45;n14493058735712182256922415</title>\n<path fill=\"none\" stroke=\"black\" d=\"M2965.77,-711.96C2988.79,-701.02 3034.86,-679.14 3058.03,-668.14\"/>\n</g>\n<!-- n14493058735712182256922416 -->\n<g id=\"node245\" class=\"node\">\n<title>n14493058735712182256922416</title>\n<text text-anchor=\"middle\" x=\"3072\" y=\"-597.8\" font-family=\"Times,serif\" font-size=\"14.00\">expr_id</text>\n</g>\n<!-- n14493058735712182256922415&#45;&#45;n14493058735712182256922416 -->\n<g id=\"edge239\" class=\"edge\">\n<title>n14493058735712182256922415&#45;&#45;n14493058735712182256922416</title>\n<path fill=\"none\" stroke=\"black\" d=\"M3072,-652.96C3072,-642.08 3072,-620.37 3072,-609.32\"/>\n</g>\n<!-- n28986117471424364513844834 -->\n<g id=\"node247\" class=\"node\">\n<title>n28986117471424364513844834</title>\n<text text-anchor=\"middle\" x=\"3157\" y=\"-597.8\" font-family=\"Times,serif\" font-size=\"14.00\">expr_const</text>\n</g>\n<!-- n14493058735712182256922415&#45;&#45;n28986117471424364513844834 -->\n<g id=\"edge241\" class=\"edge\">\n<title>n14493058735712182256922415&#45;&#45;n28986117471424364513844834</title>\n<path fill=\"none\" stroke=\"black\" d=\"M3081.75,-652.96C3098.06,-642.02 3130.69,-620.14 3147.1,-609.14\"/>\n</g>\n<!-- n14493058735712182256922417 -->\n<g id=\"node246\" class=\"node\">\n<title>n14493058735712182256922417</title>\n<polygon fill=\"none\" stroke=\"black\" points=\"3108,-554 3036,-554 3036,-531 3108,-531 3108,-554\"/>\n<text text-anchor=\"start\" x=\"3044\" y=\"-539.8\" font-family=\"Times,serif\" font-size=\"14.00\">ID: </text>\n<text text-anchor=\"start\" x=\"3066\" y=\"-539.8\" font-family=\"monospace\" font-size=\"14.00\" fill=\"brown\">last</text>\n</g>\n<!-- n14493058735712182256922416&#45;&#45;n14493058735712182256922417 -->\n<g id=\"edge238\" class=\"edge\">\n<title>n14493058735712182256922416&#45;&#45;n14493058735712182256922417</title>\n<path fill=\"none\" stroke=\"black\" d=\"M3072,-593.96C3072,-584.25 3072,-565.92 3072,-554.23\"/>\n</g>\n<!-- n28986117471424364513844835 -->\n<g id=\"node248\" class=\"node\">\n<title>n28986117471424364513844835</title>\n<polygon fill=\"none\" stroke=\"black\" points=\"3218,-554 3126,-554 3126,-531 3218,-531 3218,-554\"/>\n<text text-anchor=\"start\" x=\"3134\" y=\"-539.8\" font-family=\"Times,serif\" font-size=\"14.00\">NUMBER: </text>\n<text text-anchor=\"start\" x=\"3201\" y=\"-539.8\" font-family=\"monospace\" font-size=\"14.00\" fill=\"brown\">1</text>\n</g>\n<!-- n28986117471424364513844834&#45;&#45;n28986117471424364513844835 -->\n<g id=\"edge240\" class=\"edge\">\n<title>n28986117471424364513844834&#45;&#45;n28986117471424364513844835</title>\n<path fill=\"none\" stroke=\"black\" d=\"M3158.72,-593.96C3161.28,-584.25 3166.1,-565.92 3169.18,-554.23\"/>\n</g>\n</g>\n</svg>\n",
            "text/plain": [
              "<graphviz.graphs.Graph at 0x7ceeeeee4d40>"
            ]
          },
          "metadata": {}
        }
      ]
    },
    {
      "cell_type": "code",
      "source": [
        "x = Joy30().compile(x)\n",
        "assemble_and_simulate(x)"
      ],
      "metadata": {
        "colab": {
          "base_uri": "https://localhost:8080/",
          "height": 644
        },
        "id": "P__B24GMMV45",
        "outputId": "51b99897-5ba2-4f12-a898-ae058416ffd0"
      },
      "execution_count": null,
      "outputs": [
        {
          "output_type": "display_data",
          "data": {
            "text/html": [
              "\n",
              "<link rel=\"stylesheet\" href=\"https://jittat.gitlab.io/hacksim/sim.css\">\n",
              "<div id=\"sim-ui\">\n",
              "  <simulator v-bind:simulator=\"simulator\" memory-display-slots=\"30\" screen-scale=\"1\" v-bind:light-weight=\"false\" fastest-steps=\"103\"/>\n",
              "</div>\n",
              "\n",
              "<script>var exports = {};</script>\n",
              "<script src=\"https://cdn.jsdelivr.net/npm/vue/dist/vue.js\"></script>\n",
              "<script src=\"https://jittat.gitlab.io/hacksim/simulator.js\"></script>\n",
              "<script src=\"https://jittat.gitlab.io/hacksim/simulator-ui.js\"></script>\n",
              "\n",
              "<script>\n",
              "  var simulator = new HackSimulator();\n",
              "simulator.loadInstructions([16383,60432,0,58120,91,60039,0,60432,3,58120,3,64528,16,58120,17,64528,3,58120,3,64528,82,58114,16,64528,3,58120,3,64528,0,64544,58120,0,64648,18,64528,3,58120,0,65000,64528,4,58120,4,64528,3,61584,58120,3,64528,16,58120,17,64528,3,58120,3,64528,0,64544,58120,0,64648,1,60432,3,58120,0,65000,64528,4,58120,4,64528,3,62672,58120,3,64528,17,58120,14,60039,16,64528,3,58120,88,60039,1,64544,60039,207,60039,0,60432,3,58120,3,64528,19,58120,20,64528,3,58120,3,64528,0,64544,58120,0,64648,21,64528,3,58120,0,65000,64528,4,58120,4,64528,3,62672,132,58116,3,60040,64528,134,58114,3,61384,3,64528,198,58117,19,64528,3,58120,3,64528,0,64544,58120,0,64648,1,60432,3,58120,0,65000,64528,4,58120,4,64528,3,61584,58120,3,64528,19,58120,20,64528,3,58120,3,64528,0,64544,58120,0,64648,21,64528,3,58120,0,65000,64528,4,58120,4,64528,3,62672,58120,3,64528,20,58120,101,60039,19,64528,3,58120,204,60039,1,64544,60039,286,60039,22,64528,3,58120,3,64528,0,64544,58120,0,64648,23,64528,3,58120,0,65000,64528,4,58120,4,64528,3,62672,240,58116,3,60040,64528,242,58114,3,61384,3,64528,277,58117,22,64528,3,58120,3,64528,0,64544,58120,0,64648,23,64528,3,58120,0,65000,64528,4,58120,4,64528,3,62672,58120,3,64528,22,58120,209,60039,22,64528,3,58120,283,60039,1,64544,60039,24,25,26,27,28,29,5,60432,3,58120,64528,24,58120,9,60432,3,58120,64528,25,58120,10,60432,3,58120,64528,26,58120,3,60432,3,58120,64528,27,58120,7,60432,3,58120,64528,28,58120,2,60432,3,58120,64528,29,58120,24,60432,3,58120,3,64528,30,58120,6,60432,3,58120,3,64528,31,58120,10,60432,3,58120,3,64528,0,64544,58120,0,64648,30,64528,3,58120,0,65000,64528,4,58120,3,64528,4,64544,58120,31,64528,3,58120,3,64528,0,64544,58120,0,64648,1,60432,3,58120,0,65000,64528,4,58120,4,64528,3,62672,58120,3,64528,32,58120,32,64528,3,58120,3,64528,0,64544,58120,0,64648,0,60432,3,58120,0,65000,64528,4,58120,4,64528,3,62672,435,58116,3,60040,64528,437,58114,3,61384,3,64528,873,58117,0,60432,3,58120,3,64528,33,58120,33,64528,3,58120,3,64528,0,64544,58120,0,64648,32,64528,3,58120,3,64528,0,64544,58120,0,64648,1,60432,3,58120,0,65000,64528,4,58120,4,64528,3,62672,58120,0,65000,64528,4,58120,4,64528,3,62672,501,58113,3,60040,64528,503,58114,3,61384,3,64528,842,58117,30,64528,3,58120,3,64528,0,64544,58120,0,64648,33,64528,3,58120,0,65000,64528,4,58120,4,64528,3,61584,58120,3,64544,64528,3,58120,3,64528,0,64544,58120,0,64648,30,64528,3,58120,3,64528,0,64544,58120,0,64648,33,64528,3,58120,3,64528,0,64544,58120,0,64648,1,60432,3,58120,0,65000,64528,4,58120,4,64528,3,61584,58120,0,65000,64528,4,58120,4,64528,3,61584,58120,3,64544,64528,3,58120,0,65000,64528,4,58120,4,64528,3,62672,611,58113,3,60040,64528,613,58114,3,61384,3,64528,811,58114,30,64528,3,58120,3,64528,0,64544,58120,0,64648,33,64528,3,58120,0,65000,64528,4,58120,4,64528,3,61584,58120,3,64544,64528,3,58120,3,64528,34,58120,30,64528,3,58120,3,64528,0,64544,58120,0,64648,33,64528,3,58120,0,65000,64528,4,58120,4,64528,3,61584,58120,3,64528,0,64544,58120,0,64648,30,64528,3,58120,3,64528,0,64544,58120,0,64648,33,64528,3,58120,0,65000,64528,4,58120,4,64528,3,61584,58120,3,64528,0,64544,58120,0,64648,1,60432,3,58120,0,65000,64528,4,58120,4,64528,3,61584,58120,3,64544,64528,3,58120,0,65000,64528,4,58120,3,64528,4,64544,58120,30,64528,3,58120,3,64528,0,64544,58120,0,64648,33,64528,3,58120,0,65000,64528,4,58120,4,64528,3,61584,58120,3,64528,0,64544,58120,0,64648,1,60432,3,58120,0,65000,64528,4,58120,4,64528,3,61584,58120,3,64528,0,64544,58120,0,64648,34,64528,3,58120,0,65000,64528,4,58120,3,64528,4,64544,58120,33,64528,3,58120,3,64528,0,64544,58120,0,64648,1,60432,3,58120,0,65000,64528,4,58120,4,64528,3,61584,58120,3,64528,33,58120,449,60039,32,64528,3,58120,3,64528,0,64544,58120,0,64648,1,60432,3,58120,0,65000,64528,4,58120,4,64528,3,62672,58120,3,64528,32,58120,404,60039]);\n",
              "simulator.sourceCode = [{ \"lineNumber\" : null, \"code\" : \"// init stack (SP <- 16383)\"}, { \"lineNumber\" : 0, \"code\" : \"@16383\"}, { \"lineNumber\" : 1, \"code\" : \"D=A\"}, { \"lineNumber\" : 2, \"code\" : \"@SP\"}, { \"lineNumber\" : 3, \"code\" : \"M=D\"}, { \"lineNumber\" : 4, \"code\" : \"@._mul.end\"}, { \"lineNumber\" : 5, \"code\" : \"0;JMP\"}, { \"lineNumber\" : null, \"code\" : \"  (._mul.start)\"}, { \"lineNumber\" : null, \"code\" : \"//##Normal Number(0)##\"}, { \"lineNumber\" : null, \"code\" : \"// [THIS] <- 0\"}, { \"lineNumber\" : 6, \"code\" : \"@0\"}, { \"lineNumber\" : 7, \"code\" : \"D=A\"}, { \"lineNumber\" : 8, \"code\" : \"@THIS\"}, { \"lineNumber\" : 9, \"code\" : \"M=D\"}, { \"lineNumber\" : null, \"code\" : \"// [.local._mul.result] <- [THIS]\"}, { \"lineNumber\" : 10, \"code\" : \"@THIS\"}, { \"lineNumber\" : 11, \"code\" : \"D=M\"}, { \"lineNumber\" : 12, \"code\" : \"@.local._mul.result\"}, { \"lineNumber\" : 13, \"code\" : \"M=D\"}, { \"lineNumber\" : null, \"code\" : \"  (.WHILE.1)\"}, { \"lineNumber\" : null, \"code\" : \"// [THIS] <- [.local._mul.b]\"}, { \"lineNumber\" : 14, \"code\" : \"@.local._mul.b\"}, { \"lineNumber\" : 15, \"code\" : \"D=M\"}, { \"lineNumber\" : 16, \"code\" : \"@THIS\"}, { \"lineNumber\" : 17, \"code\" : \"M=D\"}, { \"lineNumber\" : 18, \"code\" : \"@THIS\"}, { \"lineNumber\" : 19, \"code\" : \"D=M\"}, { \"lineNumber\" : 20, \"code\" : \"@.OUT.1\"}, { \"lineNumber\" : 21, \"code\" : \"D;JEQ\"}, { \"lineNumber\" : null, \"code\" : \"//##While-body-1\"}, { \"lineNumber\" : null, \"code\" : \"// [THIS] <- [.local._mul.result]\"}, { \"lineNumber\" : 22, \"code\" : \"@.local._mul.result\"}, { \"lineNumber\" : 23, \"code\" : \"D=M\"}, { \"lineNumber\" : 24, \"code\" : \"@THIS\"}, { \"lineNumber\" : 25, \"code\" : \"M=D\"}, { \"lineNumber\" : null, \"code\" : \"// Push [THIS]\"}, { \"lineNumber\" : 26, \"code\" : \"@THIS\"}, { \"lineNumber\" : 27, \"code\" : \"D=M\"}, { \"lineNumber\" : 28, \"code\" : \"@SP\"}, { \"lineNumber\" : 29, \"code\" : \"A=M\"}, { \"lineNumber\" : 30, \"code\" : \"M=D\"}, { \"lineNumber\" : 31, \"code\" : \"@SP\"}, { \"lineNumber\" : 32, \"code\" : \"M=M-1\"}, { \"lineNumber\" : null, \"code\" : \"// [THIS] <- [.local._mul.a]\"}, { \"lineNumber\" : 33, \"code\" : \"@.local._mul.a\"}, { \"lineNumber\" : 34, \"code\" : \"D=M\"}, { \"lineNumber\" : 35, \"code\" : \"@THIS\"}, { \"lineNumber\" : 36, \"code\" : \"M=D\"}, { \"lineNumber\" : null, \"code\" : \"// Pop [THAT]\"}, { \"lineNumber\" : 37, \"code\" : \"@SP\"}, { \"lineNumber\" : 38, \"code\" : \"AM=M+1\"}, { \"lineNumber\" : 39, \"code\" : \"D=M\"}, { \"lineNumber\" : 40, \"code\" : \"@THAT\"}, { \"lineNumber\" : 41, \"code\" : \"M=D\"}, { \"lineNumber\" : null, \"code\" : \"// [THIS] <- [THAT] + [THIS]\"}, { \"lineNumber\" : 42, \"code\" : \"@THAT\"}, { \"lineNumber\" : 43, \"code\" : \"D=M\"}, { \"lineNumber\" : 44, \"code\" : \"@THIS\"}, { \"lineNumber\" : 45, \"code\" : \"D=D+M\"}, { \"lineNumber\" : 46, \"code\" : \"M=D\"}, { \"lineNumber\" : null, \"code\" : \"// [.local._mul.result] <- [THIS]\"}, { \"lineNumber\" : 47, \"code\" : \"@THIS\"}, { \"lineNumber\" : 48, \"code\" : \"D=M\"}, { \"lineNumber\" : 49, \"code\" : \"@.local._mul.result\"}, { \"lineNumber\" : 50, \"code\" : \"M=D\"}, { \"lineNumber\" : null, \"code\" : \"// [THIS] <- [.local._mul.b]\"}, { \"lineNumber\" : 51, \"code\" : \"@.local._mul.b\"}, { \"lineNumber\" : 52, \"code\" : \"D=M\"}, { \"lineNumber\" : 53, \"code\" : \"@THIS\"}, { \"lineNumber\" : 54, \"code\" : \"M=D\"}, { \"lineNumber\" : null, \"code\" : \"// Push [THIS]\"}, { \"lineNumber\" : 55, \"code\" : \"@THIS\"}, { \"lineNumber\" : 56, \"code\" : \"D=M\"}, { \"lineNumber\" : 57, \"code\" : \"@SP\"}, { \"lineNumber\" : 58, \"code\" : \"A=M\"}, { \"lineNumber\" : 59, \"code\" : \"M=D\"}, { \"lineNumber\" : 60, \"code\" : \"@SP\"}, { \"lineNumber\" : 61, \"code\" : \"M=M-1\"}, { \"lineNumber\" : null, \"code\" : \"//##Normal Number(1)##\"}, { \"lineNumber\" : null, \"code\" : \"// [THIS] <- 1\"}, { \"lineNumber\" : 62, \"code\" : \"@1\"}, { \"lineNumber\" : 63, \"code\" : \"D=A\"}, { \"lineNumber\" : 64, \"code\" : \"@THIS\"}, { \"lineNumber\" : 65, \"code\" : \"M=D\"}, { \"lineNumber\" : null, \"code\" : \"// Pop [THAT]\"}, { \"lineNumber\" : 66, \"code\" : \"@SP\"}, { \"lineNumber\" : 67, \"code\" : \"AM=M+1\"}, { \"lineNumber\" : 68, \"code\" : \"D=M\"}, { \"lineNumber\" : 69, \"code\" : \"@THAT\"}, { \"lineNumber\" : 70, \"code\" : \"M=D\"}, { \"lineNumber\" : null, \"code\" : \"// [THIS] <- [THAT] - [THIS]\"}, { \"lineNumber\" : 71, \"code\" : \"@THAT\"}, { \"lineNumber\" : 72, \"code\" : \"D=M\"}, { \"lineNumber\" : 73, \"code\" : \"@THIS\"}, { \"lineNumber\" : 74, \"code\" : \"D=D-M\"}, { \"lineNumber\" : 75, \"code\" : \"M=D\"}, { \"lineNumber\" : null, \"code\" : \"// [.local._mul.b] <- [THIS]\"}, { \"lineNumber\" : 76, \"code\" : \"@THIS\"}, { \"lineNumber\" : 77, \"code\" : \"D=M\"}, { \"lineNumber\" : 78, \"code\" : \"@.local._mul.b\"}, { \"lineNumber\" : 79, \"code\" : \"M=D\"}, { \"lineNumber\" : 80, \"code\" : \"@.WHILE.1\"}, { \"lineNumber\" : 81, \"code\" : \"0;JMP\"}, { \"lineNumber\" : null, \"code\" : \"  (.OUT.1)\"}, { \"lineNumber\" : null, \"code\" : \"// [THIS] <- [.local._mul.result]\"}, { \"lineNumber\" : 82, \"code\" : \"@.local._mul.result\"}, { \"lineNumber\" : 83, \"code\" : \"D=M\"}, { \"lineNumber\" : 84, \"code\" : \"@THIS\"}, { \"lineNumber\" : 85, \"code\" : \"M=D\"}, { \"lineNumber\" : 86, \"code\" : \"@._mul.return\"}, { \"lineNumber\" : 87, \"code\" : \"0;JMP\"}, { \"lineNumber\" : null, \"code\" : \"  (._mul.return)\"}, { \"lineNumber\" : 88, \"code\" : \"@LCL\"}, { \"lineNumber\" : 89, \"code\" : \"A=M\"}, { \"lineNumber\" : 90, \"code\" : \"0;JMP\"}, { \"lineNumber\" : null, \"code\" : \"  (._mul.end)\"}, { \"lineNumber\" : 91, \"code\" : \"@._div.end\"}, { \"lineNumber\" : 92, \"code\" : \"0;JMP\"}, { \"lineNumber\" : null, \"code\" : \"  (._div.start)\"}, { \"lineNumber\" : null, \"code\" : \"//##Normal Number(0)##\"}, { \"lineNumber\" : null, \"code\" : \"// [THIS] <- 0\"}, { \"lineNumber\" : 93, \"code\" : \"@0\"}, { \"lineNumber\" : 94, \"code\" : \"D=A\"}, { \"lineNumber\" : 95, \"code\" : \"@THIS\"}, { \"lineNumber\" : 96, \"code\" : \"M=D\"}, { \"lineNumber\" : null, \"code\" : \"// [.local._div.result] <- [THIS]\"}, { \"lineNumber\" : 97, \"code\" : \"@THIS\"}, { \"lineNumber\" : 98, \"code\" : \"D=M\"}, { \"lineNumber\" : 99, \"code\" : \"@.local._div.result\"}, { \"lineNumber\" : 100, \"code\" : \"M=D\"}, { \"lineNumber\" : null, \"code\" : \"  (.WHILE.2)\"}, { \"lineNumber\" : null, \"code\" : \"// [THIS] <- [.local._div.a]\"}, { \"lineNumber\" : 101, \"code\" : \"@.local._div.a\"}, { \"lineNumber\" : 102, \"code\" : \"D=M\"}, { \"lineNumber\" : 103, \"code\" : \"@THIS\"}, { \"lineNumber\" : 104, \"code\" : \"M=D\"}, { \"lineNumber\" : null, \"code\" : \"// Push [THIS]\"}, { \"lineNumber\" : 105, \"code\" : \"@THIS\"}, { \"lineNumber\" : 106, \"code\" : \"D=M\"}, { \"lineNumber\" : 107, \"code\" : \"@SP\"}, { \"lineNumber\" : 108, \"code\" : \"A=M\"}, { \"lineNumber\" : 109, \"code\" : \"M=D\"}, { \"lineNumber\" : 110, \"code\" : \"@SP\"}, { \"lineNumber\" : 111, \"code\" : \"M=M-1\"}, { \"lineNumber\" : null, \"code\" : \"// [THIS] <- [.local._div.b]\"}, { \"lineNumber\" : 112, \"code\" : \"@.local._div.b\"}, { \"lineNumber\" : 113, \"code\" : \"D=M\"}, { \"lineNumber\" : 114, \"code\" : \"@THIS\"}, { \"lineNumber\" : 115, \"code\" : \"M=D\"}, { \"lineNumber\" : null, \"code\" : \"// Pop [THAT]\"}, { \"lineNumber\" : 116, \"code\" : \"@SP\"}, { \"lineNumber\" : 117, \"code\" : \"AM=M+1\"}, { \"lineNumber\" : 118, \"code\" : \"D=M\"}, { \"lineNumber\" : 119, \"code\" : \"@THAT\"}, { \"lineNumber\" : 120, \"code\" : \"M=D\"}, { \"lineNumber\" : null, \"code\" : \"//##start-compare-3##\"}, { \"lineNumber\" : 121, \"code\" : \"@THAT\"}, { \"lineNumber\" : 122, \"code\" : \"D=M\"}, { \"lineNumber\" : 123, \"code\" : \"@THIS\"}, { \"lineNumber\" : 124, \"code\" : \"D=D-M\"}, { \"lineNumber\" : 125, \"code\" : \"@.TRUE.3\"}, { \"lineNumber\" : 126, \"code\" : \"D;JLT\"}, { \"lineNumber\" : 127, \"code\" : \"@THIS\"}, { \"lineNumber\" : 128, \"code\" : \"M=0\"}, { \"lineNumber\" : 129, \"code\" : \"D=M\"}, { \"lineNumber\" : 130, \"code\" : \"@.FALSE.3\"}, { \"lineNumber\" : 131, \"code\" : \"D;JEQ\"}, { \"lineNumber\" : null, \"code\" : \"  (.TRUE.3)\"}, { \"lineNumber\" : 132, \"code\" : \"@THIS\"}, { \"lineNumber\" : 133, \"code\" : \"M=1\"}, { \"lineNumber\" : null, \"code\" : \"  (.FALSE.3)\"}, { \"lineNumber\" : null, \"code\" : \"//##end-compare-3##\"}, { \"lineNumber\" : 134, \"code\" : \"@THIS\"}, { \"lineNumber\" : 135, \"code\" : \"D=M\"}, { \"lineNumber\" : 136, \"code\" : \"@.OUT.2\"}, { \"lineNumber\" : 137, \"code\" : \"D;JNE\"}, { \"lineNumber\" : null, \"code\" : \"//##While-body-2\"}, { \"lineNumber\" : null, \"code\" : \"// [THIS] <- [.local._div.result]\"}, { \"lineNumber\" : 138, \"code\" : \"@.local._div.result\"}, { \"lineNumber\" : 139, \"code\" : \"D=M\"}, { \"lineNumber\" : 140, \"code\" : \"@THIS\"}, { \"lineNumber\" : 141, \"code\" : \"M=D\"}, { \"lineNumber\" : null, \"code\" : \"// Push [THIS]\"}, { \"lineNumber\" : 142, \"code\" : \"@THIS\"}, { \"lineNumber\" : 143, \"code\" : \"D=M\"}, { \"lineNumber\" : 144, \"code\" : \"@SP\"}, { \"lineNumber\" : 145, \"code\" : \"A=M\"}, { \"lineNumber\" : 146, \"code\" : \"M=D\"}, { \"lineNumber\" : 147, \"code\" : \"@SP\"}, { \"lineNumber\" : 148, \"code\" : \"M=M-1\"}, { \"lineNumber\" : null, \"code\" : \"//##Normal Number(1)##\"}, { \"lineNumber\" : null, \"code\" : \"// [THIS] <- 1\"}, { \"lineNumber\" : 149, \"code\" : \"@1\"}, { \"lineNumber\" : 150, \"code\" : \"D=A\"}, { \"lineNumber\" : 151, \"code\" : \"@THIS\"}, { \"lineNumber\" : 152, \"code\" : \"M=D\"}, { \"lineNumber\" : null, \"code\" : \"// Pop [THAT]\"}, { \"lineNumber\" : 153, \"code\" : \"@SP\"}, { \"lineNumber\" : 154, \"code\" : \"AM=M+1\"}, { \"lineNumber\" : 155, \"code\" : \"D=M\"}, { \"lineNumber\" : 156, \"code\" : \"@THAT\"}, { \"lineNumber\" : 157, \"code\" : \"M=D\"}, { \"lineNumber\" : null, \"code\" : \"// [THIS] <- [THAT] + [THIS]\"}, { \"lineNumber\" : 158, \"code\" : \"@THAT\"}, { \"lineNumber\" : 159, \"code\" : \"D=M\"}, { \"lineNumber\" : 160, \"code\" : \"@THIS\"}, { \"lineNumber\" : 161, \"code\" : \"D=D+M\"}, { \"lineNumber\" : 162, \"code\" : \"M=D\"}, { \"lineNumber\" : null, \"code\" : \"// [.local._div.result] <- [THIS]\"}, { \"lineNumber\" : 163, \"code\" : \"@THIS\"}, { \"lineNumber\" : 164, \"code\" : \"D=M\"}, { \"lineNumber\" : 165, \"code\" : \"@.local._div.result\"}, { \"lineNumber\" : 166, \"code\" : \"M=D\"}, { \"lineNumber\" : null, \"code\" : \"// [THIS] <- [.local._div.a]\"}, { \"lineNumber\" : 167, \"code\" : \"@.local._div.a\"}, { \"lineNumber\" : 168, \"code\" : \"D=M\"}, { \"lineNumber\" : 169, \"code\" : \"@THIS\"}, { \"lineNumber\" : 170, \"code\" : \"M=D\"}, { \"lineNumber\" : null, \"code\" : \"// Push [THIS]\"}, { \"lineNumber\" : 171, \"code\" : \"@THIS\"}, { \"lineNumber\" : 172, \"code\" : \"D=M\"}, { \"lineNumber\" : 173, \"code\" : \"@SP\"}, { \"lineNumber\" : 174, \"code\" : \"A=M\"}, { \"lineNumber\" : 175, \"code\" : \"M=D\"}, { \"lineNumber\" : 176, \"code\" : \"@SP\"}, { \"lineNumber\" : 177, \"code\" : \"M=M-1\"}, { \"lineNumber\" : null, \"code\" : \"// [THIS] <- [.local._div.b]\"}, { \"lineNumber\" : 178, \"code\" : \"@.local._div.b\"}, { \"lineNumber\" : 179, \"code\" : \"D=M\"}, { \"lineNumber\" : 180, \"code\" : \"@THIS\"}, { \"lineNumber\" : 181, \"code\" : \"M=D\"}, { \"lineNumber\" : null, \"code\" : \"// Pop [THAT]\"}, { \"lineNumber\" : 182, \"code\" : \"@SP\"}, { \"lineNumber\" : 183, \"code\" : \"AM=M+1\"}, { \"lineNumber\" : 184, \"code\" : \"D=M\"}, { \"lineNumber\" : 185, \"code\" : \"@THAT\"}, { \"lineNumber\" : 186, \"code\" : \"M=D\"}, { \"lineNumber\" : null, \"code\" : \"// [THIS] <- [THAT] - [THIS]\"}, { \"lineNumber\" : 187, \"code\" : \"@THAT\"}, { \"lineNumber\" : 188, \"code\" : \"D=M\"}, { \"lineNumber\" : 189, \"code\" : \"@THIS\"}, { \"lineNumber\" : 190, \"code\" : \"D=D-M\"}, { \"lineNumber\" : 191, \"code\" : \"M=D\"}, { \"lineNumber\" : null, \"code\" : \"// [.local._div.a] <- [THIS]\"}, { \"lineNumber\" : 192, \"code\" : \"@THIS\"}, { \"lineNumber\" : 193, \"code\" : \"D=M\"}, { \"lineNumber\" : 194, \"code\" : \"@.local._div.a\"}, { \"lineNumber\" : 195, \"code\" : \"M=D\"}, { \"lineNumber\" : 196, \"code\" : \"@.WHILE.2\"}, { \"lineNumber\" : 197, \"code\" : \"0;JMP\"}, { \"lineNumber\" : null, \"code\" : \"  (.OUT.2)\"}, { \"lineNumber\" : null, \"code\" : \"// [THIS] <- [.local._div.result]\"}, { \"lineNumber\" : 198, \"code\" : \"@.local._div.result\"}, { \"lineNumber\" : 199, \"code\" : \"D=M\"}, { \"lineNumber\" : 200, \"code\" : \"@THIS\"}, { \"lineNumber\" : 201, \"code\" : \"M=D\"}, { \"lineNumber\" : 202, \"code\" : \"@._div.return\"}, { \"lineNumber\" : 203, \"code\" : \"0;JMP\"}, { \"lineNumber\" : null, \"code\" : \"  (._div.return)\"}, { \"lineNumber\" : 204, \"code\" : \"@LCL\"}, { \"lineNumber\" : 205, \"code\" : \"A=M\"}, { \"lineNumber\" : 206, \"code\" : \"0;JMP\"}, { \"lineNumber\" : null, \"code\" : \"  (._div.end)\"}, { \"lineNumber\" : 207, \"code\" : \"@._mod.end\"}, { \"lineNumber\" : 208, \"code\" : \"0;JMP\"}, { \"lineNumber\" : null, \"code\" : \"  (._mod.start)\"}, { \"lineNumber\" : null, \"code\" : \"  (.WHILE.4)\"}, { \"lineNumber\" : null, \"code\" : \"// [THIS] <- [.local._mod.a]\"}, { \"lineNumber\" : 209, \"code\" : \"@.local._mod.a\"}, { \"lineNumber\" : 210, \"code\" : \"D=M\"}, { \"lineNumber\" : 211, \"code\" : \"@THIS\"}, { \"lineNumber\" : 212, \"code\" : \"M=D\"}, { \"lineNumber\" : null, \"code\" : \"// Push [THIS]\"}, { \"lineNumber\" : 213, \"code\" : \"@THIS\"}, { \"lineNumber\" : 214, \"code\" : \"D=M\"}, { \"lineNumber\" : 215, \"code\" : \"@SP\"}, { \"lineNumber\" : 216, \"code\" : \"A=M\"}, { \"lineNumber\" : 217, \"code\" : \"M=D\"}, { \"lineNumber\" : 218, \"code\" : \"@SP\"}, { \"lineNumber\" : 219, \"code\" : \"M=M-1\"}, { \"lineNumber\" : null, \"code\" : \"// [THIS] <- [.local._mod.b]\"}, { \"lineNumber\" : 220, \"code\" : \"@.local._mod.b\"}, { \"lineNumber\" : 221, \"code\" : \"D=M\"}, { \"lineNumber\" : 222, \"code\" : \"@THIS\"}, { \"lineNumber\" : 223, \"code\" : \"M=D\"}, { \"lineNumber\" : null, \"code\" : \"// Pop [THAT]\"}, { \"lineNumber\" : 224, \"code\" : \"@SP\"}, { \"lineNumber\" : 225, \"code\" : \"AM=M+1\"}, { \"lineNumber\" : 226, \"code\" : \"D=M\"}, { \"lineNumber\" : 227, \"code\" : \"@THAT\"}, { \"lineNumber\" : 228, \"code\" : \"M=D\"}, { \"lineNumber\" : null, \"code\" : \"//##start-compare-5##\"}, { \"lineNumber\" : 229, \"code\" : \"@THAT\"}, { \"lineNumber\" : 230, \"code\" : \"D=M\"}, { \"lineNumber\" : 231, \"code\" : \"@THIS\"}, { \"lineNumber\" : 232, \"code\" : \"D=D-M\"}, { \"lineNumber\" : 233, \"code\" : \"@.TRUE.5\"}, { \"lineNumber\" : 234, \"code\" : \"D;JLT\"}, { \"lineNumber\" : 235, \"code\" : \"@THIS\"}, { \"lineNumber\" : 236, \"code\" : \"M=0\"}, { \"lineNumber\" : 237, \"code\" : \"D=M\"}, { \"lineNumber\" : 238, \"code\" : \"@.FALSE.5\"}, { \"lineNumber\" : 239, \"code\" : \"D;JEQ\"}, { \"lineNumber\" : null, \"code\" : \"  (.TRUE.5)\"}, { \"lineNumber\" : 240, \"code\" : \"@THIS\"}, { \"lineNumber\" : 241, \"code\" : \"M=1\"}, { \"lineNumber\" : null, \"code\" : \"  (.FALSE.5)\"}, { \"lineNumber\" : null, \"code\" : \"//##end-compare-5##\"}, { \"lineNumber\" : 242, \"code\" : \"@THIS\"}, { \"lineNumber\" : 243, \"code\" : \"D=M\"}, { \"lineNumber\" : 244, \"code\" : \"@.OUT.4\"}, { \"lineNumber\" : 245, \"code\" : \"D;JNE\"}, { \"lineNumber\" : null, \"code\" : \"//##While-body-4\"}, { \"lineNumber\" : null, \"code\" : \"// [THIS] <- [.local._mod.a]\"}, { \"lineNumber\" : 246, \"code\" : \"@.local._mod.a\"}, { \"lineNumber\" : 247, \"code\" : \"D=M\"}, { \"lineNumber\" : 248, \"code\" : \"@THIS\"}, { \"lineNumber\" : 249, \"code\" : \"M=D\"}, { \"lineNumber\" : null, \"code\" : \"// Push [THIS]\"}, { \"lineNumber\" : 250, \"code\" : \"@THIS\"}, { \"lineNumber\" : 251, \"code\" : \"D=M\"}, { \"lineNumber\" : 252, \"code\" : \"@SP\"}, { \"lineNumber\" : 253, \"code\" : \"A=M\"}, { \"lineNumber\" : 254, \"code\" : \"M=D\"}, { \"lineNumber\" : 255, \"code\" : \"@SP\"}, { \"lineNumber\" : 256, \"code\" : \"M=M-1\"}, { \"lineNumber\" : null, \"code\" : \"// [THIS] <- [.local._mod.b]\"}, { \"lineNumber\" : 257, \"code\" : \"@.local._mod.b\"}, { \"lineNumber\" : 258, \"code\" : \"D=M\"}, { \"lineNumber\" : 259, \"code\" : \"@THIS\"}, { \"lineNumber\" : 260, \"code\" : \"M=D\"}, { \"lineNumber\" : null, \"code\" : \"// Pop [THAT]\"}, { \"lineNumber\" : 261, \"code\" : \"@SP\"}, { \"lineNumber\" : 262, \"code\" : \"AM=M+1\"}, { \"lineNumber\" : 263, \"code\" : \"D=M\"}, { \"lineNumber\" : 264, \"code\" : \"@THAT\"}, { \"lineNumber\" : 265, \"code\" : \"M=D\"}, { \"lineNumber\" : null, \"code\" : \"// [THIS] <- [THAT] - [THIS]\"}, { \"lineNumber\" : 266, \"code\" : \"@THAT\"}, { \"lineNumber\" : 267, \"code\" : \"D=M\"}, { \"lineNumber\" : 268, \"code\" : \"@THIS\"}, { \"lineNumber\" : 269, \"code\" : \"D=D-M\"}, { \"lineNumber\" : 270, \"code\" : \"M=D\"}, { \"lineNumber\" : null, \"code\" : \"// [.local._mod.a] <- [THIS]\"}, { \"lineNumber\" : 271, \"code\" : \"@THIS\"}, { \"lineNumber\" : 272, \"code\" : \"D=M\"}, { \"lineNumber\" : 273, \"code\" : \"@.local._mod.a\"}, { \"lineNumber\" : 274, \"code\" : \"M=D\"}, { \"lineNumber\" : 275, \"code\" : \"@.WHILE.4\"}, { \"lineNumber\" : 276, \"code\" : \"0;JMP\"}, { \"lineNumber\" : null, \"code\" : \"  (.OUT.4)\"}, { \"lineNumber\" : null, \"code\" : \"// [THIS] <- [.local._mod.a]\"}, { \"lineNumber\" : 277, \"code\" : \"@.local._mod.a\"}, { \"lineNumber\" : 278, \"code\" : \"D=M\"}, { \"lineNumber\" : 279, \"code\" : \"@THIS\"}, { \"lineNumber\" : 280, \"code\" : \"M=D\"}, { \"lineNumber\" : 281, \"code\" : \"@._mod.return\"}, { \"lineNumber\" : 282, \"code\" : \"0;JMP\"}, { \"lineNumber\" : null, \"code\" : \"  (._mod.return)\"}, { \"lineNumber\" : 283, \"code\" : \"@LCL\"}, { \"lineNumber\" : 284, \"code\" : \"A=M\"}, { \"lineNumber\" : 285, \"code\" : \"0;JMP\"}, { \"lineNumber\" : null, \"code\" : \"  (._mod.end)\"}, { \"lineNumber\" : 286, \"code\" : \"@.array6.7\"}, { \"lineNumber\" : 287, \"code\" : \"@.array6.8\"}, { \"lineNumber\" : 288, \"code\" : \"@.array6.9\"}, { \"lineNumber\" : 289, \"code\" : \"@.array6.10\"}, { \"lineNumber\" : 290, \"code\" : \"@.array6.11\"}, { \"lineNumber\" : 291, \"code\" : \"@.array6.12\"}, { \"lineNumber\" : null, \"code\" : \"//##Normal Number(5)##\"}, { \"lineNumber\" : null, \"code\" : \"// [THIS] <- 5\"}, { \"lineNumber\" : 292, \"code\" : \"@5\"}, { \"lineNumber\" : 293, \"code\" : \"D=A\"}, { \"lineNumber\" : 294, \"code\" : \"@THIS\"}, { \"lineNumber\" : 295, \"code\" : \"M=D\"}, { \"lineNumber\" : 296, \"code\" : \"D=M\"}, { \"lineNumber\" : 297, \"code\" : \"@.array6.7\"}, { \"lineNumber\" : 298, \"code\" : \"M=D\"}, { \"lineNumber\" : null, \"code\" : \"//##Normal Number(9)##\"}, { \"lineNumber\" : null, \"code\" : \"// [THIS] <- 9\"}, { \"lineNumber\" : 299, \"code\" : \"@9\"}, { \"lineNumber\" : 300, \"code\" : \"D=A\"}, { \"lineNumber\" : 301, \"code\" : \"@THIS\"}, { \"lineNumber\" : 302, \"code\" : \"M=D\"}, { \"lineNumber\" : 303, \"code\" : \"D=M\"}, { \"lineNumber\" : 304, \"code\" : \"@.array6.8\"}, { \"lineNumber\" : 305, \"code\" : \"M=D\"}, { \"lineNumber\" : null, \"code\" : \"//##Normal Number(10)##\"}, { \"lineNumber\" : null, \"code\" : \"// [THIS] <- 10\"}, { \"lineNumber\" : 306, \"code\" : \"@10\"}, { \"lineNumber\" : 307, \"code\" : \"D=A\"}, { \"lineNumber\" : 308, \"code\" : \"@THIS\"}, { \"lineNumber\" : 309, \"code\" : \"M=D\"}, { \"lineNumber\" : 310, \"code\" : \"D=M\"}, { \"lineNumber\" : 311, \"code\" : \"@.array6.9\"}, { \"lineNumber\" : 312, \"code\" : \"M=D\"}, { \"lineNumber\" : null, \"code\" : \"//##Normal Number(3)##\"}, { \"lineNumber\" : null, \"code\" : \"// [THIS] <- 3\"}, { \"lineNumber\" : 313, \"code\" : \"@3\"}, { \"lineNumber\" : 314, \"code\" : \"D=A\"}, { \"lineNumber\" : 315, \"code\" : \"@THIS\"}, { \"lineNumber\" : 316, \"code\" : \"M=D\"}, { \"lineNumber\" : 317, \"code\" : \"D=M\"}, { \"lineNumber\" : 318, \"code\" : \"@.array6.10\"}, { \"lineNumber\" : 319, \"code\" : \"M=D\"}, { \"lineNumber\" : null, \"code\" : \"//##Normal Number(7)##\"}, { \"lineNumber\" : null, \"code\" : \"// [THIS] <- 7\"}, { \"lineNumber\" : 320, \"code\" : \"@7\"}, { \"lineNumber\" : 321, \"code\" : \"D=A\"}, { \"lineNumber\" : 322, \"code\" : \"@THIS\"}, { \"lineNumber\" : 323, \"code\" : \"M=D\"}, { \"lineNumber\" : 324, \"code\" : \"D=M\"}, { \"lineNumber\" : 325, \"code\" : \"@.array6.11\"}, { \"lineNumber\" : 326, \"code\" : \"M=D\"}, { \"lineNumber\" : null, \"code\" : \"//##Normal Number(2)##\"}, { \"lineNumber\" : null, \"code\" : \"// [THIS] <- 2\"}, { \"lineNumber\" : 327, \"code\" : \"@2\"}, { \"lineNumber\" : 328, \"code\" : \"D=A\"}, { \"lineNumber\" : 329, \"code\" : \"@THIS\"}, { \"lineNumber\" : 330, \"code\" : \"M=D\"}, { \"lineNumber\" : 331, \"code\" : \"D=M\"}, { \"lineNumber\" : 332, \"code\" : \"@.array6.12\"}, { \"lineNumber\" : 333, \"code\" : \"M=D\"}, { \"lineNumber\" : 334, \"code\" : \"@.array6.7\"}, { \"lineNumber\" : 335, \"code\" : \"D=A\"}, { \"lineNumber\" : 336, \"code\" : \"@THIS\"}, { \"lineNumber\" : 337, \"code\" : \"M=D\"}, { \"lineNumber\" : null, \"code\" : \"// [.global.list] <- [THIS]\"}, { \"lineNumber\" : 338, \"code\" : \"@THIS\"}, { \"lineNumber\" : 339, \"code\" : \"D=M\"}, { \"lineNumber\" : 340, \"code\" : \"@.global.list\"}, { \"lineNumber\" : 341, \"code\" : \"M=D\"}, { \"lineNumber\" : null, \"code\" : \"//##Normal Number(6)##\"}, { \"lineNumber\" : null, \"code\" : \"// [THIS] <- 6\"}, { \"lineNumber\" : 342, \"code\" : \"@6\"}, { \"lineNumber\" : 343, \"code\" : \"D=A\"}, { \"lineNumber\" : 344, \"code\" : \"@THIS\"}, { \"lineNumber\" : 345, \"code\" : \"M=D\"}, { \"lineNumber\" : null, \"code\" : \"// [.global.n] <- [THIS]\"}, { \"lineNumber\" : 346, \"code\" : \"@THIS\"}, { \"lineNumber\" : 347, \"code\" : \"D=M\"}, { \"lineNumber\" : 348, \"code\" : \"@.global.n\"}, { \"lineNumber\" : 349, \"code\" : \"M=D\"}, { \"lineNumber\" : null, \"code\" : \"//##Normal Number(10)##\"}, { \"lineNumber\" : null, \"code\" : \"// [THIS] <- 10\"}, { \"lineNumber\" : 350, \"code\" : \"@10\"}, { \"lineNumber\" : 351, \"code\" : \"D=A\"}, { \"lineNumber\" : 352, \"code\" : \"@THIS\"}, { \"lineNumber\" : 353, \"code\" : \"M=D\"}, { \"lineNumber\" : null, \"code\" : \"// Push [THIS]\"}, { \"lineNumber\" : 354, \"code\" : \"@THIS\"}, { \"lineNumber\" : 355, \"code\" : \"D=M\"}, { \"lineNumber\" : 356, \"code\" : \"@SP\"}, { \"lineNumber\" : 357, \"code\" : \"A=M\"}, { \"lineNumber\" : 358, \"code\" : \"M=D\"}, { \"lineNumber\" : 359, \"code\" : \"@SP\"}, { \"lineNumber\" : 360, \"code\" : \"M=M-1\"}, { \"lineNumber\" : null, \"code\" : \"// [THIS] <- [.global.list]\"}, { \"lineNumber\" : 361, \"code\" : \"@.global.list\"}, { \"lineNumber\" : 362, \"code\" : \"D=M\"}, { \"lineNumber\" : 363, \"code\" : \"@THIS\"}, { \"lineNumber\" : 364, \"code\" : \"M=D\"}, { \"lineNumber\" : null, \"code\" : \"// Pop [THAT]\"}, { \"lineNumber\" : 365, \"code\" : \"@SP\"}, { \"lineNumber\" : 366, \"code\" : \"AM=M+1\"}, { \"lineNumber\" : 367, \"code\" : \"D=M\"}, { \"lineNumber\" : 368, \"code\" : \"@THAT\"}, { \"lineNumber\" : 369, \"code\" : \"M=D\"}, { \"lineNumber\" : 370, \"code\" : \"@THIS\"}, { \"lineNumber\" : 371, \"code\" : \"D=M\"}, { \"lineNumber\" : 372, \"code\" : \"@THAT\"}, { \"lineNumber\" : 373, \"code\" : \"A=M\"}, { \"lineNumber\" : 374, \"code\" : \"M=D\"}, { \"lineNumber\" : null, \"code\" : \"// [THIS] <- [.global.n]\"}, { \"lineNumber\" : 375, \"code\" : \"@.global.n\"}, { \"lineNumber\" : 376, \"code\" : \"D=M\"}, { \"lineNumber\" : 377, \"code\" : \"@THIS\"}, { \"lineNumber\" : 378, \"code\" : \"M=D\"}, { \"lineNumber\" : null, \"code\" : \"// Push [THIS]\"}, { \"lineNumber\" : 379, \"code\" : \"@THIS\"}, { \"lineNumber\" : 380, \"code\" : \"D=M\"}, { \"lineNumber\" : 381, \"code\" : \"@SP\"}, { \"lineNumber\" : 382, \"code\" : \"A=M\"}, { \"lineNumber\" : 383, \"code\" : \"M=D\"}, { \"lineNumber\" : 384, \"code\" : \"@SP\"}, { \"lineNumber\" : 385, \"code\" : \"M=M-1\"}, { \"lineNumber\" : null, \"code\" : \"//##Normal Number(1)##\"}, { \"lineNumber\" : null, \"code\" : \"// [THIS] <- 1\"}, { \"lineNumber\" : 386, \"code\" : \"@1\"}, { \"lineNumber\" : 387, \"code\" : \"D=A\"}, { \"lineNumber\" : 388, \"code\" : \"@THIS\"}, { \"lineNumber\" : 389, \"code\" : \"M=D\"}, { \"lineNumber\" : null, \"code\" : \"// Pop [THAT]\"}, { \"lineNumber\" : 390, \"code\" : \"@SP\"}, { \"lineNumber\" : 391, \"code\" : \"AM=M+1\"}, { \"lineNumber\" : 392, \"code\" : \"D=M\"}, { \"lineNumber\" : 393, \"code\" : \"@THAT\"}, { \"lineNumber\" : 394, \"code\" : \"M=D\"}, { \"lineNumber\" : null, \"code\" : \"// [THIS] <- [THAT] - [THIS]\"}, { \"lineNumber\" : 395, \"code\" : \"@THAT\"}, { \"lineNumber\" : 396, \"code\" : \"D=M\"}, { \"lineNumber\" : 397, \"code\" : \"@THIS\"}, { \"lineNumber\" : 398, \"code\" : \"D=D-M\"}, { \"lineNumber\" : 399, \"code\" : \"M=D\"}, { \"lineNumber\" : null, \"code\" : \"// [.global.last] <- [THIS]\"}, { \"lineNumber\" : 400, \"code\" : \"@THIS\"}, { \"lineNumber\" : 401, \"code\" : \"D=M\"}, { \"lineNumber\" : 402, \"code\" : \"@.global.last\"}, { \"lineNumber\" : 403, \"code\" : \"M=D\"}, { \"lineNumber\" : null, \"code\" : \"  (.WHILE.13)\"}, { \"lineNumber\" : null, \"code\" : \"// [THIS] <- [.global.last]\"}, { \"lineNumber\" : 404, \"code\" : \"@.global.last\"}, { \"lineNumber\" : 405, \"code\" : \"D=M\"}, { \"lineNumber\" : 406, \"code\" : \"@THIS\"}, { \"lineNumber\" : 407, \"code\" : \"M=D\"}, { \"lineNumber\" : null, \"code\" : \"// Push [THIS]\"}, { \"lineNumber\" : 408, \"code\" : \"@THIS\"}, { \"lineNumber\" : 409, \"code\" : \"D=M\"}, { \"lineNumber\" : 410, \"code\" : \"@SP\"}, { \"lineNumber\" : 411, \"code\" : \"A=M\"}, { \"lineNumber\" : 412, \"code\" : \"M=D\"}, { \"lineNumber\" : 413, \"code\" : \"@SP\"}, { \"lineNumber\" : 414, \"code\" : \"M=M-1\"}, { \"lineNumber\" : null, \"code\" : \"//##Normal Number(0)##\"}, { \"lineNumber\" : null, \"code\" : \"// [THIS] <- 0\"}, { \"lineNumber\" : 415, \"code\" : \"@0\"}, { \"lineNumber\" : 416, \"code\" : \"D=A\"}, { \"lineNumber\" : 417, \"code\" : \"@THIS\"}, { \"lineNumber\" : 418, \"code\" : \"M=D\"}, { \"lineNumber\" : null, \"code\" : \"// Pop [THAT]\"}, { \"lineNumber\" : 419, \"code\" : \"@SP\"}, { \"lineNumber\" : 420, \"code\" : \"AM=M+1\"}, { \"lineNumber\" : 421, \"code\" : \"D=M\"}, { \"lineNumber\" : 422, \"code\" : \"@THAT\"}, { \"lineNumber\" : 423, \"code\" : \"M=D\"}, { \"lineNumber\" : null, \"code\" : \"//##start-compare-14##\"}, { \"lineNumber\" : 424, \"code\" : \"@THAT\"}, { \"lineNumber\" : 425, \"code\" : \"D=M\"}, { \"lineNumber\" : 426, \"code\" : \"@THIS\"}, { \"lineNumber\" : 427, \"code\" : \"D=D-M\"}, { \"lineNumber\" : 428, \"code\" : \"@.TRUE.14\"}, { \"lineNumber\" : 429, \"code\" : \"D;JLT\"}, { \"lineNumber\" : 430, \"code\" : \"@THIS\"}, { \"lineNumber\" : 431, \"code\" : \"M=0\"}, { \"lineNumber\" : 432, \"code\" : \"D=M\"}, { \"lineNumber\" : 433, \"code\" : \"@.FALSE.14\"}, { \"lineNumber\" : 434, \"code\" : \"D;JEQ\"}, { \"lineNumber\" : null, \"code\" : \"  (.TRUE.14)\"}, { \"lineNumber\" : 435, \"code\" : \"@THIS\"}, { \"lineNumber\" : 436, \"code\" : \"M=1\"}, { \"lineNumber\" : null, \"code\" : \"  (.FALSE.14)\"}, { \"lineNumber\" : null, \"code\" : \"//##end-compare-14##\"}, { \"lineNumber\" : 437, \"code\" : \"@THIS\"}, { \"lineNumber\" : 438, \"code\" : \"D=M\"}, { \"lineNumber\" : 439, \"code\" : \"@.OUT.13\"}, { \"lineNumber\" : 440, \"code\" : \"D;JNE\"}, { \"lineNumber\" : null, \"code\" : \"//##While-body-13\"}, { \"lineNumber\" : null, \"code\" : \"//##Normal Number(0)##\"}, { \"lineNumber\" : null, \"code\" : \"// [THIS] <- 0\"}, { \"lineNumber\" : 441, \"code\" : \"@0\"}, { \"lineNumber\" : 442, \"code\" : \"D=A\"}, { \"lineNumber\" : 443, \"code\" : \"@THIS\"}, { \"lineNumber\" : 444, \"code\" : \"M=D\"}, { \"lineNumber\" : null, \"code\" : \"// [.global.i] <- [THIS]\"}, { \"lineNumber\" : 445, \"code\" : \"@THIS\"}, { \"lineNumber\" : 446, \"code\" : \"D=M\"}, { \"lineNumber\" : 447, \"code\" : \"@.global.i\"}, { \"lineNumber\" : 448, \"code\" : \"M=D\"}, { \"lineNumber\" : null, \"code\" : \"  (.WHILE.15)\"}, { \"lineNumber\" : null, \"code\" : \"// [THIS] <- [.global.i]\"}, { \"lineNumber\" : 449, \"code\" : \"@.global.i\"}, { \"lineNumber\" : 450, \"code\" : \"D=M\"}, { \"lineNumber\" : 451, \"code\" : \"@THIS\"}, { \"lineNumber\" : 452, \"code\" : \"M=D\"}, { \"lineNumber\" : null, \"code\" : \"// Push [THIS]\"}, { \"lineNumber\" : 453, \"code\" : \"@THIS\"}, { \"lineNumber\" : 454, \"code\" : \"D=M\"}, { \"lineNumber\" : 455, \"code\" : \"@SP\"}, { \"lineNumber\" : 456, \"code\" : \"A=M\"}, { \"lineNumber\" : 457, \"code\" : \"M=D\"}, { \"lineNumber\" : 458, \"code\" : \"@SP\"}, { \"lineNumber\" : 459, \"code\" : \"M=M-1\"}, { \"lineNumber\" : null, \"code\" : \"// [THIS] <- [.global.last]\"}, { \"lineNumber\" : 460, \"code\" : \"@.global.last\"}, { \"lineNumber\" : 461, \"code\" : \"D=M\"}, { \"lineNumber\" : 462, \"code\" : \"@THIS\"}, { \"lineNumber\" : 463, \"code\" : \"M=D\"}, { \"lineNumber\" : null, \"code\" : \"// Push [THIS]\"}, { \"lineNumber\" : 464, \"code\" : \"@THIS\"}, { \"lineNumber\" : 465, \"code\" : \"D=M\"}, { \"lineNumber\" : 466, \"code\" : \"@SP\"}, { \"lineNumber\" : 467, \"code\" : \"A=M\"}, { \"lineNumber\" : 468, \"code\" : \"M=D\"}, { \"lineNumber\" : 469, \"code\" : \"@SP\"}, { \"lineNumber\" : 470, \"code\" : \"M=M-1\"}, { \"lineNumber\" : null, \"code\" : \"//##Normal Number(1)##\"}, { \"lineNumber\" : null, \"code\" : \"// [THIS] <- 1\"}, { \"lineNumber\" : 471, \"code\" : \"@1\"}, { \"lineNumber\" : 472, \"code\" : \"D=A\"}, { \"lineNumber\" : 473, \"code\" : \"@THIS\"}, { \"lineNumber\" : 474, \"code\" : \"M=D\"}, { \"lineNumber\" : null, \"code\" : \"// Pop [THAT]\"}, { \"lineNumber\" : 475, \"code\" : \"@SP\"}, { \"lineNumber\" : 476, \"code\" : \"AM=M+1\"}, { \"lineNumber\" : 477, \"code\" : \"D=M\"}, { \"lineNumber\" : 478, \"code\" : \"@THAT\"}, { \"lineNumber\" : 479, \"code\" : \"M=D\"}, { \"lineNumber\" : null, \"code\" : \"// [THIS] <- [THAT] - [THIS]\"}, { \"lineNumber\" : 480, \"code\" : \"@THAT\"}, { \"lineNumber\" : 481, \"code\" : \"D=M\"}, { \"lineNumber\" : 482, \"code\" : \"@THIS\"}, { \"lineNumber\" : 483, \"code\" : \"D=D-M\"}, { \"lineNumber\" : 484, \"code\" : \"M=D\"}, { \"lineNumber\" : null, \"code\" : \"// Pop [THAT]\"}, { \"lineNumber\" : 485, \"code\" : \"@SP\"}, { \"lineNumber\" : 486, \"code\" : \"AM=M+1\"}, { \"lineNumber\" : 487, \"code\" : \"D=M\"}, { \"lineNumber\" : 488, \"code\" : \"@THAT\"}, { \"lineNumber\" : 489, \"code\" : \"M=D\"}, { \"lineNumber\" : null, \"code\" : \"//##start-compare-16##\"}, { \"lineNumber\" : 490, \"code\" : \"@THAT\"}, { \"lineNumber\" : 491, \"code\" : \"D=M\"}, { \"lineNumber\" : 492, \"code\" : \"@THIS\"}, { \"lineNumber\" : 493, \"code\" : \"D=D-M\"}, { \"lineNumber\" : 494, \"code\" : \"@.TRUE.16\"}, { \"lineNumber\" : 495, \"code\" : \"D;JGT\"}, { \"lineNumber\" : 496, \"code\" : \"@THIS\"}, { \"lineNumber\" : 497, \"code\" : \"M=0\"}, { \"lineNumber\" : 498, \"code\" : \"D=M\"}, { \"lineNumber\" : 499, \"code\" : \"@.FALSE.16\"}, { \"lineNumber\" : 500, \"code\" : \"D;JEQ\"}, { \"lineNumber\" : null, \"code\" : \"  (.TRUE.16)\"}, { \"lineNumber\" : 501, \"code\" : \"@THIS\"}, { \"lineNumber\" : 502, \"code\" : \"M=1\"}, { \"lineNumber\" : null, \"code\" : \"  (.FALSE.16)\"}, { \"lineNumber\" : null, \"code\" : \"//##end-compare-16##\"}, { \"lineNumber\" : 503, \"code\" : \"@THIS\"}, { \"lineNumber\" : 504, \"code\" : \"D=M\"}, { \"lineNumber\" : 505, \"code\" : \"@.OUT.15\"}, { \"lineNumber\" : 506, \"code\" : \"D;JNE\"}, { \"lineNumber\" : null, \"code\" : \"//##While-body-15\"}, { \"lineNumber\" : null, \"code\" : \"//## begin-if-17 ##\"}, { \"lineNumber\" : null, \"code\" : \"// [THIS] <- [.global.list]\"}, { \"lineNumber\" : 507, \"code\" : \"@.global.list\"}, { \"lineNumber\" : 508, \"code\" : \"D=M\"}, { \"lineNumber\" : 509, \"code\" : \"@THIS\"}, { \"lineNumber\" : 510, \"code\" : \"M=D\"}, { \"lineNumber\" : null, \"code\" : \"// Push [THIS]\"}, { \"lineNumber\" : 511, \"code\" : \"@THIS\"}, { \"lineNumber\" : 512, \"code\" : \"D=M\"}, { \"lineNumber\" : 513, \"code\" : \"@SP\"}, { \"lineNumber\" : 514, \"code\" : \"A=M\"}, { \"lineNumber\" : 515, \"code\" : \"M=D\"}, { \"lineNumber\" : 516, \"code\" : \"@SP\"}, { \"lineNumber\" : 517, \"code\" : \"M=M-1\"}, { \"lineNumber\" : null, \"code\" : \"// [THIS] <- [.global.i]\"}, { \"lineNumber\" : 518, \"code\" : \"@.global.i\"}, { \"lineNumber\" : 519, \"code\" : \"D=M\"}, { \"lineNumber\" : 520, \"code\" : \"@THIS\"}, { \"lineNumber\" : 521, \"code\" : \"M=D\"}, { \"lineNumber\" : null, \"code\" : \"// Pop [THAT]\"}, { \"lineNumber\" : 522, \"code\" : \"@SP\"}, { \"lineNumber\" : 523, \"code\" : \"AM=M+1\"}, { \"lineNumber\" : 524, \"code\" : \"D=M\"}, { \"lineNumber\" : 525, \"code\" : \"@THAT\"}, { \"lineNumber\" : 526, \"code\" : \"M=D\"}, { \"lineNumber\" : null, \"code\" : \"// [THIS] <- [THAT] + [THIS]\"}, { \"lineNumber\" : 527, \"code\" : \"@THAT\"}, { \"lineNumber\" : 528, \"code\" : \"D=M\"}, { \"lineNumber\" : 529, \"code\" : \"@THIS\"}, { \"lineNumber\" : 530, \"code\" : \"D=D+M\"}, { \"lineNumber\" : 531, \"code\" : \"M=D\"}, { \"lineNumber\" : 532, \"code\" : \"@THIS\"}, { \"lineNumber\" : 533, \"code\" : \"A=M\"}, { \"lineNumber\" : 534, \"code\" : \"D=M\"}, { \"lineNumber\" : 535, \"code\" : \"@THIS\"}, { \"lineNumber\" : 536, \"code\" : \"M=D\"}, { \"lineNumber\" : null, \"code\" : \"// Push [THIS]\"}, { \"lineNumber\" : 537, \"code\" : \"@THIS\"}, { \"lineNumber\" : 538, \"code\" : \"D=M\"}, { \"lineNumber\" : 539, \"code\" : \"@SP\"}, { \"lineNumber\" : 540, \"code\" : \"A=M\"}, { \"lineNumber\" : 541, \"code\" : \"M=D\"}, { \"lineNumber\" : 542, \"code\" : \"@SP\"}, { \"lineNumber\" : 543, \"code\" : \"M=M-1\"}, { \"lineNumber\" : null, \"code\" : \"// [THIS] <- [.global.list]\"}, { \"lineNumber\" : 544, \"code\" : \"@.global.list\"}, { \"lineNumber\" : 545, \"code\" : \"D=M\"}, { \"lineNumber\" : 546, \"code\" : \"@THIS\"}, { \"lineNumber\" : 547, \"code\" : \"M=D\"}, { \"lineNumber\" : null, \"code\" : \"// Push [THIS]\"}, { \"lineNumber\" : 548, \"code\" : \"@THIS\"}, { \"lineNumber\" : 549, \"code\" : \"D=M\"}, { \"lineNumber\" : 550, \"code\" : \"@SP\"}, { \"lineNumber\" : 551, \"code\" : \"A=M\"}, { \"lineNumber\" : 552, \"code\" : \"M=D\"}, { \"lineNumber\" : 553, \"code\" : \"@SP\"}, { \"lineNumber\" : 554, \"code\" : \"M=M-1\"}, { \"lineNumber\" : null, \"code\" : \"// [THIS] <- [.global.i]\"}, { \"lineNumber\" : 555, \"code\" : \"@.global.i\"}, { \"lineNumber\" : 556, \"code\" : \"D=M\"}, { \"lineNumber\" : 557, \"code\" : \"@THIS\"}, { \"lineNumber\" : 558, \"code\" : \"M=D\"}, { \"lineNumber\" : null, \"code\" : \"// Push [THIS]\"}, { \"lineNumber\" : 559, \"code\" : \"@THIS\"}, { \"lineNumber\" : 560, \"code\" : \"D=M\"}, { \"lineNumber\" : 561, \"code\" : \"@SP\"}, { \"lineNumber\" : 562, \"code\" : \"A=M\"}, { \"lineNumber\" : 563, \"code\" : \"M=D\"}, { \"lineNumber\" : 564, \"code\" : \"@SP\"}, { \"lineNumber\" : 565, \"code\" : \"M=M-1\"}, { \"lineNumber\" : null, \"code\" : \"//##Normal Number(1)##\"}, { \"lineNumber\" : null, \"code\" : \"// [THIS] <- 1\"}, { \"lineNumber\" : 566, \"code\" : \"@1\"}, { \"lineNumber\" : 567, \"code\" : \"D=A\"}, { \"lineNumber\" : 568, \"code\" : \"@THIS\"}, { \"lineNumber\" : 569, \"code\" : \"M=D\"}, { \"lineNumber\" : null, \"code\" : \"// Pop [THAT]\"}, { \"lineNumber\" : 570, \"code\" : \"@SP\"}, { \"lineNumber\" : 571, \"code\" : \"AM=M+1\"}, { \"lineNumber\" : 572, \"code\" : \"D=M\"}, { \"lineNumber\" : 573, \"code\" : \"@THAT\"}, { \"lineNumber\" : 574, \"code\" : \"M=D\"}, { \"lineNumber\" : null, \"code\" : \"// [THIS] <- [THAT] + [THIS]\"}, { \"lineNumber\" : 575, \"code\" : \"@THAT\"}, { \"lineNumber\" : 576, \"code\" : \"D=M\"}, { \"lineNumber\" : 577, \"code\" : \"@THIS\"}, { \"lineNumber\" : 578, \"code\" : \"D=D+M\"}, { \"lineNumber\" : 579, \"code\" : \"M=D\"}, { \"lineNumber\" : null, \"code\" : \"// Pop [THAT]\"}, { \"lineNumber\" : 580, \"code\" : \"@SP\"}, { \"lineNumber\" : 581, \"code\" : \"AM=M+1\"}, { \"lineNumber\" : 582, \"code\" : \"D=M\"}, { \"lineNumber\" : 583, \"code\" : \"@THAT\"}, { \"lineNumber\" : 584, \"code\" : \"M=D\"}, { \"lineNumber\" : null, \"code\" : \"// [THIS] <- [THAT] + [THIS]\"}, { \"lineNumber\" : 585, \"code\" : \"@THAT\"}, { \"lineNumber\" : 586, \"code\" : \"D=M\"}, { \"lineNumber\" : 587, \"code\" : \"@THIS\"}, { \"lineNumber\" : 588, \"code\" : \"D=D+M\"}, { \"lineNumber\" : 589, \"code\" : \"M=D\"}, { \"lineNumber\" : 590, \"code\" : \"@THIS\"}, { \"lineNumber\" : 591, \"code\" : \"A=M\"}, { \"lineNumber\" : 592, \"code\" : \"D=M\"}, { \"lineNumber\" : 593, \"code\" : \"@THIS\"}, { \"lineNumber\" : 594, \"code\" : \"M=D\"}, { \"lineNumber\" : null, \"code\" : \"// Pop [THAT]\"}, { \"lineNumber\" : 595, \"code\" : \"@SP\"}, { \"lineNumber\" : 596, \"code\" : \"AM=M+1\"}, { \"lineNumber\" : 597, \"code\" : \"D=M\"}, { \"lineNumber\" : 598, \"code\" : \"@THAT\"}, { \"lineNumber\" : 599, \"code\" : \"M=D\"}, { \"lineNumber\" : null, \"code\" : \"//##start-compare-18##\"}, { \"lineNumber\" : 600, \"code\" : \"@THAT\"}, { \"lineNumber\" : 601, \"code\" : \"D=M\"}, { \"lineNumber\" : 602, \"code\" : \"@THIS\"}, { \"lineNumber\" : 603, \"code\" : \"D=D-M\"}, { \"lineNumber\" : 604, \"code\" : \"@.TRUE.18\"}, { \"lineNumber\" : 605, \"code\" : \"D;JGT\"}, { \"lineNumber\" : 606, \"code\" : \"@THIS\"}, { \"lineNumber\" : 607, \"code\" : \"M=0\"}, { \"lineNumber\" : 608, \"code\" : \"D=M\"}, { \"lineNumber\" : 609, \"code\" : \"@.FALSE.18\"}, { \"lineNumber\" : 610, \"code\" : \"D;JEQ\"}, { \"lineNumber\" : null, \"code\" : \"  (.TRUE.18)\"}, { \"lineNumber\" : 611, \"code\" : \"@THIS\"}, { \"lineNumber\" : 612, \"code\" : \"M=1\"}, { \"lineNumber\" : null, \"code\" : \"  (.FALSE.18)\"}, { \"lineNumber\" : null, \"code\" : \"//##end-compare-18##\"}, { \"lineNumber\" : 613, \"code\" : \"@THIS\"}, { \"lineNumber\" : 614, \"code\" : \"D=M\"}, { \"lineNumber\" : 615, \"code\" : \"@.endif.17\"}, { \"lineNumber\" : 616, \"code\" : \"D;JEQ\"}, { \"lineNumber\" : null, \"code\" : \"//## if-body-17 ##\"}, { \"lineNumber\" : null, \"code\" : \"// [THIS] <- [.global.list]\"}, { \"lineNumber\" : 617, \"code\" : \"@.global.list\"}, { \"lineNumber\" : 618, \"code\" : \"D=M\"}, { \"lineNumber\" : 619, \"code\" : \"@THIS\"}, { \"lineNumber\" : 620, \"code\" : \"M=D\"}, { \"lineNumber\" : null, \"code\" : \"// Push [THIS]\"}, { \"lineNumber\" : 621, \"code\" : \"@THIS\"}, { \"lineNumber\" : 622, \"code\" : \"D=M\"}, { \"lineNumber\" : 623, \"code\" : \"@SP\"}, { \"lineNumber\" : 624, \"code\" : \"A=M\"}, { \"lineNumber\" : 625, \"code\" : \"M=D\"}, { \"lineNumber\" : 626, \"code\" : \"@SP\"}, { \"lineNumber\" : 627, \"code\" : \"M=M-1\"}, { \"lineNumber\" : null, \"code\" : \"// [THIS] <- [.global.i]\"}, { \"lineNumber\" : 628, \"code\" : \"@.global.i\"}, { \"lineNumber\" : 629, \"code\" : \"D=M\"}, { \"lineNumber\" : 630, \"code\" : \"@THIS\"}, { \"lineNumber\" : 631, \"code\" : \"M=D\"}, { \"lineNumber\" : null, \"code\" : \"// Pop [THAT]\"}, { \"lineNumber\" : 632, \"code\" : \"@SP\"}, { \"lineNumber\" : 633, \"code\" : \"AM=M+1\"}, { \"lineNumber\" : 634, \"code\" : \"D=M\"}, { \"lineNumber\" : 635, \"code\" : \"@THAT\"}, { \"lineNumber\" : 636, \"code\" : \"M=D\"}, { \"lineNumber\" : null, \"code\" : \"// [THIS] <- [THAT] + [THIS]\"}, { \"lineNumber\" : 637, \"code\" : \"@THAT\"}, { \"lineNumber\" : 638, \"code\" : \"D=M\"}, { \"lineNumber\" : 639, \"code\" : \"@THIS\"}, { \"lineNumber\" : 640, \"code\" : \"D=D+M\"}, { \"lineNumber\" : 641, \"code\" : \"M=D\"}, { \"lineNumber\" : 642, \"code\" : \"@THIS\"}, { \"lineNumber\" : 643, \"code\" : \"A=M\"}, { \"lineNumber\" : 644, \"code\" : \"D=M\"}, { \"lineNumber\" : 645, \"code\" : \"@THIS\"}, { \"lineNumber\" : 646, \"code\" : \"M=D\"}, { \"lineNumber\" : null, \"code\" : \"// [.global.temp] <- [THIS]\"}, { \"lineNumber\" : 647, \"code\" : \"@THIS\"}, { \"lineNumber\" : 648, \"code\" : \"D=M\"}, { \"lineNumber\" : 649, \"code\" : \"@.global.temp\"}, { \"lineNumber\" : 650, \"code\" : \"M=D\"}, { \"lineNumber\" : null, \"code\" : \"// [THIS] <- [.global.list]\"}, { \"lineNumber\" : 651, \"code\" : \"@.global.list\"}, { \"lineNumber\" : 652, \"code\" : \"D=M\"}, { \"lineNumber\" : 653, \"code\" : \"@THIS\"}, { \"lineNumber\" : 654, \"code\" : \"M=D\"}, { \"lineNumber\" : null, \"code\" : \"// Push [THIS]\"}, { \"lineNumber\" : 655, \"code\" : \"@THIS\"}, { \"lineNumber\" : 656, \"code\" : \"D=M\"}, { \"lineNumber\" : 657, \"code\" : \"@SP\"}, { \"lineNumber\" : 658, \"code\" : \"A=M\"}, { \"lineNumber\" : 659, \"code\" : \"M=D\"}, { \"lineNumber\" : 660, \"code\" : \"@SP\"}, { \"lineNumber\" : 661, \"code\" : \"M=M-1\"}, { \"lineNumber\" : null, \"code\" : \"// [THIS] <- [.global.i]\"}, { \"lineNumber\" : 662, \"code\" : \"@.global.i\"}, { \"lineNumber\" : 663, \"code\" : \"D=M\"}, { \"lineNumber\" : 664, \"code\" : \"@THIS\"}, { \"lineNumber\" : 665, \"code\" : \"M=D\"}, { \"lineNumber\" : null, \"code\" : \"// Pop [THAT]\"}, { \"lineNumber\" : 666, \"code\" : \"@SP\"}, { \"lineNumber\" : 667, \"code\" : \"AM=M+1\"}, { \"lineNumber\" : 668, \"code\" : \"D=M\"}, { \"lineNumber\" : 669, \"code\" : \"@THAT\"}, { \"lineNumber\" : 670, \"code\" : \"M=D\"}, { \"lineNumber\" : null, \"code\" : \"// [THIS] <- [THAT] + [THIS]\"}, { \"lineNumber\" : 671, \"code\" : \"@THAT\"}, { \"lineNumber\" : 672, \"code\" : \"D=M\"}, { \"lineNumber\" : 673, \"code\" : \"@THIS\"}, { \"lineNumber\" : 674, \"code\" : \"D=D+M\"}, { \"lineNumber\" : 675, \"code\" : \"M=D\"}, { \"lineNumber\" : null, \"code\" : \"// Push [THIS]\"}, { \"lineNumber\" : 676, \"code\" : \"@THIS\"}, { \"lineNumber\" : 677, \"code\" : \"D=M\"}, { \"lineNumber\" : 678, \"code\" : \"@SP\"}, { \"lineNumber\" : 679, \"code\" : \"A=M\"}, { \"lineNumber\" : 680, \"code\" : \"M=D\"}, { \"lineNumber\" : 681, \"code\" : \"@SP\"}, { \"lineNumber\" : 682, \"code\" : \"M=M-1\"}, { \"lineNumber\" : null, \"code\" : \"// [THIS] <- [.global.list]\"}, { \"lineNumber\" : 683, \"code\" : \"@.global.list\"}, { \"lineNumber\" : 684, \"code\" : \"D=M\"}, { \"lineNumber\" : 685, \"code\" : \"@THIS\"}, { \"lineNumber\" : 686, \"code\" : \"M=D\"}, { \"lineNumber\" : null, \"code\" : \"// Push [THIS]\"}, { \"lineNumber\" : 687, \"code\" : \"@THIS\"}, { \"lineNumber\" : 688, \"code\" : \"D=M\"}, { \"lineNumber\" : 689, \"code\" : \"@SP\"}, { \"lineNumber\" : 690, \"code\" : \"A=M\"}, { \"lineNumber\" : 691, \"code\" : \"M=D\"}, { \"lineNumber\" : 692, \"code\" : \"@SP\"}, { \"lineNumber\" : 693, \"code\" : \"M=M-1\"}, { \"lineNumber\" : null, \"code\" : \"// [THIS] <- [.global.i]\"}, { \"lineNumber\" : 694, \"code\" : \"@.global.i\"}, { \"lineNumber\" : 695, \"code\" : \"D=M\"}, { \"lineNumber\" : 696, \"code\" : \"@THIS\"}, { \"lineNumber\" : 697, \"code\" : \"M=D\"}, { \"lineNumber\" : null, \"code\" : \"// Pop [THAT]\"}, { \"lineNumber\" : 698, \"code\" : \"@SP\"}, { \"lineNumber\" : 699, \"code\" : \"AM=M+1\"}, { \"lineNumber\" : 700, \"code\" : \"D=M\"}, { \"lineNumber\" : 701, \"code\" : \"@THAT\"}, { \"lineNumber\" : 702, \"code\" : \"M=D\"}, { \"lineNumber\" : null, \"code\" : \"// [THIS] <- [THAT] + [THIS]\"}, { \"lineNumber\" : 703, \"code\" : \"@THAT\"}, { \"lineNumber\" : 704, \"code\" : \"D=M\"}, { \"lineNumber\" : 705, \"code\" : \"@THIS\"}, { \"lineNumber\" : 706, \"code\" : \"D=D+M\"}, { \"lineNumber\" : 707, \"code\" : \"M=D\"}, { \"lineNumber\" : null, \"code\" : \"// Push [THIS]\"}, { \"lineNumber\" : 708, \"code\" : \"@THIS\"}, { \"lineNumber\" : 709, \"code\" : \"D=M\"}, { \"lineNumber\" : 710, \"code\" : \"@SP\"}, { \"lineNumber\" : 711, \"code\" : \"A=M\"}, { \"lineNumber\" : 712, \"code\" : \"M=D\"}, { \"lineNumber\" : 713, \"code\" : \"@SP\"}, { \"lineNumber\" : 714, \"code\" : \"M=M-1\"}, { \"lineNumber\" : null, \"code\" : \"//##Normal Number(1)##\"}, { \"lineNumber\" : null, \"code\" : \"// [THIS] <- 1\"}, { \"lineNumber\" : 715, \"code\" : \"@1\"}, { \"lineNumber\" : 716, \"code\" : \"D=A\"}, { \"lineNumber\" : 717, \"code\" : \"@THIS\"}, { \"lineNumber\" : 718, \"code\" : \"M=D\"}, { \"lineNumber\" : null, \"code\" : \"// Pop [THAT]\"}, { \"lineNumber\" : 719, \"code\" : \"@SP\"}, { \"lineNumber\" : 720, \"code\" : \"AM=M+1\"}, { \"lineNumber\" : 721, \"code\" : \"D=M\"}, { \"lineNumber\" : 722, \"code\" : \"@THAT\"}, { \"lineNumber\" : 723, \"code\" : \"M=D\"}, { \"lineNumber\" : null, \"code\" : \"// [THIS] <- [THAT] + [THIS]\"}, { \"lineNumber\" : 724, \"code\" : \"@THAT\"}, { \"lineNumber\" : 725, \"code\" : \"D=M\"}, { \"lineNumber\" : 726, \"code\" : \"@THIS\"}, { \"lineNumber\" : 727, \"code\" : \"D=D+M\"}, { \"lineNumber\" : 728, \"code\" : \"M=D\"}, { \"lineNumber\" : 729, \"code\" : \"@THIS\"}, { \"lineNumber\" : 730, \"code\" : \"A=M\"}, { \"lineNumber\" : 731, \"code\" : \"D=M\"}, { \"lineNumber\" : 732, \"code\" : \"@THIS\"}, { \"lineNumber\" : 733, \"code\" : \"M=D\"}, { \"lineNumber\" : null, \"code\" : \"// Pop [THAT]\"}, { \"lineNumber\" : 734, \"code\" : \"@SP\"}, { \"lineNumber\" : 735, \"code\" : \"AM=M+1\"}, { \"lineNumber\" : 736, \"code\" : \"D=M\"}, { \"lineNumber\" : 737, \"code\" : \"@THAT\"}, { \"lineNumber\" : 738, \"code\" : \"M=D\"}, { \"lineNumber\" : 739, \"code\" : \"@THIS\"}, { \"lineNumber\" : 740, \"code\" : \"D=M\"}, { \"lineNumber\" : 741, \"code\" : \"@THAT\"}, { \"lineNumber\" : 742, \"code\" : \"A=M\"}, { \"lineNumber\" : 743, \"code\" : \"M=D\"}, { \"lineNumber\" : null, \"code\" : \"// [THIS] <- [.global.list]\"}, { \"lineNumber\" : 744, \"code\" : \"@.global.list\"}, { \"lineNumber\" : 745, \"code\" : \"D=M\"}, { \"lineNumber\" : 746, \"code\" : \"@THIS\"}, { \"lineNumber\" : 747, \"code\" : \"M=D\"}, { \"lineNumber\" : null, \"code\" : \"// Push [THIS]\"}, { \"lineNumber\" : 748, \"code\" : \"@THIS\"}, { \"lineNumber\" : 749, \"code\" : \"D=M\"}, { \"lineNumber\" : 750, \"code\" : \"@SP\"}, { \"lineNumber\" : 751, \"code\" : \"A=M\"}, { \"lineNumber\" : 752, \"code\" : \"M=D\"}, { \"lineNumber\" : 753, \"code\" : \"@SP\"}, { \"lineNumber\" : 754, \"code\" : \"M=M-1\"}, { \"lineNumber\" : null, \"code\" : \"// [THIS] <- [.global.i]\"}, { \"lineNumber\" : 755, \"code\" : \"@.global.i\"}, { \"lineNumber\" : 756, \"code\" : \"D=M\"}, { \"lineNumber\" : 757, \"code\" : \"@THIS\"}, { \"lineNumber\" : 758, \"code\" : \"M=D\"}, { \"lineNumber\" : null, \"code\" : \"// Pop [THAT]\"}, { \"lineNumber\" : 759, \"code\" : \"@SP\"}, { \"lineNumber\" : 760, \"code\" : \"AM=M+1\"}, { \"lineNumber\" : 761, \"code\" : \"D=M\"}, { \"lineNumber\" : 762, \"code\" : \"@THAT\"}, { \"lineNumber\" : 763, \"code\" : \"M=D\"}, { \"lineNumber\" : null, \"code\" : \"// [THIS] <- [THAT] + [THIS]\"}, { \"lineNumber\" : 764, \"code\" : \"@THAT\"}, { \"lineNumber\" : 765, \"code\" : \"D=M\"}, { \"lineNumber\" : 766, \"code\" : \"@THIS\"}, { \"lineNumber\" : 767, \"code\" : \"D=D+M\"}, { \"lineNumber\" : 768, \"code\" : \"M=D\"}, { \"lineNumber\" : null, \"code\" : \"// Push [THIS]\"}, { \"lineNumber\" : 769, \"code\" : \"@THIS\"}, { \"lineNumber\" : 770, \"code\" : \"D=M\"}, { \"lineNumber\" : 771, \"code\" : \"@SP\"}, { \"lineNumber\" : 772, \"code\" : \"A=M\"}, { \"lineNumber\" : 773, \"code\" : \"M=D\"}, { \"lineNumber\" : 774, \"code\" : \"@SP\"}, { \"lineNumber\" : 775, \"code\" : \"M=M-1\"}, { \"lineNumber\" : null, \"code\" : \"//##Normal Number(1)##\"}, { \"lineNumber\" : null, \"code\" : \"// [THIS] <- 1\"}, { \"lineNumber\" : 776, \"code\" : \"@1\"}, { \"lineNumber\" : 777, \"code\" : \"D=A\"}, { \"lineNumber\" : 778, \"code\" : \"@THIS\"}, { \"lineNumber\" : 779, \"code\" : \"M=D\"}, { \"lineNumber\" : null, \"code\" : \"// Pop [THAT]\"}, { \"lineNumber\" : 780, \"code\" : \"@SP\"}, { \"lineNumber\" : 781, \"code\" : \"AM=M+1\"}, { \"lineNumber\" : 782, \"code\" : \"D=M\"}, { \"lineNumber\" : 783, \"code\" : \"@THAT\"}, { \"lineNumber\" : 784, \"code\" : \"M=D\"}, { \"lineNumber\" : null, \"code\" : \"// [THIS] <- [THAT] + [THIS]\"}, { \"lineNumber\" : 785, \"code\" : \"@THAT\"}, { \"lineNumber\" : 786, \"code\" : \"D=M\"}, { \"lineNumber\" : 787, \"code\" : \"@THIS\"}, { \"lineNumber\" : 788, \"code\" : \"D=D+M\"}, { \"lineNumber\" : 789, \"code\" : \"M=D\"}, { \"lineNumber\" : null, \"code\" : \"// Push [THIS]\"}, { \"lineNumber\" : 790, \"code\" : \"@THIS\"}, { \"lineNumber\" : 791, \"code\" : \"D=M\"}, { \"lineNumber\" : 792, \"code\" : \"@SP\"}, { \"lineNumber\" : 793, \"code\" : \"A=M\"}, { \"lineNumber\" : 794, \"code\" : \"M=D\"}, { \"lineNumber\" : 795, \"code\" : \"@SP\"}, { \"lineNumber\" : 796, \"code\" : \"M=M-1\"}, { \"lineNumber\" : null, \"code\" : \"// [THIS] <- [.global.temp]\"}, { \"lineNumber\" : 797, \"code\" : \"@.global.temp\"}, { \"lineNumber\" : 798, \"code\" : \"D=M\"}, { \"lineNumber\" : 799, \"code\" : \"@THIS\"}, { \"lineNumber\" : 800, \"code\" : \"M=D\"}, { \"lineNumber\" : null, \"code\" : \"// Pop [THAT]\"}, { \"lineNumber\" : 801, \"code\" : \"@SP\"}, { \"lineNumber\" : 802, \"code\" : \"AM=M+1\"}, { \"lineNumber\" : 803, \"code\" : \"D=M\"}, { \"lineNumber\" : 804, \"code\" : \"@THAT\"}, { \"lineNumber\" : 805, \"code\" : \"M=D\"}, { \"lineNumber\" : 806, \"code\" : \"@THIS\"}, { \"lineNumber\" : 807, \"code\" : \"D=M\"}, { \"lineNumber\" : 808, \"code\" : \"@THAT\"}, { \"lineNumber\" : 809, \"code\" : \"A=M\"}, { \"lineNumber\" : 810, \"code\" : \"M=D\"}, { \"lineNumber\" : null, \"code\" : \"//## end-if-17 ##\"}, { \"lineNumber\" : null, \"code\" : \"  (.endif.17)\"}, { \"lineNumber\" : null, \"code\" : \"// [THIS] <- [.global.i]\"}, { \"lineNumber\" : 811, \"code\" : \"@.global.i\"}, { \"lineNumber\" : 812, \"code\" : \"D=M\"}, { \"lineNumber\" : 813, \"code\" : \"@THIS\"}, { \"lineNumber\" : 814, \"code\" : \"M=D\"}, { \"lineNumber\" : null, \"code\" : \"// Push [THIS]\"}, { \"lineNumber\" : 815, \"code\" : \"@THIS\"}, { \"lineNumber\" : 816, \"code\" : \"D=M\"}, { \"lineNumber\" : 817, \"code\" : \"@SP\"}, { \"lineNumber\" : 818, \"code\" : \"A=M\"}, { \"lineNumber\" : 819, \"code\" : \"M=D\"}, { \"lineNumber\" : 820, \"code\" : \"@SP\"}, { \"lineNumber\" : 821, \"code\" : \"M=M-1\"}, { \"lineNumber\" : null, \"code\" : \"//##Normal Number(1)##\"}, { \"lineNumber\" : null, \"code\" : \"// [THIS] <- 1\"}, { \"lineNumber\" : 822, \"code\" : \"@1\"}, { \"lineNumber\" : 823, \"code\" : \"D=A\"}, { \"lineNumber\" : 824, \"code\" : \"@THIS\"}, { \"lineNumber\" : 825, \"code\" : \"M=D\"}, { \"lineNumber\" : null, \"code\" : \"// Pop [THAT]\"}, { \"lineNumber\" : 826, \"code\" : \"@SP\"}, { \"lineNumber\" : 827, \"code\" : \"AM=M+1\"}, { \"lineNumber\" : 828, \"code\" : \"D=M\"}, { \"lineNumber\" : 829, \"code\" : \"@THAT\"}, { \"lineNumber\" : 830, \"code\" : \"M=D\"}, { \"lineNumber\" : null, \"code\" : \"// [THIS] <- [THAT] + [THIS]\"}, { \"lineNumber\" : 831, \"code\" : \"@THAT\"}, { \"lineNumber\" : 832, \"code\" : \"D=M\"}, { \"lineNumber\" : 833, \"code\" : \"@THIS\"}, { \"lineNumber\" : 834, \"code\" : \"D=D+M\"}, { \"lineNumber\" : 835, \"code\" : \"M=D\"}, { \"lineNumber\" : null, \"code\" : \"// [.global.i] <- [THIS]\"}, { \"lineNumber\" : 836, \"code\" : \"@THIS\"}, { \"lineNumber\" : 837, \"code\" : \"D=M\"}, { \"lineNumber\" : 838, \"code\" : \"@.global.i\"}, { \"lineNumber\" : 839, \"code\" : \"M=D\"}, { \"lineNumber\" : 840, \"code\" : \"@.WHILE.15\"}, { \"lineNumber\" : 841, \"code\" : \"0;JMP\"}, { \"lineNumber\" : null, \"code\" : \"  (.OUT.15)\"}, { \"lineNumber\" : null, \"code\" : \"// [THIS] <- [.global.last]\"}, { \"lineNumber\" : 842, \"code\" : \"@.global.last\"}, { \"lineNumber\" : 843, \"code\" : \"D=M\"}, { \"lineNumber\" : 844, \"code\" : \"@THIS\"}, { \"lineNumber\" : 845, \"code\" : \"M=D\"}, { \"lineNumber\" : null, \"code\" : \"// Push [THIS]\"}, { \"lineNumber\" : 846, \"code\" : \"@THIS\"}, { \"lineNumber\" : 847, \"code\" : \"D=M\"}, { \"lineNumber\" : 848, \"code\" : \"@SP\"}, { \"lineNumber\" : 849, \"code\" : \"A=M\"}, { \"lineNumber\" : 850, \"code\" : \"M=D\"}, { \"lineNumber\" : 851, \"code\" : \"@SP\"}, { \"lineNumber\" : 852, \"code\" : \"M=M-1\"}, { \"lineNumber\" : null, \"code\" : \"//##Normal Number(1)##\"}, { \"lineNumber\" : null, \"code\" : \"// [THIS] <- 1\"}, { \"lineNumber\" : 853, \"code\" : \"@1\"}, { \"lineNumber\" : 854, \"code\" : \"D=A\"}, { \"lineNumber\" : 855, \"code\" : \"@THIS\"}, { \"lineNumber\" : 856, \"code\" : \"M=D\"}, { \"lineNumber\" : null, \"code\" : \"// Pop [THAT]\"}, { \"lineNumber\" : 857, \"code\" : \"@SP\"}, { \"lineNumber\" : 858, \"code\" : \"AM=M+1\"}, { \"lineNumber\" : 859, \"code\" : \"D=M\"}, { \"lineNumber\" : 860, \"code\" : \"@THAT\"}, { \"lineNumber\" : 861, \"code\" : \"M=D\"}, { \"lineNumber\" : null, \"code\" : \"// [THIS] <- [THAT] - [THIS]\"}, { \"lineNumber\" : 862, \"code\" : \"@THAT\"}, { \"lineNumber\" : 863, \"code\" : \"D=M\"}, { \"lineNumber\" : 864, \"code\" : \"@THIS\"}, { \"lineNumber\" : 865, \"code\" : \"D=D-M\"}, { \"lineNumber\" : 866, \"code\" : \"M=D\"}, { \"lineNumber\" : null, \"code\" : \"// [.global.last] <- [THIS]\"}, { \"lineNumber\" : 867, \"code\" : \"@THIS\"}, { \"lineNumber\" : 868, \"code\" : \"D=M\"}, { \"lineNumber\" : 869, \"code\" : \"@.global.last\"}, { \"lineNumber\" : 870, \"code\" : \"M=D\"}, { \"lineNumber\" : 871, \"code\" : \"@.WHILE.13\"}, { \"lineNumber\" : 872, \"code\" : \"0;JMP\"}, { \"lineNumber\" : null, \"code\" : \"  (.OUT.13)\"}]\n",
              "  simulator.memoryWriteCallbacks.push(memUpdateCallback);\n",
              "  simulator.memoryWriteCallbacks.push(screenUpdateCallback);\n",
              "\n",
              "  var app = new Vue({\n",
              "    el: '#sim-ui',\n",
              "    data: {\n",
              "      simulator: simulator\n",
              "    }\n",
              "  });\n",
              "</script>\n"
            ]
          },
          "metadata": {}
        }
      ]
    },
    {
      "cell_type": "markdown",
      "metadata": {
        "id": "LO17_fkY-Znu"
      },
      "source": [
        "## Test cases"
      ]
    },
    {
      "cell_type": "code",
      "metadata": {
        "id": "I8EUIzWa-bHd",
        "colab": {
          "base_uri": "https://localhost:8080/"
        },
        "outputId": "02ae30a8-e16f-4fbf-88ca-8dd0dc2701ed"
      },
      "source": [
        "# DO NOT MODIFY\n",
        "\n",
        "class TestJoy30(TestJoy23):\n",
        "\n",
        "    JOY_COMPILER = Joy30\n",
        "\n",
        "    def test_precedence_unary_over_mul(self):\n",
        "        self.compile_and_run(self.JOY_COMPILER.RUNTIME + '''\n",
        "            let a1 = -5*2;\n",
        "            let a2 = (-5)*2;\n",
        "            let c = 50;\n",
        "            let d = &c;\n",
        "            let e1 = *d*2;\n",
        "            let e2 = (*d)*2;\n",
        "            let f1 = !0*1;\n",
        "            let f2 = (!0)*1;\n",
        "            let *10 = (a1==a2);\n",
        "            let *11 = (e1==e2);\n",
        "            let *12 = (f1==f2);\n",
        "        ''')\n",
        "        self.assertEqual(self.cpu.ram[10], 1)\n",
        "        self.assertEqual(self.cpu.ram[11], 1)\n",
        "        self.assertEqual(self.cpu.ram[12], 1)\n",
        "        self.assertEqual(self.cpu.ram[0], 0x3fff)\n",
        "\n",
        "    def test_precedence_mul_over_add(self):\n",
        "        self.compile_and_run(self.JOY_COMPILER.RUNTIME + '''\n",
        "            let a1 = 5+2*3+9;\n",
        "            let a2 = 5+(2*3)+9;\n",
        "            let b1 = 5+8/3+9;\n",
        "            let b2 = 5+(8/3)+9;\n",
        "            let c1 = 5+8%3+9;\n",
        "            let c2 = 5+(8%3)+9;\n",
        "            let *10 = (a1==a2);\n",
        "            let *11 = (b1==b2);\n",
        "            let *12 = (c1==c2);\n",
        "        ''')\n",
        "        self.assertEqual(self.cpu.ram[10], 1)\n",
        "        self.assertEqual(self.cpu.ram[11], 1)\n",
        "        self.assertEqual(self.cpu.ram[12], 1)\n",
        "        self.assertEqual(self.cpu.ram[0], 0x3fff)\n",
        "\n",
        "    def test_precedence_add_over_compare(self):\n",
        "        self.compile_and_run(self.JOY_COMPILER.RUNTIME + '''\n",
        "            let a1 = 5+2 < 7+4;\n",
        "            let a2 = (5+2) < (7+4);\n",
        "            let *10 = (a1==a2);\n",
        "        ''')\n",
        "        self.assertEqual(self.cpu.ram[10], 1)\n",
        "        self.assertEqual(self.cpu.ram[0], 0x3fff)\n",
        "\n",
        "    def test_precedence_compare_over_and(self):\n",
        "        self.compile_and_run(self.JOY_COMPILER.RUNTIME + '''\n",
        "            let a1 = 2 < 7 && 8 > 3;\n",
        "            let a2 = (2<7) && (8>3);\n",
        "            let *10 = (a1==a2);\n",
        "        ''')\n",
        "        self.assertEqual(self.cpu.ram[10], 1)\n",
        "        self.assertEqual(self.cpu.ram[0], 0x3fff)\n",
        "\n",
        "    def test_precedence_and_over_or(self):\n",
        "        self.compile_and_run(self.JOY_COMPILER.RUNTIME + '''\n",
        "            let a1 = 1 && 2 || 3 && 0;\n",
        "            let a2 = (1&&2) || (3&&0);\n",
        "            let *10 = (a1==a2);\n",
        "        ''')\n",
        "        self.assertEqual(self.cpu.ram[10], 1)\n",
        "        self.assertEqual(self.cpu.ram[0], 0x3fff)\n",
        "\n",
        "    def test_precedence_left_assoc(self):\n",
        "        self.compile_and_run(self.JOY_COMPILER.RUNTIME + '''\n",
        "            let a1 = 10-3-2;\n",
        "            let a2 = (10-3)-2;\n",
        "            let *10 = (a1==a2);\n",
        "            let b1 = 256/2/2;\n",
        "            let b2 = (256/2)/2;\n",
        "            let *11 = (b1==b2);\n",
        "        ''')\n",
        "        self.assertEqual(self.cpu.ram[10], 1)\n",
        "        self.assertEqual(self.cpu.ram[11], 1)\n",
        "        self.assertEqual(self.cpu.ram[0], 0x3fff)\n",
        "\n",
        "    def test_bubble_sort(self):\n",
        "        self.compile_and_run(self.JOY_COMPILER.RUNTIME + '''\n",
        "            // โค้ด bubble-sort โดย อ.เฉลิมศักดิ์\n",
        "            let list = [5, 9, 10, 3, 7, 2];\n",
        "            let n = 6;\n",
        "            let *10 = list;\n",
        "            let last = n-1;\n",
        "            until last < 0 {\n",
        "                let i = 0;\n",
        "                until i > last-1 {\n",
        "                    if *(list+i) > *(list+(i+1)) {\n",
        "                        // swap list[i] and list[i+1]\n",
        "                        let temp = *(list+i);\n",
        "                        let *(list+i) = *(list+i+1);\n",
        "                        let *(list+i+1) = temp;\n",
        "                    }\n",
        "                    let i = i+1;\n",
        "                }\n",
        "                let last = last-1;\n",
        "            }\n",
        "        ''')\n",
        "        list_addr = self.cpu.ram[10]\n",
        "        self.assertEqual(self.cpu.ram[list_addr:list_addr+6],\n",
        "                         [2, 3, 5, 7, 9, 10])\n",
        "        self.assertEqual(self.cpu.ram[0], 0x3fff)\n",
        "\n",
        "run_test(TestJoy30)"
      ],
      "execution_count": null,
      "outputs": [
        {
          "output_type": "stream",
          "name": "stderr",
          "text": [
            "................................................................\n",
            "----------------------------------------------------------------------\n",
            "Ran 64 tests in 7.947s\n",
            "\n",
            "OK\n"
          ]
        }
      ]
    },
    {
      "cell_type": "markdown",
      "metadata": {
        "id": "YLW4ugcp-QgG"
      },
      "source": [
        "# ตัวอย่างโค้ดส่งท้าย\n",
        "\n",
        "รันโค้ดด้านล่างในซิมูเลชันและลองกดคีย์ใด ๆ (บนคีย์จำลอง) เพื่อเปลี่ยนไอคอนแสดงผลจากรูปหน้าบึ้งเป็นหน้ายิ้ม"
      ]
    },
    {
      "cell_type": "code",
      "metadata": {
        "id": "Dw1GUHKEf9J4",
        "colab": {
          "base_uri": "https://localhost:8080/",
          "height": 662
        },
        "outputId": "6232756b-27a3-4728-dc0f-cc26161bbf95"
      },
      "source": [
        "asm = Joy30().compile(Joy30.RUNTIME + '''\n",
        "\n",
        "    let SMILE = 0;\n",
        "    let SAD = 1;\n",
        "    let FONT = [\n",
        "        [ 0b0000011110000000,\n",
        "          0b0001100001100000,\n",
        "          0b0010000000010000,\n",
        "          0b0100000000001000,\n",
        "          0b0100100001001000,\n",
        "          0b1001010010100100,\n",
        "          0b1000000000000100,\n",
        "          0b1000000000000100,\n",
        "          0b1000100001000100,\n",
        "          0b0100100001001000,\n",
        "          0b0100011110001000,\n",
        "          0b0010000000010000,\n",
        "          0b0001100001100000,\n",
        "          0b0000011110000000,\n",
        "          0b0000000000000000,\n",
        "          0b0000000000000000 ],\n",
        "\n",
        "        [ 0b0000011110000000,\n",
        "          0b0001100001100000,\n",
        "          0b0010000000010000,\n",
        "          0b0100000000001000,\n",
        "          0b0101010010101000,\n",
        "          0b1000100001000100,\n",
        "          0b1000000000000100,\n",
        "          0b1000000000000100,\n",
        "          0b1000011110000100,\n",
        "          0b0100100001001000,\n",
        "          0b0100000000001000,\n",
        "          0b0010000000010000,\n",
        "          0b0001100001100000,\n",
        "          0b0000011110000000,\n",
        "          0b0000000000000000,\n",
        "          0b0000000000000000 ]\n",
        "    ];\n",
        "\n",
        "    def draw_char(x, y, char) {\n",
        "        global FONT;\n",
        "        let count = 0;\n",
        "        let row = 0;\n",
        "        let pos = y*32*16+x;\n",
        "        let glyph = *(FONT+char);\n",
        "        while count < 16 {\n",
        "            let *(0x4000+pos+row) = *(glyph+count);\n",
        "            let count = count + 1;\n",
        "            let row = row + 32;\n",
        "        }\n",
        "    }\n",
        "\n",
        "    while 1 {\n",
        "        if *0x6000 {\n",
        "            let icon = SMILE;\n",
        "            let x = 1 ;\n",
        "        }\n",
        "        else {\n",
        "            let icon = SAD;\n",
        "        }\n",
        "        let count = 5;\n",
        "        while count {\n",
        "            draw_char(5+count, 5, icon);\n",
        "            let count = count - 1;\n",
        "        }\n",
        "    }\n",
        "''')\n",
        "\n",
        "assemble_and_simulate(asm)"
      ],
      "execution_count": null,
      "outputs": [
        {
          "output_type": "stream",
          "name": "stdout",
          "text": [
            "None\n"
          ]
        },
        {
          "output_type": "display_data",
          "data": {
            "text/html": [
              "\n",
              "<link rel=\"stylesheet\" href=\"https://jittat.gitlab.io/hacksim/sim.css\">\n",
              "<div id=\"sim-ui\">\n",
              "  <simulator v-bind:simulator=\"simulator\" memory-display-slots=\"30\" screen-scale=\"1\" v-bind:light-weight=\"false\" fastest-steps=\"103\"/>\n",
              "</div>\n",
              "\n",
              "<script>var exports = {};</script>\n",
              "<script src=\"https://cdn.jsdelivr.net/npm/vue/dist/vue.js\"></script>\n",
              "<script src=\"https://jittat.gitlab.io/hacksim/simulator.js\"></script>\n",
              "<script src=\"https://jittat.gitlab.io/hacksim/simulator-ui.js\"></script>\n",
              "\n",
              "<script>\n",
              "  var simulator = new HackSimulator();\n",
              "simulator.loadInstructions([16383,60432,0,58120,91,60039,0,60432,3,58120,3,64528,16,58120,17,64528,3,58120,3,64528,82,58114,16,64528,3,58120,3,64528,0,64544,58120,0,64648,18,64528,3,58120,0,65000,64528,4,58120,4,64528,3,61584,58120,3,64528,16,58120,17,64528,3,58120,3,64528,0,64544,58120,0,64648,1,60432,3,58120,0,65000,64528,4,58120,4,64528,3,62672,58120,3,64528,17,58120,14,60039,16,64528,3,58120,88,60039,1,64544,60039,207,60039,0,60432,3,58120,3,64528,19,58120,20,64528,3,58120,3,64528,0,64544,58120,0,64648,21,64528,3,58120,0,65000,64528,4,58120,4,64528,3,62672,132,58116,3,60040,64528,134,58114,3,61384,3,64528,198,58117,19,64528,3,58120,3,64528,0,64544,58120,0,64648,1,60432,3,58120,0,65000,64528,4,58120,4,64528,3,61584,58120,3,64528,19,58120,20,64528,3,58120,3,64528,0,64544,58120,0,64648,21,64528,3,58120,0,65000,64528,4,58120,4,64528,3,62672,58120,3,64528,20,58120,101,60039,19,64528,3,58120,204,60039,1,64544,60039,286,60039,22,64528,3,58120,3,64528,0,64544,58120,0,64648,23,64528,3,58120,0,65000,64528,4,58120,4,64528,3,62672,240,58116,3,60040,64528,242,58114,3,61384,3,64528,277,58117,22,64528,3,58120,3,64528,0,64544,58120,0,64648,23,64528,3,58120,0,65000,64528,4,58120,4,64528,3,62672,58120,3,64528,22,58120,209,60039,22,64528,3,58120,283,60039,1,64544,60039,0,60432,3,58120,3,64528,24,58120,1,60432,3,58120,3,64528,25,58120,26,27,28,29,30,31,32,33,34,35,36,37,38,39,40,41,42,43,1920,60432,3,58120,64528,28,58120,6240,60432,3,58120,64528,29,58120,8208,60432,3,58120,64528,30,58120,16392,60432,3,58120,64528,31,58120,18504,60432,3,58120,64528,32,58120,32767,60432,3,58120,5284,60432,3,61576,64968,64528,33,58120,32767,60432,3,58120,4,60432,3,61576,64968,64528,34,58120,32767,60432,3,58120,4,60432,3,61576,64968,64528,35,58120,32767,60432,3,58120,2116,60432,3,61576,64968,64528,36,58120,18504,60432,3,58120,64528,37,58120,18312,60432,3,58120,64528,38,58120,8208,60432,3,58120,64528,39,58120,6240,60432,3,58120,64528,40,58120,1920,60432,3,58120,64528,41,58120,0,60432,3,58120,64528,42,58120,0,60432,3,58120,64528,43,58120,28,60432,3,58120,64528,26,58120,44,45,46,47,48,49,50,51,52,53,54,55,56,57,58,59,1920,60432,3,58120,64528,44,58120,6240,60432,3,58120,64528,45,58120,8208,60432,3,58120,64528,46,58120,16392,60432,3,58120,64528,47,58120,21672,60432,3,58120,64528,48,58120,32767,60432,3,58120,2116,60432,3,61576,64968,64528,49,58120,32767,60432,3,58120,4,60432,3,61576,64968,64528,50,58120,32767,60432,3,58120,4,60432,3,61576,64968,64528,51,58120,32767,60432,3,58120,1924,60432,3,61576,64968,64528,52,58120,18504,60432,3,58120,64528,53,58120,16392,60432,3,58120,64528,54,58120,8208,60432,3,58120,64528,55,58120,6240,60432,3,58120,64528,56,58120,1920,60432,3,58120,64528,57,58120,0,60432,3,58120,64528,58,58120,0,60432,3,58120,64528,59,58120,44,60432,3,58120,64528,27,58120,26,60432,3,58120,3,64528,60,58120,956,60039,0,60432,3,58120,3,64528,61,58120,0,60432,3,58120,3,64528,62,58120,63,64528,3,58120,3,64528,18,58120,32,60432,3,58120,3,64528,17,58120,1,64528,0,64544,58120,0,64648,669,60432,1,58120,6,60039,0,65000,64528,1,58120,3,64528,18,58120,16,60432,3,58120,3,64528,17,58120,1,64528,0,64544,58120,0,64648,699,60432,1,58120,6,60039,0,65000,64528,1,58120,3,64528,0,64544,58120,0,64648,64,64528,3,58120,0,65000,64528,4,58120,4,64528,3,61584,58120,3,64528,65,58120,60,64528,3,58120,3,64528,0,64544,58120,0,64648,66,64528,3,58120,0,65000,64528,4,58120,4,64528,3,61584,58120,3,64544,64528,3,58120,3,64528,67,58120,61,64528,3,58120,3,64528,0,64544,58120,0,64648,16,60432,3,58120,0,65000,64528,4,58120,4,64528,3,62672,794,58116,3,60040,64528,796,58114,3,61384,3,64528,953,58114,16384,60432,3,58120,3,64528,0,64544,58120,0,64648,65,64528,3,58120,0,65000,64528,4,58120,4,64528,3,61584,58120,3,64528,0,64544,58120,0,64648,62,64528,3,58120,0,65000,64528,4,58120,4,64528,3,61584,58120,3,64528,0,64544,58120,0,64648,67,64528,3,58120,3,64528,0,64544,58120,0,64648,61,64528,3,58120,0,65000,64528,4,58120,4,64528,3,61584,58120,3,64544,64528,3,58120,0,65000,64528,4,58120,3,64528,4,64544,58120,61,64528,3,58120,3,64528,0,64544,58120,0,64648,1,60432,3,58120,0,65000,64528,4,58120,4,64528,3,61584,58120,3,64528,61,58120,62,64528,3,58120,3,64528,0,64544,58120,0,64648,32,60432,3,58120,0,65000,64528,4,58120,4,64528,3,61584,58120,3,64528,62,58120,763,60039,1,64544,60039,1,60432,3,58120,3,64528,1126,58114,24576,60432,3,58120,3,64544,64528,3,58120,24576,60432,3,58120,3,64544,64528,3,58120,3,64528,1006,58114,24,64528,3,58120,3,64528,68,58120,1,60432,3,58120,3,64528,69,58120,3,64528,1014,60039,25,64528,3,58120,3,64528,68,58120,5,60432,3,58120,3,64528,70,58120,70,64528,3,58120,3,64528,1124,58114,5,60432,3,58120,3,64528,0,64544,58120,0,64648,70,64528,3,58120,0,65000,64528,4,58120,4,64528,3,61584,58120,3,64528,64,58120,5,60432,3,58120,3,64528,63,58120,68,64528,3,58120,3,64528,66,58120,1,64528,0,64544,58120,0,64648,1088,60432,1,58120,624,60039,0,65000,64528,1,58120,70,64528,3,58120,3,64528,0,64544,58120,0,64648,1,60432,3,58120,0,65000,64528,4,58120,4,64528,3,62672,58120,3,64528,70,58120,1022,60039,956,60039]);\n",
              "simulator.sourceCode = [{ \"lineNumber\" : null, \"code\" : \"// init stack (SP <- 16383)\"}, { \"lineNumber\" : 0, \"code\" : \"@16383\"}, { \"lineNumber\" : 1, \"code\" : \"D=A\"}, { \"lineNumber\" : 2, \"code\" : \"@SP\"}, { \"lineNumber\" : 3, \"code\" : \"M=D\"}, { \"lineNumber\" : 4, \"code\" : \"@._mul.end\"}, { \"lineNumber\" : 5, \"code\" : \"0;JMP\"}, { \"lineNumber\" : null, \"code\" : \"  (._mul.start)\"}, { \"lineNumber\" : null, \"code\" : \"//##Normal Number(0)##\"}, { \"lineNumber\" : null, \"code\" : \"// [THIS] <- 0\"}, { \"lineNumber\" : 6, \"code\" : \"@0\"}, { \"lineNumber\" : 7, \"code\" : \"D=A\"}, { \"lineNumber\" : 8, \"code\" : \"@THIS\"}, { \"lineNumber\" : 9, \"code\" : \"M=D\"}, { \"lineNumber\" : null, \"code\" : \"// [.local._mul.result] <- [THIS]\"}, { \"lineNumber\" : 10, \"code\" : \"@THIS\"}, { \"lineNumber\" : 11, \"code\" : \"D=M\"}, { \"lineNumber\" : 12, \"code\" : \"@.local._mul.result\"}, { \"lineNumber\" : 13, \"code\" : \"M=D\"}, { \"lineNumber\" : null, \"code\" : \"  (.WHILE.1)\"}, { \"lineNumber\" : null, \"code\" : \"// [THIS] <- [.local._mul.b]\"}, { \"lineNumber\" : 14, \"code\" : \"@.local._mul.b\"}, { \"lineNumber\" : 15, \"code\" : \"D=M\"}, { \"lineNumber\" : 16, \"code\" : \"@THIS\"}, { \"lineNumber\" : 17, \"code\" : \"M=D\"}, { \"lineNumber\" : 18, \"code\" : \"@THIS\"}, { \"lineNumber\" : 19, \"code\" : \"D=M\"}, { \"lineNumber\" : 20, \"code\" : \"@.OUT.1\"}, { \"lineNumber\" : 21, \"code\" : \"D;JEQ\"}, { \"lineNumber\" : null, \"code\" : \"//##While-body-1\"}, { \"lineNumber\" : null, \"code\" : \"// [THIS] <- [.local._mul.result]\"}, { \"lineNumber\" : 22, \"code\" : \"@.local._mul.result\"}, { \"lineNumber\" : 23, \"code\" : \"D=M\"}, { \"lineNumber\" : 24, \"code\" : \"@THIS\"}, { \"lineNumber\" : 25, \"code\" : \"M=D\"}, { \"lineNumber\" : null, \"code\" : \"// Push [THIS]\"}, { \"lineNumber\" : 26, \"code\" : \"@THIS\"}, { \"lineNumber\" : 27, \"code\" : \"D=M\"}, { \"lineNumber\" : 28, \"code\" : \"@SP\"}, { \"lineNumber\" : 29, \"code\" : \"A=M\"}, { \"lineNumber\" : 30, \"code\" : \"M=D\"}, { \"lineNumber\" : 31, \"code\" : \"@SP\"}, { \"lineNumber\" : 32, \"code\" : \"M=M-1\"}, { \"lineNumber\" : null, \"code\" : \"// [THIS] <- [.local._mul.a]\"}, { \"lineNumber\" : 33, \"code\" : \"@.local._mul.a\"}, { \"lineNumber\" : 34, \"code\" : \"D=M\"}, { \"lineNumber\" : 35, \"code\" : \"@THIS\"}, { \"lineNumber\" : 36, \"code\" : \"M=D\"}, { \"lineNumber\" : null, \"code\" : \"// Pop [THAT]\"}, { \"lineNumber\" : 37, \"code\" : \"@SP\"}, { \"lineNumber\" : 38, \"code\" : \"AM=M+1\"}, { \"lineNumber\" : 39, \"code\" : \"D=M\"}, { \"lineNumber\" : 40, \"code\" : \"@THAT\"}, { \"lineNumber\" : 41, \"code\" : \"M=D\"}, { \"lineNumber\" : null, \"code\" : \"// [THIS] <- [THAT] + [THIS]\"}, { \"lineNumber\" : 42, \"code\" : \"@THAT\"}, { \"lineNumber\" : 43, \"code\" : \"D=M\"}, { \"lineNumber\" : 44, \"code\" : \"@THIS\"}, { \"lineNumber\" : 45, \"code\" : \"D=D+M\"}, { \"lineNumber\" : 46, \"code\" : \"M=D\"}, { \"lineNumber\" : null, \"code\" : \"// [.local._mul.result] <- [THIS]\"}, { \"lineNumber\" : 47, \"code\" : \"@THIS\"}, { \"lineNumber\" : 48, \"code\" : \"D=M\"}, { \"lineNumber\" : 49, \"code\" : \"@.local._mul.result\"}, { \"lineNumber\" : 50, \"code\" : \"M=D\"}, { \"lineNumber\" : null, \"code\" : \"// [THIS] <- [.local._mul.b]\"}, { \"lineNumber\" : 51, \"code\" : \"@.local._mul.b\"}, { \"lineNumber\" : 52, \"code\" : \"D=M\"}, { \"lineNumber\" : 53, \"code\" : \"@THIS\"}, { \"lineNumber\" : 54, \"code\" : \"M=D\"}, { \"lineNumber\" : null, \"code\" : \"// Push [THIS]\"}, { \"lineNumber\" : 55, \"code\" : \"@THIS\"}, { \"lineNumber\" : 56, \"code\" : \"D=M\"}, { \"lineNumber\" : 57, \"code\" : \"@SP\"}, { \"lineNumber\" : 58, \"code\" : \"A=M\"}, { \"lineNumber\" : 59, \"code\" : \"M=D\"}, { \"lineNumber\" : 60, \"code\" : \"@SP\"}, { \"lineNumber\" : 61, \"code\" : \"M=M-1\"}, { \"lineNumber\" : null, \"code\" : \"//##Normal Number(1)##\"}, { \"lineNumber\" : null, \"code\" : \"// [THIS] <- 1\"}, { \"lineNumber\" : 62, \"code\" : \"@1\"}, { \"lineNumber\" : 63, \"code\" : \"D=A\"}, { \"lineNumber\" : 64, \"code\" : \"@THIS\"}, { \"lineNumber\" : 65, \"code\" : \"M=D\"}, { \"lineNumber\" : null, \"code\" : \"// Pop [THAT]\"}, { \"lineNumber\" : 66, \"code\" : \"@SP\"}, { \"lineNumber\" : 67, \"code\" : \"AM=M+1\"}, { \"lineNumber\" : 68, \"code\" : \"D=M\"}, { \"lineNumber\" : 69, \"code\" : \"@THAT\"}, { \"lineNumber\" : 70, \"code\" : \"M=D\"}, { \"lineNumber\" : null, \"code\" : \"// [THIS] <- [THAT] - [THIS]\"}, { \"lineNumber\" : 71, \"code\" : \"@THAT\"}, { \"lineNumber\" : 72, \"code\" : \"D=M\"}, { \"lineNumber\" : 73, \"code\" : \"@THIS\"}, { \"lineNumber\" : 74, \"code\" : \"D=D-M\"}, { \"lineNumber\" : 75, \"code\" : \"M=D\"}, { \"lineNumber\" : null, \"code\" : \"// [.local._mul.b] <- [THIS]\"}, { \"lineNumber\" : 76, \"code\" : \"@THIS\"}, { \"lineNumber\" : 77, \"code\" : \"D=M\"}, { \"lineNumber\" : 78, \"code\" : \"@.local._mul.b\"}, { \"lineNumber\" : 79, \"code\" : \"M=D\"}, { \"lineNumber\" : 80, \"code\" : \"@.WHILE.1\"}, { \"lineNumber\" : 81, \"code\" : \"0;JMP\"}, { \"lineNumber\" : null, \"code\" : \"  (.OUT.1)\"}, { \"lineNumber\" : null, \"code\" : \"// [THIS] <- [.local._mul.result]\"}, { \"lineNumber\" : 82, \"code\" : \"@.local._mul.result\"}, { \"lineNumber\" : 83, \"code\" : \"D=M\"}, { \"lineNumber\" : 84, \"code\" : \"@THIS\"}, { \"lineNumber\" : 85, \"code\" : \"M=D\"}, { \"lineNumber\" : 86, \"code\" : \"@._mul.return\"}, { \"lineNumber\" : 87, \"code\" : \"0;JMP\"}, { \"lineNumber\" : null, \"code\" : \"  (._mul.return)\"}, { \"lineNumber\" : 88, \"code\" : \"@LCL\"}, { \"lineNumber\" : 89, \"code\" : \"A=M\"}, { \"lineNumber\" : 90, \"code\" : \"0;JMP\"}, { \"lineNumber\" : null, \"code\" : \"  (._mul.end)\"}, { \"lineNumber\" : 91, \"code\" : \"@._div.end\"}, { \"lineNumber\" : 92, \"code\" : \"0;JMP\"}, { \"lineNumber\" : null, \"code\" : \"  (._div.start)\"}, { \"lineNumber\" : null, \"code\" : \"//##Normal Number(0)##\"}, { \"lineNumber\" : null, \"code\" : \"// [THIS] <- 0\"}, { \"lineNumber\" : 93, \"code\" : \"@0\"}, { \"lineNumber\" : 94, \"code\" : \"D=A\"}, { \"lineNumber\" : 95, \"code\" : \"@THIS\"}, { \"lineNumber\" : 96, \"code\" : \"M=D\"}, { \"lineNumber\" : null, \"code\" : \"// [.local._div.result] <- [THIS]\"}, { \"lineNumber\" : 97, \"code\" : \"@THIS\"}, { \"lineNumber\" : 98, \"code\" : \"D=M\"}, { \"lineNumber\" : 99, \"code\" : \"@.local._div.result\"}, { \"lineNumber\" : 100, \"code\" : \"M=D\"}, { \"lineNumber\" : null, \"code\" : \"  (.WHILE.2)\"}, { \"lineNumber\" : null, \"code\" : \"// [THIS] <- [.local._div.a]\"}, { \"lineNumber\" : 101, \"code\" : \"@.local._div.a\"}, { \"lineNumber\" : 102, \"code\" : \"D=M\"}, { \"lineNumber\" : 103, \"code\" : \"@THIS\"}, { \"lineNumber\" : 104, \"code\" : \"M=D\"}, { \"lineNumber\" : null, \"code\" : \"// Push [THIS]\"}, { \"lineNumber\" : 105, \"code\" : \"@THIS\"}, { \"lineNumber\" : 106, \"code\" : \"D=M\"}, { \"lineNumber\" : 107, \"code\" : \"@SP\"}, { \"lineNumber\" : 108, \"code\" : \"A=M\"}, { \"lineNumber\" : 109, \"code\" : \"M=D\"}, { \"lineNumber\" : 110, \"code\" : \"@SP\"}, { \"lineNumber\" : 111, \"code\" : \"M=M-1\"}, { \"lineNumber\" : null, \"code\" : \"// [THIS] <- [.local._div.b]\"}, { \"lineNumber\" : 112, \"code\" : \"@.local._div.b\"}, { \"lineNumber\" : 113, \"code\" : \"D=M\"}, { \"lineNumber\" : 114, \"code\" : \"@THIS\"}, { \"lineNumber\" : 115, \"code\" : \"M=D\"}, { \"lineNumber\" : null, \"code\" : \"// Pop [THAT]\"}, { \"lineNumber\" : 116, \"code\" : \"@SP\"}, { \"lineNumber\" : 117, \"code\" : \"AM=M+1\"}, { \"lineNumber\" : 118, \"code\" : \"D=M\"}, { \"lineNumber\" : 119, \"code\" : \"@THAT\"}, { \"lineNumber\" : 120, \"code\" : \"M=D\"}, { \"lineNumber\" : null, \"code\" : \"//##start-compare-3##\"}, { \"lineNumber\" : 121, \"code\" : \"@THAT\"}, { \"lineNumber\" : 122, \"code\" : \"D=M\"}, { \"lineNumber\" : 123, \"code\" : \"@THIS\"}, { \"lineNumber\" : 124, \"code\" : \"D=D-M\"}, { \"lineNumber\" : 125, \"code\" : \"@.TRUE.3\"}, { \"lineNumber\" : 126, \"code\" : \"D;JLT\"}, { \"lineNumber\" : 127, \"code\" : \"@THIS\"}, { \"lineNumber\" : 128, \"code\" : \"M=0\"}, { \"lineNumber\" : 129, \"code\" : \"D=M\"}, { \"lineNumber\" : 130, \"code\" : \"@.FALSE.3\"}, { \"lineNumber\" : 131, \"code\" : \"D;JEQ\"}, { \"lineNumber\" : null, \"code\" : \"  (.TRUE.3)\"}, { \"lineNumber\" : 132, \"code\" : \"@THIS\"}, { \"lineNumber\" : 133, \"code\" : \"M=1\"}, { \"lineNumber\" : null, \"code\" : \"  (.FALSE.3)\"}, { \"lineNumber\" : null, \"code\" : \"//##end-compare-3##\"}, { \"lineNumber\" : 134, \"code\" : \"@THIS\"}, { \"lineNumber\" : 135, \"code\" : \"D=M\"}, { \"lineNumber\" : 136, \"code\" : \"@.OUT.2\"}, { \"lineNumber\" : 137, \"code\" : \"D;JNE\"}, { \"lineNumber\" : null, \"code\" : \"//##While-body-2\"}, { \"lineNumber\" : null, \"code\" : \"// [THIS] <- [.local._div.result]\"}, { \"lineNumber\" : 138, \"code\" : \"@.local._div.result\"}, { \"lineNumber\" : 139, \"code\" : \"D=M\"}, { \"lineNumber\" : 140, \"code\" : \"@THIS\"}, { \"lineNumber\" : 141, \"code\" : \"M=D\"}, { \"lineNumber\" : null, \"code\" : \"// Push [THIS]\"}, { \"lineNumber\" : 142, \"code\" : \"@THIS\"}, { \"lineNumber\" : 143, \"code\" : \"D=M\"}, { \"lineNumber\" : 144, \"code\" : \"@SP\"}, { \"lineNumber\" : 145, \"code\" : \"A=M\"}, { \"lineNumber\" : 146, \"code\" : \"M=D\"}, { \"lineNumber\" : 147, \"code\" : \"@SP\"}, { \"lineNumber\" : 148, \"code\" : \"M=M-1\"}, { \"lineNumber\" : null, \"code\" : \"//##Normal Number(1)##\"}, { \"lineNumber\" : null, \"code\" : \"// [THIS] <- 1\"}, { \"lineNumber\" : 149, \"code\" : \"@1\"}, { \"lineNumber\" : 150, \"code\" : \"D=A\"}, { \"lineNumber\" : 151, \"code\" : \"@THIS\"}, { \"lineNumber\" : 152, \"code\" : \"M=D\"}, { \"lineNumber\" : null, \"code\" : \"// Pop [THAT]\"}, { \"lineNumber\" : 153, \"code\" : \"@SP\"}, { \"lineNumber\" : 154, \"code\" : \"AM=M+1\"}, { \"lineNumber\" : 155, \"code\" : \"D=M\"}, { \"lineNumber\" : 156, \"code\" : \"@THAT\"}, { \"lineNumber\" : 157, \"code\" : \"M=D\"}, { \"lineNumber\" : null, \"code\" : \"// [THIS] <- [THAT] + [THIS]\"}, { \"lineNumber\" : 158, \"code\" : \"@THAT\"}, { \"lineNumber\" : 159, \"code\" : \"D=M\"}, { \"lineNumber\" : 160, \"code\" : \"@THIS\"}, { \"lineNumber\" : 161, \"code\" : \"D=D+M\"}, { \"lineNumber\" : 162, \"code\" : \"M=D\"}, { \"lineNumber\" : null, \"code\" : \"// [.local._div.result] <- [THIS]\"}, { \"lineNumber\" : 163, \"code\" : \"@THIS\"}, { \"lineNumber\" : 164, \"code\" : \"D=M\"}, { \"lineNumber\" : 165, \"code\" : \"@.local._div.result\"}, { \"lineNumber\" : 166, \"code\" : \"M=D\"}, { \"lineNumber\" : null, \"code\" : \"// [THIS] <- [.local._div.a]\"}, { \"lineNumber\" : 167, \"code\" : \"@.local._div.a\"}, { \"lineNumber\" : 168, \"code\" : \"D=M\"}, { \"lineNumber\" : 169, \"code\" : \"@THIS\"}, { \"lineNumber\" : 170, \"code\" : \"M=D\"}, { \"lineNumber\" : null, \"code\" : \"// Push [THIS]\"}, { \"lineNumber\" : 171, \"code\" : \"@THIS\"}, { \"lineNumber\" : 172, \"code\" : \"D=M\"}, { \"lineNumber\" : 173, \"code\" : \"@SP\"}, { \"lineNumber\" : 174, \"code\" : \"A=M\"}, { \"lineNumber\" : 175, \"code\" : \"M=D\"}, { \"lineNumber\" : 176, \"code\" : \"@SP\"}, { \"lineNumber\" : 177, \"code\" : \"M=M-1\"}, { \"lineNumber\" : null, \"code\" : \"// [THIS] <- [.local._div.b]\"}, { \"lineNumber\" : 178, \"code\" : \"@.local._div.b\"}, { \"lineNumber\" : 179, \"code\" : \"D=M\"}, { \"lineNumber\" : 180, \"code\" : \"@THIS\"}, { \"lineNumber\" : 181, \"code\" : \"M=D\"}, { \"lineNumber\" : null, \"code\" : \"// Pop [THAT]\"}, { \"lineNumber\" : 182, \"code\" : \"@SP\"}, { \"lineNumber\" : 183, \"code\" : \"AM=M+1\"}, { \"lineNumber\" : 184, \"code\" : \"D=M\"}, { \"lineNumber\" : 185, \"code\" : \"@THAT\"}, { \"lineNumber\" : 186, \"code\" : \"M=D\"}, { \"lineNumber\" : null, \"code\" : \"// [THIS] <- [THAT] - [THIS]\"}, { \"lineNumber\" : 187, \"code\" : \"@THAT\"}, { \"lineNumber\" : 188, \"code\" : \"D=M\"}, { \"lineNumber\" : 189, \"code\" : \"@THIS\"}, { \"lineNumber\" : 190, \"code\" : \"D=D-M\"}, { \"lineNumber\" : 191, \"code\" : \"M=D\"}, { \"lineNumber\" : null, \"code\" : \"// [.local._div.a] <- [THIS]\"}, { \"lineNumber\" : 192, \"code\" : \"@THIS\"}, { \"lineNumber\" : 193, \"code\" : \"D=M\"}, { \"lineNumber\" : 194, \"code\" : \"@.local._div.a\"}, { \"lineNumber\" : 195, \"code\" : \"M=D\"}, { \"lineNumber\" : 196, \"code\" : \"@.WHILE.2\"}, { \"lineNumber\" : 197, \"code\" : \"0;JMP\"}, { \"lineNumber\" : null, \"code\" : \"  (.OUT.2)\"}, { \"lineNumber\" : null, \"code\" : \"// [THIS] <- [.local._div.result]\"}, { \"lineNumber\" : 198, \"code\" : \"@.local._div.result\"}, { \"lineNumber\" : 199, \"code\" : \"D=M\"}, { \"lineNumber\" : 200, \"code\" : \"@THIS\"}, { \"lineNumber\" : 201, \"code\" : \"M=D\"}, { \"lineNumber\" : 202, \"code\" : \"@._div.return\"}, { \"lineNumber\" : 203, \"code\" : \"0;JMP\"}, { \"lineNumber\" : null, \"code\" : \"  (._div.return)\"}, { \"lineNumber\" : 204, \"code\" : \"@LCL\"}, { \"lineNumber\" : 205, \"code\" : \"A=M\"}, { \"lineNumber\" : 206, \"code\" : \"0;JMP\"}, { \"lineNumber\" : null, \"code\" : \"  (._div.end)\"}, { \"lineNumber\" : 207, \"code\" : \"@._mod.end\"}, { \"lineNumber\" : 208, \"code\" : \"0;JMP\"}, { \"lineNumber\" : null, \"code\" : \"  (._mod.start)\"}, { \"lineNumber\" : null, \"code\" : \"  (.WHILE.4)\"}, { \"lineNumber\" : null, \"code\" : \"// [THIS] <- [.local._mod.a]\"}, { \"lineNumber\" : 209, \"code\" : \"@.local._mod.a\"}, { \"lineNumber\" : 210, \"code\" : \"D=M\"}, { \"lineNumber\" : 211, \"code\" : \"@THIS\"}, { \"lineNumber\" : 212, \"code\" : \"M=D\"}, { \"lineNumber\" : null, \"code\" : \"// Push [THIS]\"}, { \"lineNumber\" : 213, \"code\" : \"@THIS\"}, { \"lineNumber\" : 214, \"code\" : \"D=M\"}, { \"lineNumber\" : 215, \"code\" : \"@SP\"}, { \"lineNumber\" : 216, \"code\" : \"A=M\"}, { \"lineNumber\" : 217, \"code\" : \"M=D\"}, { \"lineNumber\" : 218, \"code\" : \"@SP\"}, { \"lineNumber\" : 219, \"code\" : \"M=M-1\"}, { \"lineNumber\" : null, \"code\" : \"// [THIS] <- [.local._mod.b]\"}, { \"lineNumber\" : 220, \"code\" : \"@.local._mod.b\"}, { \"lineNumber\" : 221, \"code\" : \"D=M\"}, { \"lineNumber\" : 222, \"code\" : \"@THIS\"}, { \"lineNumber\" : 223, \"code\" : \"M=D\"}, { \"lineNumber\" : null, \"code\" : \"// Pop [THAT]\"}, { \"lineNumber\" : 224, \"code\" : \"@SP\"}, { \"lineNumber\" : 225, \"code\" : \"AM=M+1\"}, { \"lineNumber\" : 226, \"code\" : \"D=M\"}, { \"lineNumber\" : 227, \"code\" : \"@THAT\"}, { \"lineNumber\" : 228, \"code\" : \"M=D\"}, { \"lineNumber\" : null, \"code\" : \"//##start-compare-5##\"}, { \"lineNumber\" : 229, \"code\" : \"@THAT\"}, { \"lineNumber\" : 230, \"code\" : \"D=M\"}, { \"lineNumber\" : 231, \"code\" : \"@THIS\"}, { \"lineNumber\" : 232, \"code\" : \"D=D-M\"}, { \"lineNumber\" : 233, \"code\" : \"@.TRUE.5\"}, { \"lineNumber\" : 234, \"code\" : \"D;JLT\"}, { \"lineNumber\" : 235, \"code\" : \"@THIS\"}, { \"lineNumber\" : 236, \"code\" : \"M=0\"}, { \"lineNumber\" : 237, \"code\" : \"D=M\"}, { \"lineNumber\" : 238, \"code\" : \"@.FALSE.5\"}, { \"lineNumber\" : 239, \"code\" : \"D;JEQ\"}, { \"lineNumber\" : null, \"code\" : \"  (.TRUE.5)\"}, { \"lineNumber\" : 240, \"code\" : \"@THIS\"}, { \"lineNumber\" : 241, \"code\" : \"M=1\"}, { \"lineNumber\" : null, \"code\" : \"  (.FALSE.5)\"}, { \"lineNumber\" : null, \"code\" : \"//##end-compare-5##\"}, { \"lineNumber\" : 242, \"code\" : \"@THIS\"}, { \"lineNumber\" : 243, \"code\" : \"D=M\"}, { \"lineNumber\" : 244, \"code\" : \"@.OUT.4\"}, { \"lineNumber\" : 245, \"code\" : \"D;JNE\"}, { \"lineNumber\" : null, \"code\" : \"//##While-body-4\"}, { \"lineNumber\" : null, \"code\" : \"// [THIS] <- [.local._mod.a]\"}, { \"lineNumber\" : 246, \"code\" : \"@.local._mod.a\"}, { \"lineNumber\" : 247, \"code\" : \"D=M\"}, { \"lineNumber\" : 248, \"code\" : \"@THIS\"}, { \"lineNumber\" : 249, \"code\" : \"M=D\"}, { \"lineNumber\" : null, \"code\" : \"// Push [THIS]\"}, { \"lineNumber\" : 250, \"code\" : \"@THIS\"}, { \"lineNumber\" : 251, \"code\" : \"D=M\"}, { \"lineNumber\" : 252, \"code\" : \"@SP\"}, { \"lineNumber\" : 253, \"code\" : \"A=M\"}, { \"lineNumber\" : 254, \"code\" : \"M=D\"}, { \"lineNumber\" : 255, \"code\" : \"@SP\"}, { \"lineNumber\" : 256, \"code\" : \"M=M-1\"}, { \"lineNumber\" : null, \"code\" : \"// [THIS] <- [.local._mod.b]\"}, { \"lineNumber\" : 257, \"code\" : \"@.local._mod.b\"}, { \"lineNumber\" : 258, \"code\" : \"D=M\"}, { \"lineNumber\" : 259, \"code\" : \"@THIS\"}, { \"lineNumber\" : 260, \"code\" : \"M=D\"}, { \"lineNumber\" : null, \"code\" : \"// Pop [THAT]\"}, { \"lineNumber\" : 261, \"code\" : \"@SP\"}, { \"lineNumber\" : 262, \"code\" : \"AM=M+1\"}, { \"lineNumber\" : 263, \"code\" : \"D=M\"}, { \"lineNumber\" : 264, \"code\" : \"@THAT\"}, { \"lineNumber\" : 265, \"code\" : \"M=D\"}, { \"lineNumber\" : null, \"code\" : \"// [THIS] <- [THAT] - [THIS]\"}, { \"lineNumber\" : 266, \"code\" : \"@THAT\"}, { \"lineNumber\" : 267, \"code\" : \"D=M\"}, { \"lineNumber\" : 268, \"code\" : \"@THIS\"}, { \"lineNumber\" : 269, \"code\" : \"D=D-M\"}, { \"lineNumber\" : 270, \"code\" : \"M=D\"}, { \"lineNumber\" : null, \"code\" : \"// [.local._mod.a] <- [THIS]\"}, { \"lineNumber\" : 271, \"code\" : \"@THIS\"}, { \"lineNumber\" : 272, \"code\" : \"D=M\"}, { \"lineNumber\" : 273, \"code\" : \"@.local._mod.a\"}, { \"lineNumber\" : 274, \"code\" : \"M=D\"}, { \"lineNumber\" : 275, \"code\" : \"@.WHILE.4\"}, { \"lineNumber\" : 276, \"code\" : \"0;JMP\"}, { \"lineNumber\" : null, \"code\" : \"  (.OUT.4)\"}, { \"lineNumber\" : null, \"code\" : \"// [THIS] <- [.local._mod.a]\"}, { \"lineNumber\" : 277, \"code\" : \"@.local._mod.a\"}, { \"lineNumber\" : 278, \"code\" : \"D=M\"}, { \"lineNumber\" : 279, \"code\" : \"@THIS\"}, { \"lineNumber\" : 280, \"code\" : \"M=D\"}, { \"lineNumber\" : 281, \"code\" : \"@._mod.return\"}, { \"lineNumber\" : 282, \"code\" : \"0;JMP\"}, { \"lineNumber\" : null, \"code\" : \"  (._mod.return)\"}, { \"lineNumber\" : 283, \"code\" : \"@LCL\"}, { \"lineNumber\" : 284, \"code\" : \"A=M\"}, { \"lineNumber\" : 285, \"code\" : \"0;JMP\"}, { \"lineNumber\" : null, \"code\" : \"  (._mod.end)\"}, { \"lineNumber\" : null, \"code\" : \"//##Normal Number(0)##\"}, { \"lineNumber\" : null, \"code\" : \"// [THIS] <- 0\"}, { \"lineNumber\" : 286, \"code\" : \"@0\"}, { \"lineNumber\" : 287, \"code\" : \"D=A\"}, { \"lineNumber\" : 288, \"code\" : \"@THIS\"}, { \"lineNumber\" : 289, \"code\" : \"M=D\"}, { \"lineNumber\" : null, \"code\" : \"// [.global.SMILE] <- [THIS]\"}, { \"lineNumber\" : 290, \"code\" : \"@THIS\"}, { \"lineNumber\" : 291, \"code\" : \"D=M\"}, { \"lineNumber\" : 292, \"code\" : \"@.global.SMILE\"}, { \"lineNumber\" : 293, \"code\" : \"M=D\"}, { \"lineNumber\" : null, \"code\" : \"//##Normal Number(1)##\"}, { \"lineNumber\" : null, \"code\" : \"// [THIS] <- 1\"}, { \"lineNumber\" : 294, \"code\" : \"@1\"}, { \"lineNumber\" : 295, \"code\" : \"D=A\"}, { \"lineNumber\" : 296, \"code\" : \"@THIS\"}, { \"lineNumber\" : 297, \"code\" : \"M=D\"}, { \"lineNumber\" : null, \"code\" : \"// [.global.SAD] <- [THIS]\"}, { \"lineNumber\" : 298, \"code\" : \"@THIS\"}, { \"lineNumber\" : 299, \"code\" : \"D=M\"}, { \"lineNumber\" : 300, \"code\" : \"@.global.SAD\"}, { \"lineNumber\" : 301, \"code\" : \"M=D\"}, { \"lineNumber\" : 302, \"code\" : \"@.array6.7\"}, { \"lineNumber\" : 303, \"code\" : \"@.array6.8\"}, { \"lineNumber\" : 304, \"code\" : \"@.array9.10\"}, { \"lineNumber\" : 305, \"code\" : \"@.array9.11\"}, { \"lineNumber\" : 306, \"code\" : \"@.array9.12\"}, { \"lineNumber\" : 307, \"code\" : \"@.array9.13\"}, { \"lineNumber\" : 308, \"code\" : \"@.array9.14\"}, { \"lineNumber\" : 309, \"code\" : \"@.array9.15\"}, { \"lineNumber\" : 310, \"code\" : \"@.array9.16\"}, { \"lineNumber\" : 311, \"code\" : \"@.array9.17\"}, { \"lineNumber\" : 312, \"code\" : \"@.array9.18\"}, { \"lineNumber\" : 313, \"code\" : \"@.array9.19\"}, { \"lineNumber\" : 314, \"code\" : \"@.array9.20\"}, { \"lineNumber\" : 315, \"code\" : \"@.array9.21\"}, { \"lineNumber\" : 316, \"code\" : \"@.array9.22\"}, { \"lineNumber\" : 317, \"code\" : \"@.array9.23\"}, { \"lineNumber\" : 318, \"code\" : \"@.array9.24\"}, { \"lineNumber\" : 319, \"code\" : \"@.array9.25\"}, { \"lineNumber\" : null, \"code\" : \"//##Normal Number(1920)##\"}, { \"lineNumber\" : null, \"code\" : \"// [THIS] <- 1920\"}, { \"lineNumber\" : 320, \"code\" : \"@1920\"}, { \"lineNumber\" : 321, \"code\" : \"D=A\"}, { \"lineNumber\" : 322, \"code\" : \"@THIS\"}, { \"lineNumber\" : 323, \"code\" : \"M=D\"}, { \"lineNumber\" : 324, \"code\" : \"D=M\"}, { \"lineNumber\" : 325, \"code\" : \"@.array9.10\"}, { \"lineNumber\" : 326, \"code\" : \"M=D\"}, { \"lineNumber\" : null, \"code\" : \"//##Normal Number(6240)##\"}, { \"lineNumber\" : null, \"code\" : \"// [THIS] <- 6240\"}, { \"lineNumber\" : 327, \"code\" : \"@6240\"}, { \"lineNumber\" : 328, \"code\" : \"D=A\"}, { \"lineNumber\" : 329, \"code\" : \"@THIS\"}, { \"lineNumber\" : 330, \"code\" : \"M=D\"}, { \"lineNumber\" : 331, \"code\" : \"D=M\"}, { \"lineNumber\" : 332, \"code\" : \"@.array9.11\"}, { \"lineNumber\" : 333, \"code\" : \"M=D\"}, { \"lineNumber\" : null, \"code\" : \"//##Normal Number(8208)##\"}, { \"lineNumber\" : null, \"code\" : \"// [THIS] <- 8208\"}, { \"lineNumber\" : 334, \"code\" : \"@8208\"}, { \"lineNumber\" : 335, \"code\" : \"D=A\"}, { \"lineNumber\" : 336, \"code\" : \"@THIS\"}, { \"lineNumber\" : 337, \"code\" : \"M=D\"}, { \"lineNumber\" : 338, \"code\" : \"D=M\"}, { \"lineNumber\" : 339, \"code\" : \"@.array9.12\"}, { \"lineNumber\" : 340, \"code\" : \"M=D\"}, { \"lineNumber\" : null, \"code\" : \"//##Normal Number(16392)##\"}, { \"lineNumber\" : null, \"code\" : \"// [THIS] <- 16392\"}, { \"lineNumber\" : 341, \"code\" : \"@16392\"}, { \"lineNumber\" : 342, \"code\" : \"D=A\"}, { \"lineNumber\" : 343, \"code\" : \"@THIS\"}, { \"lineNumber\" : 344, \"code\" : \"M=D\"}, { \"lineNumber\" : 345, \"code\" : \"D=M\"}, { \"lineNumber\" : 346, \"code\" : \"@.array9.13\"}, { \"lineNumber\" : 347, \"code\" : \"M=D\"}, { \"lineNumber\" : null, \"code\" : \"//##Normal Number(18504)##\"}, { \"lineNumber\" : null, \"code\" : \"// [THIS] <- 18504\"}, { \"lineNumber\" : 348, \"code\" : \"@18504\"}, { \"lineNumber\" : 349, \"code\" : \"D=A\"}, { \"lineNumber\" : 350, \"code\" : \"@THIS\"}, { \"lineNumber\" : 351, \"code\" : \"M=D\"}, { \"lineNumber\" : 352, \"code\" : \"D=M\"}, { \"lineNumber\" : 353, \"code\" : \"@.array9.14\"}, { \"lineNumber\" : 354, \"code\" : \"M=D\"}, { \"lineNumber\" : null, \"code\" : \"//##High Number(38052)##\"}, { \"lineNumber\" : 355, \"code\" : \"@32767\"}, { \"lineNumber\" : 356, \"code\" : \"D=A\"}, { \"lineNumber\" : 357, \"code\" : \"@THIS\"}, { \"lineNumber\" : 358, \"code\" : \"M=D\"}, { \"lineNumber\" : 359, \"code\" : \"@5284\"}, { \"lineNumber\" : 360, \"code\" : \"D=A\"}, { \"lineNumber\" : 361, \"code\" : \"@THIS\"}, { \"lineNumber\" : 362, \"code\" : \"M=D+M\"}, { \"lineNumber\" : 363, \"code\" : \"M=M+1\"}, { \"lineNumber\" : 364, \"code\" : \"D=M\"}, { \"lineNumber\" : 365, \"code\" : \"@.array9.15\"}, { \"lineNumber\" : 366, \"code\" : \"M=D\"}, { \"lineNumber\" : null, \"code\" : \"//##High Number(32772)##\"}, { \"lineNumber\" : 367, \"code\" : \"@32767\"}, { \"lineNumber\" : 368, \"code\" : \"D=A\"}, { \"lineNumber\" : 369, \"code\" : \"@THIS\"}, { \"lineNumber\" : 370, \"code\" : \"M=D\"}, { \"lineNumber\" : 371, \"code\" : \"@4\"}, { \"lineNumber\" : 372, \"code\" : \"D=A\"}, { \"lineNumber\" : 373, \"code\" : \"@THIS\"}, { \"lineNumber\" : 374, \"code\" : \"M=D+M\"}, { \"lineNumber\" : 375, \"code\" : \"M=M+1\"}, { \"lineNumber\" : 376, \"code\" : \"D=M\"}, { \"lineNumber\" : 377, \"code\" : \"@.array9.16\"}, { \"lineNumber\" : 378, \"code\" : \"M=D\"}, { \"lineNumber\" : null, \"code\" : \"//##High Number(32772)##\"}, { \"lineNumber\" : 379, \"code\" : \"@32767\"}, { \"lineNumber\" : 380, \"code\" : \"D=A\"}, { \"lineNumber\" : 381, \"code\" : \"@THIS\"}, { \"lineNumber\" : 382, \"code\" : \"M=D\"}, { \"lineNumber\" : 383, \"code\" : \"@4\"}, { \"lineNumber\" : 384, \"code\" : \"D=A\"}, { \"lineNumber\" : 385, \"code\" : \"@THIS\"}, { \"lineNumber\" : 386, \"code\" : \"M=D+M\"}, { \"lineNumber\" : 387, \"code\" : \"M=M+1\"}, { \"lineNumber\" : 388, \"code\" : \"D=M\"}, { \"lineNumber\" : 389, \"code\" : \"@.array9.17\"}, { \"lineNumber\" : 390, \"code\" : \"M=D\"}, { \"lineNumber\" : null, \"code\" : \"//##High Number(34884)##\"}, { \"lineNumber\" : 391, \"code\" : \"@32767\"}, { \"lineNumber\" : 392, \"code\" : \"D=A\"}, { \"lineNumber\" : 393, \"code\" : \"@THIS\"}, { \"lineNumber\" : 394, \"code\" : \"M=D\"}, { \"lineNumber\" : 395, \"code\" : \"@2116\"}, { \"lineNumber\" : 396, \"code\" : \"D=A\"}, { \"lineNumber\" : 397, \"code\" : \"@THIS\"}, { \"lineNumber\" : 398, \"code\" : \"M=D+M\"}, { \"lineNumber\" : 399, \"code\" : \"M=M+1\"}, { \"lineNumber\" : 400, \"code\" : \"D=M\"}, { \"lineNumber\" : 401, \"code\" : \"@.array9.18\"}, { \"lineNumber\" : 402, \"code\" : \"M=D\"}, { \"lineNumber\" : null, \"code\" : \"//##Normal Number(18504)##\"}, { \"lineNumber\" : null, \"code\" : \"// [THIS] <- 18504\"}, { \"lineNumber\" : 403, \"code\" : \"@18504\"}, { \"lineNumber\" : 404, \"code\" : \"D=A\"}, { \"lineNumber\" : 405, \"code\" : \"@THIS\"}, { \"lineNumber\" : 406, \"code\" : \"M=D\"}, { \"lineNumber\" : 407, \"code\" : \"D=M\"}, { \"lineNumber\" : 408, \"code\" : \"@.array9.19\"}, { \"lineNumber\" : 409, \"code\" : \"M=D\"}, { \"lineNumber\" : null, \"code\" : \"//##Normal Number(18312)##\"}, { \"lineNumber\" : null, \"code\" : \"// [THIS] <- 18312\"}, { \"lineNumber\" : 410, \"code\" : \"@18312\"}, { \"lineNumber\" : 411, \"code\" : \"D=A\"}, { \"lineNumber\" : 412, \"code\" : \"@THIS\"}, { \"lineNumber\" : 413, \"code\" : \"M=D\"}, { \"lineNumber\" : 414, \"code\" : \"D=M\"}, { \"lineNumber\" : 415, \"code\" : \"@.array9.20\"}, { \"lineNumber\" : 416, \"code\" : \"M=D\"}, { \"lineNumber\" : null, \"code\" : \"//##Normal Number(8208)##\"}, { \"lineNumber\" : null, \"code\" : \"// [THIS] <- 8208\"}, { \"lineNumber\" : 417, \"code\" : \"@8208\"}, { \"lineNumber\" : 418, \"code\" : \"D=A\"}, { \"lineNumber\" : 419, \"code\" : \"@THIS\"}, { \"lineNumber\" : 420, \"code\" : \"M=D\"}, { \"lineNumber\" : 421, \"code\" : \"D=M\"}, { \"lineNumber\" : 422, \"code\" : \"@.array9.21\"}, { \"lineNumber\" : 423, \"code\" : \"M=D\"}, { \"lineNumber\" : null, \"code\" : \"//##Normal Number(6240)##\"}, { \"lineNumber\" : null, \"code\" : \"// [THIS] <- 6240\"}, { \"lineNumber\" : 424, \"code\" : \"@6240\"}, { \"lineNumber\" : 425, \"code\" : \"D=A\"}, { \"lineNumber\" : 426, \"code\" : \"@THIS\"}, { \"lineNumber\" : 427, \"code\" : \"M=D\"}, { \"lineNumber\" : 428, \"code\" : \"D=M\"}, { \"lineNumber\" : 429, \"code\" : \"@.array9.22\"}, { \"lineNumber\" : 430, \"code\" : \"M=D\"}, { \"lineNumber\" : null, \"code\" : \"//##Normal Number(1920)##\"}, { \"lineNumber\" : null, \"code\" : \"// [THIS] <- 1920\"}, { \"lineNumber\" : 431, \"code\" : \"@1920\"}, { \"lineNumber\" : 432, \"code\" : \"D=A\"}, { \"lineNumber\" : 433, \"code\" : \"@THIS\"}, { \"lineNumber\" : 434, \"code\" : \"M=D\"}, { \"lineNumber\" : 435, \"code\" : \"D=M\"}, { \"lineNumber\" : 436, \"code\" : \"@.array9.23\"}, { \"lineNumber\" : 437, \"code\" : \"M=D\"}, { \"lineNumber\" : null, \"code\" : \"//##Normal Number(0)##\"}, { \"lineNumber\" : null, \"code\" : \"// [THIS] <- 0\"}, { \"lineNumber\" : 438, \"code\" : \"@0\"}, { \"lineNumber\" : 439, \"code\" : \"D=A\"}, { \"lineNumber\" : 440, \"code\" : \"@THIS\"}, { \"lineNumber\" : 441, \"code\" : \"M=D\"}, { \"lineNumber\" : 442, \"code\" : \"D=M\"}, { \"lineNumber\" : 443, \"code\" : \"@.array9.24\"}, { \"lineNumber\" : 444, \"code\" : \"M=D\"}, { \"lineNumber\" : null, \"code\" : \"//##Normal Number(0)##\"}, { \"lineNumber\" : null, \"code\" : \"// [THIS] <- 0\"}, { \"lineNumber\" : 445, \"code\" : \"@0\"}, { \"lineNumber\" : 446, \"code\" : \"D=A\"}, { \"lineNumber\" : 447, \"code\" : \"@THIS\"}, { \"lineNumber\" : 448, \"code\" : \"M=D\"}, { \"lineNumber\" : 449, \"code\" : \"D=M\"}, { \"lineNumber\" : 450, \"code\" : \"@.array9.25\"}, { \"lineNumber\" : 451, \"code\" : \"M=D\"}, { \"lineNumber\" : 452, \"code\" : \"@.array9.10\"}, { \"lineNumber\" : 453, \"code\" : \"D=A\"}, { \"lineNumber\" : 454, \"code\" : \"@THIS\"}, { \"lineNumber\" : 455, \"code\" : \"M=D\"}, { \"lineNumber\" : 456, \"code\" : \"D=M\"}, { \"lineNumber\" : 457, \"code\" : \"@.array6.7\"}, { \"lineNumber\" : 458, \"code\" : \"M=D\"}, { \"lineNumber\" : 459, \"code\" : \"@.array26.27\"}, { \"lineNumber\" : 460, \"code\" : \"@.array26.28\"}, { \"lineNumber\" : 461, \"code\" : \"@.array26.29\"}, { \"lineNumber\" : 462, \"code\" : \"@.array26.30\"}, { \"lineNumber\" : 463, \"code\" : \"@.array26.31\"}, { \"lineNumber\" : 464, \"code\" : \"@.array26.32\"}, { \"lineNumber\" : 465, \"code\" : \"@.array26.33\"}, { \"lineNumber\" : 466, \"code\" : \"@.array26.34\"}, { \"lineNumber\" : 467, \"code\" : \"@.array26.35\"}, { \"lineNumber\" : 468, \"code\" : \"@.array26.36\"}, { \"lineNumber\" : 469, \"code\" : \"@.array26.37\"}, { \"lineNumber\" : 470, \"code\" : \"@.array26.38\"}, { \"lineNumber\" : 471, \"code\" : \"@.array26.39\"}, { \"lineNumber\" : 472, \"code\" : \"@.array26.40\"}, { \"lineNumber\" : 473, \"code\" : \"@.array26.41\"}, { \"lineNumber\" : 474, \"code\" : \"@.array26.42\"}, { \"lineNumber\" : null, \"code\" : \"//##Normal Number(1920)##\"}, { \"lineNumber\" : null, \"code\" : \"// [THIS] <- 1920\"}, { \"lineNumber\" : 475, \"code\" : \"@1920\"}, { \"lineNumber\" : 476, \"code\" : \"D=A\"}, { \"lineNumber\" : 477, \"code\" : \"@THIS\"}, { \"lineNumber\" : 478, \"code\" : \"M=D\"}, { \"lineNumber\" : 479, \"code\" : \"D=M\"}, { \"lineNumber\" : 480, \"code\" : \"@.array26.27\"}, { \"lineNumber\" : 481, \"code\" : \"M=D\"}, { \"lineNumber\" : null, \"code\" : \"//##Normal Number(6240)##\"}, { \"lineNumber\" : null, \"code\" : \"// [THIS] <- 6240\"}, { \"lineNumber\" : 482, \"code\" : \"@6240\"}, { \"lineNumber\" : 483, \"code\" : \"D=A\"}, { \"lineNumber\" : 484, \"code\" : \"@THIS\"}, { \"lineNumber\" : 485, \"code\" : \"M=D\"}, { \"lineNumber\" : 486, \"code\" : \"D=M\"}, { \"lineNumber\" : 487, \"code\" : \"@.array26.28\"}, { \"lineNumber\" : 488, \"code\" : \"M=D\"}, { \"lineNumber\" : null, \"code\" : \"//##Normal Number(8208)##\"}, { \"lineNumber\" : null, \"code\" : \"// [THIS] <- 8208\"}, { \"lineNumber\" : 489, \"code\" : \"@8208\"}, { \"lineNumber\" : 490, \"code\" : \"D=A\"}, { \"lineNumber\" : 491, \"code\" : \"@THIS\"}, { \"lineNumber\" : 492, \"code\" : \"M=D\"}, { \"lineNumber\" : 493, \"code\" : \"D=M\"}, { \"lineNumber\" : 494, \"code\" : \"@.array26.29\"}, { \"lineNumber\" : 495, \"code\" : \"M=D\"}, { \"lineNumber\" : null, \"code\" : \"//##Normal Number(16392)##\"}, { \"lineNumber\" : null, \"code\" : \"// [THIS] <- 16392\"}, { \"lineNumber\" : 496, \"code\" : \"@16392\"}, { \"lineNumber\" : 497, \"code\" : \"D=A\"}, { \"lineNumber\" : 498, \"code\" : \"@THIS\"}, { \"lineNumber\" : 499, \"code\" : \"M=D\"}, { \"lineNumber\" : 500, \"code\" : \"D=M\"}, { \"lineNumber\" : 501, \"code\" : \"@.array26.30\"}, { \"lineNumber\" : 502, \"code\" : \"M=D\"}, { \"lineNumber\" : null, \"code\" : \"//##Normal Number(21672)##\"}, { \"lineNumber\" : null, \"code\" : \"// [THIS] <- 21672\"}, { \"lineNumber\" : 503, \"code\" : \"@21672\"}, { \"lineNumber\" : 504, \"code\" : \"D=A\"}, { \"lineNumber\" : 505, \"code\" : \"@THIS\"}, { \"lineNumber\" : 506, \"code\" : \"M=D\"}, { \"lineNumber\" : 507, \"code\" : \"D=M\"}, { \"lineNumber\" : 508, \"code\" : \"@.array26.31\"}, { \"lineNumber\" : 509, \"code\" : \"M=D\"}, { \"lineNumber\" : null, \"code\" : \"//##High Number(34884)##\"}, { \"lineNumber\" : 510, \"code\" : \"@32767\"}, { \"lineNumber\" : 511, \"code\" : \"D=A\"}, { \"lineNumber\" : 512, \"code\" : \"@THIS\"}, { \"lineNumber\" : 513, \"code\" : \"M=D\"}, { \"lineNumber\" : 514, \"code\" : \"@2116\"}, { \"lineNumber\" : 515, \"code\" : \"D=A\"}, { \"lineNumber\" : 516, \"code\" : \"@THIS\"}, { \"lineNumber\" : 517, \"code\" : \"M=D+M\"}, { \"lineNumber\" : 518, \"code\" : \"M=M+1\"}, { \"lineNumber\" : 519, \"code\" : \"D=M\"}, { \"lineNumber\" : 520, \"code\" : \"@.array26.32\"}, { \"lineNumber\" : 521, \"code\" : \"M=D\"}, { \"lineNumber\" : null, \"code\" : \"//##High Number(32772)##\"}, { \"lineNumber\" : 522, \"code\" : \"@32767\"}, { \"lineNumber\" : 523, \"code\" : \"D=A\"}, { \"lineNumber\" : 524, \"code\" : \"@THIS\"}, { \"lineNumber\" : 525, \"code\" : \"M=D\"}, { \"lineNumber\" : 526, \"code\" : \"@4\"}, { \"lineNumber\" : 527, \"code\" : \"D=A\"}, { \"lineNumber\" : 528, \"code\" : \"@THIS\"}, { \"lineNumber\" : 529, \"code\" : \"M=D+M\"}, { \"lineNumber\" : 530, \"code\" : \"M=M+1\"}, { \"lineNumber\" : 531, \"code\" : \"D=M\"}, { \"lineNumber\" : 532, \"code\" : \"@.array26.33\"}, { \"lineNumber\" : 533, \"code\" : \"M=D\"}, { \"lineNumber\" : null, \"code\" : \"//##High Number(32772)##\"}, { \"lineNumber\" : 534, \"code\" : \"@32767\"}, { \"lineNumber\" : 535, \"code\" : \"D=A\"}, { \"lineNumber\" : 536, \"code\" : \"@THIS\"}, { \"lineNumber\" : 537, \"code\" : \"M=D\"}, { \"lineNumber\" : 538, \"code\" : \"@4\"}, { \"lineNumber\" : 539, \"code\" : \"D=A\"}, { \"lineNumber\" : 540, \"code\" : \"@THIS\"}, { \"lineNumber\" : 541, \"code\" : \"M=D+M\"}, { \"lineNumber\" : 542, \"code\" : \"M=M+1\"}, { \"lineNumber\" : 543, \"code\" : \"D=M\"}, { \"lineNumber\" : 544, \"code\" : \"@.array26.34\"}, { \"lineNumber\" : 545, \"code\" : \"M=D\"}, { \"lineNumber\" : null, \"code\" : \"//##High Number(34692)##\"}, { \"lineNumber\" : 546, \"code\" : \"@32767\"}, { \"lineNumber\" : 547, \"code\" : \"D=A\"}, { \"lineNumber\" : 548, \"code\" : \"@THIS\"}, { \"lineNumber\" : 549, \"code\" : \"M=D\"}, { \"lineNumber\" : 550, \"code\" : \"@1924\"}, { \"lineNumber\" : 551, \"code\" : \"D=A\"}, { \"lineNumber\" : 552, \"code\" : \"@THIS\"}, { \"lineNumber\" : 553, \"code\" : \"M=D+M\"}, { \"lineNumber\" : 554, \"code\" : \"M=M+1\"}, { \"lineNumber\" : 555, \"code\" : \"D=M\"}, { \"lineNumber\" : 556, \"code\" : \"@.array26.35\"}, { \"lineNumber\" : 557, \"code\" : \"M=D\"}, { \"lineNumber\" : null, \"code\" : \"//##Normal Number(18504)##\"}, { \"lineNumber\" : null, \"code\" : \"// [THIS] <- 18504\"}, { \"lineNumber\" : 558, \"code\" : \"@18504\"}, { \"lineNumber\" : 559, \"code\" : \"D=A\"}, { \"lineNumber\" : 560, \"code\" : \"@THIS\"}, { \"lineNumber\" : 561, \"code\" : \"M=D\"}, { \"lineNumber\" : 562, \"code\" : \"D=M\"}, { \"lineNumber\" : 563, \"code\" : \"@.array26.36\"}, { \"lineNumber\" : 564, \"code\" : \"M=D\"}, { \"lineNumber\" : null, \"code\" : \"//##Normal Number(16392)##\"}, { \"lineNumber\" : null, \"code\" : \"// [THIS] <- 16392\"}, { \"lineNumber\" : 565, \"code\" : \"@16392\"}, { \"lineNumber\" : 566, \"code\" : \"D=A\"}, { \"lineNumber\" : 567, \"code\" : \"@THIS\"}, { \"lineNumber\" : 568, \"code\" : \"M=D\"}, { \"lineNumber\" : 569, \"code\" : \"D=M\"}, { \"lineNumber\" : 570, \"code\" : \"@.array26.37\"}, { \"lineNumber\" : 571, \"code\" : \"M=D\"}, { \"lineNumber\" : null, \"code\" : \"//##Normal Number(8208)##\"}, { \"lineNumber\" : null, \"code\" : \"// [THIS] <- 8208\"}, { \"lineNumber\" : 572, \"code\" : \"@8208\"}, { \"lineNumber\" : 573, \"code\" : \"D=A\"}, { \"lineNumber\" : 574, \"code\" : \"@THIS\"}, { \"lineNumber\" : 575, \"code\" : \"M=D\"}, { \"lineNumber\" : 576, \"code\" : \"D=M\"}, { \"lineNumber\" : 577, \"code\" : \"@.array26.38\"}, { \"lineNumber\" : 578, \"code\" : \"M=D\"}, { \"lineNumber\" : null, \"code\" : \"//##Normal Number(6240)##\"}, { \"lineNumber\" : null, \"code\" : \"// [THIS] <- 6240\"}, { \"lineNumber\" : 579, \"code\" : \"@6240\"}, { \"lineNumber\" : 580, \"code\" : \"D=A\"}, { \"lineNumber\" : 581, \"code\" : \"@THIS\"}, { \"lineNumber\" : 582, \"code\" : \"M=D\"}, { \"lineNumber\" : 583, \"code\" : \"D=M\"}, { \"lineNumber\" : 584, \"code\" : \"@.array26.39\"}, { \"lineNumber\" : 585, \"code\" : \"M=D\"}, { \"lineNumber\" : null, \"code\" : \"//##Normal Number(1920)##\"}, { \"lineNumber\" : null, \"code\" : \"// [THIS] <- 1920\"}, { \"lineNumber\" : 586, \"code\" : \"@1920\"}, { \"lineNumber\" : 587, \"code\" : \"D=A\"}, { \"lineNumber\" : 588, \"code\" : \"@THIS\"}, { \"lineNumber\" : 589, \"code\" : \"M=D\"}, { \"lineNumber\" : 590, \"code\" : \"D=M\"}, { \"lineNumber\" : 591, \"code\" : \"@.array26.40\"}, { \"lineNumber\" : 592, \"code\" : \"M=D\"}, { \"lineNumber\" : null, \"code\" : \"//##Normal Number(0)##\"}, { \"lineNumber\" : null, \"code\" : \"// [THIS] <- 0\"}, { \"lineNumber\" : 593, \"code\" : \"@0\"}, { \"lineNumber\" : 594, \"code\" : \"D=A\"}, { \"lineNumber\" : 595, \"code\" : \"@THIS\"}, { \"lineNumber\" : 596, \"code\" : \"M=D\"}, { \"lineNumber\" : 597, \"code\" : \"D=M\"}, { \"lineNumber\" : 598, \"code\" : \"@.array26.41\"}, { \"lineNumber\" : 599, \"code\" : \"M=D\"}, { \"lineNumber\" : null, \"code\" : \"//##Normal Number(0)##\"}, { \"lineNumber\" : null, \"code\" : \"// [THIS] <- 0\"}, { \"lineNumber\" : 600, \"code\" : \"@0\"}, { \"lineNumber\" : 601, \"code\" : \"D=A\"}, { \"lineNumber\" : 602, \"code\" : \"@THIS\"}, { \"lineNumber\" : 603, \"code\" : \"M=D\"}, { \"lineNumber\" : 604, \"code\" : \"D=M\"}, { \"lineNumber\" : 605, \"code\" : \"@.array26.42\"}, { \"lineNumber\" : 606, \"code\" : \"M=D\"}, { \"lineNumber\" : 607, \"code\" : \"@.array26.27\"}, { \"lineNumber\" : 608, \"code\" : \"D=A\"}, { \"lineNumber\" : 609, \"code\" : \"@THIS\"}, { \"lineNumber\" : 610, \"code\" : \"M=D\"}, { \"lineNumber\" : 611, \"code\" : \"D=M\"}, { \"lineNumber\" : 612, \"code\" : \"@.array6.8\"}, { \"lineNumber\" : 613, \"code\" : \"M=D\"}, { \"lineNumber\" : 614, \"code\" : \"@.array6.7\"}, { \"lineNumber\" : 615, \"code\" : \"D=A\"}, { \"lineNumber\" : 616, \"code\" : \"@THIS\"}, { \"lineNumber\" : 617, \"code\" : \"M=D\"}, { \"lineNumber\" : null, \"code\" : \"// [.global.FONT] <- [THIS]\"}, { \"lineNumber\" : 618, \"code\" : \"@THIS\"}, { \"lineNumber\" : 619, \"code\" : \"D=M\"}, { \"lineNumber\" : 620, \"code\" : \"@.global.FONT\"}, { \"lineNumber\" : 621, \"code\" : \"M=D\"}, { \"lineNumber\" : 622, \"code\" : \"@.draw_char.end\"}, { \"lineNumber\" : 623, \"code\" : \"0;JMP\"}, { \"lineNumber\" : null, \"code\" : \"  (.draw_char.start)\"}, { \"lineNumber\" : null, \"code\" : \"//##Normal Number(0)##\"}, { \"lineNumber\" : null, \"code\" : \"// [THIS] <- 0\"}, { \"lineNumber\" : 624, \"code\" : \"@0\"}, { \"lineNumber\" : 625, \"code\" : \"D=A\"}, { \"lineNumber\" : 626, \"code\" : \"@THIS\"}, { \"lineNumber\" : 627, \"code\" : \"M=D\"}, { \"lineNumber\" : null, \"code\" : \"// [.local.draw_char.count] <- [THIS]\"}, { \"lineNumber\" : 628, \"code\" : \"@THIS\"}, { \"lineNumber\" : 629, \"code\" : \"D=M\"}, { \"lineNumber\" : 630, \"code\" : \"@.local.draw_char.count\"}, { \"lineNumber\" : 631, \"code\" : \"M=D\"}, { \"lineNumber\" : null, \"code\" : \"//##Normal Number(0)##\"}, { \"lineNumber\" : null, \"code\" : \"// [THIS] <- 0\"}, { \"lineNumber\" : 632, \"code\" : \"@0\"}, { \"lineNumber\" : 633, \"code\" : \"D=A\"}, { \"lineNumber\" : 634, \"code\" : \"@THIS\"}, { \"lineNumber\" : 635, \"code\" : \"M=D\"}, { \"lineNumber\" : null, \"code\" : \"// [.local.draw_char.row] <- [THIS]\"}, { \"lineNumber\" : 636, \"code\" : \"@THIS\"}, { \"lineNumber\" : 637, \"code\" : \"D=M\"}, { \"lineNumber\" : 638, \"code\" : \"@.local.draw_char.row\"}, { \"lineNumber\" : 639, \"code\" : \"M=D\"}, { \"lineNumber\" : null, \"code\" : \"// [THIS] <- [.local.draw_char.y]\"}, { \"lineNumber\" : 640, \"code\" : \"@.local.draw_char.y\"}, { \"lineNumber\" : 641, \"code\" : \"D=M\"}, { \"lineNumber\" : 642, \"code\" : \"@THIS\"}, { \"lineNumber\" : 643, \"code\" : \"M=D\"}, { \"lineNumber\" : null, \"code\" : \"// [.local._mul.a] <- [THIS]\"}, { \"lineNumber\" : 644, \"code\" : \"@THIS\"}, { \"lineNumber\" : 645, \"code\" : \"D=M\"}, { \"lineNumber\" : 646, \"code\" : \"@.local._mul.a\"}, { \"lineNumber\" : 647, \"code\" : \"M=D\"}, { \"lineNumber\" : null, \"code\" : \"//##Normal Number(32)##\"}, { \"lineNumber\" : null, \"code\" : \"// [THIS] <- 32\"}, { \"lineNumber\" : 648, \"code\" : \"@32\"}, { \"lineNumber\" : 649, \"code\" : \"D=A\"}, { \"lineNumber\" : 650, \"code\" : \"@THIS\"}, { \"lineNumber\" : 651, \"code\" : \"M=D\"}, { \"lineNumber\" : null, \"code\" : \"// [.local._mul.b] <- [THIS]\"}, { \"lineNumber\" : 652, \"code\" : \"@THIS\"}, { \"lineNumber\" : 653, \"code\" : \"D=M\"}, { \"lineNumber\" : 654, \"code\" : \"@.local._mul.b\"}, { \"lineNumber\" : 655, \"code\" : \"M=D\"}, { \"lineNumber\" : null, \"code\" : \"// Push [LCL]\"}, { \"lineNumber\" : 656, \"code\" : \"@LCL\"}, { \"lineNumber\" : 657, \"code\" : \"D=M\"}, { \"lineNumber\" : 658, \"code\" : \"@SP\"}, { \"lineNumber\" : 659, \"code\" : \"A=M\"}, { \"lineNumber\" : 660, \"code\" : \"M=D\"}, { \"lineNumber\" : 661, \"code\" : \"@SP\"}, { \"lineNumber\" : 662, \"code\" : \"M=M-1\"}, { \"lineNumber\" : 663, \"code\" : \"@.return.43\"}, { \"lineNumber\" : 664, \"code\" : \"D=A\"}, { \"lineNumber\" : 665, \"code\" : \"@LCL\"}, { \"lineNumber\" : 666, \"code\" : \"M=D\"}, { \"lineNumber\" : 667, \"code\" : \"@._mul.start\"}, { \"lineNumber\" : 668, \"code\" : \"0;JMP\"}, { \"lineNumber\" : null, \"code\" : \"  (.return.43)\"}, { \"lineNumber\" : null, \"code\" : \"// Pop [LCL]\"}, { \"lineNumber\" : 669, \"code\" : \"@SP\"}, { \"lineNumber\" : 670, \"code\" : \"AM=M+1\"}, { \"lineNumber\" : 671, \"code\" : \"D=M\"}, { \"lineNumber\" : 672, \"code\" : \"@LCL\"}, { \"lineNumber\" : 673, \"code\" : \"M=D\"}, { \"lineNumber\" : null, \"code\" : \"// [.local._mul.a] <- [THIS]\"}, { \"lineNumber\" : 674, \"code\" : \"@THIS\"}, { \"lineNumber\" : 675, \"code\" : \"D=M\"}, { \"lineNumber\" : 676, \"code\" : \"@.local._mul.a\"}, { \"lineNumber\" : 677, \"code\" : \"M=D\"}, { \"lineNumber\" : null, \"code\" : \"//##Normal Number(16)##\"}, { \"lineNumber\" : null, \"code\" : \"// [THIS] <- 16\"}, { \"lineNumber\" : 678, \"code\" : \"@16\"}, { \"lineNumber\" : 679, \"code\" : \"D=A\"}, { \"lineNumber\" : 680, \"code\" : \"@THIS\"}, { \"lineNumber\" : 681, \"code\" : \"M=D\"}, { \"lineNumber\" : null, \"code\" : \"// [.local._mul.b] <- [THIS]\"}, { \"lineNumber\" : 682, \"code\" : \"@THIS\"}, { \"lineNumber\" : 683, \"code\" : \"D=M\"}, { \"lineNumber\" : 684, \"code\" : \"@.local._mul.b\"}, { \"lineNumber\" : 685, \"code\" : \"M=D\"}, { \"lineNumber\" : null, \"code\" : \"// Push [LCL]\"}, { \"lineNumber\" : 686, \"code\" : \"@LCL\"}, { \"lineNumber\" : 687, \"code\" : \"D=M\"}, { \"lineNumber\" : 688, \"code\" : \"@SP\"}, { \"lineNumber\" : 689, \"code\" : \"A=M\"}, { \"lineNumber\" : 690, \"code\" : \"M=D\"}, { \"lineNumber\" : 691, \"code\" : \"@SP\"}, { \"lineNumber\" : 692, \"code\" : \"M=M-1\"}, { \"lineNumber\" : 693, \"code\" : \"@.return.44\"}, { \"lineNumber\" : 694, \"code\" : \"D=A\"}, { \"lineNumber\" : 695, \"code\" : \"@LCL\"}, { \"lineNumber\" : 696, \"code\" : \"M=D\"}, { \"lineNumber\" : 697, \"code\" : \"@._mul.start\"}, { \"lineNumber\" : 698, \"code\" : \"0;JMP\"}, { \"lineNumber\" : null, \"code\" : \"  (.return.44)\"}, { \"lineNumber\" : null, \"code\" : \"// Pop [LCL]\"}, { \"lineNumber\" : 699, \"code\" : \"@SP\"}, { \"lineNumber\" : 700, \"code\" : \"AM=M+1\"}, { \"lineNumber\" : 701, \"code\" : \"D=M\"}, { \"lineNumber\" : 702, \"code\" : \"@LCL\"}, { \"lineNumber\" : 703, \"code\" : \"M=D\"}, { \"lineNumber\" : null, \"code\" : \"// Push [THIS]\"}, { \"lineNumber\" : 704, \"code\" : \"@THIS\"}, { \"lineNumber\" : 705, \"code\" : \"D=M\"}, { \"lineNumber\" : 706, \"code\" : \"@SP\"}, { \"lineNumber\" : 707, \"code\" : \"A=M\"}, { \"lineNumber\" : 708, \"code\" : \"M=D\"}, { \"lineNumber\" : 709, \"code\" : \"@SP\"}, { \"lineNumber\" : 710, \"code\" : \"M=M-1\"}, { \"lineNumber\" : null, \"code\" : \"// [THIS] <- [.local.draw_char.x]\"}, { \"lineNumber\" : 711, \"code\" : \"@.local.draw_char.x\"}, { \"lineNumber\" : 712, \"code\" : \"D=M\"}, { \"lineNumber\" : 713, \"code\" : \"@THIS\"}, { \"lineNumber\" : 714, \"code\" : \"M=D\"}, { \"lineNumber\" : null, \"code\" : \"// Pop [THAT]\"}, { \"lineNumber\" : 715, \"code\" : \"@SP\"}, { \"lineNumber\" : 716, \"code\" : \"AM=M+1\"}, { \"lineNumber\" : 717, \"code\" : \"D=M\"}, { \"lineNumber\" : 718, \"code\" : \"@THAT\"}, { \"lineNumber\" : 719, \"code\" : \"M=D\"}, { \"lineNumber\" : null, \"code\" : \"// [THIS] <- [THAT] + [THIS]\"}, { \"lineNumber\" : 720, \"code\" : \"@THAT\"}, { \"lineNumber\" : 721, \"code\" : \"D=M\"}, { \"lineNumber\" : 722, \"code\" : \"@THIS\"}, { \"lineNumber\" : 723, \"code\" : \"D=D+M\"}, { \"lineNumber\" : 724, \"code\" : \"M=D\"}, { \"lineNumber\" : null, \"code\" : \"// [.local.draw_char.pos] <- [THIS]\"}, { \"lineNumber\" : 725, \"code\" : \"@THIS\"}, { \"lineNumber\" : 726, \"code\" : \"D=M\"}, { \"lineNumber\" : 727, \"code\" : \"@.local.draw_char.pos\"}, { \"lineNumber\" : 728, \"code\" : \"M=D\"}, { \"lineNumber\" : null, \"code\" : \"// [THIS] <- [.global.FONT]\"}, { \"lineNumber\" : 729, \"code\" : \"@.global.FONT\"}, { \"lineNumber\" : 730, \"code\" : \"D=M\"}, { \"lineNumber\" : 731, \"code\" : \"@THIS\"}, { \"lineNumber\" : 732, \"code\" : \"M=D\"}, { \"lineNumber\" : null, \"code\" : \"// Push [THIS]\"}, { \"lineNumber\" : 733, \"code\" : \"@THIS\"}, { \"lineNumber\" : 734, \"code\" : \"D=M\"}, { \"lineNumber\" : 735, \"code\" : \"@SP\"}, { \"lineNumber\" : 736, \"code\" : \"A=M\"}, { \"lineNumber\" : 737, \"code\" : \"M=D\"}, { \"lineNumber\" : 738, \"code\" : \"@SP\"}, { \"lineNumber\" : 739, \"code\" : \"M=M-1\"}, { \"lineNumber\" : null, \"code\" : \"// [THIS] <- [.local.draw_char.char]\"}, { \"lineNumber\" : 740, \"code\" : \"@.local.draw_char.char\"}, { \"lineNumber\" : 741, \"code\" : \"D=M\"}, { \"lineNumber\" : 742, \"code\" : \"@THIS\"}, { \"lineNumber\" : 743, \"code\" : \"M=D\"}, { \"lineNumber\" : null, \"code\" : \"// Pop [THAT]\"}, { \"lineNumber\" : 744, \"code\" : \"@SP\"}, { \"lineNumber\" : 745, \"code\" : \"AM=M+1\"}, { \"lineNumber\" : 746, \"code\" : \"D=M\"}, { \"lineNumber\" : 747, \"code\" : \"@THAT\"}, { \"lineNumber\" : 748, \"code\" : \"M=D\"}, { \"lineNumber\" : null, \"code\" : \"// [THIS] <- [THAT] + [THIS]\"}, { \"lineNumber\" : 749, \"code\" : \"@THAT\"}, { \"lineNumber\" : 750, \"code\" : \"D=M\"}, { \"lineNumber\" : 751, \"code\" : \"@THIS\"}, { \"lineNumber\" : 752, \"code\" : \"D=D+M\"}, { \"lineNumber\" : 753, \"code\" : \"M=D\"}, { \"lineNumber\" : 754, \"code\" : \"@THIS\"}, { \"lineNumber\" : 755, \"code\" : \"A=M\"}, { \"lineNumber\" : 756, \"code\" : \"D=M\"}, { \"lineNumber\" : 757, \"code\" : \"@THIS\"}, { \"lineNumber\" : 758, \"code\" : \"M=D\"}, { \"lineNumber\" : null, \"code\" : \"// [.local.draw_char.glyph] <- [THIS]\"}, { \"lineNumber\" : 759, \"code\" : \"@THIS\"}, { \"lineNumber\" : 760, \"code\" : \"D=M\"}, { \"lineNumber\" : 761, \"code\" : \"@.local.draw_char.glyph\"}, { \"lineNumber\" : 762, \"code\" : \"M=D\"}, { \"lineNumber\" : null, \"code\" : \"  (.WHILE.45)\"}, { \"lineNumber\" : null, \"code\" : \"// [THIS] <- [.local.draw_char.count]\"}, { \"lineNumber\" : 763, \"code\" : \"@.local.draw_char.count\"}, { \"lineNumber\" : 764, \"code\" : \"D=M\"}, { \"lineNumber\" : 765, \"code\" : \"@THIS\"}, { \"lineNumber\" : 766, \"code\" : \"M=D\"}, { \"lineNumber\" : null, \"code\" : \"// Push [THIS]\"}, { \"lineNumber\" : 767, \"code\" : \"@THIS\"}, { \"lineNumber\" : 768, \"code\" : \"D=M\"}, { \"lineNumber\" : 769, \"code\" : \"@SP\"}, { \"lineNumber\" : 770, \"code\" : \"A=M\"}, { \"lineNumber\" : 771, \"code\" : \"M=D\"}, { \"lineNumber\" : 772, \"code\" : \"@SP\"}, { \"lineNumber\" : 773, \"code\" : \"M=M-1\"}, { \"lineNumber\" : null, \"code\" : \"//##Normal Number(16)##\"}, { \"lineNumber\" : null, \"code\" : \"// [THIS] <- 16\"}, { \"lineNumber\" : 774, \"code\" : \"@16\"}, { \"lineNumber\" : 775, \"code\" : \"D=A\"}, { \"lineNumber\" : 776, \"code\" : \"@THIS\"}, { \"lineNumber\" : 777, \"code\" : \"M=D\"}, { \"lineNumber\" : null, \"code\" : \"// Pop [THAT]\"}, { \"lineNumber\" : 778, \"code\" : \"@SP\"}, { \"lineNumber\" : 779, \"code\" : \"AM=M+1\"}, { \"lineNumber\" : 780, \"code\" : \"D=M\"}, { \"lineNumber\" : 781, \"code\" : \"@THAT\"}, { \"lineNumber\" : 782, \"code\" : \"M=D\"}, { \"lineNumber\" : null, \"code\" : \"//##start-compare-46##\"}, { \"lineNumber\" : 783, \"code\" : \"@THAT\"}, { \"lineNumber\" : 784, \"code\" : \"D=M\"}, { \"lineNumber\" : 785, \"code\" : \"@THIS\"}, { \"lineNumber\" : 786, \"code\" : \"D=D-M\"}, { \"lineNumber\" : 787, \"code\" : \"@.TRUE.46\"}, { \"lineNumber\" : 788, \"code\" : \"D;JLT\"}, { \"lineNumber\" : 789, \"code\" : \"@THIS\"}, { \"lineNumber\" : 790, \"code\" : \"M=0\"}, { \"lineNumber\" : 791, \"code\" : \"D=M\"}, { \"lineNumber\" : 792, \"code\" : \"@.FALSE.46\"}, { \"lineNumber\" : 793, \"code\" : \"D;JEQ\"}, { \"lineNumber\" : null, \"code\" : \"  (.TRUE.46)\"}, { \"lineNumber\" : 794, \"code\" : \"@THIS\"}, { \"lineNumber\" : 795, \"code\" : \"M=1\"}, { \"lineNumber\" : null, \"code\" : \"  (.FALSE.46)\"}, { \"lineNumber\" : null, \"code\" : \"//##end-compare-46##\"}, { \"lineNumber\" : 796, \"code\" : \"@THIS\"}, { \"lineNumber\" : 797, \"code\" : \"D=M\"}, { \"lineNumber\" : 798, \"code\" : \"@.OUT.45\"}, { \"lineNumber\" : 799, \"code\" : \"D;JEQ\"}, { \"lineNumber\" : null, \"code\" : \"//##While-body-45\"}, { \"lineNumber\" : null, \"code\" : \"//##Normal Number(16384)##\"}, { \"lineNumber\" : null, \"code\" : \"// [THIS] <- 16384\"}, { \"lineNumber\" : 800, \"code\" : \"@16384\"}, { \"lineNumber\" : 801, \"code\" : \"D=A\"}, { \"lineNumber\" : 802, \"code\" : \"@THIS\"}, { \"lineNumber\" : 803, \"code\" : \"M=D\"}, { \"lineNumber\" : null, \"code\" : \"// Push [THIS]\"}, { \"lineNumber\" : 804, \"code\" : \"@THIS\"}, { \"lineNumber\" : 805, \"code\" : \"D=M\"}, { \"lineNumber\" : 806, \"code\" : \"@SP\"}, { \"lineNumber\" : 807, \"code\" : \"A=M\"}, { \"lineNumber\" : 808, \"code\" : \"M=D\"}, { \"lineNumber\" : 809, \"code\" : \"@SP\"}, { \"lineNumber\" : 810, \"code\" : \"M=M-1\"}, { \"lineNumber\" : null, \"code\" : \"// [THIS] <- [.local.draw_char.pos]\"}, { \"lineNumber\" : 811, \"code\" : \"@.local.draw_char.pos\"}, { \"lineNumber\" : 812, \"code\" : \"D=M\"}, { \"lineNumber\" : 813, \"code\" : \"@THIS\"}, { \"lineNumber\" : 814, \"code\" : \"M=D\"}, { \"lineNumber\" : null, \"code\" : \"// Pop [THAT]\"}, { \"lineNumber\" : 815, \"code\" : \"@SP\"}, { \"lineNumber\" : 816, \"code\" : \"AM=M+1\"}, { \"lineNumber\" : 817, \"code\" : \"D=M\"}, { \"lineNumber\" : 818, \"code\" : \"@THAT\"}, { \"lineNumber\" : 819, \"code\" : \"M=D\"}, { \"lineNumber\" : null, \"code\" : \"// [THIS] <- [THAT] + [THIS]\"}, { \"lineNumber\" : 820, \"code\" : \"@THAT\"}, { \"lineNumber\" : 821, \"code\" : \"D=M\"}, { \"lineNumber\" : 822, \"code\" : \"@THIS\"}, { \"lineNumber\" : 823, \"code\" : \"D=D+M\"}, { \"lineNumber\" : 824, \"code\" : \"M=D\"}, { \"lineNumber\" : null, \"code\" : \"// Push [THIS]\"}, { \"lineNumber\" : 825, \"code\" : \"@THIS\"}, { \"lineNumber\" : 826, \"code\" : \"D=M\"}, { \"lineNumber\" : 827, \"code\" : \"@SP\"}, { \"lineNumber\" : 828, \"code\" : \"A=M\"}, { \"lineNumber\" : 829, \"code\" : \"M=D\"}, { \"lineNumber\" : 830, \"code\" : \"@SP\"}, { \"lineNumber\" : 831, \"code\" : \"M=M-1\"}, { \"lineNumber\" : null, \"code\" : \"// [THIS] <- [.local.draw_char.row]\"}, { \"lineNumber\" : 832, \"code\" : \"@.local.draw_char.row\"}, { \"lineNumber\" : 833, \"code\" : \"D=M\"}, { \"lineNumber\" : 834, \"code\" : \"@THIS\"}, { \"lineNumber\" : 835, \"code\" : \"M=D\"}, { \"lineNumber\" : null, \"code\" : \"// Pop [THAT]\"}, { \"lineNumber\" : 836, \"code\" : \"@SP\"}, { \"lineNumber\" : 837, \"code\" : \"AM=M+1\"}, { \"lineNumber\" : 838, \"code\" : \"D=M\"}, { \"lineNumber\" : 839, \"code\" : \"@THAT\"}, { \"lineNumber\" : 840, \"code\" : \"M=D\"}, { \"lineNumber\" : null, \"code\" : \"// [THIS] <- [THAT] + [THIS]\"}, { \"lineNumber\" : 841, \"code\" : \"@THAT\"}, { \"lineNumber\" : 842, \"code\" : \"D=M\"}, { \"lineNumber\" : 843, \"code\" : \"@THIS\"}, { \"lineNumber\" : 844, \"code\" : \"D=D+M\"}, { \"lineNumber\" : 845, \"code\" : \"M=D\"}, { \"lineNumber\" : null, \"code\" : \"// Push [THIS]\"}, { \"lineNumber\" : 846, \"code\" : \"@THIS\"}, { \"lineNumber\" : 847, \"code\" : \"D=M\"}, { \"lineNumber\" : 848, \"code\" : \"@SP\"}, { \"lineNumber\" : 849, \"code\" : \"A=M\"}, { \"lineNumber\" : 850, \"code\" : \"M=D\"}, { \"lineNumber\" : 851, \"code\" : \"@SP\"}, { \"lineNumber\" : 852, \"code\" : \"M=M-1\"}, { \"lineNumber\" : null, \"code\" : \"// [THIS] <- [.local.draw_char.glyph]\"}, { \"lineNumber\" : 853, \"code\" : \"@.local.draw_char.glyph\"}, { \"lineNumber\" : 854, \"code\" : \"D=M\"}, { \"lineNumber\" : 855, \"code\" : \"@THIS\"}, { \"lineNumber\" : 856, \"code\" : \"M=D\"}, { \"lineNumber\" : null, \"code\" : \"// Push [THIS]\"}, { \"lineNumber\" : 857, \"code\" : \"@THIS\"}, { \"lineNumber\" : 858, \"code\" : \"D=M\"}, { \"lineNumber\" : 859, \"code\" : \"@SP\"}, { \"lineNumber\" : 860, \"code\" : \"A=M\"}, { \"lineNumber\" : 861, \"code\" : \"M=D\"}, { \"lineNumber\" : 862, \"code\" : \"@SP\"}, { \"lineNumber\" : 863, \"code\" : \"M=M-1\"}, { \"lineNumber\" : null, \"code\" : \"// [THIS] <- [.local.draw_char.count]\"}, { \"lineNumber\" : 864, \"code\" : \"@.local.draw_char.count\"}, { \"lineNumber\" : 865, \"code\" : \"D=M\"}, { \"lineNumber\" : 866, \"code\" : \"@THIS\"}, { \"lineNumber\" : 867, \"code\" : \"M=D\"}, { \"lineNumber\" : null, \"code\" : \"// Pop [THAT]\"}, { \"lineNumber\" : 868, \"code\" : \"@SP\"}, { \"lineNumber\" : 869, \"code\" : \"AM=M+1\"}, { \"lineNumber\" : 870, \"code\" : \"D=M\"}, { \"lineNumber\" : 871, \"code\" : \"@THAT\"}, { \"lineNumber\" : 872, \"code\" : \"M=D\"}, { \"lineNumber\" : null, \"code\" : \"// [THIS] <- [THAT] + [THIS]\"}, { \"lineNumber\" : 873, \"code\" : \"@THAT\"}, { \"lineNumber\" : 874, \"code\" : \"D=M\"}, { \"lineNumber\" : 875, \"code\" : \"@THIS\"}, { \"lineNumber\" : 876, \"code\" : \"D=D+M\"}, { \"lineNumber\" : 877, \"code\" : \"M=D\"}, { \"lineNumber\" : 878, \"code\" : \"@THIS\"}, { \"lineNumber\" : 879, \"code\" : \"A=M\"}, { \"lineNumber\" : 880, \"code\" : \"D=M\"}, { \"lineNumber\" : 881, \"code\" : \"@THIS\"}, { \"lineNumber\" : 882, \"code\" : \"M=D\"}, { \"lineNumber\" : null, \"code\" : \"// Pop [THAT]\"}, { \"lineNumber\" : 883, \"code\" : \"@SP\"}, { \"lineNumber\" : 884, \"code\" : \"AM=M+1\"}, { \"lineNumber\" : 885, \"code\" : \"D=M\"}, { \"lineNumber\" : 886, \"code\" : \"@THAT\"}, { \"lineNumber\" : 887, \"code\" : \"M=D\"}, { \"lineNumber\" : 888, \"code\" : \"@THIS\"}, { \"lineNumber\" : 889, \"code\" : \"D=M\"}, { \"lineNumber\" : 890, \"code\" : \"@THAT\"}, { \"lineNumber\" : 891, \"code\" : \"A=M\"}, { \"lineNumber\" : 892, \"code\" : \"M=D\"}, { \"lineNumber\" : null, \"code\" : \"// [THIS] <- [.local.draw_char.count]\"}, { \"lineNumber\" : 893, \"code\" : \"@.local.draw_char.count\"}, { \"lineNumber\" : 894, \"code\" : \"D=M\"}, { \"lineNumber\" : 895, \"code\" : \"@THIS\"}, { \"lineNumber\" : 896, \"code\" : \"M=D\"}, { \"lineNumber\" : null, \"code\" : \"// Push [THIS]\"}, { \"lineNumber\" : 897, \"code\" : \"@THIS\"}, { \"lineNumber\" : 898, \"code\" : \"D=M\"}, { \"lineNumber\" : 899, \"code\" : \"@SP\"}, { \"lineNumber\" : 900, \"code\" : \"A=M\"}, { \"lineNumber\" : 901, \"code\" : \"M=D\"}, { \"lineNumber\" : 902, \"code\" : \"@SP\"}, { \"lineNumber\" : 903, \"code\" : \"M=M-1\"}, { \"lineNumber\" : null, \"code\" : \"//##Normal Number(1)##\"}, { \"lineNumber\" : null, \"code\" : \"// [THIS] <- 1\"}, { \"lineNumber\" : 904, \"code\" : \"@1\"}, { \"lineNumber\" : 905, \"code\" : \"D=A\"}, { \"lineNumber\" : 906, \"code\" : \"@THIS\"}, { \"lineNumber\" : 907, \"code\" : \"M=D\"}, { \"lineNumber\" : null, \"code\" : \"// Pop [THAT]\"}, { \"lineNumber\" : 908, \"code\" : \"@SP\"}, { \"lineNumber\" : 909, \"code\" : \"AM=M+1\"}, { \"lineNumber\" : 910, \"code\" : \"D=M\"}, { \"lineNumber\" : 911, \"code\" : \"@THAT\"}, { \"lineNumber\" : 912, \"code\" : \"M=D\"}, { \"lineNumber\" : null, \"code\" : \"// [THIS] <- [THAT] + [THIS]\"}, { \"lineNumber\" : 913, \"code\" : \"@THAT\"}, { \"lineNumber\" : 914, \"code\" : \"D=M\"}, { \"lineNumber\" : 915, \"code\" : \"@THIS\"}, { \"lineNumber\" : 916, \"code\" : \"D=D+M\"}, { \"lineNumber\" : 917, \"code\" : \"M=D\"}, { \"lineNumber\" : null, \"code\" : \"// [.local.draw_char.count] <- [THIS]\"}, { \"lineNumber\" : 918, \"code\" : \"@THIS\"}, { \"lineNumber\" : 919, \"code\" : \"D=M\"}, { \"lineNumber\" : 920, \"code\" : \"@.local.draw_char.count\"}, { \"lineNumber\" : 921, \"code\" : \"M=D\"}, { \"lineNumber\" : null, \"code\" : \"// [THIS] <- [.local.draw_char.row]\"}, { \"lineNumber\" : 922, \"code\" : \"@.local.draw_char.row\"}, { \"lineNumber\" : 923, \"code\" : \"D=M\"}, { \"lineNumber\" : 924, \"code\" : \"@THIS\"}, { \"lineNumber\" : 925, \"code\" : \"M=D\"}, { \"lineNumber\" : null, \"code\" : \"// Push [THIS]\"}, { \"lineNumber\" : 926, \"code\" : \"@THIS\"}, { \"lineNumber\" : 927, \"code\" : \"D=M\"}, { \"lineNumber\" : 928, \"code\" : \"@SP\"}, { \"lineNumber\" : 929, \"code\" : \"A=M\"}, { \"lineNumber\" : 930, \"code\" : \"M=D\"}, { \"lineNumber\" : 931, \"code\" : \"@SP\"}, { \"lineNumber\" : 932, \"code\" : \"M=M-1\"}, { \"lineNumber\" : null, \"code\" : \"//##Normal Number(32)##\"}, { \"lineNumber\" : null, \"code\" : \"// [THIS] <- 32\"}, { \"lineNumber\" : 933, \"code\" : \"@32\"}, { \"lineNumber\" : 934, \"code\" : \"D=A\"}, { \"lineNumber\" : 935, \"code\" : \"@THIS\"}, { \"lineNumber\" : 936, \"code\" : \"M=D\"}, { \"lineNumber\" : null, \"code\" : \"// Pop [THAT]\"}, { \"lineNumber\" : 937, \"code\" : \"@SP\"}, { \"lineNumber\" : 938, \"code\" : \"AM=M+1\"}, { \"lineNumber\" : 939, \"code\" : \"D=M\"}, { \"lineNumber\" : 940, \"code\" : \"@THAT\"}, { \"lineNumber\" : 941, \"code\" : \"M=D\"}, { \"lineNumber\" : null, \"code\" : \"// [THIS] <- [THAT] + [THIS]\"}, { \"lineNumber\" : 942, \"code\" : \"@THAT\"}, { \"lineNumber\" : 943, \"code\" : \"D=M\"}, { \"lineNumber\" : 944, \"code\" : \"@THIS\"}, { \"lineNumber\" : 945, \"code\" : \"D=D+M\"}, { \"lineNumber\" : 946, \"code\" : \"M=D\"}, { \"lineNumber\" : null, \"code\" : \"// [.local.draw_char.row] <- [THIS]\"}, { \"lineNumber\" : 947, \"code\" : \"@THIS\"}, { \"lineNumber\" : 948, \"code\" : \"D=M\"}, { \"lineNumber\" : 949, \"code\" : \"@.local.draw_char.row\"}, { \"lineNumber\" : 950, \"code\" : \"M=D\"}, { \"lineNumber\" : 951, \"code\" : \"@.WHILE.45\"}, { \"lineNumber\" : 952, \"code\" : \"0;JMP\"}, { \"lineNumber\" : null, \"code\" : \"  (.OUT.45)\"}, { \"lineNumber\" : null, \"code\" : \"  (.draw_char.return)\"}, { \"lineNumber\" : 953, \"code\" : \"@LCL\"}, { \"lineNumber\" : 954, \"code\" : \"A=M\"}, { \"lineNumber\" : 955, \"code\" : \"0;JMP\"}, { \"lineNumber\" : null, \"code\" : \"  (.draw_char.end)\"}, { \"lineNumber\" : null, \"code\" : \"  (.WHILE.47)\"}, { \"lineNumber\" : null, \"code\" : \"//##Normal Number(1)##\"}, { \"lineNumber\" : null, \"code\" : \"// [THIS] <- 1\"}, { \"lineNumber\" : 956, \"code\" : \"@1\"}, { \"lineNumber\" : 957, \"code\" : \"D=A\"}, { \"lineNumber\" : 958, \"code\" : \"@THIS\"}, { \"lineNumber\" : 959, \"code\" : \"M=D\"}, { \"lineNumber\" : 960, \"code\" : \"@THIS\"}, { \"lineNumber\" : 961, \"code\" : \"D=M\"}, { \"lineNumber\" : 962, \"code\" : \"@.OUT.47\"}, { \"lineNumber\" : 963, \"code\" : \"D;JEQ\"}, { \"lineNumber\" : null, \"code\" : \"//##While-body-47\"}, { \"lineNumber\" : null, \"code\" : \"//## begin-if-48 ##\"}, { \"lineNumber\" : null, \"code\" : \"//##Normal Number(24576)##\"}, { \"lineNumber\" : null, \"code\" : \"// [THIS] <- 24576\"}, { \"lineNumber\" : 964, \"code\" : \"@24576\"}, { \"lineNumber\" : 965, \"code\" : \"D=A\"}, { \"lineNumber\" : 966, \"code\" : \"@THIS\"}, { \"lineNumber\" : 967, \"code\" : \"M=D\"}, { \"lineNumber\" : 968, \"code\" : \"@THIS\"}, { \"lineNumber\" : 969, \"code\" : \"A=M\"}, { \"lineNumber\" : 970, \"code\" : \"D=M\"}, { \"lineNumber\" : 971, \"code\" : \"@THIS\"}, { \"lineNumber\" : 972, \"code\" : \"M=D\"}, { \"lineNumber\" : null, \"code\" : \"//##Normal Number(24576)##\"}, { \"lineNumber\" : null, \"code\" : \"// [THIS] <- 24576\"}, { \"lineNumber\" : 973, \"code\" : \"@24576\"}, { \"lineNumber\" : 974, \"code\" : \"D=A\"}, { \"lineNumber\" : 975, \"code\" : \"@THIS\"}, { \"lineNumber\" : 976, \"code\" : \"M=D\"}, { \"lineNumber\" : 977, \"code\" : \"@THIS\"}, { \"lineNumber\" : 978, \"code\" : \"A=M\"}, { \"lineNumber\" : 979, \"code\" : \"D=M\"}, { \"lineNumber\" : 980, \"code\" : \"@THIS\"}, { \"lineNumber\" : 981, \"code\" : \"M=D\"}, { \"lineNumber\" : 982, \"code\" : \"@THIS\"}, { \"lineNumber\" : 983, \"code\" : \"D=M\"}, { \"lineNumber\" : 984, \"code\" : \"@.endif.48\"}, { \"lineNumber\" : 985, \"code\" : \"D;JEQ\"}, { \"lineNumber\" : null, \"code\" : \"//## if-body-48 ##\"}, { \"lineNumber\" : null, \"code\" : \"// [THIS] <- [.global.SMILE]\"}, { \"lineNumber\" : 986, \"code\" : \"@.global.SMILE\"}, { \"lineNumber\" : 987, \"code\" : \"D=M\"}, { \"lineNumber\" : 988, \"code\" : \"@THIS\"}, { \"lineNumber\" : 989, \"code\" : \"M=D\"}, { \"lineNumber\" : null, \"code\" : \"// [.global.icon] <- [THIS]\"}, { \"lineNumber\" : 990, \"code\" : \"@THIS\"}, { \"lineNumber\" : 991, \"code\" : \"D=M\"}, { \"lineNumber\" : 992, \"code\" : \"@.global.icon\"}, { \"lineNumber\" : 993, \"code\" : \"M=D\"}, { \"lineNumber\" : null, \"code\" : \"//##Normal Number(1)##\"}, { \"lineNumber\" : null, \"code\" : \"// [THIS] <- 1\"}, { \"lineNumber\" : 994, \"code\" : \"@1\"}, { \"lineNumber\" : 995, \"code\" : \"D=A\"}, { \"lineNumber\" : 996, \"code\" : \"@THIS\"}, { \"lineNumber\" : 997, \"code\" : \"M=D\"}, { \"lineNumber\" : null, \"code\" : \"// [.global.x] <- [THIS]\"}, { \"lineNumber\" : 998, \"code\" : \"@THIS\"}, { \"lineNumber\" : 999, \"code\" : \"D=M\"}, { \"lineNumber\" : 1000, \"code\" : \"@.global.x\"}, { \"lineNumber\" : 1001, \"code\" : \"M=D\"}, { \"lineNumber\" : 1002, \"code\" : \"@THIS\"}, { \"lineNumber\" : 1003, \"code\" : \"D=M\"}, { \"lineNumber\" : 1004, \"code\" : \"@.endelse.48\"}, { \"lineNumber\" : 1005, \"code\" : \"0;JMP\"}, { \"lineNumber\" : null, \"code\" : \"//## end-if-48 ##\"}, { \"lineNumber\" : null, \"code\" : \"  (.endif.48)\"}, { \"lineNumber\" : null, \"code\" : \"//##else body 48##\"}, { \"lineNumber\" : null, \"code\" : \"// [THIS] <- [.global.SAD]\"}, { \"lineNumber\" : 1006, \"code\" : \"@.global.SAD\"}, { \"lineNumber\" : 1007, \"code\" : \"D=M\"}, { \"lineNumber\" : 1008, \"code\" : \"@THIS\"}, { \"lineNumber\" : 1009, \"code\" : \"M=D\"}, { \"lineNumber\" : null, \"code\" : \"// [.global.icon] <- [THIS]\"}, { \"lineNumber\" : 1010, \"code\" : \"@THIS\"}, { \"lineNumber\" : 1011, \"code\" : \"D=M\"}, { \"lineNumber\" : 1012, \"code\" : \"@.global.icon\"}, { \"lineNumber\" : 1013, \"code\" : \"M=D\"}, { \"lineNumber\" : null, \"code\" : \"//##end else body 48##\"}, { \"lineNumber\" : null, \"code\" : \"  (.endelse.48)\"}, { \"lineNumber\" : null, \"code\" : \"//##Normal Number(5)##\"}, { \"lineNumber\" : null, \"code\" : \"// [THIS] <- 5\"}, { \"lineNumber\" : 1014, \"code\" : \"@5\"}, { \"lineNumber\" : 1015, \"code\" : \"D=A\"}, { \"lineNumber\" : 1016, \"code\" : \"@THIS\"}, { \"lineNumber\" : 1017, \"code\" : \"M=D\"}, { \"lineNumber\" : null, \"code\" : \"// [.global.count] <- [THIS]\"}, { \"lineNumber\" : 1018, \"code\" : \"@THIS\"}, { \"lineNumber\" : 1019, \"code\" : \"D=M\"}, { \"lineNumber\" : 1020, \"code\" : \"@.global.count\"}, { \"lineNumber\" : 1021, \"code\" : \"M=D\"}, { \"lineNumber\" : null, \"code\" : \"  (.WHILE.49)\"}, { \"lineNumber\" : null, \"code\" : \"// [THIS] <- [.global.count]\"}, { \"lineNumber\" : 1022, \"code\" : \"@.global.count\"}, { \"lineNumber\" : 1023, \"code\" : \"D=M\"}, { \"lineNumber\" : 1024, \"code\" : \"@THIS\"}, { \"lineNumber\" : 1025, \"code\" : \"M=D\"}, { \"lineNumber\" : 1026, \"code\" : \"@THIS\"}, { \"lineNumber\" : 1027, \"code\" : \"D=M\"}, { \"lineNumber\" : 1028, \"code\" : \"@.OUT.49\"}, { \"lineNumber\" : 1029, \"code\" : \"D;JEQ\"}, { \"lineNumber\" : null, \"code\" : \"//##While-body-49\"}, { \"lineNumber\" : null, \"code\" : \"//##Normal Number(5)##\"}, { \"lineNumber\" : null, \"code\" : \"// [THIS] <- 5\"}, { \"lineNumber\" : 1030, \"code\" : \"@5\"}, { \"lineNumber\" : 1031, \"code\" : \"D=A\"}, { \"lineNumber\" : 1032, \"code\" : \"@THIS\"}, { \"lineNumber\" : 1033, \"code\" : \"M=D\"}, { \"lineNumber\" : null, \"code\" : \"// Push [THIS]\"}, { \"lineNumber\" : 1034, \"code\" : \"@THIS\"}, { \"lineNumber\" : 1035, \"code\" : \"D=M\"}, { \"lineNumber\" : 1036, \"code\" : \"@SP\"}, { \"lineNumber\" : 1037, \"code\" : \"A=M\"}, { \"lineNumber\" : 1038, \"code\" : \"M=D\"}, { \"lineNumber\" : 1039, \"code\" : \"@SP\"}, { \"lineNumber\" : 1040, \"code\" : \"M=M-1\"}, { \"lineNumber\" : null, \"code\" : \"// [THIS] <- [.global.count]\"}, { \"lineNumber\" : 1041, \"code\" : \"@.global.count\"}, { \"lineNumber\" : 1042, \"code\" : \"D=M\"}, { \"lineNumber\" : 1043, \"code\" : \"@THIS\"}, { \"lineNumber\" : 1044, \"code\" : \"M=D\"}, { \"lineNumber\" : null, \"code\" : \"// Pop [THAT]\"}, { \"lineNumber\" : 1045, \"code\" : \"@SP\"}, { \"lineNumber\" : 1046, \"code\" : \"AM=M+1\"}, { \"lineNumber\" : 1047, \"code\" : \"D=M\"}, { \"lineNumber\" : 1048, \"code\" : \"@THAT\"}, { \"lineNumber\" : 1049, \"code\" : \"M=D\"}, { \"lineNumber\" : null, \"code\" : \"// [THIS] <- [THAT] + [THIS]\"}, { \"lineNumber\" : 1050, \"code\" : \"@THAT\"}, { \"lineNumber\" : 1051, \"code\" : \"D=M\"}, { \"lineNumber\" : 1052, \"code\" : \"@THIS\"}, { \"lineNumber\" : 1053, \"code\" : \"D=D+M\"}, { \"lineNumber\" : 1054, \"code\" : \"M=D\"}, { \"lineNumber\" : null, \"code\" : \"// [.local.draw_char.x] <- [THIS]\"}, { \"lineNumber\" : 1055, \"code\" : \"@THIS\"}, { \"lineNumber\" : 1056, \"code\" : \"D=M\"}, { \"lineNumber\" : 1057, \"code\" : \"@.local.draw_char.x\"}, { \"lineNumber\" : 1058, \"code\" : \"M=D\"}, { \"lineNumber\" : null, \"code\" : \"//##Normal Number(5)##\"}, { \"lineNumber\" : null, \"code\" : \"// [THIS] <- 5\"}, { \"lineNumber\" : 1059, \"code\" : \"@5\"}, { \"lineNumber\" : 1060, \"code\" : \"D=A\"}, { \"lineNumber\" : 1061, \"code\" : \"@THIS\"}, { \"lineNumber\" : 1062, \"code\" : \"M=D\"}, { \"lineNumber\" : null, \"code\" : \"// [.local.draw_char.y] <- [THIS]\"}, { \"lineNumber\" : 1063, \"code\" : \"@THIS\"}, { \"lineNumber\" : 1064, \"code\" : \"D=M\"}, { \"lineNumber\" : 1065, \"code\" : \"@.local.draw_char.y\"}, { \"lineNumber\" : 1066, \"code\" : \"M=D\"}, { \"lineNumber\" : null, \"code\" : \"// [THIS] <- [.global.icon]\"}, { \"lineNumber\" : 1067, \"code\" : \"@.global.icon\"}, { \"lineNumber\" : 1068, \"code\" : \"D=M\"}, { \"lineNumber\" : 1069, \"code\" : \"@THIS\"}, { \"lineNumber\" : 1070, \"code\" : \"M=D\"}, { \"lineNumber\" : null, \"code\" : \"// [.local.draw_char.char] <- [THIS]\"}, { \"lineNumber\" : 1071, \"code\" : \"@THIS\"}, { \"lineNumber\" : 1072, \"code\" : \"D=M\"}, { \"lineNumber\" : 1073, \"code\" : \"@.local.draw_char.char\"}, { \"lineNumber\" : 1074, \"code\" : \"M=D\"}, { \"lineNumber\" : null, \"code\" : \"// Push [LCL]\"}, { \"lineNumber\" : 1075, \"code\" : \"@LCL\"}, { \"lineNumber\" : 1076, \"code\" : \"D=M\"}, { \"lineNumber\" : 1077, \"code\" : \"@SP\"}, { \"lineNumber\" : 1078, \"code\" : \"A=M\"}, { \"lineNumber\" : 1079, \"code\" : \"M=D\"}, { \"lineNumber\" : 1080, \"code\" : \"@SP\"}, { \"lineNumber\" : 1081, \"code\" : \"M=M-1\"}, { \"lineNumber\" : 1082, \"code\" : \"@.return.50\"}, { \"lineNumber\" : 1083, \"code\" : \"D=A\"}, { \"lineNumber\" : 1084, \"code\" : \"@LCL\"}, { \"lineNumber\" : 1085, \"code\" : \"M=D\"}, { \"lineNumber\" : 1086, \"code\" : \"@.draw_char.start\"}, { \"lineNumber\" : 1087, \"code\" : \"0;JMP\"}, { \"lineNumber\" : null, \"code\" : \"  (.return.50)\"}, { \"lineNumber\" : null, \"code\" : \"// Pop [LCL]\"}, { \"lineNumber\" : 1088, \"code\" : \"@SP\"}, { \"lineNumber\" : 1089, \"code\" : \"AM=M+1\"}, { \"lineNumber\" : 1090, \"code\" : \"D=M\"}, { \"lineNumber\" : 1091, \"code\" : \"@LCL\"}, { \"lineNumber\" : 1092, \"code\" : \"M=D\"}, { \"lineNumber\" : null, \"code\" : \"// [THIS] <- [.global.count]\"}, { \"lineNumber\" : 1093, \"code\" : \"@.global.count\"}, { \"lineNumber\" : 1094, \"code\" : \"D=M\"}, { \"lineNumber\" : 1095, \"code\" : \"@THIS\"}, { \"lineNumber\" : 1096, \"code\" : \"M=D\"}, { \"lineNumber\" : null, \"code\" : \"// Push [THIS]\"}, { \"lineNumber\" : 1097, \"code\" : \"@THIS\"}, { \"lineNumber\" : 1098, \"code\" : \"D=M\"}, { \"lineNumber\" : 1099, \"code\" : \"@SP\"}, { \"lineNumber\" : 1100, \"code\" : \"A=M\"}, { \"lineNumber\" : 1101, \"code\" : \"M=D\"}, { \"lineNumber\" : 1102, \"code\" : \"@SP\"}, { \"lineNumber\" : 1103, \"code\" : \"M=M-1\"}, { \"lineNumber\" : null, \"code\" : \"//##Normal Number(1)##\"}, { \"lineNumber\" : null, \"code\" : \"// [THIS] <- 1\"}, { \"lineNumber\" : 1104, \"code\" : \"@1\"}, { \"lineNumber\" : 1105, \"code\" : \"D=A\"}, { \"lineNumber\" : 1106, \"code\" : \"@THIS\"}, { \"lineNumber\" : 1107, \"code\" : \"M=D\"}, { \"lineNumber\" : null, \"code\" : \"// Pop [THAT]\"}, { \"lineNumber\" : 1108, \"code\" : \"@SP\"}, { \"lineNumber\" : 1109, \"code\" : \"AM=M+1\"}, { \"lineNumber\" : 1110, \"code\" : \"D=M\"}, { \"lineNumber\" : 1111, \"code\" : \"@THAT\"}, { \"lineNumber\" : 1112, \"code\" : \"M=D\"}, { \"lineNumber\" : null, \"code\" : \"// [THIS] <- [THAT] - [THIS]\"}, { \"lineNumber\" : 1113, \"code\" : \"@THAT\"}, { \"lineNumber\" : 1114, \"code\" : \"D=M\"}, { \"lineNumber\" : 1115, \"code\" : \"@THIS\"}, { \"lineNumber\" : 1116, \"code\" : \"D=D-M\"}, { \"lineNumber\" : 1117, \"code\" : \"M=D\"}, { \"lineNumber\" : null, \"code\" : \"// [.global.count] <- [THIS]\"}, { \"lineNumber\" : 1118, \"code\" : \"@THIS\"}, { \"lineNumber\" : 1119, \"code\" : \"D=M\"}, { \"lineNumber\" : 1120, \"code\" : \"@.global.count\"}, { \"lineNumber\" : 1121, \"code\" : \"M=D\"}, { \"lineNumber\" : 1122, \"code\" : \"@.WHILE.49\"}, { \"lineNumber\" : 1123, \"code\" : \"0;JMP\"}, { \"lineNumber\" : null, \"code\" : \"  (.OUT.49)\"}, { \"lineNumber\" : 1124, \"code\" : \"@.WHILE.47\"}, { \"lineNumber\" : 1125, \"code\" : \"0;JMP\"}, { \"lineNumber\" : null, \"code\" : \"  (.OUT.47)\"}]\n",
              "  simulator.memoryWriteCallbacks.push(memUpdateCallback);\n",
              "  simulator.memoryWriteCallbacks.push(screenUpdateCallback);\n",
              "\n",
              "  var app = new Vue({\n",
              "    el: '#sim-ui',\n",
              "    data: {\n",
              "      simulator: simulator\n",
              "    }\n",
              "  });\n",
              "</script>\n"
            ]
          },
          "metadata": {}
        }
      ]
    },
    {
      "cell_type": "code",
      "metadata": {
        "id": "32LSoEW0TIH6"
      },
      "source": [],
      "execution_count": null,
      "outputs": []
    }
  ]
}